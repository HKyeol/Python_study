{
  "nbformat": 4,
  "nbformat_minor": 0,
  "metadata": {
    "colab": {
      "name": "201214리스트,사전.ipynb",
      "provenance": [],
      "authorship_tag": "ABX9TyO4YKLi+sabzZ9Jk1bS+C82",
      "include_colab_link": true
    },
    "kernelspec": {
      "name": "python3",
      "display_name": "Python 3"
    }
  },
  "cells": [
    {
      "cell_type": "markdown",
      "metadata": {
        "id": "view-in-github",
        "colab_type": "text"
      },
      "source": [
        "<a href=\"https://colab.research.google.com/github/HKyeol/Python_study/blob/master/201214%EB%A6%AC%EC%8A%A4%ED%8A%B8%2C%EC%82%AC%EC%A0%84.ipynb\" target=\"_parent\"><img src=\"https://colab.research.google.com/assets/colab-badge.svg\" alt=\"Open In Colab\"/></a>"
      ]
    },
    {
      "cell_type": "markdown",
      "metadata": {
        "id": "3JeDao0ywFBM"
      },
      "source": [
        "# 118. 리스트의 모든 요소의 합 구하기(sum)\r\n",
        "\r\n",
        "파이썬 내장 함수 sum()을 이용해 list의 모든 요소의 합을 출력합니다.  \r\n",
        "\r\n",
        "예제:"
      ]
    },
    {
      "cell_type": "code",
      "metadata": {
        "colab": {
          "base_uri": "https://localhost:8080/"
        },
        "id": "EOo3KXirwSmX",
        "outputId": "e2e08409-b3fd-438e-e460-6db19018e3a4"
      },
      "source": [
        "listdata = [2,2,1,3,8,4,3,9,2,20]\r\n",
        "result = sum(listdata)\r\n",
        "result"
      ],
      "execution_count": null,
      "outputs": [
        {
          "output_type": "execute_result",
          "data": {
            "text/plain": [
              "54"
            ]
          },
          "metadata": {
            "tags": []
          },
          "execution_count": 5
        }
      ]
    },
    {
      "cell_type": "markdown",
      "metadata": {
        "id": "8KNAvuQFwaB3"
      },
      "source": [
        "문제351. 아래의 리스트의 짝수 번째 요소의 합을 출력하시오!"
      ]
    },
    {
      "cell_type": "code",
      "metadata": {
        "colab": {
          "base_uri": "https://localhost:8080/"
        },
        "id": "4Vx4h12xwi8n",
        "outputId": "ddad3a9c-0da3-4e51-9636-2c431e51c67b"
      },
      "source": [
        "listdata = [2,2,1,3,8,4,3,9,2,20]\r\n",
        "result = listdata[1::2]  # 이거 몰라서 틀렸다.\r\n",
        "result"
      ],
      "execution_count": null,
      "outputs": [
        {
          "output_type": "execute_result",
          "data": {
            "text/plain": [
              "[2, 3, 4, 9, 20]"
            ]
          },
          "metadata": {
            "tags": []
          },
          "execution_count": 12
        }
      ]
    },
    {
      "cell_type": "markdown",
      "metadata": {
        "id": "f_ujRLTMxN0A"
      },
      "source": [
        "문제352. (알고리즘 문제) 아래의 리스트에 1부터 10까지의 숫자중에 없는 숫자가 하나 있다. 그 없는 숫자는 무엇인가"
      ]
    },
    {
      "cell_type": "code",
      "metadata": {
        "colab": {
          "base_uri": "https://localhost:8080/"
        },
        "id": "d8hlh859xZH5",
        "outputId": "798aea50-1ee9-4b84-a0bf-1eb2afe5dc54"
      },
      "source": [
        "a = [2,1,5,4,6,7,9,10,3]\r\n",
        "for i in range(1,11):\r\n",
        "    if i not in a:\r\n",
        "        print(i)\r\n",
        "### 정답\r\n",
        "result = sum(range(1,11)) - sum(a)\r\n",
        "print(result) # 와;;;"
      ],
      "execution_count": null,
      "outputs": [
        {
          "output_type": "stream",
          "text": [
            "8\n",
            "8\n"
          ],
          "name": "stdout"
        }
      ]
    },
    {
      "cell_type": "code",
      "metadata": {
        "id": "JR4SqxNZyRNu"
      },
      "source": [
        "import random\r\n",
        "a = range(1,11)\r\n",
        "for i in a:\r\n",
        "    r\r\n"
      ],
      "execution_count": null,
      "outputs": []
    },
    {
      "cell_type": "markdown",
      "metadata": {
        "id": "_1w1FrOByEyu"
      },
      "source": [
        "# 119. 리스트 요소가 모두 참인자 확인하기(all,any)\r\n",
        "\r\n",
        "리스트의 모든 요소가 참인지 또는 모든 요소가 거짓인지 판단해야 하는 경우, 파이썬 내장함수 all()이나 any()를 사용하면 됩니다.  \r\n",
        "all()은 인자로 입력되는 리스트의 모든 요소가 참인 경우에만 True를 리턴하고 거짓이 하나라도 포함되어져 있으면 False를 리턴합니다.  \r\n",
        "이와는 달리 any()는 인자로 입력되는 리스트의 모든 요소가 거짓인 경우에만 False를 리턴하고 참이 하나라도 존재하면 True를 리턴합니다.  \r\n",
        "\r\n",
        "예:"
      ]
    },
    {
      "cell_type": "code",
      "metadata": {
        "colab": {
          "base_uri": "https://localhost:8080/"
        },
        "id": "clo8bbw4yuk0",
        "outputId": "d0cdfceb-bc35-4079-a01d-28d9f8361082"
      },
      "source": [
        "listdata1 = [True, True, True]\r\n",
        "listdata2 = [True, False, True]\r\n",
        "print(all(listdata1))\r\n",
        "print(all(listdata2))\r\n",
        "print(any(listdata1))\r\n",
        "print(any(listdata2))"
      ],
      "execution_count": null,
      "outputs": [
        {
          "output_type": "stream",
          "text": [
            "True\n",
            "False\n",
            "True\n",
            "True\n"
          ],
          "name": "stdout"
        }
      ]
    },
    {
      "cell_type": "markdown",
      "metadata": {
        "id": "xcEqVMfazKIP"
      },
      "source": [
        "예제1. "
      ]
    },
    {
      "cell_type": "code",
      "metadata": {
        "colab": {
          "base_uri": "https://localhost:8080/"
        },
        "id": "46_He63OuuNN",
        "outputId": "68452c49-104e-46fc-8750-7c9078299536"
      },
      "source": [
        "listdata1 = [1,1,1]\r\n",
        "listdata2 = [1,0,1]\r\n",
        "print(all(listdata1))\r\n",
        "print(all(listdata2))\r\n",
        "print(any(listdata1))\r\n",
        "print(any(listdata2))"
      ],
      "execution_count": null,
      "outputs": [
        {
          "output_type": "stream",
          "text": [
            "True\n",
            "False\n",
            "True\n",
            "True\n"
          ],
          "name": "stdout"
        }
      ]
    },
    {
      "cell_type": "markdown",
      "metadata": {
        "id": "zBJQ8EB2zftv"
      },
      "source": [
        "설명: True는 숫자로는 1이고 False는 숫자로는 0입니다.  \r\n",
        "\r\n",
        "문제353. while loop문을 이용해서 무한루프문을 수행하시오."
      ]
    },
    {
      "cell_type": "code",
      "metadata": {
        "id": "GqSYUunjzyb6"
      },
      "source": [
        "while True:\r\n",
        "    print('aaaaaaaaaaaa') # 종료를 안 써서 무한루프 돈다."
      ],
      "execution_count": null,
      "outputs": []
    },
    {
      "cell_type": "markdown",
      "metadata": {
        "id": "hlDIRVEU0P7L"
      },
      "source": [
        "문제354. 이번에는 위의 True 대신에 숫자 1을 넣고 무한루프문을 수행하시오."
      ]
    },
    {
      "cell_type": "code",
      "metadata": {
        "id": "iHoqtV5S0U6s"
      },
      "source": [
        "while 1:\r\n",
        "    print('aaaaaaaaaaaa') # 종료를 안 써서 무한루프 돈다."
      ],
      "execution_count": null,
      "outputs": []
    },
    {
      "cell_type": "markdown",
      "metadata": {
        "id": "Wy8uUewP0S_s"
      },
      "source": [
        "# 120. 사전에 요소 추가하기\r\n",
        "\r\n",
        "파이썬 책 큰 목자:  \r\n",
        "```\r\n",
        "1. 문자형과 문자열 함수들\r\n",
        "2. 숫자형과 숫자형 함수들        + if와 loop문       \r\n",
        "3. 리스트형과 리스트형 함수들    + 모듈과 클래스\r\n",
        "4. 사전형과 사전형 함수들\r\n",
        "            +\r\n",
        "판다스 사용법, 웹 스크롤링  <--- 데이터 분석가 필수기술\r\n",
        "```\r\n",
        "\r\n",
        "사전형은 키:값으로 되어진 요소로 구성되어 있습니다.  \r\n",
        "사전형은 리스트형처럼 인덱스번호로 요소를 접근하는게 아니라 키 값으로 요소의 값에 접근합니다.  \r\n",
        "\r\n",
        "예제:"
      ]
    },
    {
      "cell_type": "code",
      "metadata": {
        "colab": {
          "base_uri": "https://localhost:8080/"
        },
        "id": "tOx7kENu06I7",
        "outputId": "5f2b4d8b-ab3d-48ae-e9c4-e80351c8c519"
      },
      "source": [
        "sol = {} # 중괄호를 써서 비어있는 딕셔너리를 생성합니다.\r\n",
        "sol['태양'] = 'sun'\r\n",
        "print(sol)\r\n",
        "sol['수성'] = 'mercury'\r\n",
        "sol['금성'] = 'venus'\r\n",
        "sol"
      ],
      "execution_count": null,
      "outputs": [
        {
          "output_type": "stream",
          "text": [
            "{'태양': 'sun'}\n"
          ],
          "name": "stdout"
        },
        {
          "output_type": "execute_result",
          "data": {
            "text/plain": [
              "{'금성': 'venus', '수성': 'mercury', '태양': 'sun'}"
            ]
          },
          "metadata": {
            "tags": []
          },
          "execution_count": 27
        }
      ]
    },
    {
      "cell_type": "markdown",
      "metadata": {
        "id": "t7tyBDN12c4_"
      },
      "source": [
        "문제355. 아래의 2개의 리스트를 가지고 sol 딕셔너리를 생성하시오!"
      ]
    },
    {
      "cell_type": "code",
      "metadata": {
        "colab": {
          "base_uri": "https://localhost:8080/"
        },
        "id": "pT_28mMT2cj5",
        "outputId": "8da03f9f-92a8-4cb1-e0d5-cb1cf6bf50d0"
      },
      "source": [
        "sol_eng = ['sun','mercury','venus','earth','mars']\r\n",
        "sol_kor = ['태양', '수성', '금성','지구','화성']\r\n",
        "for i, k in zip(sol_kor, sol_eng):\r\n",
        "    sol[i] = k\r\n",
        "print(sol)"
      ],
      "execution_count": null,
      "outputs": [
        {
          "output_type": "stream",
          "text": [
            "{'태양': 'sun', '수성': 'mercury', '금성': 'venus', '지구': 'earth', '화성': 'mars'}\n"
          ],
          "name": "stdout"
        }
      ]
    },
    {
      "cell_type": "markdown",
      "metadata": {
        "id": "j94snHWc7Kv8"
      },
      "source": [
        "# 121. 사전의 특정 요소값 변경하기\r\n",
        "\r\n",
        "사전 자료형의 특정 요소값을 변경하는 방법은 다음과 같습니다.  \r\n",
        "\r\n",
        "예제:사전형이름['키값'] = '값'  "
      ]
    },
    {
      "cell_type": "code",
      "metadata": {
        "colab": {
          "base_uri": "https://localhost:8080/"
        },
        "id": "gSWme7vC7iyh",
        "outputId": "5ac14ebc-446c-48b2-d547-1bb36cebbcb7"
      },
      "source": [
        "sol['태양'] = 'aaaaa'\r\n",
        "print(sol)"
      ],
      "execution_count": null,
      "outputs": [
        {
          "output_type": "stream",
          "text": [
            "{'태양': 'aaaaa', '수성': 'mercury', '금성': 'venus', '지구': 'earth', '화성': 'mars'}\n"
          ],
          "name": "stdout"
        }
      ]
    },
    {
      "cell_type": "markdown",
      "metadata": {
        "id": "owp9G5_B7heo"
      },
      "source": [
        "문제356. 아래의 딕셔너리의 값 중에 Fire를 피땀눈물로 변경하시오."
      ]
    },
    {
      "cell_type": "code",
      "metadata": {
        "colab": {
          "base_uri": "https://localhost:8080/"
        },
        "id": "hUO588237xV_",
        "outputId": "99c83f0a-6bec-4dd9-ca13-f3e5edf818dc"
      },
      "source": [
        "dict1 = {'방탄소년단':'Fire','소녀시대':'Gee'}\r\n",
        "dict1['방탄소년단']='피땀눈물'\r\n",
        "print(dict1)"
      ],
      "execution_count": null,
      "outputs": [
        {
          "output_type": "stream",
          "text": [
            "{'방탄소년단': '피땀눈물', '소녀시대': 'Gee'}\n"
          ],
          "name": "stdout"
        }
      ]
    },
    {
      "cell_type": "markdown",
      "metadata": {
        "id": "4icD8CKw7xEv"
      },
      "source": [
        "문제357. 아래의 딕셔너리 값중에서 Fire를 피땀눈물로 변경하시오."
      ]
    },
    {
      "cell_type": "code",
      "metadata": {
        "colab": {
          "base_uri": "https://localhost:8080/"
        },
        "id": "vvakjgHc8VZ-",
        "outputId": "ba1961ff-5e7b-4b78-f767-bf42f607582b"
      },
      "source": [
        "dict1 = {'소녀시대':['다시만난세계','Gee'], \\\r\n",
        "        '방탄소년단':['DNA','Fire']}\r\n",
        "dict1['방탄소년단'][1] = '피땀눈물'\r\n",
        "dict1"
      ],
      "execution_count": null,
      "outputs": [
        {
          "output_type": "execute_result",
          "data": {
            "text/plain": [
              "{'방탄소년단': ['DNA', '피땀눈물'], '소녀시대': ['다시만난세계', 'Gee']}"
            ]
          },
          "metadata": {
            "tags": []
          },
          "execution_count": 57
        }
      ]
    },
    {
      "cell_type": "code",
      "metadata": {
        "colab": {
          "base_uri": "https://localhost:8080/"
        },
        "id": "Pc3C9bSP8am0",
        "outputId": "4cbdc3b8-d2db-4c27-b425-9d95a2cf93e9"
      },
      "source": [
        "dict1 = {'소녀시대':['다시만난세계','Gee'], \\\r\n",
        "        '방탄소년단':['DNA','Fire']}\r\n",
        "for i,k in enumerate(dict1['방탄소년단']):\r\n",
        "    if k == 'Fire':\r\n",
        "        dict1['방탄소년단'][i] = '피땀눈물'\r\n",
        "print(dict1)"
      ],
      "execution_count": null,
      "outputs": [
        {
          "output_type": "stream",
          "text": [
            "{'소녀시대': ['다시만난세계', 'Gee'], '방탄소년단': ['DNA', '피땀눈물']}\n"
          ],
          "name": "stdout"
        }
      ]
    },
    {
      "cell_type": "markdown",
      "metadata": {
        "id": "xHonLrQd9ZhN"
      },
      "source": [
        "# 122. 사전의 특정 요소 제거하기(del)  \r\n",
        "\r\n",
        "사전 dict에서 특정요소 key:value를 제거하는 방법은 다음과 같습니다.  \r\n",
        "\r\n",
        "예제:"
      ]
    },
    {
      "cell_type": "code",
      "metadata": {
        "colab": {
          "base_uri": "https://localhost:8080/"
        },
        "id": "lK-nvEUg9zi7",
        "outputId": "f7189d84-40f9-41fe-a4c8-22e084e12b88"
      },
      "source": [
        "sol = {'태양':'sun','수성':'mercury','금성':'venus','지구':'earth','화성':'mars'}\r\n",
        "print(sol)\r\n",
        "del sol['태양'] # 괄호를 안 쳐도 되네?\r\n",
        "print(sol)"
      ],
      "execution_count": null,
      "outputs": [
        {
          "output_type": "stream",
          "text": [
            "{'태양': 'sun', '수성': 'mercury', '금성': 'venus', '지구': 'earth', '화성': 'mars'}\n",
            "{'수성': 'mercury', '금성': 'venus', '지구': 'earth', '화성': 'mars'}\n"
          ],
          "name": "stdout"
        }
      ]
    },
    {
      "cell_type": "markdown",
      "metadata": {
        "id": "t6O6zhEq-F3j"
      },
      "source": [
        "문제358. 아래의 딕셔너리에서 다시만난세계의 값만 지우시오."
      ]
    },
    {
      "cell_type": "code",
      "metadata": {
        "colab": {
          "base_uri": "https://localhost:8080/"
        },
        "id": "gStzcOEv-PTR",
        "outputId": "50bfe0a0-d9d2-47e0-cc4d-43d942f3117f"
      },
      "source": [
        "dict1 = {'소녀시대':['다시만난세계','Gee'],'방탄소년단':['DNA','Fire']}\r\n",
        "del dict1['소녀시대'][0]\r\n",
        "dict1\r\n",
        "\r\n",
        "dict1 = {'소녀시대':['다시만난세계','Gee'],'방탄소년단':['DNA','Fire']}\r\n",
        "for i, k in enumerate(dict1['소녀시대']):\r\n",
        "#    print(dict1['소녀시대'][i])\r\n",
        "    if dict1['소녀시대'][i] == '다시만난세계':\r\n",
        "        del dict1['소녀시대'][i]\r\n",
        "print(dict1)"
      ],
      "execution_count": null,
      "outputs": [
        {
          "output_type": "stream",
          "text": [
            "{'소녀시대': ['Gee'], '방탄소년단': ['DNA', 'Fire']}\n"
          ],
          "name": "stdout"
        }
      ]
    },
    {
      "cell_type": "markdown",
      "metadata": {
        "id": "aQm0aIpW-98i"
      },
      "source": [
        "# 123. 사전의 모든 요소 제거하기(clear)\r\n",
        "\r\n",
        "사전의 모든 요소를 제거하여 빈 사전으로 반드는 방법은 사전 객체의 clear() 메소드를 이용하면 됩니다.  \r\n",
        "\r\n",
        "예제:"
      ]
    },
    {
      "cell_type": "code",
      "metadata": {
        "colab": {
          "base_uri": "https://localhost:8080/"
        },
        "id": "a9dqTZyl_DzF",
        "outputId": "7bbceb90-d7f6-4462-ea8e-f2039727c2dc"
      },
      "source": [
        "dict1 = {'소녀시대':['다시만난세계','Gee'],'방탄소년단':['DNA','Fire']}\r\n",
        "dict1.clear()\r\n",
        "dict1"
      ],
      "execution_count": null,
      "outputs": [
        {
          "output_type": "execute_result",
          "data": {
            "text/plain": [
              "{}"
            ]
          },
          "metadata": {
            "tags": []
          },
          "execution_count": 89
        }
      ]
    },
    {
      "cell_type": "markdown",
      "metadata": {
        "id": "0huhmvTE_c1n"
      },
      "source": [
        "문제359. 위와 같이 딕셔너리의 요소를 지우는게 아니라 딕셔너리 자체를 메모리에서 지우려면 어떻게 해야하는가?"
      ]
    },
    {
      "cell_type": "code",
      "metadata": {
        "colab": {
          "base_uri": "https://localhost:8080/",
          "height": 208
        },
        "id": "OWIjZvy6_h3c",
        "outputId": "9f29398d-a9dc-4f18-8547-8168651c45ba"
      },
      "source": [
        "dict1 = {'소녀시대':['다시만난세계','Gee'],'방탄소년단':['DNA','Fire']}\r\n",
        "del dict1\r\n",
        "dict1"
      ],
      "execution_count": null,
      "outputs": [
        {
          "output_type": "error",
          "ename": "NameError",
          "evalue": "ignored",
          "traceback": [
            "\u001b[0;31m---------------------------------------------------------------------------\u001b[0m",
            "\u001b[0;31mNameError\u001b[0m                                 Traceback (most recent call last)",
            "\u001b[0;32m<ipython-input-88-8e6754c1c637>\u001b[0m in \u001b[0;36m<module>\u001b[0;34m()\u001b[0m\n\u001b[1;32m      1\u001b[0m \u001b[0mdict1\u001b[0m \u001b[0;34m=\u001b[0m \u001b[0;34m{\u001b[0m\u001b[0;34m'소녀시대'\u001b[0m\u001b[0;34m:\u001b[0m\u001b[0;34m[\u001b[0m\u001b[0;34m'다시만난세계'\u001b[0m\u001b[0;34m,\u001b[0m\u001b[0;34m'Gee'\u001b[0m\u001b[0;34m]\u001b[0m\u001b[0;34m,\u001b[0m\u001b[0;34m'방탄소년단'\u001b[0m\u001b[0;34m:\u001b[0m\u001b[0;34m[\u001b[0m\u001b[0;34m'DNA'\u001b[0m\u001b[0;34m,\u001b[0m\u001b[0;34m'Fire'\u001b[0m\u001b[0;34m]\u001b[0m\u001b[0;34m}\u001b[0m\u001b[0;34m\u001b[0m\u001b[0;34m\u001b[0m\u001b[0m\n\u001b[1;32m      2\u001b[0m \u001b[0;32mdel\u001b[0m \u001b[0mdict1\u001b[0m\u001b[0;34m\u001b[0m\u001b[0;34m\u001b[0m\u001b[0m\n\u001b[0;32m----> 3\u001b[0;31m \u001b[0mdict1\u001b[0m\u001b[0;34m\u001b[0m\u001b[0;34m\u001b[0m\u001b[0m\n\u001b[0m",
            "\u001b[0;31mNameError\u001b[0m: name 'dict1' is not defined"
          ]
        }
      ]
    },
    {
      "cell_type": "markdown",
      "metadata": {
        "id": "5Ps8Rkwe_2oE"
      },
      "source": [
        "# 124. 사전에서 키만 추출하기(keys)\r\n",
        "\r\n",
        "아래의 사전에서 key만 추출하고 싶으면 사전이름.keys()라고 하면 됩니다."
      ]
    },
    {
      "cell_type": "code",
      "metadata": {
        "colab": {
          "base_uri": "https://localhost:8080/"
        },
        "id": "tN1HPdEYAKcc",
        "outputId": "8a4aa403-5ab2-4b87-d145-90fcb2b36220"
      },
      "source": [
        "sol = {'태양':'sun','수성':'mercury','금성':'venus','지구':'earth','화성':'mars'}\r\n",
        "print(sol.keys())"
      ],
      "execution_count": null,
      "outputs": [
        {
          "output_type": "stream",
          "text": [
            "dict_keys(['태양', '수성', '금성', '지구', '화성'])\n"
          ],
          "name": "stdout"
        }
      ]
    },
    {
      "cell_type": "markdown",
      "metadata": {
        "id": "vuRveV2GAOub"
      },
      "source": [
        "문제360. 위의 sol 사전에 있는 키를 추출해서 아래와 같이 결과를 출력하시오.  \r\n",
        "\r\n",
        "결과: 태양, 수성, 금성, 지구, 화성"
      ]
    },
    {
      "cell_type": "code",
      "metadata": {
        "colab": {
          "base_uri": "https://localhost:8080/"
        },
        "id": "p7UtK6I5AYeF",
        "outputId": "fb809460-a220-40df-9a94-0f4738a1d2ae"
      },
      "source": [
        "sol = {'태양':'sun','수성':'mercury','금성':'venus','지구':'earth','화성':'mars'}\r\n",
        "print(list(sol.keys()))\r\n",
        "# 정답\r\n",
        "for i in sol.keys():\r\n",
        "    print(i, end=', ')"
      ],
      "execution_count": null,
      "outputs": [
        {
          "output_type": "stream",
          "text": [
            "dict_keys(['태양', '수성', '금성', '지구', '화성'])\n",
            "태양, 수성, 금성, 지구, 화성, "
          ],
          "name": "stdout"
        }
      ]
    },
    {
      "cell_type": "markdown",
      "metadata": {
        "id": "LDuuarxWBYVa"
      },
      "source": [
        "설명: print의 end 옵션에 준 구분자로 값들을 가로로 출력하면서 구분자로 구분해줍니다.  \r\n",
        "\r\n",
        "문제361. 위의 결과에서 맨 끝에 있는 콤마(,)는 출력되지 않게 하시오!"
      ]
    },
    {
      "cell_type": "code",
      "metadata": {
        "colab": {
          "base_uri": "https://localhost:8080/"
        },
        "id": "MhF4VkxPB1wl",
        "outputId": "2df15142-427b-4d5a-953b-aa89b39aabe7"
      },
      "source": [
        "sol = {'태양':'sun','수성':'mercury','금성':'venus','지구':'earth','화성':'mars'}\r\n",
        "\r\n",
        "#for i in sol.keys():\r\n",
        "#    print(i,end = ', ')\r\n",
        "\r\n",
        "for i in list(sol)[:-1]:\r\n",
        "    print(i,end=', ')\r\n",
        "print(list(sol)[-1])"
      ],
      "execution_count": null,
      "outputs": [
        {
          "output_type": "stream",
          "text": [
            "태양, 수성, 금성, 지구, 화성\n"
          ],
          "name": "stdout"
        }
      ]
    },
    {
      "cell_type": "code",
      "metadata": {
        "colab": {
          "base_uri": "https://localhost:8080/"
        },
        "id": "4VRF_FZOGgzk",
        "outputId": "b5bf6148-b677-4435-837c-4d5e3e808572"
      },
      "source": [
        "sol ={'태양':'sun','수성': 'mercury', '금성': 'venus', '지구': 'earth', '화성': 'mars', '태양': 'sun'}\r\n",
        "print(','.join(sol.keys()))"
      ],
      "execution_count": null,
      "outputs": [
        {
          "output_type": "stream",
          "text": [
            "태양,수성,금성,지구,화성\n"
          ],
          "name": "stdout"
        }
      ]
    },
    {
      "cell_type": "markdown",
      "metadata": {
        "id": "zPRO3M2uDD1d"
      },
      "source": [
        "# 125. 사전에서 값만 추출하기(values) \r\n",
        "\r\n",
        "아래의 사전형에서 값에 해당하는 부분만 추출하려면 사전형이름.values()를 사용하면 됩니다.  \r\n",
        "\r\n",
        "문제362. 아래의 sol 딕셔너리에서 값들만 아래와 같이 출력하시오!  \r\n",
        "```\r\n",
        "sol = {'태양':'sun','수성':'mercury','금성':'venus','지구':'earth','화성':'mars'}\r\n",
        "\r\n",
        "결과: sun, mersury, ... ,\r\n",
        "```"
      ]
    },
    {
      "cell_type": "code",
      "metadata": {
        "colab": {
          "base_uri": "https://localhost:8080/",
          "height": 208
        },
        "id": "p_wNT36xDmPx",
        "outputId": "bafffe6f-ab4e-43a8-fb79-67a8aabdd0b4"
      },
      "source": [
        "sol = {'태양':'sun','수성':'mercury','금성':'venus','지구':'earth','화성':'mars'}\r\n",
        "for i in sol.values():\r\n",
        "    print(i, end=', ')"
      ],
      "execution_count": null,
      "outputs": [
        {
          "output_type": "error",
          "ename": "KeyError",
          "evalue": "ignored",
          "traceback": [
            "\u001b[0;31m---------------------------------------------------------------------------\u001b[0m",
            "\u001b[0;31mKeyError\u001b[0m                                  Traceback (most recent call last)",
            "\u001b[0;32m<ipython-input-235-42841e9f7c5f>\u001b[0m in \u001b[0;36m<module>\u001b[0;34m()\u001b[0m\n\u001b[1;32m      1\u001b[0m \u001b[0msol\u001b[0m \u001b[0;34m=\u001b[0m \u001b[0;34m{\u001b[0m\u001b[0;34m'태양'\u001b[0m\u001b[0;34m:\u001b[0m\u001b[0;34m'sun'\u001b[0m\u001b[0;34m,\u001b[0m\u001b[0;34m'수성'\u001b[0m\u001b[0;34m:\u001b[0m\u001b[0;34m'mercury'\u001b[0m\u001b[0;34m,\u001b[0m\u001b[0;34m'금성'\u001b[0m\u001b[0;34m:\u001b[0m\u001b[0;34m'venus'\u001b[0m\u001b[0;34m,\u001b[0m\u001b[0;34m'지구'\u001b[0m\u001b[0;34m:\u001b[0m\u001b[0;34m'earth'\u001b[0m\u001b[0;34m,\u001b[0m\u001b[0;34m'화성'\u001b[0m\u001b[0;34m:\u001b[0m\u001b[0;34m'mars'\u001b[0m\u001b[0;34m}\u001b[0m\u001b[0;34m\u001b[0m\u001b[0;34m\u001b[0m\u001b[0m\n\u001b[0;32m----> 2\u001b[0;31m \u001b[0;32mfor\u001b[0m \u001b[0mi\u001b[0m \u001b[0;32min\u001b[0m \u001b[0msol\u001b[0m\u001b[0;34m[\u001b[0m\u001b[0;36m0\u001b[0m\u001b[0;34m]\u001b[0m\u001b[0;34m:\u001b[0m\u001b[0;34m\u001b[0m\u001b[0;34m\u001b[0m\u001b[0m\n\u001b[0m\u001b[1;32m      3\u001b[0m     \u001b[0mprint\u001b[0m\u001b[0;34m(\u001b[0m\u001b[0mi\u001b[0m\u001b[0;34m,\u001b[0m \u001b[0mend\u001b[0m\u001b[0;34m=\u001b[0m\u001b[0;34m', '\u001b[0m\u001b[0;34m)\u001b[0m\u001b[0;34m\u001b[0m\u001b[0;34m\u001b[0m\u001b[0m\n",
            "\u001b[0;31mKeyError\u001b[0m: 0"
          ]
        }
      ]
    },
    {
      "cell_type": "markdown",
      "metadata": {
        "id": "QqeAs93WEbZi"
      },
      "source": [
        "문제363. 아래의 gini 딕셔너리에서 값만 추출하시오!\r\n",
        "```\r\n",
        "결과\r\n",
        "[yesterday','imagine']\r\n",
        "너랑나 마쉬멜로우\r\n",
        "beat it smooth criminal\r\n",
        "```"
      ]
    },
    {
      "cell_type": "code",
      "metadata": {
        "colab": {
          "base_uri": "https://localhost:8080/"
        },
        "id": "4uCeqtS-Eh7f",
        "outputId": "333e807d-2b6c-4566-ac99-9524a32c8bfe"
      },
      "source": [
        "gini = {'비틀즈': ['yesterday', 'imagine'], '아이유': ['너랑나', '마슈멜로우'], '마이클 잭슨': ['beat it', 'smooth criminal']}\r\n",
        "for i in gini.values():\r\n",
        "    print(i)\r\n"
      ],
      "execution_count": null,
      "outputs": [
        {
          "output_type": "stream",
          "text": [
            "['yesterday', 'imagine']\n",
            "['너랑나', '마슈멜로우']\n",
            "['beat it', 'smooth criminal']\n"
          ],
          "name": "stdout"
        }
      ]
    },
    {
      "cell_type": "markdown",
      "metadata": {
        "id": "hWoRgfHeE_DF"
      },
      "source": [
        "문제364. 위의 결과를 다시 출력하는데 결과 리스트 3개 중에 0번째 요소만 출력하시오!"
      ]
    },
    {
      "cell_type": "code",
      "metadata": {
        "colab": {
          "base_uri": "https://localhost:8080/"
        },
        "id": "FcCAyiR9FKoE",
        "outputId": "7b1b3c89-ea4c-446c-ce40-d3a91cbae910"
      },
      "source": [
        "gini = {'비틀즈': ['yesterday', 'imagine'], '아이유': ['너랑나', '마슈멜로우'], '마이클 잭슨': ['beat it', 'smooth criminal']}\r\n",
        "for i in gini.values():\r\n",
        "    print(i[0],end =', ')"
      ],
      "execution_count": null,
      "outputs": [
        {
          "output_type": "stream",
          "text": [
            "yesterday, 너랑나, beat it, "
          ],
          "name": "stdout"
        }
      ]
    },
    {
      "cell_type": "markdown",
      "metadata": {
        "id": "MmDXH-ZNKMhG"
      },
      "source": [
        "문제365. 지난주 목요일 마지막 문제의 자신의 답을 가져와서 gini 딕셔너리에서 음악만 출력하는데 아티스트별로 노래가 겹치지 않게 출력하시오!"
      ]
    },
    {
      "cell_type": "code",
      "metadata": {
        "colab": {
          "base_uri": "https://localhost:8080/"
        },
        "id": "kFsX-LCUKW9R",
        "outputId": "31c64429-2d94-48c1-baf1-f29a7ebf5990"
      },
      "source": [
        "gini = {'비틀즈': ['yesterday', 'imagine'], '아이유': ['너랑나', '마슈멜로우'], '마이클 잭슨': ['beat it', 'smooth criminal']}\r\n",
        "\r\n",
        "a = []\r\n",
        "\r\n",
        "for q in range(2):\r\n",
        "    for j in gini.values():\r\n",
        "        a.append(j[q])\r\n",
        "print(', '.join(a))"
      ],
      "execution_count": null,
      "outputs": [
        {
          "output_type": "stream",
          "text": [
            "yesterday, 너랑나, beat it, imagine, 마슈멜로우, smooth criminal\n"
          ],
          "name": "stdout"
        }
      ]
    },
    {
      "cell_type": "markdown",
      "metadata": {
        "id": "kR2gTSAwMBwR"
      },
      "source": [
        "문제366. 아래의 gini 딕셔너리의 값들의 리스트를 아래의 결과처럼 리스트에 담으시오!  \r\n",
        "```\r\n",
        "결과 : [['yesterday','imagine'],['너랑 나','마쉬멜로우'],['beat it', 'smooth criminal']]\r\n",
        "```"
      ]
    },
    {
      "cell_type": "code",
      "metadata": {
        "colab": {
          "base_uri": "https://localhost:8080/"
        },
        "id": "-bZb_4DXMgXO",
        "outputId": "fc25a3eb-4bfd-4e3d-d3a5-f8653844129e"
      },
      "source": [
        "gini = {'비틀즈': ['yesterday', 'imagine'], '아이유': ['너랑나', '마쉬멜로우'], '마이클 잭슨': ['beat it', 'smooth criminal']}\r\n",
        "gini2 = list(gini.values())\r\n",
        "print(gini2)"
      ],
      "execution_count": null,
      "outputs": [
        {
          "output_type": "stream",
          "text": [
            "[['yesterday', 'imagine'], ['너랑나', '마쉬멜로우'], ['beat it', 'smooth criminal']]\n"
          ],
          "name": "stdout"
        }
      ]
    },
    {
      "cell_type": "markdown",
      "metadata": {
        "id": "lvXtjKYRNai3"
      },
      "source": [
        "문제367. 위에서 출력된 gini2 리스트의 요소들을 shuffle로 섞어보시오!"
      ]
    },
    {
      "cell_type": "code",
      "metadata": {
        "colab": {
          "base_uri": "https://localhost:8080/"
        },
        "id": "1vGVgMC-Nj6t",
        "outputId": "99cc3fe2-3e84-4249-f08f-7e2e815fc896"
      },
      "source": [
        "from random import shuffle\r\n",
        "\r\n",
        "shuffle(gini2)\r\n",
        "gini2"
      ],
      "execution_count": null,
      "outputs": [
        {
          "output_type": "execute_result",
          "data": {
            "text/plain": [
              "[['너랑나', '마쉬멜로우'], ['beat it', 'smooth criminal'], ['yesterday', 'imagine']]"
            ]
          },
          "metadata": {
            "tags": []
          },
          "execution_count": 271
        }
      ]
    },
    {
      "cell_type": "markdown",
      "metadata": {
        "id": "rekra2zrLhRq"
      },
      "source": [
        "문제367.(점심시간문제)  \r\n",
        "지난시간 만들었던 마지막 문제의 자신의 답과 리스트의 요소를 무작위로 섞는 shuffle 함수를 이용해서 코드를 수행할 때마다 곡이 무작위로 섞여서 출력되게 하시오!(단, 조건은 아티스트별로 노래가 겹치면 안된다. 바로 음악 바로 옆에 다른 아티스트의 노래가 나와야 합니다.)"
      ]
    },
    {
      "cell_type": "markdown",
      "metadata": {
        "id": "YzzgwbfbNCIs"
      },
      "source": [
        "```\r\n",
        "알고리즘 - 뒤의 아티스트와 겹치면 안된다.\r\n",
        "max노래  나머지 총합\r\n",
        "     2       1\r\n",
        "     3       2\r\n",
        "     4                   \r\n",
        " ```"
      ]
    },
    {
      "cell_type": "code",
      "metadata": {
        "colab": {
          "base_uri": "https://localhost:8080/"
        },
        "id": "XEuQIpLVcdqC",
        "outputId": "9c9fcba3-e196-4e30-92ff-060e5251de7a"
      },
      "source": [
        "from random import shuffle\r\n",
        "test = 1        # while문 형식 맞춰주느라...\r\n",
        "list_a = [1]    \r\n",
        "while test == list_a[0]: # 마지막부분 중복이 있을 경우 다시 돌림. 여기 알고리즘 수정해야 한다. 노래 숫자가 늘어나면 기하급수적으로 느려질 것\r\n",
        "\r\n",
        "    gini = {'비틀즈': ['yesterday', 'imagine','let it be','dont let me down'], '아이유': ['너랑나', '마쉬멜로우','밤편지'], '마이클 잭슨': ['beat it', 'smooth criminal']} # 노래추가\r\n",
        "    suff = []       # 노래셔플용\r\n",
        "    for i,k in zip(list(gini.values()),list(gini.keys())): # 노래를 셔플해준다.\r\n",
        "        suff = i\r\n",
        "        shuffle(suff)\r\n",
        "        gini[j] = suff\r\n",
        "\r\n",
        "    list_a = list(gini.keys()) # 가수명을 list_a에 저장\r\n",
        "    shuffle(list_a)            # 가수 순서를 셔플\r\n",
        "    end = 0         # while문 돌리는 용               \r\n",
        "    result = []     # 출력용\r\n",
        "    \r\n",
        "    end_num = 0\r\n",
        "    for i in list(gini.values()): # while문을 몇바퀴 돌릴지.\r\n",
        "        end_num += len(i)\r\n",
        "\r\n",
        "    while end != end_num-1:       # 노래가 9곡이라 8번 돌린다.\r\n",
        "        result.append(gini[list_a[0]][0]) # 첫번째가수의 1번노래를 result에 저장\r\n",
        "        test = list_a[0]                  # 첫번째 while 테스트용\r\n",
        "        del gini[list_a[0]][0]            # 저장된 노래를 목록에서 삭제한다.\r\n",
        "        if len(gini[list_a[0]]) == 0:     # 만약 저장된 노래가 없다면 key값도 삭제한다.\r\n",
        "            del gini[list_a[0]]\r\n",
        "            del list_a[0]\r\n",
        "        temp = []                         # 임시저장소\r\n",
        "        temp.append(list_a[0])            \r\n",
        "        list_a = list_a[1:]               # 중복이 되지 않게 나오지 않은 수로 리스트를 구성하고\r\n",
        "        shuffle(list_a)                   # 셔플한다.\r\n",
        "        list_a.append(temp[0])            # 저장소에 저장해둔 이번에 나온 숫자를 다시 추가해준다..\r\n",
        "        end += 1                          # while문 빠져나가는 용\r\n",
        "    result.append(gini[list_a[0]][0])   # ',' 없이 마지막 노래 추가\r\n",
        "print(result)       # 출력\r\n",
        "    \r\n",
        "\r\n"
      ],
      "execution_count": 258,
      "outputs": [
        {
          "output_type": "stream",
          "text": [
            "['마쉬멜로우', 'smooth criminal', 'yesterday', 'beat it', 'dont let me down', '밤편지', 'let it be', '너랑나', 'imagine']\n"
          ],
          "name": "stdout"
        }
      ]
    },
    {
      "cell_type": "code",
      "metadata": {
        "id": "peehod5fxYKg"
      },
      "source": [
        ""
      ],
      "execution_count": null,
      "outputs": []
    },
    {
      "cell_type": "markdown",
      "metadata": {
        "id": "BbQEO9COkVA9"
      },
      "source": [
        "# 126. 사전 요소를 모두 추출하기(items)\r\n",
        "\r\n",
        "딕셔너리 자료형에서 데이터를 추출하는 방법은 다음과 같습니다.\r\n",
        "```\r\n",
        "key만 추출 : dict.keys()\r\n",
        "값만 추출 : dict.values()\r\n",
        "둘 다 추출 : dict.items()\r\n",
        "```\r\n",
        "\r\n",
        "예제:"
      ]
    },
    {
      "cell_type": "code",
      "metadata": {
        "colab": {
          "base_uri": "https://localhost:8080/"
        },
        "id": "GYSR6edBktbj",
        "outputId": "6a7c8753-0e95-4e74-de1f-214d9fb5b811"
      },
      "source": [
        "gini = {'비틀즈': ['yesterday', 'imagine'], '아이유': ['너랑나', '마쉬멜로우'], '마이클 잭슨': ['beat it', 'smooth criminal']}\r\n",
        "print(gini.keys())\r\n",
        "print(gini.values())\r\n",
        "print(gini.items())"
      ],
      "execution_count": null,
      "outputs": [
        {
          "output_type": "stream",
          "text": [
            "dict_keys(['비틀즈', '아이유', '마이클 잭슨'])\n",
            "dict_values([['yesterday', 'imagine'], ['너랑나', '마쉬멜로우'], ['beat it', 'smooth criminal']])\n",
            "dict_items([('비틀즈', ['yesterday', 'imagine']), ('아이유', ['너랑나', '마쉬멜로우']), ('마이클 잭슨', ['beat it', 'smooth criminal'])])\n"
          ],
          "name": "stdout"
        }
      ]
    },
    {
      "cell_type": "markdown",
      "metadata": {
        "id": "Wb-ZN7vilWPp"
      },
      "source": [
        "문제369. 위의 gini 딕셔너리의 items를 뽑아서 리스트에 담으시오."
      ]
    },
    {
      "cell_type": "code",
      "metadata": {
        "colab": {
          "base_uri": "https://localhost:8080/"
        },
        "id": "xd2gKpm_lKza",
        "outputId": "b581db8d-c572-468f-e5d3-f072854380e6"
      },
      "source": [
        "gini = {'비틀즈': ['yesterday', 'imagine'], '아이유': ['너랑나', '마쉬멜로우'], '마이클 잭슨': ['beat it', 'smooth criminal']}\r\n",
        "listgini = list(gini.items())\r\n",
        "listgini"
      ],
      "execution_count": null,
      "outputs": [
        {
          "output_type": "execute_result",
          "data": {
            "text/plain": [
              "[('비틀즈', ['yesterday', 'imagine']),\n",
              " ('아이유', ['너랑나', '마쉬멜로우']),\n",
              " ('마이클 잭슨', ['beat it', 'smooth criminal'])]"
            ]
          },
          "metadata": {
            "tags": []
          },
          "execution_count": 542
        }
      ]
    },
    {
      "cell_type": "markdown",
      "metadata": {
        "id": "LSzcFa2slyqK"
      },
      "source": [
        "문제370. 위의 result에서 음악 첫번째 곡들만 아래와 같이 출력하시오!"
      ]
    },
    {
      "cell_type": "code",
      "metadata": {
        "colab": {
          "base_uri": "https://localhost:8080/"
        },
        "id": "nOT2Ei1BlVE5",
        "outputId": "dbb53d81-0fd2-4062-8a20-b74e1800c60a"
      },
      "source": [
        "for i in listgini:\r\n",
        "    print(i[1][0])"
      ],
      "execution_count": null,
      "outputs": [
        {
          "output_type": "stream",
          "text": [
            "yesterday\n",
            "너랑나\n",
            "beat it\n"
          ],
          "name": "stdout"
        }
      ]
    },
    {
      "cell_type": "markdown",
      "metadata": {
        "id": "r-A_Agt6ktEm"
      },
      "source": [
        "# 127. 사전 정렬하기(sorted)\r\n",
        "\r\n",
        "파이썬 내장함수 sorted()는 사전 자료를 인자로 입력받아 정렬할 수 있습니다. 사전의 각 요소는 키:값으로 되어져 있습니다.  \r\n",
        "sorted() 함수에 사전을 인자로 입력하면 기본적으로 사전의 키를 오름차순으로 정렬한 결과를 리스트로 반환합니다.  \r\n",
        "\r\n",
        "예제:"
      ]
    },
    {
      "cell_type": "code",
      "metadata": {
        "id": "cg1pqOxhnQ-s"
      },
      "source": [
        "dict2 = {'소녀시대':'소원을 말해봐','방탄 소년단':'DNA','오마이걸':'살짝 설렜어'}"
      ],
      "execution_count": null,
      "outputs": []
    },
    {
      "cell_type": "markdown",
      "metadata": {
        "id": "L0SPWGJMoQff"
      },
      "source": [
        "1. 위의 dict2에서 키만 추출"
      ]
    },
    {
      "cell_type": "code",
      "metadata": {
        "colab": {
          "base_uri": "https://localhost:8080/"
        },
        "id": "s8igqGkToQKj",
        "outputId": "f522c362-08e1-455f-a445-ecabe7b35ba6"
      },
      "source": [
        "result = dict2.keys()\r\n",
        "print(sorted(result))"
      ],
      "execution_count": null,
      "outputs": [
        {
          "output_type": "stream",
          "text": [
            "['방탄 소년단', '소녀시대', '오마이걸']\n"
          ],
          "name": "stdout"
        }
      ]
    },
    {
      "cell_type": "markdown",
      "metadata": {
        "id": "LxMmo001nP36"
      },
      "source": [
        "문제371. 위의 결과를 reverse되게 해서 출력하시오!"
      ]
    },
    {
      "cell_type": "code",
      "metadata": {
        "colab": {
          "base_uri": "https://localhost:8080/"
        },
        "id": "NR-76o2no4cK",
        "outputId": "d19a4f8d-696a-4953-bd18-fcb6872af179"
      },
      "source": [
        "print(sorted(result, reverse = True))"
      ],
      "execution_count": null,
      "outputs": [
        {
          "output_type": "stream",
          "text": [
            "['오마이걸', '소녀시대', '방탄 소년단']\n"
          ],
          "name": "stdout"
        }
      ]
    },
    {
      "cell_type": "markdown",
      "metadata": {
        "id": "rvKcOUOopbOo"
      },
      "source": [
        "문제372. 우리반 데이터(emp1222.csv)에서 이름과 통신사를 출력하시오!"
      ]
    },
    {
      "cell_type": "code",
      "metadata": {
        "id": "xU9fwf-fpevz"
      },
      "source": [
        "import csv\r\n",
        "emp = open('emp1222.csv',encoding = 'CP949')\r\n",
        "emp = csv.reader(emp)\r\n",
        "for i in emp:\r\n",
        "    print(i[1],i[5])"
      ],
      "execution_count": null,
      "outputs": []
    },
    {
      "cell_type": "markdown",
      "metadata": {
        "id": "ytcT5N9zrW9u"
      },
      "source": [
        "* defaultdictionary를 이용해서 딕셔너리의 값을 리스트로 구성하는 코드"
      ]
    },
    {
      "cell_type": "code",
      "metadata": {
        "colab": {
          "base_uri": "https://localhost:8080/"
        },
        "id": "FTu5Ldlfragk",
        "outputId": "5bb66be2-e2c5-4e58-c717-0076de0e8239"
      },
      "source": [
        "from  collections  import  defaultdict \r\n",
        "gini = defaultdict(list)\r\n",
        "gini['kt'].append('ㅎㅎ')\r\n",
        "gini['kt'].append('ㅈㄷㅎ')\r\n",
        "gini['sk'].append('ㅂㅎㅈ')\r\n",
        "gini['sk'].append('ㄱㅅㅅ')\r\n",
        "print( gini )"
      ],
      "execution_count": null,
      "outputs": [
        {
          "output_type": "stream",
          "text": [
            "defaultdict(<class 'list'>, {'kt': ['ㅎㅎ', 'ㅈㄷㅎ'], 'sk': ['ㅂㅎㅈ', 'ㄱㅅㅅ']})\n"
          ],
          "name": "stdout"
        }
      ]
    },
    {
      "cell_type": "markdown",
      "metadata": {
        "id": "gkYqhQ0WrrBv"
      },
      "source": [
        "문제373. 우리반 데이터에서 통신사를 key로 하고 학생 이름을 값으로 해서 defaultdictionary를 생성하시오!(default dictionary 이름은 telecom으로 하세요)"
      ]
    },
    {
      "cell_type": "code",
      "metadata": {
        "id": "R7IkkEger1E2"
      },
      "source": [
        "from collections import defaultdict\r\n",
        "telecom = defaultdict(list)\r\n",
        "\r\n",
        "import csv\r\n",
        "emp = open('emp1222.csv',encoding = 'CP949')\r\n",
        "emp = csv.reader(emp)\r\n",
        "for i in emp:\r\n",
        "    telecom[i[5]].append(i[1])\r\n",
        "print(telecom)"
      ],
      "execution_count": null,
      "outputs": []
    },
    {
      "cell_type": "markdown",
      "metadata": {
        "id": "e8zjdfSKr0tW"
      },
      "source": [
        "문제374. 위에서 구성한 telecom 딕셔너리에서 통신사가 kt인 학생들을 출력하는데 이름을 ㄱ ㄴ ㄷ 순으로 정렬해서 출력하시오!"
      ]
    },
    {
      "cell_type": "code",
      "metadata": {
        "id": "Lls21Y27taVt"
      },
      "source": [
        "from collections import defaultdict\r\n",
        "telecom = defaultdict(list)\r\n",
        "\r\n",
        "import csv\r\n",
        "emp = open('emp1222.csv',encoding = 'CP949')\r\n",
        "emp = csv.reader(emp)\r\n",
        "for i in emp:\r\n",
        "    telecom[i[5]].append(i[1])\r\n",
        "result = telecom['kt']\r\n",
        "print(sorted(result))"
      ],
      "execution_count": null,
      "outputs": []
    },
    {
      "cell_type": "markdown",
      "metadata": {
        "id": "tUcn_m8zyaqR"
      },
      "source": [
        "# 128. 문자 코드값 구하기(ord)\r\n",
        "\r\n",
        "파이썬 내장함수 ord()는 문자를 컴퓨터가 인식하는 코드값으로 변환합니다.  \r\n",
        "\r\n",
        "예제:\r\n",
        "```\r\n",
        "A ----------------------> 65\r\n",
        "            인코딩\r\n",
        "```"
      ]
    },
    {
      "cell_type": "code",
      "metadata": {
        "colab": {
          "base_uri": "https://localhost:8080/"
        },
        "id": "FVLH7c7byhe0",
        "outputId": "ccb3f7da-724a-45f4-d4a2-90d7d85571a7"
      },
      "source": [
        "print(ord('A')"
      ],
      "execution_count": null,
      "outputs": [
        {
          "output_type": "stream",
          "text": [
            "65\n"
          ],
          "name": "stdout"
        }
      ]
    },
    {
      "cell_type": "markdown",
      "metadata": {
        "id": "Ld-AdZGQy4M7"
      },
      "source": [
        "문제375. 알파벳 대문자를 출력하시오!"
      ]
    },
    {
      "cell_type": "code",
      "metadata": {
        "colab": {
          "base_uri": "https://localhost:8080/"
        },
        "id": "D2cZcksFy8sT",
        "outputId": "b7b4c627-0a15-42c8-b50f-c6a3008e8cde"
      },
      "source": [
        "import string\r\n",
        "print(string.ascii_uppercase)"
      ],
      "execution_count": null,
      "outputs": [
        {
          "output_type": "stream",
          "text": [
            "ABCDEFGHIJKLMNOPQRSTUVWXYZ\n"
          ],
          "name": "stdout"
        }
      ]
    },
    {
      "cell_type": "markdown",
      "metadata": {
        "id": "8Vbo5EJzzNK5"
      },
      "source": [
        "문제376. 위의 코드와 ord()함수를 이용해서 아래의 결과를 출력하시오!  \r\n",
        "\r\n",
        "결과:\r\n",
        "```\r\n",
        "A --------> 65\r\n",
        "B --------> 66\r\n",
        "      .\r\n",
        "      .\r\n",
        "      .\r\n",
        "Z\r\n",
        "```"
      ]
    },
    {
      "cell_type": "code",
      "metadata": {
        "colab": {
          "base_uri": "https://localhost:8080/"
        },
        "id": "Sa4LwfJ5zapY",
        "outputId": "eab0e44b-ba98-4bbc-c759-eed35b96b6e8"
      },
      "source": [
        "import string\r\n",
        "for i in string.ascii_uppercase:\r\n",
        "    print(i, ' -----------> ',ord(i))"
      ],
      "execution_count": null,
      "outputs": [
        {
          "output_type": "stream",
          "text": [
            "A  ----------->  65\n",
            "B  ----------->  66\n",
            "C  ----------->  67\n",
            "D  ----------->  68\n",
            "E  ----------->  69\n",
            "F  ----------->  70\n",
            "G  ----------->  71\n",
            "H  ----------->  72\n",
            "I  ----------->  73\n",
            "J  ----------->  74\n",
            "K  ----------->  75\n",
            "L  ----------->  76\n",
            "M  ----------->  77\n",
            "N  ----------->  78\n",
            "O  ----------->  79\n",
            "P  ----------->  80\n",
            "Q  ----------->  81\n",
            "R  ----------->  82\n",
            "S  ----------->  83\n",
            "T  ----------->  84\n",
            "U  ----------->  85\n",
            "V  ----------->  86\n",
            "W  ----------->  87\n",
            "X  ----------->  88\n",
            "Y  ----------->  89\n",
            "Z  ----------->  90\n"
          ],
          "name": "stdout"
        }
      ]
    },
    {
      "cell_type": "markdown",
      "metadata": {
        "id": "jGKVC82ZzWtK"
      },
      "source": [
        "#129. 코드값에 대응하는 문자 얻기(chr)\r\n",
        "\r\n",
        "파이썬 내장함수 chr()은 ord() 함수의 반대기능을 수행합니다. chr()의 인자로 정수값을 입력하면 이 정수값이 해당하는 문자를 리턴합니다."
      ]
    },
    {
      "cell_type": "markdown",
      "metadata": {
        "id": "G55ifE1000Rj"
      },
      "source": [
        "예제:"
      ]
    },
    {
      "cell_type": "code",
      "metadata": {
        "colab": {
          "base_uri": "https://localhost:8080/"
        },
        "id": "J4a4Lvgd019M",
        "outputId": "26efab9e-7825-4f8a-8c62-0702fda04908"
      },
      "source": [
        "print(chr(65))"
      ],
      "execution_count": null,
      "outputs": [
        {
          "output_type": "stream",
          "text": [
            "A\n"
          ],
          "name": "stdout"
        }
      ]
    },
    {
      "cell_type": "markdown",
      "metadata": {
        "id": "d5Bcm4Zz03qT"
      },
      "source": [
        "문제377. 아래와 같이 결과를 출력하시오!  \r\n",
        "\r\n",
        "결과:\r\n",
        "```\r\n",
        "65 ---------> A\r\n",
        ".\r\n",
        ".\r\n",
        "90\r\n",
        "```"
      ]
    },
    {
      "cell_type": "code",
      "metadata": {
        "colab": {
          "base_uri": "https://localhost:8080/"
        },
        "id": "VwGNczmS08w9",
        "outputId": "d47b40ad-c948-4349-d549-5e0b57edde5e"
      },
      "source": [
        "for i in range(65,91):\r\n",
        "    print(i, ' -----------> ',chr(i))"
      ],
      "execution_count": null,
      "outputs": [
        {
          "output_type": "stream",
          "text": [
            "65  ----------->  A\n",
            "66  ----------->  B\n",
            "67  ----------->  C\n",
            "68  ----------->  D\n",
            "69  ----------->  E\n",
            "70  ----------->  F\n",
            "71  ----------->  G\n",
            "72  ----------->  H\n",
            "73  ----------->  I\n",
            "74  ----------->  J\n",
            "75  ----------->  K\n",
            "76  ----------->  L\n",
            "77  ----------->  M\n",
            "78  ----------->  N\n",
            "79  ----------->  O\n",
            "80  ----------->  P\n",
            "81  ----------->  Q\n",
            "82  ----------->  R\n",
            "83  ----------->  S\n",
            "84  ----------->  T\n",
            "85  ----------->  U\n",
            "86  ----------->  V\n",
            "87  ----------->  W\n",
            "88  ----------->  X\n",
            "89  ----------->  Y\n",
            "90  ----------->  Z\n"
          ],
          "name": "stdout"
        }
      ]
    },
    {
      "cell_type": "markdown",
      "metadata": {
        "id": "CTyszwC311ty"
      },
      "source": [
        "# 130. 문자열로 된 식을 실행하기(eval)\r\n",
        "\r\n",
        "* 여기부터 중요한거 많이 나온다.  \r\n",
        "\r\n",
        "코드를 작성하다 보면 파일에서 읽은 수식이나 문자열을 그대로 실행하야 하는 경우가 있습니다. 예를 들어 '2+3'과 같이 두 개의 숫자를 더하는 문자열을 텍스트 파일에서 읽어 이를 실행하여 이 수식의 결과인 5를 구하는 경우입니다.  \r\n",
        "\r\n",
        "예제:"
      ]
    },
    {
      "cell_type": "code",
      "metadata": {
        "colab": {
          "base_uri": "https://localhost:8080/"
        },
        "id": "9Yax3tB22L5z",
        "outputId": "f6942cee-f90a-4545-cb4a-69a7a6ad9f0e"
      },
      "source": [
        "a = '2 + 3'\r\n",
        "print(a)\r\n",
        "print(eval(a))"
      ],
      "execution_count": null,
      "outputs": [
        {
          "output_type": "stream",
          "text": [
            "2 + 3\n",
            "5\n"
          ],
          "name": "stdout"
        }
      ]
    },
    {
      "cell_type": "markdown",
      "metadata": {
        "id": "-9WZYZSS2tSa"
      },
      "source": [
        "문제378. 아래의 결과를 출력하시오!"
      ]
    },
    {
      "cell_type": "code",
      "metadata": {
        "colab": {
          "base_uri": "https://localhost:8080/"
        },
        "id": "7Chgydag2u6N",
        "outputId": "8beae434-c59f-4142-f472-8b368750afcc"
      },
      "source": [
        "a = '34 + 256 - 71 * 34'\r\n",
        "print(eval(a))"
      ],
      "execution_count": null,
      "outputs": [
        {
          "output_type": "stream",
          "text": [
            "-2124\n"
          ],
          "name": "stdout"
        }
      ]
    },
    {
      "cell_type": "markdown",
      "metadata": {
        "id": "jrh3-Nm53cGl"
      },
      "source": [
        "문제379. 아래의 리스트의 숫자를 뽑아내서 아래의 문자열을 생성하시오!\r\n",
        "```\r\n",
        "a = [34,22,45,27,31,33,55]\r\n",
        "결과: 34 + 22 + ...\r\n",
        "```"
      ]
    },
    {
      "cell_type": "code",
      "metadata": {
        "colab": {
          "base_uri": "https://localhost:8080/"
        },
        "id": "_LtXJ1N13fcV",
        "outputId": "a57506f9-5f28-44f9-8e50-52bc5b8a366c"
      },
      "source": [
        "a = [34,22,45,27,31,33,55] # 못하겠다...\r\n",
        "b = []\r\n",
        "for i in a:\r\n",
        "    b. append(str(i))\r\n",
        "result = '+'.join(b)\r\n",
        "print(result)\r\n",
        "print(eval(result ))"
      ],
      "execution_count": null,
      "outputs": [
        {
          "output_type": "stream",
          "text": [
            "34+22+45+27+31+33+55\n",
            "247\n"
          ],
          "name": "stdout"
        }
      ]
    },
    {
      "cell_type": "markdown",
      "metadata": {
        "id": "QTduTbwD66Pm"
      },
      "source": [
        "문제381. 우리반 데이터(emp1222.csv에서 나이를 일겅들여 아래와 같이 결과가 출력되게 하시오.\r\n",
        "```\r\n",
        "24 + 27 + 26 + 27 + ...\r\n",
        "```"
      ]
    },
    {
      "cell_type": "code",
      "metadata": {
        "colab": {
          "base_uri": "https://localhost:8080/"
        },
        "id": "fqKDgyZo6_Hr",
        "outputId": "54577428-6070-4b5e-b836-6e4501a18827"
      },
      "source": [
        "import csv\r\n",
        "emp = open('emp1222.csv',encoding = 'CP949')\r\n",
        "emp = csv.reader(emp)\r\n",
        "next(emp)\r\n",
        "b = []\r\n",
        "for i in emp:\r\n",
        "    b.append(str(i[2]))\r\n",
        "result = ' + '.join(b)\r\n",
        "print(result)\r\n",
        "print(eval(result))"
      ],
      "execution_count": null,
      "outputs": [
        {
          "output_type": "stream",
          "text": [
            "29 + 31 + 35 + 29 + 28 + 28 + 25 + 28 + 27 + 27 + 27 + 26 + 33 + 30 + 27 + 27 + 25 + 28 + 29 + 24 + 24 + 29 + 36 + 26 + 26 + 26 + 44 + 28 + 29 + 28\n",
            "859\n"
          ],
          "name": "stdout"
        }
      ]
    },
    {
      "cell_type": "markdown",
      "metadata": {
        "id": "Ahl_YNlZ6-fb"
      },
      "source": [
        "# 131. 이름없는 한줄짜리 함수 만들기(lambda)\r\n",
        "\r\n",
        "파이썬에서 함수를 정의하는 방법은 일반적으로 다음과 같습니다.  \r\n",
        "```\r\n",
        "def 함수이름(입력매개변수):\r\n",
        "    실행코드\r\n",
        "```"
      ]
    },
    {
      "cell_type": "code",
      "metadata": {
        "colab": {
          "base_uri": "https://localhost:8080/"
        },
        "id": "z2jlCC1v1uw5",
        "outputId": "11313856-7308-4c9e-aadc-bb167b6fe0e1"
      },
      "source": [
        "def add_func(a,b):\r\n",
        "    return a+b\r\n",
        "print(add_func(2,3))"
      ],
      "execution_count": null,
      "outputs": [
        {
          "output_type": "stream",
          "text": [
            "5\n"
          ],
          "name": "stdout"
        }
      ]
    },
    {
      "cell_type": "markdown",
      "metadata": {
        "id": "9nQugcO6Ap2k"
      },
      "source": [
        "설명: 함수를 만들 때 위와 같이 함수 이름을 주고 생성했습니다. 함수를 생성하는 이유는 함수를 한번 만들면 다음부터는 함수 이름을 가지고 함수만 호출하면 되기 때문에 함수를 생성해서 코드를 작성했습니다.  \r\n",
        "```\r\n",
        "print(add_func(5,6))\r\n",
        "```\r\n",
        "지금부터 만들 함수는 함수 이름 없이 함수를 생성하는 코드입니다. 함수 이름을 안주고 함수를 생성한다는 것은 이 함수는 지금 이 코드에서 한번만 실행하고 앞으로 쓸 일이 없는 경우 함수 이름없이 함수를 생성합니다.  \r\n",
        "아래와 같이 한 줄 짜리 함수를 생성합니다."
      ]
    },
    {
      "cell_type": "code",
      "metadata": {
        "colab": {
          "base_uri": "https://localhost:8080/"
        },
        "id": "ou4Z-bu5CJFG",
        "outputId": "598518bc-937f-4140-98be-7261cd7677c7"
      },
      "source": [
        "k = lambda a,b : a + b # 이름 없는 한줄짜리 함수\r\n",
        "print(k(2,3))"
      ],
      "execution_count": null,
      "outputs": [
        {
          "output_type": "stream",
          "text": [
            "5\n"
          ],
          "name": "stdout"
        }
      ]
    },
    {
      "cell_type": "markdown",
      "metadata": {
        "id": "fc9heZJ6Cu29"
      },
      "source": [
        "문법\r\n",
        "```\r\n",
        "변수이름 = lambda 입력매개변수 : 실행문\r\n",
        "```"
      ]
    },
    {
      "cell_type": "markdown",
      "metadata": {
        "id": "Z_NjZHA7DNHc"
      },
      "source": [
        "문382. 아래의 함수를 그냥 이름없는 한줄짜리 함수로 만들어 보시오!\r\n",
        "```\r\n",
        "def gob_func(a,b):\r\n",
        "    return a*b\r\n",
        "```"
      ]
    },
    {
      "cell_type": "code",
      "metadata": {
        "colab": {
          "base_uri": "https://localhost:8080/"
        },
        "id": "OAFNlNcjDXQ0",
        "outputId": "a5d2f939-89af-48d6-8128-9cf04fcc1200"
      },
      "source": [
        "k = lambda a,b:a*b\r\n",
        "print(k(2,3))"
      ],
      "execution_count": null,
      "outputs": [
        {
          "output_type": "stream",
          "text": [
            "6\n"
          ],
          "name": "stdout"
        }
      ]
    },
    {
      "cell_type": "markdown",
      "metadata": {
        "id": "galvJf-jDWw8"
      },
      "source": [
        "문제383. 아래의 함수를 그냥 이름 없는 한줄짜리 함수로 생성하시오\r\n",
        "```\r\n",
        "def odd_func(a):\r\n",
        "    if a % 2 ==0\r\n",
        "        return '짝수입니다.'\r\n",
        "    else:\r\n",
        "        return '홀수입니다.'\r\n",
        "```"
      ]
    },
    {
      "cell_type": "code",
      "metadata": {
        "colab": {
          "base_uri": "https://localhost:8080/"
        },
        "id": "h1CZ9PCtD-9z",
        "outputId": "369c38a6-edf6-456e-f168-b1bde03a2b2e"
      },
      "source": [
        "k = lambda a: '짝수입니다' if a % 2 == 0 else '홀수입니다.'\r\n",
        "print(k(1))\r\n"
      ],
      "execution_count": null,
      "outputs": [
        {
          "output_type": "stream",
          "text": [
            "홀수입니다.\n"
          ],
          "name": "stdout"
        }
      ]
    },
    {
      "cell_type": "markdown",
      "metadata": {
        "id": "uHusJyd5FhyI"
      },
      "source": [
        "문제384. 아래의 함수를 lambda로 구현하시오!\r\n",
        "```\r\n",
        "def high_income(a):\r\n",
        "    if a >= 3000:\r\n",
        "        return '고소득자 입니다'\r\n",
        "    else:\r\n",
        "        return '일반 소득자 입니다'\r\n",
        "```"
      ]
    },
    {
      "cell_type": "code",
      "metadata": {
        "colab": {
          "base_uri": "https://localhost:8080/",
          "height": 35
        },
        "id": "yoA_i3FiBcDZ",
        "outputId": "d50781a6-d186-45bd-bb56-cb11ff4ab0af"
      },
      "source": [
        "k = lambda a:'고소득자 입니다.' if a >= 3000 else '일반 소득자 입니다.'\r\n",
        "k(3000)"
      ],
      "execution_count": null,
      "outputs": [
        {
          "output_type": "execute_result",
          "data": {
            "application/vnd.google.colaboratory.intrinsic+json": {
              "type": "string"
            },
            "text/plain": [
              "'고소득자 입니다.'"
            ]
          },
          "metadata": {
            "tags": []
          },
          "execution_count": 826
        }
      ]
    },
    {
      "cell_type": "markdown",
      "metadata": {
        "id": "_tbb3RmvGYnT"
      },
      "source": [
        "문제385. 아래의 함수를 lambda로 구현하시오.\r\n",
        "```\r\n",
        "def child_tall(num):\r\n",
        "    if 140 - 1.96*5 <= num <= 140 + 1.96*5:\r\n",
        "        return '신뢰구간 95% 안에 있습니다.'\r\n",
        "    else:\r\n",
        "        return '신뢰구간 95% 안에 없습니다.'\r\n",
        "```"
      ]
    },
    {
      "cell_type": "code",
      "metadata": {
        "colab": {
          "base_uri": "https://localhost:8080/",
          "height": 35
        },
        "id": "-KqoUHK1GfON",
        "outputId": "ecd80d3f-e8df-478c-efdc-1211128e9056"
      },
      "source": [
        "k = lambda num:'신뢰구간 95% 안에 있습니다.' if 140 - 1.96*5 <= num <= 140 + 1.96*5 else '신뢰구간 95% 안에 없습니다.'\r\n",
        "k(140)"
      ],
      "execution_count": null,
      "outputs": [
        {
          "output_type": "execute_result",
          "data": {
            "application/vnd.google.colaboratory.intrinsic+json": {
              "type": "string"
            },
            "text/plain": [
              "'신뢰구간 95% 안에 있습니다.'"
            ]
          },
          "metadata": {
            "tags": []
          },
          "execution_count": 830
        }
      ]
    },
    {
      "cell_type": "markdown",
      "metadata": {
        "id": "U8f94MDHHQQX"
      },
      "source": [
        "신뢰구간 68% --> 평균 +- 1 * 표준편차  \r\n",
        "신뢰구간 95% --> 평균 +- 1.96 * 표준편차  \r\n",
        "신뢰구간 99% --> 평균 +- 2.56 * 표준편차"
      ]
    },
    {
      "cell_type": "code",
      "metadata": {
        "colab": {
          "base_uri": "https://localhost:8080/"
        },
        "id": "iLttuYZfIOK5",
        "outputId": "97f0c1cb-f4d6-49fe-f668-dc9148c9dd94"
      },
      "source": [
        "def child_tall(num):\r\n",
        "    if 140 - 1.96*5 <= num <= 140 + 1.96*5:\r\n",
        "        return '신뢰구간 95% 안에 있습니다.'\r\n",
        "    else:\r\n",
        "        return '신뢰구간 95% 안에 없습니다.'\r\n",
        "print(child_tall(147))\r\n",
        "print(child_tall(157))\r\n"
      ],
      "execution_count": null,
      "outputs": [
        {
          "output_type": "stream",
          "text": [
            "신뢰구간 95% 안에 있습니다.\n",
            "신뢰구간 95% 안에 없습니다.\n"
          ],
          "name": "stdout"
        }
      ]
    },
    {
      "cell_type": "markdown",
      "metadata": {
        "id": "-E3BqfaDITl2"
      },
      "source": [
        "문제386. 초등학생 키 데이터를 120 ~ 160 사이로 해서 0.001 간격으로 생성하시오."
      ]
    },
    {
      "cell_type": "code",
      "metadata": {
        "colab": {
          "base_uri": "https://localhost:8080/"
        },
        "id": "cLKwmI06IkT0",
        "outputId": "1ce12beb-775b-4e41-f9bc-0d4bb48ab57d"
      },
      "source": [
        "import numpy as np\r\n",
        "x = np.arange(120,160,0.001)\r\n",
        "print(len(x))"
      ],
      "execution_count": null,
      "outputs": [
        {
          "output_type": "stream",
          "text": [
            "40000\n"
          ],
          "name": "stdout"
        }
      ]
    },
    {
      "cell_type": "markdown",
      "metadata": {
        "id": "ViJlZsDoI2TX"
      },
      "source": [
        "문제387. 위에서 만든 40000건의 데이터에 대한 확률밀도함수값을 출력하시오.  \r\n",
        "평균값 140, 표준편차 5"
      ]
    },
    {
      "cell_type": "code",
      "metadata": {
        "id": "tChoNRQLJHXe"
      },
      "source": [
        "from scipy.stats import norm\r\n",
        "import numpy as np\r\n",
        "x = np.arange(120,160,0.001)\r\n",
        "y = norm.pdf(x,140,5) # 확률밀도함수 x값, 평균, 표준편차\r\n"
      ],
      "execution_count": null,
      "outputs": []
    },
    {
      "cell_type": "markdown",
      "metadata": {
        "id": "_iVE_r5jJc8S"
      },
      "source": [
        "문제388. 위의 데이터중 x값과 y값을 가지고 시각화 하시오."
      ]
    },
    {
      "cell_type": "code",
      "metadata": {
        "colab": {
          "base_uri": "https://localhost:8080/",
          "height": 265
        },
        "id": "kn-qiyv-Jhoq",
        "outputId": "ccd3dd5b-f276-4182-ba0f-6199e4bc6c50"
      },
      "source": [
        "import matplotlib.pyplot as plt\r\n",
        "plt.plot(x,y,color = 'red')\r\n",
        "plt.show()"
      ],
      "execution_count": null,
      "outputs": [
        {
          "output_type": "display_data",
          "data": {
            "image/png": "[encoded data removed]",
            "text/plain": [
              "<Figure size 432x288 with 1 Axes>"
            ]
          },
          "metadata": {
            "tags": [],
            "needs_background": "light"
          }
        }
      ]
    },
    {
      "cell_type": "markdown",
      "metadata": {
        "id": "UsFQmovlJ3wo"
      },
      "source": [
        "문제389. 위의 그래프에서 신뢰구간95%에 해당하는 부분만 색칠하시오."
      ]
    },
    {
      "cell_type": "code",
      "metadata": {
        "colab": {
          "base_uri": "https://localhost:8080/",
          "height": 265
        },
        "id": "phpWafnAKIlB",
        "outputId": "62405491-5456-442f-a464-76d5dbf6576c"
      },
      "source": [
        "from scipy.stats import norm\r\n",
        "import numpy as np\r\n",
        "x = np.arange(120,160,0.001)\r\n",
        "y = norm.pdf(x,140,5) # 확률밀도함수 x값, 평균, 표준편차\r\n",
        "\r\n",
        "import matplotlib.pyplot as plt\r\n",
        "plt.plot(x,y,color = 'red')\r\n",
        "plt.fill_between(x,y,where = (x >= 140 - 1.96*5) & (x <= 140 + 1.96*5), \\\r\n",
        "                 color = 'red', alpha=0.5)\r\n",
        "plt.show()"
      ],
      "execution_count": null,
      "outputs": [
        {
          "output_type": "display_data",
          "data": {
            "image/png": "[encoded data removed]",
            "text/plain": [
              "<Figure size 432x288 with 1 Axes>"
            ]
          },
          "metadata": {
            "tags": [],
            "needs_background": "light"
          }
        }
      ]
    },
    {
      "cell_type": "markdown",
      "metadata": {
        "id": "4fBTVp6ZKpx4"
      },
      "source": [
        "설명: where에 색칠하는 구간을 지정합니다."
      ]
    },
    {
      "cell_type": "markdown",
      "metadata": {
        "id": "GBF2lQ6kNk2u"
      },
      "source": [
        "문제390. (오늘의 마지막 문제) 위의 코드를 이용해서 confidence_interval 함수를 생성하고 아래와 같이 신뢰구간을 넣으면 해당 신뢰구간에 해당하는 그래프가 출력되게 하시오.\r\n",
        "```\r\n",
        "신뢰구간 68% --> 평균 +- 1 * 표준편차\r\n",
        "신뢰구간 95% --> 평균 +- 1.96 * 표준편차\r\n",
        "신뢰구간 99% --> 평균 +- 2.56 * 표준편차\r\n",
        "```"
      ]
    },
    {
      "cell_type": "code",
      "metadata": {
        "colab": {
          "base_uri": "https://localhost:8080/",
          "height": 761
        },
        "id": "liHE-YJzOHTw",
        "outputId": "d26956ce-ab4f-4144-8db2-b54aa82f56ea"
      },
      "source": [
        "def confidence_interval(num):\r\n",
        "    from scipy.stats import norm\r\n",
        "    import numpy as np\r\n",
        "    if num == 68:\r\n",
        "        a = 1\r\n",
        "    elif num == 95:\r\n",
        "        a = 1.96\r\n",
        "    elif num == 99:\r\n",
        "        a = 2.58\r\n",
        "        \r\n",
        "    x = np.arange(120,160,0.001)\r\n",
        "    y = norm.pdf(x,140,5) # 확률밀도함수 x값, 평균, 표준편차\r\n",
        "\r\n",
        "    import matplotlib.pyplot as plt\r\n",
        "    plt.plot(x,y,color = 'red')\r\n",
        "    plt.fill_between(x,y,where = (x >= 140 - a*5) & (x <= 140 + a*5), \\\r\n",
        "                    color = 'red', alpha=0.5)\r\n",
        "    plt.show()\r\n",
        "confidence_interval(68)\r\n",
        "confidence_interval(95)\r\n",
        "confidence_interval(99)"
      ],
      "execution_count": null,
      "outputs": [
        {
          "output_type": "display_data",
          "data": {
            "image/png": "[encoded data removed]",
            "text/plain": [
              "<Figure size 432x288 with 1 Axes>"
            ]
          },
          "metadata": {
            "tags": [],
            "needs_background": "light"
          }
        },
        {
          "output_type": "display_data",
          "data": {
            "image/png": "[encoded data removed]",
            "text/plain": [
              "<Figure size 432x288 with 1 Axes>"
            ]
          },
          "metadata": {
            "tags": [],
            "needs_background": "light"
          }
        },
        {
          "output_type": "display_data",
          "data": {
            "image/png": "[encoded data removed]",
            "text/plain": [
              "<Figure size 432x288 with 1 Axes>"
            ]
          },
          "metadata": {
            "tags": [],
            "needs_background": "light"
          }
        }
      ]
    }
  ]
}