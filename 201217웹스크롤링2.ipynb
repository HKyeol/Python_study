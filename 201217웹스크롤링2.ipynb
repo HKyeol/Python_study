{
  "nbformat": 4,
  "nbformat_minor": 0,
  "metadata": {
    "colab": {
      "name": "201217웹스크롤링2.ipynb",
      "provenance": [],
      "collapsed_sections": [],
      "authorship_tag": "ABX9TyOClsBVJE2wzsXaNt/oovyg",
      "include_colab_link": true
    },
    "kernelspec": {
      "name": "python3",
      "display_name": "Python 3"
    }
  },
  "cells": [
    {
      "cell_type": "markdown",
      "metadata": {
        "id": "view-in-github",
        "colab_type": "text"
      },
      "source": [
        "<a href=\"https://colab.research.google.com/github/HKyeol/Python_study/blob/master/201217%EC%9B%B9%EC%8A%A4%ED%81%AC%EB%A1%A4%EB%A7%812.ipynb\" target=\"_parent\"><img src=\"https://colab.research.google.com/assets/colab-badge.svg\" alt=\"Open In Colab\"/></a>"
      ]
    },
    {
      "cell_type": "markdown",
      "metadata": {
        "id": "N-_BUOrDJk51"
      },
      "source": [
        "# 복습\r\n",
        "* 어제 웹스크롤링을 한 사이트\r\n",
        "1. 레이디 버그 게시판\r\n",
        "2. 중앙일보 신문사\r\n",
        "3. 동아일보 신문사\r\n",
        "4. 한겨례 신문사\r\n",
        "5. 각자 스크롤링을 하기 원하는 사이트 <-- 마지막 문제  \r\n",
        "\r\n",
        "공통적으로 웹스크롤링이 안되었던 이유가 하나가 있어서 이거를 다같이 공유하겠습니다.\r\n",
        "\r\n",
        "BeautifulSoup 문법중에 좀 더 알아야 할 내용을 ㅎㅈㅁ 코드로 알려주겠습니다.\r\n",
        "```\r\n",
        "SQL      vs     파이썬\r\n",
        "select          파이썬의 자료형 5가지를 가지고 관련된 함수들 소개를 하면서 매일매일 다른 함수들을 소개\r\n",
        "from            대신 파이썬은 처음부터 다 암기할 수 없고 반복해서 쓰다보면 자연스럽게 암기가 됩니다.\r\n",
        "where           \r\n",
        "```\r\n",
        "\r\n",
        "* 파이썬 코드의 큰 틀을 암기하면 됨\r\n",
        "\r\n",
        "```\r\n",
        "1. 필요한 모듈 임포트\r\n",
        "2. 데이터 발생 또는 수집(예: 주사위를 던지거나 웹 스크롤링을 해서 데이터를 수집)\r\n",
        "3. 수집된 데이터를 리스트에 append 시켜서 저장한다.\r\n",
        "4. 리스트에 저장한 데이터를 가지고 통계분석을 한다.\r\n",
        "5. 결과를 출력한다.\r\n",
        "```\r\n",
        "\r\n",
        "데이터 분석가가 갖추어야 할 필수 기술\r\n",
        "```\r\n",
        "1. 웹스크롤링 기술\r\n",
        "2. 통계로 데이터 분석\r\n",
        "3. 머신러닝으로 데이터 분석\r\n",
        "4. 딥러닝으로 데이터 분석\r\n",
        "```"
      ]
    },
    {
      "cell_type": "markdown",
      "metadata": {
        "id": "Ksui12zhMfAf"
      },
      "source": [
        "- Beautiful Soup 기능으로 웹스크롤링할 때 추가로 알아야 할 사항\r\n",
        "\r\n",
        "예제3. 위의 첫 페이지의 html 코드를 파이썬으로 불러오는 작업  \r\n",
        "\r\n",
        "1. 웹 스크롤링에 필요한 모듈을 임포트합니다."
      ]
    },
    {
      "cell_type": "code",
      "metadata": {
        "id": "OaEX_-y53heC"
      },
      "source": [
        "from bs4 import BeautifulSoup\r\n",
        "import urllib.request"
      ],
      "execution_count": null,
      "outputs": []
    },
    {
      "cell_type": "markdown",
      "metadata": {
        "id": "yTjk6y1gOdaR"
      },
      "source": [
        "2. 첫 페이지의 url을 파싱합니다."
      ]
    },
    {
      "cell_type": "code",
      "metadata": {
        "id": "pK1fw1bfOxvs"
      },
      "source": [
        "list_url = 'https://futurechosun.com/page/1?s=%EB%B4%89%EC%82%AC'\r\n",
        "url = urllib.request.Request(list_url)\r\n",
        "result = urllib.request.urlopen(url).read().decode('utf-8')\r\n",
        "print(result)"
      ],
      "execution_count": null,
      "outputs": []
    },
    {
      "cell_type": "markdown",
      "metadata": {
        "id": "9HJve60wPLaG"
      },
      "source": [
        "3. 웹스크롤링 전문 모듈인 beautiful soup 모듈을 이용할 수 있게끔, 내려받은 html 코드를 beautiful soup을 이용할 수 있게 파싱합니다. 이용할 수 있게 한다는 것은 beautiful soup의 함수인 find_all을 이용해서 태그이름과 클래스 이름을 가지고 검색하기 원하는 지점을 빠르게 찾아가기 위해서 파싱한다는 것입니다."
      ]
    },
    {
      "cell_type": "code",
      "metadata": {
        "id": "UfCSpSQiPX8C"
      },
      "source": [
        "soup = BeautifulSoup(result,\"html.parser\")\r\n",
        "print(soup)"
      ],
      "execution_count": null,
      "outputs": []
    },
    {
      "cell_type": "markdown",
      "metadata": {
        "id": "IZE0veIAQN-i"
      },
      "source": [
        "같은 내용이 출력되지만 얘는 뷰티풀 수프를 이용해서 검색하고자 하는 내용을 빠르게 찾을 수 있다.  \r\n",
        "\r\n",
        "4. 더 나은 미래 첫페이지에 보이는 기사들 12개의 기사 url을 알아내기 위해 태그이름과 클래스 이름이 무엇인지 알아내시오 (href가 있는 곳을 찾는다)  \r\n",
        "\r\n",
        "답: 태그이름은 div이고 클래스 이름은 elementor-post__title입니다.\r\n",
        "```\r\n",
        "중요설명\r\n",
        "```\r\n",
        ": href와 가장 가까이 있는 태그 이름과 클래스 이름을 알아내야 합니다.  \r\n",
        "\r\n"
      ]
    },
    {
      "cell_type": "code",
      "metadata": {
        "colab": {
          "base_uri": "https://localhost:8080/"
        },
        "id": "Z1oFcOCdQrs4",
        "outputId": "e7198f44-d733-427e-8240-0d683f01b111"
      },
      "source": [
        "result1=soup.find_all('div',class_ ='elementor-post__title')\r\n",
        "print(result1)"
      ],
      "execution_count": null,
      "outputs": [
        {
          "output_type": "stream",
          "text": [
            "[<div class=\"elementor-post__title\"> <a href=\"https://futurechosun.com/archives/52491\"> “편견에 주눅 들었던 결혼 이주 여성들… ‘봉사’로 자존감 되찾았다죠” </a></div>, <div class=\"elementor-post__title\"> <a href=\"https://futurechosun.com/archives/47330\"> [글로벌 이슈] 전 세계 코로나19 확산으로… 해외 봉사 ‘올스톱’ 위기 </a></div>, <div class=\"elementor-post__title\"> <a href=\"https://futurechosun.com/archives/47004\"> “마스크 한 장 이라도 더”… 자원봉사자들과 함께 쉼없이 가위질을 해댔다 </a></div>, <div class=\"elementor-post__title\"> <a href=\"https://futurechosun.com/archives/46834\"> 코이카, 의료 해외봉사단 대구·경북 지역에 투입한다 </a></div>, <div class=\"elementor-post__title\"> <a href=\"https://futurechosun.com/archives/43905\"> [어떻게 생각하십니까] 정부 믿고 해외봉사 갔는데… ‘불법 체류자’ 신세라니? </a></div>, <div class=\"elementor-post__title\"> <a href=\"https://futurechosun.com/archives/43785\"> “봉사활동도 트렌디한 ‘취미생활’될 수 있어요”…봉사활동 기획·운영 플랫폼 ‘서울케어즈’ </a></div>, <div class=\"elementor-post__title\"> <a href=\"https://futurechosun.com/archives/39923\"> bbb 코리아, 영어·일본어·중국어 등 신규 통역 봉사자 모집 </a></div>, <div class=\"elementor-post__title\"> <a href=\"https://futurechosun.com/archives/38545\"> ‘월드프렌즈 KOICA 프로젝트’ 봉사단 모집…남태평양 섬나라 피지서 보건 교육 </a></div>, <div class=\"elementor-post__title\"> <a href=\"https://futurechosun.com/archives/37895\"> 서울시자원봉사센터, 기업 사회공헌 담당자 대상 워크숍 개최 </a></div>, <div class=\"elementor-post__title\"> <a href=\"https://futurechosun.com/archives/37393\"> “소록도병원, 자원봉사자들의 힘으로 굴러갑니다” </a></div>, <div class=\"elementor-post__title\"> <a href=\"https://futurechosun.com/archives/35472\"> [이주의 공익뉴스브리핑] 서울시자원봉사센터, 자원봉사 관리자 아카데미 ‘관성탈출’ 수강생 모집(~8/27) 외 </a></div>, <div class=\"elementor-post__title\"> <a href=\"https://futurechosun.com/archives/33380\"> “이젠 봉사도 DIY!” 서울시, 대학생이 직접 기획하는 이색 봉사활동 찾습니다 </a></div>, <div class=\"elementor-post__title\"> <a href=\"https://futurechosun.com/archives/52491\"> “편견에 주눅 들었던 결혼 이주 여성들… ‘봉사’로 자존감 되찾았다죠” </a></div>, <div class=\"elementor-post__title\"> <a href=\"https://futurechosun.com/archives/47330\"> [글로벌 이슈] 전 세계 코로나19 확산으로… 해외 봉사 ‘올스톱’ 위기 </a></div>, <div class=\"elementor-post__title\"> <a href=\"https://futurechosun.com/archives/47004\"> “마스크 한 장 이라도 더”… 자원봉사자들과 함께 쉼없이 가위질을 해댔다 </a></div>, <div class=\"elementor-post__title\"> <a href=\"https://futurechosun.com/archives/46834\"> 코이카, 의료 해외봉사단 대구·경북 지역에 투입한다 </a></div>, <div class=\"elementor-post__title\"> <a href=\"https://futurechosun.com/archives/43905\"> [어떻게 생각하십니까] 정부 믿고 해외봉사 갔는데… ‘불법 체류자’ 신세라니? </a></div>, <div class=\"elementor-post__title\"> <a href=\"https://futurechosun.com/archives/43785\"> “봉사활동도 트렌디한 ‘취미생활’될 수 있어요”…봉사활동 기획·운영 플랫폼 ‘서울케어즈’ </a></div>, <div class=\"elementor-post__title\"> <a href=\"https://futurechosun.com/archives/39923\"> bbb 코리아, 영어·일본어·중국어 등 신규 통역 봉사자 모집 </a></div>, <div class=\"elementor-post__title\"> <a href=\"https://futurechosun.com/archives/38545\"> ‘월드프렌즈 KOICA 프로젝트’ 봉사단 모집…남태평양 섬나라 피지서 보건 교육 </a></div>, <div class=\"elementor-post__title\"> <a href=\"https://futurechosun.com/archives/37895\"> 서울시자원봉사센터, 기업 사회공헌 담당자 대상 워크숍 개최 </a></div>, <div class=\"elementor-post__title\"> <a href=\"https://futurechosun.com/archives/37393\"> “소록도병원, 자원봉사자들의 힘으로 굴러갑니다” </a></div>, <div class=\"elementor-post__title\"> <a href=\"https://futurechosun.com/archives/35472\"> [이주의 공익뉴스브리핑] 서울시자원봉사센터, 자원봉사 관리자 아카데미 ‘관성탈출’ 수강생 모집(~8/27) 외 </a></div>, <div class=\"elementor-post__title\"> <a href=\"https://futurechosun.com/archives/33380\"> “이젠 봉사도 DIY!” 서울시, 대학생이 직접 기획하는 이색 봉사활동 찾습니다 </a></div>]\n"
          ],
          "name": "stdout"
        }
      ]
    },
    {
      "cell_type": "markdown",
      "metadata": {
        "id": "DQkI_RizTHJi"
      },
      "source": [
        "리스트의 첫번쨰 요소는 이거다\r\n",
        "```\r\n",
        "<div class=\"elementor-post__title\"> <a href=\"https://futurechosun.com/archives/52491\"> “편견에 주눅 들었던 결혼 이주 여성들… ‘봉사’로 자존감 되찾았다죠” </a></div>\r\n",
        "```\r\n",
        "우리가 가져오고 싶은 부분은 url이다. a tag 위아래로 div 태그가 있다. 우리는 a 태그만 가져오고 싶다.  \r\n",
        "\r\n",
        "설명: 지금 위의 result1의 결과를 보면 리스트로 되어져 있고 리스트 안에 각 요소들이 div 태그가 위아래로 있고 안쪽에 a 태그가 있는 구조로 beautifulsoup으로 파싱된 html 코드들이 요소로 구성되어 있습니다.  \r\n",
        "우리가 원하는 지점은 a 태그인데 a 태그로 접근하려면 먼저 result1리스트의 요소들을 하나씩 빼내와야 합니다. 리스트 안의 요소를 하나씩 빼내오려면 뭘 써야하나요?  \r\n",
        "```\r\n",
        "for loop 문을 써야합니다.\r\n",
        "```"
      ]
    },
    {
      "cell_type": "markdown",
      "metadata": {
        "id": "3WA4WObdUd5m"
      },
      "source": [
        "6. result1 리스트의 요소들(Beautiful Soup으로 파싱된 html 코드들)을 for loop 문으로 하나씩 빼냅니다."
      ]
    },
    {
      "cell_type": "code",
      "metadata": {
        "id": "6QAUXNHETMGF"
      },
      "source": [
        "soup = BeautifulSoup(result,\"html.parser\")\r\n",
        "result1=soup.find_all('div',class_ ='elementor-post__title')\r\n",
        "\r\n",
        "for i in result1:\r\n",
        "    print(i)"
      ],
      "execution_count": null,
      "outputs": []
    },
    {
      "cell_type": "markdown",
      "metadata": {
        "id": "-F9NrR7KSfiE"
      },
      "source": [
        "7. 빼낸 요소인 위의 html 코드 3줄에서 a 태그에 해당하는 부분만 가져오게 하시오."
      ]
    },
    {
      "cell_type": "code",
      "metadata": {
        "id": "B7PtgjJjVHtc"
      },
      "source": [
        "soup = BeautifulSoup(result,\"html.parser\")\r\n",
        "result1=soup.find_all('div',class_ ='elementor-post__title')\r\n",
        "\r\n",
        "for i in result1:\r\n",
        "    print(i.find_all('a')) # 와! 조건! i가 파싱된 애라서 find_all을 쓸 수 있 맞나?"
      ],
      "execution_count": null,
      "outputs": []
    },
    {
      "cell_type": "markdown",
      "metadata": {
        "id": "KZf5p83GVPX-"
      },
      "source": [
        "8. 위의 a태그의 html 코드를 담은 리스트으는 요소를 딱 하나만 담고 있다 그래서 리스트 안의 그 요소만 딱 뽑아내서 출력을 하시오!  \r\n",
        "\r\n",
        "힌트:\r\n",
        "```\r\n",
        "a = [2]\r\n",
        "print(a[0]) # 2\r\n",
        "```"
      ]
    },
    {
      "cell_type": "code",
      "metadata": {
        "colab": {
          "base_uri": "https://localhost:8080/"
        },
        "id": "7qR4XI0zV_t9",
        "outputId": "4c3d0097-c62a-41ad-d777-440ed68c8182"
      },
      "source": [
        "soup = BeautifulSoup(result,\"html.parser\")\r\n",
        "result1=soup.find_all('div',class_ ='elementor-post__title')\r\n",
        "\r\n",
        "for i in result1:\r\n",
        "    print(i.find_all('a')[0])"
      ],
      "execution_count": null,
      "outputs": [
        {
          "output_type": "stream",
          "text": [
            "<a href=\"https://futurechosun.com/archives/52491\"> “편견에 주눅 들었던 결혼 이주 여성들… ‘봉사’로 자존감 되찾았다죠” </a>\n",
            "<a href=\"https://futurechosun.com/archives/47330\"> [글로벌 이슈] 전 세계 코로나19 확산으로… 해외 봉사 ‘올스톱’ 위기 </a>\n",
            "<a href=\"https://futurechosun.com/archives/47004\"> “마스크 한 장 이라도 더”… 자원봉사자들과 함께 쉼없이 가위질을 해댔다 </a>\n",
            "<a href=\"https://futurechosun.com/archives/46834\"> 코이카, 의료 해외봉사단 대구·경북 지역에 투입한다 </a>\n",
            "<a href=\"https://futurechosun.com/archives/43905\"> [어떻게 생각하십니까] 정부 믿고 해외봉사 갔는데… ‘불법 체류자’ 신세라니? </a>\n",
            "<a href=\"https://futurechosun.com/archives/43785\"> “봉사활동도 트렌디한 ‘취미생활’될 수 있어요”…봉사활동 기획·운영 플랫폼 ‘서울케어즈’ </a>\n",
            "<a href=\"https://futurechosun.com/archives/39923\"> bbb 코리아, 영어·일본어·중국어 등 신규 통역 봉사자 모집 </a>\n",
            "<a href=\"https://futurechosun.com/archives/38545\"> ‘월드프렌즈 KOICA 프로젝트’ 봉사단 모집…남태평양 섬나라 피지서 보건 교육 </a>\n",
            "<a href=\"https://futurechosun.com/archives/37895\"> 서울시자원봉사센터, 기업 사회공헌 담당자 대상 워크숍 개최 </a>\n",
            "<a href=\"https://futurechosun.com/archives/37393\"> “소록도병원, 자원봉사자들의 힘으로 굴러갑니다” </a>\n",
            "<a href=\"https://futurechosun.com/archives/35472\"> [이주의 공익뉴스브리핑] 서울시자원봉사센터, 자원봉사 관리자 아카데미 ‘관성탈출’ 수강생 모집(~8/27) 외 </a>\n",
            "<a href=\"https://futurechosun.com/archives/33380\"> “이젠 봉사도 DIY!” 서울시, 대학생이 직접 기획하는 이색 봉사활동 찾습니다 </a>\n",
            "<a href=\"https://futurechosun.com/archives/52491\"> “편견에 주눅 들었던 결혼 이주 여성들… ‘봉사’로 자존감 되찾았다죠” </a>\n",
            "<a href=\"https://futurechosun.com/archives/47330\"> [글로벌 이슈] 전 세계 코로나19 확산으로… 해외 봉사 ‘올스톱’ 위기 </a>\n",
            "<a href=\"https://futurechosun.com/archives/47004\"> “마스크 한 장 이라도 더”… 자원봉사자들과 함께 쉼없이 가위질을 해댔다 </a>\n",
            "<a href=\"https://futurechosun.com/archives/46834\"> 코이카, 의료 해외봉사단 대구·경북 지역에 투입한다 </a>\n",
            "<a href=\"https://futurechosun.com/archives/43905\"> [어떻게 생각하십니까] 정부 믿고 해외봉사 갔는데… ‘불법 체류자’ 신세라니? </a>\n",
            "<a href=\"https://futurechosun.com/archives/43785\"> “봉사활동도 트렌디한 ‘취미생활’될 수 있어요”…봉사활동 기획·운영 플랫폼 ‘서울케어즈’ </a>\n",
            "<a href=\"https://futurechosun.com/archives/39923\"> bbb 코리아, 영어·일본어·중국어 등 신규 통역 봉사자 모집 </a>\n",
            "<a href=\"https://futurechosun.com/archives/38545\"> ‘월드프렌즈 KOICA 프로젝트’ 봉사단 모집…남태평양 섬나라 피지서 보건 교육 </a>\n",
            "<a href=\"https://futurechosun.com/archives/37895\"> 서울시자원봉사센터, 기업 사회공헌 담당자 대상 워크숍 개최 </a>\n",
            "<a href=\"https://futurechosun.com/archives/37393\"> “소록도병원, 자원봉사자들의 힘으로 굴러갑니다” </a>\n",
            "<a href=\"https://futurechosun.com/archives/35472\"> [이주의 공익뉴스브리핑] 서울시자원봉사센터, 자원봉사 관리자 아카데미 ‘관성탈출’ 수강생 모집(~8/27) 외 </a>\n",
            "<a href=\"https://futurechosun.com/archives/33380\"> “이젠 봉사도 DIY!” 서울시, 대학생이 직접 기획하는 이색 봉사활동 찾습니다 </a>\n"
          ],
          "name": "stdout"
        }
      ]
    },
    {
      "cell_type": "markdown",
      "metadata": {
        "id": "7tJm3kSIWdKP"
      },
      "source": [
        "9. 그러면 뽑아낸 a 태그의 html 문서에서 href의 값만 얻어내시오"
      ]
    },
    {
      "cell_type": "code",
      "metadata": {
        "colab": {
          "base_uri": "https://localhost:8080/"
        },
        "id": "P4U7OY0-WiBY",
        "outputId": "bc658b9a-a33f-44b5-e25e-8ca9c59c8b66"
      },
      "source": [
        "soup = BeautifulSoup(result,\"html.parser\")\r\n",
        "result1=soup.find_all('div',class_ ='elementor-post__title')\r\n",
        "\r\n",
        "for i in result1:\r\n",
        "    print(i.find_all('a')[0].get(\"href\")) # 오오왕"
      ],
      "execution_count": null,
      "outputs": [
        {
          "output_type": "stream",
          "text": [
            "https://futurechosun.com/archives/52491\n",
            "https://futurechosun.com/archives/47330\n",
            "https://futurechosun.com/archives/47004\n",
            "https://futurechosun.com/archives/46834\n",
            "https://futurechosun.com/archives/43905\n",
            "https://futurechosun.com/archives/43785\n",
            "https://futurechosun.com/archives/39923\n",
            "https://futurechosun.com/archives/38545\n",
            "https://futurechosun.com/archives/37895\n",
            "https://futurechosun.com/archives/37393\n",
            "https://futurechosun.com/archives/35472\n",
            "https://futurechosun.com/archives/33380\n",
            "https://futurechosun.com/archives/52491\n",
            "https://futurechosun.com/archives/47330\n",
            "https://futurechosun.com/archives/47004\n",
            "https://futurechosun.com/archives/46834\n",
            "https://futurechosun.com/archives/43905\n",
            "https://futurechosun.com/archives/43785\n",
            "https://futurechosun.com/archives/39923\n",
            "https://futurechosun.com/archives/38545\n",
            "https://futurechosun.com/archives/37895\n",
            "https://futurechosun.com/archives/37393\n",
            "https://futurechosun.com/archives/35472\n",
            "https://futurechosun.com/archives/33380\n"
          ],
          "name": "stdout"
        }
      ]
    },
    {
      "cell_type": "markdown",
      "metadata": {
        "id": "Tj4yVTUhammr"
      },
      "source": [
        "10. 위의 상세기사 url을 params 라는 리스트에 append 시킨다."
      ]
    },
    {
      "cell_type": "code",
      "metadata": {
        "colab": {
          "base_uri": "https://localhost:8080/"
        },
        "id": "8T8hz4Q8a6Ut",
        "outputId": "65c72441-1885-45b1-fdec-e581a7da8ed7"
      },
      "source": [
        "result = urllib.request.urlopen(url).read().decode('utf-8')\r\n",
        "soup = BeautifulSoup(result,\"html.parser\")\r\n",
        "result1=soup.find_all('div',class_ ='elementor-post__title')\r\n",
        "params = []\r\n",
        "for i in result1:\r\n",
        "    params.append(i.find_all('a')[0].get(\"href\")) # 오오왕\r\n",
        "print(len(params))"
      ],
      "execution_count": null,
      "outputs": [
        {
          "output_type": "stream",
          "text": [
            "24\n"
          ],
          "name": "stdout"
        }
      ]
    },
    {
      "cell_type": "markdown",
      "metadata": {
        "id": "0Ww_5NPkb8uT"
      },
      "source": [
        "11. 첫페이지만 가져오는게 아니라 1페이지부터 3페이지까지 24 x 3 = 72 페이지의 기사 url을 params 리스트에 append 시키시오.  \r\n",
        "\r\n"
      ]
    },
    {
      "cell_type": "code",
      "metadata": {
        "colab": {
          "base_uri": "https://localhost:8080/"
        },
        "id": "a_U3byfncqLW",
        "outputId": "be3c797c-954a-4069-d450-c3557331c82f"
      },
      "source": [
        "params = []     # for문 밖으로 이동\r\n",
        "for i in range(1,4):\r\n",
        "    list_url = f'https://futurechosun.com/page/{i}?s=%EB%B4%89%EC%82%AC'\r\n",
        "    url = urllib.request.Request(list_url)\r\n",
        "    result = urllib.request.urlopen(url).read().decode('utf-8')\r\n",
        "    soup = BeautifulSoup(result,\"html.parser\")\r\n",
        "    result1=soup.find_all('div',class_ ='elementor-post__title')\r\n",
        "\r\n",
        "    for i in result1:\r\n",
        "        params.append(i.find_all('a')[0].get(\"href\")) # 오오왕\r\n",
        "\r\n",
        "print(len(params)) # for 문 밖으로 이동"
      ],
      "execution_count": null,
      "outputs": [
        {
          "output_type": "stream",
          "text": [
            "72\n"
          ],
          "name": "stdout"
        }
      ]
    },
    {
      "cell_type": "markdown",
      "metadata": {
        "id": "p8PGWsMDfSLB"
      },
      "source": [
        "12. 조선일보 더 나은 미래 사이트는 사진을 클릭했을 때도 상세기사로 가고 기사제목을 클릭했을 때도 똑같이 상세기사로 가는 구조로 되어 있어서 상세기사 url이 중복되어서 스크롤링이 되었습니다. 그래서 params 요소들의 중복을 제거하시오!"
      ]
    },
    {
      "cell_type": "code",
      "metadata": {
        "colab": {
          "base_uri": "https://localhost:8080/"
        },
        "id": "CyBAUTm_ffXk",
        "outputId": "91a03988-4ead-47d5-fa5e-66e43baf78b1"
      },
      "source": [
        "params = []     # for문 밖으로 이동\r\n",
        "for i in range(1,4):\r\n",
        "    list_url = f'https://futurechosun.com/page/{i}?s=%EB%B4%89%EC%82%AC'\r\n",
        "    url = urllib.request.Request(list_url)\r\n",
        "    result = urllib.request.urlopen(url).read().decode('utf-8')\r\n",
        "    soup = BeautifulSoup(result,\"html.parser\")\r\n",
        "    result1=soup.find_all('div',class_ ='elementor-post__title')\r\n",
        "\r\n",
        "    for i in result1:\r\n",
        "        params.append(i.find_all('a')[0].get(\"href\")) # 오오왕\r\n",
        "\r\n",
        "my_result = set(params) # set함수를 ㅣㅇ용하면 중복이 제거가 된 요소들만 남는다.\r\n",
        "my_result2 = list(my_result)\r\n",
        "print(len(my_result2)) # for 문 밖으로 이동 드디어 된다"
      ],
      "execution_count": null,
      "outputs": [
        {
          "output_type": "stream",
          "text": [
            "36\n"
          ],
          "name": "stdout"
        }
      ]
    },
    {
      "cell_type": "markdown",
      "metadata": {
        "id": "EPn7HuvOgMs1"
      },
      "source": [
        "13. 위의 코드들을 가지고 bs_scroll()이라는 함수로 생성하시오\r\n"
      ]
    },
    {
      "cell_type": "code",
      "metadata": {
        "colab": {
          "base_uri": "https://localhost:8080/"
        },
        "id": "ib4qL-0vgQbi",
        "outputId": "e517e6b2-a46d-4744-91c6-b1fd3da3621a"
      },
      "source": [
        "\r\n",
        "from bs4 import BeautifulSoup\r\n",
        "import urllib.request\r\n",
        "\r\n",
        "def bs_scroll():    \r\n",
        "    params = []     # for문 밖으로 이동\r\n",
        "    for i in range(1,4):\r\n",
        "        list_url = f'https://futurechosun.com/page/{i}?s=%EB%B4%89%EC%82%AC'\r\n",
        "        url = urllib.request.Request(list_url)\r\n",
        "        result = urllib.request.urlopen(url).read().decode('utf-8')\r\n",
        "        soup = BeautifulSoup(result,\"html.parser\")\r\n",
        "        result1=soup.find_all('div',class_ ='elementor-post__title')\r\n",
        "\r\n",
        "        for i in result1:\r\n",
        "            params.append(i.find_all('a')[0].get(\"href\")) # 오오왕\r\n",
        "\r\n",
        "        my_result = set(params) # set함수를 ㅣㅇ용하면 중복이 제거가 된 요소들만 남는다.\r\n",
        "        my_result2 = list(my_result)\r\n",
        "    return my_result2 # for 문 밖으로 이동\r\n",
        "print(bs_scroll())"
      ],
      "execution_count": null,
      "outputs": [
        {
          "output_type": "stream",
          "text": [
            "['https://futurechosun.com/archives/31647', 'https://futurechosun.com/archives/18986', 'https://futurechosun.com/archives/27589', 'https://futurechosun.com/archives/47004', 'https://futurechosun.com/archives/27706', 'https://futurechosun.com/archives/38545', 'https://futurechosun.com/archives/29776', 'https://futurechosun.com/archives/27406', 'https://futurechosun.com/archives/39923', 'https://futurechosun.com/archives/18034', 'https://futurechosun.com/archives/27550', 'https://futurechosun.com/archives/35472', 'https://futurechosun.com/archives/28545', 'https://futurechosun.com/archives/33380', 'https://futurechosun.com/archives/29294', 'https://futurechosun.com/archives/23958', 'https://futurechosun.com/archives/47330', 'https://futurechosun.com/archives/52491', 'https://futurechosun.com/archives/17599', 'https://futurechosun.com/archives/27667', 'https://futurechosun.com/archives/24752', 'https://futurechosun.com/archives/18183', 'https://futurechosun.com/archives/27383', 'https://futurechosun.com/archives/46834', 'https://futurechosun.com/archives/37895', 'https://futurechosun.com/archives/27396', 'https://futurechosun.com/archives/43905', 'https://futurechosun.com/archives/21047', 'https://futurechosun.com/archives/43785', 'https://futurechosun.com/archives/27361', 'https://futurechosun.com/archives/27619', 'https://futurechosun.com/archives/20463', 'https://futurechosun.com/archives/30961', 'https://futurechosun.com/archives/29070', 'https://futurechosun.com/archives/37393', 'https://futurechosun.com/archives/27074']\n"
          ],
          "name": "stdout"
        }
      ]
    },
    {
      "cell_type": "markdown",
      "metadata": {
        "id": "YIpsPuoRmwiM"
      },
      "source": [
        "14. 더 나은 미래의 상세기사 url 하나를 가지고 본문 기사를 출력하시오!\r\n"
      ]
    },
    {
      "cell_type": "code",
      "metadata": {
        "colab": {
          "base_uri": "https://localhost:8080/"
        },
        "id": "wlLuqiAenLJQ",
        "outputId": "66379a9f-87d0-4a81-fae2-a4e5ea4d873d"
      },
      "source": [
        "from bs4 import BeautifulSoup\r\n",
        "import urllib.request\r\n",
        "\r\n",
        "def bs_detail():\r\n",
        "    list_url = \"https://futurechosun.com/archives/43905\"\r\n",
        "    url = urllib.request.Request(list_url)\r\n",
        "    result = urllib.request.urlopen(url).read().decode(\"utf-8\")\r\n",
        "    soup = BeautifulSoup(result, \"html.parser\")\r\n",
        "\r\n",
        "    # 2. 시청자 게시판의 날짜와 본문 내용을 가져옵니다.\r\n",
        "    result1 = soup.find_all('div',class_ ='par') # find랑 find_all 비교\r\n",
        "    return result1\r\n",
        "print(bs_detail())\r\n"
      ],
      "execution_count": null,
      "outputs": [
        {
          "output_type": "stream",
          "text": [
            "[<div class=\"par\"><p>“태극 마크 달고 봉사활동 하러 왔는데, 여기서 저는 정부 관계자를 보면 숨어야 하는 불법체류자였어요.”</p><p>한국국제협력단(KOICA·이하 코이카)이 운영하는 봉사단 ‘월드프렌즈코리아(World Friends Korea·이하 WFK)’ 단원 자격으로 네팔에 있는 한국 NGO 사무소에 파견된 A씨는 “그 시간을 기억하고 싶지 않다”면서 고개를 저었다. 현지 주민 수십명 앞에서 교육을 하다가도 “정부 사람이 나타났다”는 소식이 들리면 옆 건물, 부엌 등으로 헐레벌떡 뛰어가 그들이 돌아갈 때까지 몸을 숨겨야 했다. A씨가 학생비자 소지자였기 때문이다.</p><p>네팔 정부는 외국인이 비자에 명시된 체류 목적 외 활동을 하는 것을 엄격히 금지하고 있기 때문에 A씨가 학생비자로 NGO 활동을 한다는 사실이 적발되면 큰 문제가 될 수 있다. 벌금 부과는 물론 심한 경우 구금되거나 추방될 수도 있다. 네팔 정부의 단속이 잦아지자 A씨의 불안감은 커져만 갔다. 현지의 한국인 사무소장에게 이런 심경을 호소하자 돌아온 대답은 “다음엔 더 빨리 숨으라”는 핀잔이었다. 최대 2년을 계획하고 네팔에 간 A씨는 결국 몇 달 만에 귀국했다.</p><p>WFK 소속으로 해외로 봉사활동을 떠난 한국 청년들이 현지에서 비자 문제로 곤란을 겪고 있다. WFK는 정부의 무상원조기금으로 운영하는 해외봉사단을 통칭하는 브랜드명으로, 외교부 산하의 무상원조기관인 코이카가 총괄하고 있다. 해외에서 합법적으로 NGO 활동을 하려면 ‘NGO비자’나 ‘취업비자’를 받아야 하는데, 코이카가 비자 문제를 제대로 해결해주지 않고 있다는 지적이 나오고 있다.</p><p> </p></div>, <div class=\"par\"><p><strong>이름만 ‘정부 봉사단’, 비자 발급은 “나 몰라라”</strong></p><p>코이카는 1991년부터 해외에 봉사단을 파견하기 시작했다. 2009년부터는 기존 코이카 봉사단을 비롯해 정부 무상원조기금으로 운영되는 해외 봉사단을 통합해 WFK라는 이름으로 총괄하고 있다. WFK 봉사단은 ▲WFK-코이카 봉사단 ▲WFK-대학생 봉사단 ▲WFK-시니어 봉사단 ▲WFK-NGO 봉사단 등 17개의 봉사단으로 나뉘는데, 현재 54개국에서 2089명이 활동 중이다.</p><p>이중 비자 문제가 가장 심각한 곳은 30여 개국에서 300여명이 활동 중인 ‘WFK-NGO 봉사단’이다. 개발도상국에서 활동하는 국내 NGO에 대졸 이상 성인을 최장 2년까지 파견하는 형태로 운영되는데 A씨 역시 WFK-NGO 봉사단 소속이었다.</p><p>WFK-NGO 봉사단에서 비자 문제가 발생하는 이유는 코이카가 이 사업을 NGO에 위탁해 운영하면서, 비자 문제까지 이들에게 맡겨놓고 있기 때문이다. 코이카는 NGO 봉사단 운영을 국제구호 NGO들의 협의체인 KCOC(국제개발협력민간협의회)에 위탁하고 있다. KCOC가 NGO를 선정하고, NGO가 개별적으로 단원을 뽑아 해외에 파견을 보내는 식이다. 단원들의 비자 발급도 NGO가 직접 진행하게 된다.</p><p>문제는 NGO에 대한 개도국의 비자 정책이 생각보다 까다롭다는 것이다. 정부가 쉽게 취업 허가증(Work Permit)을 내어 주는 몽골이나, 현지 한국 대사관이 보증을 서 특별 비자를 받는 동티모르의 경우 체류에 문제가 없지만 그 밖의 대부분 국가에서는 소장급 NGO 직원조차도 관광비자나 학생비자로 활동하는 경우가 많다. 비자 발급이 어렵다 보니 불법인 줄 알면서도 직접 뽑은 WFK-NGO 봉사단원들에게 ‘관광·학생 비자를 받으라’고 안내할 수밖에 없다는 게 NGO들의 입장이다.</p><p> </p></div>, <div class=\"par\"><p><strong>코이카 “지원 미흡 인정… 제도 개선 노력할 것”</strong></p><p>네팔의 경우 비자 단속이 특히 심한 국가에 속하지만, 단속이 느슨한 국가라고 해서 안심할 순 없다. 개도국이 비자 정책을 바꾸면 바로 상황이 뒤바뀔 수 있기 때문이다. 노영선 KCOC 봉사사업팀장은 “작년까지 문제가 없던 나라에서 갑자기 비자 발급을 거절하는 경우도 늘고 있다”며 “개도국 정부가 NGO를 반정부 단체로 간주하거나 자국민을 고용하라는 식으로 태도를 바꾸면 개별 NGO가 대응하기 어렵다”고 밝혔다.</p><p>미얀마에서 활동하는 한 국제NGO 직원은 “미얀마에도 WFK-NGO 봉사단원들이 제대로 된 비자 없이 편법으로 활동하는 것으로 알고 있다”며 “당장 괜찮아 보여도 권위주의적인 미얀마 정부가 문제시하면 언제든 단원들이 위험에 처할 수 있다”고 말했다. KCOC 측은 “비자 문제로 단원이 활동에 어려움을 겪거나 추방되는 일이 점점 늘어나는 것을 인지하고 있다”면서 “올해 초부터 코이카에 이 문제를 해결해달라고 건의하고 있는 상황”이라고 밝혔다.</p><p>전문가들은 NGO 봉사단도 정부 봉사단인 만큼 비자 문제는 정부가 책임져야 한다고 설명한다. 국제개발협력 감시 단체인 ‘발전대안 피다’의 한재광 대표는 “정부가 NGO를 통해 개도국에 봉사단을 파견하는 것은 영국·프랑스 등 선진국에서도 흔한 일”이라며 “문제는 ‘NGO가 파견하니까 비자도 단체에서 알아서 하라’는 코이카의 태도”라고 말했다. 코이카 측은 “봉사단 지원에 미흡한 점이 있었음을 인정한다”며 “외교부나 기획재정부 등 관계 부처 협조를 받아 WFK소속 모든 단원이 적법한 비자를 받도록 조치하겠다”고 밝혔다.</p><p> </p></div>]\n"
          ],
          "name": "stdout"
        }
      ]
    },
    {
      "cell_type": "code",
      "metadata": {
        "colab": {
          "base_uri": "https://localhost:8080/"
        },
        "id": "ixAQ_ofYp2G5",
        "outputId": "e60c12fd-8fa5-4900-e6e5-89672f05b935"
      },
      "source": [
        "list_url = \"https://futurechosun.com/archives/43905\"\r\n",
        "url = urllib.request.Request(list_url)\r\n",
        "result = urllib.request.urlopen(url).read().decode(\"utf-8\")\r\n",
        "soup = BeautifulSoup(result, \"html.parser\")\r\n",
        "\r\n",
        "# 2. 시청자 게시판의 날짜와 본문 내용을 가져옵니다.\r\n",
        "result1 = soup.find_all('div',class_ ='elementor-element elementor-element-24e82692 elementor-widget__width-initial elementor-widget elementor-widget-theme-post-content') # find랑 find_all 비교\r\n",
        "print(result1) \r\n"
      ],
      "execution_count": null,
      "outputs": [
        {
          "output_type": "stream",
          "text": [
            "[<div class=\"elementor-element elementor-element-24e82692 elementor-widget__width-initial elementor-widget elementor-widget-theme-post-content\" data-element_type=\"widget\" data-id=\"24e82692\" data-widget_type=\"theme-post-content.default\"><div class=\"elementor-widget-container\"><p class=\"news_subtitle\"><strong>[어떻게 생각하십니까]</strong></p><p class=\"news_subtitle\"><strong>코이카가 운영하는 해외봉사단 ‘WFK’</strong><br/> <strong>정부의 무상원조기금으로 활동하지만</strong><br/> <strong>위탁 운영하며 비자 관리까지 NGO에</strong></p><p><strong>네팔 등 개도국, NGO 비자 정책 ‘깐깐’</strong><br/> <strong>‘편법적인’ 관광·학생 비자 받을 수밖에</strong><br/> <strong>봉사자들, 현지 단속 걸릴까 ‘전전긍긍’</strong></p><div><figure aria-describedby=\"caption-attachment-43907\" class=\"wp-caption aligncenter\" id=\"attachment_43907\" style=\"width: 300px\"><noscript><img alt=\"\" class=\"size-full wp-image-43907 aligncenter\" height=\"450\" sizes=\"(max-width: 300px) 100vw, 300px\" src=\"https://futurechosun.com/wp-content/uploads/코이카이미지.jpg\" srcset=\"https://futurechosun.com/wp-content/uploads/코이카이미지.jpg 300w, https://futurechosun.com/wp-content/uploads/코이카이미지-200x300.jpg 200w\" width=\"300\"/></noscript><img alt=\"\" class=\"lazyload size-full wp-image-43907 aligncenter\" data-sizes=\"(max-width: 300px) 100vw, 300px\" data-src=\"https://futurechosun.com/wp-content/uploads/코이카이미지.jpg\" data-srcset=\"https://futurechosun.com/wp-content/uploads/코이카이미지.jpg 300w, https://futurechosun.com/wp-content/uploads/코이카이미지-200x300.jpg 200w\" height=\"450\" src=\"data:image/svg+xml,%3Csvg%20xmlns=%22http://www.w3.org/2000/svg%22%20viewBox=%220%200%20300%20450%22%3E%3C/svg%3E\" width=\"300\"/><figcaption class=\"wp-caption-text\" id=\"caption-attachment-43907\">ⓒ게티이미지뱅크</figcaption></figure></div><div class=\"par\"><p>“태극 마크 달고 봉사활동 하러 왔는데, 여기서 저는 정부 관계자를 보면 숨어야 하는 불법체류자였어요.”</p><p>한국국제협력단(KOICA·이하 코이카)이 운영하는 봉사단 ‘월드프렌즈코리아(World Friends Korea·이하 WFK)’ 단원 자격으로 네팔에 있는 한국 NGO 사무소에 파견된 A씨는 “그 시간을 기억하고 싶지 않다”면서 고개를 저었다. 현지 주민 수십명 앞에서 교육을 하다가도 “정부 사람이 나타났다”는 소식이 들리면 옆 건물, 부엌 등으로 헐레벌떡 뛰어가 그들이 돌아갈 때까지 몸을 숨겨야 했다. A씨가 학생비자 소지자였기 때문이다.</p><p>네팔 정부는 외국인이 비자에 명시된 체류 목적 외 활동을 하는 것을 엄격히 금지하고 있기 때문에 A씨가 학생비자로 NGO 활동을 한다는 사실이 적발되면 큰 문제가 될 수 있다. 벌금 부과는 물론 심한 경우 구금되거나 추방될 수도 있다. 네팔 정부의 단속이 잦아지자 A씨의 불안감은 커져만 갔다. 현지의 한국인 사무소장에게 이런 심경을 호소하자 돌아온 대답은 “다음엔 더 빨리 숨으라”는 핀잔이었다. 최대 2년을 계획하고 네팔에 간 A씨는 결국 몇 달 만에 귀국했다.</p><p>WFK 소속으로 해외로 봉사활동을 떠난 한국 청년들이 현지에서 비자 문제로 곤란을 겪고 있다. WFK는 정부의 무상원조기금으로 운영하는 해외봉사단을 통칭하는 브랜드명으로, 외교부 산하의 무상원조기관인 코이카가 총괄하고 있다. 해외에서 합법적으로 NGO 활동을 하려면 ‘NGO비자’나 ‘취업비자’를 받아야 하는데, 코이카가 비자 문제를 제대로 해결해주지 않고 있다는 지적이 나오고 있다.</p><p> </p></div><div class=\"par\"><p><strong>이름만 ‘정부 봉사단’, 비자 발급은 “나 몰라라”</strong></p><p>코이카는 1991년부터 해외에 봉사단을 파견하기 시작했다. 2009년부터는 기존 코이카 봉사단을 비롯해 정부 무상원조기금으로 운영되는 해외 봉사단을 통합해 WFK라는 이름으로 총괄하고 있다. WFK 봉사단은 ▲WFK-코이카 봉사단 ▲WFK-대학생 봉사단 ▲WFK-시니어 봉사단 ▲WFK-NGO 봉사단 등 17개의 봉사단으로 나뉘는데, 현재 54개국에서 2089명이 활동 중이다.</p><p>이중 비자 문제가 가장 심각한 곳은 30여 개국에서 300여명이 활동 중인 ‘WFK-NGO 봉사단’이다. 개발도상국에서 활동하는 국내 NGO에 대졸 이상 성인을 최장 2년까지 파견하는 형태로 운영되는데 A씨 역시 WFK-NGO 봉사단 소속이었다.</p><p>WFK-NGO 봉사단에서 비자 문제가 발생하는 이유는 코이카가 이 사업을 NGO에 위탁해 운영하면서, 비자 문제까지 이들에게 맡겨놓고 있기 때문이다. 코이카는 NGO 봉사단 운영을 국제구호 NGO들의 협의체인 KCOC(국제개발협력민간협의회)에 위탁하고 있다. KCOC가 NGO를 선정하고, NGO가 개별적으로 단원을 뽑아 해외에 파견을 보내는 식이다. 단원들의 비자 발급도 NGO가 직접 진행하게 된다.</p><p>문제는 NGO에 대한 개도국의 비자 정책이 생각보다 까다롭다는 것이다. 정부가 쉽게 취업 허가증(Work Permit)을 내어 주는 몽골이나, 현지 한국 대사관이 보증을 서 특별 비자를 받는 동티모르의 경우 체류에 문제가 없지만 그 밖의 대부분 국가에서는 소장급 NGO 직원조차도 관광비자나 학생비자로 활동하는 경우가 많다. 비자 발급이 어렵다 보니 불법인 줄 알면서도 직접 뽑은 WFK-NGO 봉사단원들에게 ‘관광·학생 비자를 받으라’고 안내할 수밖에 없다는 게 NGO들의 입장이다.</p><p> </p></div><div class=\"par\"><p><strong>코이카 “지원 미흡 인정… 제도 개선 노력할 것”</strong></p><p>네팔의 경우 비자 단속이 특히 심한 국가에 속하지만, 단속이 느슨한 국가라고 해서 안심할 순 없다. 개도국이 비자 정책을 바꾸면 바로 상황이 뒤바뀔 수 있기 때문이다. 노영선 KCOC 봉사사업팀장은 “작년까지 문제가 없던 나라에서 갑자기 비자 발급을 거절하는 경우도 늘고 있다”며 “개도국 정부가 NGO를 반정부 단체로 간주하거나 자국민을 고용하라는 식으로 태도를 바꾸면 개별 NGO가 대응하기 어렵다”고 밝혔다.</p><p>미얀마에서 활동하는 한 국제NGO 직원은 “미얀마에도 WFK-NGO 봉사단원들이 제대로 된 비자 없이 편법으로 활동하는 것으로 알고 있다”며 “당장 괜찮아 보여도 권위주의적인 미얀마 정부가 문제시하면 언제든 단원들이 위험에 처할 수 있다”고 말했다. KCOC 측은 “비자 문제로 단원이 활동에 어려움을 겪거나 추방되는 일이 점점 늘어나는 것을 인지하고 있다”면서 “올해 초부터 코이카에 이 문제를 해결해달라고 건의하고 있는 상황”이라고 밝혔다.</p><p>전문가들은 NGO 봉사단도 정부 봉사단인 만큼 비자 문제는 정부가 책임져야 한다고 설명한다. 국제개발협력 감시 단체인 ‘발전대안 피다’의 한재광 대표는 “정부가 NGO를 통해 개도국에 봉사단을 파견하는 것은 영국·프랑스 등 선진국에서도 흔한 일”이라며 “문제는 ‘NGO가 파견하니까 비자도 단체에서 알아서 하라’는 코이카의 태도”라고 말했다. 코이카 측은 “봉사단 지원에 미흡한 점이 있었음을 인정한다”며 “외교부나 기획재정부 등 관계 부처 협조를 받아 WFK소속 모든 단원이 적법한 비자를 받도록 조치하겠다”고 밝혔다.</p><p> </p></div><p class=\"Xcoop\"><span lang=\"EN-US\">[</span>박선하 더나은미래 기자<span lang=\"EN-US\"> sona@chosun.com]</span></p><p class=\"Xcoop\"><span lang=\"EN-US\">– Copyrights ⓒ </span>더나은미래<span lang=\"EN-US\"> &amp; futurechosun.com, </span>무단전재<span lang=\"EN-US\">·</span>재배포 금지<span lang=\"EN-US\">–</span></p></div></div>]\n"
          ],
          "name": "stdout"
        }
      ]
    },
    {
      "cell_type": "markdown",
      "metadata": {
        "id": "-omqjgKhquAa"
      },
      "source": [
        "15. 위의 코드를 가지고 bs_detail_scroll() 함수로 생성하시오"
      ]
    },
    {
      "cell_type": "code",
      "metadata": {
        "colab": {
          "base_uri": "https://localhost:8080/"
        },
        "id": "miWKjB3eq2BO",
        "outputId": "9fd9c284-3e84-4785-c45d-a189395780d6"
      },
      "source": [
        "def bs_detail_scroll():\r\n",
        "    list_url = \"https://futurechosun.com/archives/43905\"\r\n",
        "    param2 = []\r\n",
        "    url = urllib.request.Request(list_url) \r\n",
        "    result = urllib.request.urlopen(url).read().decode(\"utf-8\") \r\n",
        "    soup=BeautifulSoup(result,\"html.parser\")\r\n",
        "    result=soup.find_all('div', class_ ='elementor-element elementor-element-24e82692 elementor-widget__width-initial elementor-widget elementor-widget-theme-post-content')\r\n",
        "    for i in result:\r\n",
        "        param2.append(i.get_text(' ',strip = True))\r\n",
        "    return param2\r\n",
        "print(bs_detail_scroll())"
      ],
      "execution_count": null,
      "outputs": [
        {
          "output_type": "stream",
          "text": [
            "['[어떻게 생각하십니까] 코이카가 운영하는 해외봉사단 ‘WFK’ 정부의 무상원조기금으로 활동하지만 위탁 운영하며 비자 관리까지 NGO에 네팔 등 개도국, NGO 비자 정책 ‘깐깐’ ‘편법적인’ 관광·학생 비자 받을 수밖에 봉사자들, 현지 단속 걸릴까 ‘전전긍긍’ ⓒ게티이미지뱅크 “태극 마크 달고 봉사활동 하러 왔는데, 여기서 저는 정부 관계자를 보면 숨어야 하는 불법체류자였어요.” 한국국제협력단(KOICA·이하 코이카)이 운영하는 봉사단 ‘월드프렌즈코리아(World Friends Korea·이하 WFK)’ 단원 자격으로 네팔에 있는 한국 NGO 사무소에 파견된 A씨는 “그 시간을 기억하고 싶지 않다”면서 고개를 저었다. 현지 주민 수십명 앞에서 교육을 하다가도 “정부 사람이 나타났다”는 소식이 들리면 옆 건물, 부엌 등으로 헐레벌떡 뛰어가 그들이 돌아갈 때까지 몸을 숨겨야 했다. A씨가 학생비자 소지자였기 때문이다. 네팔 정부는 외국인이 비자에 명시된 체류 목적 외 활동을 하는 것을 엄격히 금지하고 있기 때문에 A씨가 학생비자로 NGO 활동을 한다는 사실이 적발되면 큰 문제가 될 수 있다. 벌금 부과는 물론 심한 경우 구금되거나 추방될 수도 있다. 네팔 정부의 단속이 잦아지자 A씨의 불안감은 커져만 갔다. 현지의 한국인 사무소장에게 이런 심경을 호소하자 돌아온 대답은 “다음엔 더 빨리 숨으라”는 핀잔이었다. 최대 2년을 계획하고 네팔에 간 A씨는 결국 몇 달 만에 귀국했다. WFK 소속으로 해외로 봉사활동을 떠난 한국 청년들이 현지에서 비자 문제로 곤란을 겪고 있다. WFK는 정부의 무상원조기금으로 운영하는 해외봉사단을 통칭하는 브랜드명으로, 외교부 산하의 무상원조기관인 코이카가 총괄하고 있다. 해외에서 합법적으로 NGO 활동을 하려면 ‘NGO비자’나 ‘취업비자’를 받아야 하는데, 코이카가 비자 문제를 제대로 해결해주지 않고 있다는 지적이 나오고 있다. 이름만 ‘정부 봉사단’, 비자 발급은 “나 몰라라” 코이카는 1991년부터 해외에 봉사단을 파견하기 시작했다. 2009년부터는 기존 코이카 봉사단을 비롯해 정부 무상원조기금으로 운영되는 해외 봉사단을 통합해 WFK라는 이름으로 총괄하고 있다. WFK 봉사단은 ▲WFK-코이카 봉사단 ▲WFK-대학생 봉사단 ▲WFK-시니어 봉사단 ▲WFK-NGO 봉사단 등 17개의 봉사단으로 나뉘는데, 현재 54개국에서 2089명이 활동 중이다. 이중 비자 문제가 가장 심각한 곳은 30여 개국에서 300여명이 활동 중인 ‘WFK-NGO 봉사단’이다. 개발도상국에서 활동하는 국내 NGO에 대졸 이상 성인을 최장 2년까지 파견하는 형태로 운영되는데 A씨 역시 WFK-NGO 봉사단 소속이었다. WFK-NGO 봉사단에서 비자 문제가 발생하는 이유는 코이카가 이 사업을 NGO에 위탁해 운영하면서, 비자 문제까지 이들에게 맡겨놓고 있기 때문이다. 코이카는 NGO 봉사단 운영을 국제구호 NGO들의 협의체인 KCOC(국제개발협력민간협의회)에 위탁하고 있다. KCOC가 NGO를 선정하고, NGO가 개별적으로 단원을 뽑아 해외에 파견을 보내는 식이다. 단원들의 비자 발급도 NGO가 직접 진행하게 된다. 문제는 NGO에 대한 개도국의 비자 정책이 생각보다 까다롭다는 것이다. 정부가 쉽게 취업 허가증(Work Permit)을 내어 주는 몽골이나, 현지 한국 대사관이 보증을 서 특별 비자를 받는 동티모르의 경우 체류에 문제가 없지만 그 밖의 대부분 국가에서는 소장급 NGO 직원조차도 관광비자나 학생비자로 활동하는 경우가 많다. 비자 발급이 어렵다 보니 불법인 줄 알면서도 직접 뽑은 WFK-NGO 봉사단원들에게 ‘관광·학생 비자를 받으라’고 안내할 수밖에 없다는 게 NGO들의 입장이다. 코이카 “지원 미흡 인정… 제도 개선 노력할 것” 네팔의 경우 비자 단속이 특히 심한 국가에 속하지만, 단속이 느슨한 국가라고 해서 안심할 순 없다. 개도국이 비자 정책을 바꾸면 바로 상황이 뒤바뀔 수 있기 때문이다. 노영선 KCOC 봉사사업팀장은 “작년까지 문제가 없던 나라에서 갑자기 비자 발급을 거절하는 경우도 늘고 있다”며 “개도국 정부가 NGO를 반정부 단체로 간주하거나 자국민을 고용하라는 식으로 태도를 바꾸면 개별 NGO가 대응하기 어렵다”고 밝혔다. 미얀마에서 활동하는 한 국제NGO 직원은 “미얀마에도 WFK-NGO 봉사단원들이 제대로 된 비자 없이 편법으로 활동하는 것으로 알고 있다”며 “당장 괜찮아 보여도 권위주의적인 미얀마 정부가 문제시하면 언제든 단원들이 위험에 처할 수 있다”고 말했다. KCOC 측은 “비자 문제로 단원이 활동에 어려움을 겪거나 추방되는 일이 점점 늘어나는 것을 인지하고 있다”면서 “올해 초부터 코이카에 이 문제를 해결해달라고 건의하고 있는 상황”이라고 밝혔다. 전문가들은 NGO 봉사단도 정부 봉사단인 만큼 비자 문제는 정부가 책임져야 한다고 설명한다. 국제개발협력 감시 단체인 ‘발전대안 피다’의 한재광 대표는 “정부가 NGO를 통해 개도국에\\xa0봉사단을 파견하는 것은 영국·프랑스 등 선진국에서도 흔한 일”이라며 “문제는 ‘NGO가 파견하니까 비자도 단체에서 알아서 하라’는 코이카의 태도”라고 말했다. 코이카 측은 “봉사단 지원에 미흡한 점이 있었음을 인정한다”며 “외교부나 기획재정부 등 관계 부처 협조를 받아 WFK소속 모든 단원이 적법한 비자를 받도록 조치하겠다”고 밝혔다. [ 박선하 더나은미래 기자 sona@chosun.com] – Copyrights ⓒ 더나은미래 & futurechosun.com, 무단전재 · 재배포 금지 –']\n"
          ],
          "name": "stdout"
        }
      ]
    },
    {
      "cell_type": "markdown",
      "metadata": {
        "id": "cWwl68ilAf0U"
      },
      "source": [
        "16. 지금 방금 생성한 bs_detail_scroll() 함수의 코드안에 bs_scroll() 함수를 호출하는 코드를 추가해서 bs_scroll 코드"
      ]
    },
    {
      "cell_type": "code",
      "metadata": {
        "id": "CSUYC2i1A_3S"
      },
      "source": [
        "def bs_detail_scroll():\r\n",
        "    list_url = bs_scroll()\r\n",
        "    param2 = []\r\n",
        "    for i in list_url:\r\n",
        "        url = urllib.request.Request(i) \r\n",
        "        result = urllib.request.urlopen(url).read().decode(\"utf-8\") \r\n",
        "        soup=BeautifulSoup(result,\"html.parser\")\r\n",
        "        result=soup.find_all('div', class_ ='elementor-element elementor-element-24e82692 elementor-widget__width-initial elementor-widget elementor-widget-theme-post-content')\r\n",
        "        for i in result:\r\n",
        "            param2.append(i.get_text(' ',strip = True))\r\n",
        "            print(i.get_text(' ',strip = True))\r\n",
        "    return param2\r\n",
        "print(bs_detail_scroll())"
      ],
      "execution_count": null,
      "outputs": []
    },
    {
      "cell_type": "markdown",
      "metadata": {
        "id": "vdKiI97YCy3q"
      },
      "source": [
        "18. 위에서 수집한 기사가 들어있는 params2 리스트의 내용을 c드라이브 밑에 data 밑에 bongsa.txt로 생성되게 하시오!"
      ]
    },
    {
      "cell_type": "markdown",
      "metadata": {
        "id": "wFo2KOOqHiSm"
      },
      "source": [
        "# 이데일리 사이트 웹 스크롤링\r\n",
        "\r\n",
        "예제1. 이데일리에서 첫눈으로 기사들을 검색하시오."
      ]
    },
    {
      "cell_type": "code",
      "metadata": {
        "id": "TNVX9otvI00o"
      },
      "source": [
        "https://www.edaily.co.kr/search/news/?keyword=%ec%b2%ab%eb%88%88&page=1\r\n",
        "https://www.edaily.co.kr/search/news/?keyword=%ec%b2%ab%eb%88%88&page=2"
      ],
      "execution_count": null,
      "outputs": []
    },
    {
      "cell_type": "markdown",
      "metadata": {
        "id": "1Hy4A1QdI19-"
      },
      "source": [
        "예제2. 위의 url의 첫페이지의 html 코드를 BeautifulSoup으로 파싱하시오."
      ]
    },
    {
      "cell_type": "code",
      "metadata": {
        "id": "m_y_nh1OJCb5"
      },
      "source": [
        "from bs4 import BeautifulSoup\r\n",
        "import urllib.request\r\n",
        "\r\n",
        "list_url = 'https://www.edaily.co.kr/search/news/?keyword=%ec%b2%ab%eb%88%88&page=1'\r\n",
        "url = urllib.request.Request(list_url)\r\n",
        "result = urllib.request.urlopen(url).read().decode('utf-8')\r\n",
        "soup = BeautifulSoup(result,'html.parser')\r\n"
      ],
      "execution_count": null,
      "outputs": []
    },
    {
      "cell_type": "markdown",
      "metadata": {
        "id": "RBkmHYCxJ-kc"
      },
      "source": [
        "예제3. 상세기사 url을 찾기 위한 태그 이름과 클래스 이름을 알아내시오!  \r\n",
        "\r\n",
        "답: 태그이름 div, 클래스 이름 newsbox_04  \r\n",
        "\r\n",
        "예제4. 위의 div 태그와 newsbox_04 클래스를 가지고 href의 상세기사 url을 출력하시오."
      ]
    },
    {
      "cell_type": "code",
      "metadata": {
        "id": "5ltxqngLKa5w"
      },
      "source": [
        "soup = BeautifulSoup(result,'html.parser')\r\n",
        "result1 = soup.find_all('div',class_ = 'newsbox_04')\r\n",
        "for i in result1:\r\n",
        "#    print(i.find_all('a')[0])   # 리스트에는 get이라는 함수가 없어서 0번째 요소를 뽑아서 get을 씀\r\n",
        "    print('http://www.edaily.co.kr/'+i.find_all('a')[0].get(\"href\"))\r\n",
        "#print(result1)"
      ],
      "execution_count": null,
      "outputs": []
    },
    {
      "cell_type": "markdown",
      "metadata": {
        "id": "PuYsV5LDKRL4"
      },
      "source": [
        "와 진짜 잘한다;  \r\n",
        "\r\n",
        "예제5. 위의 상세기사 url을 params라는 비어있는 리스트에 담으시오!"
      ]
    },
    {
      "cell_type": "code",
      "metadata": {
        "colab": {
          "base_uri": "https://localhost:8080/"
        },
        "id": "tGG8iFY_RKDz",
        "outputId": "0baaf966-b9ad-4610-cfa0-bf3eb0d1be88"
      },
      "source": [
        "soup = BeautifulSoup(result,'html.parser')\r\n",
        "result1 = soup.find_all('div',class_ = 'newsbox_04')\r\n",
        "params = []\r\n",
        "for i in result1:\r\n",
        "    params.append('http://www.edaily.co.kr/'+i.find_all('a')[0].get(\"href\"))\r\n",
        "print(params)"
      ],
      "execution_count": null,
      "outputs": [
        {
          "output_type": "stream",
          "text": [
            "['http://www.edaily.co.kr//news/read?newsId=01423526625998520&mediaCodeNo=258', 'http://www.edaily.co.kr//news/read?newsId=01439926625998520&mediaCodeNo=258', 'http://www.edaily.co.kr//news/read?newsId=01230006625998520&mediaCodeNo=258', 'http://www.edaily.co.kr//news/read?newsId=01157846625998192&mediaCodeNo=258', 'http://www.edaily.co.kr//news/read?newsId=01758086625997208&mediaCodeNo=257', 'http://www.edaily.co.kr//news/read?newsId=01174246625998848&mediaCodeNo=258', 'http://www.edaily.co.kr//news/read?newsId=01207046625998848&mediaCodeNo=258', 'http://www.edaily.co.kr//news/read?newsId=02843766625998848&mediaCodeNo=257', 'http://www.edaily.co.kr//news/read?newsId=04057366625997208&mediaCodeNo=257', 'http://www.edaily.co.kr//news/read?newsId=03076646625999504&mediaCodeNo=257', 'http://www.edaily.co.kr//news/read?newsId=01243126625998520&mediaCodeNo=258', 'http://www.edaily.co.kr//news/read?newsId=01302166625999176&mediaCodeNo=257', 'http://www.edaily.co.kr//news/read?newsId=01187366625998520&mediaCodeNo=258', 'http://www.edaily.co.kr//news/read?newsId=01079126625999176&mediaCodeNo=258', 'http://www.edaily.co.kr//news/read?newsId=02499366625998520&mediaCodeNo=257', 'http://www.edaily.co.kr//news/read?newsId=01289046625997536&mediaCodeNo=258', 'http://www.edaily.co.kr//news/read?newsId=01453046625997536&mediaCodeNo=257', 'http://www.edaily.co.kr//news/read?newsId=01216886625997864&mediaCodeNo=258', 'http://www.edaily.co.kr//news/read?newsId=01098806625997864&mediaCodeNo=258', 'http://www.edaily.co.kr//news/read?newsId=01387446625997536&mediaCodeNo=258']\n"
          ],
          "name": "stdout"
        }
      ]
    },
    {
      "cell_type": "markdown",
      "metadata": {
        "id": "OOBXE3wXRpEk"
      },
      "source": [
        "예제6. 위의 코드들을 가지고 eda_scroll()함수를 생성하시오!  \r\n",
        "params 리스트가 리턴될 수 있도록 하시오!"
      ]
    },
    {
      "cell_type": "code",
      "metadata": {
        "colab": {
          "base_uri": "https://localhost:8080/"
        },
        "id": "adjDA2jGRtns",
        "outputId": "3ce97a2d-af0a-4631-b928-4478872d76db"
      },
      "source": [
        "def eda_scroll():\r\n",
        "    list_url = 'https://www.edaily.co.kr/search/news/?keyword=%ec%b2%ab%eb%88%88&page=1'\r\n",
        "    url = urllib.request.Request(list_url)\r\n",
        "    result = urllib.request.urlopen(url).read().decode('utf-8')\r\n",
        "    soup = BeautifulSoup(result,'html.parser')\r\n",
        "    result1 = soup.find_all('div',class_ = 'newsbox_04')\r\n",
        "    params = []\r\n",
        "    for i in result1:\r\n",
        "        params.append('http://www.edaily.co.kr/'+i.find_all('a')[0].get(\"href\"))\r\n",
        "    return params\r\n",
        "print(eda_scroll())"
      ],
      "execution_count": null,
      "outputs": [
        {
          "output_type": "stream",
          "text": [
            "['http://www.edaily.co.kr//news/read?newsId=01423526625998520&mediaCodeNo=258', 'http://www.edaily.co.kr//news/read?newsId=01439926625998520&mediaCodeNo=258', 'http://www.edaily.co.kr//news/read?newsId=01230006625998520&mediaCodeNo=258', 'http://www.edaily.co.kr//news/read?newsId=01157846625998192&mediaCodeNo=258', 'http://www.edaily.co.kr//news/read?newsId=01758086625997208&mediaCodeNo=257', 'http://www.edaily.co.kr//news/read?newsId=01174246625998848&mediaCodeNo=258', 'http://www.edaily.co.kr//news/read?newsId=01207046625998848&mediaCodeNo=258', 'http://www.edaily.co.kr//news/read?newsId=02843766625998848&mediaCodeNo=257', 'http://www.edaily.co.kr//news/read?newsId=04057366625997208&mediaCodeNo=257', 'http://www.edaily.co.kr//news/read?newsId=03076646625999504&mediaCodeNo=257', 'http://www.edaily.co.kr//news/read?newsId=01243126625998520&mediaCodeNo=258', 'http://www.edaily.co.kr//news/read?newsId=01302166625999176&mediaCodeNo=257', 'http://www.edaily.co.kr//news/read?newsId=01187366625998520&mediaCodeNo=258', 'http://www.edaily.co.kr//news/read?newsId=01079126625999176&mediaCodeNo=258', 'http://www.edaily.co.kr//news/read?newsId=02499366625998520&mediaCodeNo=257', 'http://www.edaily.co.kr//news/read?newsId=01289046625997536&mediaCodeNo=258', 'http://www.edaily.co.kr//news/read?newsId=01453046625997536&mediaCodeNo=257', 'http://www.edaily.co.kr//news/read?newsId=01216886625997864&mediaCodeNo=258', 'http://www.edaily.co.kr//news/read?newsId=01098806625997864&mediaCodeNo=258', 'http://www.edaily.co.kr//news/read?newsId=01387446625997536&mediaCodeNo=258']\n"
          ],
          "name": "stdout"
        }
      ]
    },
    {
      "cell_type": "markdown",
      "metadata": {
        "id": "b620uJdORtRy"
      },
      "source": [
        "예제7. 위의 상세기사 url 하나를 가지고 기사 본문을 출력하시오!"
      ]
    },
    {
      "cell_type": "code",
      "metadata": {
        "colab": {
          "base_uri": "https://localhost:8080/"
        },
        "id": "WK2khdZpSmcq",
        "outputId": "2de1c9aa-80b3-4275-f0e0-8ccb08a95023"
      },
      "source": [
        "list_url = 'https://www.edaily.co.kr/news/read?newsId=03378406625996880&mediaCodeNo=257'\r\n",
        "url = urllib.request.Request(list_url)\r\n",
        "result = urllib.request.urlopen(url).read().decode('utf-8')\r\n",
        "soup = BeautifulSoup(result,'html.parser')\r\n",
        "result1 = soup.find_all('div',class_ = 'news_body')\r\n",
        "for i in result1:\r\n",
        "    print(i.get_text())"
      ],
      "execution_count": null,
      "outputs": [
        {
          "output_type": "stream",
          "text": [
            "\n",
            "[이데일리 송승현 기자] 저렴한 가격과 효율성으로 많은 사랑을 받아 온 경형차(경차)가 올해 누적 판매 10만대를 기록하지 못할 것이란 예측이 나온다. 국내 자동차 시장에서 스포츠유틸리티차량(SUV)에 대한 선호도가 올라가고, 코로나19가 확산하면서 ‘차박’ 열풍 등 전체적으로 큰 사이즈의 차량 수요가 증가하면서 타격을 받은 것으로 분석된다.9일 한국자동차산업협회(KAMA)에 따르면 올해 1~10월 경차 누적 판매는 8만234대로 전년동기 대비 16% 감소한 수치다. 경차 판매가 최근 4달간 매월 7000~8000대를 기록했다는 것을 고려하면, 올해 누적 판매는 10만대에 미치지 못할 가능성이 높다.경차 판매가 한 해 10만대 선이 붕괴한 것은 2007년 5만4000대를 기록한 이후 13년 만이다. 경차 시장은 2008년 13만4304대를 기록하며 전년동기 대비 148.2%라는 경이로운 성장세를 기록한 이후 2014년 한해 18만대 판매라는 ‘금자탑’을 세우며 승용 시장 점유율 15%까지 기록하는 등 꾸준한 성장세를 보였다.\n",
            "\r\n",
            "                                        (function(d,a,b,l,e,_) {\r\n",
            "                                        if(d[b]&&d[b].q)return;d[b]=function(){(d[b].q=d[b].q||[]).push(arguments)};e=a.createElement(l);\r\n",
            "                                        e.async=1;e.charset='utf-8';e.src='//static.dable.io/dist/plugin.min.js';\r\n",
            "                                        _=a.getElementsByTagName(l)[0];_.parentNode.insertBefore(e,_);\r\n",
            "                                        })(window,document,'dable','script');\r\n",
            "                                        dable('setService', 'edaily.co.kr');\r\n",
            "                                        dable('renderWidget', 'dablewidget_xlzQ0A7Z', {ignore_items: true});\r\n",
            "                                        \n",
            "경차 시장이 휘청이기 시작한 것은 소형 SUV 시대가 본격적으로 열리기 시작하면서부터다. 2015년 쌍용자동차(003620)의 소형 SUV 티볼리가 폭발적인 인기를 얻으면서 경차에 대한 관심이 멀어졌다. 특히 올해는 코로나19 확산으로 자동차 시장의 트렌드가 바뀌면서 더욱 타격을 받은 모양새다. 코로나19 확산으로 여행 자체가 어려워지고, 타인과 접촉하기를 꺼리면서 자동차 시장에는 드라이브를 즐기면서도 숙박까지 가능한 ‘차박’ 열풍이 불기 시작했다. 이에 따라 첫차를 구매하려는 2030세대는 소형 SUV에 눈을 돌리기 시작했다.실제 국내 완성차 5개사(현대차·기아차·한국지엠·르노삼성차·쌍용차) 소형 SUV 11월 누적 판매는 XM3와 트레일블레이저 등 신차 및 코로나 효과에 힘입어 19만5941대로 전년 동기 대비 21.8%로 큰 성장세를 보였다. 이와 달리 경차 시장을 주도하는 기아자동차(000270)의 모닝은 같은 기간 3만5828대, 한국지엠의 스파크 2만5601대 판매되면서 각각 전년 동기 대비 22.1%, 18.9% 감소하며 경차가 전반적으로 부진한 모습이다. 아울러 자동차 시장의 패러다임이 친환경으로 옮겨가는 과도기에 있다는 점도 경차의 설 자리를 좁게 만드는 또 다른 이유다.경차의 구매 이유 중 하나는 각종 혜택 부여에 있다. 경차는 그간 구매 시 △취등록세 면제 △공채매입비 면제 △낮은 자동차세 △자동차 보험 할인 등의 혜택을 제공한다. 하지만 이 가운데 정부는 올해부터 취등록세를 부과하는 등 관련 혜택을 점차 줄여나가고 있다. 반면, 정부의 정책이 친환경차 보급에 집중하며 혜택을 늘리고 있다. 정부는 친환경차 보급 관련 예산을 1조1497억원으로 배정하는 등 혜택을 확대하는 추세다.업계 관계자는 “경차 시장이 점차 줄고 있어 신차 개발을 꺼릴 수밖에 없는 상황”이라며 “자동차 시장의 트렌드 변화가 경차의 설 자리를 없애고 있는 상황에서 점차 사양화하지 않을까 예측한다”고 말했다.\n",
            "document.write('<scr' + 'ipt type=\"text/javascript\" src=\"https://movideo.ai/sc/aiScript?from=' + escape(document.querySelector('meta[property=\"og:url\"]').content) + '&type=script&a=78&movideo_id=' + document.querySelector('meta[property=\"movideo:news_key\"]').getAttribute('content') + '\"></scr' + 'ipt>');\n",
            "\n"
          ],
          "name": "stdout"
        }
      ]
    },
    {
      "cell_type": "markdown",
      "metadata": {
        "id": "jkCfRJa_UZWT"
      },
      "source": [
        "예제8. 위의 스크립트로 eda_detail_scroll() 함수를 생성하시오!"
      ]
    },
    {
      "cell_type": "code",
      "metadata": {
        "colab": {
          "base_uri": "https://localhost:8080/"
        },
        "id": "Jk051B1lUdtT",
        "outputId": "aebdea1a-928a-4b63-b5ca-7a5a9da3acf3"
      },
      "source": [
        "def eda_detail_scroll():\r\n",
        "    list_url = 'https://www.edaily.co.kr/news/read?newsId=03378406625996880&mediaCodeNo=257'\r\n",
        "    url = urllib.request.Request(list_url)\r\n",
        "    result = urllib.request.urlopen(url).read().decode('utf-8')\r\n",
        "    soup = BeautifulSoup(result,'html.parser')\r\n",
        "    result1 = soup.find_all('div',class_ = 'news_body')\r\n",
        "    for i in result1:\r\n",
        "        return i.get_text()\r\n",
        "    \r\n",
        "print(eda_detail_scroll())"
      ],
      "execution_count": null,
      "outputs": [
        {
          "output_type": "stream",
          "text": [
            "\n",
            "[이데일리 송승현 기자] 저렴한 가격과 효율성으로 많은 사랑을 받아 온 경형차(경차)가 올해 누적 판매 10만대를 기록하지 못할 것이란 예측이 나온다. 국내 자동차 시장에서 스포츠유틸리티차량(SUV)에 대한 선호도가 올라가고, 코로나19가 확산하면서 ‘차박’ 열풍 등 전체적으로 큰 사이즈의 차량 수요가 증가하면서 타격을 받은 것으로 분석된다.9일 한국자동차산업협회(KAMA)에 따르면 올해 1~10월 경차 누적 판매는 8만234대로 전년동기 대비 16% 감소한 수치다. 경차 판매가 최근 4달간 매월 7000~8000대를 기록했다는 것을 고려하면, 올해 누적 판매는 10만대에 미치지 못할 가능성이 높다.경차 판매가 한 해 10만대 선이 붕괴한 것은 2007년 5만4000대를 기록한 이후 13년 만이다. 경차 시장은 2008년 13만4304대를 기록하며 전년동기 대비 148.2%라는 경이로운 성장세를 기록한 이후 2014년 한해 18만대 판매라는 ‘금자탑’을 세우며 승용 시장 점유율 15%까지 기록하는 등 꾸준한 성장세를 보였다.\n",
            "\r\n",
            "                                        (function(d,a,b,l,e,_) {\r\n",
            "                                        if(d[b]&&d[b].q)return;d[b]=function(){(d[b].q=d[b].q||[]).push(arguments)};e=a.createElement(l);\r\n",
            "                                        e.async=1;e.charset='utf-8';e.src='//static.dable.io/dist/plugin.min.js';\r\n",
            "                                        _=a.getElementsByTagName(l)[0];_.parentNode.insertBefore(e,_);\r\n",
            "                                        })(window,document,'dable','script');\r\n",
            "                                        dable('setService', 'edaily.co.kr');\r\n",
            "                                        dable('renderWidget', 'dablewidget_xlzQ0A7Z', {ignore_items: true});\r\n",
            "                                        \n",
            "경차 시장이 휘청이기 시작한 것은 소형 SUV 시대가 본격적으로 열리기 시작하면서부터다. 2015년 쌍용자동차(003620)의 소형 SUV 티볼리가 폭발적인 인기를 얻으면서 경차에 대한 관심이 멀어졌다. 특히 올해는 코로나19 확산으로 자동차 시장의 트렌드가 바뀌면서 더욱 타격을 받은 모양새다. 코로나19 확산으로 여행 자체가 어려워지고, 타인과 접촉하기를 꺼리면서 자동차 시장에는 드라이브를 즐기면서도 숙박까지 가능한 ‘차박’ 열풍이 불기 시작했다. 이에 따라 첫차를 구매하려는 2030세대는 소형 SUV에 눈을 돌리기 시작했다.실제 국내 완성차 5개사(현대차·기아차·한국지엠·르노삼성차·쌍용차) 소형 SUV 11월 누적 판매는 XM3와 트레일블레이저 등 신차 및 코로나 효과에 힘입어 19만5941대로 전년 동기 대비 21.8%로 큰 성장세를 보였다. 이와 달리 경차 시장을 주도하는 기아자동차(000270)의 모닝은 같은 기간 3만5828대, 한국지엠의 스파크 2만5601대 판매되면서 각각 전년 동기 대비 22.1%, 18.9% 감소하며 경차가 전반적으로 부진한 모습이다. 아울러 자동차 시장의 패러다임이 친환경으로 옮겨가는 과도기에 있다는 점도 경차의 설 자리를 좁게 만드는 또 다른 이유다.경차의 구매 이유 중 하나는 각종 혜택 부여에 있다. 경차는 그간 구매 시 △취등록세 면제 △공채매입비 면제 △낮은 자동차세 △자동차 보험 할인 등의 혜택을 제공한다. 하지만 이 가운데 정부는 올해부터 취등록세를 부과하는 등 관련 혜택을 점차 줄여나가고 있다. 반면, 정부의 정책이 친환경차 보급에 집중하며 혜택을 늘리고 있다. 정부는 친환경차 보급 관련 예산을 1조1497억원으로 배정하는 등 혜택을 확대하는 추세다.업계 관계자는 “경차 시장이 점차 줄고 있어 신차 개발을 꺼릴 수밖에 없는 상황”이라며 “자동차 시장의 트렌드 변화가 경차의 설 자리를 없애고 있는 상황에서 점차 사양화하지 않을까 예측한다”고 말했다.\n",
            "document.write('<scr' + 'ipt type=\"text/javascript\" src=\"https://movideo.ai/sc/aiScript?from=' + escape(document.querySelector('meta[property=\"og:url\"]').content) + '&type=script&a=78&movideo_id=' + document.querySelector('meta[property=\"movideo:news_key\"]').getAttribute('content') + '\"></scr' + 'ipt>');\n",
            "\n"
          ],
          "name": "stdout"
        }
      ]
    },
    {
      "cell_type": "markdown",
      "metadata": {
        "id": "i7HWems3U_Qw"
      },
      "source": [
        "예제9. 처음에 만들었던 함수인 eda_scroll() 함수를 수정하는데 페이지 1개가 아니라 페이지 3개의 상세기사 url인 params 리스트에 담겨지게 수정하시오."
      ]
    },
    {
      "cell_type": "code",
      "metadata": {
        "colab": {
          "base_uri": "https://localhost:8080/"
        },
        "id": "VmdXDq02UZLJ",
        "outputId": "340aaa9f-ebbd-432d-c0c2-6f526e3d7ccb"
      },
      "source": [
        "def eda_scroll():\r\n",
        "    params = []\r\n",
        "    for i in range(1,4):\r\n",
        "        list_url = f'https://www.edaily.co.kr/search/news/?keyword=%ec%b2%ab%eb%88%88&page={i}'\r\n",
        "        url = urllib.request.Request(list_url)\r\n",
        "        result = urllib.request.urlopen(url).read().decode('utf-8')\r\n",
        "        soup = BeautifulSoup(result,'html.parser')\r\n",
        "        result1 = soup.find_all('div',class_ = 'newsbox_04')\r\n",
        "        \r\n",
        "        for i in result1:\r\n",
        "            params.append('http://www.edaily.co.kr/'+i.find_all('a')[0].get(\"href\"))\r\n",
        "    return params\r\n",
        "\r\n",
        "print(len(eda_scroll()))"
      ],
      "execution_count": null,
      "outputs": [
        {
          "output_type": "stream",
          "text": [
            "60\n"
          ],
          "name": "stdout"
        }
      ]
    },
    {
      "cell_type": "markdown",
      "metadata": {
        "id": "7abp1bgNWVzI"
      },
      "source": [
        "예제10. eda_detail_scroll() 함수 안에서 eda_scroll() 함수를 호출하여 상세기사 url을 60개를 다 가져와서 60개의 기사를 출력할 수 있도록 코드를 수정하시오."
      ]
    },
    {
      "cell_type": "code",
      "metadata": {
        "id": "o9IHC-njW5lr"
      },
      "source": [
        "def eda_scroll():\r\n",
        "    params = []\r\n",
        "    for i in range(1,4):\r\n",
        "        list_url = f'https://www.edaily.co.kr/search/news/?keyword=%ec%b2%ab%eb%88%88&page={i}'\r\n",
        "        url = urllib.request.Request(list_url)\r\n",
        "        result = urllib.request.urlopen(url).read().decode('utf-8')\r\n",
        "        soup = BeautifulSoup(result,'html.parser')\r\n",
        "        result1 = soup.find_all('div',class_ = 'newsbox_04')\r\n",
        "        \r\n",
        "        for i in result1:\r\n",
        "            params.append('http://www.edaily.co.kr/'+i.find_all('a')[0].get(\"href\"))\r\n",
        "\r\n",
        "    return params\r\n",
        "\r\n",
        "\r\n",
        "def eda_detail_scroll():\r\n",
        "    list_url = eda_scroll()\r\n",
        "    for i in list_url:\r\n",
        "        url = urllib.request.Request(i)\r\n",
        "        result = urllib.request.urlopen(url).read().decode('utf-8')\r\n",
        "        soup = BeautifulSoup(result,'html.parser')\r\n",
        "        result1 = soup.find_all('div',class_ = 'news_body')\r\n",
        "        for i in result1:\r\n",
        "            print(i.get_text())\r\n",
        "\r\n",
        "print(eda_detail_scroll())"
      ],
      "execution_count": null,
      "outputs": []
    },
    {
      "cell_type": "markdown",
      "metadata": {
        "id": "PEJzLOMqXuJz"
      },
      "source": [
        "예제11. 위의 출력되고 있는 기사본문이 c 드라이브 밑에 data 밑에 eda.txt로 저장되게 하시오!"
      ]
    },
    {
      "cell_type": "code",
      "metadata": {
        "id": "Ck9MPicqX1sm"
      },
      "source": [
        "from bs4 import BeautifulSoup\r\n",
        "import urllib.request\r\n",
        "\r\n",
        "def eda_scroll():\r\n",
        "    params = []\r\n",
        "    for i in range(1,4):\r\n",
        "        list_url = f'https://www.edaily.co.kr/search/news/?keyword=%ec%b2%ab%eb%88%88&page={i}'\r\n",
        "        url = urllib.request.Request(list_url)\r\n",
        "        result = urllib.request.urlopen(url).read().decode('utf-8')\r\n",
        "        soup = BeautifulSoup(result,'html.parser')\r\n",
        "        result1 = soup.find_all('div',class_ = 'newsbox_04')\r\n",
        "        \r\n",
        "        for i in result1:\r\n",
        "            params.append('http://www.edaily.co.kr/'+i.find_all('a')[0].get(\"href\"))\r\n",
        "\r\n",
        "    return params\r\n",
        "\r\n",
        "\r\n",
        "def eda_detail_scroll():\r\n",
        "    f = open('c:\\\\data\\\\eda.txt','w',encoding = 'UTF-8')\r\n",
        "    list_url = eda_scroll()\r\n",
        "    for i in list_url:\r\n",
        "        url = urllib.request.Request(i)\r\n",
        "        result = urllib.request.urlopen(url).read().decode('utf-8')\r\n",
        "        soup = BeautifulSoup(result,'html.parser')\r\n",
        "        result1 = soup.find_all('div',class_ = 'news_body')\r\n",
        "        for i in result1:\r\n",
        "            f.write(str(i.get_text())+'\\n')\r\n",
        "    f.close()\r\n",
        "    \r\n",
        "eda_detail_scroll()     # 자바스크립트도 안뜨고 잘 나온다."
      ],
      "execution_count": null,
      "outputs": []
    },
    {
      "cell_type": "markdown",
      "metadata": {
        "id": "Z1yOVOt9YlYQ"
      },
      "source": [
        "# 연합뉴스에서 인공지능으로 검색한 기사들을 스크롤링하기  \r\n",
        "\r\n",
        "연합뉴스는 셀러니움(손으로 클릭하는 것)으로 해야 할 것 같다. 셀레니움은 손으로 클릭해서 웹의 기사를 긁어오는 것을 컴퓨터에게 시키는 모듈 이름.\r\n",
        "\r\n",
        "\r\n",
        "1. 연합뉴스에서 인공지능으로 검색했을 때 url을 알아내시오.\r\n",
        "```\r\n",
        "https://www.yna.co.kr/search/index?query=%EC%9D%B8%EA%B3%B5%EC%A7%80%EB%8A%A5&ctype=A&page_no=1\r\n",
        "```"
      ]
    },
    {
      "cell_type": "markdown",
      "metadata": {
        "id": "QpxPGgCcdEdu"
      },
      "source": [
        "2. 위의 url의 html 코드를 beautiful soup으로 파싱하여 출력하시오."
      ]
    },
    {
      "cell_type": "code",
      "metadata": {
        "id": "xpmiX8ieYlD8"
      },
      "source": [
        "list_url = 'https://www.yna.co.kr/search/index?query=%EC%9D%B8%EA%B3%B5%EC%A7%80%EB%8A%A5&ctype=A&page_no=1'\r\n",
        "\r\n",
        "url = urllib.request.Request(list_url)\r\n",
        "result = urllib.request.urlopen(url).read().decode('utf-8')\r\n",
        "soup = BeautifulSoup(result,'html.parser')\r\n",
        "print(soup)"
      ],
      "execution_count": null,
      "outputs": []
    },
    {
      "cell_type": "markdown",
      "metadata": {
        "id": "N-tN09-Rdl4I"
      },
      "source": [
        "3. 위의 사이트에서 상세기사 url을 알아내기 위한 태그이름과 클래스 이름을 알아내시오"
      ]
    },
    {
      "cell_type": "code",
      "metadata": {
        "id": "6FJBjV8PdeWd"
      },
      "source": [
        "list_url = 'https://www.yna.co.kr/search/index?query=%EC%9D%B8%EA%B3%B5%EC%A7%80%EB%8A%A5&ctype=A&page_no=1'\r\n",
        "\r\n",
        "url = urllib.request.Request(list_url)\r\n",
        "result = urllib.request.urlopen(url).read().decode('utf-8')\r\n",
        "soup = BeautifulSoup(result,'html.parser')\r\n",
        "result1 = soup.find_all('div',class_ = 'cts_atclst')\r\n",
        "print(result1)\r\n",
        "\r\n",
        "for i in result1:\r\n",
        "    print(i)"
      ],
      "execution_count": null,
      "outputs": []
    },
    {
      "cell_type": "markdown",
      "metadata": {
        "id": "4yhPcybveGfi"
      },
      "source": [
        "4. 위의 태그이름과 클래스 이름을 가지고 상세url을 출력하시오."
      ]
    },
    {
      "cell_type": "code",
      "metadata": {
        "id": "2FEd_t5-eYBV"
      },
      "source": [
        "list_url = 'https://www.yna.co.kr/search/index?query=%EC%9D%B8%EA%B3%B5%EC%A7%80%EB%8A%A5&ctype=A&page_no=1'\r\n",
        "\r\n",
        "url = urllib.request.Request(list_url)\r\n",
        "result = urllib.request.urlopen(url).read().decode('utf-8')\r\n",
        "soup = BeautifulSoup(result,'html.parser')\r\n",
        "result1 = soup.select('html > div > div > div > div > div > div > ul > li')\r\n",
        "#result1 = soup.find_all('li')\r\n",
        "\r\n",
        "for i in result1:\r\n",
        "    print(i)"
      ],
      "execution_count": null,
      "outputs": []
    },
    {
      "cell_type": "markdown",
      "metadata": {
        "id": "308mZGhFj0yf"
      },
      "source": [
        "문제422.(오늘의 마지막 문제) 머신러닝 때 나이브 베이즈 확률을 배울 때 사용하기 위해서 네이버 영화 평점 게시판의 게시글들을 스크롤링해서 영화이름을 텍스트 파일로 해서 저장하시오.  \r\n",
        "\r\n",
        "코드와 텍스트 파일을 첨부  \r\n",
        "영화는 자유롭게 선택"
      ]
    },
    {
      "cell_type": "code",
      "metadata": {
        "colab": {
          "base_uri": "https://localhost:8080/"
        },
        "id": "8eGK4-W7qnFI",
        "outputId": "a5522b76-f41c-41cc-85d2-38eda5b541e5"
      },
      "source": [
        "from bs4 import BeautifulSoup\r\n",
        "import urllib.request\r\n",
        "\r\n",
        "def vale_scroll(num):  # num : 찾을 페이지 수\r\n",
        "    f = open('c:\\\\data\\\\vale1.txt','w',encoding = 'utf-8')\r\n",
        "    param1 = []\r\n",
        "    param2 = []\r\n",
        "    for i in range(1,num+1):\r\n",
        "        url_list = f'https://movie.naver.com/movie/point/af/list.nhn?st=mcode&sword=137970&target=after&page={i}'\r\n",
        "        url = urllib.request.Request(url_list)\r\n",
        "        result = urllib.request.urlopen(url).read().decode('cp949')\r\n",
        "        soup = BeautifulSoup(result,'html.parser')\r\n",
        "        result1 = soup.find_all('td','title')\r\n",
        "        for i in result1:\r\n",
        "#            params1.append(i.get_text(' ', strip = True)[30:32].strip())\r\n",
        "#            params2.append(i.get_text(' ', strip = True)[32:-2].strip())\r\n",
        "            f.write(str(i.get_text(' ', strip = True)[32:-2].strip()))\r\n",
        "#    return params1, params2  # params1 = 평점, 2 = 텍스트, \r\n",
        "\r\n",
        "#print(vale_scroll(3)[1]) # 일단 평점은 필요 없으니까 게시글만 꺼냄"
      ],
      "execution_count": null,
      "outputs": [
        {
          "output_type": "stream",
          "text": [
            "['간만에 맘에드는 영화.  두 배우의 의외의 모습.', '이거 다시 왜 재개봉 하는지.. 소재는 흥미로우나 풀어가는 방식은 다소  식상하고 지루하다..', '마치겠네진짜;;; 한계가와서 보다껐다 몰입존나안되네', '남소령이 존나 싸가지가 없음. 패죽여버리고 싶음', '돈되는 자원한가지만 믿고 놀고먹고 하다간 나라가망한다 (예. 베네수엘라)늘 공부하고 부지런해야 내가 살고 나라의 국력이 강해진다.나라가 망하니  기생충 영화처럼 한순간에 우주정거장 반지하 신세가 되어버렸다', '재밌어요 남주 여주 넘 잘생기고 이뻐요', '내 머릿속에 남은건 흑발 데인드한의 빛나는 외모뿐', '', 'CG그래픽이 좋았던것같음', '', '간만에 맘에드는 영화.  두 배우의 의외의 모습.', '이거 다시 왜 재개봉 하는지.. 소재는 흥미로우나 풀어가는 방식은 다소  식상하고 지루하다..', '마치겠네진짜;;; 한계가와서 보다껐다 몰입존나안되네', '남소령이 존나 싸가지가 없음. 패죽여버리고 싶음', '돈되는 자원한가지만 믿고 놀고먹고 하다간 나라가망한다 (예. 베네수엘라)늘 공부하고 부지런해야 내가 살고 나라의 국력이 강해진다.나라가 망하니  기생충 영화처럼 한순간에 우주정거장 반지하 신세가 되어버렸다', '재밌어요 남주 여주 넘 잘생기고 이뻐요', '내 머릿속에 남은건 흑발 데인드한의 빛나는 외모뿐', '', 'CG그래픽이 좋았던것같음', '', '망한 영화인 줄 알았는데 생각보다 괜찮아서 아주 재밌게 봤음. 애들용으로 나온 건 아닌데 애들도 재밌게 볼 수 있는 영화인 것 같아서 더 좋았음(난 애도 없는데). 영상도 눈요기 되고 마지막 ost도 감각적이었고, 꽁냥대는 거 헐리우드 감성 낭낭하면서 남자 훈남 여자 훈녀, 스토리 교훈까지 있음. 걍 진짜 재밌게 보기 좋은 영화로 강추함.', '재밌게봤습니다. 어떻게 이런 연출들을 생각했는지ㅎㅎ 스토리면에서 좀 더 풍부했다면 아바타를이은 명작이 탄생 할 것도 같았는데 살짝아쉽네요ㅎㅎ', '뤽베송 영화에서 개연성 찾음 안될꺼고 오랜만에 제5원소 향수를 느껴서 좋았어 전체적으론 그냥그래', '믿고보는 뤽 베송. 영상미 너무 좋고 너무 재밌게봤다', '지금까지 드물던 인물 성격... 성인 군자 집단들이 나오는데 식상하다는 둥, 어수선하다는 둥... 기자 평론가들 진짜, 영화 보면서 고때만 수동적으로 미래를 꿈 꾸냐? 아니면 평소에도 한번쯤 상상을 해 보냐? 별 생각 없다가 쳐 보니, 거대한 방주의 일상의 흐름 속에서 일어난 하나의 사건조차 못 따라간다는 생각은 안 해 봤냐?', '발레리안 역 맡으시분 개잘생', '꼭 영화관에서 봐야하는 영화', '킬링타임 치고는 꽤 재밌게 봤음사막 한가운데 다차원이나 우주 한곳에 각 행성이 모인것같은 신선한 아이디어엿음', '하 너무 재밌어 짱이야!!!!', '', '딱 내 취향.단순한 스토리에 화려한 영상미에 양념으로 달달한 로맨스까지!! 정말 간만에 몰입해서 영화 봤다', '천개 행성이 모여봤자 총만 쳐 쏘고있네 ㅋㅋ 진주족은 30년만에 모든 지식을 깨우쳤는데 인간 내려오고 진주족이 승계해야지', '너무 재밌고, 멋지고, 아름답다. 뤽배송이 드디어 보여줬네요.무한대에 가까운 SF적 상상력과 사랑과 평화의 메시지가 화려한 볼거리로 아기자기하게 구성졌어요.아바타 못지 않은 만족감.후~우', '재밌다 한번더 보고싶은 영화이다', '너무 재밌어여 남주가 잘생겼네요..', '평론가 평점? 이런거 없앴으면 좋겠다', '', '보길 너무나 잘한 영화..여운이 남았음', '중화반점에서 팔보채를 시키면 재료 각각의 맛은 아는맛인줄 알고 먹었더니 모르는 맛이더라 이 영화가 그렇다본의아니게? 우주정거장의 경리가 주인공인 영화+감상포인트가 없는데 안찍으면 등록 안해줘서 첫번째거로 찍음', '굳이 1000개의 행성이라는 컨셉이 필요했나 싶다... 핵심 종족이 딱 2개인데.... 괜시리 영상미 보여주고 싶어서 해파리 잡으러가는 것 등.... 뭔가 영화 전체 적으로 어디서 많이 본 느낌. 아바타, 존 카터 스타워즈... 여러 영화가 생각남...외계인 디자인이 이제 거기서 거기란건가', '간만에 맘에드는 영화.  두 배우의 의외의 모습.', '이거 다시 왜 재개봉 하는지.. 소재는 흥미로우나 풀어가는 방식은 다소  식상하고 지루하다..', '마치겠네진짜;;; 한계가와서 보다껐다 몰입존나안되네', '남소령이 존나 싸가지가 없음. 패죽여버리고 싶음', '돈되는 자원한가지만 믿고 놀고먹고 하다간 나라가망한다 (예. 베네수엘라)늘 공부하고 부지런해야 내가 살고 나라의 국력이 강해진다.나라가 망하니  기생충 영화처럼 한순간에 우주정거장 반지하 신세가 되어버렸다', '재밌어요 남주 여주 넘 잘생기고 이뻐요', '내 머릿속에 남은건 흑발 데인드한의 빛나는 외모뿐', '', 'CG그래픽이 좋았던것같음', '', '망한 영화인 줄 알았는데 생각보다 괜찮아서 아주 재밌게 봤음. 애들용으로 나온 건 아닌데 애들도 재밌게 볼 수 있는 영화인 것 같아서 더 좋았음(난 애도 없는데). 영상도 눈요기 되고 마지막 ost도 감각적이었고, 꽁냥대는 거 헐리우드 감성 낭낭하면서 남자 훈남 여자 훈녀, 스토리 교훈까지 있음. 걍 진짜 재밌게 보기 좋은 영화로 강추함.', '재밌게봤습니다. 어떻게 이런 연출들을 생각했는지ㅎㅎ 스토리면에서 좀 더 풍부했다면 아바타를이은 명작이 탄생 할 것도 같았는데 살짝아쉽네요ㅎㅎ', '뤽베송 영화에서 개연성 찾음 안될꺼고 오랜만에 제5원소 향수를 느껴서 좋았어 전체적으론 그냥그래', '믿고보는 뤽 베송. 영상미 너무 좋고 너무 재밌게봤다', '지금까지 드물던 인물 성격... 성인 군자 집단들이 나오는데 식상하다는 둥, 어수선하다는 둥... 기자 평론가들 진짜, 영화 보면서 고때만 수동적으로 미래를 꿈 꾸냐? 아니면 평소에도 한번쯤 상상을 해 보냐? 별 생각 없다가 쳐 보니, 거대한 방주의 일상의 흐름 속에서 일어난 하나의 사건조차 못 따라간다는 생각은 안 해 봤냐?', '발레리안 역 맡으시분 개잘생', '꼭 영화관에서 봐야하는 영화', '킬링타임 치고는 꽤 재밌게 봤음사막 한가운데 다차원이나 우주 한곳에 각 행성이 모인것같은 신선한 아이디어엿음', '하 너무 재밌어 짱이야!!!!', '', '딱 내 취향.단순한 스토리에 화려한 영상미에 양념으로 달달한 로맨스까지!! 정말 간만에 몰입해서 영화 봤다', '천개 행성이 모여봤자 총만 쳐 쏘고있네 ㅋㅋ 진주족은 30년만에 모든 지식을 깨우쳤는데 인간 내려오고 진주족이 승계해야지', '너무 재밌고, 멋지고, 아름답다. 뤽배송이 드디어 보여줬네요.무한대에 가까운 SF적 상상력과 사랑과 평화의 메시지가 화려한 볼거리로 아기자기하게 구성졌어요.아바타 못지 않은 만족감.후~우', '재밌다 한번더 보고싶은 영화이다', '너무 재밌어여 남주가 잘생겼네요..', '평론가 평점? 이런거 없앴으면 좋겠다', '', '보길 너무나 잘한 영화..여운이 남았음', '중화반점에서 팔보채를 시키면 재료 각각의 맛은 아는맛인줄 알고 먹었더니 모르는 맛이더라 이 영화가 그렇다본의아니게? 우주정거장의 경리가 주인공인 영화+감상포인트가 없는데 안찍으면 등록 안해줘서 첫번째거로 찍음', '굳이 1000개의 행성이라는 컨셉이 필요했나 싶다... 핵심 종족이 딱 2개인데.... 괜시리 영상미 보여주고 싶어서 해파리 잡으러가는 것 등.... 뭔가 영화 전체 적으로 어디서 많이 본 느낌. 아바타, 존 카터 스타워즈... 여러 영화가 생각남...외계인 디자인이 이제 거기서 거기란건가', '간만에 맘에드는 영화.  두 배우의 의외의 모습.', '이거 다시 왜 재개봉 하는지.. 소재는 흥미로우나 풀어가는 방식은 다소  식상하고 지루하다..', '마치겠네진짜;;; 한계가와서 보다껐다 몰입존나안되네', '남소령이 존나 싸가지가 없음. 패죽여버리고 싶음', '돈되는 자원한가지만 믿고 놀고먹고 하다간 나라가망한다 (예. 베네수엘라)늘 공부하고 부지런해야 내가 살고 나라의 국력이 강해진다.나라가 망하니  기생충 영화처럼 한순간에 우주정거장 반지하 신세가 되어버렸다', '재밌어요 남주 여주 넘 잘생기고 이뻐요', '내 머릿속에 남은건 흑발 데인드한의 빛나는 외모뿐', '', 'CG그래픽이 좋았던것같음', '', '망한 영화인 줄 알았는데 생각보다 괜찮아서 아주 재밌게 봤음. 애들용으로 나온 건 아닌데 애들도 재밌게 볼 수 있는 영화인 것 같아서 더 좋았음(난 애도 없는데). 영상도 눈요기 되고 마지막 ost도 감각적이었고, 꽁냥대는 거 헐리우드 감성 낭낭하면서 남자 훈남 여자 훈녀, 스토리 교훈까지 있음. 걍 진짜 재밌게 보기 좋은 영화로 강추함.', '재밌게봤습니다. 어떻게 이런 연출들을 생각했는지ㅎㅎ 스토리면에서 좀 더 풍부했다면 아바타를이은 명작이 탄생 할 것도 같았는데 살짝아쉽네요ㅎㅎ', '뤽베송 영화에서 개연성 찾음 안될꺼고 오랜만에 제5원소 향수를 느껴서 좋았어 전체적으론 그냥그래', '믿고보는 뤽 베송. 영상미 너무 좋고 너무 재밌게봤다', '지금까지 드물던 인물 성격... 성인 군자 집단들이 나오는데 식상하다는 둥, 어수선하다는 둥... 기자 평론가들 진짜, 영화 보면서 고때만 수동적으로 미래를 꿈 꾸냐? 아니면 평소에도 한번쯤 상상을 해 보냐? 별 생각 없다가 쳐 보니, 거대한 방주의 일상의 흐름 속에서 일어난 하나의 사건조차 못 따라간다는 생각은 안 해 봤냐?', '발레리안 역 맡으시분 개잘생', '꼭 영화관에서 봐야하는 영화', '킬링타임 치고는 꽤 재밌게 봤음사막 한가운데 다차원이나 우주 한곳에 각 행성이 모인것같은 신선한 아이디어엿음', '하 너무 재밌어 짱이야!!!!', '', '딱 내 취향.단순한 스토리에 화려한 영상미에 양념으로 달달한 로맨스까지!! 정말 간만에 몰입해서 영화 봤다', '천개 행성이 모여봤자 총만 쳐 쏘고있네 ㅋㅋ 진주족은 30년만에 모든 지식을 깨우쳤는데 인간 내려오고 진주족이 승계해야지', '너무 재밌고, 멋지고, 아름답다. 뤽배송이 드디어 보여줬네요.무한대에 가까운 SF적 상상력과 사랑과 평화의 메시지가 화려한 볼거리로 아기자기하게 구성졌어요.아바타 못지 않은 만족감.후~우', '재밌다 한번더 보고싶은 영화이다', '너무 재밌어여 남주가 잘생겼네요..', '평론가 평점? 이런거 없앴으면 좋겠다', '', '보길 너무나 잘한 영화..여운이 남았음', '중화반점에서 팔보채를 시키면 재료 각각의 맛은 아는맛인줄 알고 먹었더니 모르는 맛이더라 이 영화가 그렇다본의아니게? 우주정거장의 경리가 주인공인 영화+감상포인트가 없는데 안찍으면 등록 안해줘서 첫번째거로 찍음', '굳이 1000개의 행성이라는 컨셉이 필요했나 싶다... 핵심 종족이 딱 2개인데.... 괜시리 영상미 보여주고 싶어서 해파리 잡으러가는 것 등.... 뭔가 영화 전체 적으로 어디서 많이 본 느낌. 아바타, 존 카터 스타워즈... 여러 영화가 생각남...외계인 디자인이 이제 거기서 거기란건가', '간만에 맘에드는 영화.  두 배우의 의외의 모습.', '이거 다시 왜 재개봉 하는지.. 소재는 흥미로우나 풀어가는 방식은 다소  식상하고 지루하다..', '마치겠네진짜;;; 한계가와서 보다껐다 몰입존나안되네', '남소령이 존나 싸가지가 없음. 패죽여버리고 싶음', '돈되는 자원한가지만 믿고 놀고먹고 하다간 나라가망한다 (예. 베네수엘라)늘 공부하고 부지런해야 내가 살고 나라의 국력이 강해진다.나라가 망하니  기생충 영화처럼 한순간에 우주정거장 반지하 신세가 되어버렸다', '재밌어요 남주 여주 넘 잘생기고 이뻐요', '내 머릿속에 남은건 흑발 데인드한의 빛나는 외모뿐', '', 'CG그래픽이 좋았던것같음', '', '망한 영화인 줄 알았는데 생각보다 괜찮아서 아주 재밌게 봤음. 애들용으로 나온 건 아닌데 애들도 재밌게 볼 수 있는 영화인 것 같아서 더 좋았음(난 애도 없는데). 영상도 눈요기 되고 마지막 ost도 감각적이었고, 꽁냥대는 거 헐리우드 감성 낭낭하면서 남자 훈남 여자 훈녀, 스토리 교훈까지 있음. 걍 진짜 재밌게 보기 좋은 영화로 강추함.', '재밌게봤습니다. 어떻게 이런 연출들을 생각했는지ㅎㅎ 스토리면에서 좀 더 풍부했다면 아바타를이은 명작이 탄생 할 것도 같았는데 살짝아쉽네요ㅎㅎ', '뤽베송 영화에서 개연성 찾음 안될꺼고 오랜만에 제5원소 향수를 느껴서 좋았어 전체적으론 그냥그래', '믿고보는 뤽 베송. 영상미 너무 좋고 너무 재밌게봤다', '지금까지 드물던 인물 성격... 성인 군자 집단들이 나오는데 식상하다는 둥, 어수선하다는 둥... 기자 평론가들 진짜, 영화 보면서 고때만 수동적으로 미래를 꿈 꾸냐? 아니면 평소에도 한번쯤 상상을 해 보냐? 별 생각 없다가 쳐 보니, 거대한 방주의 일상의 흐름 속에서 일어난 하나의 사건조차 못 따라간다는 생각은 안 해 봤냐?', '발레리안 역 맡으시분 개잘생', '꼭 영화관에서 봐야하는 영화', '킬링타임 치고는 꽤 재밌게 봤음사막 한가운데 다차원이나 우주 한곳에 각 행성이 모인것같은 신선한 아이디어엿음', '하 너무 재밌어 짱이야!!!!', '', '딱 내 취향.단순한 스토리에 화려한 영상미에 양념으로 달달한 로맨스까지!! 정말 간만에 몰입해서 영화 봤다', '천개 행성이 모여봤자 총만 쳐 쏘고있네 ㅋㅋ 진주족은 30년만에 모든 지식을 깨우쳤는데 인간 내려오고 진주족이 승계해야지', '너무 재밌고, 멋지고, 아름답다. 뤽배송이 드디어 보여줬네요.무한대에 가까운 SF적 상상력과 사랑과 평화의 메시지가 화려한 볼거리로 아기자기하게 구성졌어요.아바타 못지 않은 만족감.후~우', '재밌다 한번더 보고싶은 영화이다', '너무 재밌어여 남주가 잘생겼네요..', '평론가 평점? 이런거 없앴으면 좋겠다', '', '보길 너무나 잘한 영화..여운이 남았음', '중화반점에서 팔보채를 시키면 재료 각각의 맛은 아는맛인줄 알고 먹었더니 모르는 맛이더라 이 영화가 그렇다본의아니게? 우주정거장의 경리가 주인공인 영화+감상포인트가 없는데 안찍으면 등록 안해줘서 첫번째거로 찍음', '굳이 1000개의 행성이라는 컨셉이 필요했나 싶다... 핵심 종족이 딱 2개인데.... 괜시리 영상미 보여주고 싶어서 해파리 잡으러가는 것 등.... 뭔가 영화 전체 적으로 어디서 많이 본 느낌. 아바타, 존 카터 스타워즈... 여러 영화가 생각남...외계인 디자인이 이제 거기서 거기란건가', '간만에 맘에드는 영화.  두 배우의 의외의 모습.', '이거 다시 왜 재개봉 하는지.. 소재는 흥미로우나 풀어가는 방식은 다소  식상하고 지루하다..', '마치겠네진짜;;; 한계가와서 보다껐다 몰입존나안되네', '남소령이 존나 싸가지가 없음. 패죽여버리고 싶음', '돈되는 자원한가지만 믿고 놀고먹고 하다간 나라가망한다 (예. 베네수엘라)늘 공부하고 부지런해야 내가 살고 나라의 국력이 강해진다.나라가 망하니  기생충 영화처럼 한순간에 우주정거장 반지하 신세가 되어버렸다', '재밌어요 남주 여주 넘 잘생기고 이뻐요', '내 머릿속에 남은건 흑발 데인드한의 빛나는 외모뿐', '', 'CG그래픽이 좋았던것같음', '', '망한 영화인 줄 알았는데 생각보다 괜찮아서 아주 재밌게 봤음. 애들용으로 나온 건 아닌데 애들도 재밌게 볼 수 있는 영화인 것 같아서 더 좋았음(난 애도 없는데). 영상도 눈요기 되고 마지막 ost도 감각적이었고, 꽁냥대는 거 헐리우드 감성 낭낭하면서 남자 훈남 여자 훈녀, 스토리 교훈까지 있음. 걍 진짜 재밌게 보기 좋은 영화로 강추함.', '재밌게봤습니다. 어떻게 이런 연출들을 생각했는지ㅎㅎ 스토리면에서 좀 더 풍부했다면 아바타를이은 명작이 탄생 할 것도 같았는데 살짝아쉽네요ㅎㅎ', '뤽베송 영화에서 개연성 찾음 안될꺼고 오랜만에 제5원소 향수를 느껴서 좋았어 전체적으론 그냥그래', '믿고보는 뤽 베송. 영상미 너무 좋고 너무 재밌게봤다', '지금까지 드물던 인물 성격... 성인 군자 집단들이 나오는데 식상하다는 둥, 어수선하다는 둥... 기자 평론가들 진짜, 영화 보면서 고때만 수동적으로 미래를 꿈 꾸냐? 아니면 평소에도 한번쯤 상상을 해 보냐? 별 생각 없다가 쳐 보니, 거대한 방주의 일상의 흐름 속에서 일어난 하나의 사건조차 못 따라간다는 생각은 안 해 봤냐?', '발레리안 역 맡으시분 개잘생', '꼭 영화관에서 봐야하는 영화', '킬링타임 치고는 꽤 재밌게 봤음사막 한가운데 다차원이나 우주 한곳에 각 행성이 모인것같은 신선한 아이디어엿음', '하 너무 재밌어 짱이야!!!!', '', '딱 내 취향.단순한 스토리에 화려한 영상미에 양념으로 달달한 로맨스까지!! 정말 간만에 몰입해서 영화 봤다', '천개 행성이 모여봤자 총만 쳐 쏘고있네 ㅋㅋ 진주족은 30년만에 모든 지식을 깨우쳤는데 인간 내려오고 진주족이 승계해야지', '너무 재밌고, 멋지고, 아름답다. 뤽배송이 드디어 보여줬네요.무한대에 가까운 SF적 상상력과 사랑과 평화의 메시지가 화려한 볼거리로 아기자기하게 구성졌어요.아바타 못지 않은 만족감.후~우', '재밌다 한번더 보고싶은 영화이다', '너무 재밌어여 남주가 잘생겼네요..', '평론가 평점? 이런거 없앴으면 좋겠다', '', '보길 너무나 잘한 영화..여운이 남았음', '중화반점에서 팔보채를 시키면 재료 각각의 맛은 아는맛인줄 알고 먹었더니 모르는 맛이더라 이 영화가 그렇다본의아니게? 우주정거장의 경리가 주인공인 영화+감상포인트가 없는데 안찍으면 등록 안해줘서 첫번째거로 찍음', '굳이 1000개의 행성이라는 컨셉이 필요했나 싶다... 핵심 종족이 딱 2개인데.... 괜시리 영상미 보여주고 싶어서 해파리 잡으러가는 것 등.... 뭔가 영화 전체 적으로 어디서 많이 본 느낌. 아바타, 존 카터 스타워즈... 여러 영화가 생각남...외계인 디자인이 이제 거기서 거기란건가', '간만에 맘에드는 영화.  두 배우의 의외의 모습.', '이거 다시 왜 재개봉 하는지.. 소재는 흥미로우나 풀어가는 방식은 다소  식상하고 지루하다..', '마치겠네진짜;;; 한계가와서 보다껐다 몰입존나안되네', '남소령이 존나 싸가지가 없음. 패죽여버리고 싶음', '돈되는 자원한가지만 믿고 놀고먹고 하다간 나라가망한다 (예. 베네수엘라)늘 공부하고 부지런해야 내가 살고 나라의 국력이 강해진다.나라가 망하니  기생충 영화처럼 한순간에 우주정거장 반지하 신세가 되어버렸다', '재밌어요 남주 여주 넘 잘생기고 이뻐요', '내 머릿속에 남은건 흑발 데인드한의 빛나는 외모뿐', '', 'CG그래픽이 좋았던것같음', '', '망한 영화인 줄 알았는데 생각보다 괜찮아서 아주 재밌게 봤음. 애들용으로 나온 건 아닌데 애들도 재밌게 볼 수 있는 영화인 것 같아서 더 좋았음(난 애도 없는데). 영상도 눈요기 되고 마지막 ost도 감각적이었고, 꽁냥대는 거 헐리우드 감성 낭낭하면서 남자 훈남 여자 훈녀, 스토리 교훈까지 있음. 걍 진짜 재밌게 보기 좋은 영화로 강추함.', '재밌게봤습니다. 어떻게 이런 연출들을 생각했는지ㅎㅎ 스토리면에서 좀 더 풍부했다면 아바타를이은 명작이 탄생 할 것도 같았는데 살짝아쉽네요ㅎㅎ', '뤽베송 영화에서 개연성 찾음 안될꺼고 오랜만에 제5원소 향수를 느껴서 좋았어 전체적으론 그냥그래', '믿고보는 뤽 베송. 영상미 너무 좋고 너무 재밌게봤다', '지금까지 드물던 인물 성격... 성인 군자 집단들이 나오는데 식상하다는 둥, 어수선하다는 둥... 기자 평론가들 진짜, 영화 보면서 고때만 수동적으로 미래를 꿈 꾸냐? 아니면 평소에도 한번쯤 상상을 해 보냐? 별 생각 없다가 쳐 보니, 거대한 방주의 일상의 흐름 속에서 일어난 하나의 사건조차 못 따라간다는 생각은 안 해 봤냐?', '발레리안 역 맡으시분 개잘생', '꼭 영화관에서 봐야하는 영화', '킬링타임 치고는 꽤 재밌게 봤음사막 한가운데 다차원이나 우주 한곳에 각 행성이 모인것같은 신선한 아이디어엿음', '하 너무 재밌어 짱이야!!!!', '', '딱 내 취향.단순한 스토리에 화려한 영상미에 양념으로 달달한 로맨스까지!! 정말 간만에 몰입해서 영화 봤다', '천개 행성이 모여봤자 총만 쳐 쏘고있네 ㅋㅋ 진주족은 30년만에 모든 지식을 깨우쳤는데 인간 내려오고 진주족이 승계해야지', '너무 재밌고, 멋지고, 아름답다. 뤽배송이 드디어 보여줬네요.무한대에 가까운 SF적 상상력과 사랑과 평화의 메시지가 화려한 볼거리로 아기자기하게 구성졌어요.아바타 못지 않은 만족감.후~우', '재밌다 한번더 보고싶은 영화이다', '너무 재밌어여 남주가 잘생겼네요..', '평론가 평점? 이런거 없앴으면 좋겠다', '', '보길 너무나 잘한 영화..여운이 남았음', '중화반점에서 팔보채를 시키면 재료 각각의 맛은 아는맛인줄 알고 먹었더니 모르는 맛이더라 이 영화가 그렇다본의아니게? 우주정거장의 경리가 주인공인 영화+감상포인트가 없는데 안찍으면 등록 안해줘서 첫번째거로 찍음', '굳이 1000개의 행성이라는 컨셉이 필요했나 싶다... 핵심 종족이 딱 2개인데.... 괜시리 영상미 보여주고 싶어서 해파리 잡으러가는 것 등.... 뭔가 영화 전체 적으로 어디서 많이 본 느낌. 아바타, 존 카터 스타워즈... 여러 영화가 생각남...외계인 디자인이 이제 거기서 거기란건가', '간만에 맘에드는 영화.  두 배우의 의외의 모습.', '이거 다시 왜 재개봉 하는지.. 소재는 흥미로우나 풀어가는 방식은 다소  식상하고 지루하다..', '마치겠네진짜;;; 한계가와서 보다껐다 몰입존나안되네', '남소령이 존나 싸가지가 없음. 패죽여버리고 싶음', '돈되는 자원한가지만 믿고 놀고먹고 하다간 나라가망한다 (예. 베네수엘라)늘 공부하고 부지런해야 내가 살고 나라의 국력이 강해진다.나라가 망하니  기생충 영화처럼 한순간에 우주정거장 반지하 신세가 되어버렸다', '재밌어요 남주 여주 넘 잘생기고 이뻐요', '내 머릿속에 남은건 흑발 데인드한의 빛나는 외모뿐', '', 'CG그래픽이 좋았던것같음', '', '망한 영화인 줄 알았는데 생각보다 괜찮아서 아주 재밌게 봤음. 애들용으로 나온 건 아닌데 애들도 재밌게 볼 수 있는 영화인 것 같아서 더 좋았음(난 애도 없는데). 영상도 눈요기 되고 마지막 ost도 감각적이었고, 꽁냥대는 거 헐리우드 감성 낭낭하면서 남자 훈남 여자 훈녀, 스토리 교훈까지 있음. 걍 진짜 재밌게 보기 좋은 영화로 강추함.', '재밌게봤습니다. 어떻게 이런 연출들을 생각했는지ㅎㅎ 스토리면에서 좀 더 풍부했다면 아바타를이은 명작이 탄생 할 것도 같았는데 살짝아쉽네요ㅎㅎ', '뤽베송 영화에서 개연성 찾음 안될꺼고 오랜만에 제5원소 향수를 느껴서 좋았어 전체적으론 그냥그래', '믿고보는 뤽 베송. 영상미 너무 좋고 너무 재밌게봤다', '지금까지 드물던 인물 성격... 성인 군자 집단들이 나오는데 식상하다는 둥, 어수선하다는 둥... 기자 평론가들 진짜, 영화 보면서 고때만 수동적으로 미래를 꿈 꾸냐? 아니면 평소에도 한번쯤 상상을 해 보냐? 별 생각 없다가 쳐 보니, 거대한 방주의 일상의 흐름 속에서 일어난 하나의 사건조차 못 따라간다는 생각은 안 해 봤냐?', '발레리안 역 맡으시분 개잘생', '꼭 영화관에서 봐야하는 영화', '킬링타임 치고는 꽤 재밌게 봤음사막 한가운데 다차원이나 우주 한곳에 각 행성이 모인것같은 신선한 아이디어엿음', '하 너무 재밌어 짱이야!!!!', '', '딱 내 취향.단순한 스토리에 화려한 영상미에 양념으로 달달한 로맨스까지!! 정말 간만에 몰입해서 영화 봤다', '천개 행성이 모여봤자 총만 쳐 쏘고있네 ㅋㅋ 진주족은 30년만에 모든 지식을 깨우쳤는데 인간 내려오고 진주족이 승계해야지', '너무 재밌고, 멋지고, 아름답다. 뤽배송이 드디어 보여줬네요.무한대에 가까운 SF적 상상력과 사랑과 평화의 메시지가 화려한 볼거리로 아기자기하게 구성졌어요.아바타 못지 않은 만족감.후~우', '재밌다 한번더 보고싶은 영화이다', '너무 재밌어여 남주가 잘생겼네요..', '평론가 평점? 이런거 없앴으면 좋겠다', '', '보길 너무나 잘한 영화..여운이 남았음', '중화반점에서 팔보채를 시키면 재료 각각의 맛은 아는맛인줄 알고 먹었더니 모르는 맛이더라 이 영화가 그렇다본의아니게? 우주정거장의 경리가 주인공인 영화+감상포인트가 없는데 안찍으면 등록 안해줘서 첫번째거로 찍음', '굳이 1000개의 행성이라는 컨셉이 필요했나 싶다... 핵심 종족이 딱 2개인데.... 괜시리 영상미 보여주고 싶어서 해파리 잡으러가는 것 등.... 뭔가 영화 전체 적으로 어디서 많이 본 느낌. 아바타, 존 카터 스타워즈... 여러 영화가 생각남...외계인 디자인이 이제 거기서 거기란건가', '간만에 맘에드는 영화.  두 배우의 의외의 모습.', '이거 다시 왜 재개봉 하는지.. 소재는 흥미로우나 풀어가는 방식은 다소  식상하고 지루하다..', '마치겠네진짜;;; 한계가와서 보다껐다 몰입존나안되네', '남소령이 존나 싸가지가 없음. 패죽여버리고 싶음', '돈되는 자원한가지만 믿고 놀고먹고 하다간 나라가망한다 (예. 베네수엘라)늘 공부하고 부지런해야 내가 살고 나라의 국력이 강해진다.나라가 망하니  기생충 영화처럼 한순간에 우주정거장 반지하 신세가 되어버렸다', '재밌어요 남주 여주 넘 잘생기고 이뻐요', '내 머릿속에 남은건 흑발 데인드한의 빛나는 외모뿐', '', 'CG그래픽이 좋았던것같음', '', '망한 영화인 줄 알았는데 생각보다 괜찮아서 아주 재밌게 봤음. 애들용으로 나온 건 아닌데 애들도 재밌게 볼 수 있는 영화인 것 같아서 더 좋았음(난 애도 없는데). 영상도 눈요기 되고 마지막 ost도 감각적이었고, 꽁냥대는 거 헐리우드 감성 낭낭하면서 남자 훈남 여자 훈녀, 스토리 교훈까지 있음. 걍 진짜 재밌게 보기 좋은 영화로 강추함.', '재밌게봤습니다. 어떻게 이런 연출들을 생각했는지ㅎㅎ 스토리면에서 좀 더 풍부했다면 아바타를이은 명작이 탄생 할 것도 같았는데 살짝아쉽네요ㅎㅎ', '뤽베송 영화에서 개연성 찾음 안될꺼고 오랜만에 제5원소 향수를 느껴서 좋았어 전체적으론 그냥그래', '믿고보는 뤽 베송. 영상미 너무 좋고 너무 재밌게봤다', '지금까지 드물던 인물 성격... 성인 군자 집단들이 나오는데 식상하다는 둥, 어수선하다는 둥... 기자 평론가들 진짜, 영화 보면서 고때만 수동적으로 미래를 꿈 꾸냐? 아니면 평소에도 한번쯤 상상을 해 보냐? 별 생각 없다가 쳐 보니, 거대한 방주의 일상의 흐름 속에서 일어난 하나의 사건조차 못 따라간다는 생각은 안 해 봤냐?', '발레리안 역 맡으시분 개잘생', '꼭 영화관에서 봐야하는 영화', '킬링타임 치고는 꽤 재밌게 봤음사막 한가운데 다차원이나 우주 한곳에 각 행성이 모인것같은 신선한 아이디어엿음', '하 너무 재밌어 짱이야!!!!', '', '딱 내 취향.단순한 스토리에 화려한 영상미에 양념으로 달달한 로맨스까지!! 정말 간만에 몰입해서 영화 봤다', '천개 행성이 모여봤자 총만 쳐 쏘고있네 ㅋㅋ 진주족은 30년만에 모든 지식을 깨우쳤는데 인간 내려오고 진주족이 승계해야지', '너무 재밌고, 멋지고, 아름답다. 뤽배송이 드디어 보여줬네요.무한대에 가까운 SF적 상상력과 사랑과 평화의 메시지가 화려한 볼거리로 아기자기하게 구성졌어요.아바타 못지 않은 만족감.후~우', '재밌다 한번더 보고싶은 영화이다', '너무 재밌어여 남주가 잘생겼네요..', '평론가 평점? 이런거 없앴으면 좋겠다', '', '보길 너무나 잘한 영화..여운이 남았음', '중화반점에서 팔보채를 시키면 재료 각각의 맛은 아는맛인줄 알고 먹었더니 모르는 맛이더라 이 영화가 그렇다본의아니게? 우주정거장의 경리가 주인공인 영화+감상포인트가 없는데 안찍으면 등록 안해줘서 첫번째거로 찍음', '굳이 1000개의 행성이라는 컨셉이 필요했나 싶다... 핵심 종족이 딱 2개인데.... 괜시리 영상미 보여주고 싶어서 해파리 잡으러가는 것 등.... 뭔가 영화 전체 적으로 어디서 많이 본 느낌. 아바타, 존 카터 스타워즈... 여러 영화가 생각남...외계인 디자인이 이제 거기서 거기란건가', '간만에 맘에드는 영화.  두 배우의 의외의 모습.', '이거 다시 왜 재개봉 하는지.. 소재는 흥미로우나 풀어가는 방식은 다소  식상하고 지루하다..', '마치겠네진짜;;; 한계가와서 보다껐다 몰입존나안되네', '남소령이 존나 싸가지가 없음. 패죽여버리고 싶음', '돈되는 자원한가지만 믿고 놀고먹고 하다간 나라가망한다 (예. 베네수엘라)늘 공부하고 부지런해야 내가 살고 나라의 국력이 강해진다.나라가 망하니  기생충 영화처럼 한순간에 우주정거장 반지하 신세가 되어버렸다', '재밌어요 남주 여주 넘 잘생기고 이뻐요', '내 머릿속에 남은건 흑발 데인드한의 빛나는 외모뿐', '', 'CG그래픽이 좋았던것같음', '', '망한 영화인 줄 알았는데 생각보다 괜찮아서 아주 재밌게 봤음. 애들용으로 나온 건 아닌데 애들도 재밌게 볼 수 있는 영화인 것 같아서 더 좋았음(난 애도 없는데). 영상도 눈요기 되고 마지막 ost도 감각적이었고, 꽁냥대는 거 헐리우드 감성 낭낭하면서 남자 훈남 여자 훈녀, 스토리 교훈까지 있음. 걍 진짜 재밌게 보기 좋은 영화로 강추함.', '재밌게봤습니다. 어떻게 이런 연출들을 생각했는지ㅎㅎ 스토리면에서 좀 더 풍부했다면 아바타를이은 명작이 탄생 할 것도 같았는데 살짝아쉽네요ㅎㅎ', '뤽베송 영화에서 개연성 찾음 안될꺼고 오랜만에 제5원소 향수를 느껴서 좋았어 전체적으론 그냥그래', '믿고보는 뤽 베송. 영상미 너무 좋고 너무 재밌게봤다', '지금까지 드물던 인물 성격... 성인 군자 집단들이 나오는데 식상하다는 둥, 어수선하다는 둥... 기자 평론가들 진짜, 영화 보면서 고때만 수동적으로 미래를 꿈 꾸냐? 아니면 평소에도 한번쯤 상상을 해 보냐? 별 생각 없다가 쳐 보니, 거대한 방주의 일상의 흐름 속에서 일어난 하나의 사건조차 못 따라간다는 생각은 안 해 봤냐?', '발레리안 역 맡으시분 개잘생', '꼭 영화관에서 봐야하는 영화', '킬링타임 치고는 꽤 재밌게 봤음사막 한가운데 다차원이나 우주 한곳에 각 행성이 모인것같은 신선한 아이디어엿음', '하 너무 재밌어 짱이야!!!!', '', '딱 내 취향.단순한 스토리에 화려한 영상미에 양념으로 달달한 로맨스까지!! 정말 간만에 몰입해서 영화 봤다', '천개 행성이 모여봤자 총만 쳐 쏘고있네 ㅋㅋ 진주족은 30년만에 모든 지식을 깨우쳤는데 인간 내려오고 진주족이 승계해야지', '너무 재밌고, 멋지고, 아름답다. 뤽배송이 드디어 보여줬네요.무한대에 가까운 SF적 상상력과 사랑과 평화의 메시지가 화려한 볼거리로 아기자기하게 구성졌어요.아바타 못지 않은 만족감.후~우', '재밌다 한번더 보고싶은 영화이다', '너무 재밌어여 남주가 잘생겼네요..', '평론가 평점? 이런거 없앴으면 좋겠다', '', '보길 너무나 잘한 영화..여운이 남았음', '중화반점에서 팔보채를 시키면 재료 각각의 맛은 아는맛인줄 알고 먹었더니 모르는 맛이더라 이 영화가 그렇다본의아니게? 우주정거장의 경리가 주인공인 영화+감상포인트가 없는데 안찍으면 등록 안해줘서 첫번째거로 찍음', '굳이 1000개의 행성이라는 컨셉이 필요했나 싶다... 핵심 종족이 딱 2개인데.... 괜시리 영상미 보여주고 싶어서 해파리 잡으러가는 것 등.... 뭔가 영화 전체 적으로 어디서 많이 본 느낌. 아바타, 존 카터 스타워즈... 여러 영화가 생각남...외계인 디자인이 이제 거기서 거기란건가']\n"
          ],
          "name": "stdout"
        }
      ]
    },
    {
      "cell_type": "markdown",
      "metadata": {
        "id": "a2SxSiuSztum"
      },
      "source": [
        "최종"
      ]
    },
    {
      "cell_type": "code",
      "metadata": {
        "id": "x4M6uNp1vvOZ"
      },
      "source": [
        "from bs4 import BeautifulSoup\r\n",
        "import urllib.request\r\n",
        "\r\n",
        "def vale_scroll(num):  # num : 찾을 페이지 수\r\n",
        "    f = open('c:\\\\data\\\\vale1.txt','w',encoding = 'UTF-8')\r\n",
        "    for i in range(1,num+1):\r\n",
        "        url_list = f'https://movie.naver.com/movie/point/af/list.nhn?st=mcode&sword=137970&target=after&page={i}'\r\n",
        "        url = urllib.request.Request(url_list)\r\n",
        "        result = urllib.request.urlopen(url).read().decode('cp949')\r\n",
        "        soup = BeautifulSoup(result,'html.parser')\r\n",
        "        result1 = soup.find_all('td','title')\r\n",
        "        for i in result1:\r\n",
        "            f.write(str(i.get_text(' ', strip = True)[32:-2].strip())+'\\n')\r\n",
        "    f.close\r\n",
        "vale_scroll(3)\r\n"
      ],
      "execution_count": null,
      "outputs": []
    }
  ]
}