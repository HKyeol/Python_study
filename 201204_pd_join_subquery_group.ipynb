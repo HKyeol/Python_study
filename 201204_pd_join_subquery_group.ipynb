{
  "nbformat": 4,
  "nbformat_minor": 0,
  "metadata": {
    "colab": {
      "name": "201204_pdjoin_subquery_group.ipynb",
      "provenance": [],
      "collapsed_sections": [],
      "toc_visible": true,
      "authorship_tag": "ABX9TyN3rWRTBlFpALX6XcumODUF",
      "include_colab_link": true
    },
    "kernelspec": {
      "name": "python3",
      "display_name": "Python 3"
    }
  },
  "cells": [
    {
      "cell_type": "markdown",
      "metadata": {
        "id": "view-in-github",
        "colab_type": "text"
      },
      "source": [
        "<a href=\"https://colab.research.google.com/github/HKyeol/Python_study/blob/master/201204_pd_join_subquery_group.ipynb\" target=\"_parent\"><img src=\"https://colab.research.google.com/assets/colab-badge.svg\" alt=\"Open In Colab\"/></a>"
      ]
    },
    {
      "cell_type": "markdown",
      "metadata": {
        "id": "HE_Wf1F5NP8Z"
      },
      "source": [
        "# 복습\n",
        "\n",
        "어제 배웠던 내용중에 질문이 많았던 내용만 전체적으로 리뷰  \n",
        "\n",
        "1. 클래스 변수와 인스턴스 변수  \n"
      ]
    },
    {
      "cell_type": "code",
      "metadata": {
        "id": "pz-2ARZvMw3H"
      },
      "source": [
        "\n",
        "class  Employees:  # 옆에 괄호()를 따로 안 쓴 이유는 밑에 __init__함수에 입력매개변수가 여러개여서\n",
        "    raise_amount = 1.1  # 클래스 변수(클래스 멤버)\n",
        "\n",
        "    emp_chulsu2.raise_amount = 1.2 # 인스턴스 변수는 1.2로 변경되었다. 하지만 클래스 변수를 변경한게 아니라서 적용되지 않는다.\n"
      ],
      "execution_count": null,
      "outputs": []
    },
    {
      "cell_type": "markdown",
      "metadata": {
        "id": "3PBmUnXfPxic"
      },
      "source": [
        "2. 예외처리 \n",
        "http://docs.python.org/3/library/exceptions.html  \n",
        "\n",
        "위의 사이트에 보면 여러가지 다양한 에러에 대해서 미리 에러처리를 할 수 있도록 정의해놓은 예외들을 확인할 수 있습니다.  \n",
        "\n",
        "예제:"
      ]
    },
    {
      "cell_type": "code",
      "metadata": {
        "colab": {
          "base_uri": "https://localhost:8080/"
        },
        "id": "-B-GKWScTM4c",
        "outputId": "4060172d-e68e-4f8e-ff8a-25b0c9f34af2"
      },
      "source": [
        "try:\n",
        "  x = float(input('분자의 숫자를 입력하시오'))  # 소수점이 들어가려면 실수(float)가 들어가야 한다.\n",
        "  y = float(input('분모의 숫자를 입력하시오'))\n",
        "  print(x/y)\n",
        "except: \n",
        "  if \n",
        "  print('잘못된 값을 입력하셔서 나누기를 할 수 없습니다.')\n",
        "finally:\n",
        "  print('계산이 끝났습니다.')"
      ],
      "execution_count": null,
      "outputs": [
        {
          "output_type": "stream",
          "text": [
            "분자의 숫자를 입력하시오a\n",
            "잘못된 값을 입력하셔서 나누기를 할 수 없습니다.\n",
            "계산이 끝났습니다.\n"
          ],
          "name": "stdout"
        }
      ]
    },
    {
      "cell_type": "markdown",
      "metadata": {
        "id": "rKurwdY4S6uL"
      },
      "source": [
        "설명: 위의 경우에는 분모값을 입력할 때 숫자 0을 입력했을 때와 문자 a를 입력했을 때 똑같이 '잘못된 값을 입력하셔서 나누기를 할 수 없습니다.'가 출력되게 했는데 좀 더 구체화해서 분모값으로 0을 입력하면 '0으로 나눌 수 없습니다.'가 나오게 하고싶다면 어떻게 해야 하는가?\n"
      ]
    },
    {
      "cell_type": "code",
      "metadata": {
        "colab": {
          "base_uri": "https://localhost:8080/"
        },
        "id": "pYuB4E_2Uj_T",
        "outputId": "c53302a0-82f7-42d9-8372-ff530b0bd204"
      },
      "source": [
        "try:\n",
        "  x = float(input('분자의 숫자를 입력하시오'))  # 소수점이 들어가려면 실수(float)가 들어가야 한다.\n",
        "  y = float(input('분모의 숫자를 입력하시오'))\n",
        "  print(x/y)\n",
        "except ZeroDivisionError:                       # 0으로 나눌 때 에러메세지\n",
        "  print('0으로 나눌 수 없습니다')\n",
        "except:\n",
        "  print('잘못된 값을 입력하셨습니다.')"
      ],
      "execution_count": null,
      "outputs": [
        {
          "output_type": "stream",
          "text": [
            "분자의 숫자를 입력하시오2\n",
            "분모의 숫자를 입력하시오a\n",
            "잘못된 값을 입력하셨습니다.\n"
          ],
          "name": "stdout"
        }
      ]
    },
    {
      "cell_type": "markdown",
      "metadata": {
        "id": "uMLJEAmFWIro"
      },
      "source": [
        "문제191. 숫자를 물어보게 하고 숫자를 입력하면 해당 숫자만큼 1번부터 숫자가 출력되게 하는num코드를 작성하시오.  \n",
        "```\n",
        "숫자를 입력하세요 ~ 5 \n",
        "1\n",
        "2\n",
        "3\n",
        "4\n",
        "5\n",
        "```\n",
        "\n"
      ]
    },
    {
      "cell_type": "code",
      "metadata": {
        "colab": {
          "base_uri": "https://localhost:8080/"
        },
        "id": "CXdD0GFaWdXO",
        "outputId": "c72ce53f-7b0d-4a71-e6f9-48a989e2241d"
      },
      "source": [
        "num = int(input('숫자를 입력하세요~'))\n",
        "for i in range(1,num+1):\n",
        "  print(i)"
      ],
      "execution_count": null,
      "outputs": [
        {
          "output_type": "stream",
          "text": [
            "숫자를 입력하세요~5\n",
            "1\n",
            "2\n",
            "3\n",
            "4\n",
            "5\n"
          ],
          "name": "stdout"
        }
      ]
    },
    {
      "cell_type": "markdown",
      "metadata": {
        "id": "-8S1Ft-FW-Vt"
      },
      "source": [
        "문제192. 위의 코드에 예외처리를 해서 숫자를 물어볼 때 문자를 입력하면 잘못된 값을 입력하셨습니다. 라고 메세지가 출력되게 하시오."
      ]
    },
    {
      "cell_type": "code",
      "metadata": {
        "colab": {
          "base_uri": "https://localhost:8080/"
        },
        "id": "gbJ9G6FjW9_9",
        "outputId": "5b898f90-dab8-493e-d0e5-c2b53f22ff03"
      },
      "source": [
        "try:\n",
        "  num = int(float(input('숫자를 입력하세요 ~ ')))\n",
        "  for i in range(1,num+1):\n",
        "    print(i)\n",
        "except:\n",
        "  print('잘못된 값을 입력하셨습니다.')"
      ],
      "execution_count": null,
      "outputs": [
        {
          "output_type": "stream",
          "text": [
            "숫자를 입력하세요 ~ 3.6\n",
            "1\n",
            "2\n",
            "3\n"
          ],
          "name": "stdout"
        }
      ]
    },
    {
      "cell_type": "markdown",
      "metadata": {
        "id": "DJCz8jGUcTiJ"
      },
      "source": [
        "설명: 위의 코드의 경우에는 숫자를 입력할 때 알파벳 a를 넣으면 예외처리가 되어서 ...? . 에러에 대한 정확한 원인파악을 하기 어렵습니다.  \n",
        "에러에 대한 원인파악을 하려면 아래와 같이 작성하시면 됩니다."
      ]
    },
    {
      "cell_type": "code",
      "metadata": {
        "colab": {
          "base_uri": "https://localhost:8080/"
        },
        "id": "qv7lQmblcFnU",
        "outputId": "5c8435f9-d21f-4b50-9686-cf3aecd892eb"
      },
      "source": [
        "try:\n",
        "  num = int(float(input('숫자를 입력하세요 ~ ')))\n",
        "  for i in range(1,num+1):\n",
        "    print(i)\n",
        "except Exception as e:\n",
        "  print('잘못된 값을 입력하셨습니다.')\n",
        "  print(e) # 에러가 난 이유를 출력해줍니다."
      ],
      "execution_count": null,
      "outputs": [
        {
          "output_type": "stream",
          "text": [
            "숫자를 입력하세요 ~ 2.0\n",
            "1\n",
            "2\n"
          ],
          "name": "stdout"
        }
      ]
    },
    {
      "cell_type": "markdown",
      "metadata": {
        "id": "GRmZXuGdUkQi"
      },
      "source": [
        "# 59. 예외처리 이해하기 5 (try ~ except 특정 예외)  \n",
        "\n",
        "파이썬 입장에서 봤을 때는 오류가 아닌데 프로그래머가 이건 오류이다 라고 일부러 프로그램이 안돌게 오류메세지를 출력하는 경우에 사용합니다.  \n",
        "```\n",
        "계산하는 프로그램\n",
        "\n",
        "프로그램 코드 ..............\n",
        "프로그램 코드 ..............  <--- 오류가 발생했으면 여기서 끝내버리려고 함.\n",
        "프로그램 코드 ..............\n",
        "프로그램 코드 ..............\n",
        "\n",
        "```\n",
        "파이썬 입장에서는 에러가 안나지만 프로그래머가 오류라고 정의하는 것  \n",
        "\n",
        "설명: 금융권 프로그램에서는 금액이 안맞는 프로그램이 있다면 사고로 이어지게 되므로 금액이 안맞으면 프로그램을 종료해라 라고 예외처리를 하는 것.  \n",
        "\n",
        "문법:\n",
        "```\n",
        "실행코드\n",
        "if 어떤 조건:\n",
        "  raise Exception('예외가 발생했습니다.') # 여기서 종료\n",
        "else:\n",
        "  실행코드\n",
        "```\n",
        "\n",
        "문제193. 판다스를 이용해서 emp3.csv의 데이터를 로드하는데 이름을 물어보게 하고 이름을 입력하면 해당 사원의 이름과 월급이 출력되게 하시오!\n",
        "```\n",
        "이름을 입력하세요 ~ scott\n",
        "SCOTT 3000\n",
        "```"
      ]
    },
    {
      "cell_type": "code",
      "metadata": {
        "colab": {
          "base_uri": "https://localhost:8080/"
        },
        "id": "ZSu4JGOAfQ_e",
        "outputId": "434397e6-35df-4a35-b3f8-16c3f1a1d8f3"
      },
      "source": [
        "import pandas as pd\n",
        "#from google.colab import files\n",
        "#myfile = files.upload()\n",
        "\n",
        "emp = pd.read_csv(\"emp3.csv\")\n",
        "a = input('이름을 입력하세요')\n",
        "print(emp[['ename','sal']][emp['ename']==a.upper()])\n"
      ],
      "execution_count": null,
      "outputs": [
        {
          "output_type": "stream",
          "text": [
            "이름을 입력하세요scott\n",
            "    ename   sal\n",
            "11  SCOTT  3000\n"
          ],
          "name": "stdout"
        }
      ]
    },
    {
      "cell_type": "markdown",
      "metadata": {
        "id": "GoNx5j_XgdNJ"
      },
      "source": [
        "문제194. 위의 결과에서 월급만 출력하시오."
      ]
    },
    {
      "cell_type": "code",
      "metadata": {
        "colab": {
          "base_uri": "https://localhost:8080/"
        },
        "id": "RZMoRUL2gi-y",
        "outputId": "cd1d97a2-b9a1-4251-c2fc-a17bdb13855f"
      },
      "source": [
        "emp = pd.read_csv(\"emp3.csv\")\n",
        "a = input('이름을 입력하세요')\n",
        "result = (emp['sal'][emp['ename']==a.upper()])  # 컬럼이 하나면 []이거 하나만 써도 된다.\n",
        "print(type(result))  # <class 'pandas.core.series.Series'> 판다스 시리즈다. 오라클로 치면 컬럼이다. 나는 컬럼말고 3000딱 나오게 하고싶다. 오라클에서는 필드값이라고 한다.\n",
        "\n",
        "result = (emp['sal'][emp['ename']==a.upper()]).values[0]  # .values[0]을 넣으면 딱 3000이 나온다.!\n",
        "print((result))"
      ],
      "execution_count": null,
      "outputs": [
        {
          "output_type": "stream",
          "text": [
            "이름을 입력하세요scott\n",
            "<class 'pandas.core.series.Series'>\n",
            "3000\n"
          ],
          "name": "stdout"
        }
      ]
    },
    {
      "cell_type": "markdown",
      "metadata": {
        "id": "7tYjQgpZiKdx"
      },
      "source": [
        "설명: emp 데이터 프레임에서 어떤 특정값을 딱 하나만 출력하려면 위와 같이 작성해줘야 합니다."
      ]
    },
    {
      "cell_type": "markdown",
      "metadata": {
        "id": "xAxbIvP4f_F9"
      },
      "source": [
        "\n",
        "문제195. 위의 코드에 사용자 정의 예외처리를 해서 월급이 고소득자는 해당 사원의 월급을 볼 수 없습니다. 라는 메세지가 출력되게 하시오."
      ]
    },
    {
      "cell_type": "code",
      "metadata": {
        "colab": {
          "base_uri": "https://localhost:8080/",
          "height": 262
        },
        "id": "3sGt7tk3gHHM",
        "outputId": "53ebc136-f493-42b4-9e63-38266b4dfb35"
      },
      "source": [
        "import pandas as pd\n",
        "\n",
        "emp = pd.read_csv(\"emp3.csv\")\n",
        "a = input('이름을 입력하세요')\n",
        "if (emp['sal'][emp['ename']==a.upper()]).values[0] >= 3000:\n",
        "  raise Exception('해당 사원의 월급을 볼 수 없습니다.')\n",
        "else:\n",
        "  print(emp[['ename','sal']][emp['ename']==a.upper()])"
      ],
      "execution_count": null,
      "outputs": [
        {
          "output_type": "stream",
          "text": [
            "이름을 입력하세요scott\n"
          ],
          "name": "stdout"
        },
        {
          "output_type": "error",
          "ename": "Exception",
          "evalue": "ignored",
          "traceback": [
            "\u001b[0;31m---------------------------------------------------------------------------\u001b[0m",
            "\u001b[0;31mException\u001b[0m                                 Traceback (most recent call last)",
            "\u001b[0;32m<ipython-input-83-4a6469aa9790>\u001b[0m in \u001b[0;36m<module>\u001b[0;34m()\u001b[0m\n\u001b[1;32m      4\u001b[0m \u001b[0ma\u001b[0m \u001b[0;34m=\u001b[0m \u001b[0minput\u001b[0m\u001b[0;34m(\u001b[0m\u001b[0;34m'이름을 입력하세요'\u001b[0m\u001b[0;34m)\u001b[0m\u001b[0;34m\u001b[0m\u001b[0;34m\u001b[0m\u001b[0m\n\u001b[1;32m      5\u001b[0m \u001b[0;32mif\u001b[0m \u001b[0;34m(\u001b[0m\u001b[0memp\u001b[0m\u001b[0;34m[\u001b[0m\u001b[0;34m'sal'\u001b[0m\u001b[0;34m]\u001b[0m\u001b[0;34m[\u001b[0m\u001b[0memp\u001b[0m\u001b[0;34m[\u001b[0m\u001b[0;34m'ename'\u001b[0m\u001b[0;34m]\u001b[0m\u001b[0;34m==\u001b[0m\u001b[0ma\u001b[0m\u001b[0;34m.\u001b[0m\u001b[0mupper\u001b[0m\u001b[0;34m(\u001b[0m\u001b[0;34m)\u001b[0m\u001b[0;34m]\u001b[0m\u001b[0;34m)\u001b[0m\u001b[0;34m.\u001b[0m\u001b[0mvalues\u001b[0m\u001b[0;34m[\u001b[0m\u001b[0;36m0\u001b[0m\u001b[0;34m]\u001b[0m \u001b[0;34m>=\u001b[0m \u001b[0;36m3000\u001b[0m\u001b[0;34m:\u001b[0m\u001b[0;34m\u001b[0m\u001b[0;34m\u001b[0m\u001b[0m\n\u001b[0;32m----> 6\u001b[0;31m   \u001b[0;32mraise\u001b[0m \u001b[0mException\u001b[0m\u001b[0;34m(\u001b[0m\u001b[0;34m'해당 사원의 월급을 볼 수 없습니다.'\u001b[0m\u001b[0;34m)\u001b[0m\u001b[0;34m\u001b[0m\u001b[0;34m\u001b[0m\u001b[0m\n\u001b[0m\u001b[1;32m      7\u001b[0m \u001b[0;32melse\u001b[0m\u001b[0;34m:\u001b[0m\u001b[0;34m\u001b[0m\u001b[0;34m\u001b[0m\u001b[0m\n\u001b[1;32m      8\u001b[0m   \u001b[0mprint\u001b[0m\u001b[0;34m(\u001b[0m\u001b[0memp\u001b[0m\u001b[0;34m[\u001b[0m\u001b[0;34m[\u001b[0m\u001b[0;34m'ename'\u001b[0m\u001b[0;34m,\u001b[0m\u001b[0;34m'sal'\u001b[0m\u001b[0;34m]\u001b[0m\u001b[0;34m]\u001b[0m\u001b[0;34m[\u001b[0m\u001b[0memp\u001b[0m\u001b[0;34m[\u001b[0m\u001b[0;34m'ename'\u001b[0m\u001b[0;34m]\u001b[0m\u001b[0;34m==\u001b[0m\u001b[0ma\u001b[0m\u001b[0;34m.\u001b[0m\u001b[0mupper\u001b[0m\u001b[0;34m(\u001b[0m\u001b[0;34m)\u001b[0m\u001b[0;34m]\u001b[0m\u001b[0;34m)\u001b[0m\u001b[0;34m\u001b[0m\u001b[0;34m\u001b[0m\u001b[0m\n",
            "\u001b[0;31mException\u001b[0m: 해당 사원의 월급을 볼 수 없습니다."
          ]
        }
      ]
    },
    {
      "cell_type": "markdown",
      "metadata": {
        "id": "0f2Vb4LhjZZG"
      },
      "source": [
        "smith를 넣으면 잘 출력되지만 scott을 넣으면 에러메세지를 출력한다.  \n",
        "\n",
        "문제196. 위의 코드를 수정해서 이름을 물어보게하고 이름과 직업을 출력하는 코드로 작성하는데 집업이 SALESMAN이면 해당 사원의 정보는 볼 수 없습니다. 라는 메세지가 출력되면서 프로그램이 종료되게 하시오."
      ]
    },
    {
      "cell_type": "code",
      "metadata": {
        "colab": {
          "base_uri": "https://localhost:8080/",
          "height": 262
        },
        "id": "jqhB-9OdkQnk",
        "outputId": "bbae6ccb-12c8-4216-adf6-a57c7bda2f27"
      },
      "source": [
        "import pandas as pd\n",
        "\n",
        "emp = pd.read_csv(\"emp3.csv\")\n",
        "name = input('이름을 입력하세요')\n",
        "result = emp['job'][emp['ename']==name.upper()].values[0]\n",
        "if result == 'SALESMAN':\n",
        "  raise Exception('해당사원의 정보는 볼 수 없습니다.')\n",
        "else: \n",
        "  print(emp[['ename','job']][emp['ename']==name.upper()])"
      ],
      "execution_count": null,
      "outputs": [
        {
          "output_type": "stream",
          "text": [
            "이름을 입력하세요allen\n"
          ],
          "name": "stdout"
        },
        {
          "output_type": "error",
          "ename": "Exception",
          "evalue": "ignored",
          "traceback": [
            "\u001b[0;31m---------------------------------------------------------------------------\u001b[0m",
            "\u001b[0;31mException\u001b[0m                                 Traceback (most recent call last)",
            "\u001b[0;32m<ipython-input-97-6604d9ce530e>\u001b[0m in \u001b[0;36m<module>\u001b[0;34m()\u001b[0m\n\u001b[1;32m      5\u001b[0m \u001b[0mresult\u001b[0m \u001b[0;34m=\u001b[0m \u001b[0memp\u001b[0m\u001b[0;34m[\u001b[0m\u001b[0;34m'job'\u001b[0m\u001b[0;34m]\u001b[0m\u001b[0;34m[\u001b[0m\u001b[0memp\u001b[0m\u001b[0;34m[\u001b[0m\u001b[0;34m'ename'\u001b[0m\u001b[0;34m]\u001b[0m\u001b[0;34m==\u001b[0m\u001b[0mname\u001b[0m\u001b[0;34m.\u001b[0m\u001b[0mupper\u001b[0m\u001b[0;34m(\u001b[0m\u001b[0;34m)\u001b[0m\u001b[0;34m]\u001b[0m\u001b[0;34m.\u001b[0m\u001b[0mvalues\u001b[0m\u001b[0;34m[\u001b[0m\u001b[0;36m0\u001b[0m\u001b[0;34m]\u001b[0m\u001b[0;34m\u001b[0m\u001b[0;34m\u001b[0m\u001b[0m\n\u001b[1;32m      6\u001b[0m \u001b[0;32mif\u001b[0m \u001b[0mresult\u001b[0m \u001b[0;34m==\u001b[0m \u001b[0;34m'SALESMAN'\u001b[0m\u001b[0;34m:\u001b[0m\u001b[0;34m\u001b[0m\u001b[0;34m\u001b[0m\u001b[0m\n\u001b[0;32m----> 7\u001b[0;31m   \u001b[0;32mraise\u001b[0m \u001b[0mException\u001b[0m\u001b[0;34m(\u001b[0m\u001b[0;34m'해당사원의 정보는 볼 수 없습니다.'\u001b[0m\u001b[0;34m)\u001b[0m\u001b[0;34m\u001b[0m\u001b[0;34m\u001b[0m\u001b[0m\n\u001b[0m\u001b[1;32m      8\u001b[0m \u001b[0;32melse\u001b[0m\u001b[0;34m:\u001b[0m\u001b[0;34m\u001b[0m\u001b[0;34m\u001b[0m\u001b[0m\n\u001b[1;32m      9\u001b[0m   \u001b[0mprint\u001b[0m\u001b[0;34m(\u001b[0m\u001b[0memp\u001b[0m\u001b[0;34m[\u001b[0m\u001b[0;34m[\u001b[0m\u001b[0;34m'ename'\u001b[0m\u001b[0;34m,\u001b[0m\u001b[0;34m'job'\u001b[0m\u001b[0;34m]\u001b[0m\u001b[0;34m]\u001b[0m\u001b[0;34m[\u001b[0m\u001b[0memp\u001b[0m\u001b[0;34m[\u001b[0m\u001b[0;34m'ename'\u001b[0m\u001b[0;34m]\u001b[0m\u001b[0;34m==\u001b[0m\u001b[0mname\u001b[0m\u001b[0;34m.\u001b[0m\u001b[0mupper\u001b[0m\u001b[0;34m(\u001b[0m\u001b[0;34m)\u001b[0m\u001b[0;34m]\u001b[0m\u001b[0;34m)\u001b[0m\u001b[0;34m\u001b[0m\u001b[0;34m\u001b[0m\u001b[0m\n",
            "\u001b[0;31mException\u001b[0m: 해당사원의 정보는 볼 수 없습니다."
          ]
        }
      ]
    },
    {
      "cell_type": "markdown",
      "metadata": {
        "id": "3V2hczUZo9vp"
      },
      "source": [
        "# 60. 값 입력받기(input)  \n",
        "\n",
        "파이썬 내장함수 input은 사용자가 키보드로 입력한 값을 문자열로 return합니다.  \n",
        "input()의 인자는 사용자 입력을 돕기 위한 안내 문구나 힌트 등을 표시하는 문자열이 됩니다.  \n",
        "\n",
        "예:\n",
        "```\n",
        "name = input('사원이름을 입력하세요')\n",
        "num = int(input('숫자값을 입력하세요'))  # input으로 받는 값은 기본적으로 str이기 때문에 int나 float를 붙여서 숫자로 변환해줘야 한다.\n",
        "```\n",
        "\n",
        "문제197. 아래처럼 사원 이름을 물어보게 하고 사원이름을 입력하면 해당 사원의 이름과 월급이 출력되게 하시오."
      ]
    },
    {
      "cell_type": "code",
      "metadata": {
        "colab": {
          "base_uri": "https://localhost:8080/"
        },
        "id": "zLmq_CtqpsoR",
        "outputId": "4851943b-2bb2-41ec-8086-29949f5d1ed6"
      },
      "source": [
        "name = input('사원 이름을 입력해주세요.')\n",
        "emp = pd.read_csv('emp3.csv')\n",
        "print(emp[['ename','sal']][emp['ename']==name.upper()])"
      ],
      "execution_count": null,
      "outputs": [
        {
          "output_type": "stream",
          "text": [
            "사원 이름을 입력해주세요.scott\n",
            "    ename   sal\n",
            "11  SCOTT  3000\n"
          ],
          "name": "stdout"
        }
      ]
    },
    {
      "cell_type": "markdown",
      "metadata": {
        "id": "l20hTFS6pkih"
      },
      "source": [
        "문제198. 없는 사원 이름을 입력하면 해당 사원은 없습니다. 라는 메세지가 출력되게 하시오!"
      ]
    },
    {
      "cell_type": "code",
      "metadata": {
        "colab": {
          "base_uri": "https://localhost:8080/"
        },
        "id": "bMBUM835qQot",
        "outputId": "bd0730e7-1ca7-4533-cbfd-f81414a12206"
      },
      "source": [
        "try:\n",
        "  emp = pd.read_csv('emp3.csv')\n",
        "  name = input('이름을 입력해주세요.')\n",
        "  result = emp['ename'][emp['ename']==name.upper()].values[0]\n",
        "  print(emp[['ename','sal']][emp['ename']==result])\n",
        "except LookupError:\n",
        "  print('해당 사원은 없습니다.')\n"
      ],
      "execution_count": null,
      "outputs": [
        {
          "output_type": "stream",
          "text": [
            "이름을 입력해주세요.king\n",
            "  ename   sal\n",
            "0  KING  5000\n"
          ],
          "name": "stdout"
        }
      ]
    },
    {
      "cell_type": "markdown",
      "metadata": {
        "id": "RDngJzXRr_k6"
      },
      "source": [
        "설명: result = emp['ename'][emp['ename']==name.upper()].values[0]  \n",
        "이 코드에서 values[0]을 사용하면 Series(컬럼)이 아니라 값으로 출력이 되어서 result에 담기게 됩니다. 없는 사원이름을 입력하면 result에 값이 입력되지 않게 되므로 LookupError 예외처리가 되어서 해당사원은 없습니다. 라는 메세지가 출력됩니다.  \n",
        "\n",
        "문제 199. (점심시간 문제) 직업을 물어보게 하고 직업을 입력하면 해당 사원의 이름과 직업과 월급이 출력되게하는 코드를 작성하는데 없는 직업을 입력하면 해당 직업은 사원 테이블에 없습니다. 라는 메세지가 출력되게 하시오.\n",
        "\n",
        "```\n",
        "직업을 입력하세요 ~ salesman\n",
        "이름 직업 월급\n",
        "\n",
        "직업을 입력하세요 ~ aaa\n",
        "해당 직업은 사원 테이블에 없습니다.\n",
        "```"
      ]
    },
    {
      "cell_type": "code",
      "metadata": {
        "colab": {
          "base_uri": "https://localhost:8080/",
          "height": 718
        },
        "id": "NQ-KMCnFtJCX",
        "outputId": "85e222fd-9637-4921-c369-e401e6e641fc"
      },
      "source": [
        "import pandas as pd\n",
        "try:\n",
        "  emp = pd.read_csv('emp3.csv')\n",
        "  job = input('직업을 입력하세요 ~ ')\n",
        "  result = (emp['job'][emp['job']==job.upper()]).values[0]\n",
        "  print(result)\n",
        "  print((emp[['ename','job','sal']][emp['job']==result]))\n",
        "except LookupError:\n",
        "  print('해당 직업은 사원 테이블에 없습니다.')\n",
        "  result = (emp['job'][emp['job']==job.upper()])\n",
        "  print(result[0])\n",
        "  "
      ],
      "execution_count": null,
      "outputs": [
        {
          "output_type": "stream",
          "text": [
            "직업을 입력하세요 ~ a\n",
            "해당 직업은 사원 테이블에 없습니다.\n"
          ],
          "name": "stdout"
        },
        {
          "output_type": "error",
          "ename": "KeyError",
          "evalue": "ignored",
          "traceback": [
            "\u001b[0;31m---------------------------------------------------------------------------\u001b[0m",
            "\u001b[0;31mIndexError\u001b[0m                                Traceback (most recent call last)",
            "\u001b[0;32m<ipython-input-147-efae47527820>\u001b[0m in \u001b[0;36m<module>\u001b[0;34m()\u001b[0m\n\u001b[1;32m      4\u001b[0m   \u001b[0mjob\u001b[0m \u001b[0;34m=\u001b[0m \u001b[0minput\u001b[0m\u001b[0;34m(\u001b[0m\u001b[0;34m'직업을 입력하세요 ~ '\u001b[0m\u001b[0;34m)\u001b[0m\u001b[0;34m\u001b[0m\u001b[0;34m\u001b[0m\u001b[0m\n\u001b[0;32m----> 5\u001b[0;31m   \u001b[0mresult\u001b[0m \u001b[0;34m=\u001b[0m \u001b[0;34m(\u001b[0m\u001b[0memp\u001b[0m\u001b[0;34m[\u001b[0m\u001b[0;34m'job'\u001b[0m\u001b[0;34m]\u001b[0m\u001b[0;34m[\u001b[0m\u001b[0memp\u001b[0m\u001b[0;34m[\u001b[0m\u001b[0;34m'job'\u001b[0m\u001b[0;34m]\u001b[0m\u001b[0;34m==\u001b[0m\u001b[0mjob\u001b[0m\u001b[0;34m.\u001b[0m\u001b[0mupper\u001b[0m\u001b[0;34m(\u001b[0m\u001b[0;34m)\u001b[0m\u001b[0;34m]\u001b[0m\u001b[0;34m)\u001b[0m\u001b[0;34m.\u001b[0m\u001b[0mvalues\u001b[0m\u001b[0;34m[\u001b[0m\u001b[0;36m0\u001b[0m\u001b[0;34m]\u001b[0m\u001b[0;34m\u001b[0m\u001b[0;34m\u001b[0m\u001b[0m\n\u001b[0m\u001b[1;32m      6\u001b[0m   \u001b[0mprint\u001b[0m\u001b[0;34m(\u001b[0m\u001b[0mresult\u001b[0m\u001b[0;34m)\u001b[0m\u001b[0;34m\u001b[0m\u001b[0;34m\u001b[0m\u001b[0m\n",
            "\u001b[0;31mIndexError\u001b[0m: index 0 is out of bounds for axis 0 with size 0",
            "\nDuring handling of the above exception, another exception occurred:\n",
            "\u001b[0;31mKeyError\u001b[0m                                  Traceback (most recent call last)",
            "\u001b[0;32m/usr/local/lib/python3.6/dist-packages/pandas/core/indexes/base.py\u001b[0m in \u001b[0;36mget_loc\u001b[0;34m(self, key, method, tolerance)\u001b[0m\n\u001b[1;32m   2894\u001b[0m             \u001b[0;32mtry\u001b[0m\u001b[0;34m:\u001b[0m\u001b[0;34m\u001b[0m\u001b[0;34m\u001b[0m\u001b[0m\n\u001b[0;32m-> 2895\u001b[0;31m                 \u001b[0;32mreturn\u001b[0m \u001b[0mself\u001b[0m\u001b[0;34m.\u001b[0m\u001b[0m_engine\u001b[0m\u001b[0;34m.\u001b[0m\u001b[0mget_loc\u001b[0m\u001b[0;34m(\u001b[0m\u001b[0mcasted_key\u001b[0m\u001b[0;34m)\u001b[0m\u001b[0;34m\u001b[0m\u001b[0;34m\u001b[0m\u001b[0m\n\u001b[0m\u001b[1;32m   2896\u001b[0m             \u001b[0;32mexcept\u001b[0m \u001b[0mKeyError\u001b[0m \u001b[0;32mas\u001b[0m \u001b[0merr\u001b[0m\u001b[0;34m:\u001b[0m\u001b[0;34m\u001b[0m\u001b[0;34m\u001b[0m\u001b[0m\n",
            "\u001b[0;32mpandas/_libs/index.pyx\u001b[0m in \u001b[0;36mpandas._libs.index.IndexEngine.get_loc\u001b[0;34m()\u001b[0m\n",
            "\u001b[0;32mpandas/_libs/index.pyx\u001b[0m in \u001b[0;36mpandas._libs.index.IndexEngine.get_loc\u001b[0;34m()\u001b[0m\n",
            "\u001b[0;32mpandas/_libs/hashtable_class_helper.pxi\u001b[0m in \u001b[0;36mpandas._libs.hashtable.Int64HashTable.get_item\u001b[0;34m()\u001b[0m\n",
            "\u001b[0;32mpandas/_libs/hashtable_class_helper.pxi\u001b[0m in \u001b[0;36mpandas._libs.hashtable.Int64HashTable.get_item\u001b[0;34m()\u001b[0m\n",
            "\u001b[0;31mKeyError\u001b[0m: 0",
            "\nThe above exception was the direct cause of the following exception:\n",
            "\u001b[0;31mKeyError\u001b[0m                                  Traceback (most recent call last)",
            "\u001b[0;32m<ipython-input-147-efae47527820>\u001b[0m in \u001b[0;36m<module>\u001b[0;34m()\u001b[0m\n\u001b[1;32m      9\u001b[0m   \u001b[0mprint\u001b[0m\u001b[0;34m(\u001b[0m\u001b[0;34m'해당 직업은 사원 테이블에 없습니다.'\u001b[0m\u001b[0;34m)\u001b[0m\u001b[0;34m\u001b[0m\u001b[0;34m\u001b[0m\u001b[0m\n\u001b[1;32m     10\u001b[0m   \u001b[0mresult\u001b[0m \u001b[0;34m=\u001b[0m \u001b[0;34m(\u001b[0m\u001b[0memp\u001b[0m\u001b[0;34m[\u001b[0m\u001b[0;34m'job'\u001b[0m\u001b[0;34m]\u001b[0m\u001b[0;34m[\u001b[0m\u001b[0memp\u001b[0m\u001b[0;34m[\u001b[0m\u001b[0;34m'job'\u001b[0m\u001b[0;34m]\u001b[0m\u001b[0;34m==\u001b[0m\u001b[0mjob\u001b[0m\u001b[0;34m.\u001b[0m\u001b[0mupper\u001b[0m\u001b[0;34m(\u001b[0m\u001b[0;34m)\u001b[0m\u001b[0;34m]\u001b[0m\u001b[0;34m)\u001b[0m\u001b[0;34m\u001b[0m\u001b[0;34m\u001b[0m\u001b[0m\n\u001b[0;32m---> 11\u001b[0;31m   \u001b[0mprint\u001b[0m\u001b[0;34m(\u001b[0m\u001b[0mresult\u001b[0m\u001b[0;34m[\u001b[0m\u001b[0;36m0\u001b[0m\u001b[0;34m]\u001b[0m\u001b[0;34m)\u001b[0m\u001b[0;34m\u001b[0m\u001b[0;34m\u001b[0m\u001b[0m\n\u001b[0m\u001b[1;32m     12\u001b[0m \u001b[0;34m\u001b[0m\u001b[0m\n",
            "\u001b[0;32m/usr/local/lib/python3.6/dist-packages/pandas/core/series.py\u001b[0m in \u001b[0;36m__getitem__\u001b[0;34m(self, key)\u001b[0m\n\u001b[1;32m    880\u001b[0m \u001b[0;34m\u001b[0m\u001b[0m\n\u001b[1;32m    881\u001b[0m         \u001b[0;32melif\u001b[0m \u001b[0mkey_is_scalar\u001b[0m\u001b[0;34m:\u001b[0m\u001b[0;34m\u001b[0m\u001b[0;34m\u001b[0m\u001b[0m\n\u001b[0;32m--> 882\u001b[0;31m             \u001b[0;32mreturn\u001b[0m \u001b[0mself\u001b[0m\u001b[0;34m.\u001b[0m\u001b[0m_get_value\u001b[0m\u001b[0;34m(\u001b[0m\u001b[0mkey\u001b[0m\u001b[0;34m)\u001b[0m\u001b[0;34m\u001b[0m\u001b[0;34m\u001b[0m\u001b[0m\n\u001b[0m\u001b[1;32m    883\u001b[0m \u001b[0;34m\u001b[0m\u001b[0m\n\u001b[1;32m    884\u001b[0m         \u001b[0;32mif\u001b[0m \u001b[0mis_hashable\u001b[0m\u001b[0;34m(\u001b[0m\u001b[0mkey\u001b[0m\u001b[0;34m)\u001b[0m\u001b[0;34m:\u001b[0m\u001b[0;34m\u001b[0m\u001b[0;34m\u001b[0m\u001b[0m\n",
            "\u001b[0;32m/usr/local/lib/python3.6/dist-packages/pandas/core/series.py\u001b[0m in \u001b[0;36m_get_value\u001b[0;34m(self, label, takeable)\u001b[0m\n\u001b[1;32m    987\u001b[0m \u001b[0;34m\u001b[0m\u001b[0m\n\u001b[1;32m    988\u001b[0m         \u001b[0;31m# Similar to Index.get_value, but we do not fall back to positional\u001b[0m\u001b[0;34m\u001b[0m\u001b[0;34m\u001b[0m\u001b[0;34m\u001b[0m\u001b[0m\n\u001b[0;32m--> 989\u001b[0;31m         \u001b[0mloc\u001b[0m \u001b[0;34m=\u001b[0m \u001b[0mself\u001b[0m\u001b[0;34m.\u001b[0m\u001b[0mindex\u001b[0m\u001b[0;34m.\u001b[0m\u001b[0mget_loc\u001b[0m\u001b[0;34m(\u001b[0m\u001b[0mlabel\u001b[0m\u001b[0;34m)\u001b[0m\u001b[0;34m\u001b[0m\u001b[0;34m\u001b[0m\u001b[0m\n\u001b[0m\u001b[1;32m    990\u001b[0m         \u001b[0;32mreturn\u001b[0m \u001b[0mself\u001b[0m\u001b[0;34m.\u001b[0m\u001b[0mindex\u001b[0m\u001b[0;34m.\u001b[0m\u001b[0m_get_values_for_loc\u001b[0m\u001b[0;34m(\u001b[0m\u001b[0mself\u001b[0m\u001b[0;34m,\u001b[0m \u001b[0mloc\u001b[0m\u001b[0;34m,\u001b[0m \u001b[0mlabel\u001b[0m\u001b[0;34m)\u001b[0m\u001b[0;34m\u001b[0m\u001b[0;34m\u001b[0m\u001b[0m\n\u001b[1;32m    991\u001b[0m \u001b[0;34m\u001b[0m\u001b[0m\n",
            "\u001b[0;32m/usr/local/lib/python3.6/dist-packages/pandas/core/indexes/base.py\u001b[0m in \u001b[0;36mget_loc\u001b[0;34m(self, key, method, tolerance)\u001b[0m\n\u001b[1;32m   2895\u001b[0m                 \u001b[0;32mreturn\u001b[0m \u001b[0mself\u001b[0m\u001b[0;34m.\u001b[0m\u001b[0m_engine\u001b[0m\u001b[0;34m.\u001b[0m\u001b[0mget_loc\u001b[0m\u001b[0;34m(\u001b[0m\u001b[0mcasted_key\u001b[0m\u001b[0;34m)\u001b[0m\u001b[0;34m\u001b[0m\u001b[0;34m\u001b[0m\u001b[0m\n\u001b[1;32m   2896\u001b[0m             \u001b[0;32mexcept\u001b[0m \u001b[0mKeyError\u001b[0m \u001b[0;32mas\u001b[0m \u001b[0merr\u001b[0m\u001b[0;34m:\u001b[0m\u001b[0;34m\u001b[0m\u001b[0;34m\u001b[0m\u001b[0m\n\u001b[0;32m-> 2897\u001b[0;31m                 \u001b[0;32mraise\u001b[0m \u001b[0mKeyError\u001b[0m\u001b[0;34m(\u001b[0m\u001b[0mkey\u001b[0m\u001b[0;34m)\u001b[0m \u001b[0;32mfrom\u001b[0m \u001b[0merr\u001b[0m\u001b[0;34m\u001b[0m\u001b[0;34m\u001b[0m\u001b[0m\n\u001b[0m\u001b[1;32m   2898\u001b[0m \u001b[0;34m\u001b[0m\u001b[0m\n\u001b[1;32m   2899\u001b[0m         \u001b[0;32mif\u001b[0m \u001b[0mtolerance\u001b[0m \u001b[0;32mis\u001b[0m \u001b[0;32mnot\u001b[0m \u001b[0;32mNone\u001b[0m\u001b[0;34m:\u001b[0m\u001b[0;34m\u001b[0m\u001b[0;34m\u001b[0m\u001b[0m\n",
            "\u001b[0;31mKeyError\u001b[0m: 0"
          ]
        }
      ]
    },
    {
      "cell_type": "code",
      "metadata": {
        "colab": {
          "base_uri": "https://localhost:8080/"
        },
        "id": "BjLqXZFhu7Ws",
        "outputId": "cc4abc55-0150-4adb-e3a5-540903b23d44"
      },
      "source": [
        "try:\n",
        "    name = input('직업을 입력하세요')\n",
        "    emp = pd.read_csv('emp3.csv')\n",
        "    result = emp['job'][emp['job']==name.upper()].values[0]\n",
        "    print(emp[['ename','sal']][emp['job']==result])\n",
        "except LookupError:\n",
        "    print('해당 직업은 없습니다')"
      ],
      "execution_count": null,
      "outputs": [
        {
          "output_type": "stream",
          "text": [
            "직업을 입력하세요aa\n",
            "해당 직업은 없습니다\n"
          ],
          "name": "stdout"
        }
      ]
    },
    {
      "cell_type": "markdown",
      "metadata": {
        "id": "tfv49HVrtDkY"
      },
      "source": [
        "# 61. 자료형 확인하기(type)\n",
        "\n",
        "파이썬의 자료형은 하나의 클래스입니다.  \n",
        "파이썬은 숫자나 문자 ,문자열, 리스트, 튜플, 사전, 함수 등을 각각의 하나의 클래스로 취급합니다.  \n",
        "코드를 작성하다가 변수이름만 보고 이 자료가 어떤 자료형인지 확인해야 하는 경우가 있습니다. 이 때 파이썬 내장함수인 type()을 활용하면 자료형을 쉽게 활용할 수 있습니다.  \n",
        "\n",
        "예제:"
      ]
    },
    {
      "cell_type": "code",
      "metadata": {
        "colab": {
          "base_uri": "https://localhost:8080/"
        },
        "id": "uxJPV7plEO4x",
        "outputId": "ca6558b0-3a93-4078-a510-dff558ad5d0b"
      },
      "source": [
        "numdata = 57\n",
        "print(type(numdata))"
      ],
      "execution_count": null,
      "outputs": [
        {
          "output_type": "stream",
          "text": [
            "<class 'int'>\n"
          ],
          "name": "stdout"
        }
      ]
    },
    {
      "cell_type": "code",
      "metadata": {
        "colab": {
          "base_uri": "https://localhost:8080/"
        },
        "id": "50PM0ognEVIf",
        "outputId": "26dafa76-ecd1-4646-b2da-dfbc3f30c988"
      },
      "source": [
        "numdata = 57.2\n",
        "print(type(numdata))"
      ],
      "execution_count": null,
      "outputs": [
        {
          "output_type": "stream",
          "text": [
            "<class 'float'>\n"
          ],
          "name": "stdout"
        }
      ]
    },
    {
      "cell_type": "code",
      "metadata": {
        "colab": {
          "base_uri": "https://localhost:8080/"
        },
        "id": "zj9rBNt8E0j_",
        "outputId": "5db903d0-421e-4676-e5c4-0ca7333b649e"
      },
      "source": [
        "strdata = 'str'\n",
        "print(type(strdata))"
      ],
      "execution_count": null,
      "outputs": [
        {
          "output_type": "stream",
          "text": [
            "<class 'str'>\n"
          ],
          "name": "stdout"
        }
      ]
    },
    {
      "cell_type": "code",
      "metadata": {
        "colab": {
          "base_uri": "https://localhost:8080/"
        },
        "id": "GEAcdA4zE3bf",
        "outputId": "5d6fc2ff-edd8-46d5-9248-001b64d03877"
      },
      "source": [
        "a = [1,2,3,4]\n",
        "print(type(a))"
      ],
      "execution_count": null,
      "outputs": [
        {
          "output_type": "stream",
          "text": [
            "<class 'list'>\n"
          ],
          "name": "stdout"
        }
      ]
    },
    {
      "cell_type": "markdown",
      "metadata": {
        "id": "FLMWthE-FBEH"
      },
      "source": [
        "문제200. 딕셔너리 자료형을 만들고 위와 같이 type을 확인하시오!"
      ]
    },
    {
      "cell_type": "code",
      "metadata": {
        "colab": {
          "base_uri": "https://localhost:8080/"
        },
        "id": "lyaqSvSYFEl_",
        "outputId": "5eb5cb95-8c2e-4473-b0db-2f811a8a4566"
      },
      "source": [
        "dic = {'사과':'apple','배':'pear'}\n",
        "print(type(dic))"
      ],
      "execution_count": null,
      "outputs": [
        {
          "output_type": "stream",
          "text": [
            "<class 'dict'>\n"
          ],
          "name": "stdout"
        }
      ]
    },
    {
      "cell_type": "markdown",
      "metadata": {
        "id": "iaAnm5pqFpYG"
      },
      "source": [
        "설명:\n",
        "```\n",
        "  리스트 --> 대괄호[]\n",
        "    튜플 --> 소괄호()\n",
        "딕셔너리 --> 중괄호{}\n",
        "```"
      ]
    },
    {
      "cell_type": "markdown",
      "metadata": {
        "id": "1ZYRabPIF0R9"
      },
      "source": [
        "# 62. 나눗셈에서 나머지만 구하기(%)\n",
        "\n",
        "나누기 연산에서 나머지만 구하는 연산을 %로 구합니다.  \n",
        "\n",
        "예:\n"
      ]
    },
    {
      "cell_type": "code",
      "metadata": {
        "colab": {
          "base_uri": "https://localhost:8080/"
        },
        "id": "c8ztyfQ4GCgd",
        "outputId": "d789f6ab-b76a-4c97-e71e-027a0a423a78"
      },
      "source": [
        "print(12 % 3) # 0\n",
        "print(12 % 5) "
      ],
      "execution_count": null,
      "outputs": [
        {
          "output_type": "stream",
          "text": [
            "0\n",
            "2\n"
          ],
          "name": "stdout"
        }
      ]
    },
    {
      "cell_type": "markdown",
      "metadata": {
        "id": "S_o9HPi9GOpN"
      },
      "source": [
        "문제201. 아래와 같이 두개의 숫자를 각각 물어보게하고 아래의 메세지가 출력되게 하시오!\n",
        "```\n",
        "첫번째 숫자를 입력하세요 ~ 1113\n",
        "두번째 숫자를 입력하세요 ~ 23\n",
        "\n",
        "1113을 23으로 나누면 9가 나머지로 남습니다.\n",
        "```"
      ]
    },
    {
      "cell_type": "code",
      "metadata": {
        "colab": {
          "base_uri": "https://localhost:8080/"
        },
        "id": "y5d0Soj9GSac",
        "outputId": "e1432491-a790-49b4-f39d-67768636f155"
      },
      "source": [
        "a = int(input('첫번째 숫자를 입력하세요 ~ '))\n",
        "b = int(input('두번째 숫자를 입력하세요 ~ '))\n",
        "c = a % b\n",
        "print(f'{a}를 {b}로 나누면 {c}가 나머지로 남습니다.')"
      ],
      "execution_count": null,
      "outputs": [
        {
          "output_type": "stream",
          "text": [
            "첫번째 숫자를 입력하세요 ~ 1113\n",
            "두번째 숫자를 입력하세요 ~ 23\n",
            "1113를 23로 나누면 9가 나머지로 남습니다.\n"
          ],
          "name": "stdout"
        }
      ]
    },
    {
      "cell_type": "markdown",
      "metadata": {
        "id": "d8gw2YMmHTQx"
      },
      "source": [
        "# 63. 몫과 나머지 구하기(divmod)  \n",
        "\n",
        "예제:"
      ]
    },
    {
      "cell_type": "code",
      "metadata": {
        "colab": {
          "base_uri": "https://localhost:8080/"
        },
        "id": "7uE3QJUaG0XN",
        "outputId": "1452937c-a7df-4260-b27f-a4e5e65e50c7"
      },
      "source": [
        "result1, result2= divmod(1113,23)  # divmod함수가 출력하는 값이 2개여서 앞에 result도 2개를 써줬다.\n",
        "print(result1, result2)"
      ],
      "execution_count": null,
      "outputs": [
        {
          "output_type": "stream",
          "text": [
            "48 9\n"
          ],
          "name": "stdout"
        }
      ]
    },
    {
      "cell_type": "markdown",
      "metadata": {
        "id": "TjNp4QzJHjs6"
      },
      "source": [
        "몫과 나머지가 출력된다.  \n"
      ]
    },
    {
      "cell_type": "code",
      "metadata": {
        "colab": {
          "base_uri": "https://localhost:8080/"
        },
        "id": "fZpyAqBdIaMQ",
        "outputId": "8b738cf7-36e9-4a33-e8d7-4cdd07796d1a"
      },
      "source": [
        "result = divmod(1113,23)\n",
        "print(result)"
      ],
      "execution_count": null,
      "outputs": [
        {
          "output_type": "stream",
          "text": [
            "(48, 9)\n",
            "<class 'tuple'>\n"
          ],
          "name": "stdout"
        }
      ]
    },
    {
      "cell_type": "markdown",
      "metadata": {
        "id": "XMebgXTSIfBh"
      },
      "source": [
        "result하나만 쓰면 하나에 모든 값이 다 들어간다. 튜플 형으로 들어간다.  \n",
        "\n",
        "문제202. 아래와 같이 실행되게 코드를 수행하시오.\n",
        "```\n",
        "첫번째 숫자를 입력하시오 ~ 1113\n",
        "두번째 숫자를 입력하시오 ~ 23\n",
        "1113을 23으로 나눈 몫은 48이고 나머지는 9입니다.\n",
        "\n",
        "0으로 나누면\n",
        "0으로는 나눌 수 없습니다.\n",
        "```"
      ]
    },
    {
      "cell_type": "code",
      "metadata": {
        "colab": {
          "base_uri": "https://localhost:8080/"
        },
        "id": "Db1tPK7DI_pH",
        "outputId": "dfd9b86e-6b64-4b96-c6eb-63d740e85d38"
      },
      "source": [
        "try:\n",
        "    a = int(input('첫번째 숫자를 입력하시오. '))\n",
        "    b = int(input('첫번째 숫자를 입력하시오. '))\n",
        "    result1, result2 = divmod(a,b)\n",
        "    print(f'{a}을 {b}으로 나눈 몫은 {result1}이고 나머지는 {result2}입니다.')\n",
        "except ZeroDivisionError :\n",
        "    print('0으로는 나눌 수 없습니다.')\n",
        "except:\n",
        "    print('잘못된 값을 입력하셨습니다.')"
      ],
      "execution_count": null,
      "outputs": [
        {
          "output_type": "stream",
          "text": [
            "첫번째 숫자를 입력하시오. 1113\n",
            "첫번째 숫자를 입력하시오. 23\n",
            "1113을 23으로 나눈 몫은 48이고 나머지는 9입니다.\n"
          ],
          "name": "stdout"
        }
      ]
    },
    {
      "cell_type": "markdown",
      "metadata": {
        "id": "B6vrfNRGI64P"
      },
      "source": [
        "# 64. Pandas를 이용한 데이터 검색  \n",
        "\n",
        "SQL, Pandas를 자유롭게 사용할 수 있어야 합니다.  \n",
        "SQL ---> Pandas, Pandas ---> SQL  \n",
        "\n",
        "예제:\n",
        "```\n",
        "emp[['ename','sal']][emp['ename']=='SCOTT']\n",
        "          컬럼            조건\n",
        "```\n",
        "\n",
        "문제203. dept3.csv를 판다스로 로드해서 dept 데이터 프레임 전체를 출력하시오!"
      ]
    },
    {
      "cell_type": "code",
      "metadata": {
        "colab": {
          "base_uri": "https://localhost:8080/"
        },
        "id": "_vCbuvF3IaBZ",
        "outputId": "0e96ad35-e1cc-4041-b033-4320b5321c0d"
      },
      "source": [
        "#from google.colab import files\n",
        "#myfile = files.upload()\n",
        "\n",
        "import pandas as pd\n",
        "dept = pd.read_csv('dept3.csv')\n",
        "print(dept)"
      ],
      "execution_count": null,
      "outputs": [
        {
          "output_type": "stream",
          "text": [
            "   deptno       dname       loc\n",
            "0      10  ACCOUNTING  NEW YORK\n",
            "1      20    RESEARCH    DALLAS\n",
            "2      30       SALES   CHICAGO\n",
            "3      40  OPERATIONS    BOSTON\n"
          ],
          "name": "stdout"
        }
      ]
    },
    {
      "cell_type": "markdown",
      "metadata": {
        "id": "7YrPI1baMT2h"
      },
      "source": [
        "문제204. 부서위치가 DALLAS의 부서번호과 부서명(dname)을 출력하시오!"
      ]
    },
    {
      "cell_type": "code",
      "metadata": {
        "colab": {
          "base_uri": "https://localhost:8080/"
        },
        "id": "so2__eZDMXlw",
        "outputId": "b6a33c3b-eef2-467c-d7a8-19c000d49e57"
      },
      "source": [
        "dept = pd.read_csv('dept3.csv')\n",
        "print(dept[['deptno','dname']][dept['loc']=='DALLAS'])"
      ],
      "execution_count": null,
      "outputs": [
        {
          "output_type": "stream",
          "text": [
            "   deptno     dname\n",
            "1      20  RESEARCH\n"
          ],
          "name": "stdout"
        }
      ]
    },
    {
      "cell_type": "markdown",
      "metadata": {
        "id": "o0GtGlhvM_5w"
      },
      "source": [
        "# 65. Pandas를 이용한 조인  \n",
        "\n",
        "예제: 이름과 부서위치를 출력하시오!\n",
        "```\n",
        "SQL>\n",
        "select e.ename, d.loc\n",
        "    from emp e, dept d\n",
        "    where e.deptno = d.deptno\n",
        "\n",
        "Pandas>\n",
        "import pandas as pd\n",
        "emp = pd.read_csv('emp3.csv')\n",
        "dept = pd.read_csv('dept3.csv')\n",
        "\n",
        "result = pd.merge(emp, dept, on = 'deptno')\n",
        "print(result[['ename','loc']])\n",
        "```"
      ]
    },
    {
      "cell_type": "code",
      "metadata": {
        "colab": {
          "base_uri": "https://localhost:8080/"
        },
        "id": "6wgKvCOtNdX-",
        "outputId": "01ba970b-d207-44f0-9ab1-91e58d992539"
      },
      "source": [
        "import pandas as pd\n",
        "emp = pd.read_csv('emp3.csv')\n",
        "dept = pd.read_csv('dept3.csv')\n",
        "\n",
        "result = pd.merge(emp, dept, on = 'deptno')\n",
        "print(result[['ename','loc']])"
      ],
      "execution_count": null,
      "outputs": [
        {
          "output_type": "stream",
          "text": [
            "     ename       loc\n",
            "0     KING  NEW YORK\n",
            "1    CLARK  NEW YORK\n",
            "2   MILLER  NEW YORK\n",
            "3    BLAKE   CHICAGO\n",
            "4   MARTIN   CHICAGO\n",
            "5    ALLEN   CHICAGO\n",
            "6   TURNER   CHICAGO\n",
            "7    JAMES   CHICAGO\n",
            "8     WARD   CHICAGO\n",
            "9    JONES    DALLAS\n",
            "10    FORD    DALLAS\n",
            "11   SMITH    DALLAS\n",
            "12   SCOTT    DALLAS\n",
            "13   ADAMS    DALLAS\n"
          ],
          "name": "stdout"
        }
      ]
    },
    {
      "cell_type": "markdown",
      "metadata": {
        "id": "XZqim9y4NlCl"
      },
      "source": [
        "설명: emp 데이터프레임과 dept 데이터 프레임을 merge를 써서 조인시키는데 on = 'deptno'를 이용해서 연결고리가 되는 컬럼을 지정해주면 됩니다.  \n",
        "\n",
        "문제205. DALLAS에서 근무하는 사원들의 이름과 부서위치를 출력하시오.\n",
        "```\n",
        "SQL>\n",
        "select e.ename, d.loc\n",
        "    from emp e, dept d\n",
        "    where e.deptno = d.deptno\n",
        "      and d.loc = 'DALLAS'\n",
        "\n",
        "```"
      ]
    },
    {
      "cell_type": "code",
      "metadata": {
        "colab": {
          "base_uri": "https://localhost:8080/"
        },
        "id": "ox7R5npeOXv8",
        "outputId": "13d24b7a-f6a6-47f5-92cb-3cbcca3888dd"
      },
      "source": [
        "import pandas as pd\n",
        "emp = pd.read_csv('emp3.csv')\n",
        "dept = pd.read_csv('dept3.csv')\n",
        "\n",
        "result = pd.merge(emp,dept,on='deptno')\n",
        "print(result[['ename','loc']][result['loc']=='DALLAS'])"
      ],
      "execution_count": null,
      "outputs": [
        {
          "output_type": "stream",
          "text": [
            "    ename     loc\n",
            "9   JONES  DALLAS\n",
            "10   FORD  DALLAS\n",
            "11  SMITH  DALLAS\n",
            "12  SCOTT  DALLAS\n",
            "13  ADAMS  DALLAS\n"
          ],
          "name": "stdout"
        }
      ]
    },
    {
      "cell_type": "markdown",
      "metadata": {
        "id": "wYVF7ZLFSz4I"
      },
      "source": [
        "문제206. 월급이 3000이상인 사원들의 이름과 월급과 부서위치를 출력하시오.\n",
        "```\n",
        "SQL>\n",
        "select e.ename, e.sal, d.loc\n",
        "    from emp e, dept d\n",
        "    where e.deptno = d.deptno\n",
        "      and sal >= 3000;\n",
        "Pandas>\n",
        "```"
      ]
    },
    {
      "cell_type": "code",
      "metadata": {
        "colab": {
          "base_uri": "https://localhost:8080/"
        },
        "id": "ILlJGlXETCl8",
        "outputId": "527c476b-d8e1-4444-de78-af925ef0fe63"
      },
      "source": [
        "import pandas as pd\n",
        "emp = pd.read_csv('emp3.csv')\n",
        "dept= pd.read_csv('dept3.csv')\n",
        "result = pd.merge(emp, dept, on = 'deptno')\n",
        "\n",
        "print(result[['ename','sal','loc']][result['sal']>=3000])"
      ],
      "execution_count": null,
      "outputs": [
        {
          "output_type": "stream",
          "text": [
            "    ename   sal       loc\n",
            "0    KING  5000  NEW YORK\n",
            "10   FORD  3000    DALLAS\n",
            "12  SCOTT  3000    DALLAS\n"
          ],
          "name": "stdout"
        }
      ]
    },
    {
      "cell_type": "markdown",
      "metadata": {
        "id": "LS-CP8MfTtzL"
      },
      "source": [
        "문제207. 부서번호가 10번, 20번인 사원들의 이름과 부서위치와 부서번호를 출력하시오!\n",
        "```\n",
        "SQL>\n",
        "select e.ename, d.loc, e.deptno\n",
        "    from emp e, dept d\n",
        "    where e.deptno = d.deptno\n",
        "      and e.deptno in (10, 20);\n",
        "\n",
        "pandas>\n",
        "```"
      ]
    },
    {
      "cell_type": "code",
      "metadata": {
        "colab": {
          "base_uri": "https://localhost:8080/"
        },
        "id": "JXHPWTkXUh8H",
        "outputId": "d32c8a51-47e1-4ab9-bce2-9e95ebe5d550"
      },
      "source": [
        "import pandas as pd\n",
        "emp = pd.read_csv('emp3.csv')\n",
        "dept = pd.read_csv('dept3.csv')\n",
        "\n",
        "result = pd.merge(emp, dept, on = 'deptno')\n",
        "print(result[['ename','loc','deptno']][result['deptno'].isin( [ 10,20 ] ) ]) # ( [ ]) 안에 대괄호 쓰는거 잊지 말것! 틀렸음"
      ],
      "execution_count": null,
      "outputs": [
        {
          "output_type": "stream",
          "text": [
            "     ename       loc  deptno\n",
            "0     KING  NEW YORK      10\n",
            "1    CLARK  NEW YORK      10\n",
            "2   MILLER  NEW YORK      10\n",
            "9    JONES    DALLAS      20\n",
            "10    FORD    DALLAS      20\n",
            "11   SMITH    DALLAS      20\n",
            "12   SCOTT    DALLAS      20\n",
            "13   ADAMS    DALLAS      20\n"
          ],
          "name": "stdout"
        }
      ]
    },
    {
      "cell_type": "markdown",
      "metadata": {
        "id": "hOjC2l13VEwZ"
      },
      "source": [
        "문제208. 월급이 1000에서 3000사이인 사원들의 이름과 월급과 부서위치를 출력하시오.  \n",
        "```\n",
        "SQL>\n",
        "select e.ename, e.sal, d.loc\n",
        "    from emp e, dept d\n",
        "    where e.deptno = d.deptno\n",
        "      and e.sal between 1000 and 3000;\n",
        "\n",
        "Pandas>\n",
        "```"
      ]
    },
    {
      "cell_type": "code",
      "metadata": {
        "colab": {
          "base_uri": "https://localhost:8080/"
        },
        "id": "bV9VyZZ3VTrQ",
        "outputId": "d4450142-ddb9-4b0e-a526-b7c7dadf9312"
      },
      "source": [
        "import pandas as pd\n",
        "emp = pd.read_csv('emp3.csv')\n",
        "dept = pd.read_csv('dept3.csv')\n",
        "result = pd.merge(emp, dept, on = 'deptno')\n",
        "\n",
        "print(result[['ename','sal','loc']][result['sal'].between(1000,3000)])"
      ],
      "execution_count": null,
      "outputs": [
        {
          "output_type": "stream",
          "text": [
            "     ename   sal       loc\n",
            "1    CLARK  2450  NEW YORK\n",
            "2   MILLER  1300  NEW YORK\n",
            "3    BLAKE  2850   CHICAGO\n",
            "4   MARTIN  1250   CHICAGO\n",
            "5    ALLEN  1600   CHICAGO\n",
            "6   TURNER  1500   CHICAGO\n",
            "8     WARD  1250   CHICAGO\n",
            "9    JONES  2975    DALLAS\n",
            "10    FORD  3000    DALLAS\n",
            "12   SCOTT  3000    DALLAS\n",
            "13   ADAMS  1100    DALLAS\n"
          ],
          "name": "stdout"
        }
      ]
    },
    {
      "cell_type": "markdown",
      "metadata": {
        "id": "FbB1lFTyWR8-"
      },
      "source": [
        "문제209. 아래의 SQL을 Pandas로 구현하시오.\n",
        "```\n",
        "SQL>\n",
        "select e.ename, d.loc\n",
        "    from emp e, dept d\n",
        "    where e.deptno(+) = d.deptno;\n",
        "#아우터조인 오랜만에본다.\n",
        "```"
      ]
    },
    {
      "cell_type": "code",
      "metadata": {
        "colab": {
          "base_uri": "https://localhost:8080/"
        },
        "id": "fWF8NaDDWnzk",
        "outputId": "7811fca5-d8f4-4f24-96f9-a73ea937c743"
      },
      "source": [
        "import pandas as pd\n",
        "emp = pd.read_csv('emp3.csv')\n",
        "dept = pd.read_csv('dept3.csv')\n",
        "result = pd.merge(emp, dept, on = 'deptno', how = 'right')\n",
        "print(result[['ename','loc']])"
      ],
      "execution_count": null,
      "outputs": [
        {
          "output_type": "stream",
          "text": [
            "     ename       loc\n",
            "0     KING  NEW YORK\n",
            "1    CLARK  NEW YORK\n",
            "2   MILLER  NEW YORK\n",
            "3    JONES    DALLAS\n",
            "4     FORD    DALLAS\n",
            "5    SMITH    DALLAS\n",
            "6    SCOTT    DALLAS\n",
            "7    ADAMS    DALLAS\n",
            "8    BLAKE   CHICAGO\n",
            "9   MARTIN   CHICAGO\n",
            "10   ALLEN   CHICAGO\n",
            "11  TURNER   CHICAGO\n",
            "12   JAMES   CHICAGO\n",
            "13    WARD   CHICAGO\n",
            "14     NaN    BOSTON\n"
          ],
          "name": "stdout"
        }
      ]
    },
    {
      "cell_type": "markdown",
      "metadata": {
        "id": "7cuhu6fHXKbD"
      },
      "source": [
        "반대쪽은 left겠죠?  \n",
        "\n",
        "문제210. 아래의 SQL을 Pandas로 구현하시오!\n",
        "```\n",
        "SQL>\n",
        "select e.ename, d.loc\n",
        "    from emp e full outer join dept d\n",
        "    on (e.deptno = d.deptno);\n",
        "\n",
        "Pandas>\n",
        "```"
      ]
    },
    {
      "cell_type": "code",
      "metadata": {
        "colab": {
          "base_uri": "https://localhost:8080/"
        },
        "id": "lKtyWTKaXgBN",
        "outputId": "56632a97-9497-4d42-8108-db4c9042dbdd"
      },
      "source": [
        "import pandas as pd\n",
        "emp = pd.read_csv('emp3.csv')\n",
        "dept = pd.read_csv('dept3.csv')\n",
        "result = pd.merge(emp, dept, on = 'deptno', how = 'outer')\n",
        "print(result[['ename','loc']])"
      ],
      "execution_count": null,
      "outputs": [
        {
          "output_type": "stream",
          "text": [
            "     ename       loc\n",
            "0     KING  NEW YORK\n",
            "1    CLARK  NEW YORK\n",
            "2   MILLER  NEW YORK\n",
            "3    BLAKE   CHICAGO\n",
            "4   MARTIN   CHICAGO\n",
            "5    ALLEN   CHICAGO\n",
            "6   TURNER   CHICAGO\n",
            "7    JAMES   CHICAGO\n",
            "8     WARD   CHICAGO\n",
            "9    JONES    DALLAS\n",
            "10    FORD    DALLAS\n",
            "11   SMITH    DALLAS\n",
            "12   SCOTT    DALLAS\n",
            "13   ADAMS    DALLAS\n",
            "14     NaN    BOSTON\n"
          ],
          "name": "stdout"
        }
      ]
    },
    {
      "cell_type": "markdown",
      "metadata": {
        "id": "iyMRlJw-Xv4M"
      },
      "source": [
        "# 66. Pandas를 이용한 서브쿼리  \n",
        "\n",
        "예제: JONES 보다 더 많은 월급을 받는 사원들의 이름과 월급을 출력하시오.\n",
        "```\n",
        "SQL>\n",
        "select ename, sal\n",
        "    from emp\n",
        "    where sal >= (select sal from emp where ename = 'JONES');\n",
        "\n",
        "Pandas>\n",
        "```\n",
        "\n"
      ]
    },
    {
      "cell_type": "code",
      "metadata": {
        "colab": {
          "base_uri": "https://localhost:8080/"
        },
        "id": "AkhpZIgAYUf0",
        "outputId": "a5a3add8-18b5-45f6-d730-d01b405cd331"
      },
      "source": [
        "import pandas as pd\n",
        "emp = pd.read_csv('emp3.csv')\n",
        "\n",
        "jsal = emp['sal'][emp['ename']=='JONES'].values[0]\n",
        "print(type(jsal))\n",
        "print(emp[['ename','sal']][emp['sal'] > jsal])"
      ],
      "execution_count": null,
      "outputs": [
        {
          "output_type": "stream",
          "text": [
            "<class 'numpy.int64'>\n",
            "    ename   sal\n",
            "0    KING  5000\n",
            "9    FORD  3000\n",
            "11  SCOTT  3000\n"
          ],
          "name": "stdout"
        }
      ]
    },
    {
      "cell_type": "markdown",
      "metadata": {
        "id": "rTXyuoheZgFb"
      },
      "source": [
        "문제211. 아래의 서브쿼리를 Pandas로 구현하시오.  \n",
        "```\n",
        "SQL>\n",
        "select ename, sal\n",
        "    from emp\n",
        "    where job = (select job from emp where ename ='SCOTT');\n",
        "Pandas>\n",
        "```\n"
      ]
    },
    {
      "cell_type": "code",
      "metadata": {
        "colab": {
          "base_uri": "https://localhost:8080/"
        },
        "id": "eWQkuJRrZvJn",
        "outputId": "34dc5d30-36dd-4a5d-b5ce-c5532113b574"
      },
      "source": [
        "emp = pd.read_csv('emp3.csv')\n",
        "\n",
        "scott_job = emp['job'][emp['ename']=='SCOTT'].values[0]\n",
        "print(emp[['ename','sal']][emp['job']==scott_job])"
      ],
      "execution_count": null,
      "outputs": [
        {
          "output_type": "stream",
          "text": [
            "    ename   sal\n",
            "9    FORD  3000\n",
            "11  SCOTT  3000\n"
          ],
          "name": "stdout"
        }
      ]
    },
    {
      "cell_type": "markdown",
      "metadata": {
        "id": "RckYRSl1ai4g"
      },
      "source": [
        "문제212. 아래의 서브쿼리의 결과를 Pandas로 수행하시오.  \n",
        "```\n",
        "SQL>\n",
        "select ename, sal\n",
        "    from emp\n",
        "    where job = (select job from emp where ename = 'SCOTT')\n",
        "      and ename != 'SCOTT'\n",
        "\n",
        "Pandas>\n",
        "```"
      ]
    },
    {
      "cell_type": "code",
      "metadata": {
        "colab": {
          "base_uri": "https://localhost:8080/"
        },
        "id": "xW1IKySWa0cE",
        "outputId": "775e6107-e0ac-4f54-a110-8b303ca4926f"
      },
      "source": [
        "import pandas as pd\n",
        "emp = pd.read_csv('emp3.csv')\n",
        "\n",
        "scott_job = emp['job'][emp['ename']=='SCOTT'].values[0]\n",
        "print(emp[['ename','sal']][(emp['job']== scott_job) & (emp['ename'] != 'SCOTT')])"
      ],
      "execution_count": null,
      "outputs": [
        {
          "output_type": "stream",
          "text": [
            "    ename   sal\n",
            "11  SCOTT  3000\n"
          ],
          "name": "stdout"
        }
      ]
    },
    {
      "cell_type": "markdown",
      "metadata": {
        "id": "U3imTKyzcoUC"
      },
      "source": [
        "설명: 판다스에서 and는 & 이고 or 는 | 입니다.  \n",
        "&와 |를 쓸 때는 괄호로 묶어줘야 합니다.  "
      ]
    },
    {
      "cell_type": "markdown",
      "metadata": {
        "id": "se4GQo5gZu7G"
      },
      "source": [
        "#  67. Pandas와 오라클 그룹함수의 비교  \n",
        "\n",
        "```\n",
        "SQL>\n",
        "select max(sal)\n",
        "    from emp;\n",
        "\n",
        "Pandas>\n",
        "```\n"
      ]
    },
    {
      "cell_type": "code",
      "metadata": {
        "colab": {
          "base_uri": "https://localhost:8080/"
        },
        "id": "v5gWql8ggVj8",
        "outputId": "ebf273ba-6c13-4dfe-f5d9-7d30cea3de82"
      },
      "source": [
        "import pandas as pd\n",
        "emp = pd.read_csv('emp3.csv')\n",
        "print(emp['sal'].max())        # .max()\n",
        "print(emp['sal'].min())        # 최소\n",
        "print(emp['sal'].mean())       # 평균\n",
        "print(emp['sal'].sum())        # 토탈\n",
        "print(emp['sal'].var())        # 분산\n",
        "print(emp['sal'].std())        # 표준편차"
      ],
      "execution_count": null,
      "outputs": [
        {
          "output_type": "stream",
          "text": [
            "5000\n",
            "800\n",
            "2073.214285714286\n",
            "29025\n",
            "1398313.8736263737\n",
            "1182.5032235162716\n"
          ],
          "name": "stdout"
        }
      ]
    },
    {
      "cell_type": "markdown",
      "metadata": {
        "id": "XDz11O1Og8WY"
      },
      "source": [
        "문제213. 아래의 SQL을 판다스로 구현하시오!  \n",
        "```\n",
        "SQL>\n",
        "select max(sal)\n",
        "    from emp\n",
        "    where deptno = 20;\n",
        "\n",
        "Pandas>\n",
        "```"
      ]
    },
    {
      "cell_type": "code",
      "metadata": {
        "colab": {
          "base_uri": "https://localhost:8080/"
        },
        "id": "sSs6pW1thDcQ",
        "outputId": "9785d579-435d-4431-e3cd-1ffb0be1d0a2"
      },
      "source": [
        "import pandas as pd\n",
        "emp = pd.read_csv('emp3.csv')\n",
        "\n",
        "print(emp['sal'][emp['deptno']==20].max())       # emp['sal'].max()[emp['deptno']==20] 이렇게 맥스를 중간에 넣었다가 한번 틀림"
      ],
      "execution_count": null,
      "outputs": [
        {
          "output_type": "stream",
          "text": [
            "3000\n"
          ],
          "name": "stdout"
        }
      ]
    },
    {
      "cell_type": "markdown",
      "metadata": {
        "id": "Bt5SoFh_hcgq"
      },
      "source": [
        "문제214. 아래의 SQL을 판다스로 구현하시오.  \n",
        "```\n",
        "SQL>\n",
        "select min(sal)\n",
        "    from emp\n",
        "    where job = 'SALESMAN';\n",
        "\n",
        "pandas>\n",
        "```"
      ]
    },
    {
      "cell_type": "code",
      "metadata": {
        "colab": {
          "base_uri": "https://localhost:8080/"
        },
        "id": "VizHPU-Zh-Pe",
        "outputId": "5347908a-1673-4b75-98c2-6f752ed99393"
      },
      "source": [
        "import pandas as pd\n",
        "emp = pd.read_csv('emp3.csv')\n",
        "\n",
        "print(emp['sal'][emp['job']=='SALESMAN'].min())"
      ],
      "execution_count": null,
      "outputs": [
        {
          "output_type": "stream",
          "text": [
            "1250\n"
          ],
          "name": "stdout"
        }
      ]
    },
    {
      "cell_type": "markdown",
      "metadata": {
        "id": "zrGLYvAsiKjH"
      },
      "source": [
        "카페 12기 게시판에 올린 emp12.csv를 c드라이브 밑에 data 밑에 다운받으세요.  \n",
        "\n",
        "문제215. emp12.csv를 판다스 데이터 프레임으로 만들어서 출력하시오!"
      ]
    },
    {
      "cell_type": "code",
      "metadata": {
        "id": "wjBFbKCrk55N"
      },
      "source": [
        "#from google.colab import files\n",
        "#myfile = files.upload()\n",
        "\n",
        "import pandas as pd\n",
        "emp12 = pd.read_csv('emp122.csv')\n",
        "emp12"
      ],
      "execution_count": null,
      "outputs": []
    },
    {
      "cell_type": "markdown",
      "metadata": {
        "id": "YL1_4rnumB_A"
      },
      "source": [
        "문제216. 우리반에서 최소 나이를 출력하시오!"
      ]
    },
    {
      "cell_type": "code",
      "metadata": {
        "colab": {
          "base_uri": "https://localhost:8080/"
        },
        "id": "arQ5NVymmEJw",
        "outputId": "7b3e8f73-d8ae-45a2-9c08-200a819c3ca4"
      },
      "source": [
        "import pandas as pd\n",
        "emp12 = pd.read_csv('emp122.csv')\n",
        "print(emp12['AGE'].min())"
      ],
      "execution_count": 304,
      "outputs": [
        {
          "output_type": "stream",
          "text": [
            "24\n"
          ],
          "name": "stdout"
        }
      ]
    },
    {
      "cell_type": "markdown",
      "metadata": {
        "id": "90QkiJs2mT2J"
      },
      "source": [
        "문제217. 아래의 SQL을 판다스로 구현하시오!  \n",
        "```\n",
        "SQL>\n",
        "select job, max(sal)\n",
        "    from emp\n",
        "    group by job;\n",
        "pandas>\n",
        "```"
      ]
    },
    {
      "cell_type": "code",
      "metadata": {
        "colab": {
          "base_uri": "https://localhost:8080/"
        },
        "id": "w7HQOMH5mdFm",
        "outputId": "a2e424f5-a29f-4778-b26e-2b8d25629399"
      },
      "source": [
        "import pandas as pd\n",
        "emp = pd.read_csv('emp3.csv')\n",
        "result = emp.groupby('job')['sal'].max()\n",
        "print(result)"
      ],
      "execution_count": 312,
      "outputs": [
        {
          "output_type": "stream",
          "text": [
            "job\n",
            "ANALYST      3000\n",
            "CLERK        1300\n",
            "MANAGER      2975\n",
            "PRESIDENT    5000\n",
            "SALESMAN     1600\n",
            "Name: sal, dtype: int64\n"
          ],
          "name": "stdout"
        }
      ]
    },
    {
      "cell_type": "markdown",
      "metadata": {
        "id": "y-8cHa5mncLE"
      },
      "source": [
        "직업만 나오고 컬럼이 없다.  \n",
        "<class 'pandas.core.series.Series'>  \n",
        "타입이 시리즈다. 그래서 컬럼이 하나밖에 안보인다."
      ]
    },
    {
      "cell_type": "code",
      "metadata": {
        "colab": {
          "base_uri": "https://localhost:8080/"
        },
        "id": "yXWGbloVn42s",
        "outputId": "36eff2fc-d71e-4815-cecf-1c159d76c40a"
      },
      "source": [
        "import pandas as pd\n",
        "emp = pd.read_csv('emp3.csv')\n",
        "result = emp.groupby('job')['sal'].max().reset_index()\n",
        "print(result)"
      ],
      "execution_count": 315,
      "outputs": [
        {
          "output_type": "stream",
          "text": [
            "         job   sal\n",
            "0    ANALYST  3000\n",
            "1      CLERK  1300\n",
            "2    MANAGER  2975\n",
            "3  PRESIDENT  5000\n",
            "4   SALESMAN  1600\n"
          ],
          "name": "stdout"
        }
      ]
    },
    {
      "cell_type": "markdown",
      "metadata": {
        "id": "t_k_skqin6n1"
      },
      "source": [
        "뒤에 reset_index()를 써줘야 제대로 데이터 프레임으로 나온다.  \n",
        "<class 'pandas.core.frame.DataFrame'>  \n",
        "\n",
        "설명: reset_index() 키워드는 Series(컬럼)로 출력하는게 아니라.  \n",
        "DataFrame(테이블)으로 출력하는 키워드 입니다.  \n",
        "그냥 한 세트로 외우는 것이 좋다.  \n",
        "\n"
      ]
    },
    {
      "cell_type": "markdown",
      "metadata": {
        "id": "cgCDCmAQotMp"
      },
      "source": [
        "문제218. 아래의 SQL을 판다스로 구현하시오.  \n",
        "```\n",
        "SQL>\n",
        "select deptno, sum(sal)\n",
        "    from emp\n",
        "    group by deptno;\n",
        "```"
      ]
    },
    {
      "cell_type": "code",
      "metadata": {
        "colab": {
          "base_uri": "https://localhost:8080/",
          "height": 142
        },
        "id": "DsJ1UinZoJVb",
        "outputId": "002c28d1-80f8-4aa4-d5a1-fbe750b3fed3"
      },
      "source": [
        "import pandas as pd\n",
        "emp = pd.read_csv('emp3.csv')\n",
        "\n",
        "result = emp.groupby('deptno')['sal'].sum().reset_index()\n",
        "result"
      ],
      "execution_count": 321,
      "outputs": [
        {
          "output_type": "execute_result",
          "data": {
            "text/html": [
              "<div>\n",
              "<style scoped>\n",
              "    .dataframe tbody tr th:only-of-type {\n",
              "        vertical-align: middle;\n",
              "    }\n",
              "\n",
              "    .dataframe tbody tr th {\n",
              "        vertical-align: top;\n",
              "    }\n",
              "\n",
              "    .dataframe thead th {\n",
              "        text-align: right;\n",
              "    }\n",
              "</style>\n",
              "<table border=\"1\" class=\"dataframe\">\n",
              "  <thead>\n",
              "    <tr style=\"text-align: right;\">\n",
              "      <th></th>\n",
              "      <th>deptno</th>\n",
              "      <th>sal</th>\n",
              "    </tr>\n",
              "  </thead>\n",
              "  <tbody>\n",
              "    <tr>\n",
              "      <th>0</th>\n",
              "      <td>10</td>\n",
              "      <td>8750</td>\n",
              "    </tr>\n",
              "    <tr>\n",
              "      <th>1</th>\n",
              "      <td>20</td>\n",
              "      <td>10875</td>\n",
              "    </tr>\n",
              "    <tr>\n",
              "      <th>2</th>\n",
              "      <td>30</td>\n",
              "      <td>9400</td>\n",
              "    </tr>\n",
              "  </tbody>\n",
              "</table>\n",
              "</div>"
            ],
            "text/plain": [
              "   deptno    sal\n",
              "0      10   8750\n",
              "1      20  10875\n",
              "2      30   9400"
            ]
          },
          "metadata": {
            "tags": []
          },
          "execution_count": 321
        }
      ]
    },
    {
      "cell_type": "markdown",
      "metadata": {
        "id": "6o8CkAa-pRYR"
      },
      "source": [
        "문제219. 아래의 SQL을 판다스로 구현하시오.  \n",
        "```\n",
        "SQL>\n",
        "select deptno, sum(sal)\n",
        "    from emp\n",
        "    where deptno != 20\n",
        "    group by deptno;\n",
        "```"
      ]
    },
    {
      "cell_type": "code",
      "metadata": {
        "colab": {
          "base_uri": "https://localhost:8080/"
        },
        "id": "aQWYc9L1pgyo",
        "outputId": "a0b4de8e-adef-482f-b0cc-c549afe89de9"
      },
      "source": [
        "import pandas as pd\n",
        "emp = pd.read_csv('emp3.csv')\n",
        "result = emp.groupby('deptno')['sal'].sum().reset_index()\n",
        "print(result[['deptno','sal']][result['deptno']==20])"
      ],
      "execution_count": 330,
      "outputs": [
        {
          "output_type": "stream",
          "text": [
            "Empty DataFrame\n",
            "Columns: [deptno, sal]\n",
            "Index: []\n"
          ],
          "name": "stdout"
        }
      ]
    },
    {
      "cell_type": "markdown",
      "metadata": {
        "id": "pg0M4_BRp_PI"
      },
      "source": [
        "몰라서 틀렸다)\n",
        "데이터프레임이라는 얘기는 emp[열][조건] 쓸 수 있는거다.  \n",
        "즉  emp[컬럼][조건]을 붙이면 된다.\n",
        "일단 result로 값을 뽑아내고 거기서 조건을 붙인다.\n"
      ]
    },
    {
      "cell_type": "markdown",
      "metadata": {
        "id": "fOlZ3DoWty2Y"
      },
      "source": [
        "문제220. 오늘의 마지막문제) 어제 마지막 문제로 만든 함수를 이용해서 아래와 같이 출력  \n",
        "```\n",
        "동전을 10번 던져서 0개 앞면이 나올 확률 0.00..\n",
        ".\n",
        ".\n",
        ".\n",
        "동전을 10번 던져서 10개 앞면이 나올 확률 0.00..\n",
        "```"
      ]
    }
  ]
}