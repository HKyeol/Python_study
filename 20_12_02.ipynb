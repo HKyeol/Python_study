{
  "nbformat": 4,
  "nbformat_minor": 0,
  "metadata": {
    "colab": {
      "name": "20-12-02",
      "provenance": [],
      "collapsed_sections": [],
      "authorship_tag": "ABX9TyP0PLYeZsi11k4MmFO/x2P7",
      "include_colab_link": true
    },
    "kernelspec": {
      "name": "python3",
      "display_name": "Python 3"
    }
  },
  "cells": [
    {
      "cell_type": "markdown",
      "metadata": {
        "id": "view-in-github",
        "colab_type": "text"
      },
      "source": [
        "<a href=\"https://colab.research.google.com/github/HKyeol/Python_study/blob/master/20_12_02.ipynb\" target=\"_parent\"><img src=\"https://colab.research.google.com/assets/colab-badge.svg\" alt=\"Open In Colab\"/></a>"
      ]
    },
    {
      "cell_type": "markdown",
      "metadata": {
        "id": "ic9eLAHa5ntv"
      },
      "source": [
        "# 내가 직접 모듈 생성하기\n",
        "\n",
        "지금 현재 작성한 코드가 어느 디렉토리에 어느 이름으로 저장되어 있는지 확인하는 방법?  \n",
        "C:\\Users\\stu13\\.spyder-py3\n"
      ]
    },
    {
      "cell_type": "code",
      "metadata": {
        "colab": {
          "base_uri": "https://localhost:8080/"
        },
        "id": "2kkUZrrw6qOj",
        "outputId": "57a46ebc-2ac1-4fa4-cf9d-5adf5b382b65"
      },
      "source": [
        "def add_number(n1, n2):\n",
        "  result = n1 + n1\n",
        "  return result\n",
        "print(add_number(1,2))"
      ],
      "execution_count": 2,
      "outputs": [
        {
          "output_type": "stream",
          "text": [
            "2\n"
          ],
          "name": "stdout"
        }
      ]
    },
    {
      "cell_type": "markdown",
      "metadata": {
        "id": "l66ZadSN7bri"
      },
      "source": [
        "위의 함수 스크립트를 C:\\\\Users\\\\stu13\\\\ 밑에 my_cal.py 라는\n",
        "이름으로 저장을 함  \n",
        "\n",
        "메뉴에 새로운 창을 여세요 ~~  \n",
        "\n",
        "새로운 창에서 아래와 같이 임포트를 합니다.\n"
      ]
    },
    {
      "cell_type": "code",
      "metadata": {
        "id": "kjXH_cRT8-pd"
      },
      "source": [
        "import my_cal\n",
        "\n",
        "print(my_cal.add_number(1,2))"
      ],
      "execution_count": null,
      "outputs": []
    },
    {
      "cell_type": "markdown",
      "metadata": {
        "id": "_wAlTntp-wTL"
      },
      "source": [
        "잘 돌아갑니다.\n",
        "\n",
        "설명: 이번 창에서는 def로 add_number 함수를 만드는 코드는 없습니다. my_cal.py 모듈안에 있는데 그 모듈을 이 창에서 사용할 수 있도록 import 하는것 입니다.  \n",
        "\n",
        "문제148. my_cal.py 모듈 스크립트 안에 곱하기를 하는 아래의 함수를 추가하시오!"
      ]
    },
    {
      "cell_type": "code",
      "metadata": {
        "id": "OQAx-fqeALnp"
      },
      "source": [
        "def gob_number(n1,n2):\n",
        "  result = n1*n2\n",
        "  return result"
      ],
      "execution_count": null,
      "outputs": []
    },
    {
      "cell_type": "markdown",
      "metadata": {
        "id": "wNGHxc0PAsH9"
      },
      "source": [
        "문제149. 다른 새로운 창에서 my_cal 모듈을 임포트하고 gob_number함수를 실행하시오."
      ]
    },
    {
      "cell_type": "code",
      "metadata": {
        "id": "UojknNkLB-7V"
      },
      "source": [
        "import my_cal\n",
        "\n",
        "print(my_cal.gob_number(2,2))"
      ],
      "execution_count": null,
      "outputs": []
    },
    {
      "cell_type": "markdown",
      "metadata": {
        "id": "1UmKFANUB94G"
      },
      "source": [
        "설명: 그동안 통계문제를 풀려고 import random을 했는데 random은 여러개의 함수를 모아놓은 소스코드였고 아마도 어딘가에 random.py라는 이름으로 저장되어 있는것을 우리가 import 한 것 입니다.  \n",
        "\n",
        "문제150. 이번에는 나누기를 하는 함수를 my_cal.py에 저장하고 다른 새로운 창에서 아래와 같이 import 하고 실행될 수 있도록 하시오!"
      ]
    },
    {
      "cell_type": "code",
      "metadata": {
        "id": "QwJxIVSnCk5s"
      },
      "source": [
        "import my_cal\n",
        "\n",
        "print(my_cal.add_number(1,2))\n",
        "print(my_cal.gob_number(1,2))\n",
        "print(my_cal.add_devide(10,2)) #5"
      ],
      "execution_count": null,
      "outputs": []
    },
    {
      "cell_type": "markdown",
      "metadata": {
        "id": "sL00cRCcDxA5"
      },
      "source": [
        "# 44. 파이썬 패키지 이해하기\n",
        "\n",
        "우리가 음악파일을 저장할 때도 장르별로 폴더를 만들어서 별도로 저장을 하듯이 파이썬 모듈도 음악처럼 갯수가 많아지면 폴더(모듈 꾸러미) 별로 별도로 관리를 해야 관리가 편해지는데 이 폴더가 바로 '패키지'이다.  \n",
        "```\n",
        "* 패키지(폴더)       vs      모듈(폴더 안의 my_cal.py 같은 파이썬 스크립트)\n",
        "```\n",
        "\n",
        "#  파이썬 패키지를 만드는 단계\n",
        "\n",
        "1. 아래의 디렉토리에 my_loc라는 폴더를 생성한다.\n",
        "\n",
        "c:\\\\users\\\\stu13\\my_loc\n",
        "\n",
        "2. my_loc 폴더 안에 my_cal.py를 옮겨 놓는다.\n",
        "\n",
        "3. 이 평범한 폴더가 패키지로 인정을 받으려면 반드시 갖고 있어야 하는 파일이 있습니다. 그 파일이 __init__.py라는 파일입니다.  \n",
        "```\n",
        "c:\\\\Users\\\\stu13\\\\my_loc\n",
        "                        |\n",
        "                        |\n",
        "                        1. __init__.py\n",
        "                        2. my_cal.py\n",
        "```\n",
        "\n",
        "4. 새로운 창에서 아래와 같이 스크립트를 수행합니다.\n"
      ]
    },
    {
      "cell_type": "code",
      "metadata": {
        "id": "sCx2WjqVKATe"
      },
      "source": [
        "from my_loc import my_cal # from 패키지 import 모듈\n",
        "print (my_cal.add_number(2,3))"
      ],
      "execution_count": null,
      "outputs": []
    },
    {
      "cell_type": "markdown",
      "metadata": {
        "id": "IV1lmEtAKfrE"
      },
      "source": [
        ""
      ]
    },
    {
      "cell_type": "markdown",
      "metadata": {
        "id": "VkA68K9bLCW0"
      },
      "source": [
        "어제 위와 비슷한 스크립트를 보았는데\n",
        "```\n",
        "from scipy.stats import norm   # scipy 패키지 안에 stats 라는 패키지에\n",
        "                               # norm 이라는 모듈을 임포트 해라 ~\n",
        "print( norm.pdf(x, 평균, 표준편차))  # norm 모듈에 pdf (확률밀도함수)를 실행해라\n",
        "```"
      ]
    },
    {
      "cell_type": "markdown",
      "metadata": {
        "id": "EHWPzhctL2V6"
      },
      "source": [
        "# 45. 파이썬 모듈 임포트 이해하기 1 (import)\n",
        "\n",
        "이미 만들어져 있는 어떤 함수를 우리가 작성하는 코드에서 자유롭게 활용할 수 있으려면 해당 함수가 포함된 모듈을 임포트해야 합니다. 임포트하는 방법은 다음과 같습니다.\n",
        "```\n",
        "import 모듈이름\n",
        "from 패키지 import 모듈이름\n",
        "import 패키지이름.모듈이름\n",
        "```\n",
        "\n",
        "예제: 아래와 같이 우리가 만든 모듈이 아니라 다른 사람이 만든 모듈을 import해서 써 봤는데 이 모듈은 어디에 있는 것일까?\n",
        "```\n",
        "import pandas\n",
        "import numpy\n",
        "```\n",
        "\n",
        "위와 같이 패키지 이름을 안주고 모듈만 import 했는데 잘 실행이 되었습니다.  \n",
        "위와같은 모듈은 어던 모듈입니까?  \n",
        "\n",
        "1. 파이썬 내장 모듈\n",
        "2. sys.path에 정의되어 있는 모듈\n",
        "  \n",
        "\n",
        "* import를 만나면 파이썬 모듈을 찾는 순서\n",
        "1. 파이썬 내장 모듈에 있는지 확인\n",
        "2. sys.path에 정의되어 있는 디렉토리를 뒤져봅니다.\n",
        "\n",
        "* 파이썬 내장 모듈이 무엇이 있는지 확인하는 방법\n",
        "```\n",
        "import sys\n",
        "print(sys.builtin_module_names\n",
        "```"
      ]
    },
    {
      "cell_type": "code",
      "metadata": {
        "colab": {
          "base_uri": "https://localhost:8080/"
        },
        "id": "DKD16na4Neo9",
        "outputId": "8394424c-36d3-445f-a359-6652c589d334"
      },
      "source": [
        "import sys\n",
        "print(sys.builtin_module_names)"
      ],
      "execution_count": 12,
      "outputs": [
        {
          "output_type": "stream",
          "text": [
            "('_ast', '_bisect', '_blake2', '_codecs', '_collections', '_datetime', '_elementtree', '_functools', '_heapq', '_imp', '_io', '_locale', '_md5', '_operator', '_pickle', '_posixsubprocess', '_random', '_sha1', '_sha256', '_sha3', '_sha512', '_signal', '_socket', '_sre', '_stat', '_string', '_struct', '_symtable', '_thread', '_tracemalloc', '_warnings', '_weakref', 'array', 'atexit', 'binascii', 'builtins', 'cmath', 'errno', 'faulthandler', 'fcntl', 'gc', 'grp', 'itertools', 'marshal', 'math', 'posix', 'pwd', 'pyexpat', 'select', 'spwd', 'sys', 'syslog', 'time', 'unicodedata', 'xxsubtype', 'zipimport', 'zlib')\n"
          ],
          "name": "stdout"
        }
      ]
    },
    {
      "cell_type": "markdown",
      "metadata": {
        "id": "cueUN5wNMRgq"
      },
      "source": [
        "어제 쓴 모듈중에 time, math 등도 있다.\n",
        "\n",
        "* sys.path에 정의된 디렉토리가 무엇인지 확인하는 방법"
      ]
    },
    {
      "cell_type": "code",
      "metadata": {
        "colab": {
          "base_uri": "https://localhost:8080/"
        },
        "id": "9ESlWCx8N6bt",
        "outputId": "e07a15d1-2645-402c-fe82-891c6f0367f5"
      },
      "source": [
        "import sys\n",
        "for i in sys.path:\n",
        "  print(i)"
      ],
      "execution_count": 13,
      "outputs": [
        {
          "output_type": "stream",
          "text": [
            "/content/gdrive/My Drive/Colab Notebooks\n",
            "\n",
            "/env/python\n",
            "/usr/lib/python36.zip\n",
            "/usr/lib/python3.6\n",
            "/usr/lib/python3.6/lib-dynload\n",
            "/usr/local/lib/python3.6/dist-packages\n",
            "/usr/lib/python3/dist-packages\n",
            "/usr/local/lib/python3.6/dist-packages/IPython/extensions\n",
            "/root/.ipython\n"
          ],
          "name": "stdout"
        }
      ]
    },
    {
      "cell_type": "markdown",
      "metadata": {
        "id": "AlBF8kPOOVxs"
      },
      "source": [
        "![1.PNG](data:image/png;base64,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)"
      ]
    },
    {
      "cell_type": "markdown",
      "metadata": {
        "id": "RoSsDqLXOX6d"
      },
      "source": [
        "우리가 사용하려는 모듈이 다 여기 들어가보면 있다.  \n",
        "\n",
        "* site-packages란 무엇인가?  \n",
        "\n",
        "site-packaes란 파이썬의 기본 라이브러리 패키지 외에 추가적인 패키지를 설치하는 디렉토리 입니다.  \n",
        "site_packages 디렉토리에 여러가지 소프트웨어가 사용할 공통 모듈을 넣어두면 물리적인 장소에 구애받지 않고 모듈에 접근하여 반입할 수 있습니다.  \n",
        "\n",
        "아래의 명령어가 수행되려면 아래의 명령어를 수행하는 스크립트가 c:\\\\Users\\\\stu13 밑에 있어야 합니다. 왜냐하면 my_loc 폴더가 바로 c:\\\\Users\\\\stu13 밑에 있기 때문입니다.  \n",
        "\n",
        "```\n",
        "from my_loc import my_cal\n",
        "```\n",
        "\n",
        "그런데 c:\\\\Users\\\\stu13 가 아니더라도 다른 디렉토리에서라도 from my_loc import my_cal 명령어를 자유롭게 실행하려면 my_loc 폴더가 site-packages 안에 들어가 있으면 됩니다.  \n",
        "\n",
        "문제151. my_loc 폴더를 site_packages 폴더 밑에 두세요!"
      ]
    },
    {
      "cell_type": "markdown",
      "metadata": {
        "id": "uNilBnmMRsQ_"
      },
      "source": [
        "# 46. numpy 모듈 이해하기\n",
        "\n",
        "* numpy 모듈이란?  \n",
        "python 언어에서 기본적으로 지원하지 않는 배열(array) 또는 행렬(matrix)의 계산을 쉽게 해주는 라이브러리입니다.  \n",
        "딥러닝에서 많이 사용하는 선형대수학에 관련된 수식들을 python에서 쉽게 프로그래밍 할 수 있게 해줍니다.  \n",
        "\n",
        "예제. 아래의 행렬을 만드시오\n",
        "```\n",
        "1 2\n",
        "4 7\n",
        "```\n",
        "\n",
        "1. 리스트로만 했을 때"
      ]
    },
    {
      "cell_type": "code",
      "metadata": {
        "colab": {
          "base_uri": "https://localhost:8080/"
        },
        "id": "2Bq9bFLZQw5C",
        "outputId": "db2eac14-f0b3-4a1d-d41c-9b8a11fb33eb"
      },
      "source": [
        "a = [[1, 2],[4, 7]]\n",
        "print(a)"
      ],
      "execution_count": 16,
      "outputs": [
        {
          "output_type": "stream",
          "text": [
            "[[1, 2], [4, 7]]\n"
          ],
          "name": "stdout"
        }
      ]
    },
    {
      "cell_type": "markdown",
      "metadata": {
        "id": "VmQUtnVmSeT-"
      },
      "source": [
        "2. numpy array로 했을 때"
      ]
    },
    {
      "cell_type": "code",
      "metadata": {
        "colab": {
          "base_uri": "https://localhost:8080/"
        },
        "id": "A4B_YngJWYXV",
        "outputId": "ecd8ca9b-7694-459a-d589-931ca45e5005"
      },
      "source": [
        "import numpy as np\n",
        "a = [[1,2],[4,7]]\n",
        "a2 = np.array(a)  # a 리스트를 numpy 배열로 구성함\n",
        "print(a2)"
      ],
      "execution_count": 18,
      "outputs": [
        {
          "output_type": "stream",
          "text": [
            "[[1 2]\n",
            " [4 7]]\n"
          ],
          "name": "stdout"
        }
      ]
    },
    {
      "cell_type": "markdown",
      "metadata": {
        "id": "x587E71rW6NR"
      },
      "source": [
        "문제152. 아래의 행렬의 합을 출력하시오!\n",
        "```\n",
        "1 2  +  3 1  \n",
        "4 5     6 2\n",
        "```"
      ]
    },
    {
      "cell_type": "code",
      "metadata": {
        "colab": {
          "base_uri": "https://localhost:8080/"
        },
        "id": "gWIH8OU2XDP6",
        "outputId": "e09a25fe-b692-42fd-8945-3a3cc5d31787"
      },
      "source": [
        "import numpy as np\n",
        "a = np.array([[1,2],[4,5]])\n",
        "b = np.array([[3,1],[6,2]])\n",
        "print(a + b)"
      ],
      "execution_count": 26,
      "outputs": [
        {
          "output_type": "stream",
          "text": [
            "[[ 3  2]\n",
            " [24 10]]\n"
          ],
          "name": "stdout"
        }
      ]
    },
    {
      "cell_type": "markdown",
      "metadata": {
        "id": "lIq1aAA-Xw9I"
      },
      "source": [
        "문제153. 아래의 행렬의 합을 출력하시오\n",
        "```\n",
        "6 3 4  +  4 5 7\n",
        "5 1 7     9 20 4\n",
        "```"
      ]
    },
    {
      "cell_type": "code",
      "metadata": {
        "colab": {
          "base_uri": "https://localhost:8080/"
        },
        "id": "LMttfozWYAiQ",
        "outputId": "da890b7d-5f7d-485b-fe3b-e5db0cd10c6a"
      },
      "source": [
        "import numpy as np\n",
        "a = np.array([[6,3,4],[5,1,7]])\n",
        "b = np.array([[4,5,7],[9,20,4]])\n",
        "print(a + b)"
      ],
      "execution_count": 24,
      "outputs": [
        {
          "output_type": "stream",
          "text": [
            "[[10  8 11]\n",
            " [14 21 11]]\n"
          ],
          "name": "stdout"
        }
      ]
    },
    {
      "cell_type": "markdown",
      "metadata": {
        "id": "8SPYRyOmY_63"
      },
      "source": [
        "문제154. 아래의 행렬의 곱을 먼저 손으로 구하시오.\n",
        "```\n",
        "1 2  X  2 1\n",
        "4 3     3 4\n",
        "```"
      ]
    },
    {
      "cell_type": "code",
      "metadata": {
        "colab": {
          "base_uri": "https://localhost:8080/"
        },
        "id": "w3AlMLjRapFj",
        "outputId": "c15d7002-e7b1-47f6-ebb4-3cd233620d21"
      },
      "source": [
        "a = [[1, 2],[4 ,3]]\n",
        "b = [[2,1], [3, 4]]\n",
        "a2 = np.array(a)\n",
        "b2 = np.array(b)\n",
        "print(np.dot(a2,b2))"
      ],
      "execution_count": 27,
      "outputs": [
        {
          "output_type": "stream",
          "text": [
            "[[ 8  9]\n",
            " [17 16]]\n"
          ],
          "name": "stdout"
        }
      ]
    },
    {
      "cell_type": "markdown",
      "metadata": {
        "id": "ULhOaEC2bGHC"
      },
      "source": [
        "문제155. 점심시간 문제 아래의 행렬의 곱을 출력하시오!\n",
        "```\n",
        "3 4 1  X  2 1\n",
        "2 4 3     4 3\n",
        "          6 7\n",
        "```"
      ]
    },
    {
      "cell_type": "code",
      "metadata": {
        "colab": {
          "base_uri": "https://localhost:8080/"
        },
        "id": "4oG4P84EbSK6",
        "outputId": "dacdc537-d02f-4bdb-cc0b-b80351978210"
      },
      "source": [
        "a = [[3, 4, 1],[2, 4, 3]]\n",
        "b = [[2, 1],[4, 3],[6, 7]]\n",
        "a2 = np.array(a)\n",
        "b2 = np.array(b)\n",
        "print(np.dot(a,b))"
      ],
      "execution_count": 30,
      "outputs": [
        {
          "output_type": "stream",
          "text": [
            "[[28 22]\n",
            " [38 35]]\n"
          ],
          "name": "stdout"
        }
      ]
    },
    {
      "cell_type": "markdown",
      "metadata": {
        "id": "xCHNYgWcwzcQ"
      },
      "source": [
        "# 47. numpy 모듈 사용하기 2\n",
        "\n",
        "numpy 모듈로 최대값, 최소값, 평균값, 중앙값, 최빈값, 분산값, 표준편차, 공분산값,상관계수의 통계값들을 쉽게 출력할 수 있습니다.  \n",
        "\n",
        "예제1. 아래의 리스트에서 최대값을 출력하시오."
      ]
    },
    {
      "cell_type": "code",
      "metadata": {
        "colab": {
          "base_uri": "https://localhost:8080/"
        },
        "id": "dcG68vuzxKlW",
        "outputId": "7a32caef-82b9-496c-b95e-1f3e8444fd90"
      },
      "source": [
        "a = [28, 23, 21, 29, 30, 40, 23, 21]\n",
        "import numpy as np\n",
        "\n",
        "a2 = np.array(a)\n",
        "print(np.max(a2))"
      ],
      "execution_count": 33,
      "outputs": [
        {
          "output_type": "stream",
          "text": [
            "40\n"
          ],
          "name": "stdout"
        }
      ]
    },
    {
      "cell_type": "markdown",
      "metadata": {
        "id": "lGDJthyJxlVo"
      },
      "source": [
        "예제2. 아래의 리스트에서 최대값, 최소값, 평균값, 중앙값을 출력하시오!"
      ]
    },
    {
      "cell_type": "code",
      "metadata": {
        "colab": {
          "base_uri": "https://localhost:8080/"
        },
        "id": "rN-aLGo9xu-e",
        "outputId": "cba96d06-02ca-4a86-a2d6-9124d8fa70b7"
      },
      "source": [
        "a = [28, 23, 21, 29, 30, 40, 23, 21]\n",
        "\n",
        "import numpy as np\n",
        "from scipy.stats import mode # 최빈값\n",
        "a2 = np.array(a)\n",
        "print(np.max(a2),np.min(a2),np.mean(a2),np.median(a2))\n",
        "print(mode(a2)) #최빈값이 21로 나오네 23은 안나오고"
      ],
      "execution_count": 41,
      "outputs": [
        {
          "output_type": "stream",
          "text": [
            "40 21 26.875 25.5\n",
            "ModeResult(mode=array([21]), count=array([2]))\n"
          ],
          "name": "stdout"
        }
      ]
    },
    {
      "cell_type": "markdown",
      "metadata": {
        "id": "2TQWVBoUzOL7"
      },
      "source": [
        "# 48. 파일 열고 닫기 (open, close)\n",
        "\n",
        "파일은 텍스트 파일과 바이너리 파일 두가지 종류가 있습니다.\n",
        "텍스트 파일은 사람이 읽을 수 있는 글자로 저장된 파일이고 바이너리 파일은 컴퓨터가 읽고 이해할 수 있는 2진 데이터를 기록한 파일입니다.  \n",
        "예를 들어 윈도우에서 제공하는 메모장 프로그램을 이용하여 내용을 적고 저장하면 텍스트 파일로 저장됩니다.  \n",
        "이미지 뷰어로 볼 수 있는 jpg 이미지 파일은 2진 데이터를 jpg 형식의 파일로 저장한 바이너리 파일입니다.  \n",
        "파이썬에 파일을 다루기 위해서 가장 먼저 해야할 일은 파일을 오픈 하는것 입니다. 파일을 오픈하기 위해서는 open() 함수를 이용합니다.  \n",
        "```\n",
        "문법: open(파일이름, 모드)\n",
        "      모드     설명\n",
        "      r        텍스트 모드로 읽기\n",
        "      w        텍스트 모드로 쓰기\n",
        "      rb       바이너리 모드로 읽기\n",
        "      wb       바이너리 모드로 쓰기\n",
        "```\n",
        "예제1. 이미지 파일을 파이썬에서 여는 방법  \n",
        "1. lena.png 파일을 내려받아 c:\\\\data\\\\ 밑에 저장합니다.  \n",
        "\n",
        "2. 아래의 코드를 실행합니다."
      ]
    },
    {
      "cell_type": "code",
      "metadata": {
        "colab": {
          "base_uri": "https://localhost:8080/",
          "height": 370
        },
        "id": "yp6-ed2pztLK",
        "outputId": "3abc47be-d873-459d-fbe0-60d2130b9618"
      },
      "source": [
        "import PIL.Image as pilimg  # 이미지를 파이썬에서 시각화 하기 위한 모듈\n",
        "import numpy as np\n",
        "import matplotlib.pyplot as plt # 데이터 시각화 전문 모듈을 임포트 합니다.\n",
        "im = pilimg.open('c:\\\\data\\\\lena.png') # lena.png 파일을 읽어서 im에 입력\n",
        "pix = np.array(im) # 넘파이 배열로 변환 합니다.\n",
        "plt.imshow(pix) # 화면에 띄웁니다."
      ],
      "execution_count": 42,
      "outputs": [
        {
          "output_type": "error",
          "ename": "FileNotFoundError",
          "evalue": "ignored",
          "traceback": [
            "\u001b[0;31m---------------------------------------------------------------------------\u001b[0m",
            "\u001b[0;31mFileNotFoundError\u001b[0m                         Traceback (most recent call last)",
            "\u001b[0;32m<ipython-input-42-50e666488362>\u001b[0m in \u001b[0;36m<module>\u001b[0;34m()\u001b[0m\n\u001b[1;32m      2\u001b[0m \u001b[0;32mimport\u001b[0m \u001b[0mnumpy\u001b[0m \u001b[0;32mas\u001b[0m \u001b[0mnp\u001b[0m\u001b[0;34m\u001b[0m\u001b[0;34m\u001b[0m\u001b[0m\n\u001b[1;32m      3\u001b[0m \u001b[0;32mimport\u001b[0m \u001b[0mmatplotlib\u001b[0m\u001b[0;34m.\u001b[0m\u001b[0mpyplot\u001b[0m \u001b[0;32mas\u001b[0m \u001b[0mplt\u001b[0m\u001b[0;34m\u001b[0m\u001b[0;34m\u001b[0m\u001b[0m\n\u001b[0;32m----> 4\u001b[0;31m \u001b[0mim\u001b[0m \u001b[0;34m=\u001b[0m \u001b[0mpilimg\u001b[0m\u001b[0;34m.\u001b[0m\u001b[0mopen\u001b[0m\u001b[0;34m(\u001b[0m\u001b[0;34m'c:\\\\data\\\\lena.png'\u001b[0m\u001b[0;34m)\u001b[0m\u001b[0;34m\u001b[0m\u001b[0;34m\u001b[0m\u001b[0m\n\u001b[0m\u001b[1;32m      5\u001b[0m \u001b[0mpix\u001b[0m \u001b[0;34m=\u001b[0m \u001b[0mnp\u001b[0m\u001b[0;34m.\u001b[0m\u001b[0marray\u001b[0m\u001b[0;34m(\u001b[0m\u001b[0mim\u001b[0m\u001b[0;34m)\u001b[0m\u001b[0;34m\u001b[0m\u001b[0;34m\u001b[0m\u001b[0m\n\u001b[1;32m      6\u001b[0m \u001b[0mplt\u001b[0m\u001b[0;34m.\u001b[0m\u001b[0mimshow\u001b[0m\u001b[0;34m(\u001b[0m\u001b[0mpix\u001b[0m\u001b[0;34m)\u001b[0m\u001b[0;34m\u001b[0m\u001b[0;34m\u001b[0m\u001b[0m\n",
            "\u001b[0;32m/usr/local/lib/python3.6/dist-packages/PIL/Image.py\u001b[0m in \u001b[0;36mopen\u001b[0;34m(fp, mode)\u001b[0m\n\u001b[1;32m   2807\u001b[0m \u001b[0;34m\u001b[0m\u001b[0m\n\u001b[1;32m   2808\u001b[0m     \u001b[0;32mif\u001b[0m \u001b[0mfilename\u001b[0m\u001b[0;34m:\u001b[0m\u001b[0;34m\u001b[0m\u001b[0;34m\u001b[0m\u001b[0m\n\u001b[0;32m-> 2809\u001b[0;31m         \u001b[0mfp\u001b[0m \u001b[0;34m=\u001b[0m \u001b[0mbuiltins\u001b[0m\u001b[0;34m.\u001b[0m\u001b[0mopen\u001b[0m\u001b[0;34m(\u001b[0m\u001b[0mfilename\u001b[0m\u001b[0;34m,\u001b[0m \u001b[0;34m\"rb\"\u001b[0m\u001b[0;34m)\u001b[0m\u001b[0;34m\u001b[0m\u001b[0;34m\u001b[0m\u001b[0m\n\u001b[0m\u001b[1;32m   2810\u001b[0m         \u001b[0mexclusive_fp\u001b[0m \u001b[0;34m=\u001b[0m \u001b[0;32mTrue\u001b[0m\u001b[0;34m\u001b[0m\u001b[0;34m\u001b[0m\u001b[0m\n\u001b[1;32m   2811\u001b[0m \u001b[0;34m\u001b[0m\u001b[0m\n",
            "\u001b[0;31mFileNotFoundError\u001b[0m: [Errno 2] No such file or directory: 'c:\\\\data\\\\lena.png'"
          ]
        }
      ]
    },
    {
      "cell_type": "markdown",
      "metadata": {
        "id": "jmD8K9Q02Wo-"
      },
      "source": [
        "문제156. 폐사진을 파이썬에서 시각화 하시오."
      ]
    },
    {
      "cell_type": "code",
      "metadata": {
        "id": "lCijUwCx3JF0"
      },
      "source": [
        "import PIL.Image as pilimg\n",
        "import numpy as np\n",
        "import matplotlib.pyplot as plt\n",
        "im2 = pilimg.open('c:\\\\data\\\\1.png')\n",
        "pix = np.array(im)\n",
        "plt.imshow(pix)"
      ],
      "execution_count": null,
      "outputs": []
    },
    {
      "cell_type": "markdown",
      "metadata": {
        "id": "ycaPATi33z8y"
      },
      "source": [
        "# 49. 클래스 이해하기(class)\n",
        "\n",
        "객체 지향 프로그램에서 중요한 단어가 바로 클래스입니다.\n",
        "클래스는 프로그래머가 지정한 이름을 만든 하나의 독립된 공간이며, 이름공간(name space)이라 부릅니다.\n",
        "클래스를 구성하는 주요요소는 클래스에서 변수역할을 하는 클래스 멤버와 함수와 동일한 역할을 하는 클레스 메소드 입니다.\n",
        "\n",
        "클래스는 설례도이고 객체는 설계도를 바탕으로 만든 작품\n",
        "\n",
        "```\n",
        "예: 총 설계도      vs      총\n",
        "      클래스              객체\n",
        "`\n",
        " 구글이미지             구글이미지\n",
        "```\n",
        "\n",
        " 예제2. 총 클래스(설계도)를 생성하시오.  \n",
        " 총의 기능 : 1. 총알을 장전하는 기능, 2. 총을 쏘는 기능"
      ]
    },
    {
      "cell_type": "code",
      "metadata": {
        "id": "hbzoiyDr4poa"
      },
      "source": [
        "class Gun():             # 클래스 이름은 첫번째 철자는 대문자 나머지는 소문자로 구성한다.(권장)\n",
        "  def charge(self, num):  # 총알을 충전하는 함수\n",
        "    self.bullet = num     #\n",
        "\n",
        "  def shoot(self, num):   # 총을 쏘는 함수\n",
        "    for i in range(num):\n",
        "      if self.bullet > 0:\n",
        "        print('탕!')\n",
        "        self.bullet -= 1\n",
        "      elif self.bullet == 0:\n",
        "        print('총알이 없습니다')\n",
        "        break\n"
      ],
      "execution_count": 48,
      "outputs": []
    },
    {
      "cell_type": "markdown",
      "metadata": {
        "id": "NXZn3GbV6Z2W"
      },
      "source": [
        "self는 객체 자신을 가리킨다.  \n",
        "\n",
        "예제2. 위에서 만든 총 설계도를 가지고 총을 한정 만드시오!  \n",
        "```\n",
        "  gun1    = Gun()\n",
        "제품(객체)  클래스\n",
        "```"
      ]
    },
    {
      "cell_type": "code",
      "metadata": {
        "id": "xne8SdRf6ra2"
      },
      "source": [
        "gun1 = Gun()"
      ],
      "execution_count": 47,
      "outputs": []
    },
    {
      "cell_type": "markdown",
      "metadata": {
        "id": "5QarFAyJ7M01"
      },
      "source": [
        "예제3. gun1 이라는 제품에 총알 10발 충전 합니다."
      ]
    },
    {
      "cell_type": "code",
      "metadata": {
        "id": "ZS_WZz-W7Pnl"
      },
      "source": [
        "gun1.charge(10)"
      ],
      "execution_count": 57,
      "outputs": []
    },
    {
      "cell_type": "markdown",
      "metadata": {
        "id": "QzLBFvCx7Udr"
      },
      "source": [
        "예제4. 총을 쏴보시오"
      ]
    },
    {
      "cell_type": "code",
      "metadata": {
        "colab": {
          "base_uri": "https://localhost:8080/"
        },
        "id": "EIUi8Ahz7WLj",
        "outputId": "4e2eba8f-c5e5-4c16-a177-7a43e460183c"
      },
      "source": [
        "gun1.shoot(3)"
      ],
      "execution_count": 61,
      "outputs": [
        {
          "output_type": "stream",
          "text": [
            "탕!\n",
            "총알이 없습니다\n"
          ],
          "name": "stdout"
        }
      ]
    },
    {
      "cell_type": "markdown",
      "metadata": {
        "id": "3lUK4_WTATVi"
      },
      "source": [
        "self가 무엇인가  \n",
        "\n",
        "설명: 파이썬 클래스를 만들 때 self 키워드는 필수. 안쓰면 에러남  \n",
        "self의 뜻은 자기자신입니다. 이 총 설계도로 총을 만들고 그 총을 사용할 때 charge와 shoot 기능을 사용할 것인데 이 때 이 총이 내꺼라는 의미가 바로 self입니다.  \n",
        "\n",
        "총 생산하는 명령어\n",
        "```\n",
        "gun1 = Gun()\n",
        "gun2 = Gun()\n",
        "...\n",
        "```\n",
        "gun1.charge(100)\n",
        "매개변수 2개인데 왜 하나만 들어가나?  \n",
        "답: self 자리에는 gun1이 들어간다.  \n",
        "\n",
        "실제로 총 설계도에는 charge(self,num)이라고 해서 입력 매개변수가 2개인데 총을 사용할 때 충전할 때는 gun1.charge(10) 이렇게 매개변수 하나에만 값을 입력했다.  \n",
        "그러면 self 입력 매개변수에는 자동으로 gun1이 들어간다.  \n",
        "gun1에 충전하고 gun2를 쏠 수 없다.  \n",
        "\n",
        "문제157.총 설계도를 수정해서 총알을 아래와 같이 충전하면 몇발이 충전되었습니다. 라는 메세지가 출력되게 하시오!\n",
        "```\n",
        "gun1.charge(10)\n",
        "10발이 충전되었습니다.\n",
        "```"
      ]
    },
    {
      "cell_type": "code",
      "metadata": {
        "colab": {
          "base_uri": "https://localhost:8080/"
        },
        "id": "yaO4gcAOCwmm",
        "outputId": "9f4af5c6-4852-4130-9377-7dccac1194ef"
      },
      "source": [
        "class Gun():\n",
        "  def charge(self,num):\n",
        "    self.bullet = num\n",
        "    print(num,'발이 충전되었습니다.')\n",
        "\n",
        "  def shoot(self,num):\n",
        "    for i in range(num):\n",
        "      if self.bullet > 0:\n",
        "        print('탕!')\n",
        "        self.bullet -= 1\n",
        "      else :\n",
        "        print('총알이 없습니다.')\n",
        "        break\n",
        "\n",
        "gun1 = Gun()\n",
        "gun1.charge(10)"
      ],
      "execution_count": 75,
      "outputs": [
        {
          "output_type": "stream",
          "text": [
            "10 발이 충전되었습니다.\n"
          ],
          "name": "stdout"
        }
      ]
    },
    {
      "cell_type": "markdown",
      "metadata": {
        "id": "FOqqYlyCD-Oq"
      },
      "source": [
        "문제158. 이번에는 총을 쏘면 총알이 탕! 탕! 하면서 아래쪽에 몇발 남았습니다. 라는 메세지가 출력되게 하시오!"
      ]
    },
    {
      "cell_type": "code",
      "metadata": {
        "colab": {
          "base_uri": "https://localhost:8080/"
        },
        "id": "P-yHmAcEDp9N",
        "outputId": "1c1fe27a-6e8b-4e8c-baed-6a92fcc94450"
      },
      "source": [
        "class Gun():\n",
        "  def charge(self,num):\n",
        "    self.bullet = num\n",
        "    print(num,'발이 충전되었습니다.')\n",
        "\n",
        "  def shoot(self,num):\n",
        "    for i in range(num):\n",
        "      if self.bullet > 0:\n",
        "        print('탕!')\n",
        "        self.bullet -= 1\n",
        "      else :\n",
        "        print('총알이 없습니다.')\n",
        "        break\n",
        "    print('총알이',self.bullet,'발 남았습니다.')\n",
        "    \n",
        "gun1 = Gun()\n",
        "gun1.charge(10)\n",
        "gun1.shoot(3)"
      ],
      "execution_count": 3,
      "outputs": [
        {
          "output_type": "stream",
          "text": [
            "10 발이 충전되었습니다.\n",
            "탕!\n",
            "탕!\n",
            "탕!\n",
            "총알이 7 발 남았습니다.\n"
          ],
          "name": "stdout"
        }
      ]
    },
    {
      "cell_type": "markdown",
      "metadata": {
        "id": "gRkrGXt_Fi8o"
      },
      "source": [
        "문제159. 총을 처음 생산했을 때 총알이 반드시 0발 장전되게끔 하시오."
      ]
    },
    {
      "cell_type": "code",
      "metadata": {
        "colab": {
          "base_uri": "https://localhost:8080/"
        },
        "id": "FrYpPVwQFp0G",
        "outputId": "aa1d06f3-7796-47f8-9678-54772f6f86f2"
      },
      "source": [
        "class Gun():\n",
        "  def __init__(self):         # 설계도를 가지고 제품을 처음 만들 때 작동되는 함수\n",
        "    self.bullet = 0           # 만들때만 작동하고 그 다음엔 작동안함\n",
        "    print('총이 만들어졌습니다.', self.bullet, '발 장전 되었습니다')\n",
        "\n",
        "  def charge(self,num):\n",
        "    self.bullet = num\n",
        "    print(num,'발이 충전되었습니다.')\n",
        "\n",
        "  def shoot(self,num):\n",
        "    for i in range(num):\n",
        "      if self.bullet > 0:\n",
        "        print('탕!')\n",
        "        self.bullet -= 1\n",
        "      else :\n",
        "        print('총알이 없습니다.')\n",
        "        break\n",
        "    print('총알이',self.bullet,'발 남았습니다.')\n",
        "    \n",
        "gun1 = Gun()\n",
        "gun1.charge(10)\n",
        "gun1.shoot(3)"
      ],
      "execution_count": 6,
      "outputs": [
        {
          "output_type": "stream",
          "text": [
            "총이 만들어졌습니다. 0 발 장전 되었습니다\n",
            "10 발이 충전되었습니다.\n",
            "탕!\n",
            "탕!\n",
            "탕!\n",
            "총알이 7 발 남았습니다.\n"
          ],
          "name": "stdout"
        }
      ]
    },
    {
      "cell_type": "markdown",
      "metadata": {
        "id": "kpwB_pWwHcTM"
      },
      "source": [
        "문제160. 총 클래스를 이용해서 카드 클래스를 만들고 아래와 같이 카드를 충전하고 사용하시오.\n",
        "```\n",
        "card1 = Card()\n",
        "카드가 발급되었습니다.\n",
        "\n",
        "card1.charge(10000)\n",
        "10000원 충전되었습니다.\n",
        "\n",
        "card1.consume(1000)\n",
        "1000원이 사용되었습니다.\n",
        "```"
      ]
    },
    {
      "cell_type": "code",
      "metadata": {
        "colab": {
          "base_uri": "https://localhost:8080/"
        },
        "id": "hcUA7DcKHmnV",
        "outputId": "5752dda2-d412-4aa8-993d-adca88934c22"
      },
      "source": [
        "class Card():\n",
        "  def __init__(self):\n",
        "    self.cash = 0\n",
        "    print('카드가 발급되었습니다.')\n",
        " \n",
        "  def charge(self,num):\n",
        "    self.cash += num\n",
        "    print(num,'원이 충전되었습니다.')\n",
        "  \n",
        "  def consume(self, num):\n",
        "    if self.cash >= num: \n",
        "      self.cash -= num\n",
        "      print(num,'원이 사용되었습니다.')\n",
        "    else:\n",
        "      print('잔액이 부족합니다.')\n",
        "card1 = Card()\n",
        "card1.charge(10000)\n",
        "card1.consume(1000)"
      ],
      "execution_count": 20,
      "outputs": [
        {
          "output_type": "stream",
          "text": [
            "카드가 발급되었습니다.\n",
            "10000 원이 충전되었습니다.\n",
            "1000 원이 사용되었습니다.\n"
          ],
          "name": "stdout"
        }
      ]
    },
    {
      "cell_type": "markdown",
      "metadata": {
        "id": "HtMmdrohGJw_"
      },
      "source": [
        "한번에 바꾸려면 ctrl+f2  "
      ]
    },
    {
      "cell_type": "markdown",
      "metadata": {
        "id": "hZdI-4_ZN2GC"
      },
      "source": [
        "# 51. 클래스의 메소드(함수) 이해하기\n",
        "\n",
        "card 클래스의 charge와 consume은 메소드(기능) 입니다.  \n",
        "```\n",
        "예: a = [1, 2, 3, 4]\n",
        "    print(type(a)) # <class 'list'>\n",
        "````\n",
        "\n",
        "리스트는 사실 클래스였던거임  \n",
        "\n",
        "설명: 리스트가 클래스였다고 출력이 됩니다. 리스트가 class 라는 말은 리스트 클래스 안에도 분명히 메소드(기능)가 존재할 것 입니다.  \n",
        "\n",
        "우리가 메소드를 사용할 때 card1.charge(1000) 식으로 사용했었습니다.\n",
        "```\n",
        "card1.charge(1000)\n",
        "객체  메소드\n",
        "```"
      ]
    },
    {
      "cell_type": "code",
      "metadata": {
        "colab": {
          "base_uri": "https://localhost:8080/"
        },
        "id": "1M4b7gciO2rg",
        "outputId": "0898fe97-dd31-4d0e-b917-255ca5d92e43"
      },
      "source": [
        "a = [1,2,3,4]\n",
        "a.append(5)\n",
        "print(a)"
      ],
      "execution_count": 21,
      "outputs": [
        {
          "output_type": "stream",
          "text": [
            "[1, 2, 3, 4, 5]\n"
          ],
          "name": "stdout"
        }
      ]
    },
    {
      "cell_type": "markdown",
      "metadata": {
        "id": "c4dKInfZO-rk"
      },
      "source": [
        "a라는 객체에 append라는 메소드(기능)을 사용한 것 입니다.  \n",
        "\n",
        "* 리스트 객체의 유용한 메소드\n",
        "\n",
        "```\n",
        "    메소드         설명\n",
        "1. append()  : 리스트 맨 끝에 새로운 요소를 추가할 때 사용\n",
        "2. count()   : 리스트에서 특정 요소의 갯수를 카운트 할 때 사용\n",
        "3. insert()  : 리스트의 특정위치에 요소를 입력할 때 사용\n",
        "4. remove()  : 리스트의 특정 요소를 제거할 때 사용\n",
        "5. sort()    : 리스트의 요소를 순차적으로 정렬할 때 사용\n",
        "6. reverse() : 리스트의 요소를 역순으로 정렬할 때 사용\n",
        "7. index()   : 리스트의 특정 요소의 위치를 출력할 때 사용\n",
        "```\n"
      ]
    },
    {
      "cell_type": "code",
      "metadata": {
        "colab": {
          "base_uri": "https://localhost:8080/"
        },
        "id": "1OP_ftM1QYcc",
        "outputId": "36f5060c-c0b6-4b08-dcf7-9851dd2f5a15"
      },
      "source": [
        "a = [1,2,3,1,2,2,2,3,4]   # a 라는 리스트 객체(제품)가 생성됨\n",
        "print(a.count(2))         # a 리스트에 숫자 2가 몇개가 있는지 조회"
      ],
      "execution_count": 23,
      "outputs": [
        {
          "output_type": "stream",
          "text": [
            "4\n"
          ],
          "name": "stdout"
        }
      ]
    },
    {
      "cell_type": "markdown",
      "metadata": {
        "id": "6Ss4eEMeQ8yy"
      },
      "source": [
        "문제161. 초등학생 키에 대한 모집단을 생성하세요!(천만개로 구성)  \n",
        "키의 평균값은 140, 표준편차 5로 해서 생성하시오."
      ]
    },
    {
      "cell_type": "code",
      "metadata": {
        "colab": {
          "base_uri": "https://localhost:8080/"
        },
        "id": "L3rKn_XBRm4Q",
        "outputId": "b6b84e0e-26c7-4548-8c24-ae5ed1b6c3af"
      },
      "source": [
        "import numpy as np\n",
        "avg = 140\n",
        "std = 5\n",
        "height = np.random.randn(10000000)*std + avg\n",
        "print(height)"
      ],
      "execution_count": 81,
      "outputs": [
        {
          "output_type": "stream",
          "text": [
            "[139.40751185 154.76261974 135.62808221 ... 145.24486178 138.93776371\n",
            " 133.48222678]\n"
          ],
          "name": "stdout"
        }
      ]
    },
    {
      "cell_type": "markdown",
      "metadata": {
        "id": "aOqHKvo5R7bY"
      },
      "source": [
        "문제162. 위의 모집단에 표본을 100개 추출해서 표본의 평균값을 출력하시오!"
      ]
    },
    {
      "cell_type": "code",
      "metadata": {
        "colab": {
          "base_uri": "https://localhost:8080/"
        },
        "id": "G66mEXImSpBm",
        "outputId": "e3eb97c4-ac36-4f0a-e969-a64f7ead5491"
      },
      "source": [
        "print(np.random.choice(height,100).mean())\n"
      ],
      "execution_count": 82,
      "outputs": [
        {
          "output_type": "stream",
          "text": [
            "139.4135398816725\n"
          ],
          "name": "stdout"
        }
      ]
    },
    {
      "cell_type": "markdown",
      "metadata": {
        "id": "NHwXXqSLTAAm"
      },
      "source": [
        "문제163. 위에서 표본 100개를 뽑아서 평균값을 구해서 a라는 비어있는 리스트에 담는 작업을 10000번 수행하시오!"
      ]
    },
    {
      "cell_type": "code",
      "metadata": {
        "id": "4TaYAZbZTDqV"
      },
      "source": [
        "a = []\n",
        "for i in range(10000):\n",
        "  a.append(np.random.choice(height,100).mean())"
      ],
      "execution_count": 83,
      "outputs": []
    },
    {
      "cell_type": "markdown",
      "metadata": {
        "id": "bu2v813AUBMk"
      },
      "source": [
        "문제164. 위에서 구한 표본 평균값을 10000개의 평균값과 표준편차를 s_avg와 s_std 변수에 각각 담으시오"
      ]
    },
    {
      "cell_type": "code",
      "metadata": {
        "id": "yifrRSpiUQJ2"
      },
      "source": [
        "s_avg = np.mean(a)\n",
        "s_std = np.std(a)"
      ],
      "execution_count": 84,
      "outputs": []
    },
    {
      "cell_type": "markdown",
      "metadata": {
        "id": "z5V6yPZLUzja"
      },
      "source": [
        "문제165. 초등학생 키 데이터를 138부터 142까지 0.001 간격으로 생성해서 x라는 변수에 넣으시오"
      ]
    },
    {
      "cell_type": "code",
      "metadata": {
        "colab": {
          "base_uri": "https://localhost:8080/"
        },
        "id": "5m3EgcIEU5lS",
        "outputId": "bf9ceefd-b082-4c5f-c912-de630eefbfcd"
      },
      "source": [
        "x = np.arange(138,142,0.001)\n",
        "print(x)\n"
      ],
      "execution_count": 85,
      "outputs": [
        {
          "output_type": "stream",
          "text": [
            "[138.    138.001 138.002 ... 141.997 141.998 141.999]\n"
          ],
          "name": "stdout"
        }
      ]
    },
    {
      "cell_type": "markdown",
      "metadata": {
        "id": "enbSAPcEVg0j"
      },
      "source": [
        "문제166. 위에서 만든 x에 있는 키 값들을 x 축으로 두고 확률 밀도함수 그래프를 생성하는데 y축의 확률밀도함수값을 구할 때 문제 164번에서 구한 평균값, 표준편차를 이용하시오~"
      ]
    },
    {
      "cell_type": "code",
      "metadata": {
        "colab": {
          "base_uri": "https://localhost:8080/",
          "height": 283
        },
        "id": "5HpMOXP7VoMo",
        "outputId": "074f5e3c-fe9f-4441-fdec-ea90bbfe945e"
      },
      "source": [
        "import matplotlib.pyplot as plt\n",
        "from scipy.stats import norm\n",
        "\n",
        "y = norm.pdf(x,s_avg,s_std)\n",
        "plt.plot(x,y)\n",
        "plt.fill_between(x,y,interpolate = True, color = '#04B4AE',alpha = 0.7)"
      ],
      "execution_count": 86,
      "outputs": [
        {
          "output_type": "execute_result",
          "data": {
            "text/plain": [
              "<matplotlib.collections.PolyCollection at 0x7f36a1173d68>"
            ]
          },
          "metadata": {
            "tags": []
          },
          "execution_count": 86
        },
        {
          "output_type": "display_data",
          "data": {
            "image/png": "[encoded data removed]",
            "text/plain": [
              "<Figure size 432x288 with 1 Axes>"
            ]
          },
          "metadata": {
            "tags": [],
            "needs_background": "light"
          }
        }
      ]
    },
    {
      "cell_type": "markdown",
      "metadata": {
        "id": "Sh5a3s9UbROh"
      },
      "source": [
        "문제167. 마지막 문제  \n",
        "어느 도시의 초등학생의 수는전체 10만명 입니다. 학생들의 평균키는 140 이고 표준편차는 5 입니다. \n",
        "\n",
        "이 도시의 10만명의 초등학생 중 무작위로 한명을 추출했을때 이 어린이의 키가 145 ~ 150 (145 이상 ~ 150 미만) 사이에 있을 확률은 어떻게 될까요 ?\n",
        "\n",
        "\n"
      ]
    },
    {
      "cell_type": "code",
      "metadata": {
        "colab": {
          "base_uri": "https://localhost:8080/"
        },
        "id": "-A7iBs-AbTU9",
        "outputId": "524aadc6-ebdd-41bb-a111-4481a2a76c95"
      },
      "source": [
        "import numpy as np\n",
        "\n",
        "N = 100000\n",
        "avg = 140\n",
        "std = 5\n",
        "\n",
        "height = np.random.randn(N)*std + avg\n",
        "\n",
        "cnt = 0\n",
        "\n",
        "for i in height:\n",
        "  if 145 <= i < 150:\n",
        "    cnt += 1\n",
        "print(cnt/N)\n",
        "\n"
      ],
      "execution_count": 133,
      "outputs": [
        {
          "output_type": "stream",
          "text": [
            "0.13615\n"
          ],
          "name": "stdout"
        }
      ]
    }
  ]
}