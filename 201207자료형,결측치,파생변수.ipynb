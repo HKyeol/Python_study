{
  "nbformat": 4,
  "nbformat_minor": 0,
  "metadata": {
    "colab": {
      "name": "201207자료형,결측치,파생변수.ipynb",
      "provenance": [],
      "collapsed_sections": [],
      "toc_visible": true,
      "authorship_tag": "ABX9TyP/l9FlTnk/bT1jqqfbY0qq",
      "include_colab_link": true
    },
    "kernelspec": {
      "name": "python3",
      "display_name": "Python 3"
    }
  },
  "cells": [
    {
      "cell_type": "markdown",
      "metadata": {
        "id": "view-in-github",
        "colab_type": "text"
      },
      "source": [
        "<a href=\"https://colab.research.google.com/github/HKyeol/Python_study/blob/master/201207%EC%9E%90%EB%A3%8C%ED%98%95%2C%EA%B2%B0%EC%B8%A1%EC%B9%98%2C%ED%8C%8C%EC%83%9D%EB%B3%80%EC%88%98.ipynb\" target=\"_parent\"><img src=\"https://colab.research.google.com/assets/colab-badge.svg\" alt=\"Open In Colab\"/></a>"
      ]
    },
    {
      "cell_type": "markdown",
      "metadata": {
        "id": "8a1StAAiqNr6"
      },
      "source": [
        "# 복습\n",
        "\n",
        "1. 파이썬의 자료형 5가지\n",
        "2. 파이썬 연산자\n",
        "3. if문\n",
        "4. loop문\n",
        "5. 문자열에서 특정 위치의 철자 검색, 슬라이싱 검색\n",
        "6. 파이썬으로 함수 생성\n",
        "7. 파이썬으로 클래스 생성\n",
        "8. 파이썬의 예외처리\n",
        "9. 판다스 사용법\n",
        "\n",
        "면접문제  \n",
        "클래스를 왜 사용해야 하는지? (객체지향 언어의 장점이 무엇인지?)  \n",
        "답: 상속을 사용할 수 있기 때문입니다.  \n",
        "\n",
        "상속을 사용했을 때 어떤 장점이 있습니까?  \n",
        "답: 부모 클래스가 작성한 기능(메소드)을 코딩하지 않아도됩니다. 중요한 기능은 부모 클래스를 작성하는 팀장님이 구현하고 팀원인 나는 팀장님이 구현한 중요 기능을 그대로 상속받고 팀장님이 시키신 상세코드에 집중하면 됩니다.  \n",
        "\n",
        "* 판다스로 조인하기 복습  \n",
        "\n",
        "판다스로 조인(join)을 하기 위해서는 merge를 사용하면 됩니다.  \n",
        "\n",
        "```\n",
        "문법:\n",
        "pandas.merge(emp_left,dept_right,how = 'inner', on = 'deptno')\n",
        "\n",
        "옵션:\n",
        "     how = 'inner' : 디폴트 값이다. emp와 dept 데이터 프레임에 공통적으로 존재하는 교집합일 경우에만 추출\n",
        "     how = 'outer' : 열의 데이터가 양쪽 데이터 프레임에 공통적으로 존재하는 교집합이 아니어도 추출하겠다.\n",
        "     how = 'left' : 왼쪽 데이터 프레임의 키열에 속하는 데이터값을 기준으로 병합하겠다.\n",
        "     how = 'right' : 오른쪽 데이터 프레임의 키열에 속하는 데이터값을 기준으로 병합하겠다.\n",
        "```"
      ]
    },
    {
      "cell_type": "code",
      "metadata": {
        "colab": {
          "base_uri": "https://localhost:8080/"
        },
        "id": "gmuHKzvkqIQv",
        "outputId": "74372e84-165d-44f4-9ac7-f8a15e2c1af9"
      },
      "source": [
        "import pandas as pd\n",
        "#from google.colab import files\n",
        "#myfile = files.upload()\n",
        "emp = pd.read_csv('emp3.csv')\n",
        "dept = pd.read_csv('dept3.csv')\n",
        "result = pd.merge(emp, dept, on = 'deptno', how = 'left')\n",
        "print(result[['ename','loc']])"
      ],
      "execution_count": null,
      "outputs": [
        {
          "output_type": "stream",
          "text": [
            "     ename       loc\n",
            "0     KING  NEW YORK\n",
            "1    BLAKE   CHICAGO\n",
            "2    CLARK  NEW YORK\n",
            "3    JONES    DALLAS\n",
            "4   MARTIN   CHICAGO\n",
            "5    ALLEN   CHICAGO\n",
            "6   TURNER   CHICAGO\n",
            "7    JAMES   CHICAGO\n",
            "8     WARD   CHICAGO\n",
            "9     FORD    DALLAS\n",
            "10   SMITH    DALLAS\n",
            "11   SCOTT    DALLAS\n",
            "12   ADAMS    DALLAS\n",
            "13  MILLER  NEW YORK\n"
          ],
          "name": "stdout"
        }
      ]
    },
    {
      "cell_type": "markdown",
      "metadata": {
        "id": "ERpXnj-lvv8d"
      },
      "source": [
        "```\n",
        "select e.ename, d.loc\n",
        "    from emp e, dept d\n",
        "    where e.deptno = d.deptno(+)\n",
        "```\n",
        "와 같다.  \n",
        "\n",
        "문제221. 부서번호, 부서번호별 평균월급을 출력하시오!\n",
        "```\n",
        "select deptno, avg(sal)\n",
        "    from emp\n",
        "    group by deptno;\n",
        "```"
      ]
    },
    {
      "cell_type": "code",
      "metadata": {
        "id": "0E3lrjrKvtad",
        "colab": {
          "base_uri": "https://localhost:8080/"
        },
        "outputId": "7dcb04d8-beb4-4dbf-c5ca-38eda4c5a422"
      },
      "source": [
        "import pandas as pd\n",
        "emp = pd.read_csv('emp3.csv')\n",
        "dept = pd.read_csv('dept3.csv')\n",
        "result = emp.groupby('deptno')['sal'].mean().reset_index()\n",
        "print(result)"
      ],
      "execution_count": null,
      "outputs": [
        {
          "output_type": "stream",
          "text": [
            "   deptno          sal\n",
            "0      10  2916.666667\n",
            "1      20  2175.000000\n",
            "2      30  1566.666667\n"
          ],
          "name": "stdout"
        }
      ]
    },
    {
      "cell_type": "markdown",
      "metadata": {
        "id": "bDfnCYaIwlK0"
      },
      "source": [
        "아 어렵다. reset_index까지 외워야 한다.  \n",
        "\n",
        "설명: groupby부터 시작해서 reset_index()까지가 한 세트이므로 항상 같이 써야한다.  \n",
        "\n",
        "문제222. 위의 결과에서 평균월급을 출력할 때 정수부분만 출력하고 싶다면(소수점 이전만 출력)"
      ]
    },
    {
      "cell_type": "code",
      "metadata": {
        "colab": {
          "base_uri": "https://localhost:8080/"
        },
        "id": "iLhojo-0xXCm",
        "outputId": "77fe72d7-778a-4eef-e667-0b72c4987b71"
      },
      "source": [
        "import pandas as pd\n",
        "emp = pd.read_csv('emp3.csv')\n",
        "dept = pd.read_csv('dept3.csv')\n",
        "result = emp.groupby('deptno')['sal'].mean().reset_index().astype(int)\n",
        "print(result)"
      ],
      "execution_count": null,
      "outputs": [
        {
          "output_type": "stream",
          "text": [
            "   deptno   sal\n",
            "0      10  2916\n",
            "1      20  2175\n",
            "2      30  1566\n"
          ],
          "name": "stdout"
        }
      ]
    },
    {
      "cell_type": "markdown",
      "metadata": {
        "id": "xkBKkHr1xgUq"
      },
      "source": [
        "astype(int)를 붙여서 정수형으로 만들어줬다.  \n",
        "설명: astype(int)는 출력되는 데이터에서 정수부분만 취하라는 뜻입니다. float를 쓰면 실수로 나옴. 그런데 모든 것을 int로 바꾸는 거라서 앞부분이 deptno처럼 숫자가 아니라 str이면 에러가 난다.  \n",
        "\n",
        "문제223. 직업과 직업별 토탈월급을 출력하시오.\n",
        "```\n",
        "SQL>\n",
        "select job, sum(sal)\n",
        "    from emp\n",
        "    group by job;\n",
        "```"
      ]
    },
    {
      "cell_type": "code",
      "metadata": {
        "colab": {
          "base_uri": "https://localhost:8080/"
        },
        "id": "vKmGLRW0yLcP",
        "outputId": "75f5d184-17d1-426f-cb90-cabd47d7426b"
      },
      "source": [
        "result = emp.groupby('job')['sal'].sum().reset_index()\n",
        "print(result)"
      ],
      "execution_count": null,
      "outputs": [
        {
          "output_type": "stream",
          "text": [
            "         job   sal\n",
            "0    ANALYST  6000\n",
            "1      CLERK  4150\n",
            "2    MANAGER  8275\n",
            "3  PRESIDENT  5000\n",
            "4   SALESMAN  5600\n"
          ],
          "name": "stdout"
        }
      ]
    },
    {
      "cell_type": "markdown",
      "metadata": {
        "id": "elxrUfZCy6ku"
      },
      "source": [
        "문제224. 부서위치, 부서위치별 토탈월급을 출력하시오!  \n",
        "```\n",
        "SQL>\n",
        "select d.loc, sum(e.sal)\n",
        "    from emp e, dept d\n",
        "    where e.deptno = d.deptno\n",
        "    group by d.loc;\n",
        "```"
      ]
    },
    {
      "cell_type": "code",
      "metadata": {
        "colab": {
          "base_uri": "https://localhost:8080/"
        },
        "id": "gQIIH62mzDLT",
        "outputId": "f62900a3-36f3-4baa-d4c9-85d87202d210"
      },
      "source": [
        "result = pd.merge(emp, dept,on = 'deptno')\n",
        "result = result.groupby('loc')['sal'].sum().reset_index()\n",
        "print(result)"
      ],
      "execution_count": null,
      "outputs": [
        {
          "output_type": "stream",
          "text": [
            "        loc    sal\n",
            "0   CHICAGO   9400\n",
            "1    DALLAS  10875\n",
            "2  NEW YORK   8750\n"
          ],
          "name": "stdout"
        }
      ]
    },
    {
      "cell_type": "markdown",
      "metadata": {
        "id": "67Z88bnqz9bE"
      },
      "source": [
        "문제225. 아래의 SQL을 판다스로 구현하시오.\n",
        "```\n",
        "select d.loc, nvl(sum(e.sal),0)\n",
        "    from emp e, dept d\n",
        "    where e.deptno(+) = d.deptno #보스턴도 나오게 만듦\n",
        "    group by d.loc;\n",
        "```"
      ]
    },
    {
      "cell_type": "code",
      "metadata": {
        "colab": {
          "base_uri": "https://localhost:8080/"
        },
        "id": "Zcuc04JN0M2i",
        "outputId": "a9e33ce3-27e5-4eef-cb61-fb4d8a7f3df5"
      },
      "source": [
        "result = pd.merge(emp,dept,how='right',on='deptno')\n",
        "result = result.groupby('loc')['sal'].sum().reset_index()\n",
        "print(result)"
      ],
      "execution_count": null,
      "outputs": [
        {
          "output_type": "stream",
          "text": [
            "        loc      sal\n",
            "0    BOSTON      0.0\n",
            "1   CHICAGO   9400.0\n",
            "2    DALLAS  10875.0\n",
            "3  NEW YORK   8750.0\n"
          ],
          "name": "stdout"
        }
      ]
    },
    {
      "cell_type": "markdown",
      "metadata": {
        "id": "EvTuxo9s0Mdx"
      },
      "source": [
        "문제226. 아래의 SQL을 판다스로 구현하시오!\n",
        "```\n",
        "SQL>\n",
        "select deptno, count(*)\n",
        "    from emp\n",
        "    group by deptno;\n",
        "```"
      ]
    },
    {
      "cell_type": "code",
      "metadata": {
        "colab": {
          "base_uri": "https://localhost:8080/"
        },
        "id": "lr1Nedf40yfM",
        "outputId": "5159b2a8-8458-4147-91b4-49910fb62220"
      },
      "source": [
        "result = emp.groupby('deptno')['empno'].count().reset_index()\n",
        "print(result)"
      ],
      "execution_count": null,
      "outputs": [
        {
          "output_type": "stream",
          "text": [
            "   deptno  empno\n",
            "0      10      3\n",
            "1      20      5\n",
            "2      30      6\n"
          ],
          "name": "stdout"
        }
      ]
    },
    {
      "cell_type": "markdown",
      "metadata": {
        "id": "0dpGtigv0yQx"
      },
      "source": [
        "판다스에서는 *이 없기 때문에 null값이 없는 사원번호로 대체하면 된다.  \n",
        "\n",
        "문제227. emp122.csv를 내려받아 판다스 데이터 프레임으로 만들고 출력하시오!"
      ]
    },
    {
      "cell_type": "code",
      "metadata": {
        "id": "jlN7BmLM1_rZ"
      },
      "source": [
        "#myfile = files.upload()\n",
        "emp12 = pd.read_csv('emp122.csv')\n",
        "emp12"
      ],
      "execution_count": null,
      "outputs": []
    },
    {
      "cell_type": "markdown",
      "metadata": {
        "id": "ejFoWQgX2Vt2"
      },
      "source": [
        "문제228. 통신사, 통신사별 인원수를 출력하시오.  \n"
      ]
    },
    {
      "cell_type": "code",
      "metadata": {
        "colab": {
          "base_uri": "https://localhost:8080/"
        },
        "id": "0K7IuJYw2fXC",
        "outputId": "52ed1a82-cade-4940-c73e-bc6a9b6f88fb"
      },
      "source": [
        "result = emp12.groupby('TELECOM')['INDEX'].count().reset_index()\n",
        "print(result)"
      ],
      "execution_count": null,
      "outputs": [
        {
          "output_type": "stream",
          "text": [
            "  TELECOM  INDEX\n",
            "0      kt     15\n",
            "1      lg      4\n",
            "2      sk     11\n"
          ],
          "name": "stdout"
        }
      ]
    },
    {
      "cell_type": "markdown",
      "metadata": {
        "id": "vZLlbSkn3oYs"
      },
      "source": [
        "문제229. 우리반 테이블에서 통신사가 kt이고 나이가 30살 이상인 학생들의 이름과 나이와 통신사를 출력하시오!"
      ]
    },
    {
      "cell_type": "code",
      "metadata": {
        "colab": {
          "base_uri": "https://localhost:8080/"
        },
        "id": "z9CjSx-A3tmm",
        "outputId": "372fc926-f4ba-4301-ccdc-0fdf991a5220"
      },
      "source": [
        "result = emp12[['ENAME','AGE','TELECOM']][(emp12['AGE']>=30) & (emp12['TELECOM']=='kt')]\n",
        "print(result)"
      ],
      "execution_count": null,
      "outputs": [
        {
          "output_type": "stream",
          "text": [
            "  ENAME  AGE TELECOM\n",
            "1    한결   31      kt\n"
          ],
          "name": "stdout"
        }
      ]
    },
    {
      "cell_type": "markdown",
      "metadata": {
        "id": "K68Gd1AP_l0o"
      },
      "source": [
        "설명: and는 판다스에서 & 이고 or는 판다스에서 | 입니다.  \n",
        "그리고 &, | 를 사용할 때는 양쪽 조건에 소괄호를 둘러줘야 합니다.  \n"
      ]
    },
    {
      "cell_type": "markdown",
      "metadata": {
        "id": "PTnDcT_a__-z"
      },
      "source": [
        "# 68. 반올림수 구하기(round)\n",
        "\n",
        "파이썬 내장함수round()는 인자로 입력된 숫자형 자리수에서 반올림한 결과를 리턴합니다.  \n",
        "예제:"
      ]
    },
    {
      "cell_type": "code",
      "metadata": {
        "colab": {
          "base_uri": "https://localhost:8080/"
        },
        "id": "M0aSHG8AAbDq",
        "outputId": "5e82cf89-b70f-4834-8804-4dc121e5fa04"
      },
      "source": [
        "print(round(16.554) )    # 소수점 첫번째 자리에서 반올림\n",
        "print(round(16.554, 0) ) # 소수점 첫번째 자리에서 반올림\n",
        "print(round(16.554, 1) ) # 소수점 두번째 자리에서 반올림\n",
        "print(round(16.554, 2) ) # 소수점 세번째 자리에서 반올림"
      ],
      "execution_count": null,
      "outputs": [
        {
          "output_type": "stream",
          "text": [
            "17\n",
            "17.0\n",
            "16.6\n",
            "16.55\n"
          ],
          "name": "stdout"
        }
      ]
    },
    {
      "cell_type": "markdown",
      "metadata": {
        "id": "YKKsfa96A00Y"
      },
      "source": [
        "* 파이썬에서 반올림할 때 중요하게 알아야 할 내용  \n",
        "\n"
      ]
    },
    {
      "cell_type": "code",
      "metadata": {
        "colab": {
          "base_uri": "https://localhost:8080/"
        },
        "id": "tduC65MKA61T",
        "outputId": "5f70de19-68c6-4e4d-a22f-97b4f08dc88f"
      },
      "source": [
        "print(round(142.5)) # 143이 나와야 하는데 142가 나온다."
      ],
      "execution_count": null,
      "outputs": [
        {
          "output_type": "stream",
          "text": [
            "142\n"
          ],
          "name": "stdout"
        }
      ]
    },
    {
      "cell_type": "markdown",
      "metadata": {
        "id": "NK-_l2W1BESf"
      },
      "source": [
        "R과 파이썬은 짝수를 좋아합니다.  \n",
        "```\n",
        "142.5 ----------> 142  2 <- 2.5    3\n",
        "187.5 ----------> 188  7    7.5 -> 8\n",
        "짝수를 좋아하기 때문에 가까운 짝수를 선택한다.\n",
        "```"
      ]
    },
    {
      "cell_type": "code",
      "metadata": {
        "colab": {
          "base_uri": "https://localhost:8080/"
        },
        "id": "jbg0w60jBLH7",
        "outputId": "eaa725e4-f66e-45ba-ed46-04c10aabfd18"
      },
      "source": [
        "print(round(187.5)) # 188이 나온다."
      ],
      "execution_count": null,
      "outputs": [
        {
          "output_type": "stream",
          "text": [
            "188\n"
          ],
          "name": "stdout"
        }
      ]
    },
    {
      "cell_type": "markdown",
      "metadata": {
        "id": "3hvBcpRZBcEX"
      },
      "source": [
        "파이썬은 기본적으로 이것을 해결하는 함수가 없습니다.  \n",
        "0.5 일때는 짝수를 좋아하게끔 반올림도고 0.51 일때는 반올림됩니다. (뭐 이런 얼탱이 없는 경우가)  \n",
        "\n",
        "예제. 판다스를 이용하지 않고 파이썬으로만 emp3.csv에서 이름과 월급을 출력하시오."
      ]
    },
    {
      "cell_type": "code",
      "metadata": {
        "colab": {
          "base_uri": "https://localhost:8080/"
        },
        "id": "6blc6XKjCIdH",
        "outputId": "fe99a032-b3ba-44ab-fa3a-5e02b67b5b28"
      },
      "source": [
        "import csv\n",
        "#myfile = files.upload() \n",
        "file = open('emp2.csv')    # os에 있는 emp2.csv를 읽어서 file이라는 변수에 넣는다.\n",
        "emp_csv = csv.reader(file) # file 변수에 있는 csv 파일을 읽어서 emp_csv 변수에 넣는다.\n",
        "print(emp_csv)             # 이 상태에서 그냥 프린트하면 메모리가 주소만 나옵니다.\n",
        "\n",
        "for emp_list in emp_csv:   # csv 파일의 내용을 한 행씩 리스트에 담아서\n",
        "    print(emp_list)        # 출력합니다."
      ],
      "execution_count": null,
      "outputs": [
        {
          "output_type": "stream",
          "text": [
            "<_csv.reader object at 0x7f899d35c4a8>\n",
            "['', 'empno', 'ename', 'job', 'mgr', 'hiredate', 'sal', 'comm', 'deptno']\n",
            "['0', '7839', 'KING', 'PRESIDENT', '', '1981-11-17', '5000', '', '10']\n",
            "['1', '7698', 'BLAKE', 'MANAGER', '7839.0', '1981-05-01', '2850', '', '30']\n",
            "['2', '7782', 'CLARK', 'MANAGER', '7839.0', '1981-05-09', '2450', '', '10']\n",
            "['3', '7566', 'JONES', 'MANAGER', '7839.0', '1981-04-01', '2975', '', '20']\n",
            "['4', '7654', 'MARTIN', 'SALESMAN', '7698.0', '1981-09-10', '1250', '1400.0', '30']\n",
            "['5', '7499', 'ALLEN', 'SALESMAN', '7698.0', '1981-02-11', '1600', '300.0', '30']\n",
            "['6', '7844', 'TURNER', 'SALESMAN', '7698.0', '1981-08-21', '1500', '0.0', '30']\n",
            "['7', '7900', 'JAMES', 'CLERK', '7698.0', '1981-12-11', '950', '', '30']\n",
            "['8', '7521', 'WARD', 'SALESMAN', '7698.0', '1981-02-23', '1250', '500.0', '30']\n",
            "['9', '7902', 'FORD', 'ANALYST', '7566.0', '1981-12-11', '3000', '', '20']\n",
            "['10', '7369', 'SMITH', 'CLERK', '7902.0', '1980-12-09', '800', '', '20']\n",
            "['11', '7788', 'SCOTT', 'ANALYST', '7566.0', '1982-12-22', '3000', '', '20']\n",
            "['12', '7876', 'ADAMS', 'CLERK', '7788.0', '1983-01-15', '1100', '', '20']\n",
            "['13', '7934', 'MILLER', 'CLERK', '7782.0', '1982-01-11', '1300', '', '10']\n"
          ],
          "name": "stdout"
        }
      ]
    },
    {
      "cell_type": "markdown",
      "metadata": {
        "id": "LDMoj8GIEJv-"
      },
      "source": [
        "문제230. 판다스를 이용하지 말고 이름과 월급*12.3을 출력하시오."
      ]
    },
    {
      "cell_type": "code",
      "metadata": {
        "colab": {
          "base_uri": "https://localhost:8080/"
        },
        "id": "JqaRIekVEVyR",
        "outputId": "19fde4d8-f1bd-4603-d043-bae66daac2f8"
      },
      "source": [
        "#from google.colab import files\n",
        "#myfile = files.upload()\n",
        "import csv\n",
        "file = open('emp22.csv')\n",
        "emp_csv = csv.reader(file)\n",
        "\n",
        "for emp_list in emp_csv:\n",
        "    print(emp_list[1],int(emp_list[5])*12.3)"
      ],
      "execution_count": 96,
      "outputs": [
        {
          "output_type": "stream",
          "text": [
            "KING 61500.0\n",
            "BLAKE 35055.0\n",
            "CLARK 30135.0\n",
            "JONES 36592.5\n",
            "MARTIN 15375.0\n",
            "ALLEN 19680.0\n",
            "TURNER 18450.0\n",
            "JAMES 11685.0\n",
            "WARD 15375.0\n",
            "FORD 36900.0\n",
            "SMITH 9840.0\n",
            "SCOTT 36900.0\n",
            "ADAMS 13530.0\n",
            "MILLER 15990.000000000002\n"
          ],
          "name": "stdout"
        }
      ]
    },
    {
      "cell_type": "markdown",
      "metadata": {
        "id": "oS0kuG7pJMx0"
      },
      "source": [
        "문제231. 위의 결과를 다시 출력하는데 소수점 첫번째 자리에서 반올림되게"
      ]
    },
    {
      "cell_type": "code",
      "metadata": {
        "colab": {
          "base_uri": "https://localhost:8080/"
        },
        "id": "8mh5YVvdJWEu",
        "outputId": "bd3608af-6bd1-4d09-fef4-9fd70cf54b15"
      },
      "source": [
        "import csv\n",
        "file = open('emp22.csv')\n",
        "emp_csv = csv.reader(file)\n",
        "\n",
        "for emp_list in emp_csv:\n",
        "    print(emp_list[1],round(int(emp_list[5])*12.3))"
      ],
      "execution_count": 99,
      "outputs": [
        {
          "output_type": "stream",
          "text": [
            "KING 61500\n",
            "BLAKE 35055\n",
            "CLARK 30135\n",
            "JONES 36592\n",
            "MARTIN 15375\n",
            "ALLEN 19680\n",
            "TURNER 18450\n",
            "JAMES 11685\n",
            "WARD 15375\n",
            "FORD 36900\n",
            "SMITH 9840\n",
            "SCOTT 36900\n",
            "ADAMS 13530\n",
            "MILLER 15990\n"
          ],
          "name": "stdout"
        }
      ]
    },
    {
      "cell_type": "markdown",
      "metadata": {
        "id": "nWO0NevFJ_pq"
      },
      "source": [
        "문제232. 직업이 SALESMAN인 사원들의 이름과 직업을 출력하는데 판다스 이용하지 말고 emp2.csv를 읽어서 출력하시오."
      ]
    },
    {
      "cell_type": "code",
      "metadata": {
        "colab": {
          "base_uri": "https://localhost:8080/"
        },
        "id": "NJiiEL8iKEMp",
        "outputId": "7c732da8-27e9-46df-cdf9-fc546196d717"
      },
      "source": [
        "file = open('emp22.csv')\n",
        "emp_csv = csv.reader(file)\n",
        "\n",
        "for emp_list in emp_csv:\n",
        "    if emp_list[2] == 'SALESMAN':\n",
        "        print(emp_list[1],emp_list[2])"
      ],
      "execution_count": 110,
      "outputs": [
        {
          "output_type": "stream",
          "text": [
            "MARTIN SALESMAN\n",
            "ALLEN SALESMAN\n",
            "TURNER SALESMAN\n",
            "WARD SALESMAN\n"
          ],
          "name": "stdout"
        }
      ]
    },
    {
      "cell_type": "markdown",
      "metadata": {
        "id": "BjPR9uOgK2ET"
      },
      "source": [
        "아 어렵다.  \n",
        "\n",
        "문제233.(점심시간 문제) 부서번호가 20번인 사원들의 이름과 월급과 부서번호를 출력하시오 ~  \n",
        "```\n",
        "판다스를 이용한 방법:\n",
        "\n",
        "판다스를 이용하지 않은 방법:\n",
        "```"
      ]
    },
    {
      "cell_type": "code",
      "metadata": {
        "colab": {
          "base_uri": "https://localhost:8080/"
        },
        "id": "R0zqatgZLJDm",
        "outputId": "84809c0c-373b-4690-e583-d7fab5d29fbf"
      },
      "source": [
        "import pandas as pd\n",
        "emp2 = pd.read_csv('emp22.csv')\n",
        "result = emp[['ename','sal','deptno']][emp['deptno']==20]\n",
        "print(result)"
      ],
      "execution_count": 122,
      "outputs": [
        {
          "output_type": "stream",
          "text": [
            "    ename   sal  deptno\n",
            "3   JONES  2975      20\n",
            "9    FORD  3000      20\n",
            "10  SMITH   800      20\n",
            "11  SCOTT  3000      20\n",
            "12  ADAMS  1100      20\n"
          ],
          "name": "stdout"
        }
      ]
    },
    {
      "cell_type": "code",
      "metadata": {
        "colab": {
          "base_uri": "https://localhost:8080/"
        },
        "id": "qou3WNYgMEdI",
        "outputId": "638e61d8-067d-479e-907e-59284c0db6b7"
      },
      "source": [
        "import csv\n",
        "file = open('emp22.csv')\n",
        "emp_csv = csv.reader(file)\n",
        "for emp_list in emp_csv:\n",
        "    if emp_list[7] == '20':\n",
        "        print(emp_list[1],emp_list[5],emp_list[7])"
      ],
      "execution_count": 125,
      "outputs": [
        {
          "output_type": "stream",
          "text": [
            "JONES 2975 20\n",
            "FORD 3000 20\n",
            "SMITH 800 20\n",
            "SCOTT 3000 20\n",
            "ADAMS 1100 20\n"
          ],
          "name": "stdout"
        }
      ]
    },
    {
      "cell_type": "markdown",
      "metadata": {
        "id": "Ny8-P-JahVdQ"
      },
      "source": [
        "# 69. 실수형 자료를 정수형 자료로 변환하기(int)  \n",
        "\n",
        "* 파이썬의 변환함수 정리\n",
        "```\n",
        "        데이터 유형      변환함수\n",
        "정수형      int            int()\n",
        "문자형      str            str()\n",
        "실수형      float          float()\n",
        "리스트형    list           list()\n",
        "튜플형      tuple          tuple()\n",
        "```\n",
        "코드 작성시 수학연상을 하다보면 정수끼리만 계산해야 하는 경우가 있습니다. 이 때 우리가 가진 데이터가 실수형이라면 실수형 자료를 정수형으로 변환한 후에 계산을 해주어야 합니다.  \n",
        "파이썬 내장함수 int()는 인자로 입력된 실수형 자료를 정수형 자료로 변환해줍니다. int()는 입력된 실수형 자료의 소수부분은 버리고 정수부분만 취하여 정수값으로 리턴합니다.  \n",
        "\n",
        "예제:"
      ]
    },
    {
      "cell_type": "code",
      "metadata": {
        "colab": {
          "base_uri": "https://localhost:8080/"
        },
        "id": "3Ugr3o4aihL0",
        "outputId": "62fe911f-5cfa-421e-9c35-74434709c898"
      },
      "source": [
        "print(int(-5.4))"
      ],
      "execution_count": 126,
      "outputs": [
        {
          "output_type": "stream",
          "text": [
            "-5\n"
          ],
          "name": "stdout"
        }
      ]
    },
    {
      "cell_type": "markdown",
      "metadata": {
        "id": "akdLXaLei5CQ"
      },
      "source": [
        "문제234. 판다스를 이용해서 emp3.csv를 읽어다가 이름과 월급을 출력하는데 월급을 출력할 때 소수점 이하는 버리고 정수부분만 출력되게 하시오!"
      ]
    },
    {
      "cell_type": "code",
      "metadata": {
        "colab": {
          "base_uri": "https://localhost:8080/"
        },
        "id": "CMct2gXdi-EA",
        "outputId": "0aed89b1-b72f-4a63-b941-21cce0e43479"
      },
      "source": [
        "import pandas as pd\n",
        "emp = pd.read_csv('emp3.csv')\n",
        "print(emp[['ename','sal']])"
      ],
      "execution_count": 127,
      "outputs": [
        {
          "output_type": "stream",
          "text": [
            "     ename   sal\n",
            "0     KING  5000\n",
            "1    BLAKE  2850\n",
            "2    CLARK  2450\n",
            "3    JONES  2975\n",
            "4   MARTIN  1250\n",
            "5    ALLEN  1600\n",
            "6   TURNER  1500\n",
            "7    JAMES   950\n",
            "8     WARD  1250\n",
            "9     FORD  3000\n",
            "10   SMITH   800\n",
            "11   SCOTT  3000\n",
            "12   ADAMS  1100\n",
            "13  MILLER  1300\n"
          ],
          "name": "stdout"
        }
      ]
    },
    {
      "cell_type": "markdown",
      "metadata": {
        "id": "mBkER34TjX_R"
      },
      "source": [
        "설명: int()함수를 따로 안써도 정수형으로 출력되고 있습니다. 판다스를 이용하지 않았을 때와는 다르게 숫자는 바로 숫자형으로 출력해주고 있습니다."
      ]
    },
    {
      "cell_type": "markdown",
      "metadata": {
        "id": "CbFFI8gAjqaB"
      },
      "source": [
        "# 70. 정수형 자료를 실수형 자료로 변환하기(float)\n",
        "\n",
        "이미지 처리나 공학용 프로그램을 작성할 때 실수형 끼리만 계산해야하는 경우가 많습니다. 이 때 우리가 가진 데이터가 정수형이라고 하면 정수형 자료를 실수형 자료로 변환한 후에 계산해주어야 합니다. 파이썬 내장함수 float()는 인자로 입력된 정수형 자료를 실수형으로 변환해줍니다.  \n",
        "예:"
      ]
    },
    {
      "cell_type": "code",
      "metadata": {
        "colab": {
          "base_uri": "https://localhost:8080/"
        },
        "id": "OqrAeqEukIhL",
        "outputId": "f6371965-4be9-40a1-db8a-74020623509a"
      },
      "source": [
        "print(float(10))"
      ],
      "execution_count": 128,
      "outputs": [
        {
          "output_type": "stream",
          "text": [
            "10.0\n"
          ],
          "name": "stdout"
        }
      ]
    },
    {
      "cell_type": "markdown",
      "metadata": {
        "id": "YdeVpq3KkTEl"
      },
      "source": [
        "문제235. 판다스를 이용해서 이름과 월급을 출력하는데 월급을 출력할 때 실수형으로 출력하시오!"
      ]
    },
    {
      "cell_type": "code",
      "metadata": {
        "colab": {
          "base_uri": "https://localhost:8080/"
        },
        "id": "z-DqU3W1kuiZ",
        "outputId": "df35c0ff-d48b-431e-db10-3eedebac6700"
      },
      "source": [
        "#myfile = files.upload()\n",
        "emp = pd.read_csv('emp3.csv')\n",
        "result = emp[['ename','sal']]\n",
        "emp['sal'] = emp['sal'].apply(float) # emp 데이터프레임의 sal 컬럼의 데이터를 float(실수형)으로\n",
        "                                     # 변환해서 emp 데이터 프레임에 sal 컬럼의 데이터로 변경해라\n",
        "print(emp[['ename','sal']])"
      ],
      "execution_count": 148,
      "outputs": [
        {
          "output_type": "stream",
          "text": [
            "     ename     sal\n",
            "0     KING  5000.0\n",
            "1    BLAKE  2850.0\n",
            "2    CLARK  2450.0\n",
            "3    JONES  2975.0\n",
            "4   MARTIN  1250.0\n",
            "5    ALLEN  1600.0\n",
            "6   TURNER  1500.0\n",
            "7    JAMES   950.0\n",
            "8     WARD  1250.0\n",
            "9     FORD  3000.0\n",
            "10   SMITH   800.0\n",
            "11   SCOTT  3000.0\n",
            "12   ADAMS  1100.0\n",
            "13  MILLER  1300.0\n"
          ],
          "name": "stdout"
        }
      ]
    },
    {
      "cell_type": "markdown",
      "metadata": {
        "id": "irmhlUQsmUQV"
      },
      "source": [
        "설명: emp['sal'].apply 는 emp 데이터 프레임에 sal 시리즈에 apply 함수를 적용해서 데이터 유형을 변경할 수 있습니다."
      ]
    },
    {
      "cell_type": "markdown",
      "metadata": {
        "id": "2EJzqZYxmzEe"
      },
      "source": [
        "# 71. 정수 리스트에서 소수만 걸러내기(filter)\n",
        "\n",
        "파이썬 내장함수인 filter()는 릿트와 같은 자료형에서 특정 조건을 만족하는 값만 편리하게 추출할 수 있는 방법을 제공합니다. filter()의 첫번째 인자는 특정 조건의 값을 추출하는 함수가 입력되며 두번째 인자(입력매개변수) 리스트와 같은 자료형이 입력됩니다.  \n",
        "\n",
        "예제: 숫자가 나열되어 있는 리스트에서 짝수만 추출해내는 코드를 작성"
      ]
    },
    {
      "cell_type": "code",
      "metadata": {
        "colab": {
          "base_uri": "https://localhost:8080/"
        },
        "id": "mbhfYqWInVCh",
        "outputId": "38b7754a-91fe-4e78-c568-8d79d3b61a2c"
      },
      "source": [
        "a = [1,2,3,4,5,6,7,8,9,10]\n",
        "b =[]\n",
        "for i in a:\n",
        "    if i % 2 == 0:\n",
        "        b.append(i)\n",
        "print(b)"
      ],
      "execution_count": 161,
      "outputs": [
        {
          "output_type": "stream",
          "text": [
            "[2, 4, 6, 8, 10]\n"
          ],
          "name": "stdout"
        }
      ]
    },
    {
      "cell_type": "markdown",
      "metadata": {
        "id": "puaT4tG0nfVe"
      },
      "source": [
        "for 안 쓸 수 있다.\n",
        "1. 숫자를 입력하면 짝수이면 결과를 출력하고 홀수면 출력하지 않는 함수를 생성\n"
      ]
    },
    {
      "cell_type": "code",
      "metadata": {
        "colab": {
          "base_uri": "https://localhost:8080/"
        },
        "id": "zU22cq2Anwd6",
        "outputId": "f4c796f7-83b7-4d10-f6d1-0a94b9ee8825"
      },
      "source": [
        "def get_even(num):\n",
        "    if num%2 == 0:\n",
        "        return num\n",
        "    else:\n",
        "        return # 리턴다음에 아무것도 쓰지 않아서 아무것도 리턴되지 않음\n",
        "\n",
        "print(get_even(2))\n",
        "print(get_even(7))"
      ],
      "execution_count": 160,
      "outputs": [
        {
          "output_type": "stream",
          "text": [
            "2\n",
            "None\n"
          ],
          "name": "stdout"
        }
      ]
    },
    {
      "cell_type": "markdown",
      "metadata": {
        "id": "_R5TMHL5oQ7v"
      },
      "source": [
        "2. filter 함수와 get_even 함수를 이용해서 위의 a 리스트에서 짝수를 추출하기"
      ]
    },
    {
      "cell_type": "code",
      "metadata": {
        "colab": {
          "base_uri": "https://localhost:8080/"
        },
        "id": "voknECOjoWD5",
        "outputId": "e36a5402-7fe3-439f-f5fc-6df77cf613f8"
      },
      "source": [
        "result = filter(get_even,a)\n",
        "print(list(result))   # list함수로 리스트로 변환해야 제대로 출력이 됩니다."
      ],
      "execution_count": 168,
      "outputs": [
        {
          "output_type": "stream",
          "text": [
            "[2, 4, 6, 8, 10]\n"
          ],
          "name": "stdout"
        }
      ]
    },
    {
      "cell_type": "markdown",
      "metadata": {
        "id": "A4CBDifgplc7"
      },
      "source": [
        "문제236. 아래의 리스트에서 숫자가 300 이상이면 출력하고 300 미만이면 출력되지 않게 하시오."
      ]
    },
    {
      "cell_type": "code",
      "metadata": {
        "colab": {
          "base_uri": "https://localhost:8080/"
        },
        "id": "hhjlmFirppLO",
        "outputId": "70cf786b-1bd6-4e52-85e4-f86ea17ecda1"
      },
      "source": [
        "b = [100,352,254,456,123,234,567,903]\n",
        "\n",
        "def above_300(a):\n",
        "    if a >= 300:\n",
        "        return a\n",
        "    else:\n",
        "        return\n",
        "\n",
        "result = filter(above_300,b)\n",
        "print(list(result))"
      ],
      "execution_count": 170,
      "outputs": [
        {
          "output_type": "stream",
          "text": [
            "[352, 456, 567, 903]\n"
          ],
          "name": "stdout"
        }
      ]
    },
    {
      "cell_type": "markdown",
      "metadata": {
        "id": "ITqZIWKEqCWP"
      },
      "source": [
        "이야 잘된다.  \n",
        "\n",
        "문제237. 우리반 데이터에서 나이가 30살 이상인 나이만 따로 결과로 리스트로 출력하시오."
      ]
    },
    {
      "cell_type": "code",
      "metadata": {
        "colab": {
          "base_uri": "https://localhost:8080/"
        },
        "id": "QJP_hkvVq_GC",
        "outputId": "7a9d4aab-a848-48f4-b664-c1248318ebbe"
      },
      "source": [
        "def above_30(a):\n",
        "    if a >= 30:\n",
        "        return a\n",
        "    else:\n",
        "        return\n",
        "\n",
        "result = filter(above_30,emp12['AGE'])\n",
        "print(list(result))"
      ],
      "execution_count": 182,
      "outputs": [
        {
          "output_type": "stream",
          "text": [
            "[31, 35, 33, 30, 36, 44]\n"
          ],
          "name": "stdout"
        }
      ]
    },
    {
      "cell_type": "markdown",
      "metadata": {
        "id": "x6cGGPQBvkhu"
      },
      "source": [
        "# 72. 최대값, 최소값 구하기(max, min)  \n",
        "\n",
        "max()와 min()은 인자로 입력된 자료에서 최대, 최소값을 구해주는 함수입니다. max()와 min()의 인자로 리스트와 같은 시퀀스 자료가 입력되면 시퀀스 자료의 요소 가운데 최대값 또는 최소값을 구하여 리턴합니다.\n",
        "```\n",
        "   오라클        vs         파이썬\n",
        "    max                      max\n",
        "    min                      min\n",
        "    count                    len\n",
        "    sum                      sum\n",
        "    avg                      mean\n",
        "```\n",
        "예제:"
      ]
    },
    {
      "cell_type": "code",
      "metadata": {
        "colab": {
          "base_uri": "https://localhost:8080/"
        },
        "id": "DxgMgzbQwJrj",
        "outputId": "f224c12d-5367-45ff-dc5d-ed41840643a3"
      },
      "source": [
        "a = [8,7,12,55,21,34,15,9,22]\n",
        "print(max(a))"
      ],
      "execution_count": 183,
      "outputs": [
        {
          "output_type": "stream",
          "text": [
            "55\n"
          ],
          "name": "stdout"
        }
      ]
    },
    {
      "cell_type": "markdown",
      "metadata": {
        "id": "lpPeyEX4whvi"
      },
      "source": [
        "문제238. 사원 테이블에서 최대월급을 출력하시오! emp3.csv  \n",
        "\n",
        "1. 판다스를 이용했을 때  \n",
        "\n",
        "2. 판다스를 이용하지 않았을 때"
      ]
    },
    {
      "cell_type": "code",
      "metadata": {
        "colab": {
          "base_uri": "https://localhost:8080/"
        },
        "id": "UoER4Ia9wodE",
        "outputId": "b510d224-06ae-46a1-9d60-d4564bf677a2"
      },
      "source": [
        "import pandas as pd\n",
        "emp = pd.read_csv('emp3.csv')\n",
        "print(emp['sal'].max())"
      ],
      "execution_count": 186,
      "outputs": [
        {
          "output_type": "stream",
          "text": [
            "5000\n"
          ],
          "name": "stdout"
        }
      ]
    },
    {
      "cell_type": "code",
      "metadata": {
        "colab": {
          "base_uri": "https://localhost:8080/"
        },
        "id": "EVDY6iXkw1qf",
        "outputId": "08bd963d-eb7a-4b87-970a-fb4d6de9e420"
      },
      "source": [
        "import csv\n",
        "file = open('emp22.csv')\n",
        "emp = csv.reader(file)\n",
        "a = []\n",
        "for i in emp:\n",
        "    a.append(int(i[5]))\n",
        "print(max(a))"
      ],
      "execution_count": 210,
      "outputs": [
        {
          "output_type": "stream",
          "text": [
            "5000\n"
          ],
          "name": "stdout"
        }
      ]
    },
    {
      "cell_type": "markdown",
      "metadata": {
        "id": "Jh2-4rdRyPue"
      },
      "source": [
        "문제239. 우리반 데이터(emp122.csv)에서 최소나이를 출력하시오!  \n",
        "\n",
        "1. 판다스 이용했을 때  \n",
        "\n",
        "2. 판다스 이용하지 않았을 때"
      ]
    },
    {
      "cell_type": "code",
      "metadata": {
        "colab": {
          "base_uri": "https://localhost:8080/"
        },
        "id": "WUgXBV0DyVcE",
        "outputId": "25bd2dbe-bce5-45af-f127-42d1e15bea67"
      },
      "source": [
        "import pandas as pd\n",
        "emp12 = pd.read_csv('emp122.csv')\n",
        "result = emp12['AGE'].min()\n",
        "result"
      ],
      "execution_count": 215,
      "outputs": [
        {
          "output_type": "execute_result",
          "data": {
            "text/plain": [
              "24"
            ]
          },
          "metadata": {
            "tags": []
          },
          "execution_count": 215
        }
      ]
    },
    {
      "cell_type": "code",
      "metadata": {
        "colab": {
          "base_uri": "https://localhost:8080/"
        },
        "id": "EDE0qiSZybWD",
        "outputId": "de709c15-57f5-4a87-93d3-c1c9e0ad5654"
      },
      "source": [
        "import csv\n",
        "file = open('emp122.csv')\n",
        "emp12 = csv.reader(file)\n",
        "a = []\n",
        "for i in emp12:\n",
        "    try:\n",
        "        a.append(int(i[2]))\n",
        "    except:\n",
        "        print('')\n",
        "print(min(a))"
      ],
      "execution_count": 244,
      "outputs": [
        {
          "output_type": "stream",
          "text": [
            "\n",
            "24\n"
          ],
          "name": "stdout"
        }
      ]
    },
    {
      "cell_type": "markdown",
      "metadata": {
        "id": "kMR92HYR1Peh"
      },
      "source": [
        "# 73. 판다스에서 결측치(NAN) 확인하기  \n",
        "```\n",
        "emp3.csv에 comm처럼 결측치(NaN)를 처리하는 판다스 함수를 배웁니다.\n",
        "                        Not a Number\n",
        "```\n",
        "\n",
        "예: 판다스를 이용해서 이름과 커미션을 출력하시오!"
      ]
    },
    {
      "cell_type": "code",
      "metadata": {
        "colab": {
          "base_uri": "https://localhost:8080/",
          "height": 483
        },
        "id": "2ylj1Oyh1d3z",
        "outputId": "d9c8284f-743b-43cd-812f-a97262ee3583"
      },
      "source": [
        "import pandas as pd\n",
        "emp = pd.read_csv('emp3.csv')\n",
        "result = emp[['ename','comm']]\n",
        "result"
      ],
      "execution_count": 246,
      "outputs": [
        {
          "output_type": "execute_result",
          "data": {
            "text/html": [
              "<div>\n",
              "<style scoped>\n",
              "    .dataframe tbody tr th:only-of-type {\n",
              "        vertical-align: middle;\n",
              "    }\n",
              "\n",
              "    .dataframe tbody tr th {\n",
              "        vertical-align: top;\n",
              "    }\n",
              "\n",
              "    .dataframe thead th {\n",
              "        text-align: right;\n",
              "    }\n",
              "</style>\n",
              "<table border=\"1\" class=\"dataframe\">\n",
              "  <thead>\n",
              "    <tr style=\"text-align: right;\">\n",
              "      <th></th>\n",
              "      <th>ename</th>\n",
              "      <th>comm</th>\n",
              "    </tr>\n",
              "  </thead>\n",
              "  <tbody>\n",
              "    <tr>\n",
              "      <th>0</th>\n",
              "      <td>KING</td>\n",
              "      <td>NaN</td>\n",
              "    </tr>\n",
              "    <tr>\n",
              "      <th>1</th>\n",
              "      <td>BLAKE</td>\n",
              "      <td>NaN</td>\n",
              "    </tr>\n",
              "    <tr>\n",
              "      <th>2</th>\n",
              "      <td>CLARK</td>\n",
              "      <td>NaN</td>\n",
              "    </tr>\n",
              "    <tr>\n",
              "      <th>3</th>\n",
              "      <td>JONES</td>\n",
              "      <td>NaN</td>\n",
              "    </tr>\n",
              "    <tr>\n",
              "      <th>4</th>\n",
              "      <td>MARTIN</td>\n",
              "      <td>1400.0</td>\n",
              "    </tr>\n",
              "    <tr>\n",
              "      <th>5</th>\n",
              "      <td>ALLEN</td>\n",
              "      <td>300.0</td>\n",
              "    </tr>\n",
              "    <tr>\n",
              "      <th>6</th>\n",
              "      <td>TURNER</td>\n",
              "      <td>0.0</td>\n",
              "    </tr>\n",
              "    <tr>\n",
              "      <th>7</th>\n",
              "      <td>JAMES</td>\n",
              "      <td>NaN</td>\n",
              "    </tr>\n",
              "    <tr>\n",
              "      <th>8</th>\n",
              "      <td>WARD</td>\n",
              "      <td>500.0</td>\n",
              "    </tr>\n",
              "    <tr>\n",
              "      <th>9</th>\n",
              "      <td>FORD</td>\n",
              "      <td>NaN</td>\n",
              "    </tr>\n",
              "    <tr>\n",
              "      <th>10</th>\n",
              "      <td>SMITH</td>\n",
              "      <td>NaN</td>\n",
              "    </tr>\n",
              "    <tr>\n",
              "      <th>11</th>\n",
              "      <td>SCOTT</td>\n",
              "      <td>NaN</td>\n",
              "    </tr>\n",
              "    <tr>\n",
              "      <th>12</th>\n",
              "      <td>ADAMS</td>\n",
              "      <td>NaN</td>\n",
              "    </tr>\n",
              "    <tr>\n",
              "      <th>13</th>\n",
              "      <td>MILLER</td>\n",
              "      <td>NaN</td>\n",
              "    </tr>\n",
              "  </tbody>\n",
              "</table>\n",
              "</div>"
            ],
            "text/plain": [
              "     ename    comm\n",
              "0     KING     NaN\n",
              "1    BLAKE     NaN\n",
              "2    CLARK     NaN\n",
              "3    JONES     NaN\n",
              "4   MARTIN  1400.0\n",
              "5    ALLEN   300.0\n",
              "6   TURNER     0.0\n",
              "7    JAMES     NaN\n",
              "8     WARD   500.0\n",
              "9     FORD     NaN\n",
              "10   SMITH     NaN\n",
              "11   SCOTT     NaN\n",
              "12   ADAMS     NaN\n",
              "13  MILLER     NaN"
            ]
          },
          "metadata": {
            "tags": []
          },
          "execution_count": 246
        }
      ]
    },
    {
      "cell_type": "markdown",
      "metadata": {
        "id": "p6EMRQ0e2MhX"
      },
      "source": [
        "문제240. 커미션이 결측치(NaN)인 사원들의 이름과 커미션을 출력하시오."
      ]
    },
    {
      "cell_type": "code",
      "metadata": {
        "colab": {
          "base_uri": "https://localhost:8080/",
          "height": 359
        },
        "id": "20R3KwZd2Qev",
        "outputId": "c5065290-502f-45c3-878e-696827a99895"
      },
      "source": [
        "import pandas as pd\n",
        "emp = pd.read_csv('emp3.csv')\n",
        "result = emp[['ename','comm']][emp['comm'].isnull()] # =='NaN' 이거 아니다 바보야\n",
        "result"
      ],
      "execution_count": 261,
      "outputs": [
        {
          "output_type": "execute_result",
          "data": {
            "text/html": [
              "<div>\n",
              "<style scoped>\n",
              "    .dataframe tbody tr th:only-of-type {\n",
              "        vertical-align: middle;\n",
              "    }\n",
              "\n",
              "    .dataframe tbody tr th {\n",
              "        vertical-align: top;\n",
              "    }\n",
              "\n",
              "    .dataframe thead th {\n",
              "        text-align: right;\n",
              "    }\n",
              "</style>\n",
              "<table border=\"1\" class=\"dataframe\">\n",
              "  <thead>\n",
              "    <tr style=\"text-align: right;\">\n",
              "      <th></th>\n",
              "      <th>ename</th>\n",
              "      <th>comm</th>\n",
              "    </tr>\n",
              "  </thead>\n",
              "  <tbody>\n",
              "    <tr>\n",
              "      <th>0</th>\n",
              "      <td>KING</td>\n",
              "      <td>NaN</td>\n",
              "    </tr>\n",
              "    <tr>\n",
              "      <th>1</th>\n",
              "      <td>BLAKE</td>\n",
              "      <td>NaN</td>\n",
              "    </tr>\n",
              "    <tr>\n",
              "      <th>2</th>\n",
              "      <td>CLARK</td>\n",
              "      <td>NaN</td>\n",
              "    </tr>\n",
              "    <tr>\n",
              "      <th>3</th>\n",
              "      <td>JONES</td>\n",
              "      <td>NaN</td>\n",
              "    </tr>\n",
              "    <tr>\n",
              "      <th>7</th>\n",
              "      <td>JAMES</td>\n",
              "      <td>NaN</td>\n",
              "    </tr>\n",
              "    <tr>\n",
              "      <th>9</th>\n",
              "      <td>FORD</td>\n",
              "      <td>NaN</td>\n",
              "    </tr>\n",
              "    <tr>\n",
              "      <th>10</th>\n",
              "      <td>SMITH</td>\n",
              "      <td>NaN</td>\n",
              "    </tr>\n",
              "    <tr>\n",
              "      <th>11</th>\n",
              "      <td>SCOTT</td>\n",
              "      <td>NaN</td>\n",
              "    </tr>\n",
              "    <tr>\n",
              "      <th>12</th>\n",
              "      <td>ADAMS</td>\n",
              "      <td>NaN</td>\n",
              "    </tr>\n",
              "    <tr>\n",
              "      <th>13</th>\n",
              "      <td>MILLER</td>\n",
              "      <td>NaN</td>\n",
              "    </tr>\n",
              "  </tbody>\n",
              "</table>\n",
              "</div>"
            ],
            "text/plain": [
              "     ename  comm\n",
              "0     KING   NaN\n",
              "1    BLAKE   NaN\n",
              "2    CLARK   NaN\n",
              "3    JONES   NaN\n",
              "7    JAMES   NaN\n",
              "9     FORD   NaN\n",
              "10   SMITH   NaN\n",
              "11   SCOTT   NaN\n",
              "12   ADAMS   NaN\n",
              "13  MILLER   NaN"
            ]
          },
          "metadata": {
            "tags": []
          },
          "execution_count": 261
        }
      ]
    },
    {
      "cell_type": "markdown",
      "metadata": {
        "id": "qFeXI__r2lwu"
      },
      "source": [
        "문제241. 커미션이 결측치(NaN)이 아닌 사람들의 이름과 커미션을 출력하시오."
      ]
    },
    {
      "cell_type": "code",
      "metadata": {
        "colab": {
          "base_uri": "https://localhost:8080/",
          "height": 173
        },
        "id": "hEZbahHp2qJb",
        "outputId": "f9e7e0b7-fabf-4629-b939-2b5ed2beddc1"
      },
      "source": [
        "import pandas as pd\n",
        "emp = pd.read_csv('emp3.csv')\n",
        "result = emp[['ename','comm']][~emp['comm'].isnull()]\n",
        "result"
      ],
      "execution_count": 255,
      "outputs": [
        {
          "output_type": "execute_result",
          "data": {
            "text/html": [
              "<div>\n",
              "<style scoped>\n",
              "    .dataframe tbody tr th:only-of-type {\n",
              "        vertical-align: middle;\n",
              "    }\n",
              "\n",
              "    .dataframe tbody tr th {\n",
              "        vertical-align: top;\n",
              "    }\n",
              "\n",
              "    .dataframe thead th {\n",
              "        text-align: right;\n",
              "    }\n",
              "</style>\n",
              "<table border=\"1\" class=\"dataframe\">\n",
              "  <thead>\n",
              "    <tr style=\"text-align: right;\">\n",
              "      <th></th>\n",
              "      <th>ename</th>\n",
              "      <th>comm</th>\n",
              "    </tr>\n",
              "  </thead>\n",
              "  <tbody>\n",
              "    <tr>\n",
              "      <th>4</th>\n",
              "      <td>MARTIN</td>\n",
              "      <td>1400.0</td>\n",
              "    </tr>\n",
              "    <tr>\n",
              "      <th>5</th>\n",
              "      <td>ALLEN</td>\n",
              "      <td>300.0</td>\n",
              "    </tr>\n",
              "    <tr>\n",
              "      <th>6</th>\n",
              "      <td>TURNER</td>\n",
              "      <td>0.0</td>\n",
              "    </tr>\n",
              "    <tr>\n",
              "      <th>8</th>\n",
              "      <td>WARD</td>\n",
              "      <td>500.0</td>\n",
              "    </tr>\n",
              "  </tbody>\n",
              "</table>\n",
              "</div>"
            ],
            "text/plain": [
              "    ename    comm\n",
              "4  MARTIN  1400.0\n",
              "5   ALLEN   300.0\n",
              "6  TURNER     0.0\n",
              "8    WARD   500.0"
            ]
          },
          "metadata": {
            "tags": []
          },
          "execution_count": 255
        }
      ]
    },
    {
      "cell_type": "markdown",
      "metadata": {
        "id": "zADF1P5d3RKl"
      },
      "source": [
        "* 데이터 받았으면 데이터 분석을 하기 전에 데이터 전처리를 해야하는데 전처리중에서 결측치 확인하는 단계가 있습니다.  \n",
        "\n",
        "문제242. emp3.csv에 결측치가 있는지 확인하는 방법?  \n",
        "\n"
      ]
    },
    {
      "cell_type": "code",
      "metadata": {
        "colab": {
          "base_uri": "https://localhost:8080/"
        },
        "id": "-fuZYzf-3kPY",
        "outputId": "8032cf7b-4120-4220-e814-294b79cd486c"
      },
      "source": [
        "print(emp.isnull().sum())"
      ],
      "execution_count": 262,
      "outputs": [
        {
          "output_type": "stream",
          "text": [
            "index        0\n",
            "empno        0\n",
            "ename        0\n",
            "job          0\n",
            "mgr          1\n",
            "hiredate     0\n",
            "sal          0\n",
            "comm        10\n",
            "deptno       0\n",
            "dtype: int64\n"
          ],
          "name": "stdout"
        }
      ]
    },
    {
      "cell_type": "markdown",
      "metadata": {
        "id": "mzOK6Xo_4CG_"
      },
      "source": [
        ".sum()을 하면 컬럼별로 결측치의 숫자가 나온다. 꼭 기억  \n",
        "\n",
        "설명: 결측치가 있으면 데이터 분석하기가 어렵고 머신러닝을 이용한 데이터 분석인 경우 좋은(정확도가 높은) 머신러닝 모델이 나오기가 어렵습니다. 결측치를 처리를 해줘야 합니다.  \n",
        "\n",
        "문제244. 타이타닉 데이터에 결측치가 어느 컬럼에 많은지 확인하시오."
      ]
    },
    {
      "cell_type": "code",
      "metadata": {
        "colab": {
          "base_uri": "https://localhost:8080/"
        },
        "id": "POtm6AEb5B1y",
        "outputId": "8645c23d-5a66-4f25-ab8c-71f3215625e7"
      },
      "source": [
        "#file = files.upload()\n",
        "titanic = pd.read_csv('train.csv')\n",
        "print(titanic.isnull().sum())"
      ],
      "execution_count": 266,
      "outputs": [
        {
          "output_type": "stream",
          "text": [
            "PassengerId      0\n",
            "Survived         0\n",
            "Pclass           0\n",
            "Name             0\n",
            "Sex              0\n",
            "Age            177\n",
            "SibSp            0\n",
            "Parch            0\n",
            "Ticket           0\n",
            "Fare             0\n",
            "Cabin          687\n",
            "Embarked         2\n",
            "dtype: int64\n"
          ],
          "name": "stdout"
        }
      ]
    },
    {
      "cell_type": "markdown",
      "metadata": {
        "id": "tN4QTnkB9Bo5"
      },
      "source": [
        "# 74. 판다스에서 파생변수 추가하는 방법\n",
        "\n",
        "파생변수란 기존의 데이터를 가지고 새롭게 가공해서 만든 새로운 컬럼입니다.  \n",
        "\n",
        "예제: 판다스에서 컬럼 추가하는 방법  \n",
        "\n",
        "emp 데이터 프레임에 sal의 데이터와 똑같은 데이터로 sal2라는 컬럼을 추가하려면?"
      ]
    },
    {
      "cell_type": "code",
      "metadata": {
        "colab": {
          "base_uri": "https://localhost:8080/"
        },
        "id": "clTkabMW9im4",
        "outputId": "ec033577-9bd5-42cb-b9c9-c82fd00a12c6"
      },
      "source": [
        "import pandas as pd\n",
        "\n",
        "emp = pd.read_csv('emp3.csv')\n",
        "emp['sal2'] = emp['sal']\n",
        "print(emp)"
      ],
      "execution_count": 267,
      "outputs": [
        {
          "output_type": "stream",
          "text": [
            "    index  empno   ename        job  ...   sal    comm  deptno  sal2\n",
            "0       1   7839    KING  PRESIDENT  ...  5000     NaN      10  5000\n",
            "1       2   7698   BLAKE    MANAGER  ...  2850     NaN      30  2850\n",
            "2       3   7782   CLARK    MANAGER  ...  2450     NaN      10  2450\n",
            "3       4   7566   JONES    MANAGER  ...  2975     NaN      20  2975\n",
            "4       5   7654  MARTIN   SALESMAN  ...  1250  1400.0      30  1250\n",
            "5       6   7499   ALLEN   SALESMAN  ...  1600   300.0      30  1600\n",
            "6       7   7844  TURNER   SALESMAN  ...  1500     0.0      30  1500\n",
            "7       8   7900   JAMES      CLERK  ...   950     NaN      30   950\n",
            "8       9   7521    WARD   SALESMAN  ...  1250   500.0      30  1250\n",
            "9      10   7902    FORD    ANALYST  ...  3000     NaN      20  3000\n",
            "10     11   7369   SMITH      CLERK  ...   800     NaN      20   800\n",
            "11     12   7788   SCOTT    ANALYST  ...  3000     NaN      20  3000\n",
            "12     13   7876   ADAMS      CLERK  ...  1100     NaN      20  1100\n",
            "13     14   7934  MILLER      CLERK  ...  1300     NaN      10  1300\n",
            "\n",
            "[14 rows x 10 columns]\n"
          ],
          "name": "stdout"
        }
      ]
    },
    {
      "cell_type": "markdown",
      "metadata": {
        "id": "aoNDRA4S9q2B"
      },
      "source": [
        "맨 끝에 sal2라는 컬럼이 생겼다.  \n",
        "\n",
        "문제245. 판다스를 이용해서 이름과 부서위치를 출력하시오.(emp3.csv와 dept3.csv를 이용하세요)"
      ]
    },
    {
      "cell_type": "code",
      "metadata": {
        "colab": {
          "base_uri": "https://localhost:8080/"
        },
        "id": "2mlwxAEi-NYY",
        "outputId": "f7e45f78-89d2-467b-fdfd-a0edd7daead2"
      },
      "source": [
        "emp = pd.read_csv('emp3.csv')\n",
        "dept = pd.read_csv('dept3.csv')\n",
        "result = pd.merge(emp, dept,how = 'inner', on = 'deptno')\n",
        "print(result[['ename','loc']])"
      ],
      "execution_count": 275,
      "outputs": [
        {
          "output_type": "stream",
          "text": [
            "     ename       loc\n",
            "0     KING  NEW YORK\n",
            "1    CLARK  NEW YORK\n",
            "2   MILLER  NEW YORK\n",
            "3    BLAKE   CHICAGO\n",
            "4   MARTIN   CHICAGO\n",
            "5    ALLEN   CHICAGO\n",
            "6   TURNER   CHICAGO\n",
            "7    JAMES   CHICAGO\n",
            "8     WARD   CHICAGO\n",
            "9    JONES    DALLAS\n",
            "10    FORD    DALLAS\n",
            "11   SMITH    DALLAS\n",
            "12   SCOTT    DALLAS\n",
            "13   ADAMS    DALLAS\n"
          ],
          "name": "stdout"
        }
      ]
    },
    {
      "cell_type": "markdown",
      "metadata": {
        "id": "Mlnja9sz-wPs"
      },
      "source": [
        "문제246. emp 데이터 프레임에 loc 컬럼을 추가하고 해당 사원의 부서위치로 값읋 갱신하시오!"
      ]
    },
    {
      "cell_type": "code",
      "metadata": {
        "colab": {
          "base_uri": "https://localhost:8080/",
          "height": 483
        },
        "id": "o3nPgEtP-6Ir",
        "outputId": "1979e544-8293-426d-cbc9-eb132649cbf3"
      },
      "source": [
        "emp = pd.read_csv('emp3.csv')\n",
        "dept = pd.read_csv('dept3.csv')\n",
        "emp['loc'] = result['loc']     # emp 데이터프레임에 loc 컬럼 추가하면서\n",
        "emp                            # result의 loc로 값을 갱신"
      ],
      "execution_count": 278,
      "outputs": [
        {
          "output_type": "execute_result",
          "data": {
            "text/html": [
              "<div>\n",
              "<style scoped>\n",
              "    .dataframe tbody tr th:only-of-type {\n",
              "        vertical-align: middle;\n",
              "    }\n",
              "\n",
              "    .dataframe tbody tr th {\n",
              "        vertical-align: top;\n",
              "    }\n",
              "\n",
              "    .dataframe thead th {\n",
              "        text-align: right;\n",
              "    }\n",
              "</style>\n",
              "<table border=\"1\" class=\"dataframe\">\n",
              "  <thead>\n",
              "    <tr style=\"text-align: right;\">\n",
              "      <th></th>\n",
              "      <th>index</th>\n",
              "      <th>empno</th>\n",
              "      <th>ename</th>\n",
              "      <th>job</th>\n",
              "      <th>mgr</th>\n",
              "      <th>hiredate</th>\n",
              "      <th>sal</th>\n",
              "      <th>comm</th>\n",
              "      <th>deptno</th>\n",
              "      <th>loc</th>\n",
              "    </tr>\n",
              "  </thead>\n",
              "  <tbody>\n",
              "    <tr>\n",
              "      <th>0</th>\n",
              "      <td>1</td>\n",
              "      <td>7839</td>\n",
              "      <td>KING</td>\n",
              "      <td>PRESIDENT</td>\n",
              "      <td>NaN</td>\n",
              "      <td>1981-11-17 0:00</td>\n",
              "      <td>5000</td>\n",
              "      <td>NaN</td>\n",
              "      <td>10</td>\n",
              "      <td>NEW YORK</td>\n",
              "    </tr>\n",
              "    <tr>\n",
              "      <th>1</th>\n",
              "      <td>2</td>\n",
              "      <td>7698</td>\n",
              "      <td>BLAKE</td>\n",
              "      <td>MANAGER</td>\n",
              "      <td>7839.0</td>\n",
              "      <td>1981-05-01 0:00</td>\n",
              "      <td>2850</td>\n",
              "      <td>NaN</td>\n",
              "      <td>30</td>\n",
              "      <td>NEW YORK</td>\n",
              "    </tr>\n",
              "    <tr>\n",
              "      <th>2</th>\n",
              "      <td>3</td>\n",
              "      <td>7782</td>\n",
              "      <td>CLARK</td>\n",
              "      <td>MANAGER</td>\n",
              "      <td>7839.0</td>\n",
              "      <td>1981-05-09 0:00</td>\n",
              "      <td>2450</td>\n",
              "      <td>NaN</td>\n",
              "      <td>10</td>\n",
              "      <td>NEW YORK</td>\n",
              "    </tr>\n",
              "    <tr>\n",
              "      <th>3</th>\n",
              "      <td>4</td>\n",
              "      <td>7566</td>\n",
              "      <td>JONES</td>\n",
              "      <td>MANAGER</td>\n",
              "      <td>7839.0</td>\n",
              "      <td>1981-04-01 0:00</td>\n",
              "      <td>2975</td>\n",
              "      <td>NaN</td>\n",
              "      <td>20</td>\n",
              "      <td>CHICAGO</td>\n",
              "    </tr>\n",
              "    <tr>\n",
              "      <th>4</th>\n",
              "      <td>5</td>\n",
              "      <td>7654</td>\n",
              "      <td>MARTIN</td>\n",
              "      <td>SALESMAN</td>\n",
              "      <td>7698.0</td>\n",
              "      <td>1981-09-10 0:00</td>\n",
              "      <td>1250</td>\n",
              "      <td>1400.0</td>\n",
              "      <td>30</td>\n",
              "      <td>CHICAGO</td>\n",
              "    </tr>\n",
              "    <tr>\n",
              "      <th>5</th>\n",
              "      <td>6</td>\n",
              "      <td>7499</td>\n",
              "      <td>ALLEN</td>\n",
              "      <td>SALESMAN</td>\n",
              "      <td>7698.0</td>\n",
              "      <td>1981-02-11 0:00</td>\n",
              "      <td>1600</td>\n",
              "      <td>300.0</td>\n",
              "      <td>30</td>\n",
              "      <td>CHICAGO</td>\n",
              "    </tr>\n",
              "    <tr>\n",
              "      <th>6</th>\n",
              "      <td>7</td>\n",
              "      <td>7844</td>\n",
              "      <td>TURNER</td>\n",
              "      <td>SALESMAN</td>\n",
              "      <td>7698.0</td>\n",
              "      <td>1981-08-21 0:00</td>\n",
              "      <td>1500</td>\n",
              "      <td>0.0</td>\n",
              "      <td>30</td>\n",
              "      <td>CHICAGO</td>\n",
              "    </tr>\n",
              "    <tr>\n",
              "      <th>7</th>\n",
              "      <td>8</td>\n",
              "      <td>7900</td>\n",
              "      <td>JAMES</td>\n",
              "      <td>CLERK</td>\n",
              "      <td>7698.0</td>\n",
              "      <td>1981-12-11 0:00</td>\n",
              "      <td>950</td>\n",
              "      <td>NaN</td>\n",
              "      <td>30</td>\n",
              "      <td>CHICAGO</td>\n",
              "    </tr>\n",
              "    <tr>\n",
              "      <th>8</th>\n",
              "      <td>9</td>\n",
              "      <td>7521</td>\n",
              "      <td>WARD</td>\n",
              "      <td>SALESMAN</td>\n",
              "      <td>7698.0</td>\n",
              "      <td>1981-02-23 0:00</td>\n",
              "      <td>1250</td>\n",
              "      <td>500.0</td>\n",
              "      <td>30</td>\n",
              "      <td>CHICAGO</td>\n",
              "    </tr>\n",
              "    <tr>\n",
              "      <th>9</th>\n",
              "      <td>10</td>\n",
              "      <td>7902</td>\n",
              "      <td>FORD</td>\n",
              "      <td>ANALYST</td>\n",
              "      <td>7566.0</td>\n",
              "      <td>1981-12-11 0:00</td>\n",
              "      <td>3000</td>\n",
              "      <td>NaN</td>\n",
              "      <td>20</td>\n",
              "      <td>DALLAS</td>\n",
              "    </tr>\n",
              "    <tr>\n",
              "      <th>10</th>\n",
              "      <td>11</td>\n",
              "      <td>7369</td>\n",
              "      <td>SMITH</td>\n",
              "      <td>CLERK</td>\n",
              "      <td>7902.0</td>\n",
              "      <td>1980-12-09 0:00</td>\n",
              "      <td>800</td>\n",
              "      <td>NaN</td>\n",
              "      <td>20</td>\n",
              "      <td>DALLAS</td>\n",
              "    </tr>\n",
              "    <tr>\n",
              "      <th>11</th>\n",
              "      <td>12</td>\n",
              "      <td>7788</td>\n",
              "      <td>SCOTT</td>\n",
              "      <td>ANALYST</td>\n",
              "      <td>7566.0</td>\n",
              "      <td>1982-12-22 0:00</td>\n",
              "      <td>3000</td>\n",
              "      <td>NaN</td>\n",
              "      <td>20</td>\n",
              "      <td>DALLAS</td>\n",
              "    </tr>\n",
              "    <tr>\n",
              "      <th>12</th>\n",
              "      <td>13</td>\n",
              "      <td>7876</td>\n",
              "      <td>ADAMS</td>\n",
              "      <td>CLERK</td>\n",
              "      <td>7788.0</td>\n",
              "      <td>1983-01-15 0:00</td>\n",
              "      <td>1100</td>\n",
              "      <td>NaN</td>\n",
              "      <td>20</td>\n",
              "      <td>DALLAS</td>\n",
              "    </tr>\n",
              "    <tr>\n",
              "      <th>13</th>\n",
              "      <td>14</td>\n",
              "      <td>7934</td>\n",
              "      <td>MILLER</td>\n",
              "      <td>CLERK</td>\n",
              "      <td>7782.0</td>\n",
              "      <td>1982-01-11 0:00</td>\n",
              "      <td>1300</td>\n",
              "      <td>NaN</td>\n",
              "      <td>10</td>\n",
              "      <td>DALLAS</td>\n",
              "    </tr>\n",
              "  </tbody>\n",
              "</table>\n",
              "</div>"
            ],
            "text/plain": [
              "    index  empno   ename        job  ...   sal    comm  deptno       loc\n",
              "0       1   7839    KING  PRESIDENT  ...  5000     NaN      10  NEW YORK\n",
              "1       2   7698   BLAKE    MANAGER  ...  2850     NaN      30  NEW YORK\n",
              "2       3   7782   CLARK    MANAGER  ...  2450     NaN      10  NEW YORK\n",
              "3       4   7566   JONES    MANAGER  ...  2975     NaN      20   CHICAGO\n",
              "4       5   7654  MARTIN   SALESMAN  ...  1250  1400.0      30   CHICAGO\n",
              "5       6   7499   ALLEN   SALESMAN  ...  1600   300.0      30   CHICAGO\n",
              "6       7   7844  TURNER   SALESMAN  ...  1500     0.0      30   CHICAGO\n",
              "7       8   7900   JAMES      CLERK  ...   950     NaN      30   CHICAGO\n",
              "8       9   7521    WARD   SALESMAN  ...  1250   500.0      30   CHICAGO\n",
              "9      10   7902    FORD    ANALYST  ...  3000     NaN      20    DALLAS\n",
              "10     11   7369   SMITH      CLERK  ...   800     NaN      20    DALLAS\n",
              "11     12   7788   SCOTT    ANALYST  ...  3000     NaN      20    DALLAS\n",
              "12     13   7876   ADAMS      CLERK  ...  1100     NaN      20    DALLAS\n",
              "13     14   7934  MILLER      CLERK  ...  1300     NaN      10    DALLAS\n",
              "\n",
              "[14 rows x 10 columns]"
            ]
          },
          "metadata": {
            "tags": []
          },
          "execution_count": 278
        }
      ]
    },
    {
      "cell_type": "markdown",
      "metadata": {
        "id": "UxN3fVlI_q6F"
      },
      "source": [
        "설명: 파생변수를 왜 추가를 할까?  \n",
        "emp 테이블에서 퇴사할 것 같은 사원이 누구인지 예측하시오. 머신러닝 이용해서 예측을 하면 됩니다.  \n",
        "머신러닝이 예측을 잘하려면 좋은 데이터를 주고 학습시켜야 합니다.  \n",
        "자기의 월급이 자기가 속한 직업의 평균월급보다 더 작은 월급을 받는 사원이면 퇴사할 가능성 높다.  \n",
        "직업별 평균월급이 emp 데이터 프레임에 추가 되어 있으면 머신러닝이 예측하기 좋은 데이터가 추가가 된 것 입니다.  \n",
        "\n",
        "문제247. 직업, 직업별 평균월급을 판다스로 출력하시오!"
      ]
    },
    {
      "cell_type": "code",
      "metadata": {
        "colab": {
          "base_uri": "https://localhost:8080/"
        },
        "id": "z5HEUfI0BHmR",
        "outputId": "b52832c9-6ed1-4c0c-9a68-87be3409e546"
      },
      "source": [
        "emp = pd.read_csv('emp3.csv')\n",
        "result = emp.groupby('job')['sal'].mean().reset_index()\n",
        "result['sal'] = result['sal'].astype(int)\n",
        "print(result)\n"
      ],
      "execution_count": 296,
      "outputs": [
        {
          "output_type": "stream",
          "text": [
            "         job   sal\n",
            "0    ANALYST  3000\n",
            "1      CLERK  1037\n",
            "2    MANAGER  2758\n",
            "3  PRESIDENT  5000\n",
            "4   SALESMAN  1400\n"
          ],
          "name": "stdout"
        }
      ]
    },
    {
      "cell_type": "markdown",
      "metadata": {
        "id": "I6s_F_wPCJs8"
      },
      "source": [
        "오오 된다된다. 한꺼번에는 정수형으로 바꿀 수 없기 때문에 컬럼별로 정수형으로 바꿔준다.  \n",
        "\n",
        "문제248. emp와 result를 서로 조인해서 조인된 전체 데이터 프레임을 출력하시오."
      ]
    },
    {
      "cell_type": "code",
      "metadata": {
        "colab": {
          "base_uri": "https://localhost:8080/",
          "height": 483
        },
        "id": "WPViUaXgC5Wu",
        "outputId": "54680536-a1c2-4bdb-d4cf-f4bc9f0f782b"
      },
      "source": [
        "result2 = pd.merge(emp,result,how = 'inner',on = 'job')\n",
        "result2"
      ],
      "execution_count": 300,
      "outputs": [
        {
          "output_type": "execute_result",
          "data": {
            "text/html": [
              "<div>\n",
              "<style scoped>\n",
              "    .dataframe tbody tr th:only-of-type {\n",
              "        vertical-align: middle;\n",
              "    }\n",
              "\n",
              "    .dataframe tbody tr th {\n",
              "        vertical-align: top;\n",
              "    }\n",
              "\n",
              "    .dataframe thead th {\n",
              "        text-align: right;\n",
              "    }\n",
              "</style>\n",
              "<table border=\"1\" class=\"dataframe\">\n",
              "  <thead>\n",
              "    <tr style=\"text-align: right;\">\n",
              "      <th></th>\n",
              "      <th>index</th>\n",
              "      <th>empno</th>\n",
              "      <th>ename</th>\n",
              "      <th>job</th>\n",
              "      <th>mgr</th>\n",
              "      <th>hiredate</th>\n",
              "      <th>sal_x</th>\n",
              "      <th>comm</th>\n",
              "      <th>deptno</th>\n",
              "      <th>sal_y</th>\n",
              "    </tr>\n",
              "  </thead>\n",
              "  <tbody>\n",
              "    <tr>\n",
              "      <th>0</th>\n",
              "      <td>1</td>\n",
              "      <td>7839</td>\n",
              "      <td>KING</td>\n",
              "      <td>PRESIDENT</td>\n",
              "      <td>NaN</td>\n",
              "      <td>1981-11-17 0:00</td>\n",
              "      <td>5000</td>\n",
              "      <td>NaN</td>\n",
              "      <td>10</td>\n",
              "      <td>5000</td>\n",
              "    </tr>\n",
              "    <tr>\n",
              "      <th>1</th>\n",
              "      <td>2</td>\n",
              "      <td>7698</td>\n",
              "      <td>BLAKE</td>\n",
              "      <td>MANAGER</td>\n",
              "      <td>7839.0</td>\n",
              "      <td>1981-05-01 0:00</td>\n",
              "      <td>2850</td>\n",
              "      <td>NaN</td>\n",
              "      <td>30</td>\n",
              "      <td>2758</td>\n",
              "    </tr>\n",
              "    <tr>\n",
              "      <th>2</th>\n",
              "      <td>3</td>\n",
              "      <td>7782</td>\n",
              "      <td>CLARK</td>\n",
              "      <td>MANAGER</td>\n",
              "      <td>7839.0</td>\n",
              "      <td>1981-05-09 0:00</td>\n",
              "      <td>2450</td>\n",
              "      <td>NaN</td>\n",
              "      <td>10</td>\n",
              "      <td>2758</td>\n",
              "    </tr>\n",
              "    <tr>\n",
              "      <th>3</th>\n",
              "      <td>4</td>\n",
              "      <td>7566</td>\n",
              "      <td>JONES</td>\n",
              "      <td>MANAGER</td>\n",
              "      <td>7839.0</td>\n",
              "      <td>1981-04-01 0:00</td>\n",
              "      <td>2975</td>\n",
              "      <td>NaN</td>\n",
              "      <td>20</td>\n",
              "      <td>2758</td>\n",
              "    </tr>\n",
              "    <tr>\n",
              "      <th>4</th>\n",
              "      <td>5</td>\n",
              "      <td>7654</td>\n",
              "      <td>MARTIN</td>\n",
              "      <td>SALESMAN</td>\n",
              "      <td>7698.0</td>\n",
              "      <td>1981-09-10 0:00</td>\n",
              "      <td>1250</td>\n",
              "      <td>1400.0</td>\n",
              "      <td>30</td>\n",
              "      <td>1400</td>\n",
              "    </tr>\n",
              "    <tr>\n",
              "      <th>5</th>\n",
              "      <td>6</td>\n",
              "      <td>7499</td>\n",
              "      <td>ALLEN</td>\n",
              "      <td>SALESMAN</td>\n",
              "      <td>7698.0</td>\n",
              "      <td>1981-02-11 0:00</td>\n",
              "      <td>1600</td>\n",
              "      <td>300.0</td>\n",
              "      <td>30</td>\n",
              "      <td>1400</td>\n",
              "    </tr>\n",
              "    <tr>\n",
              "      <th>6</th>\n",
              "      <td>7</td>\n",
              "      <td>7844</td>\n",
              "      <td>TURNER</td>\n",
              "      <td>SALESMAN</td>\n",
              "      <td>7698.0</td>\n",
              "      <td>1981-08-21 0:00</td>\n",
              "      <td>1500</td>\n",
              "      <td>0.0</td>\n",
              "      <td>30</td>\n",
              "      <td>1400</td>\n",
              "    </tr>\n",
              "    <tr>\n",
              "      <th>7</th>\n",
              "      <td>9</td>\n",
              "      <td>7521</td>\n",
              "      <td>WARD</td>\n",
              "      <td>SALESMAN</td>\n",
              "      <td>7698.0</td>\n",
              "      <td>1981-02-23 0:00</td>\n",
              "      <td>1250</td>\n",
              "      <td>500.0</td>\n",
              "      <td>30</td>\n",
              "      <td>1400</td>\n",
              "    </tr>\n",
              "    <tr>\n",
              "      <th>8</th>\n",
              "      <td>8</td>\n",
              "      <td>7900</td>\n",
              "      <td>JAMES</td>\n",
              "      <td>CLERK</td>\n",
              "      <td>7698.0</td>\n",
              "      <td>1981-12-11 0:00</td>\n",
              "      <td>950</td>\n",
              "      <td>NaN</td>\n",
              "      <td>30</td>\n",
              "      <td>1037</td>\n",
              "    </tr>\n",
              "    <tr>\n",
              "      <th>9</th>\n",
              "      <td>11</td>\n",
              "      <td>7369</td>\n",
              "      <td>SMITH</td>\n",
              "      <td>CLERK</td>\n",
              "      <td>7902.0</td>\n",
              "      <td>1980-12-09 0:00</td>\n",
              "      <td>800</td>\n",
              "      <td>NaN</td>\n",
              "      <td>20</td>\n",
              "      <td>1037</td>\n",
              "    </tr>\n",
              "    <tr>\n",
              "      <th>10</th>\n",
              "      <td>13</td>\n",
              "      <td>7876</td>\n",
              "      <td>ADAMS</td>\n",
              "      <td>CLERK</td>\n",
              "      <td>7788.0</td>\n",
              "      <td>1983-01-15 0:00</td>\n",
              "      <td>1100</td>\n",
              "      <td>NaN</td>\n",
              "      <td>20</td>\n",
              "      <td>1037</td>\n",
              "    </tr>\n",
              "    <tr>\n",
              "      <th>11</th>\n",
              "      <td>14</td>\n",
              "      <td>7934</td>\n",
              "      <td>MILLER</td>\n",
              "      <td>CLERK</td>\n",
              "      <td>7782.0</td>\n",
              "      <td>1982-01-11 0:00</td>\n",
              "      <td>1300</td>\n",
              "      <td>NaN</td>\n",
              "      <td>10</td>\n",
              "      <td>1037</td>\n",
              "    </tr>\n",
              "    <tr>\n",
              "      <th>12</th>\n",
              "      <td>10</td>\n",
              "      <td>7902</td>\n",
              "      <td>FORD</td>\n",
              "      <td>ANALYST</td>\n",
              "      <td>7566.0</td>\n",
              "      <td>1981-12-11 0:00</td>\n",
              "      <td>3000</td>\n",
              "      <td>NaN</td>\n",
              "      <td>20</td>\n",
              "      <td>3000</td>\n",
              "    </tr>\n",
              "    <tr>\n",
              "      <th>13</th>\n",
              "      <td>12</td>\n",
              "      <td>7788</td>\n",
              "      <td>SCOTT</td>\n",
              "      <td>ANALYST</td>\n",
              "      <td>7566.0</td>\n",
              "      <td>1982-12-22 0:00</td>\n",
              "      <td>3000</td>\n",
              "      <td>NaN</td>\n",
              "      <td>20</td>\n",
              "      <td>3000</td>\n",
              "    </tr>\n",
              "  </tbody>\n",
              "</table>\n",
              "</div>"
            ],
            "text/plain": [
              "    index  empno   ename        job  ...  sal_x    comm  deptno  sal_y\n",
              "0       1   7839    KING  PRESIDENT  ...   5000     NaN      10   5000\n",
              "1       2   7698   BLAKE    MANAGER  ...   2850     NaN      30   2758\n",
              "2       3   7782   CLARK    MANAGER  ...   2450     NaN      10   2758\n",
              "3       4   7566   JONES    MANAGER  ...   2975     NaN      20   2758\n",
              "4       5   7654  MARTIN   SALESMAN  ...   1250  1400.0      30   1400\n",
              "5       6   7499   ALLEN   SALESMAN  ...   1600   300.0      30   1400\n",
              "6       7   7844  TURNER   SALESMAN  ...   1500     0.0      30   1400\n",
              "7       9   7521    WARD   SALESMAN  ...   1250   500.0      30   1400\n",
              "8       8   7900   JAMES      CLERK  ...    950     NaN      30   1037\n",
              "9      11   7369   SMITH      CLERK  ...    800     NaN      20   1037\n",
              "10     13   7876   ADAMS      CLERK  ...   1100     NaN      20   1037\n",
              "11     14   7934  MILLER      CLERK  ...   1300     NaN      10   1037\n",
              "12     10   7902    FORD    ANALYST  ...   3000     NaN      20   3000\n",
              "13     12   7788   SCOTT    ANALYST  ...   3000     NaN      20   3000\n",
              "\n",
              "[14 rows x 10 columns]"
            ]
          },
          "metadata": {
            "tags": []
          },
          "execution_count": 300
        }
      ]
    },
    {
      "cell_type": "markdown",
      "metadata": {
        "id": "Rl7beKMDDf4q"
      },
      "source": [
        "설명: emp에도 sal이 있고 result에도 sal이 있어서 emp의 sal은 컬럼명이 sal_x로 변경되었고 result의 sal은 sal_y로 변경되었습니다.  \n",
        "\n",
        "문제249. emp 데이터 프레임에 컬럼을 하나 추가하는데 job_avgsal로 추가하고 문제 248번에서 구한 직업별 평균 월급인 result2['sal_y']의 값으로 값을 갱신하시오."
      ]
    },
    {
      "cell_type": "code",
      "metadata": {
        "colab": {
          "base_uri": "https://localhost:8080/",
          "height": 483
        },
        "id": "h-QwiE44EFu5",
        "outputId": "803d8e78-221a-4156-83b9-ebd21b329ca8"
      },
      "source": [
        "emp['job_avgsal'] = result2['sal_y']\n",
        "emp"
      ],
      "execution_count": 303,
      "outputs": [
        {
          "output_type": "execute_result",
          "data": {
            "text/html": [
              "<div>\n",
              "<style scoped>\n",
              "    .dataframe tbody tr th:only-of-type {\n",
              "        vertical-align: middle;\n",
              "    }\n",
              "\n",
              "    .dataframe tbody tr th {\n",
              "        vertical-align: top;\n",
              "    }\n",
              "\n",
              "    .dataframe thead th {\n",
              "        text-align: right;\n",
              "    }\n",
              "</style>\n",
              "<table border=\"1\" class=\"dataframe\">\n",
              "  <thead>\n",
              "    <tr style=\"text-align: right;\">\n",
              "      <th></th>\n",
              "      <th>index</th>\n",
              "      <th>empno</th>\n",
              "      <th>ename</th>\n",
              "      <th>job</th>\n",
              "      <th>mgr</th>\n",
              "      <th>hiredate</th>\n",
              "      <th>sal</th>\n",
              "      <th>comm</th>\n",
              "      <th>deptno</th>\n",
              "      <th>job_avgsal</th>\n",
              "    </tr>\n",
              "  </thead>\n",
              "  <tbody>\n",
              "    <tr>\n",
              "      <th>0</th>\n",
              "      <td>1</td>\n",
              "      <td>7839</td>\n",
              "      <td>KING</td>\n",
              "      <td>PRESIDENT</td>\n",
              "      <td>NaN</td>\n",
              "      <td>1981-11-17 0:00</td>\n",
              "      <td>5000</td>\n",
              "      <td>NaN</td>\n",
              "      <td>10</td>\n",
              "      <td>5000</td>\n",
              "    </tr>\n",
              "    <tr>\n",
              "      <th>1</th>\n",
              "      <td>2</td>\n",
              "      <td>7698</td>\n",
              "      <td>BLAKE</td>\n",
              "      <td>MANAGER</td>\n",
              "      <td>7839.0</td>\n",
              "      <td>1981-05-01 0:00</td>\n",
              "      <td>2850</td>\n",
              "      <td>NaN</td>\n",
              "      <td>30</td>\n",
              "      <td>2758</td>\n",
              "    </tr>\n",
              "    <tr>\n",
              "      <th>2</th>\n",
              "      <td>3</td>\n",
              "      <td>7782</td>\n",
              "      <td>CLARK</td>\n",
              "      <td>MANAGER</td>\n",
              "      <td>7839.0</td>\n",
              "      <td>1981-05-09 0:00</td>\n",
              "      <td>2450</td>\n",
              "      <td>NaN</td>\n",
              "      <td>10</td>\n",
              "      <td>2758</td>\n",
              "    </tr>\n",
              "    <tr>\n",
              "      <th>3</th>\n",
              "      <td>4</td>\n",
              "      <td>7566</td>\n",
              "      <td>JONES</td>\n",
              "      <td>MANAGER</td>\n",
              "      <td>7839.0</td>\n",
              "      <td>1981-04-01 0:00</td>\n",
              "      <td>2975</td>\n",
              "      <td>NaN</td>\n",
              "      <td>20</td>\n",
              "      <td>2758</td>\n",
              "    </tr>\n",
              "    <tr>\n",
              "      <th>4</th>\n",
              "      <td>5</td>\n",
              "      <td>7654</td>\n",
              "      <td>MARTIN</td>\n",
              "      <td>SALESMAN</td>\n",
              "      <td>7698.0</td>\n",
              "      <td>1981-09-10 0:00</td>\n",
              "      <td>1250</td>\n",
              "      <td>1400.0</td>\n",
              "      <td>30</td>\n",
              "      <td>1400</td>\n",
              "    </tr>\n",
              "    <tr>\n",
              "      <th>5</th>\n",
              "      <td>6</td>\n",
              "      <td>7499</td>\n",
              "      <td>ALLEN</td>\n",
              "      <td>SALESMAN</td>\n",
              "      <td>7698.0</td>\n",
              "      <td>1981-02-11 0:00</td>\n",
              "      <td>1600</td>\n",
              "      <td>300.0</td>\n",
              "      <td>30</td>\n",
              "      <td>1400</td>\n",
              "    </tr>\n",
              "    <tr>\n",
              "      <th>6</th>\n",
              "      <td>7</td>\n",
              "      <td>7844</td>\n",
              "      <td>TURNER</td>\n",
              "      <td>SALESMAN</td>\n",
              "      <td>7698.0</td>\n",
              "      <td>1981-08-21 0:00</td>\n",
              "      <td>1500</td>\n",
              "      <td>0.0</td>\n",
              "      <td>30</td>\n",
              "      <td>1400</td>\n",
              "    </tr>\n",
              "    <tr>\n",
              "      <th>7</th>\n",
              "      <td>8</td>\n",
              "      <td>7900</td>\n",
              "      <td>JAMES</td>\n",
              "      <td>CLERK</td>\n",
              "      <td>7698.0</td>\n",
              "      <td>1981-12-11 0:00</td>\n",
              "      <td>950</td>\n",
              "      <td>NaN</td>\n",
              "      <td>30</td>\n",
              "      <td>1400</td>\n",
              "    </tr>\n",
              "    <tr>\n",
              "      <th>8</th>\n",
              "      <td>9</td>\n",
              "      <td>7521</td>\n",
              "      <td>WARD</td>\n",
              "      <td>SALESMAN</td>\n",
              "      <td>7698.0</td>\n",
              "      <td>1981-02-23 0:00</td>\n",
              "      <td>1250</td>\n",
              "      <td>500.0</td>\n",
              "      <td>30</td>\n",
              "      <td>1037</td>\n",
              "    </tr>\n",
              "    <tr>\n",
              "      <th>9</th>\n",
              "      <td>10</td>\n",
              "      <td>7902</td>\n",
              "      <td>FORD</td>\n",
              "      <td>ANALYST</td>\n",
              "      <td>7566.0</td>\n",
              "      <td>1981-12-11 0:00</td>\n",
              "      <td>3000</td>\n",
              "      <td>NaN</td>\n",
              "      <td>20</td>\n",
              "      <td>1037</td>\n",
              "    </tr>\n",
              "    <tr>\n",
              "      <th>10</th>\n",
              "      <td>11</td>\n",
              "      <td>7369</td>\n",
              "      <td>SMITH</td>\n",
              "      <td>CLERK</td>\n",
              "      <td>7902.0</td>\n",
              "      <td>1980-12-09 0:00</td>\n",
              "      <td>800</td>\n",
              "      <td>NaN</td>\n",
              "      <td>20</td>\n",
              "      <td>1037</td>\n",
              "    </tr>\n",
              "    <tr>\n",
              "      <th>11</th>\n",
              "      <td>12</td>\n",
              "      <td>7788</td>\n",
              "      <td>SCOTT</td>\n",
              "      <td>ANALYST</td>\n",
              "      <td>7566.0</td>\n",
              "      <td>1982-12-22 0:00</td>\n",
              "      <td>3000</td>\n",
              "      <td>NaN</td>\n",
              "      <td>20</td>\n",
              "      <td>1037</td>\n",
              "    </tr>\n",
              "    <tr>\n",
              "      <th>12</th>\n",
              "      <td>13</td>\n",
              "      <td>7876</td>\n",
              "      <td>ADAMS</td>\n",
              "      <td>CLERK</td>\n",
              "      <td>7788.0</td>\n",
              "      <td>1983-01-15 0:00</td>\n",
              "      <td>1100</td>\n",
              "      <td>NaN</td>\n",
              "      <td>20</td>\n",
              "      <td>3000</td>\n",
              "    </tr>\n",
              "    <tr>\n",
              "      <th>13</th>\n",
              "      <td>14</td>\n",
              "      <td>7934</td>\n",
              "      <td>MILLER</td>\n",
              "      <td>CLERK</td>\n",
              "      <td>7782.0</td>\n",
              "      <td>1982-01-11 0:00</td>\n",
              "      <td>1300</td>\n",
              "      <td>NaN</td>\n",
              "      <td>10</td>\n",
              "      <td>3000</td>\n",
              "    </tr>\n",
              "  </tbody>\n",
              "</table>\n",
              "</div>"
            ],
            "text/plain": [
              "    index  empno   ename        job  ...   sal    comm  deptno  job_avgsal\n",
              "0       1   7839    KING  PRESIDENT  ...  5000     NaN      10        5000\n",
              "1       2   7698   BLAKE    MANAGER  ...  2850     NaN      30        2758\n",
              "2       3   7782   CLARK    MANAGER  ...  2450     NaN      10        2758\n",
              "3       4   7566   JONES    MANAGER  ...  2975     NaN      20        2758\n",
              "4       5   7654  MARTIN   SALESMAN  ...  1250  1400.0      30        1400\n",
              "5       6   7499   ALLEN   SALESMAN  ...  1600   300.0      30        1400\n",
              "6       7   7844  TURNER   SALESMAN  ...  1500     0.0      30        1400\n",
              "7       8   7900   JAMES      CLERK  ...   950     NaN      30        1400\n",
              "8       9   7521    WARD   SALESMAN  ...  1250   500.0      30        1037\n",
              "9      10   7902    FORD    ANALYST  ...  3000     NaN      20        1037\n",
              "10     11   7369   SMITH      CLERK  ...   800     NaN      20        1037\n",
              "11     12   7788   SCOTT    ANALYST  ...  3000     NaN      20        1037\n",
              "12     13   7876   ADAMS      CLERK  ...  1100     NaN      20        3000\n",
              "13     14   7934  MILLER      CLERK  ...  1300     NaN      10        3000\n",
              "\n",
              "[14 rows x 10 columns]"
            ]
          },
          "metadata": {
            "tags": []
          },
          "execution_count": 303
        }
      ]
    },
    {
      "cell_type": "markdown",
      "metadata": {
        "id": "QbycBX2REpET"
      },
      "source": [
        "설명: 현업에서 머신러닝 데이터 분석가들이 하는 일 중 상당수가 바로 이런 파생변수를 추가하는 작업입니다. 좋은 파생변수를 추가해야 머신러닝이 예측을 잘 할 수 있습니다.  \n",
        "게임회사에서 어떻게 응용하냐면 그 게임을 탈퇴할 것 같은 유저를 머신러닝으로 찾아서 형평성에 어긋나지 않도록 하면서 그 유저가 인식하지 못하도록 조용히 혜택을 줍니다."
      ]
    },
    {
      "cell_type": "markdown",
      "metadata": {
        "id": "p06MnYgSFSLY"
      },
      "source": [
        "문제250. emp 데이터 프레임에 해당 사원이 근무하는 부서번호의 평균월급을 sal_avg라는 이름으로 파생변수를 생성하시오."
      ]
    },
    {
      "cell_type": "code",
      "metadata": {
        "colab": {
          "base_uri": "https://localhost:8080/",
          "height": 483
        },
        "id": "pdrfKPO8FZ6L",
        "outputId": "2948d6a7-67f0-4759-c511-0f0cf7af87f0"
      },
      "source": [
        "emp = pd.read_csv('emp3.csv')\n",
        "result = emp.groupby('deptno')['sal'].mean().reset_index()\n",
        "result2 = pd.merge(emp,result,how='inner',on='deptno')\n",
        "emp['sal_avg'] = result2['sal_y']\n",
        "emp"
      ],
      "execution_count": 338,
      "outputs": [
        {
          "output_type": "execute_result",
          "data": {
            "text/html": [
              "<div>\n",
              "<style scoped>\n",
              "    .dataframe tbody tr th:only-of-type {\n",
              "        vertical-align: middle;\n",
              "    }\n",
              "\n",
              "    .dataframe tbody tr th {\n",
              "        vertical-align: top;\n",
              "    }\n",
              "\n",
              "    .dataframe thead th {\n",
              "        text-align: right;\n",
              "    }\n",
              "</style>\n",
              "<table border=\"1\" class=\"dataframe\">\n",
              "  <thead>\n",
              "    <tr style=\"text-align: right;\">\n",
              "      <th></th>\n",
              "      <th>index</th>\n",
              "      <th>empno</th>\n",
              "      <th>ename</th>\n",
              "      <th>job</th>\n",
              "      <th>mgr</th>\n",
              "      <th>hiredate</th>\n",
              "      <th>sal</th>\n",
              "      <th>comm</th>\n",
              "      <th>deptno</th>\n",
              "      <th>sal_avg</th>\n",
              "    </tr>\n",
              "  </thead>\n",
              "  <tbody>\n",
              "    <tr>\n",
              "      <th>0</th>\n",
              "      <td>1</td>\n",
              "      <td>7839</td>\n",
              "      <td>KING</td>\n",
              "      <td>PRESIDENT</td>\n",
              "      <td>NaN</td>\n",
              "      <td>1981-11-17 0:00</td>\n",
              "      <td>5000</td>\n",
              "      <td>NaN</td>\n",
              "      <td>10</td>\n",
              "      <td>2916.666667</td>\n",
              "    </tr>\n",
              "    <tr>\n",
              "      <th>1</th>\n",
              "      <td>2</td>\n",
              "      <td>7698</td>\n",
              "      <td>BLAKE</td>\n",
              "      <td>MANAGER</td>\n",
              "      <td>7839.0</td>\n",
              "      <td>1981-05-01 0:00</td>\n",
              "      <td>2850</td>\n",
              "      <td>NaN</td>\n",
              "      <td>30</td>\n",
              "      <td>2916.666667</td>\n",
              "    </tr>\n",
              "    <tr>\n",
              "      <th>2</th>\n",
              "      <td>3</td>\n",
              "      <td>7782</td>\n",
              "      <td>CLARK</td>\n",
              "      <td>MANAGER</td>\n",
              "      <td>7839.0</td>\n",
              "      <td>1981-05-09 0:00</td>\n",
              "      <td>2450</td>\n",
              "      <td>NaN</td>\n",
              "      <td>10</td>\n",
              "      <td>2916.666667</td>\n",
              "    </tr>\n",
              "    <tr>\n",
              "      <th>3</th>\n",
              "      <td>4</td>\n",
              "      <td>7566</td>\n",
              "      <td>JONES</td>\n",
              "      <td>MANAGER</td>\n",
              "      <td>7839.0</td>\n",
              "      <td>1981-04-01 0:00</td>\n",
              "      <td>2975</td>\n",
              "      <td>NaN</td>\n",
              "      <td>20</td>\n",
              "      <td>1566.666667</td>\n",
              "    </tr>\n",
              "    <tr>\n",
              "      <th>4</th>\n",
              "      <td>5</td>\n",
              "      <td>7654</td>\n",
              "      <td>MARTIN</td>\n",
              "      <td>SALESMAN</td>\n",
              "      <td>7698.0</td>\n",
              "      <td>1981-09-10 0:00</td>\n",
              "      <td>1250</td>\n",
              "      <td>1400.0</td>\n",
              "      <td>30</td>\n",
              "      <td>1566.666667</td>\n",
              "    </tr>\n",
              "    <tr>\n",
              "      <th>5</th>\n",
              "      <td>6</td>\n",
              "      <td>7499</td>\n",
              "      <td>ALLEN</td>\n",
              "      <td>SALESMAN</td>\n",
              "      <td>7698.0</td>\n",
              "      <td>1981-02-11 0:00</td>\n",
              "      <td>1600</td>\n",
              "      <td>300.0</td>\n",
              "      <td>30</td>\n",
              "      <td>1566.666667</td>\n",
              "    </tr>\n",
              "    <tr>\n",
              "      <th>6</th>\n",
              "      <td>7</td>\n",
              "      <td>7844</td>\n",
              "      <td>TURNER</td>\n",
              "      <td>SALESMAN</td>\n",
              "      <td>7698.0</td>\n",
              "      <td>1981-08-21 0:00</td>\n",
              "      <td>1500</td>\n",
              "      <td>0.0</td>\n",
              "      <td>30</td>\n",
              "      <td>1566.666667</td>\n",
              "    </tr>\n",
              "    <tr>\n",
              "      <th>7</th>\n",
              "      <td>8</td>\n",
              "      <td>7900</td>\n",
              "      <td>JAMES</td>\n",
              "      <td>CLERK</td>\n",
              "      <td>7698.0</td>\n",
              "      <td>1981-12-11 0:00</td>\n",
              "      <td>950</td>\n",
              "      <td>NaN</td>\n",
              "      <td>30</td>\n",
              "      <td>1566.666667</td>\n",
              "    </tr>\n",
              "    <tr>\n",
              "      <th>8</th>\n",
              "      <td>9</td>\n",
              "      <td>7521</td>\n",
              "      <td>WARD</td>\n",
              "      <td>SALESMAN</td>\n",
              "      <td>7698.0</td>\n",
              "      <td>1981-02-23 0:00</td>\n",
              "      <td>1250</td>\n",
              "      <td>500.0</td>\n",
              "      <td>30</td>\n",
              "      <td>1566.666667</td>\n",
              "    </tr>\n",
              "    <tr>\n",
              "      <th>9</th>\n",
              "      <td>10</td>\n",
              "      <td>7902</td>\n",
              "      <td>FORD</td>\n",
              "      <td>ANALYST</td>\n",
              "      <td>7566.0</td>\n",
              "      <td>1981-12-11 0:00</td>\n",
              "      <td>3000</td>\n",
              "      <td>NaN</td>\n",
              "      <td>20</td>\n",
              "      <td>2175.000000</td>\n",
              "    </tr>\n",
              "    <tr>\n",
              "      <th>10</th>\n",
              "      <td>11</td>\n",
              "      <td>7369</td>\n",
              "      <td>SMITH</td>\n",
              "      <td>CLERK</td>\n",
              "      <td>7902.0</td>\n",
              "      <td>1980-12-09 0:00</td>\n",
              "      <td>800</td>\n",
              "      <td>NaN</td>\n",
              "      <td>20</td>\n",
              "      <td>2175.000000</td>\n",
              "    </tr>\n",
              "    <tr>\n",
              "      <th>11</th>\n",
              "      <td>12</td>\n",
              "      <td>7788</td>\n",
              "      <td>SCOTT</td>\n",
              "      <td>ANALYST</td>\n",
              "      <td>7566.0</td>\n",
              "      <td>1982-12-22 0:00</td>\n",
              "      <td>3000</td>\n",
              "      <td>NaN</td>\n",
              "      <td>20</td>\n",
              "      <td>2175.000000</td>\n",
              "    </tr>\n",
              "    <tr>\n",
              "      <th>12</th>\n",
              "      <td>13</td>\n",
              "      <td>7876</td>\n",
              "      <td>ADAMS</td>\n",
              "      <td>CLERK</td>\n",
              "      <td>7788.0</td>\n",
              "      <td>1983-01-15 0:00</td>\n",
              "      <td>1100</td>\n",
              "      <td>NaN</td>\n",
              "      <td>20</td>\n",
              "      <td>2175.000000</td>\n",
              "    </tr>\n",
              "    <tr>\n",
              "      <th>13</th>\n",
              "      <td>14</td>\n",
              "      <td>7934</td>\n",
              "      <td>MILLER</td>\n",
              "      <td>CLERK</td>\n",
              "      <td>7782.0</td>\n",
              "      <td>1982-01-11 0:00</td>\n",
              "      <td>1300</td>\n",
              "      <td>NaN</td>\n",
              "      <td>10</td>\n",
              "      <td>2175.000000</td>\n",
              "    </tr>\n",
              "  </tbody>\n",
              "</table>\n",
              "</div>"
            ],
            "text/plain": [
              "    index  empno   ename        job  ...   sal    comm  deptno      sal_avg\n",
              "0       1   7839    KING  PRESIDENT  ...  5000     NaN      10  2916.666667\n",
              "1       2   7698   BLAKE    MANAGER  ...  2850     NaN      30  2916.666667\n",
              "2       3   7782   CLARK    MANAGER  ...  2450     NaN      10  2916.666667\n",
              "3       4   7566   JONES    MANAGER  ...  2975     NaN      20  1566.666667\n",
              "4       5   7654  MARTIN   SALESMAN  ...  1250  1400.0      30  1566.666667\n",
              "5       6   7499   ALLEN   SALESMAN  ...  1600   300.0      30  1566.666667\n",
              "6       7   7844  TURNER   SALESMAN  ...  1500     0.0      30  1566.666667\n",
              "7       8   7900   JAMES      CLERK  ...   950     NaN      30  1566.666667\n",
              "8       9   7521    WARD   SALESMAN  ...  1250   500.0      30  1566.666667\n",
              "9      10   7902    FORD    ANALYST  ...  3000     NaN      20  2175.000000\n",
              "10     11   7369   SMITH      CLERK  ...   800     NaN      20  2175.000000\n",
              "11     12   7788   SCOTT    ANALYST  ...  3000     NaN      20  2175.000000\n",
              "12     13   7876   ADAMS      CLERK  ...  1100     NaN      20  2175.000000\n",
              "13     14   7934  MILLER      CLERK  ...  1300     NaN      10  2175.000000\n",
              "\n",
              "[14 rows x 10 columns]"
            ]
          },
          "metadata": {
            "tags": []
          },
          "execution_count": 338
        }
      ]
    },
    {
      "cell_type": "markdown",
      "metadata": {
        "id": "XpDoFxFuHqvP"
      },
      "source": [
        "아 어렵다.  \n",
        "\n",
        "문제251. 판다스로 이름과 월급을 출력하는데 월급이 높은 사원부터 출력하시오."
      ]
    },
    {
      "cell_type": "code",
      "metadata": {
        "colab": {
          "base_uri": "https://localhost:8080/"
        },
        "id": "qPQOwZgLKsLD",
        "outputId": "dec2da90-2cc4-4baf-cf40-85077f60ced9"
      },
      "source": [
        "import pandas as pd\n",
        "emp = pd.read_csv('emp3.csv')\n",
        "result = emp.sort_values('sal', ascending = False)\n",
        "print(result)"
      ],
      "execution_count": 339,
      "outputs": [
        {
          "output_type": "stream",
          "text": [
            "    index  empno   ename        job  ...         hiredate   sal    comm  deptno\n",
            "0       1   7839    KING  PRESIDENT  ...  1981-11-17 0:00  5000     NaN      10\n",
            "9      10   7902    FORD    ANALYST  ...  1981-12-11 0:00  3000     NaN      20\n",
            "11     12   7788   SCOTT    ANALYST  ...  1982-12-22 0:00  3000     NaN      20\n",
            "3       4   7566   JONES    MANAGER  ...  1981-04-01 0:00  2975     NaN      20\n",
            "1       2   7698   BLAKE    MANAGER  ...  1981-05-01 0:00  2850     NaN      30\n",
            "2       3   7782   CLARK    MANAGER  ...  1981-05-09 0:00  2450     NaN      10\n",
            "5       6   7499   ALLEN   SALESMAN  ...  1981-02-11 0:00  1600   300.0      30\n",
            "6       7   7844  TURNER   SALESMAN  ...  1981-08-21 0:00  1500     0.0      30\n",
            "13     14   7934  MILLER      CLERK  ...  1982-01-11 0:00  1300     NaN      10\n",
            "4       5   7654  MARTIN   SALESMAN  ...  1981-09-10 0:00  1250  1400.0      30\n",
            "8       9   7521    WARD   SALESMAN  ...  1981-02-23 0:00  1250   500.0      30\n",
            "12     13   7876   ADAMS      CLERK  ...  1983-01-15 0:00  1100     NaN      20\n",
            "7       8   7900   JAMES      CLERK  ...  1981-12-11 0:00   950     NaN      30\n",
            "10     11   7369   SMITH      CLERK  ...  1980-12-09 0:00   800     NaN      20\n",
            "\n",
            "[14 rows x 9 columns]\n"
          ],
          "name": "stdout"
        }
      ]
    },
    {
      "cell_type": "markdown",
      "metadata": {
        "id": "pPJWxcqPK844"
      },
      "source": [
        "설명: 판다스를 사용할 때 데이터를 정렬하려면 위와 같이 srot_values옵션을 쓰면 된다.  \n",
        "```\n",
        "ascending = True : 낮은 값에 높은값 순으로 정렬하겠다.\n",
        "ascending = False : 높은 값에 낮은값 순으로 정렬하겠다.\n",
        "```\n",
        "\n",
        "문제252. (오늘의 마지막 문제) 아래의 SQL을 판다스로 구현하시오!  \n",
        "```\n",
        "SQL>\n",
        "select job, sum(sal)\n",
        "    from emp\n",
        "    group by job\n",
        "    having sum(sal) >= 6000\n",
        "    order by sum(sal) desc;\n",
        "```"
      ]
    },
    {
      "cell_type": "code",
      "metadata": {
        "colab": {
          "base_uri": "https://localhost:8080/"
        },
        "id": "jPhjbxnnLWuS",
        "outputId": "a51ff809-5ae0-4826-eaab-42dac7c05b0f"
      },
      "source": [
        "import pandas as pd\n",
        "emp = pd.read_csv('emp3.csv')\n",
        "emp = emp.groupby('job')['sal'].sum().reset_index()\n",
        "#emp = emp[['job','sal']][emp['sal']>= 6000]\n",
        "#emp = emp.sort_values('sal',ascending = False)\n",
        "print(emp)"
      ],
      "execution_count": 350,
      "outputs": [
        {
          "output_type": "stream",
          "text": [
            "         job   sal\n",
            "0    ANALYST  6000\n",
            "1      CLERK  4150\n",
            "2    MANAGER  8275\n",
            "3  PRESIDENT  5000\n",
            "4   SALESMAN  5600\n"
          ],
          "name": "stdout"
        }
      ]
    }
  ]
}