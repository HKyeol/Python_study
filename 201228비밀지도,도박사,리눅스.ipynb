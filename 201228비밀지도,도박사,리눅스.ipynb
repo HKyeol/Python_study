{
  "nbformat": 4,
  "nbformat_minor": 0,
  "metadata": {
    "colab": {
      "name": "201228비밀지도,도박사,리눅스.ipynb",
      "provenance": [],
      "collapsed_sections": [],
      "toc_visible": true,
      "authorship_tag": "ABX9TyPuyHjo2mdItqVQ0XSJEap6",
      "include_colab_link": true
    },
    "kernelspec": {
      "name": "python3",
      "display_name": "Python 3"
    }
  },
  "cells": [
    {
      "cell_type": "markdown",
      "metadata": {
        "id": "view-in-github",
        "colab_type": "text"
      },
      "source": [
        "<a href=\"https://colab.research.google.com/github/HKyeol/Python_study/blob/master/201228%EB%B9%84%EB%B0%80%EC%A7%80%EB%8F%84%2C%EB%8F%84%EB%B0%95%EC%82%AC%2C%EB%A6%AC%EB%88%85%EC%8A%A4.ipynb\" target=\"_parent\"><img src=\"https://colab.research.google.com/assets/colab-badge.svg\" alt=\"Open In Colab\"/></a>"
      ]
    },
    {
      "cell_type": "markdown",
      "metadata": {
        "id": "G21FBqJ424Az"
      },
      "source": [
        "# 카카오 비밀지도 문제"
      ]
    },
    {
      "cell_type": "markdown",
      "metadata": {
        "id": "XGI5hGXB26g6"
      },
      "source": [
        "1. 문제를 2번 정독.\r\n",
        "2. 풀이를 번호 순서대로 한글로 적는다.\r\n",
        "    1. 십진수를 이진수 변환한다.\r\n",
        "    2. 두개의 이진수를 가지고 #과 공백을 나타낸다."
      ]
    },
    {
      "cell_type": "markdown",
      "metadata": {
        "id": "eS1NDAS53LcT"
      },
      "source": [
        "문제525. 숫자 9를 이진수로 변환하시오!  \r\n",
        "\r\n",
        "2.1 이진수 변환"
      ]
    },
    {
      "cell_type": "code",
      "metadata": {
        "colab": {
          "base_uri": "https://localhost:8080/",
          "height": 34
        },
        "id": "4TiMJCFGzJka",
        "outputId": "44b1fbb1-43da-4d7b-a9b5-ce3a64d73a50"
      },
      "source": [
        "def jin(n ,number, start = 4):\r\n",
        "    if start == 0:\r\n",
        "        return str(number//(2**start))\r\n",
        "    else:\r\n",
        "        return str(number//(2**start)) + jin(n ,number-(number//(2**start))*(2**start),start-1)\r\n",
        "\r\n",
        "jin(9)    "
      ],
      "execution_count": null,
      "outputs": [
        {
          "output_type": "execute_result",
          "data": {
            "application/vnd.google.colaboratory.intrinsic+json": {
              "type": "string"
            },
            "text/plain": [
              "'01001'"
            ]
          },
          "metadata": {
            "tags": []
          },
          "execution_count": 17
        }
      ]
    },
    {
      "cell_type": "code",
      "metadata": {
        "colab": {
          "base_uri": "https://localhost:8080/"
        },
        "id": "n5J776C531qY",
        "outputId": "e66e5447-bc22-4c3a-9094-c463de8bea1d"
      },
      "source": [
        "# 정답\r\n",
        "print(bin(9)) # binary라는 말이다. 1001 이 부분만 보면 된다."
      ],
      "execution_count": null,
      "outputs": [
        {
          "output_type": "stream",
          "text": [
            "0b1001\n"
          ],
          "name": "stdout"
        }
      ]
    },
    {
      "cell_type": "markdown",
      "metadata": {
        "id": "vJ5qlRpN4KMj"
      },
      "source": [
        "문제526. 위의 결과에서 0b는 제끼고 1001만 출력되게 하시오."
      ]
    },
    {
      "cell_type": "code",
      "metadata": {
        "colab": {
          "base_uri": "https://localhost:8080/"
        },
        "id": "N8EoxDdy4AOe",
        "outputId": "e1b49b68-ca0c-476d-e1e8-e472890ad47c"
      },
      "source": [
        "print(bin(9)[2:])"
      ],
      "execution_count": null,
      "outputs": [
        {
          "output_type": "stream",
          "text": [
            "1001\n"
          ],
          "name": "stdout"
        }
      ]
    },
    {
      "cell_type": "markdown",
      "metadata": {
        "id": "tZu5IR1D4qUx"
      },
      "source": [
        "문제527. 숫자 30의 이진수를 아래와 같이 출력하시오!  \r\n",
        "결과:11110"
      ]
    },
    {
      "cell_type": "code",
      "metadata": {
        "colab": {
          "base_uri": "https://localhost:8080/"
        },
        "id": "tKudy_jR4S9H",
        "outputId": "00b1c508-03e0-4d11-c690-bef5c3d43ab3"
      },
      "source": [
        "print(bin(30)[2:])"
      ],
      "execution_count": null,
      "outputs": [
        {
          "output_type": "stream",
          "text": [
            "11110\n"
          ],
          "name": "stdout"
        }
      ]
    },
    {
      "cell_type": "markdown",
      "metadata": {
        "id": "dH3W7Aw541Vr"
      },
      "source": [
        "문제528. 아래와 같이 출력되는 change 함수를 생성하시오\r\n",
        "```\r\n",
        "print(change(30))\r\n",
        "결과: 11110\r\n",
        "```"
      ]
    },
    {
      "cell_type": "code",
      "metadata": {
        "colab": {
          "base_uri": "https://localhost:8080/",
          "height": 34
        },
        "id": "KW940En44uwi",
        "outputId": "ebe56b9d-c545-40bf-acc6-bb4772e9d975"
      },
      "source": [
        "def change(number,n=5):\r\n",
        "    return bin(number)[2:].zfill(n) # zfill은 자릿수만큼 0을 채워줌. rjust는 rjust(몇개,채울글자)가 가능하다.\r\n",
        "change(9)"
      ],
      "execution_count": null,
      "outputs": [
        {
          "output_type": "execute_result",
          "data": {
            "application/vnd.google.colaboratory.intrinsic+json": {
              "type": "string"
            },
            "text/plain": [
              "'01001'"
            ]
          },
          "metadata": {
            "tags": []
          },
          "execution_count": 40
        }
      ]
    },
    {
      "cell_type": "markdown",
      "metadata": {
        "id": "bN4hyFBa5dZP"
      },
      "source": [
        "문제529.위에서 만든 change 함수에 숫자 9를 넣고 출력해보시오"
      ]
    },
    {
      "cell_type": "code",
      "metadata": {
        "colab": {
          "base_uri": "https://localhost:8080/",
          "height": 34
        },
        "id": "MEHse2WA4yYj",
        "outputId": "51557997-9827-4dfe-a11e-15105d903fc9"
      },
      "source": [
        "change(9)"
      ],
      "execution_count": null,
      "outputs": [
        {
          "output_type": "execute_result",
          "data": {
            "application/vnd.google.colaboratory.intrinsic+json": {
              "type": "string"
            },
            "text/plain": [
              "'01001'"
            ]
          },
          "metadata": {
            "tags": []
          },
          "execution_count": 41
        }
      ]
    },
    {
      "cell_type": "markdown",
      "metadata": {
        "id": "H0JJgXF76Ksi"
      },
      "source": [
        "문제530. change 함수를 실행할 때 아래와 같이 입력 매개변수를 하나 더 만들어서 입력매개변수의 길이만큼 숫자 0이 채워져서 출력되게 하시오. (나는 위에서 했음)\r\n",
        "```\r\n",
        "print(change(9,5))\r\n",
        "01001\r\n",
        "```"
      ]
    },
    {
      "cell_type": "code",
      "metadata": {
        "colab": {
          "base_uri": "https://localhost:8080/"
        },
        "id": "f8brzoFm6ZWP",
        "outputId": "61fec0cf-36ce-45da-c293-2ce2018a9e5f"
      },
      "source": [
        "def change(number,n=5):\r\n",
        "    return bin(number)[2:].rjust(n,'0') # zfill은 자릿수만큼 0을 채워줌. rjust는 rjust(몇개,채울글자)가 가능하다.\r\n",
        "change(9)\r\n",
        "print(change(9,5))"
      ],
      "execution_count": null,
      "outputs": [
        {
          "output_type": "stream",
          "text": [
            "01001\n"
          ],
          "name": "stdout"
        }
      ]
    },
    {
      "cell_type": "markdown",
      "metadata": {
        "id": "Z1X-uzRH8QDl"
      },
      "source": [
        "문제531. 카카오 문제의 예제를 가지고 아래의 결과를 출력하시오!"
      ]
    },
    {
      "cell_type": "code",
      "metadata": {
        "colab": {
          "base_uri": "https://localhost:8080/"
        },
        "id": "T7XdDIYK7eIE",
        "outputId": "14a58d55-a366-4fc5-eb26-97984a53dc6d"
      },
      "source": [
        "n = 5\r\n",
        "arr1 = [9, 20, 28, 18, 11]\r\n",
        "arr2 = [30, 1, 21, 17, 28]\r\n",
        "for i,k in zip(arr1,arr2):\r\n",
        "    print(change(i,n),end = ' ')\r\n",
        "    print(change(k,n))"
      ],
      "execution_count": null,
      "outputs": [
        {
          "output_type": "stream",
          "text": [
            "01001 11110\n",
            "10100 00001\n",
            "11100 10101\n",
            "10010 10001\n",
            "01011 11100\n"
          ],
          "name": "stdout"
        }
      ]
    },
    {
      "cell_type": "markdown",
      "metadata": {
        "id": "rWWw_Ck3B-6W"
      },
      "source": [
        "문제532, 위에서 출력된 아래의 결과를 이용해서 두 지도의 숫자가 둘 다 0이면 공백('')을 출력하고 아니면 벽('#')을 출력하시오"
      ]
    },
    {
      "cell_type": "code",
      "metadata": {
        "colab": {
          "base_uri": "https://localhost:8080/"
        },
        "id": "Iur6HZ_bCIjI",
        "outputId": "6df0ab14-f253-4bda-9df2-b71dfa82cd97"
      },
      "source": [
        "n = 5\r\n",
        "arr1 = [9, 20, 28, 18, 11]\r\n",
        "arr2 = [30, 1, 21, 17, 28]\r\n",
        "n = len(arr1)\r\n",
        "arr = ['' for j in range(n)]\r\n",
        "for i,k in zip(arr1,arr2):\r\n",
        "    print(change(i,n),end = ' ')\r\n",
        "    print(change(k,n))\r\n",
        "    for j in range(n):\r\n",
        "        if change(i,n)[j] == change(k,n)[j]:\r\n",
        "            arr[j] = str(arr[j]) + change(i,n)[j].replace('1','#  ')\r\n",
        "        else:\r\n",
        "            arr[j] = str(arr[j]) + '#'\r\n",
        "arr"
      ],
      "execution_count": null,
      "outputs": [
        {
          "output_type": "stream",
          "text": [
            "01001 11110\n",
            "10100 00001\n",
            "11100 10101\n",
            "10010 10001\n",
            "01011 11100\n"
          ],
          "name": "stdout"
        },
        {
          "output_type": "execute_result",
          "data": {
            "text/plain": [
              "['###  #  #', '#  0#0#  ', '###  0#', '#00##', '#####']"
            ]
          },
          "metadata": {
            "tags": []
          },
          "execution_count": 91
        }
      ]
    },
    {
      "cell_type": "markdown",
      "metadata": {
        "id": "y2AC15P-3QCf"
      },
      "source": [
        "2.2 샾과 공백을 나타낸다."
      ]
    },
    {
      "cell_type": "code",
      "metadata": {
        "colab": {
          "base_uri": "https://localhost:8080/"
        },
        "id": "zC_cenZe2_t2",
        "outputId": "92f50532-40ca-41ec-aee6-cb704eb0087a"
      },
      "source": [
        "n = 5\r\n",
        "arr1 = [9, 20, 28, 18, 11]\r\n",
        "arr2 = [30, 1, 21, 17, 28]\r\n",
        "def change(number,n=5):\r\n",
        "    return bin(number)[2:].rjust(n,'0')\r\n",
        "def secretmap(arr1,arr2):\r\n",
        "    n = len(arr1)\r\n",
        "    arr = ['' for j in range(n)]\r\n",
        "    for i in range(n):\r\n",
        "        a1 = change(arr1[i],n)\r\n",
        "        a2 = change(arr2[i],n)\r\n",
        "        for j in range(n):\r\n",
        "            if a1[j] == a2[j] == '0':\r\n",
        "                arr[i] = f'{arr[i]} '\r\n",
        "            else:\r\n",
        "                arr[i] = f'{arr[i]}#'\r\n",
        "    return arr\r\n",
        "arr1 = [46, 33, 33 ,22, 31, 50]\r\n",
        "arr2 = [27 ,56, 19, 14, 14, 10]\r\n",
        "secretmap(arr1,arr2)"
      ],
      "execution_count": null,
      "outputs": [
        {
          "output_type": "execute_result",
          "data": {
            "text/plain": [
              "['######', '###  #', '##  ##', ' #### ', ' #####', '### # ']"
            ]
          },
          "metadata": {
            "tags": []
          },
          "execution_count": 119
        }
      ]
    },
    {
      "cell_type": "markdown",
      "metadata": {
        "id": "22c42atmIyWr"
      },
      "source": [
        "# 160. 통계 마지막 문제 (도박사 이야기)"
      ]
    },
    {
      "cell_type": "markdown",
      "metadata": {
        "id": "HOEHHPsEK2Cs"
      },
      "source": [
        "해외여행 중 어느 뒷골목에서 동전으로 내기를 하는 도박사를 만났다. \r\n",
        "\r\n",
        "앞면이 나오면 당신에게 1달러, 뒷면이 나오면 나에게 1달러, 어때요? 이 내기 한번 해볼래요?\r\n",
        "\r\n",
        "그런데 동전에 부정이 있는 듯해 실제로 알아봤더니 8회중 7회는 뒷면이 나왔다. \r\n",
        "\r\n",
        "이 동전은 앞면과 뒷면이 나올 확률이 다르지 않느냐? 고 했더니 도박사는 아무렇지도 않게 \"그런게 아니고 \r\n",
        "\r\n",
        "우연\" 이라고 대답했다. 어떻게 반론하면 좋을까?"
      ]
    },
    {
      "cell_type": "markdown",
      "metadata": {
        "id": "To-x-0HfK4Ao"
      },
      "source": [
        "문제534. 동전 하나를 10000번 던져서 앞면이 나오는 횟수를 출력하시오!  \r\n",
        "(힌트 : random.randint(0,1))"
      ]
    },
    {
      "cell_type": "code",
      "metadata": {
        "colab": {
          "base_uri": "https://localhost:8080/"
        },
        "id": "H76BElpZK9LX",
        "outputId": "8a126a40-a4aa-4165-a840-46bae5d09262"
      },
      "source": [
        "import random\r\n",
        "a = 0\r\n",
        "for i in range(10000):\r\n",
        "    a = a + random.randint(0,1)\r\n",
        "a"
      ],
      "execution_count": null,
      "outputs": [
        {
          "output_type": "execute_result",
          "data": {
            "text/plain": [
              "5025"
            ]
          },
          "metadata": {
            "tags": []
          },
          "execution_count": 135
        }
      ]
    },
    {
      "cell_type": "markdown",
      "metadata": {
        "id": "JRC6XhxzPNlO"
      },
      "source": [
        "문제535. 동전을 8번 던졌을 때 앞면이 나오는 횟수를 출력하시오."
      ]
    },
    {
      "cell_type": "code",
      "metadata": {
        "colab": {
          "base_uri": "https://localhost:8080/"
        },
        "id": "o6Zj8IyRPQYj",
        "outputId": "ca5179f3-e7bb-4a4e-b816-d57fe46ebeb2"
      },
      "source": [
        "import random\r\n",
        "n = 8\r\n",
        "result = 0\r\n",
        "for i in range(n):\r\n",
        "    result = result + random.randint(0,1)\r\n",
        "print(result)"
      ],
      "execution_count": null,
      "outputs": [
        {
          "output_type": "stream",
          "text": [
            "3\n"
          ],
          "name": "stdout"
        }
      ]
    },
    {
      "cell_type": "markdown",
      "metadata": {
        "id": "l-_23cMFPwkc"
      },
      "source": [
        "문제536. 동전 하나를 8번 던졌을 때 그 중 앞면이 5번 나오는 횟수를 출력하시오.(동전 하나를 8번 던지는 실험을 100000번 하시오)"
      ]
    },
    {
      "cell_type": "code",
      "metadata": {
        "colab": {
          "base_uri": "https://localhost:8080/"
        },
        "id": "vZbtnDnvPNWE",
        "outputId": "9de3c8c9-9396-48dd-c44e-29c94e2968a8"
      },
      "source": [
        "import random\r\n",
        "init = 100000\r\n",
        "n = 8\r\n",
        "cnt = 0\r\n",
        "for k in range(init):\r\n",
        "    result = 0\r\n",
        "    for i in range(n):\r\n",
        "        result += random.randint(0,1)\r\n",
        "    if result == 5:\r\n",
        "        cnt += 1\r\n",
        "print(cnt)"
      ],
      "execution_count": null,
      "outputs": [
        {
          "output_type": "stream",
          "text": [
            "2165\n"
          ],
          "name": "stdout"
        }
      ]
    },
    {
      "cell_type": "markdown",
      "metadata": {
        "id": "kYADAzmlRSOA"
      },
      "source": [
        "동전을 8번 던졌을 때 0번 1번 2번 나오는 횟수 다 나열\r\n",
        "```\r\n",
        "결과:\r\n",
        "[0,1,2,3,4,5,6,7,8]\r\n",
        "[0,0,0,0,0,0,0,0,0]\r\n",
        "```"
      ]
    },
    {
      "cell_type": "code",
      "metadata": {
        "colab": {
          "base_uri": "https://localhost:8080/"
        },
        "id": "Q9v6p0b8SALc",
        "outputId": "e41aeca9-162c-4a7d-9339-0251409aee40"
      },
      "source": [
        "a = [i for i in range(9)]\r\n",
        "b = [0 for j in range(9)]\r\n",
        "print(a)\r\n",
        "print(b)"
      ],
      "execution_count": null,
      "outputs": [
        {
          "output_type": "stream",
          "text": [
            "[0, 1, 2, 3, 4, 5, 6, 7, 8]\n",
            "[0, 0, 0, 0, 0, 0, 0, 0, 0]\n"
          ],
          "name": "stdout"
        }
      ]
    },
    {
      "cell_type": "markdown",
      "metadata": {
        "id": "vjfSZfuDTEz7"
      },
      "source": [
        "문제538. 동전을 8번 던졌을 때 뒷면이 0번 ~ 8번 나오는 횟수가 아래와 같이 출력되게 하시오.  \r\n",
        "```\r\n",
        "결과:\r\n",
        "[0,1,2,3,4,5,6,7,8]\r\n",
        "[412,3026,10798,]\r\n",
        "```"
      ]
    },
    {
      "cell_type": "code",
      "metadata": {
        "colab": {
          "base_uri": "https://localhost:8080/"
        },
        "id": "xl5QMOV-TV8G",
        "outputId": "7c1aef12-45d2-4adc-a420-0cd5c8cc64e0"
      },
      "source": [
        "import random\r\n",
        "coin_cnt = [i for i in range(9)]\r\n",
        "b = [0 for j in range(9)]\r\n",
        "\r\n",
        "init = 100000\r\n",
        "n = 8\r\n",
        "  \r\n",
        "for j in range(n+1):                    # 0 ~ 9 까지 반복\r\n",
        "    cnt = 0\r\n",
        "    for k in range(init):               # 10만번 반복\r\n",
        "        result = 0\r\n",
        "        for i in range(n):              # n번(8번) 던진다.\r\n",
        "            result += random.randint(0,1) # 앞 뒤 뒷면이 1\r\n",
        "        if result == j:                 # 숫자랑 같으면\r\n",
        "            cnt += 1                    # 센다.\r\n",
        "    b[j] = cnt/init\r\n",
        "print(b)"
      ],
      "execution_count": null,
      "outputs": [
        {
          "output_type": "stream",
          "text": [
            "[0.00336, 0.03147, 0.10875, 0.22071, 0.27505, 0.21806, 0.1099, 0.03058, 0.00399]\n"
          ],
          "name": "stdout"
        }
      ]
    },
    {
      "cell_type": "markdown",
      "metadata": {
        "id": "iRlwuA1QuptN"
      },
      "source": [
        "문제 539. 위의 횟수를 가지고 아래와 같이 확률이 출력되게 하시오\r\n",
        "\r\n",
        "[0.00379, 0.03195, 0.11112, 0.21831, 0.27332, 0.21807, 0.10903, 0.03151, 0.0038]"
      ]
    },
    {
      "cell_type": "code",
      "metadata": {
        "id": "H3TE_8L-us_Q"
      },
      "source": [
        "b[j] = cnt/init"
      ],
      "execution_count": null,
      "outputs": []
    },
    {
      "cell_type": "markdown",
      "metadata": {
        "id": "UYdULseysxAp"
      },
      "source": [
        "문제540. 위의 coin_cnt를 x 축으로 하고 확률 b 리스트를 y축으로 해서 막대 그래프를 그리시오"
      ]
    },
    {
      "cell_type": "code",
      "metadata": {
        "colab": {
          "base_uri": "https://localhost:8080/",
          "height": 265
        },
        "id": "0VY__K2Qs62G",
        "outputId": "1b2df412-b4ae-4c21-d2ac-13b2d92efefa"
      },
      "source": [
        "import matplotlib.pyplot as plt\r\n",
        "plt.bar(coin_cnt,b,tick_label = coin_cnt, align='center')\r\n",
        "plt.show()"
      ],
      "execution_count": null,
      "outputs": [
        {
          "output_type": "display_data",
          "data": {
            "image/png": "[encoded data removed]",
            "text/plain": [
              "<Figure size 432x288 with 1 Axes>"
            ]
          },
          "metadata": {
            "tags": [],
            "needs_background": "light"
          }
        }
      ]
    },
    {
      "cell_type": "markdown",
      "metadata": {
        "id": "VGPqY4_YtvtC"
      },
      "source": [
        "문제541. coin_cnt를 x축으로 두고 입력값으로 해서 coin_cnt의 요소들의 평균값과 표준편차를 출력하시오."
      ]
    },
    {
      "cell_type": "code",
      "metadata": {
        "colab": {
          "base_uri": "https://localhost:8080/"
        },
        "id": "_ep5-j26tvU5",
        "outputId": "75f5fed2-b9e4-4e49-d96b-8fd4b7841502"
      },
      "source": [
        "import numpy as np\r\n",
        "c_m = np.mean(coin_cnt)\r\n",
        "c_s = np.std(coin_cnt)\r\n",
        "print(c_m,c_s)"
      ],
      "execution_count": null,
      "outputs": [
        {
          "output_type": "stream",
          "text": [
            "4.0 2.581988897471611\n"
          ],
          "name": "stdout"
        }
      ]
    },
    {
      "cell_type": "markdown",
      "metadata": {
        "id": "597Fe2fwu9CJ"
      },
      "source": [
        "문제542. 위에서 구한 평균값과 표준편차를 이용해서 coin_cnt의 요소값에 대한 확률밀도함수 값을 출력하시오.(scipy.stats의 norm 사용 norm.pdf(입력값, 평균값, 표준편차)"
      ]
    },
    {
      "cell_type": "code",
      "metadata": {
        "id": "KLmIvPJGvBqW"
      },
      "source": [
        "from scipy.stats import norm\r\n",
        "\r\n",
        "result = norm.pdf(coin_cnt,c_m,c_s)"
      ],
      "execution_count": null,
      "outputs": []
    },
    {
      "cell_type": "markdown",
      "metadata": {
        "id": "wMGbzIC5v9uS"
      },
      "source": [
        "문제543. coin_cnt를 x축으로 두고 위의 확률밀도함수값을 y축으로 두어서 확률밀도함수 그래프를 그리시오"
      ]
    },
    {
      "cell_type": "code",
      "metadata": {
        "colab": {
          "base_uri": "https://localhost:8080/",
          "height": 302
        },
        "id": "k6SA2ZhhwGpP",
        "outputId": "5636c2ce-3650-4983-9702-6f5362452ac7"
      },
      "source": [
        "from scipy.stats import norm\r\n",
        "coin_cnt = [0,1,2,3,4,5,6,7,8]\r\n",
        "c_m = np.mean(coin_cnt)\r\n",
        "c_s = np.std(coin_cnt)\r\n",
        "print(c_m,c_s)\r\n",
        "result = norm.pdf(coin_cnt,c_m,c_s)\r\n",
        "plt.plot(coin_cnt, result,color = 'black')\r\n",
        "plt.fill_between(coin_cnt,result,where = (coin_cnt < c_m+c_s)&(coin_cnt >= c_m-c_s),color = 'green')\r\n",
        "plt.show()"
      ],
      "execution_count": 68,
      "outputs": [
        {
          "output_type": "stream",
          "text": [
            "<class 'numpy.float64'> <class 'numpy.float64'>\n",
            "4.0 2.581988897471611\n"
          ],
          "name": "stdout"
        },
        {
          "output_type": "display_data",
          "data": {
            "image/png": "[encoded data removed]",
            "text/plain": [
              "<Figure size 432x288 with 1 Axes>"
            ]
          },
          "metadata": {
            "tags": [],
            "needs_background": "light"
          }
        }
      ]
    },
    {
      "cell_type": "markdown",
      "metadata": {
        "id": "-tB4UoG3wtGJ"
      },
      "source": [
        "문제544. 위의 그래프에서 신뢰구간 68%에 해당하는 부분만 녹색으로 색칠하시오.  \r\n",
        "\r\n",
        "* 신뢰구간 범위\r\n",
        "1. 68% --> 평균 +-1 * 표준편차\r\n",
        "2. 95% --> 평균 +-1.96 * 표준편차\r\n",
        "3. 99% --> 평균 +-2.58 * 표준편차"
      ]
    },
    {
      "cell_type": "code",
      "metadata": {
        "colab": {
          "base_uri": "https://localhost:8080/",
          "height": 338
        },
        "id": "c3FqwNaBxHL2",
        "outputId": "9ee2392e-726e-4e21-9eb7-15c799c7c35c"
      },
      "source": [
        "from scipy.stats import norm\r\n",
        "import math\r\n",
        "coin_cnt = [0,1,2,3,4,5,6,7,8]\r\n",
        "c_m = 8*(0.5)\r\n",
        "c_s = math.sqrt(8*0.5*0.5)\r\n",
        "c_m = np.float64(c_m)\r\n",
        "c_s = np.float64(c_s)\r\n",
        "\r\n",
        "a = 1\r\n",
        "print(type(c_m),type(c_s))\r\n",
        "result = norm.pdf(coin_cnt,c_m,c_s)\r\n",
        "plt.figure(figsize=(12, 5))\r\n",
        "plt.plot(coin_cnt, result,color = 'black')\r\n",
        "#plt.fill_between(coin_cnt,result,where = (coin_cnt < c_m+c_s)&(coin_cnt >= c_m-c_s),color = 'green')\r\n",
        "plt.fill_between(coin_cnt,result,where = (coin_cnt < c_m+a*c_s)&(coin_cnt >= c_m-a*c_s),color = 'green')\r\n",
        "plt.show()"
      ],
      "execution_count": 81,
      "outputs": [
        {
          "output_type": "stream",
          "text": [
            "<class 'numpy.float64'> <class 'numpy.float64'>\n"
          ],
          "name": "stdout"
        },
        {
          "output_type": "display_data",
          "data": {
            "image/png": "[encoded data removed]",
            "text/plain": [
              "<Figure size 864x360 with 1 Axes>"
            ]
          },
          "metadata": {
            "tags": [],
            "needs_background": "light"
          }
        }
      ]
    },
    {
      "cell_type": "markdown",
      "metadata": {
        "id": "vboPPCqzyiRl"
      },
      "source": [
        "문제545. (파이썬 마지막 문제)위의 코드들을 이용해서 아래와 같이 출력되게 하시오."
      ]
    },
    {
      "cell_type": "code",
      "metadata": {
        "colab": {
          "base_uri": "https://localhost:8080/"
        },
        "id": "VXHZy4nNJk1B",
        "outputId": "e5f82cdb-6e7e-45b7-d2c1-ccc0077b0151"
      },
      "source": [
        "import math\r\n",
        "\r\n",
        "def Factorial(n):\r\n",
        "    if n == 0 or n == 1:\r\n",
        "        return 1\r\n",
        "    else:\r\n",
        "        return Factorial(n-1) * n\r\n",
        "\r\n",
        "\r\n",
        "def Coin_hypo(n, back):\r\n",
        "    # nCr*p^r*q^(n-r) = 확률 q = 1-p\r\n",
        "    nCr = (Factorial(n)/(Factorial(back)*Factorial(n-back)))\r\n",
        "    p = 0.5\r\n",
        "    q = 1-p\r\n",
        "\r\n",
        "    return nCr*(p**back)*(q**(n-back))\r\n",
        "    \r\n",
        "n = 8\r\n",
        "sum_coin = 0\r\n",
        "for i in range(n+1):\r\n",
        "    print(Coin_hypo(n,i))\r\n",
        "    sum_coin += Coin_hypo(n,i)\r\n",
        "#print(sum_coin)\r\n",
        "\r\n",
        "#a = Coin_hypo(8,7)+Coin_hypo(8,8)\r\n",
        "#a = 3.516% 이므로 95% 신뢰구간하에서 기각"
      ],
      "execution_count": 4,
      "outputs": [
        {
          "output_type": "stream",
          "text": [
            "0.00390625\n",
            "0.03125\n",
            "0.109375\n",
            "0.21875\n",
            "0.2734375\n",
            "0.21875\n",
            "0.109375\n",
            "0.03125\n",
            "0.00390625\n"
          ],
          "name": "stdout"
        }
      ]
    },
    {
      "cell_type": "code",
      "metadata": {
        "colab": {
          "base_uri": "https://localhost:8080/"
        },
        "id": "DcJhKvDhA_02",
        "outputId": "cc3a6bc5-19c1-4e87-b5f1-88ee12d57c24"
      },
      "source": [
        "a = [0.00390625,0.03125,0.109375,0.21875,0.2734375,0.21875,0.109375,0.03125,0.00390625]\r\n",
        "b = (a[0]+0)/2 + (a[8]+0)/2\r\n",
        "print(b)\r\n",
        "for i in range(len(a)-1):\r\n",
        "    b = b + ((a[i]+a[i+1])/2)\r\n",
        "print(b)    "
      ],
      "execution_count": 28,
      "outputs": [
        {
          "output_type": "stream",
          "text": [
            "0.00390625\n",
            "1.0\n"
          ],
          "name": "stdout"
        }
      ]
    },
    {
      "cell_type": "code",
      "metadata": {
        "colab": {
          "base_uri": "https://localhost:8080/",
          "height": 338
        },
        "id": "MQV1xhB7zBBr",
        "outputId": "26538483-1241-42e8-f553-899e1077b299"
      },
      "source": [
        "# graph\r\n",
        "import matplotlib.pyplot as plt\r\n",
        "import numpy as np\r\n",
        "from scipy.stats import norm\r\n",
        "\r\n",
        "result = []\r\n",
        "n = 8\r\n",
        "for i in range(n+1):\r\n",
        "    result.append(Coin_hypo(n,i))\r\n",
        "coin_cnt = [i for i in range(9)]\r\n",
        "\r\n",
        "#sum_coin = Coin_hypo(n,4) + Coin_hypo(n,3)+Coin_hypo(n,5)\r\n",
        "\r\n",
        "\r\n",
        "#result1 = (Coin_hypo(n,5) - Coin_hypo(n,4))/(5-4)\r\n",
        "#result2 = result1 * (x-4) + Coin_hypo(n,4)\r\n",
        "#print(Coin_hypo(n,4),Coin_hypo(n,5), result1, result2)\r\n",
        "p = 0.5\r\n",
        "q = 1-p\r\n",
        "c_m = n*p\r\n",
        "c_s = math.sqrt(n*p*q)\r\n",
        "c_m = np.float64(c_m)\r\n",
        "c_s = np.float64(c_s)\r\n",
        "\r\n",
        "\r\n",
        "a = 1\r\n",
        "result = norm.pdf(coin_cnt,c_m,c_s)\r\n",
        "plt.figure(figsize=(12, 5))\r\n",
        "plt.plot(coin_cnt, result,color = 'black')\r\n",
        "plt.fill_between(coin_cnt,result,where = (coin_cnt < c_m+a*c_s)&(coin_cnt >= c_m-a*c_s),color = 'green')\r\n",
        "plt.show()"
      ],
      "execution_count": 85,
      "outputs": [
        {
          "output_type": "stream",
          "text": [
            "5.414213562373095\n"
          ],
          "name": "stdout"
        },
        {
          "output_type": "display_data",
          "data": {
            "image/png": "[encoded data removed]",
            "text/plain": [
              "<Figure size 864x360 with 1 Axes>"
            ]
          },
          "metadata": {
            "tags": [],
            "needs_background": "light"
          }
        }
      ]
    },
    {
      "cell_type": "code",
      "metadata": {
        "id": "s8MbT4bBPC0z"
      },
      "source": [
        "()\r\n",
        "def log_Factorial(n,end=0):\r\n",
        "    if n == 0 or n == 1:\r\n",
        "        return 0\r\n",
        "    elif n == end+1:\r\n",
        "        return math.log10(n)\r\n",
        "    else:\r\n",
        "        return log_Factorial(n-1,end) + math.log10(n)\r\n",
        "\r\n",
        "def Coin_hypo(n, r): # r = 뒷면 횟수\r\n",
        "    # nCr*p^r*q^(n-r) = 확률 q = 1-p\r\n",
        "    if r < n-r:\r\n",
        "        r = n-r\r\n",
        "    nCr = log_Factorial(n,n-r)/log_Factorial(r)\r\n",
        "    p = 0.5\r\n",
        "    q = 1-p\r\n",
        "\r\n",
        "    return nCr*(p**back)*(q**(n-back))\r\n",
        "\r\n",
        "Coin_hypo(2,1)\r\n",
        "#log_Factorial(1)\r\n",
        "#def FCH(n,back): # Fast_Coin_Hypo"
      ],
      "execution_count": null,
      "outputs": []
    },
    {
      "cell_type": "code",
      "metadata": {
        "colab": {
          "base_uri": "https://localhost:8080/",
          "height": 1000
        },
        "id": "vqSWsn_if1UL",
        "outputId": "bd69647e-897c-43e0-a7ef-3c5c7aaea9b1"
      },
      "source": [
        "\r\n",
        "# graph\r\n",
        "import matplotlib.pyplot as plt\r\n",
        "import numpy as np\r\n",
        "from scipy.stats import norm\r\n",
        "\r\n",
        "\r\n",
        "def log_Factorial(n,end=0): # 팩토리얼 계산. 계산속도향상을 위해서 log값을 취함\r\n",
        "    if n == 0 or n == 1:\r\n",
        "        return 0\r\n",
        "    elif n == end+1:\r\n",
        "        return math.log10(n)\r\n",
        "    else:\r\n",
        "        return log_Factorial(n-1,end) + math.log10(n)\r\n",
        "\r\n",
        "def Coin_Probability(r,n): # r = 뒷면 횟수 nCr을 통한 이항분포의 확률계산\r\n",
        "    # nCr*p^r*q^(n-r) = n번 던져서 r번 나올 확률\r\n",
        "    if r < n-r:\r\n",
        "        r = n-r\r\n",
        "    nCr = log_Factorial(n,n-r)/log_Factorial(r)\r\n",
        "    p = 0.5\r\n",
        "    q = 1-p\r\n",
        "    return nCr*(p**r)*(q**(n-r))\r\n",
        "\r\n",
        "def Coin_hypo(r,n=8,a=1): # 뒷면이 나온 횟수,던진횟수 8 기본값, 신뢰구간 68%기본값\r\n",
        "    result = []\r\n",
        "    for i in range(n+1):\r\n",
        "        result.append(Coin_Probability(i,n))\r\n",
        "    coin_cnt = [i for i in range(n+1)]\r\n",
        "\r\n",
        "    p = 0.5                 # 이항분포의 확률\r\n",
        "    q = 1-p                 \r\n",
        "    c_m = n*p               # 이항분포의 평균\r\n",
        "    c_s = math.sqrt(n*p*q)  # 이항분포의 표준편차\r\n",
        "    c_m = np.float64(c_m)   # plot에서 float형태는 받아들이지 않지만 np.float64형태는 받아들여서 type 변경\r\n",
        "    c_s = np.float64(c_s)\r\n",
        "\r\n",
        "    result = norm.pdf(coin_cnt,c_m,c_s)        # 확률밀도함수\r\n",
        "    plt.plot(coin_cnt, result,color = 'black')\r\n",
        "    plt.xticks(range(0,n+1))\r\n",
        "    plt.fill_between(coin_cnt,result,where = (coin_cnt < c_m+a*c_s)&(coin_cnt >= c_m-a*c_s),color = 'green')\r\n",
        "    plt.show()\r\n",
        "\r\n",
        "    ci = 68         # print에서 신뢰구간 자동 변경을 위해 작성\r\n",
        "    if a == 1.96:\r\n",
        "        ci = 95\r\n",
        "    elif a == 2.58:\r\n",
        "        ci = 98\r\n",
        "\r\n",
        "    if c_m-a*c_s < r< c_m+a*c_s :\r\n",
        "        print(f'동전을  {n}번 던졌을 때 뒷면이 나오는 횟수가 {r}번이 나올 확률은 신뢰구간 {ci}% 안에 있습니다. ')\r\n",
        "    else:\r\n",
        "        print(f'동전을  {n}번 던졌을 때 뒷면이 나오는 횟수가 {r}번이 나올 확률은 신뢰구간 {ci}% 안에 없습니다. ')\r\n",
        "\r\n",
        "\r\n",
        "Coin_hypo(4)\r\n",
        "Coin_hypo(7, a=1.96)\r\n",
        "Coin_hypo(7, a=2.58)\r\n",
        "Coin_hypo(7,n=14, a=2.58)\r\n"
      ],
      "execution_count": 130,
      "outputs": [
        {
          "output_type": "display_data",
          "data": {
            "image/png": "[encoded data removed]",
            "text/plain": [
              "<Figure size 432x288 with 1 Axes>"
            ]
          },
          "metadata": {
            "tags": [],
            "needs_background": "light"
          }
        },
        {
          "output_type": "stream",
          "text": [
            "동전을  8번 던졌을 때 뒷면이 나오는 횟수가 4번이 나올 확률은 신뢰구간 68% 안에 있습니다. \n"
          ],
          "name": "stdout"
        },
        {
          "output_type": "display_data",
          "data": {
            "image/png": "[encoded data removed]",
            "text/plain": [
              "<Figure size 432x288 with 1 Axes>"
            ]
          },
          "metadata": {
            "tags": [],
            "needs_background": "light"
          }
        },
        {
          "output_type": "stream",
          "text": [
            "동전을  8번 던졌을 때 뒷면이 나오는 횟수가 7번이 나올 확률은 신뢰구간 95% 안에 없습니다. \n"
          ],
          "name": "stdout"
        },
        {
          "output_type": "display_data",
          "data": {
            "image/png": "[encoded data removed]",
            "text/plain": [
              "<Figure size 432x288 with 1 Axes>"
            ]
          },
          "metadata": {
            "tags": [],
            "needs_background": "light"
          }
        },
        {
          "output_type": "stream",
          "text": [
            "동전을  8번 던졌을 때 뒷면이 나오는 횟수가 7번이 나올 확률은 신뢰구간 98% 안에 있습니다. \n"
          ],
          "name": "stdout"
        },
        {
          "output_type": "display_data",
          "data": {
            "image/png": "[encoded data removed]",
            "text/plain": [
              "<Figure size 432x288 with 1 Axes>"
            ]
          },
          "metadata": {
            "tags": [],
            "needs_background": "light"
          }
        },
        {
          "output_type": "stream",
          "text": [
            "동전을  14번 던졌을 때 뒷면이 나오는 횟수가 7번이 나올 확률은 신뢰구간 98% 안에 있습니다. \n"
          ],
          "name": "stdout"
        }
      ]
    },
    {
      "cell_type": "code",
      "metadata": {
        "colab": {
          "base_uri": "https://localhost:8080/"
        },
        "id": "3O4Se4Upqdwx",
        "outputId": "5f9d0edb-b7de-452f-e734-48afd146d59c"
      },
      "source": [
        "import math\r\n",
        "import matplotlib.pyplot as plt\r\n",
        "import numpy as np\r\n",
        "from scipy.stats import norm\r\n",
        "\r\n",
        "def Factorial(n):\r\n",
        "    if n == 0 or n == 1:\r\n",
        "        return 1\r\n",
        "    else:\r\n",
        "        return Factorial(n-1) * n\r\n",
        "\r\n",
        "\r\n",
        "def Coin_hypo(n, back):\r\n",
        "    # nCr*p^r*q^(n-r) = 확률 q = 1-p\r\n",
        "    nCr = (Factorial(n)/(Factorial(back)*Factorial(n-back)))\r\n",
        "    p = 0.5\r\n",
        "    q = 1-p\r\n",
        "\r\n",
        "    return nCr*(p**back)*(q**(n-back))\r\n",
        "\r\n",
        "def Coin_Probability(r,n): # r = 뒷면 횟수 nCr을 통한 이항분포의 확률계산\r\n",
        "    # nCr*p^r*q^(n-r) = n번 던져서 r번 나올 확률\r\n",
        "    nCr = Factorial(n)/(Factorial(r)*Factorial(n-r))\r\n",
        "    p = 0.5\r\n",
        "    q = 1-p\r\n",
        "    return nCr*(p**r)*(q**(n-r))\r\n",
        "\r\n",
        "def Coin_hypo(r,n=10,a=1.96): # 뒷면이 나온 횟수,던진횟수 8 기본값, 신뢰구간 68%기본값\r\n",
        "    result = []\r\n",
        "    for i in range(n+1):\r\n",
        "        result.append(Coin_Probability(i,n))\r\n",
        "    coin_cnt = [i for i in range(n+1)]\r\n",
        "\r\n",
        "    p = 0.5                 # 이항분포의 확률\r\n",
        "    q = 1-p                 \r\n",
        "    c_m = n*p               # 이항분포의 평균\r\n",
        "    c_s = math.sqrt(n*p*q)  # 이항분포의 표준편차\r\n",
        "\r\n",
        "    ci = 68         # print에서 신뢰구간 자동 변경을 위해 작성\r\n",
        "    if a == 1.96:\r\n",
        "        ci = 95\r\n",
        "    elif a == 2.58:\r\n",
        "        ci = 98\r\n",
        "\r\n",
        "    if c_m-a*c_s < r< c_m+a*c_s :\r\n",
        "        print(f'동전을 {n}번 던졌을 때 뒷면이 나오는 횟수가 {r}번이 나올 확률은 신뢰구간 {ci}% 안에 있습니다. ')\r\n",
        "    else:\r\n",
        "        print(f'동전을 {n}번 던졌을 때 뒷면이 나오는 횟수가 {r}번이 나올 확률은 신뢰구간 {ci}% 안에 없습니다. ')\r\n",
        "\r\n",
        "Coin_hypo(4)\r\n",
        "Coin_hypo(10)"
      ],
      "execution_count": 129,
      "outputs": [
        {
          "output_type": "stream",
          "text": [
            "동전을 10번 던졌을 때 뒷면이 나오는 횟수가 4번이 나올 확률은 신뢰구간 95% 안에 있습니다. \n",
            "동전을 10번 던졌을 때 뒷면이 나오는 횟수가 10번이 나올 확률은 신뢰구간 95% 안에 없습니다. \n"
          ],
          "name": "stdout"
        }
      ]
    },
    {
      "cell_type": "markdown",
      "metadata": {
        "id": "eypBHcEp6FCP"
      },
      "source": [
        "# 리눅스 수업 \r\n",
        "\r\n",
        "리눅스를 배워야 하는 이유?\r\n",
        "\r\n",
        "1. 데이터 분석가가 갖추어야 할 기본 기술 중에 하둡 사용이 있습니다.  \r\n",
        "    (하둡이 리눅스에 기반을 두고 있기 때문에 리눅스를 먼저 배워야합니다.)\r\n",
        "\r\n",
        "2. 딥러닝을 구현할 때 현업에서 많은 부분이 리눅스에 파이썬을 사용해서 구현을 하고 있습니다.\r\n",
        "\r\n",
        "3. 빅데이터 기사 시험에 하둡이 나오는데 여러 용어들에 대한 정확한 이해가 있어야 한다.\r\n",
        "\r\n",
        "4. 딥러닝으로 뭔가 좀 재미있는 것을 만들고 싶다면 리눅스를 알아야 합니다.\r\n",
        "\r\n"
      ]
    },
    {
      "cell_type": "markdown",
      "metadata": {
        "id": "AN-2d68G7t5V"
      },
      "source": [
        "# 리눅스란 무엇인가?\r\n",
        "\r\n",
        "유닉스(unix)가 너무 고가여서 리눅스 오픈소스를 핀란드의 리누즈 토박즈 학생이 1991년 11월에 개발을 했다. 리누즈 토발즈가 리눅스 커널(자동차의 엔진과 같음)을 개발하고 소스를 무료로 공개했다. 그리고 전세계의 개발자들이 이 오픈소스를 가져다가 더 좋게 개선해서 다시 인터넷에 올리고 또 올리고를 반복하다보니 리눅스 OS가 유닉스보다 더 가볍고 안정적이게 되었다.  \r\n",
        "\r\n",
        "GNU 프로젝트 --> 누구든지 배포된 오픈소스를 가져다가 개발 할 수 있고 돈을 벌 목적으로 상용화를 할 수도 있는데 한가지 지켜야할 약속은 이 소스를 가져다가 더 좋게 수정했으면 그 코드를 인터넷에 올려줘야 하는 약속입니다.  \r\n",
        "```\r\n",
        "레드헷(상용버전) ---> Cent os\r\n",
        "     유료              무료\r\n",
        "```\r\n",
        "* 리눅스의 종류\r\n",
        "1. Oracle linus\r\n",
        "2. Cent os\r\n",
        "3. Ubunt"
      ]
    },
    {
      "cell_type": "markdown",
      "metadata": {
        "id": "5VjSOFT0-v3N"
      },
      "source": [
        "# 리눅스 설치\r\n",
        "\r\n",
        "1. Oracle virtual box 설치 (가상의 컴퓨터를 내 컴퓨터 안에 만든다)\r\n",
        "\r\n",
        "2. centos7 설치파일 다운로드 하세요.\r\n",
        "\r\n",
        "3.버츄얼 박스 관리자권한 실행  \r\n",
        "새로만들기 - 이름:centos \r\n",
        "\r\n",
        "- 30기가로 잡는다. - 파일 - 환경설정 - 입력 - 가상머신 - 호스트 키 조합에 'Ctrl+Alt' 확인  \r\n",
        "\r\n",
        "그다음 - 설정 - 저장소 - 컨트롤러_IDE가 비어있음이 되어있는데 아까 다운받았던 contos7 iso파일 선택\r\n",
        "\r\n",
        "네트워크 -어댑터2- 호스트 전용 어댑터- 케이블 연겨됨  \r\n",
        "  \r\n",
        "공유폴더 - c드라이브에 data , 자동 마운트 체크  \r\n",
        "\r\n",
        "이제 시작버튼 눌러서 시작  \r\n",
        "\r\n",
        "software selection 클릭하고 minimal에서 바꿔준다.  \r\n",
        "\r\n",
        "Gnome desktop이 있는데 그거 선택한다. 그리고 development tools를 체크한다.   - Done\r\n",
        "\r\n",
        "installation Destination 에러창 떠있을텐데 그냥 아무것도 누르지 말고 Done  \r\n",
        "\r\n",
        "이제 begin installation  \r\n",
        "\r\n",
        "비밀번호 그냥 1234하자  \r\n",
        "인스톨 걸어두자 이대로  \r\n",
        "\r\n",
        "다 깔리면 라이센스 어쩌구 들어가서 accept 체크  \r\n",
        "\r\n",
        "finish configuration    \r\n",
        "\r\n",
        "언어 english   \r\n",
        "\r\n",
        "계속 넥스트 time존 서울로  \r\n",
        "\r\n",
        "Fullname : scott\r\n",
        "유저네임도 스캇\r\n",
        "\r\n",
        "패스워드 : Oracle_4U  \r\n",
        "\r\n",
        "\r\n",
        "마우스 우클릭 오픈터미널 클릭"
      ]
    },
    {
      "cell_type": "markdown",
      "metadata": {
        "id": "D6sVGPhXId-X"
      },
      "source": [
        "classification ( 아는거 나누기\r\n",
        "6장 회귀분석  \r\n",
        "선형, logistic\r\n",
        "\r\n",
        "classification   clustering\r\n",
        "KNN vs Kmeans  \r\n",
        "가까운 애들 찾기  \r\n",
        "\r\n",
        "Decision Tree  \r\n",
        "수직으로 나눠서 찾는다.  \r\n"
      ]
    }
  ]
}