{
  "nbformat": 4,
  "nbformat_minor": 0,
  "metadata": {
    "colab": {
      "name": "재귀함수공부.ipynb",
      "provenance": [],
      "authorship_tag": "ABX9TyMEc6V4nOi+35aTiKpfGQyl",
      "include_colab_link": true
    },
    "kernelspec": {
      "name": "python3",
      "display_name": "Python 3"
    }
  },
  "cells": [
    {
      "cell_type": "markdown",
      "metadata": {
        "id": "view-in-github",
        "colab_type": "text"
      },
      "source": [
        "<a href=\"https://colab.research.google.com/github/HKyeol/Python_study/blob/master/%EC%9E%AC%EA%B7%80%ED%95%A8%EC%88%98%EA%B3%B5%EB%B6%80.ipynb\" target=\"_parent\"><img src=\"https://colab.research.google.com/assets/colab-badge.svg\" alt=\"Open In Colab\"/></a>"
      ]
    },
    {
      "cell_type": "markdown",
      "metadata": {
        "id": "Vqd5WDSViZv9"
      },
      "source": [
        "AR모형 재귀함수로 구현"
      ]
    },
    {
      "cell_type": "code",
      "metadata": {
        "id": "fuPT1vRmiZEE"
      },
      "source": [
        "def auto_reg(n):\r\n",
        "    if n == 1:\r\n",
        "        return 1\r\n",
        "    elif n == 2:\r\n",
        "        return 1\r\n",
        "    else:\r\n",
        "        return auto_reg(n-1)+auto_reg(n-2)\r\n",
        "for i in range(1,10):\r\n",
        "    print(auto_reg(i))"
      ],
      "execution_count": null,
      "outputs": []
    },
    {
      "cell_type": "markdown",
      "metadata": {
        "id": "ELvPuLocizJO"
      },
      "source": [
        "이진탐색 재귀함수로"
      ]
    },
    {
      "cell_type": "code",
      "metadata": {
        "colab": {
          "base_uri": "https://localhost:8080/"
        },
        "id": "DZCoVgioixSn",
        "outputId": "9b70ea5e-3a8d-4599-879f-2fa7b0ec5339"
      },
      "source": [
        "def binary_search(data,number=0,index_n=0,index_pm=1):\r\n",
        "    mid = int(len(data)/2)\r\n",
        "    if mid != 0:\r\n",
        "        index_n += index_pm*mid       # 좌표값 구하는 부분\r\n",
        "    else:\r\n",
        "        index_n += index_pm*1\r\n",
        "#    print(mid,data[mid],index_n,data)\r\n",
        "    if len(data) > 1:\r\n",
        "        if data[mid] > number: # 찾는 숫자가 중앙값보다 작을 경우\r\n",
        "            return binary_search(data[:mid],number,index_n,index_pm = -1) # data를 바꿔준다 중앙값보다 작은 부분으로 :mid]작거나 같다\r\n",
        "        elif data[mid] < number: # 찾는 숫자가 중앙값보다 클 경우\r\n",
        "            return binary_search(data[mid:],number,index_n,index_pm = 1) # data를 바꿔준다 중앙값보다 큰 부분으로 [mid: ] 크다\r\n",
        "        else:               # 찾는 숫자랑 중앙값이 같은 경우\r\n",
        "            return (True,index_n)\r\n",
        "    else:\r\n",
        "        return (data[0]==number,index_n)\r\n",
        "\r\n",
        "data = [1,2,54,125,723,3,25,1]\r\n",
        "data.sort()\r\n",
        "for i in range(1,10):\r\n",
        "    print(binary_search(data,i))\r\n",
        "binary_search(data,125)"
      ],
      "execution_count": 99,
      "outputs": [
        {
          "output_type": "stream",
          "text": [
            "(True, 1)\n",
            "(True, 2)\n",
            "(True, 3)\n",
            "(False, 4)\n",
            "(False, 4)\n",
            "(False, 4)\n",
            "(False, 4)\n",
            "(False, 4)\n",
            "(False, 4)\n"
          ],
          "name": "stdout"
        },
        {
          "output_type": "execute_result",
          "data": {
            "text/plain": [
              "(True, 6)"
            ]
          },
          "metadata": {
            "tags": []
          },
          "execution_count": 99
        }
      ]
    },
    {
      "cell_type": "code",
      "metadata": {
        "colab": {
          "base_uri": "https://localhost:8080/"
        },
        "id": "AsXcUGvKjX88",
        "outputId": "89a61e18-2789-4871-9ff5-a5da93a26f65"
      },
      "source": [
        "data = [1,2,3,4,5,6,7,8,9]\r\n",
        "#data = [6,7,8,9]\r\n",
        "mid = int(len(data)/2)\r\n",
        "print(mid)\r\n",
        "print(data[mid:])\r\n",
        "print(data[:mid-1])"
      ],
      "execution_count": 49,
      "outputs": [
        {
          "output_type": "stream",
          "text": [
            "4\n",
            "[5, 6, 7, 8, 9]\n",
            "[1, 2, 3]\n"
          ],
          "name": "stdout"
        }
      ]
    }
  ]
}