{
  "nbformat": 4,
  "nbformat_minor": 0,
  "metadata": {
    "colab": {
      "name": "20-12-01.ipynb",
      "provenance": [],
      "collapsed_sections": [],
      "authorship_tag": "ABX9TyO3ab8EpzMbPwAy92nwDV0w",
      "include_colab_link": true
    },
    "kernelspec": {
      "name": "python3",
      "display_name": "Python 3"
    }
  },
  "cells": [
    {
      "cell_type": "markdown",
      "metadata": {
        "id": "view-in-github",
        "colab_type": "text"
      },
      "source": [
        "<a href=\"https://colab.research.google.com/github/HKyeol/Python_study/blob/master/20_12_01.ipynb\" target=\"_parent\"><img src=\"https://colab.research.google.com/assets/colab-badge.svg\" alt=\"Open In Colab\"/></a>"
      ]
    },
    {
      "cell_type": "markdown",
      "metadata": {
        "id": "jAMbOEXCvh9p"
      },
      "source": [
        "# 파이썬 복습  \n",
        ".\n",
        "1. 파이썬 자료형 5가지 : 문자형, 숫자형, 리스트형, 튜플형, 사전형\n",
        "2. 파이썬의 연산자 : >, <, >=, <=, =, !=\n",
        "3. 파이썬에서의 들여쓰기의 중요성\n",
        "```\n",
        "다른 자바나 c언어는 괄호로 특정 블럭을 지정하는데\n",
        "파이썬은 들여쓰기로 특정블럭(실행영역)을 지정합니다.\n",
        "```\n",
        "4. if문\n",
        "```\n",
        "    if 조건:\n",
        "      실행코드\n",
        "    elif 조건:\n",
        "      실행코드\n",
        "    else:\n",
        "      실행코드\n",
        "```\n",
        "5. 반복문 : for loop문, while loop문\n",
        "6. 판다스 사용법 : 데이터 검색, 시각화, 통계와 머신러닝 구현을 쉽게 해주는 파이썬의 모듈\n",
        "7. 문자열 변수에서 특정 철자를 취하는 방법(인덱싱)\n",
        "```\n",
        "a = 'scott'\n",
        "print[0]\n",
        "```\n",
        "8. 문자열 변수에서 특정 철자들을 취하는 방법(슬라이싱)\n",
        "```\n",
        "a = 'scott'\n",
        "print(a[0:2]) # sc\n",
        "```\n",
        "9. 문자열 변수의 길이 확인하는 방법(len)\n",
        "```\n",
        "a = 'scott'\n",
        "print(len(a)) # 5\n",
        "```\n",
        "10. 멤버 체크 하는 방법(in)\n",
        "```\n",
        "a = [1, 2, 3, 4, 5]\n",
        "b = 3 in a\n",
        "  print(b) # True\n",
        "```\n",
        "11. 문자열 포멧 이해하기\n",
        "```\n",
        "print(\"표본평균의 평균값은 %f이고 분산값은 %f이고 표준편차는 %f입니다.\" %(num1,num2,num3))\n",
        "```\n",
        "\n",
        "\n"
      ]
    },
    {
      "cell_type": "markdown",
      "metadata": {
        "id": "rfe-YC481rLo"
      },
      "source": [
        "# 35. 이스케이프 문자 이해하기\n",
        "\n",
        "\"이스케이프 문자는 키보드로 입력하기 어려운 기호를 나타내기 위해 역슬래쉬'\\' 로 시작하는 문자입니다.\"  \n",
        "\n",
        "파이썬에서 자주 사용되는 이스케이프 문자는 다음과 같습니다.\n",
        "|:------:|\n",
        "```\n",
        "이스케이프 문자             설명\n",
        "\\n                        줄바꾸기\n",
        "\\t                          탭\n",
        "\\엔터                      줄계속\n",
        "\\\\                         \\기호 자체\n",
        "\\' 또는 \\\"                 '기호 또는 \"기호 자체\n",
        "```\n",
        "예제:"
      ]
    },
    {
      "cell_type": "code",
      "metadata": {
        "colab": {
          "base_uri": "https://localhost:8080/"
        },
        "id": "3wuN9jTr2e2d",
        "outputId": "a06e1aa8-9029-4b64-ea6f-8472ab4d1605"
      },
      "source": [
        "print('나는 파이썬을 배웁니다.\\n파이썬은 자바보다 \\\n",
        "훨씬 쉽습니다')"
      ],
      "execution_count": 4,
      "outputs": [
        {
          "output_type": "stream",
          "text": [
            "나는 파이썬을 배웁니다.\n",
            "파이썬은 자바보다 훨씬 쉽습니다\n"
          ],
          "name": "stdout"
        }
      ]
    },
    {
      "cell_type": "markdown",
      "metadata": {
        "id": "1NCKCcuA3KYU"
      },
      "source": [
        "# 36. 리스트 이해하기 ( [ ] )\n",
        "\n",
        "리스트는 파이썬에서 가장 많이 활용되는 시퀀스 자료형 중 하나입니다. 리스트는 [ ] 로 표시하며 [ ] 안에 요소를 콤마(,)로 구분하여 순서있게 나열합니다.\n",
        "\n",
        "예제:\n"
      ]
    },
    {
      "cell_type": "code",
      "metadata": {
        "colab": {
          "base_uri": "https://localhost:8080/"
        },
        "id": "o0kyVbW-wTvS",
        "outputId": "35efd83c-357f-479c-9df6-bfea37074fcb"
      },
      "source": [
        "k = ['a', 'b', 'c', 'd', 'e']\n",
        "print(k)\n",
        "print(type(k))\n",
        "print(k[1])"
      ],
      "execution_count": 8,
      "outputs": [
        {
          "output_type": "stream",
          "text": [
            "['a', 'b', 'c', 'd', 'e']\n",
            "<class 'list'>\n",
            "b\n"
          ],
          "name": "stdout"
        }
      ]
    },
    {
      "cell_type": "markdown",
      "metadata": {
        "id": "hVMzTVSs4DCn"
      },
      "source": [
        "문제122. 동전의 앞면과 뒷면을 포함하는 리스트 coin을 만드시오."
      ]
    },
    {
      "cell_type": "code",
      "metadata": {
        "id": "YUdodODpveA7"
      },
      "source": [
        "coin = ['앞면','뒷면']"
      ],
      "execution_count": 16,
      "outputs": []
    },
    {
      "cell_type": "markdown",
      "metadata": {
        "id": "e178WYkb4dcH"
      },
      "source": [
        "문제123. 위에서 만든 coin의 요소를 10000개로 늘려서 coin_10000 변수에 담으시오!"
      ]
    },
    {
      "cell_type": "code",
      "metadata": {
        "id": "-Yv2D-4p4hvI"
      },
      "source": [
        "import numpy as np\n",
        "coin = ['앞면','뒷면']\n",
        "coin_10000 = coin*10000\n",
        "a = np.random.choice(coin,10000)\n"
      ],
      "execution_count": 15,
      "outputs": []
    },
    {
      "cell_type": "markdown",
      "metadata": {
        "id": "mFx1Hcst4wsB"
      },
      "source": [
        "문제124. 위에서 만든 coin_10000 리스트에서 표본을 10개를 추출하시오!"
      ]
    },
    {
      "cell_type": "code",
      "metadata": {
        "colab": {
          "base_uri": "https://localhost:8080/"
        },
        "id": "-UKuaQGK4z8X",
        "outputId": "2818563d-cfd0-4955-ddf4-fb5440651a71"
      },
      "source": [
        "import numpy as np\n",
        "coin = ['앞면','뒷면']\n",
        "coin_10000 = coin*10000\n",
        "np.random.choice(coin_10000,10)"
      ],
      "execution_count": 18,
      "outputs": [
        {
          "output_type": "execute_result",
          "data": {
            "text/plain": [
              "array(['앞면', '앞면', '뒷면', '뒷면', '뒷면', '앞면', '뒷면', '뒷면', '뒷면', '앞면'],\n",
              "      dtype='<U2')"
            ]
          },
          "metadata": {
            "tags": []
          },
          "execution_count": 18
        }
      ]
    },
    {
      "cell_type": "markdown",
      "metadata": {
        "id": "hHbehruI5PU3"
      },
      "source": [
        "설명: np.random.choice는 numpy 모듈 안에 random 코드 안에 choice 함수를 하용하겠다. np.random.choice(모집단 리스트, 샘플 갯수)\n",
        "\n",
        "문제125. 위에서 추출한 샘플 10개에서 앞면이 몇번 나오는지 출력하시오."
      ]
    },
    {
      "cell_type": "code",
      "metadata": {
        "colab": {
          "base_uri": "https://localhost:8080/"
        },
        "id": "bH0zpYuS5rnb",
        "outputId": "c20df7bc-4e6a-4913-9501-6d2f810e1be7"
      },
      "source": [
        "result = np.random.choice(coin_10000,10)\n",
        "cnt = 0\n",
        "for i in result:\n",
        " if i == '앞면':\n",
        "    cnt += 1\n",
        "print(cnt)\n"
      ],
      "execution_count": 32,
      "outputs": [
        {
          "output_type": "stream",
          "text": [
            "7\n"
          ],
          "name": "stdout"
        }
      ]
    },
    {
      "cell_type": "markdown",
      "metadata": {
        "id": "N2o33-SS_YJi"
      },
      "source": [
        "# 37. 튜플 이해하기( ( ) )\n",
        "\n",
        "튜플은 리스트와 비슷한 성질을 가지고 있는 자료형이지만\n",
        "요소의 값을 변경할 수 없다는 특징이 있습니다.\n",
        "리스트는 대괄호 [ ]로 요소들을 감쌌는데 튜플은 소괄호 ( ) 로 요소를 감쌉니다.\n",
        "튜플은 데이터가 변경이 안되므로 튜플로 만든 리스트의 신뢰도는 높아집니다.  \n",
        "예제: 리스트에서 특정 요소를 변경하는 방법"
      ]
    },
    {
      "cell_type": "code",
      "metadata": {
        "colab": {
          "base_uri": "https://localhost:8080/"
        },
        "id": "uh3aewtt_8JW",
        "outputId": "3753a5ce-c20f-48b3-b45b-6145e0db87fa"
      },
      "source": [
        "a = [1, 2, 3, 4, 5]\n",
        "print(type(a)) # <class 'list'>\n",
        "print( a[0]) # 1\n",
        "a[0] = 7 # a 리스트의 0번째 요소를 7로 변경한다\n",
        "print(a)"
      ],
      "execution_count": 34,
      "outputs": [
        {
          "output_type": "stream",
          "text": [
            "<class 'list'>\n",
            "1\n",
            "[7, 2, 3, 4, 5]\n"
          ],
          "name": "stdout"
        }
      ]
    },
    {
      "cell_type": "markdown",
      "metadata": {
        "id": "7AV1N28bARax"
      },
      "source": [
        "문제126. a 리스트에 세번째 요소를 17로 변경하시오!"
      ]
    },
    {
      "cell_type": "code",
      "metadata": {
        "colab": {
          "base_uri": "https://localhost:8080/"
        },
        "id": "Ymm_qBxnAgM6",
        "outputId": "80654ff4-73be-4f4a-e661-cba566b067f9"
      },
      "source": [
        "a[2] = 17\n",
        "print(a)"
      ],
      "execution_count": 35,
      "outputs": [
        {
          "output_type": "stream",
          "text": [
            "[7, 2, 17, 4, 5]\n"
          ],
          "name": "stdout"
        }
      ]
    },
    {
      "cell_type": "markdown",
      "metadata": {
        "id": "GARkILQLAuK0"
      },
      "source": [
        "7 2 3 4 5  \n",
        "0 1 2 3 4 # 인덱스번호  \n",
        "예제2. 튜플은 데이터를 변경할 수 없습니다."
      ]
    },
    {
      "cell_type": "code",
      "metadata": {
        "id": "NumLqs9RBI1m"
      },
      "source": [
        "b = (1, 2, 3, 4, 5)\n",
        "print(b[0]) # 1\n",
        "b[0] = 7    #에러가 나면서 실행되지 않습니다."
      ],
      "execution_count": null,
      "outputs": []
    },
    {
      "cell_type": "markdown",
      "metadata": {
        "id": "7X1pz16_Bn5v"
      },
      "source": [
        "설명: 회사에서 변경이 되어서는 안되는 데이터는 프로그래밍 할 때 튜플로 만들어서 관리하면 됩니다.  \n",
        "신세계 백화점, 이마트에서 사용하는 포인트 적립 카드에서 포인트 적립시 구매금액의 0.1%로 적립을 해준다고 하면 0.1은 절대로 프로그램에서 변경이 되어서는 안되는 데이터 이므로 튜플로 관리해야합니다.  \n",
        "  \n",
        "\n",
        "문제127. 아래의 숫자 데이터들을 튜플로 생성하시오!  \n",
        "튜플 변수 이름은 point 라고 하세요!  \n",
        "0.01, 0.02, 0.03, 0.04, 0.05\n"
      ]
    },
    {
      "cell_type": "code",
      "metadata": {
        "colab": {
          "base_uri": "https://localhost:8080/"
        },
        "id": "KP1ErmylCg4Y",
        "outputId": "902b6d32-50ea-404e-df8b-132073b9b91a"
      },
      "source": [
        "point = (0.01, 0.02, 0.03, 0.04, 0.05)\n",
        "print(type(point))"
      ],
      "execution_count": 41,
      "outputs": [
        {
          "output_type": "stream",
          "text": [
            "<class 'tuple'>\n"
          ],
          "name": "stdout"
        }
      ]
    },
    {
      "cell_type": "markdown",
      "metadata": {
        "id": "xIiuQW1UCgW1"
      },
      "source": [
        "문제128. 위의 튜플 point의 요소중 0.03 만 뽑아서 출력하시오."
      ]
    },
    {
      "cell_type": "code",
      "metadata": {
        "colab": {
          "base_uri": "https://localhost:8080/"
        },
        "id": "NHhc7s5DDB-q",
        "outputId": "78c45d5c-27f6-47bf-c179-20db7b00ee44"
      },
      "source": [
        "for i in point:\n",
        "  if i == 0.03:\n",
        "    print(i)\n",
        "    break"
      ],
      "execution_count": 44,
      "outputs": [
        {
          "output_type": "stream",
          "text": [
            "0.03\n"
          ],
          "name": "stdout"
        }
      ]
    },
    {
      "cell_type": "markdown",
      "metadata": {
        "id": "F7UbRGDsDhI4"
      },
      "source": [
        "문제129. 위의 튜플의 모든 요소를 다 출력하시오!"
      ]
    },
    {
      "cell_type": "code",
      "metadata": {
        "colab": {
          "base_uri": "https://localhost:8080/"
        },
        "id": "DwJiyDXdDjjV",
        "outputId": "556acd02-aa98-416e-ee67-3fffde81e3bc"
      },
      "source": [
        "for i in point:\n",
        "  print(i)"
      ],
      "execution_count": 46,
      "outputs": [
        {
          "output_type": "stream",
          "text": [
            "0.01\n",
            "0.02\n",
            "0.03\n",
            "0.04\n",
            "0.05\n"
          ],
          "name": "stdout"
        }
      ]
    },
    {
      "cell_type": "markdown",
      "metadata": {
        "id": "zEwTbTyAEXql"
      },
      "source": [
        "scott으로도 해보자"
      ]
    },
    {
      "cell_type": "code",
      "metadata": {
        "colab": {
          "base_uri": "https://localhost:8080/"
        },
        "id": "_aZ4CVT3ETWW",
        "outputId": "b450b1f9-f78c-46a9-888e-35e1cb9b7f5d"
      },
      "source": [
        "for j in 'scott':\n",
        "  print(j)"
      ],
      "execution_count": 47,
      "outputs": [
        {
          "output_type": "stream",
          "text": [
            "s\n",
            "c\n",
            "o\n",
            "t\n",
            "t\n"
          ],
          "name": "stdout"
        }
      ]
    },
    {
      "cell_type": "markdown",
      "metadata": {
        "id": "gRwO2rm6Dm4V"
      },
      "source": [
        "하나씩 빼내준다.  \n",
        "\n"
      ]
    },
    {
      "cell_type": "markdown",
      "metadata": {
        "id": "BaXTaGzNEpZ4"
      },
      "source": [
        "# 38. 사전 이해하기( { } )\n",
        "\n",
        "사전은 키와 값을 하나의 요소로 하는 순서가 없는 집합입니다.  \n",
        "그러므로 사전은 시퀀스 자료형이 아니며 인덱싱으로 값을 접근 할 수도 없습니다. 사전은 '키:값' 쌍이 하나의 요소입니다.  \n",
        "\n",
        "예:"
      ]
    },
    {
      "cell_type": "code",
      "metadata": {
        "colab": {
          "base_uri": "https://localhost:8080/"
        },
        "id": "uLA4DIrPE92P",
        "outputId": "39f3971d-a046-43cf-ca01-257569c7f30c"
      },
      "source": [
        "a = { 'apple':'사과','banana':'바나나','peach':'복숭아'}\n",
        "#        키     값       키와 값은 하나의 요소입니다.\n",
        "print(a)\n",
        "print(type(a))"
      ],
      "execution_count": 48,
      "outputs": [
        {
          "output_type": "stream",
          "text": [
            "{'apple': '사과', 'banana': '바나나', 'peach': '복숭아'}\n",
            "<class 'dict'>\n"
          ],
          "name": "stdout"
        }
      ]
    },
    {
      "cell_type": "code",
      "metadata": {
        "colab": {
          "base_uri": "https://localhost:8080/"
        },
        "id": "nRvPZQDIFtPq",
        "outputId": "fdcb7f03-9cc7-4a3a-acc3-08bbf2850be3"
      },
      "source": [
        "print(a.keys()) # 키값들만 출력\n",
        "print(a.values()) # 값들만 출력"
      ],
      "execution_count": 53,
      "outputs": [
        {
          "output_type": "stream",
          "text": [
            "dict_keys(['apple', 'banana', 'peach'])\n",
            "dict_values(['사과', '바나나', '복숭아'])\n"
          ],
          "name": "stdout"
        }
      ]
    },
    {
      "cell_type": "markdown",
      "metadata": {
        "id": "_hAxb7UjGD_E"
      },
      "source": [
        "포도를 추가하고 싶으면"
      ]
    },
    {
      "cell_type": "code",
      "metadata": {
        "colab": {
          "base_uri": "https://localhost:8080/"
        },
        "id": "_oPmNZ7oGCzq",
        "outputId": "95b3cc30-7969-4806-f4f4-45661687ceaa"
      },
      "source": [
        "a['grape']='포도'   # 새로운 키와 값을 추가하는 방법\n",
        "print(a)"
      ],
      "execution_count": 54,
      "outputs": [
        {
          "output_type": "stream",
          "text": [
            "{'apple': '사과', 'banana': '바나나', 'peach': '복숭아', 'grape': '포도'}\n"
          ],
          "name": "stdout"
        }
      ]
    },
    {
      "cell_type": "markdown",
      "metadata": {
        "id": "RULFjksfGbYs"
      },
      "source": [
        "예제: b = {} # 비어있는 딕셔너리를 생성한다."
      ]
    },
    {
      "cell_type": "code",
      "metadata": {
        "colab": {
          "base_uri": "https://localhost:8080/"
        },
        "id": "9hMtu26CGiyu",
        "outputId": "00cdc467-709b-4095-fb56-631722a6e122"
      },
      "source": [
        "b = {}\n",
        "b['apple'] = '사과'\n",
        "b['pear']= '배'\n",
        "b['grape'] = '포도'\n",
        "print(b)"
      ],
      "execution_count": 55,
      "outputs": [
        {
          "output_type": "stream",
          "text": [
            "{'apple': '사과', 'pear': '배', 'grape': '포도'}\n"
          ],
          "name": "stdout"
        }
      ]
    },
    {
      "cell_type": "markdown",
      "metadata": {
        "id": "KgIyjhZvGxJc"
      },
      "source": [
        "문제130. 아래의 두개의 리스트를 각각 만들고 아래와 같이 fruit라는 딕셔너리를 생성하시오!  \n",
        "```\n",
        "a = ['사과','배','포도','복숭아','바나나']\n",
        "b = ['apple','pear','grape','peach','banana']\n",
        "결과: print(fruit)\n",
        "      {'사과':'apple','배','pear' ...}\n",
        "```"
      ]
    },
    {
      "cell_type": "code",
      "metadata": {
        "colab": {
          "base_uri": "https://localhost:8080/"
        },
        "id": "JNCto6FwHdkq",
        "outputId": "5149d125-6470-4cf6-896e-314ae571febc"
      },
      "source": [
        "a = ['사과','배','포도','복숭아','바나나']\n",
        "b = ['apple','pear','grape','peach','banana']\n",
        "fruit = {}\n",
        "for i, k  in zip(a,b):\n",
        "  fruit[i]=k\n",
        "print(fruit)"
      ],
      "execution_count": 64,
      "outputs": [
        {
          "output_type": "stream",
          "text": [
            "{'사과': 'apple', '배': 'pear', '포도': 'grape', '복숭아': 'peach', '바나나': 'banana'}\n"
          ],
          "name": "stdout"
        }
      ]
    },
    {
      "cell_type": "markdown",
      "metadata": {
        "id": "oj-It0lEISKz"
      },
      "source": [
        "zip을 쓰면 쉽게 할 수 있다.  \n",
        "\n",
        "아래는 데이터 프레임 형태"
      ]
    },
    {
      "cell_type": "code",
      "metadata": {
        "colab": {
          "base_uri": "https://localhost:8080/"
        },
        "id": "2fe49zAwHhAR",
        "outputId": "2855ded6-7937-4300-c14a-12b4c4680ac5"
      },
      "source": [
        "import pandas as pd\n",
        "df_1 = pd.DataFrame({'영어':a,'뜻':b})\n",
        "print(df_1)"
      ],
      "execution_count": 79,
      "outputs": [
        {
          "output_type": "stream",
          "text": [
            "    영어       뜻\n",
            "0   사과   apple\n",
            "1    배    pear\n",
            "2   포도   grape\n",
            "3  복숭아   peach\n",
            "4  바나나  banana\n"
          ],
          "name": "stdout"
        }
      ]
    },
    {
      "cell_type": "markdown",
      "metadata": {
        "id": "DdmfqYIiMznG"
      },
      "source": [
        "# 39. 함수 이해하기(def)\n",
        "\n",
        "오라클 배울 때 함수를 다음과 같이 사용했었습니다.\n",
        "```\n",
        "select max(sal)\n",
        "  from emp;\n",
        "\n",
        "select substr('smith',1,3)\n",
        "  from dual;\n",
        "```\n",
        "\n",
        "오라클 배울때는 오라클 개발자가 만들어준 함수를 사용했지만  \n",
        "파이썬 배울때는 우리가 직접 함수를 생성합니다.  \n",
        "파이썬에도 파이썬 개발자가 미리 만들어 놓은 함수들이 있습니다.  \n",
        "파이썬이 무료이고 전세계인이 사용하는 프로그램이다 보니 각국의 뛰어난 개발자들이 파이썬 함수를 직접 만들어서 공유를 해줍니다.  \n",
        "우리는 그냥 import 명령어로 불러와서 그 개발자가 만든 함수를 쓸 수 있습니다.  \n",
        "\n",
        "빅데이터 분석가 (분야가 다양한 곳에서 분석)  \n",
        "import로 불러와서 내 전공에 해당하는 코드들을 쉽게 구현할 수 있다."
      ]
    },
    {
      "cell_type": "markdown",
      "metadata": {
        "id": "l3d5C02NOTkY"
      },
      "source": [
        "```\n",
        "  오라클 함수        vs        파이썬 함수\n",
        "    upper                      upper()\n",
        "    lower                      lower()\n",
        "    initcap                    만들어써야함\n",
        "    substr                     만들어써야함\n",
        "    replace                    replace()\n",
        "    length                     len()\n",
        "    rtrim                      rstrip()\n",
        "    ltrim                      lstrip()\n",
        "    rpad                       만들어써야함\n",
        "    lpad                       만들어써야함\n",
        "    instr                      만들어써야함\n",
        "    round                      round()\n",
        "    trunc                      trunc()\n",
        "    mod                        %\n",
        "    power                      pow\n",
        "    to_char                    str\n",
        "    to_number                  int, float\n",
        "    to_date                    datetime,strptime()\n",
        "    nvl                        만들어써야함\n",
        "    decode                     if 문\n",
        "    case                       if 문\n",
        "```"
      ]
    },
    {
      "cell_type": "markdown",
      "metadata": {
        "id": "ew5pNcMrPtbi"
      },
      "source": [
        "예제. 아래의 SQL을 파이썬으로 구현하시오!\n",
        "```\n",
        "SQL> select lower(ename)\n",
        "      from emp;\n",
        "pandas>\n",
        "```"
      ]
    },
    {
      "cell_type": "code",
      "metadata": {
        "colab": {
          "base_uri": "https://localhost:8080/"
        },
        "id": "ucGqmQATNWIF",
        "outputId": "e272d5fb-381f-4cde-e6ce-09a937118a64"
      },
      "source": [
        "\n",
        "#from google.colab import drive\n",
        "#drive.mount('/content/gdrive//')\n",
        "\n",
        "import pandas as pd\n",
        "filename = '/content/gdrive/My Drive/emp3.csv'\n",
        "emp = pd.read_csv(filename)\n",
        "for i in emp['ename']:\n",
        "  print(i.lower())"
      ],
      "execution_count": 137,
      "outputs": [
        {
          "output_type": "stream",
          "text": [
            "Mounted at /content/gdrive//\n",
            "king\n",
            "blake\n",
            "clark\n",
            "jones\n",
            "martin\n",
            "allen\n",
            "turner\n",
            "james\n",
            "ward\n",
            "ford\n",
            "smith\n",
            "scott\n",
            "adams\n",
            "miller\n"
          ],
          "name": "stdout"
        }
      ]
    },
    {
      "cell_type": "markdown",
      "metadata": {
        "id": "C5ZoLCKtQwJv"
      },
      "source": [
        "문제131. (점심시간 문제) 아래의 SQL을 파이썬으로 구현하시오!\n",
        "```\n",
        ">SQL select lower(ename), lower(job)\n",
        "      from emp;"
      ]
    },
    {
      "cell_type": "code",
      "metadata": {
        "colab": {
          "base_uri": "https://localhost:8080/"
        },
        "id": "u7N5k-bHQmUd",
        "outputId": "a8ada705-b894-49ec-af18-8d2fff1339af"
      },
      "source": [
        "import pandas as pd\n",
        "filename = '/content/gdrive/My Drive/emp3.csv'\n",
        "emp = pd.read_csv(filename)\n",
        "for i,k in zip(emp['ename'],emp['job']):\n",
        "  print(i.lower(),k.lower())"
      ],
      "execution_count": 138,
      "outputs": [
        {
          "output_type": "stream",
          "text": [
            "king president\n",
            "blake manager\n",
            "clark manager\n",
            "jones manager\n",
            "martin salesman\n",
            "allen salesman\n",
            "turner salesman\n",
            "james clerk\n",
            "ward salesman\n",
            "ford analyst\n",
            "smith clerk\n",
            "scott analyst\n",
            "adams clerk\n",
            "miller clerk\n"
          ],
          "name": "stdout"
        }
      ]
    },
    {
      "cell_type": "markdown",
      "metadata": {
        "id": "zL9PvuKGnKgG"
      },
      "source": [
        "* 함수를 생성하는 방법    \n",
        "\n",
        "```\n",
        "def 함수이름(매개변수):\n",
        "    실행문\n",
        "    return 출력값이 있는 변수명\n",
        "\n",
        "def add_number(n1, n2):  \n",
        "    result = n1 + n2\n",
        "    return result\n",
        "```\n",
        "이러면 함수가 만들어진다."
      ]
    },
    {
      "cell_type": "code",
      "metadata": {
        "colab": {
          "base_uri": "https://localhost:8080/"
        },
        "id": "W5zT8XtGnVPl",
        "outputId": "2dc648e8-70a8-4204-88f2-ab607dce0cae"
      },
      "source": [
        "def add_number(n1, n2):  \n",
        "  result = n1+ n2      # n1에 입력된 값과 n2에 입력된 값을 더해서 result에 입력한다.\n",
        "  return result        # result에 입력된 값을 출력한다.\n",
        "\n",
        "print(add_number(1,2))"
      ],
      "execution_count": 148,
      "outputs": [
        {
          "output_type": "stream",
          "text": [
            "3\n"
          ],
          "name": "stdout"
        }
      ]
    },
    {
      "cell_type": "markdown",
      "metadata": {
        "id": "OGt_LmJ0p-zO"
      },
      "source": [
        "설명:위와 같이 만들고 컴퓨터를 껐다가 켠 다음 다시 아래와 같은 함수를 실행만 하게 되면 실행되지 않는다. 다시 add_number 함수(def)를 생성해줘야 합니다."
      ]
    },
    {
      "cell_type": "markdown",
      "metadata": {
        "id": "4s7YH0Eqnpwc"
      },
      "source": [
        "* 콜론(:)으로 끝을 맺는 경우 4가지  \n",
        "1. if문 종료시  \n",
        "   예; if 조건:\n",
        "2. for문 종료시  \n",
        "  for i in range(1,11):\n",
        "3. 함수 생성시  \n",
        "  예: def 함수이름(입력 매개변수):\n",
        "\n",
        "4. 클래스 생성시  \n",
        "  예: class 클래스이름:\n",
        "\n",
        "  문제132. for loop문을 사용하여 1부터 10까지 출력하시오!"
      ]
    },
    {
      "cell_type": "code",
      "metadata": {
        "colab": {
          "base_uri": "https://localhost:8080/"
        },
        "id": "3EC0aOmTqg13",
        "outputId": "481599b9-4865-4076-ecaa-c1a29799010e"
      },
      "source": [
        "cnt = 0\n",
        "for i in range(1,11):\n",
        "  cnt += i\n",
        "print(cnt)"
      ],
      "execution_count": 150,
      "outputs": [
        {
          "output_type": "stream",
          "text": [
            "55\n"
          ],
          "name": "stdout"
        }
      ]
    },
    {
      "cell_type": "markdown",
      "metadata": {
        "id": "LvmrcRxIr0YK"
      },
      "source": [
        "문제134. 위의 코드를 이용해서 함수를 생성하는데 아래와 같이 숫자를 입력하고 함수를 실행하면 해당 숫자부터 1부터 다 더한 값이 출력되게 하시오!\n",
        "\n",
        "print(all_add(10))\n",
        "55"
      ]
    },
    {
      "cell_type": "code",
      "metadata": {
        "colab": {
          "base_uri": "https://localhost:8080/"
        },
        "id": "HoLy0f_Ir7yo",
        "outputId": "eaaebb75-f502-4940-c76b-06d0e1be2e2d"
      },
      "source": [
        "def all_add(n1):\n",
        "  cnt = 0\n",
        "  for i in range(1,n1+1):\n",
        "    cnt += i\n",
        "  return(cnt)               # 함수 생성시 return 절은 필수입니다.\n",
        "print(all_add(10))"
      ],
      "execution_count": 152,
      "outputs": [
        {
          "output_type": "stream",
          "text": [
            "55\n"
          ],
          "name": "stdout"
        }
      ]
    },
    {
      "cell_type": "markdown",
      "metadata": {
        "id": "4YSOt6H5tKQz"
      },
      "source": [
        "문제135. 다음의 문자열 변수를 생성하고 문자열 변수의 문자를 소문자로 출력하시오.  \n",
        "\n",
        "a = 'SCOTT'"
      ]
    },
    {
      "cell_type": "code",
      "metadata": {
        "colab": {
          "base_uri": "https://localhost:8080/"
        },
        "id": "qFfwzPSAtYaI",
        "outputId": "e1325707-e3c7-4699-820b-cbbd88a5be15"
      },
      "source": [
        "print('SCOTT'.lower())"
      ],
      "execution_count": 153,
      "outputs": [
        {
          "output_type": "stream",
          "text": [
            "scott\n"
          ],
          "name": "stdout"
        }
      ]
    },
    {
      "cell_type": "markdown",
      "metadata": {
        "id": "ySleyJSztqwc"
      },
      "source": [
        "문제136. 아래의 문자열을 대문자로 출력하시오!\n",
        "a = 'scott'"
      ]
    },
    {
      "cell_type": "code",
      "metadata": {
        "colab": {
          "base_uri": "https://localhost:8080/"
        },
        "id": "MqfxMRyNtt_D",
        "outputId": "4f624d81-a8b6-4c9a-cc1e-de13fd84cd02"
      },
      "source": [
        "print('scott'.upper())"
      ],
      "execution_count": 154,
      "outputs": [
        {
          "output_type": "stream",
          "text": [
            "SCOTT\n"
          ],
          "name": "stdout"
        }
      ]
    },
    {
      "cell_type": "markdown",
      "metadata": {
        "id": "RQUNfeJ7uGdj"
      },
      "source": [
        "문제137. 아래의 문자열에서 첫번째 철자만 출력하시오!\n",
        "a = 'scott'"
      ]
    },
    {
      "cell_type": "code",
      "metadata": {
        "colab": {
          "base_uri": "https://localhost:8080/"
        },
        "id": "8o9oGuVEuJvJ",
        "outputId": "0dcd7fa5-2073-46fe-b37d-fb57df798ca4"
      },
      "source": [
        "print('scott'[0])"
      ],
      "execution_count": 158,
      "outputs": [
        {
          "output_type": "stream",
          "text": [
            "s\n"
          ],
          "name": "stdout"
        }
      ]
    },
    {
      "cell_type": "markdown",
      "metadata": {
        "id": "pLZhgeWkuopz"
      },
      "source": [
        "문제138. 위에 출력한 첫번째 철자를 대문자로 출력하시오."
      ]
    },
    {
      "cell_type": "code",
      "metadata": {
        "colab": {
          "base_uri": "https://localhost:8080/"
        },
        "id": "tJn35LFyurHT",
        "outputId": "4c5d9bb1-2405-4305-bcbd-d5d5401774c5"
      },
      "source": [
        "a = 'scott'\n",
        "print(a[0].upper())"
      ],
      "execution_count": 159,
      "outputs": [
        {
          "output_type": "stream",
          "text": [
            "S\n"
          ],
          "name": "stdout"
        }
      ]
    },
    {
      "cell_type": "markdown",
      "metadata": {
        "id": "RKOufK0Gu03V"
      },
      "source": [
        "문제139. 아래의 문자열 변수에서 cott만 출력하시오.  \n",
        "\n",
        "        두번째 철자부터 끝까지 출력하시오"
      ]
    },
    {
      "cell_type": "code",
      "metadata": {
        "colab": {
          "base_uri": "https://localhost:8080/"
        },
        "id": "tdehjmRjvAtA",
        "outputId": "9b20f699-e69c-4949-9887-ce5c48d0f4a3"
      },
      "source": [
        "print(a[1:])"
      ],
      "execution_count": 160,
      "outputs": [
        {
          "output_type": "stream",
          "text": [
            "cott\n"
          ],
          "name": "stdout"
        }
      ]
    },
    {
      "cell_type": "markdown",
      "metadata": {
        "id": "yg-OrX9WvGve"
      },
      "source": [
        "문제140. 아래의 함수를 생성하시오. 첫번째만 대문자 나머지 소문자  \n",
        "print(initcap('scott')"
      ]
    },
    {
      "cell_type": "code",
      "metadata": {
        "colab": {
          "base_uri": "https://localhost:8080/"
        },
        "id": "MxCY1a3JvMw_",
        "outputId": "578469a5-dc07-4535-d0cc-19fbda36f44c"
      },
      "source": [
        "a = 'scott'\n",
        "def initcap(val):\n",
        "  return(val[0].upper()+val[1:].lower())\n",
        "print(initcap(a))"
      ],
      "execution_count": 167,
      "outputs": [
        {
          "output_type": "stream",
          "text": [
            "Scott\n"
          ],
          "name": "stdout"
        }
      ]
    },
    {
      "cell_type": "markdown",
      "metadata": {
        "id": "6QtxdMcXv6Xb"
      },
      "source": [
        "# 40. 함수 인자 이해하기\n",
        "\n",
        "인자란 위에서 사용한 입력 매개변수를 말합니다.\n",
        "예제:\n"
      ]
    },
    {
      "cell_type": "code",
      "metadata": {
        "colab": {
          "base_uri": "https://localhost:8080/"
        },
        "id": "1zsTCSNBxI6b",
        "outputId": "a875f155-6f67-4631-d776-3e871698f13e"
      },
      "source": [
        "def add_text(t1, t2):\n",
        "  return t1 + ' ' + t2\n",
        "print(add_text('파이썬','자바'))"
      ],
      "execution_count": 168,
      "outputs": [
        {
          "output_type": "stream",
          "text": [
            "파이썬 자바\n"
          ],
          "name": "stdout"
        }
      ]
    },
    {
      "cell_type": "markdown",
      "metadata": {
        "id": "ctvGqE5pxfep"
      },
      "source": [
        "* 매개변수에 아무것도 입력하지 않고 실행하면 기본값이 출력되게끔 함수를 생성하는 방법  \n",
        "\n"
      ]
    },
    {
      "cell_type": "code",
      "metadata": {
        "colab": {
          "base_uri": "https://localhost:8080/"
        },
        "id": "TwFKVpibxlHK",
        "outputId": "e9b0b0b1-568f-441d-ea58-7a7f6cc51456"
      },
      "source": [
        "def add_text(t1, t2='최고'):\n",
        "  return t1 + ' ' + t2\n",
        "print(add_text('파이썬','자바')) # 파이썬 자바\n",
        "print(add_text('파이썬'))        # 파이썬 최고"
      ],
      "execution_count": 179,
      "outputs": [
        {
          "output_type": "stream",
          "text": [
            "파이썬 자바\n",
            "파이썬 최고\n"
          ],
          "name": "stdout"
        }
      ]
    },
    {
      "cell_type": "markdown",
      "metadata": {
        "id": "Q_6ywgQ6yRc9"
      },
      "source": [
        "설명: t2에 값을 아무것도 안넣었더니 기본값으로 지정한 최고가 출력되었습니다.  \n",
        "\n",
        "# 41. 지역변수와 전역변수 이해하기(global)\n",
        "\n",
        "변수는 자신이 생성된 범위(코드블럭) 안에서만 유효합니다.  \n",
        "함수 안에서 만든 변수는 함수 안에서 살아있다가 함수 코드의 실행이 종료되면 그 생명을 다한다. 이것을 '지역변수'라고 합니다.  \n",
        "\n",
        "예: 스타벅스 내에서의 머그컵  \n",
        ".\n",
        "    \n",
        "\n",
        "\n",
        "이와는 반대로 함수 외부에서 만든 변수는 프로그램이 살아있는 동안에 함께 살아있다가 프로그램이 종료되면 같이 소멸됩니다. 이렇게 프로그램 전체를 유효범위로 가지는 변수를 '전역변수'라고 합니다.  \n",
        "\n",
        "예: 텀블러\n",
        "\n"
      ]
    },
    {
      "cell_type": "markdown",
      "metadata": {
        "id": "dDcMKFrT277I"
      },
      "source": [
        "예제1:\n"
      ]
    },
    {
      "cell_type": "code",
      "metadata": {
        "colab": {
          "base_uri": "https://localhost:8080/"
        },
        "id": "3MJzlkZF2So6",
        "outputId": "ff11253d-2ae0-4490-9835-d44cb90ea3e5"
      },
      "source": [
        "strdata = '전역변수'     # func1 함수 외부에 있는 변수 (텀블러)\n",
        "\n",
        "def func1():\n",
        "  strdata2 = '지역변수'  # func1 함수 내부에 있는 변수: 스타벅스 머그컵\n",
        "  return strdata2\n",
        "\n",
        "print(func1()) # 지역변수"
      ],
      "execution_count": 182,
      "outputs": [
        {
          "output_type": "stream",
          "text": [
            "지역변수\n"
          ],
          "name": "stdout"
        }
      ]
    },
    {
      "cell_type": "markdown",
      "metadata": {
        "id": "K6-wCA_h30kZ"
      },
      "source": [
        "* 설명: 대부분 많은 코드들이 지역변수를 사용합니다. 그러면 '전역변수'를 사용하는 경우는 언제 입니까?  \n",
        "\n",
        "프로그램 전체에서 공통적으로 사용되고 잘 변하지 않는 데이터는 전역변수로 사용합니다.  \n",
        "\n",
        "예제:"
      ]
    },
    {
      "cell_type": "code",
      "metadata": {
        "id": "xbV6Y2P_4Q2f"
      },
      "source": [
        "pi = 3.14592653589793\n",
        "\n",
        "def cycle_func1(num1): # 원의 넓이를 구하는 함수\n",
        "  global pi            # 전역변수 pi를 함수 내부로 가져올 수 있습니다.\n",
        "                       # global이라는 키워드를 앞에 쓰면 됩니다.\n",
        "  return pi * num1 * num1\n",
        "\n",
        "def cycle_func2(num1): # 원의 1/4인 부채꼴의 넓이를 구하는 함수\n",
        "  global pi\n",
        "  return 1/4 * pi * num1 * num1"
      ],
      "execution_count": 191,
      "outputs": []
    },
    {
      "cell_type": "markdown",
      "metadata": {
        "id": "DKntpgK94Yzv"
      },
      "source": [
        "# 42. 함수 리턴값 이해하기(return)  \n",
        "\n",
        "모든 함수는 이름을 갖고 있습니다. 이 이름을 불러주면 파이썬은 그 이름 아래에 정의되어 있는 코드를 실행합니다. 이 때 함수를 부르는 코드를 호출자라고 합니다. 함수가 호출자에게 결과를 돌려주는 것을 반환(return)이라고 합니다.  \n",
        "\n",
        "*절대값을 출력하는 함수(무조건 양수로 출력하는 함수)  \n"
      ]
    },
    {
      "cell_type": "code",
      "metadata": {
        "colab": {
          "base_uri": "https://localhost:8080/"
        },
        "id": "8dEcJVf-6-62",
        "outputId": "27b3215d-d00c-400a-95ef-4565a7d898f1"
      },
      "source": [
        "print(abs(-9) ) # 9\n",
        "print(abs(9) ) # 9\n"
      ],
      "execution_count": 192,
      "outputs": [
        {
          "output_type": "stream",
          "text": [
            "9\n",
            "9\n"
          ],
          "name": "stdout"
        }
      ]
    },
    {
      "cell_type": "markdown",
      "metadata": {
        "id": "I6DT1TMy7ner"
      },
      "source": [
        "문제141. abs함수를 사용하지 말고 if문을 이용해서 절대값을 출력하는 my_abs 라는 함수를 생성하시오!"
      ]
    },
    {
      "cell_type": "code",
      "metadata": {
        "colab": {
          "base_uri": "https://localhost:8080/"
        },
        "id": "xg421mdn7ukh",
        "outputId": "8395454d-5ad7-4d0b-81d8-30642df81d50"
      },
      "source": [
        "def my_abs(num):\n",
        "  if num < 0:\n",
        "    num = - num\n",
        "  return(num)\n",
        "\n",
        "print(my_abs(-9) ) # 9\n",
        "print(my_abs(9) ) # 9"
      ],
      "execution_count": 198,
      "outputs": [
        {
          "output_type": "stream",
          "text": [
            "9\n",
            "9\n"
          ],
          "name": "stdout"
        }
      ]
    },
    {
      "cell_type": "markdown",
      "metadata": {
        "id": "aXproYDI98EC"
      },
      "source": [
        "# 43. 파이썬 모듈 이해하기  \n",
        "\n",
        "파이썬에서는 각각의 소스 파일을 일컬어 모듈이라고 합니다.  \n",
        "이미 만들어져 있고 안정성이 검증된 함수들을 성격에 맞게 하나의 파일로 묶어 놓은것을 모듈이라고 합니다.  \n",
        "외부의 모듈에 있는 함수를 사용하려면 이 모듈을 먼저 우리 코드로 가져와서 자유롭게 사용할 수 있도록 해야하는데 이런 일을 파이썬에서는 모듈을 import 한다 라고 합니다.  \n",
        "\n",
        "\n",
        "예제:\n"
      ]
    },
    {
      "cell_type": "code",
      "metadata": {
        "colab": {
          "base_uri": "https://localhost:8080/"
        },
        "id": "PPQTI-un-cQA",
        "outputId": "5fb253c7-f0ce-47b9-aba9-ec137b3df974"
      },
      "source": [
        "import time                             # 모듈을 임포트 합니다.\n",
        "print('5초간 프로그램을 정지합니다')\n",
        "time.sleep(5)                           # 5초동안 멈춰있는 것 입니다.\n",
        "print('5초가 지났습니다.')"
      ],
      "execution_count": 199,
      "outputs": [
        {
          "output_type": "stream",
          "text": [
            "5초간 프로그램을 정지합니다\n",
            "5초가 지났습니다.\n"
          ],
          "name": "stdout"
        }
      ]
    },
    {
      "cell_type": "markdown",
      "metadata": {
        "id": "QlWgn162--yE"
      },
      "source": [
        "예제:"
      ]
    },
    {
      "cell_type": "code",
      "metadata": {
        "id": "hrAUNW36-9-J"
      },
      "source": [
        "import numpy as np\n",
        "\n",
        "avg = 30\n",
        "std = 5\n",
        "N = 10000000\n",
        "mogip = np.random.randn(N)*std + avg\n",
        "print(mogip)"
      ],
      "execution_count": null,
      "outputs": []
    },
    {
      "cell_type": "markdown",
      "metadata": {
        "id": "TxaVgVKn_mJ3"
      },
      "source": [
        "문제142. 서울시 초등학생 백만명의 키로 모집단을 구성하는데 평균키가 148.5이고 표준편차가 30인 모집단을 만드시오"
      ]
    },
    {
      "cell_type": "code",
      "metadata": {
        "id": "6L0JqS0Q_3gK"
      },
      "source": [
        "import numpy as np\n",
        "avg = 148.5\n",
        "std = 30\n",
        "N = 1000000\n",
        "height = np.random.randn(N)*std + avg\n",
        "print(height)"
      ],
      "execution_count": null,
      "outputs": []
    },
    {
      "cell_type": "markdown",
      "metadata": {
        "id": "gy15qShJEH01"
      },
      "source": [
        "문제143. 위의 모집단에서 100명을 표본으로 추출하여 100명의 평균키를 비어있는 리스트 a 에 입력하는 작업을 10000번 수행하세요"
      ]
    },
    {
      "cell_type": "code",
      "metadata": {
        "colab": {
          "base_uri": "https://localhost:8080/"
        },
        "id": "jCqJcVxwEQMS",
        "outputId": "a6cb8966-08fd-48d3-a257-0dbd3c0738ff"
      },
      "source": [
        "import numpy as np\n",
        "a = []\n",
        "for i in range(1,10001):\n",
        "  a.append(np.random.choice(height,100).mean()) # 모집단에서 100개를 추출해서 평균값 취함\n",
        "\n"
      ],
      "execution_count": 219,
      "outputs": [
        {
          "output_type": "stream",
          "text": [
            "[140.    140.001 140.002 ... 159.997 159.998 159.999]\n"
          ],
          "name": "stdout"
        }
      ]
    },
    {
      "cell_type": "markdown",
      "metadata": {
        "id": "1n-Yx56dGElZ"
      },
      "source": [
        "설명: 초등학생 100만명의 키 모집단에서 표본을 100개 추출해서 표본 평균을 10000개 모았음  \n",
        "\n",
        "문제144. 통계학을 전문으로 구현하는 모듈인 scipy 모듈을 임포트 하여 위의 표본의 평균키값에 대한 확률밀도값을 출력하시오."
      ]
    },
    {
      "cell_type": "code",
      "metadata": {
        "id": "KpGP4zR2IFbH"
      },
      "source": [
        "import numpy as np\n",
        "from scipy.stats import norm   # scipy의 stats 패키지로부터\n",
        "                               # norm 이라는 모듈을 import 해라"
      ],
      "execution_count": 220,
      "outputs": []
    },
    {
      "cell_type": "code",
      "metadata": {
        "id": "I4GlI2gWJin_"
      },
      "source": [
        "x = np.arange(140, 160, 0.001) # 140 ~ 160 까지 0.001 간격으로 숫자를 생성. 어레인지 아니고 a range 이다.\n",
        "print(x)"
      ],
      "execution_count": null,
      "outputs": []
    },
    {
      "cell_type": "markdown",
      "metadata": {
        "id": "cbY0esAkJua3"
      },
      "source": [
        "y = norm.pdf(x, 표본평균값들의 평균값, 표본평균값들의 표준편차)  \n",
        "*초등학생 키의 표본평균값들에 대한 확률 밀도함수 값이 출력됩니다."
      ]
    },
    {
      "cell_type": "code",
      "metadata": {
        "id": "lftYeIh6Job8"
      },
      "source": [
        "y = norm.pdf(x,np.mean(a),np.std(a))    # norm.pdf   pdf는 확률밀도함수 probability density function를 말함\n",
        "print(y)"
      ],
      "execution_count": null,
      "outputs": []
    },
    {
      "cell_type": "markdown",
      "metadata": {
        "id": "fbd9maSLHoG5"
      },
      "source": [
        "문제145. 데이터 시각화 전문 모듈인 matplotlib를 임포트하여 위의 표본평균값 10000개의 데이터를 시각화 하시오."
      ]
    },
    {
      "cell_type": "code",
      "metadata": {
        "colab": {
          "base_uri": "https://localhost:8080/",
          "height": 283
        },
        "id": "EoPLtaREHdO2",
        "outputId": "5c63f971-4ee3-45af-edc4-958834c2b708"
      },
      "source": [
        "import matplotlib.pyplot as plt # matplotlib 모듈안에 pyplot 라는 함수를 임포트하는데 별칭을 plt로 해라\n",
        "import numpy as np\n",
        "avg = 148.5\n",
        "std = 30\n",
        "N = 1000000\n",
        "height = np.random.randn(N)*std + avg\n",
        "a = []\n",
        "for i in range(1,10001):\n",
        "  a.append(np.random.choice(height,100).mean()) # 모집단에서 100개를 추출해서 평균값 취함\n",
        "\n",
        "x = np.arange(140, 160, 0.001) # 140 ~ 160 까지 0.001 간격으로 숫자를 생성. 어레인지 아니고 a range 이다.\n",
        "y = norm.pdf(x,np.mean(a),np.std(a))    # norm.pdf   pdf는 확률밀도함수 probability density function를 말함\n",
        "#초등학생 키의 표본평균값들에 대한 확률밀도함수 값이 출력됩니다.\n",
        "plt.plot(x,y,color='#04B4AE')\n",
        "plt.show"
      ],
      "execution_count": 246,
      "outputs": [
        {
          "output_type": "execute_result",
          "data": {
            "text/plain": [
              "<function matplotlib.pyplot.show>"
            ]
          },
          "metadata": {
            "tags": []
          },
          "execution_count": 246
        },
        {
          "output_type": "display_data",
          "data": {
            "image/png": "[encoded data removed]",
            "text/plain": [
              "<Figure size 432x288 with 1 Axes>"
            ]
          },
          "metadata": {
            "tags": [],
            "needs_background": "light"
          }
        }
      ]
    },
    {
      "cell_type": "markdown",
      "metadata": {
        "id": "XvRfj42ZRLyT"
      },
      "source": [
        "문제146. 위의 확률밀도함수 그래프의 아래쪽 영역도 색깔로 채우시오"
      ]
    },
    {
      "cell_type": "code",
      "metadata": {
        "colab": {
          "base_uri": "https://localhost:8080/",
          "height": 283
        },
        "id": "E9SkmmEfRPGy",
        "outputId": "5eb44901-da3c-47b9-a4f1-2458a434e91d"
      },
      "source": [
        "import matplotlib.pyplot as plt # matplotlib 모듈안에 pyplot 라는 함수를 임포트하는데 별칭을 plt로 해라\n",
        "import numpy as np\n",
        "avg = 148.5\n",
        "std = 30\n",
        "N = 1000000\n",
        "height = np.random.randn(N)*std + avg\n",
        "a = []\n",
        "for i in range(1,10001):\n",
        "  a.append(np.random.choice(height,100).mean()) # 모집단에서 100개를 추출해서 평균값 취함\n",
        "\n",
        "x = np.arange(140, 160, 0.001) # 140 ~ 160 까지 0.001 간격으로 숫자를 생성. 어레인지 아니고 a range 이다.\n",
        "y = norm.pdf(x,np.mean(a),np.std(a))    # norm.pdf   pdf는 확률밀도함수 probability density function를 말함\n",
        "#초등학생 키의 표본평균값들에 대한 확률밀도함수 값이 출력됩니다.\n",
        "plt.plot(x,y,color='#04B4AE')\n",
        "plt.fill_between(x,y,interpolate = True, color = '#04B4AE',alpha = 0.7) # alpha는 투명도이다."
      ],
      "execution_count": 259,
      "outputs": [
        {
          "output_type": "execute_result",
          "data": {
            "text/plain": [
              "<matplotlib.collections.PolyCollection at 0x7f6d599937f0>"
            ]
          },
          "metadata": {
            "tags": []
          },
          "execution_count": 259
        },
        {
          "output_type": "display_data",
          "data": {
            "image/png": "[encoded data removed]",
            "text/plain": [
              "<Figure size 432x288 with 1 Axes>"
            ]
          },
          "metadata": {
            "tags": [],
            "needs_background": "light"
          }
        }
      ]
    },
    {
      "cell_type": "markdown",
      "metadata": {
        "id": "NEfS1KwKRuoX"
      },
      "source": [
        "설명: plt 함수 안의 fill_between 함수를 이용해서 확률밀도함수 그래프의 아래 영역을 색깔로 채우는데 interpolate = True 를 이용해서 아래의 영역이 색깔로 채워지게 되고 alpha는 색깔 투명도인데 0.0 ~ 1.0 사이로 기술할 수 있습니다."
      ]
    },
    {
      "cell_type": "markdown",
      "metadata": {
        "id": "W8V1FueQTVR1"
      },
      "source": [
        "문제147. 위에서 그린 확률밀도함수 그래프의 색깔을 변경하고 그래프를 사진으로 첨부해서 올리세요~\n",
        "구글에서 matplot 색삭표라고 검색하면 색상이름을 확인할 수 있습니다."
      ]
    },
    {
      "cell_type": "code",
      "metadata": {
        "colab": {
          "base_uri": "https://localhost:8080/",
          "height": 286
        },
        "id": "y9YjiyuDRqn4",
        "outputId": "46b5d32f-a6ac-4bb4-90cc-7742e5038e03"
      },
      "source": [
        "import matplotlib.pyplot as plt # matplotlib 모듈안에 pyplot 라는 함수를 임포트하는데 별칭을 plt로 해라\n",
        "import numpy as np\n",
        "avg = 148.5\n",
        "avg2 = 155.5\n",
        "std = 30\n",
        "N = 1000000\n",
        "height = np.random.randn(N)*std + avg\n",
        "height2 = np.random.randn(N)*std + avg2\n",
        "a = []\n",
        "b = []\n",
        "for i in range(1,10001):\n",
        "  a.append(np.random.choice(height,100).mean()) # 모집단에서 100개를 추출해서 평균값 취함\n",
        "for i in range(1,10001):\n",
        "  b.append(np.random.choice(height2,100).mean()) # 모집단에서 100개를 추출해서 평균값 취함\n",
        "\n",
        "x = np.arange(140, 160, 0.001) # 140 ~ 160 까지 0.001 간격으로 숫자를 생성. 어레인지 아니고 a range 이다.\n",
        "y1 = norm.pdf(x,np.mean(a),np.std(a))    # norm.pdf   pdf는 확률밀도함수 probability density function를 말함\n",
        "y2 = norm.pdf(x,np.mean(b),np.std(b))    # norm.pdf   pdf는 확률밀도함수 probability density function를 말함\n",
        "\n",
        "#초등학생 키의 표본평균값들에 대한 확률밀도함수 값이 출력됩니다.\n",
        "plt.plot(x,y1,color='#04B4AE')\n",
        "plt.fill_between(x,y1,interpolate = False, color = '#04B4AE',alpha = 0.4) # alpha는 투명도이다.\n",
        "plt.plot(x,y2,color='#04B4AE')\n",
        "plt.fill_between(x,y2,interpolate = False, color = '#04B4AE',alpha = 0.4) # alpha는 투명도이다."
      ],
      "execution_count": 271,
      "outputs": [
        {
          "output_type": "execute_result",
          "data": {
            "text/plain": [
              "<matplotlib.collections.PolyCollection at 0x7f6d5906ef28>"
            ]
          },
          "metadata": {
            "tags": []
          },
          "execution_count": 271
        },
        {
          "output_type": "display_data",
          "data": {
            "image/png": "[encoded data removed]",
            "text/plain": [
              "<Figure size 432x288 with 1 Axes>"
            ]
          },
          "metadata": {
            "tags": [],
            "needs_background": "light"
          }
        }
      ]
    }
  ]
}