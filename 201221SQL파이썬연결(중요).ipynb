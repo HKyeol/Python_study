{
  "nbformat": 4,
  "nbformat_minor": 0,
  "metadata": {
    "colab": {
      "name": "201221SQL파이썬연결(중요).ipynb",
      "provenance": [],
      "authorship_tag": "ABX9TyM8BJNVV5V17mgy+SD9wxl7",
      "include_colab_link": true
    },
    "kernelspec": {
      "name": "python3",
      "display_name": "Python 3"
    }
  },
  "cells": [
    {
      "cell_type": "markdown",
      "metadata": {
        "id": "view-in-github",
        "colab_type": "text"
      },
      "source": [
        "<a href=\"https://colab.research.google.com/github/HKyeol/Python_study/blob/master/201221SQL%ED%8C%8C%EC%9D%B4%EC%8D%AC%EC%97%B0%EA%B2%B0(%EC%A4%91%EC%9A%94).ipynb\" target=\"_parent\"><img src=\"https://colab.research.google.com/assets/colab-badge.svg\" alt=\"Open In Colab\"/></a>"
      ]
    },
    {
      "cell_type": "markdown",
      "metadata": {
        "id": "YGndUUQOxbeM"
      },
      "source": [
        "# 148. 오라클과 파이썬 연동하기\r\n",
        "\r\n",
        "---\r\n",
        "```\r\n",
        "                    연동\r\n",
        "오라클 database ------------ 파이썬(통계구현, 시각화, 머신러닝, 업무자동화)\r\n",
        "       ↓\r\n",
        " 비즈니스 데이터 \r\n",
        "(정형화된 데이터)\r\n",
        "\r\n",
        "* 빅데이터 기사 시험: 데이터의 구조에 따른 종류 3가지\r\n",
        "1. 정형화된 데이터 : rdbms에 저장된 데이터\r\n",
        "        relational database management system\r\n",
        "        (관계형 데이터 베이스 관리 시스템)\r\n",
        "2. 반정형화 데이터 : html, 웹로그 데이터\r\n",
        "3. 비정형화 데이터 : 텍스트(SNS), 동영상, 이미지 데이터\r\n",
        "```"
      ]
    },
    {
      "cell_type": "markdown",
      "metadata": {
        "id": "EORZFLloyzrq"
      },
      "source": [
        "우리는 연동 안하고 emp2.csv로 저장해서 내려받음  \r\n",
        "실시간으로 변한다고 하면 실시간으로 다운받아서 파이썬으로 볼 수가 없다. 연동해야한다.  \r\n",
        "```\r\n",
        "* 오라클과 파이썬을 연동하는 이유?\r\n",
        "1. 오라클 데이터 베이스에서 실시간으로 변하는 데이터를 csv 파일로 매번 내리려면 자주 내려야 하므로 그냥 바로 연동합니다.\r\n",
        "\r\n",
        "2. 파이썬의 여러 장점들을 이용해서 데이터를 분석할 수 있기 때문입니다. (통계구현, 시각화, 머신러닝 구현, 업무자동화)\r\n",
        "\r\n",
        "3. 폐사진을 숫자로 변환해서 오라클 database에 저장합니다.\r\n",
        "    이미지를 숫자로 변환해서 오라클 database에 저장합니다.\r\n",
        "    db에 저장하고 관리를 합니다. os에 파일로 남겨만 두지 않습니다.\r\n",
        "    db에 저장하면 장점이 백업과 복구를 할 수가 있습니다.\r\n",
        "    그리고 좀 더 효율적으로 data를 관리를 할 수가 있습니다.\r\n",
        "    os에 파일로 저장되어 있으면 바이러스에 노출될 수도 있습니다.\r\n",
        "```"
      ]
    },
    {
      "cell_type": "markdown",
      "metadata": {
        "id": "HhEt70OO1n1D"
      },
      "source": [
        "* 오라클과 파이썬 연동\r\n",
        "1. 도스창을 열고 리스너의 상태를 확인합니다.  \r\n",
        "```\r\n",
        "리스너 상태 확인하는 명령어 : lsnrctl status\r\n",
        "리스너 없다고 나오면: lsnrctl start(시작시키고 10분 기다려야 status 가능)\r\n",
        "```\r\n",
        "외부에서 오라클에 접속하려면 리스너를 통해야지만 접속이 됩니다. 리스너가 접속을 허용해주어야 접속이 되는 것입니다.  \r\n",
        "리스너가 가지고 있는 정보 중 3가지를 확인해야 합니다.  \r\n",
        "```\r\n",
        "(DESCRIPTION=(ADDRESS=(PROTOCOL=TCP)(HOST=localhost)(PORT=1521)))에 연결되었습니다\r\n",
        "리스너의 상태\r\n",
        "여기서 host부분이 ip주소\r\n",
        "port가 포트번호\r\n",
        "\"orcl\" 서비스는 1개의 인스턴스를 가집니다.\r\n",
        "여기서 \"\"안 부분이 서비스 이름\r\n",
        "```\r\n",
        "    1. ip 주소 (건물주소) : local host\r\n",
        "    2. 포트번호 (건물안의 복도) : 1522\r\n",
        "    3. 서비스 이름 (회사이름) : orcl\r\n",
        "2. 위의 정보들을 이용해서 오라클 database에 접속을 해봅니다.\r\n",
        "```\r\n",
        "sqlplus system/oracle@localhost:1521/orcl\r\n",
        "적고 scott tiger 순서대로 적으면 로그인\r\n",
        "```\r\n",
        "3. 아나콘다 프롬프트창을 열고 cx_Oracle 모듈을 설치합니다.\r\n",
        "```\r\n",
        "conda install cx_Oracle\r\n",
        "```\r\n",
        "4. 파이썬에서 오라클과 연동하는 코드를 작성한다.\r\n",
        "(spyder에서 작성)\r\n",
        "```\r\n",
        "import cx_Oracle\r\n",
        "import pandas as pd\r\n",
        "dsn = cx_Oracle.makedsn(\"localhost\",1521,'orcl')\r\n",
        "```"
      ]
    },
    {
      "cell_type": "code",
      "metadata": {
        "id": "ufBVz3JhvoGJ"
      },
      "source": [
        "import cx_Oracle\r\n",
        "import pandas as pd\r\n",
        "\r\n",
        "dsn = cx_Oracle.makedsn(\"localhost\",1521,'orcl') # 오라클 주소를 기입한다\r\n",
        "db = cx_Oracle.connect('scott','tiger',dsn) # 오라클 접속 유저 정보\r\n",
        "cursor = db.cursor() # 결과 데이터를 담을 메모리 이름을 cursor로 선언\r\n",
        "cursor.execute(\"\"\" select * from emp \"\"\") # 더블쿼테이션\"를 3개 써야한다.\r\n",
        "                        # 작성한 쿼리문의 결과가 cursor 메모리에 담긴다.\r\n",
        "row = cursor.fetchall() # cursor 메모리에 담긴 결과를 한번에 row 변수에 담는다.\r\n",
        "emp = pd.DataFrame(row)\r\n",
        "print(emp) # 와! 된다!"
      ],
      "execution_count": null,
      "outputs": []
    },
    {
      "cell_type": "markdown",
      "metadata": {
        "id": "MNAH8ponCInQ"
      },
      "source": [
        "문제440. 위의 emp 테이블 전체를 select 했는데 전체를 다 select 하지 말고 아래의 쿼리의 결과만 select 하시오.\r\n",
        "```\r\n",
        "select empno, ename, sal, deptno\r\n",
        " from emp\r\n",
        "```"
      ]
    },
    {
      "cell_type": "code",
      "metadata": {
        "id": "jLYZDpCxHLdC"
      },
      "source": [
        "cursor.execute(\"\"\" select empno, ename, sal, deptno from emp \"\"\")\r\n",
        "row = cursor.fetchall()\r\n",
        "emp = pd.DataFrame(row)\r\n",
        "print(emp)"
      ],
      "execution_count": null,
      "outputs": []
    },
    {
      "cell_type": "markdown",
      "metadata": {
        "id": "d02qWWB9HRa_"
      },
      "source": [
        "문제441. dept 테이블의 모든 데이터를 조회하시오!"
      ]
    },
    {
      "cell_type": "code",
      "metadata": {
        "id": "Z481O4OUN3NW"
      },
      "source": [
        "cursor.execute(\"\"\" select * from dept \"\"\")\r\n",
        "row = cursor.fetchall()\r\n",
        "dept = pd.DataFrame(row)\r\n",
        "print(dept)"
      ],
      "execution_count": null,
      "outputs": []
    },
    {
      "cell_type": "markdown",
      "metadata": {
        "id": "_uMNj6YtOP-h"
      },
      "source": [
        "문제442. 우리반 테이블(emp12)를 조회하시오"
      ]
    },
    {
      "cell_type": "code",
      "metadata": {
        "id": "KFYC9u-IOSpO"
      },
      "source": [
        "cursor.execute(\"\"\" select * from emp12 \"\"\")\r\n",
        "row = cursor.fetchall()\r\n",
        "emp12 = pd.DataFrame(row)\r\n",
        "print(emp12)"
      ],
      "execution_count": null,
      "outputs": []
    },
    {
      "cell_type": "markdown",
      "metadata": {
        "id": "gvNEVZPDOtT5"
      },
      "source": [
        "문제443. 월급이 1200 이상인 사원들의 이름과 월급을 출력하시오!"
      ]
    },
    {
      "cell_type": "code",
      "metadata": {
        "id": "NRZr57yYPYSb"
      },
      "source": [
        "cursor.execute(\"\"\" select * from emp where sal>=1200 \"\"\")\r\n",
        "row = cursor.fetchall()\r\n",
        "emp12 = pd.DataFrame(row)\r\n",
        "print(emp12)"
      ],
      "execution_count": null,
      "outputs": []
    },
    {
      "cell_type": "markdown",
      "metadata": {
        "id": "ypaYyH7wPggc"
      },
      "source": [
        "문제444. 사원 테이블에 월급을 막대그래프로 그리시오"
      ]
    },
    {
      "cell_type": "code",
      "metadata": {
        "id": "Gp1CXZLwPxdl"
      },
      "source": [
        "cursor.execute(\"\"\" select ename, sal from emp\"\"\")\r\n",
        "row = cursor.fetchall()\r\n",
        "emp = pd.DataFrame(row)\r\n",
        "emp.columns = ['ename','sal']\r\n",
        "emp.index = emp['ename']\r\n",
        "emp.plot(kind = 'bar') # 막대그래프가 그려진다."
      ],
      "execution_count": null,
      "outputs": []
    },
    {
      "cell_type": "markdown",
      "metadata": {
        "id": "fWsTHf27STGe"
      },
      "source": [
        "문제445. (점심시간 문제) 위의 그래프의 색깔을 변경하고 그래프를 올리세요"
      ]
    },
    {
      "cell_type": "code",
      "metadata": {
        "id": "57uUlBAeSSgS"
      },
      "source": [
        "cursor.execute(\"\"\" select ename, sal from emp\"\"\")\r\n",
        "row = cursor.fetchall()\r\n",
        "emp = pd.DataFrame(row)\r\n",
        "emp.columns = ['ename','sal']\r\n",
        "emp.index = emp['ename']\r\n",
        "emp.plot(kind = 'bar',color ='red') # 막대그래프가 그려진다."
      ],
      "execution_count": null,
      "outputs": []
    },
    {
      "cell_type": "markdown",
      "metadata": {
        "id": "Ps4m6et_nItD"
      },
      "source": [
        "문제446. 직업과 직업별 최대월급"
      ]
    },
    {
      "cell_type": "code",
      "metadata": {
        "id": "x3vLhOmNnHbQ"
      },
      "source": [
        "cursor.execute(\"\"\" select job, max(sal) from emp group by job\"\"\")\r\n",
        "row = cursor.fetchall()\r\n",
        "emp = pd.DataFrame(row)\r\n",
        "emp.columns = ['ename','sal']\r\n",
        "emp.index = emp['ename']\r\n",
        "emp.plot(kind = 'bar',color='red')\r\n"
      ],
      "execution_count": null,
      "outputs": []
    },
    {
      "cell_type": "markdown",
      "metadata": {
        "id": "tEmkvSNknH3-"
      },
      "source": [
        "문제447. 직업, 직업별 토탈월급을 출력하는데 직업별 토탈월급이 높은 것부터 출력하시오."
      ]
    },
    {
      "cell_type": "code",
      "metadata": {
        "id": "gtfwybXtnP7T"
      },
      "source": [
        "cursor.execute(\"\"\" select job, sum(sal) from emp group by job order by sum(sal) desc\"\"\")\r\n",
        "row = cursor.fetchall()\r\n",
        "emp = pd.DataFrame(row)\r\n",
        "emp.columns = ['ename','sal']\r\n",
        "emp.index = emp['ename']\r\n",
        "print(emp)"
      ],
      "execution_count": null,
      "outputs": []
    },
    {
      "cell_type": "markdown",
      "metadata": {
        "id": "_VIxI-ignxlW"
      },
      "source": [
        "문제448. 이름, 월급, 순위를 출력하는데 순위가 월급이 높은 사원순으로 순위를 부여하시오."
      ]
    },
    {
      "cell_type": "code",
      "metadata": {
        "id": "K5bj2eILn-d6"
      },
      "source": [
        "cursor.execute(\"\"\" select ename,sal,rank() over(order by sal desc) from emp\"\"\")\r\n",
        "row = cursor.fetchall()\r\n",
        "emp = pd.DataFrame(row)\r\n",
        "emp.columns = ['ename','sal']\r\n",
        "emp.index = emp['ename']\r\n",
        "print(emp)"
      ],
      "execution_count": null,
      "outputs": []
    },
    {
      "cell_type": "markdown",
      "metadata": {
        "id": "uJtyYsk9oivi"
      },
      "source": [
        "문제449. 부서번호, 부서번호별 토탈월급을 출력하시오."
      ]
    },
    {
      "cell_type": "code",
      "metadata": {
        "id": "_QuI_LdPolKc"
      },
      "source": [
        "cursor.execute(\"\"\" select deptno, sum(sal) from emp group by deptno\"\"\")\r\n",
        "row = cursor.fetchall()\r\n",
        "emp = pd.DataFrame(row)\r\n",
        "emp.columns = ['ename','sal']\r\n",
        "emp.index = emp['ename']\r\n",
        "print(emp)"
      ],
      "execution_count": null,
      "outputs": []
    },
    {
      "cell_type": "markdown",
      "metadata": {
        "id": "9CSA-Uo-pIVX"
      },
      "source": [
        "문제450. 위의 결과를 막대그래프로 시각화하시오."
      ]
    },
    {
      "cell_type": "code",
      "metadata": {
        "id": "4aDkbf41pMNl"
      },
      "source": [
        "cursor.execute(\"\"\" select deptno, sum(sal) from emp group by deptno\"\"\")\r\n",
        "row = cursor.fetchall()\r\n",
        "emp = pd.DataFrame(row)\r\n",
        "emp.columns = ['ename','sal']\r\n",
        "emp.index = emp['ename']\r\n",
        "emp.plot()"
      ],
      "execution_count": null,
      "outputs": []
    },
    {
      "cell_type": "markdown",
      "metadata": {
        "id": "_rNSs8OzpKmF"
      },
      "source": [
        "문제451. emp 테이블 전체를 출력하시오."
      ]
    },
    {
      "cell_type": "code",
      "metadata": {
        "id": "fOSKy2cxpqoD"
      },
      "source": [
        "cursor.execute(\"\"\" select * from emp\"\"\")\r\n",
        "row = cursor.fetchall()\r\n",
        "emp = pd.DataFrame(row)\r\n",
        "colname = cursor.description\r\n",
        "print(colname)"
      ],
      "execution_count": null,
      "outputs": []
    },
    {
      "cell_type": "markdown",
      "metadata": {
        "id": "NOIi28lHq2yz"
      },
      "source": [
        "컬럼명 뽑아내기"
      ]
    },
    {
      "cell_type": "code",
      "metadata": {
        "id": "KIW2M2Uoq2dS"
      },
      "source": [
        "cursor.execute(\"\"\" select * from emp\"\"\")\r\n",
        "row = cursor.fetchall()\r\n",
        "emp = pd.DataFrame(row)\r\n",
        "colname = cursor.description # 컬럼명을 가져온다.\r\n",
        "col = []\r\n",
        "for i in colname:\r\n",
        "    col.append(i[0].lower())\r\n",
        "print(col)"
      ],
      "execution_count": null,
      "outputs": []
    },
    {
      "cell_type": "markdown",
      "metadata": {
        "id": "sK31YqQ9rlbF"
      },
      "source": [
        "문제452. 위의 col 리스트에 담긴 컬럼명을 위의 데이터에 매핑시키시오."
      ]
    },
    {
      "cell_type": "code",
      "metadata": {
        "id": "5JeZzIIKsN6f"
      },
      "source": [
        "cursor.execute(\"\"\" select * from emp\"\"\")\r\n",
        "row = cursor.fetchall()\r\n",
        "#emp = pd.DataFrame(row)                    # 데이터 프레임으로 아래에서 만들거니까 뺐음\r\n",
        "colname = cursor.description # 컬럼명을 가져온다.\r\n",
        "col = []\r\n",
        "for i in colname:\r\n",
        "    col.append(i[0])\r\n",
        "#emp.columns = col                          # 컬럼명만 바꾸기\r\n",
        "emp = pd.DataFrame(list(row),columns=col)   # 행렬 전부 list(row)는 그냥 번호로 행\r\n",
        "print(emp)\r\n"
      ],
      "execution_count": null,
      "outputs": []
    },
    {
      "cell_type": "markdown",
      "metadata": {
        "id": "W-3xOtQsrxd_"
      },
      "source": [
        "문제453. 위의 컬럼명을 이용해서 판다스 문법으로 이름과 월급을 출력하시오."
      ]
    },
    {
      "cell_type": "code",
      "metadata": {
        "id": "4-CeVzYMszcs"
      },
      "source": [
        "result = emp[['ename','sal']]"
      ],
      "execution_count": null,
      "outputs": []
    },
    {
      "cell_type": "code",
      "metadata": {
        "id": "E5bYtNamtYjK"
      },
      "source": [
        "문제454. 월급이 3000 이상인 사원들의 이름과 월급을 출력하시오."
      ],
      "execution_count": null,
      "outputs": []
    },
    {
      "cell_type": "code",
      "metadata": {
        "id": "TaO06pWgtgGy"
      },
      "source": [
        "print(emp[['ename','sal']][emp['sal']>=3000])"
      ],
      "execution_count": null,
      "outputs": []
    },
    {
      "cell_type": "markdown",
      "metadata": {
        "id": "HGTYmwmCtlEz"
      },
      "source": [
        "문제455. 이름과 부서위치를 출력하시오!(그냥 SQL로 작성해서 파이썬에서 출력되게)"
      ]
    },
    {
      "cell_type": "code",
      "metadata": {
        "id": "N2wPwm_mtpXr"
      },
      "source": [
        "cursor.execute(\"\"\"select e.ename, d.loc from emp e, dept d where e.deptno=d.deptno\"\"\")\r\n",
        "row = cursor.fetchall()\r\n",
        "emp = pd.DataFrame(row)\r\n",
        "colname = cursor.description # 컬럼명을 가져온다.\r\n",
        "col = []\r\n",
        "for i in colname:\r\n",
        "    col.append(i[0].lower())\r\n",
        "emp = pd.DataFrame(list(row),columns=col)   # 행렬 전부 list(row)는 그냥 번호로 행\r\n",
        "print(emp)"
      ],
      "execution_count": null,
      "outputs": []
    },
    {
      "cell_type": "markdown",
      "metadata": {
        "id": "YDEhcXTSuPs8"
      },
      "source": [
        "문제456. 부서위치, 부서위치별 토탈월급을 출력하시오."
      ]
    },
    {
      "cell_type": "code",
      "metadata": {
        "id": "bC0EOCrauSa9"
      },
      "source": [
        "cursor.execute(\"\"\"select d.loc, sum(e.sal) \r\n",
        "                   from emp e, dept d\r\n",
        "                   where e.deptno=d.deptno\r\n",
        "                   group by d.loc\"\"\")\r\n",
        "row = cursor.fetchall()\r\n",
        "emp = pd.DataFrame(row)\r\n",
        "colname = cursor.description # 컬럼명을 가져온다.\r\n",
        "col = []\r\n",
        "for i in colname:\r\n",
        "    col.append(i[0].lower())\r\n",
        "emp = pd.DataFrame(list(row),columns=col)   # 행렬 전부 list(row)는 그냥 번호로 행\r\n",
        "print(emp)"
      ],
      "execution_count": null,
      "outputs": []
    },
    {
      "cell_type": "markdown",
      "metadata": {
        "id": "hK-7mr4euyLP"
      },
      "source": [
        "문제457. 위의 결과를 막대그래프로 시각화하시오!"
      ]
    },
    {
      "cell_type": "code",
      "metadata": {
        "id": "8OthQ4aTux8o"
      },
      "source": [
        "cursor.execute(\"\"\"\r\n",
        "               \r\n",
        "select d.loc, sum(e.sal) \r\n",
        "    from emp e, dept d\r\n",
        "    where e.deptno=d.deptno\r\n",
        "    group by d.loc\"\"\")\r\n",
        "    \r\n",
        "row = cursor.fetchall()\r\n",
        "emp = pd.DataFrame(row)\r\n",
        "colname = cursor.description # 컬럼명을 가져온다.\r\n",
        "\r\n",
        "emp = pd.DataFrame(row)\r\n",
        "emp.index = list(emp[0]) # 하단에 도시 출력\r\n",
        "emp.plot(kind='bar', color = 'red')"
      ],
      "execution_count": null,
      "outputs": []
    },
    {
      "cell_type": "markdown",
      "metadata": {
        "id": "M6TzArPcv4mA"
      },
      "source": [
        "# 149. 파이썬과 mySQL 연동\r\n",
        "\r\n",
        "현업에서는 오라클도 많이 쓰지만 mySQL도 많이 사용합니다.  \r\n",
        "오라클은 가격이 많이 나가서 중요한 데이터(Business data) 오라클에 저장하고 상대적으로 덜 중요한 데이터는 mySQL에 저장합니다.  \r\n",
        "\r\n",
        "* MySQL 실행하고 database를 생성하는 방법\r\n",
        "\r\n",
        "mysql cmd 들어가기\r\n",
        "```\r\n",
        "create database orcl;\r\n",
        "데이터베이스가 만들어진다.\r\n",
        "\r\n",
        "use orcl;\r\n",
        "database changed라고 나오면서 데이터베이스 사용할 수 있다.\r\n",
        "```"
      ]
    },
    {
      "cell_type": "markdown",
      "metadata": {
        "id": "7o4biYi02vR4"
      },
      "source": [
        "emp 테이블 생성하는 방법\r\n",
        "스크립트 복붙\r\n",
        "select * from emp 하면 보인다."
      ]
    },
    {
      "cell_type": "markdown",
      "metadata": {
        "id": "_QFDtsEx4EdO"
      },
      "source": [
        "문제458. 월급이 3000 이상인 사원들의 이름과 월급을 출력하시오."
      ]
    },
    {
      "cell_type": "code",
      "metadata": {
        "id": "QjDrsfKI3npT"
      },
      "source": [
        "mysql> select ename,sal from emp where sal >= 3000;"
      ],
      "execution_count": null,
      "outputs": []
    },
    {
      "cell_type": "markdown",
      "metadata": {
        "id": "w4pQI5Rt4MB8"
      },
      "source": [
        "오라클 SQL이랑 똑같다  \r\n",
        "\r\n",
        "문제459. 직업이 SALESMAN인 사원들의 이름과 월급과 직업을 출력하는데 월급이 높은 사원부터 출력하시오."
      ]
    },
    {
      "cell_type": "code",
      "metadata": {
        "id": "AnaOpMEd4o84"
      },
      "source": [
        "mysql> select ename, sal, job\r\n",
        "    -> from emp\r\n",
        "    -> order by sal desc;"
      ],
      "execution_count": null,
      "outputs": []
    },
    {
      "cell_type": "markdown",
      "metadata": {
        "id": "JfOvIE6o5FXr"
      },
      "source": [
        "문제460. 이름과 부서위치를 출력하시오"
      ]
    },
    {
      "cell_type": "code",
      "metadata": {
        "id": "TtcJ8APK5HIG"
      },
      "source": [
        "mysql> select e.ename, d.loc\r\n",
        "    -> from emp e, dept d\r\n",
        "    -> where e.deptno = d.deptno;"
      ],
      "execution_count": null,
      "outputs": []
    },
    {
      "cell_type": "markdown",
      "metadata": {
        "id": "JFJac2Li5HkY"
      },
      "source": [
        "문제461. JONES보다 더 많은 월급을 받는 사원들의 이름과 월급을 출력하시오"
      ]
    },
    {
      "cell_type": "code",
      "metadata": {
        "id": "XHamVI5e5Uiy"
      },
      "source": [
        "mysql> select ename, sal\r\n",
        "    -> from emp\r\n",
        "    -> where sal > (select sal from emp where ename='jones');"
      ],
      "execution_count": null,
      "outputs": []
    },
    {
      "cell_type": "markdown",
      "metadata": {
        "id": "9Obt7CGI5pKq"
      },
      "source": [
        "문제462. 이름, 월급, 월급순위를 뽑아보시오"
      ]
    },
    {
      "cell_type": "code",
      "metadata": {
        "id": "VuKp-ScF5yaN"
      },
      "source": [
        "mysql> select ename, sal, dense_rank() over(order by sal desc)\r\n",
        "    -> from emp;"
      ],
      "execution_count": null,
      "outputs": []
    },
    {
      "cell_type": "markdown",
      "metadata": {
        "id": "3hnEqwfo50qW"
      },
      "source": [
        "# Oracle과 MySQL 함수 비교\r\n",
        "```\r\n",
        "  Oracle     vs     MySQL\r\n",
        "1. nvl              ifnull\r\n",
        "2. sysdate          sysdate()\r\n",
        "3. months_between   period_add\r\n",
        "4. decode           if\r\n",
        "5. rollup           with rollup\r\n",
        "6. listagg          group_concat\r\n",
        "```"
      ]
    },
    {
      "cell_type": "markdown",
      "metadata": {
        "id": "FczsJj4k6sl-"
      },
      "source": [
        "문제463. 이름, 커미션을 출력하는데 커미션이 null인 사람들은 0으로 출력하시오"
      ]
    },
    {
      "cell_type": "code",
      "metadata": {
        "id": "WVTSAiwN6-pP"
      },
      "source": [
        "mysql> select ename, ifnull(comm,0)\r\n",
        "    -> from emp;"
      ],
      "execution_count": null,
      "outputs": []
    },
    {
      "cell_type": "markdown",
      "metadata": {
        "id": "A8MoIgm17Hr0"
      },
      "source": [
        "문제464. 오늘 날짜를 출력하시오."
      ]
    },
    {
      "cell_type": "code",
      "metadata": {
        "id": "AQ31dTcj7Weh"
      },
      "source": [
        "mysql> select sysdate();"
      ],
      "execution_count": null,
      "outputs": []
    },
    {
      "cell_type": "markdown",
      "metadata": {
        "id": "nwIwxJzv7fYz"
      },
      "source": [
        "설명: mySQL은 오라클과 같은 dual이 없음\r\n",
        "\r\n",
        "문제465. 부서번호, 부서번호별 토탈월급을 출력하시오!"
      ]
    },
    {
      "cell_type": "code",
      "metadata": {
        "id": "kDfH3ztg75mE"
      },
      "source": [
        "mysql> select deptno, sum(sal)\r\n",
        "    -> from emp\r\n",
        "    -> group by deptno;"
      ],
      "execution_count": null,
      "outputs": []
    },
    {
      "cell_type": "markdown",
      "metadata": {
        "id": "GE0-KCnG8Dz9"
      },
      "source": [
        "문제466. 위의 결과를 다시 출력하는데 맨 아래에 전체 토탈월급이 출력되게 하시오!"
      ]
    },
    {
      "cell_type": "code",
      "metadata": {
        "id": "UAIGVZya8Mxn"
      },
      "source": [
        "mysql> select deptno, sum(sal)\r\n",
        "    -> from emp\r\n",
        "    -> group by deptno with rollup;"
      ],
      "execution_count": null,
      "outputs": []
    },
    {
      "cell_type": "markdown",
      "metadata": {
        "id": "c99BlQFv86Gd"
      },
      "source": [
        " **`※ 이제부터가 아주 중요`**\r\n",
        "\r\n",
        "문제467. scott의 월급을 0으로 변경하세요"
      ]
    },
    {
      "cell_type": "code",
      "metadata": {
        "id": "OjfvrJc89PkF"
      },
      "source": [
        "mysql> update emp\r\n",
        "    -> set sal = 0\r\n",
        "    -> where ename = 'scott';"
      ],
      "execution_count": null,
      "outputs": []
    },
    {
      "cell_type": "markdown",
      "metadata": {
        "id": "eFtmQvX_9cpz"
      },
      "source": [
        "취소하고 싶으면?"
      ]
    },
    {
      "cell_type": "code",
      "metadata": {
        "id": "4aheKvgb9di1"
      },
      "source": [
        "mysql> rollback;"
      ],
      "execution_count": null,
      "outputs": []
    },
    {
      "cell_type": "markdown",
      "metadata": {
        "id": "HiqJR_Dx9fAK"
      },
      "source": [
        "근데 롤백이 안된다.\r\n",
        "```\r\n",
        "Query OK, 0 rows affected (0.00 sec)\r\n",
        "```\r\n",
        "이런 거지같은"
      ]
    },
    {
      "cell_type": "markdown",
      "metadata": {
        "id": "s8QPmD-p9ivZ"
      },
      "source": [
        "※ 설명: mysql은 오라클과는 다르게 기본 자동커밋이 활성화 되어있다. 자동 커밋되어버려서 rollback을 할 수 없습니다.  \r\n",
        "mySQL 사용자들이 많이 하는 실수 중 하나이니 주의할 것!  \r\n",
        "\r\n",
        "문제468. 자동 커밋이 활성화 되어있는지 확인하세요."
      ]
    },
    {
      "cell_type": "code",
      "metadata": {
        "id": "f9g03Lj6-RpL"
      },
      "source": [
        "select @@autocommit;"
      ],
      "execution_count": null,
      "outputs": []
    },
    {
      "cell_type": "markdown",
      "metadata": {
        "id": "4dHTqZX7-SCQ"
      },
      "source": [
        "설명: 숫자 1이라고 나오면 오토커밋이 켜져있는 것\r\n",
        "\r\n",
        "문제469. 자동 커밋 기능을 끄세요."
      ]
    },
    {
      "cell_type": "code",
      "metadata": {
        "id": "RCklaxyi-lef"
      },
      "source": [
        "mysql> set autocommit = FALSE;"
      ],
      "execution_count": null,
      "outputs": []
    },
    {
      "cell_type": "markdown",
      "metadata": {
        "id": "YshjruCs-l0g"
      },
      "source": [
        "활성화를 확인해보면 0으로 바뀌어있다.  \r\n",
        "\r\n",
        "문제470. KING의 월급을 0으로 변경하세요."
      ]
    },
    {
      "cell_type": "code",
      "metadata": {
        "id": "R60hZTXC_Xnr"
      },
      "source": [
        "mysql> update emp\r\n",
        "    -> set sal = 0\r\n",
        "    -> where ename = 'KING';"
      ],
      "execution_count": null,
      "outputs": []
    },
    {
      "cell_type": "markdown",
      "metadata": {
        "id": "yPCwzK3R_YLr"
      },
      "source": [
        "설명: mySQL을 켰으면 제일 먼저 확인해야 하는 것이 자동 커밋이 활성화 되었는지 확인하는게 아주 중요합니다.  \r\n",
        "\r\n",
        "문제471. 오라클의 listagg 함수와 같은 기능은 group_concat을 이용해서 부서번호, 부서번호별로 속한 사원들의 이름을 가로로 출력하시오."
      ]
    },
    {
      "cell_type": "code",
      "metadata": {
        "id": "57_qmTX9Dugx"
      },
      "source": [
        "mysql> select deptno, group_concat(ename separator ',') # separator부분은 없어도 된다.\r\n",
        "    -> from emp\r\n",
        "    -> group by deptno;"
      ],
      "execution_count": null,
      "outputs": []
    },
    {
      "cell_type": "markdown",
      "metadata": {
        "id": "UpWwscKwEBca"
      },
      "source": [
        "문제472. mySQL과 파이썬을 연동해서 MySQL의 emp 테이블을 파이썬으로 출력하시오.  \r\n",
        "먼저 pymysql을 설치해야 한다. 아나콘다 프롬프트 창을 열고 설치 이후 작동."
      ]
    },
    {
      "cell_type": "code",
      "metadata": {
        "id": "QV1TSxBNEzQB"
      },
      "source": [
        "conda install pymysql"
      ],
      "execution_count": null,
      "outputs": []
    },
    {
      "cell_type": "code",
      "metadata": {
        "id": "ODrhFLvmEvw3"
      },
      "source": [
        "import pymysql,pandas as pd\r\n",
        "\r\n",
        "conn = pymysql.connect(host=\"localhost\", user=\"root\",password=\"oracle\", db=\"orcl\",charset=\"utf8\")\r\n",
        "\r\n",
        "curs = conn.cursor()\r\n",
        "sql = \"select * from emp\"\r\n",
        "curs.execute(sql)\r\n",
        "rows = curs.fetchall()\r\n",
        "colname = curs.description\r\n",
        "col = []\r\n",
        "for i in colname:\r\n",
        "    col.append(i[0].lower())\r\n",
        "emp = pd.DataFrame(list(rows),columns=col)\r\n",
        "print(emp[['ENAME', 'SAL']] )"
      ],
      "execution_count": null,
      "outputs": []
    },
    {
      "cell_type": "markdown",
      "metadata": {
        "id": "oT-SqVCvGFBU"
      },
      "source": [
        "문제473. 직업, 직업별 토탈월급을 출력하시오."
      ]
    },
    {
      "cell_type": "code",
      "metadata": {
        "id": "hlQmTDykGH6w"
      },
      "source": [
        "sql = \"select job, sum(sal) from emp group by job\"\r\n",
        "curs.execute(sql)\r\n",
        "rows = curs.fetchall()\r\n",
        "colname = curs.description\r\n",
        "col = []\r\n",
        "for i in colname:\r\n",
        "    col.append(i[0].lower())\r\n",
        "emp = pd.DataFrame(list(rows),columns=col)\r\n",
        "print(emp)"
      ],
      "execution_count": null,
      "outputs": []
    },
    {
      "cell_type": "markdown",
      "metadata": {
        "id": "pN83X7QlHxzo"
      },
      "source": [
        "문제474. 위의 결과를 막대그래프로 시각화 하시오!"
      ]
    },
    {
      "cell_type": "markdown",
      "metadata": {
        "id": "YHFXbNOnZBcr"
      },
      "source": [
        "문제475. 오라클과 파이썬을 연동하여 아래의 사원들을 검색하시오.\r\n",
        "이름과 월급과 부서번호와 자기가 속한 부서번호의 평균월급을 출력하는데 자신의 월급이 자기가 속한 부서번호의 평균월급보다 더 큰 사원들만 출력하시오."
      ]
    },
    {
      "cell_type": "code",
      "metadata": {
        "id": "0x8GUHaEY_wY"
      },
      "source": [
        "import cx_Oracle\r\n",
        "import pandas as pd\r\n",
        "\r\n",
        "dsn = cx_Oracle.makedsn(\"localhost\",1521,'orcl')\r\n",
        "db = cx_Oracle.connect('scott','tiger',dsn)\r\n",
        "cursor = db.cursor()\r\n",
        "cursor.execute(\"\"\"\r\n",
        "with data as (select ename, sal, deptno, avg(sal) over(partition by deptno) as avgsal\r\n",
        "            from emp)\r\n",
        "select *\r\n",
        "    from data\r\n",
        "    where sal > avgsal\r\n",
        "    \"\"\") \r\n",
        "row = cursor.fetchall()\r\n",
        "colname = cursor.description\r\n",
        "col = []\r\n",
        "for i in colname:\r\n",
        "    col.append(i[0].lower())\r\n",
        "\r\n",
        "emp = pd.DataFrame(list(row),columns=col)\r\n",
        "\r\n",
        "print(emp)"
      ],
      "execution_count": null,
      "outputs": []
    },
    {
      "cell_type": "markdown",
      "metadata": {
        "id": "niSCS8c4LiwK"
      },
      "source": [
        "# 150. 이미지를 숫자로 변환하는 방법 (폐사진)  \r\n",
        "\r\n",
        "딥러닝 수업을 할 때 이미지를 인공신경망에 넣어서 학습을 시키는데 인공 신경망에 사진을 넣을 때 숫자로 변환을 해서 넣어야 합니다.  \r\n",
        "\r\n",
        "c드라이브 밑에 images라는 폭더에 폐사진 20장을 가져다 두세요   "
      ]
    }
  ]
}