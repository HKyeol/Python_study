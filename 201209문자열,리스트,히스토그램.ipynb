{
  "nbformat": 4,
  "nbformat_minor": 0,
  "metadata": {
    "colab": {
      "name": "201209문자열,리스트,히스토그램.ipynb",
      "provenance": [],
      "authorship_tag": "ABX9TyMdYiYTqJale14NGmv8HfUW",
      "include_colab_link": true
    },
    "kernelspec": {
      "name": "python3",
      "display_name": "Python 3"
    }
  },
  "cells": [
    {
      "cell_type": "markdown",
      "metadata": {
        "id": "view-in-github",
        "colab_type": "text"
      },
      "source": [
        "<a href=\"https://colab.research.google.com/github/HKyeol/Python_study/blob/master/201209%EB%AC%B8%EC%9E%90%EC%97%B4%2C%EB%A6%AC%EC%8A%A4%ED%8A%B8%2C%ED%9E%88%EC%8A%A4%ED%86%A0%EA%B7%B8%EB%9E%A8.ipynb\" target=\"_parent\"><img src=\"https://colab.research.google.com/assets/colab-badge.svg\" alt=\"Open In Colab\"/></a>"
      ]
    },
    {
      "cell_type": "markdown",
      "metadata": {
        "id": "c99CC7T89T8u"
      },
      "source": [
        "# 복습\r\n",
        "\r\n",
        "1. 파이썬 자료형 5가지\r\n",
        "    1. 문자형\r\n",
        "    2. 숫자형\r\n",
        "    3. 리스트형\r\n",
        "    4. 딕셔너리형\r\n",
        "    5. 튜플형\r\n",
        "    \r\n",
        "2. 파이썬과 연산자\r\n",
        "3. if문과 loop문\r\n",
        "4. 문자열 다루는 함수들1\r\n",
        "5. 파이썬에서 모듈 사용법\r\n",
        "6. 파이썬에서 클래스 사용법\r\n",
        "7. 판다스 사용법\r\n",
        "8. 예외처리\r\n",
        "9. 숫자형 다루는 함수들\r\n",
        "10. 문자열 다루는 함수들2"
      ]
    },
    {
      "cell_type": "markdown",
      "metadata": {
        "id": "4Ymgb9Sr-DA2"
      },
      "source": [
        "# 90. 문자열에서 특정 문자(열) 위치 찾기(find)  \r\n",
        "\r\n",
        "문자열 객체의 find() 함수는 문자열에서 특정 문자나 문자열이 위치하는 인덱스를 리턴합니다. find()에서 찾고자 하는 문자를 입력하면 해당 문자나 문자열이 최초로 나타나는 위치에 대한 인덱스를 리턴합니다.  \r\n",
        "\r\n",
        "예제:"
      ]
    },
    {
      "cell_type": "code",
      "metadata": {
        "colab": {
          "base_uri": "https://localhost:8080/"
        },
        "id": "RmlKvbox9S6Z",
        "outputId": "714bd95e-64ab-461f-bbeb-39aa3b6e747b"
      },
      "source": [
        "txt = 'A lot of things occur each day'\r\n",
        "word_count1 = txt.find('day')\r\n",
        "word_count1"
      ],
      "execution_count": null,
      "outputs": [
        {
          "output_type": "execute_result",
          "data": {
            "text/plain": [
              "27"
            ]
          },
          "metadata": {
            "tags": []
          },
          "execution_count": 86
        }
      ]
    },
    {
      "cell_type": "markdown",
      "metadata": {
        "id": "57zo_vn9-0VC"
      },
      "source": [
        "3이 출력되는데 3은 o라는 철자가 위치하는 첫번째 인덱스 번호를 리턴한다. day로 하면 27을 출력한다.  \r\n",
        "\r\n",
        "설명: find는 오라클의 instr 함수처럼 해당 자리의 인덱스 번호를 출력하는 문자열 함수입니다.  \r\n",
        "\r\n",
        "문제284. 우리반 데이터(emp122.csv)를 파이썬으로 로드해서 이메일만 출력하시오."
      ]
    },
    {
      "cell_type": "code",
      "metadata": {
        "colab": {
          "resources": {
            "http://localhost:8080/nbextensions/google.colab/files.js": {
              "data": "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",
              "ok": true,
              "headers": [
                [
                  "content-type",
                  "application/javascript"
                ]
              ],
              "status": 200,
              "status_text": ""
            }
          },
          "base_uri": "https://localhost:8080/",
          "height": 76
        },
        "id": "PBtQA94Q-ZJ0",
        "outputId": "26347579-a1cb-4cdd-9d2b-d0cbf51aa6d7"
      },
      "source": [
        "from google.colab import files\r\n",
        "myfile = files.upload()\r\n"
      ],
      "execution_count": 3,
      "outputs": [
        {
          "output_type": "display_data",
          "data": {
            "text/html": [
              "\n",
              "     <input type=\"file\" id=\"files-5cbddd45-9f81-4a9e-b62a-b9331fdf3d55\" name=\"files[]\" multiple disabled\n",
              "        style=\"border:none\" />\n",
              "     <output id=\"result-5cbddd45-9f81-4a9e-b62a-b9331fdf3d55\">\n",
              "      Upload widget is only available when the cell has been executed in the\n",
              "      current browser session. Please rerun this cell to enable.\n",
              "      </output>\n",
              "      <script src=\"/nbextensions/google.colab/files.js\"></script> "
            ],
            "text/plain": [
              "<IPython.core.display.HTML object>"
            ]
          },
          "metadata": {
            "tags": []
          }
        },
        {
          "output_type": "stream",
          "text": [
            "Saving emp123.csv to emp123.csv\n"
          ],
          "name": "stdout"
        }
      ]
    },
    {
      "cell_type": "code",
      "metadata": {
        "id": "l-J9tFwb_1mp"
      },
      "source": [
        "import csv\r\n",
        "file = open('emp122.csv')\r\n",
        "emp = csv.reader(file)\r\n",
        "for i in emp:\r\n",
        "    print(i[6])"
      ],
      "execution_count": null,
      "outputs": []
    },
    {
      "cell_type": "markdown",
      "metadata": {
        "id": "wIUE5wOSAgVZ"
      },
      "source": [
        "문제285. 위에서 출력한 이메일에서 @의 위치 인덱스 번호를 출력하시오!"
      ]
    },
    {
      "cell_type": "code",
      "metadata": {
        "id": "sASCC2dHAjs1"
      },
      "source": [
        "file = open('emp122.csv')\r\n",
        "emp = csv.reader(file)\r\n",
        "for i in emp:\r\n",
        "    print(i[6].find('@'))\r\n"
      ],
      "execution_count": null,
      "outputs": []
    },
    {
      "cell_type": "markdown",
      "metadata": {
        "id": "VuYZ81g0BCCV"
      },
      "source": [
        "문제286. 그러면 이번에는 이메일에서 .의 위치도 같이 출력하시오!"
      ]
    },
    {
      "cell_type": "code",
      "metadata": {
        "id": "Q8UOZ90DBBys"
      },
      "source": [
        "file = open('emp122.csv')\r\n",
        "emp = csv.reader(file)\r\n",
        "for i in emp:\r\n",
        "    print(i[6].find('@'),i[6].find('.'))"
      ],
      "execution_count": null,
      "outputs": []
    },
    {
      "cell_type": "markdown",
      "metadata": {
        "id": "qFKbNA_IBjuo"
      },
      "source": [
        "문제267. 이번에는 이메일을 출력하는데 이메일의 첫번째 철자부터 세번째 철자까지만 출력하시오."
      ]
    },
    {
      "cell_type": "code",
      "metadata": {
        "id": "po-6_-NTBnVT"
      },
      "source": [
        "file = open('emp122.csv')\r\n",
        "emp = csv.reader(file)\r\n",
        "for i in emp:\r\n",
        "    print(i[6][:3])"
      ],
      "execution_count": null,
      "outputs": []
    },
    {
      "cell_type": "markdown",
      "metadata": {
        "id": "KiDRhmOeB4CJ"
      },
      "source": [
        "문제288. 우리반 데이터 이메일을 출력하는데 이메일에서 도메인만 출력하시오."
      ]
    },
    {
      "cell_type": "code",
      "metadata": {
        "id": "yU_FhQ7yBoeI"
      },
      "source": [
        "file = open('emp123.csv')\r\n",
        "emp = csv.reader(file)\r\n",
        "for i in emp:\r\n",
        "    a = i[6][i[6].find('@')+1:]\r\n",
        "    b = i[6].find('@')+1\r\n",
        "    print(i[6][i[6].find('@')+1:a.find('.')+b])"
      ],
      "execution_count": null,
      "outputs": []
    },
    {
      "cell_type": "markdown",
      "metadata": {
        "id": "R5yipYqlEWeU"
      },
      "source": [
        "문제289. 미승이의 이메일 aaa.aaa@domain.com도 같이 출력하려면 어떻게 해야하는가? "
      ]
    },
    {
      "cell_type": "code",
      "metadata": {
        "id": "xjvonDdsEeTl",
        "colab": {
          "base_uri": "https://localhost:8080/"
        },
        "outputId": "f34b6fa2-aef8-4608-a262-876d2b5b2125"
      },
      "source": [
        "file = open('emp123.csv')\r\n",
        "emp = csv.reader(file)\r\n",
        "for i in emp:\r\n",
        "    a = i[6].find('@')\r\n",
        "    b = i[6].rfind('.')          # 뒤에서부터 찾기\r\n",
        "    print(i[6][a+1:b])"
      ],
      "execution_count": 33,
      "outputs": [
        {
          "output_type": "stream",
          "text": [
            "EMAI\n",
            "naver\n",
            "naver\n",
            "naver\n",
            "gmail\n",
            "naver\n",
            "naver\n",
            "gmail\n",
            "gmail\n",
            "gmail\n",
            "naver\n",
            "naver\n",
            "naver\n",
            "gmail\n",
            "hanmail\n",
            "naver\n",
            "naver\n",
            "naver\n",
            "naver\n",
            "naver\n",
            "naver\n",
            "naver\n",
            "naver\n",
            "gmail\n",
            "naver\n",
            "naver\n",
            "naver\n",
            "gmail\n",
            "nate\n",
            "naver\n",
            "naver\n"
          ],
          "name": "stdout"
        }
      ]
    },
    {
      "cell_type": "markdown",
      "metadata": {
        "id": "H3UQ7KATF-hP"
      },
      "source": [
        "문제290. rfind도 domain.co.kr 같은 곳은 domain.co까지 끊겨서 문제생기지 않을까요?  \r\n",
        "\r\n"
      ]
    },
    {
      "cell_type": "code",
      "metadata": {
        "id": "7ME-70s4N9wp",
        "colab": {
          "base_uri": "https://localhost:8080/"
        },
        "outputId": "f3fc8e8a-65c5-4186-a3f7-cf99454c0ba5"
      },
      "source": [
        "\r\n",
        "file = open('emp123.csv')\r\n",
        "emp = csv.reader(file)\r\n",
        "for i in emp:\r\n",
        "    a = i[6].find('@')\r\n",
        "    b = i[6].find('.',i[6].find('@'))         # 시작점은 @의 좌표\r\n",
        "    print(i[6][a+1:b])\r\n"
      ],
      "execution_count": 42,
      "outputs": [
        {
          "output_type": "stream",
          "text": [
            "EMAI -1\n",
            "naver 13\n",
            "naver 14\n",
            "naver 14\n",
            "gmail 15\n",
            "naver 14\n",
            "naver 18\n",
            "gmail 16\n",
            "gmail 17\n",
            "gmail 20\n",
            "naver 17\n",
            "naver 15\n",
            "naver 12\n",
            "gmail 17\n",
            "hanmail 15\n",
            "naver 16\n",
            "naver 15\n",
            "naver 15\n",
            "naver 14\n",
            "naver 14\n",
            "naver 12\n",
            "naver 15\n",
            "naver 16\n",
            "gmail 15\n",
            "naver 17\n",
            "naver 14\n",
            "naver 14\n",
            "gmail 12\n",
            "nate 13\n",
            "naver 16\n",
            "naver 17\n"
          ],
          "name": "stdout"
        }
      ]
    },
    {
      "cell_type": "markdown",
      "metadata": {
        "id": "ua4oAFsJGD5h"
      },
      "source": [
        "# 91. 문자열을 특정 문자(열)로 분리하기(split)  \r\n",
        "\r\n",
        "코드를 작성할 때 가장 많이 접하게 되는 경우가 구분자(separator)로 구분되어있는 문자열 파싱(parsing)을 하는 일입니다. 이 때 문자열 객체의 split()를 활용하면 구분자를 기준으로 문자열을 쉽게 분리하여 파싱할 수 있습니다.  \r\n",
        "\r\n"
      ]
    },
    {
      "cell_type": "code",
      "metadata": {
        "id": "-N5friAhGxLp"
      },
      "source": [
        "a = '''1,\"이XX\",29,\"남\",\"경영학과\"'''\r\n",
        "print(type(a)) # ,class str\r\n",
        "result = a.split(',') # 콤마(,)로 구분해서 리스트에 담는다.\r\n",
        "print(result)"
      ],
      "execution_count": null,
      "outputs": []
    },
    {
      "cell_type": "markdown",
      "metadata": {
        "id": "-f6HvB8XHVvh"
      },
      "source": [
        "설명: 1,\"이XX\",29,\"남\",\"경영학과\" <--- 이 데이터를 문자열 변수에 할당하고 싶은데 문자열들 중에 더블 쿼테이션 마크가 있다면 양쪽에 싱글 쿼테이션 마크를 3개를 써서 둘러줘야 합니다.  \r\n",
        "\r\n",
        "* 정리:  \r\n",
        "```\r\n",
        "1. a = 문자열.split(',') : 문자열을 콤마(,)로 구분해서 구분하는 문자들을 요소로 해서 a 리스트에 담는다.\r\n",
        "2. a = 문자열.split(' ') : 문자열을 공백으로 구분해서 구분하는 문자들을 요소로 해서 a 리스트에 담는다.\r\n",
        "3. a = 문자열.split() : 문자열을 어절별로 구분해서 구분하는 문자들을 요소로 해서 a 리스트에 담는다.\r\n",
        "```\r\n",
        "* 웹로그 데이터 분석하는 선배기수가 모 사의 웹 사이트에 접속하는 고객들이 해당 사이트에서 어느 상품을 많이 클릭을 하는지 등을 조회하거나 아니면 웹 사이트에서 어느 페이지를 많이 보는지 등을 분석하는 업무를 한다.  \r\n",
        "\r\n",
        "문제291. 아래의 url 변수에 있는 문자열은 슬래쉬(/)로 구분되어 있는데 이 문자열의 요소를 아래의 리스트 처럼 구성하시오!  \r\n",
        "url = 'http://www.naver.com/news/today=20191204'  \r\n",
        "\r\n",
        "결과: ['http:','www.naver.com','news','today=20191204']  \r\n",
        "\r\n"
      ]
    },
    {
      "cell_type": "code",
      "metadata": {
        "id": "0ZctslpvHVhM"
      },
      "source": [
        "url = 'http://www.naver.com/news/today=20191204'\r\n",
        "result = url.split('/')\r\n",
        "print(result)"
      ],
      "execution_count": null,
      "outputs": []
    },
    {
      "cell_type": "markdown",
      "metadata": {
        "id": "KGXqCT7nPDQu"
      },
      "source": [
        "# 92. 문자열을 특정 문자(열)로 결합하기(join)\r\n",
        "\r\n",
        "문자열 객체의 join() 메소드는 split() 와는 반대로 문자열이 요소인 리스트를 인자로 받아 리스트 모든 요소를 특정 문자열로 연결하여 새로운 문자열로 만들어 리턴합니다.  \r\n",
        "\r\n",
        "예제:  \r\n"
      ]
    },
    {
      "cell_type": "code",
      "metadata": {
        "id": "d07T2alcPc1z"
      },
      "source": [
        "a = ['http:','www.naver.com','news','today=20191204']\r\n",
        "bond = '/'\r\n",
        "url = bond.join(a)\r\n",
        "print(url)"
      ],
      "execution_count": null,
      "outputs": []
    },
    {
      "cell_type": "markdown",
      "metadata": {
        "id": "_NcsPBL5QD7J"
      },
      "source": [
        "문제292. 우리반 데이터에서 이름만 출력하시오!"
      ]
    },
    {
      "cell_type": "code",
      "metadata": {
        "id": "AlOHA-sDQF20"
      },
      "source": [
        "file = open('emp123.csv')\r\n",
        "emp = csv.reader(file)\r\n",
        "for i in emp:\r\n",
        "    print(i[1])"
      ],
      "execution_count": null,
      "outputs": []
    },
    {
      "cell_type": "markdown",
      "metadata": {
        "id": "GV_hphFDQfvs"
      },
      "source": [
        "문제293. 위에서 출력된 이름을 a라는 비어있는 리스트에 담고 a 리스트를 출력하시오."
      ]
    },
    {
      "cell_type": "code",
      "metadata": {
        "id": "_FMR9lRSQi1p"
      },
      "source": [
        "import csv\r\n",
        "file = open('emp123.csv')\r\n",
        "emp = csv.reader(file)\r\n",
        "a = []\r\n",
        "for i in emp:\r\n",
        "    a.append(i[1])\r\n",
        "print(a)"
      ],
      "execution_count": null,
      "outputs": []
    },
    {
      "cell_type": "markdown",
      "metadata": {
        "id": "jA5flxZqRWPw"
      },
      "source": [
        "문제294. 위의 a 리스트에 담겨진 이름을 하나씩 뽑아서 콤마(,)로 연결해서 아래와 같이 문자열로 출력되게 하시오."
      ]
    },
    {
      "cell_type": "code",
      "metadata": {
        "id": "25DBtwO2Ralt"
      },
      "source": [
        "bond = ','\r\n",
        "b = bond.join(a)\r\n",
        "b"
      ],
      "execution_count": null,
      "outputs": []
    },
    {
      "cell_type": "markdown",
      "metadata": {
        "id": "wuJsRLI1SWiI"
      },
      "source": [
        "문제295. 위의 결과가 김씨부터 출력되게 하시오\r\n",
        "(한글을 정렬을 해서 출력하시오 ㄱ, ㄴ, ㄷ ~)"
      ]
    },
    {
      "cell_type": "code",
      "metadata": {
        "id": "e5LrLyznSXVC"
      },
      "source": [
        "import csv\r\n",
        "file = open('emp123.csv')\r\n",
        "emp = csv.reader(file)\r\n",
        "a = []\r\n",
        "for i in emp:\r\n",
        "    a.append(i[1])\r\n",
        "a.sort()            # a 리스트 안의 요소를 정렬을 합니다.\r\n",
        "bond = ','\r\n",
        "result = bond.join(a)\r\n",
        "result"
      ],
      "execution_count": null,
      "outputs": []
    },
    {
      "cell_type": "markdown",
      "metadata": {
        "id": "6l-NLCi2S0VM"
      },
      "source": [
        "# 93. 문자열에서 특정 문자(열)를 다른 문자(열)로 바꾸기(replace)\r\n",
        "\r\n",
        "문자열 객체의 replace() 메소드는 문자열에서 특정 문자나 문자열을 다른 문자나 문자열로 변경합니다.  \r\n",
        "\r\n",
        "예제:\r\n"
      ]
    },
    {
      "cell_type": "code",
      "metadata": {
        "colab": {
          "base_uri": "https://localhost:8080/",
          "height": 35
        },
        "id": "gRqavgCzS0Db",
        "outputId": "c34b104a-0503-4bff-cd5d-8e3a4cb01654"
      },
      "source": [
        "txt = 'My password is 1234'\r\n",
        "result = txt.replace('1','0') # txt 문자열의 숫자 1을 숫자 0으로 변경해라\r\n",
        "result"
      ],
      "execution_count": 13,
      "outputs": [
        {
          "output_type": "execute_result",
          "data": {
            "application/vnd.google.colaboratory.intrinsic+json": {
              "type": "string"
            },
            "text/plain": [
              "'My password is 0234'"
            ]
          },
          "metadata": {
            "tags": []
          },
          "execution_count": 13
        }
      ]
    },
    {
      "cell_type": "markdown",
      "metadata": {
        "id": "W2WT_XOSTUUd"
      },
      "source": [
        "문제296. emp2.csv 에서 이름과 월급을 출력하는데 월급을 출력할 때 0 대신에 *로 출력하시오!  \r\n",
        "```\r\n",
        "SCOTT 3***\r\n",
        "SMITH 125*\r\n",
        ".\r\n",
        ".\r\n",
        ".\r\n",
        "```"
      ]
    },
    {
      "cell_type": "code",
      "metadata": {
        "colab": {
          "resources": {
            "http://localhost:8080/nbextensions/google.colab/files.js": {
              "data": "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",
              "ok": true,
              "headers": [
                [
                  "content-type",
                  "application/javascript"
                ]
              ],
              "status": 200,
              "status_text": ""
            }
          },
          "base_uri": "https://localhost:8080/",
          "height": 76
        },
        "id": "ATsjsvBhTbpo",
        "outputId": "7f0f6346-7910-42ab-e79c-9f8ae91d7c9f"
      },
      "source": [
        "file = files.upload()"
      ],
      "execution_count": 15,
      "outputs": [
        {
          "output_type": "display_data",
          "data": {
            "text/html": [
              "\n",
              "     <input type=\"file\" id=\"files-8a429fe4-427c-4fdc-9e35-d1b2262b1cf4\" name=\"files[]\" multiple disabled\n",
              "        style=\"border:none\" />\n",
              "     <output id=\"result-8a429fe4-427c-4fdc-9e35-d1b2262b1cf4\">\n",
              "      Upload widget is only available when the cell has been executed in the\n",
              "      current browser session. Please rerun this cell to enable.\n",
              "      </output>\n",
              "      <script src=\"/nbextensions/google.colab/files.js\"></script> "
            ],
            "text/plain": [
              "<IPython.core.display.HTML object>"
            ]
          },
          "metadata": {
            "tags": []
          }
        },
        {
          "output_type": "stream",
          "text": [
            "Saving emp3.csv to emp3.csv\n"
          ],
          "name": "stdout"
        }
      ]
    },
    {
      "cell_type": "code",
      "metadata": {
        "colab": {
          "base_uri": "https://localhost:8080/"
        },
        "id": "FFVWeDUkTlWI",
        "outputId": "6f99c49f-df31-48b2-8bda-1cf9220a8ff9"
      },
      "source": [
        "file = open('emp3.csv')\r\n",
        "emp = csv.reader(file)\r\n",
        "for i in emp:\r\n",
        "    print(i[2],i[6].replace('0','*'))"
      ],
      "execution_count": 20,
      "outputs": [
        {
          "output_type": "stream",
          "text": [
            "ename sal\n",
            "KING 5***\n",
            "BLAKE 285*\n",
            "CLARK 245*\n",
            "JONES 2975\n",
            "MARTIN 125*\n",
            "ALLEN 16**\n",
            "TURNER 15**\n",
            "JAMES 95*\n",
            "WARD 125*\n",
            "FORD 3***\n",
            "SMITH 8**\n",
            "SCOTT 3***\n",
            "ADAMS 11**\n",
            "MILLER 13**\n"
          ],
          "name": "stdout"
        }
      ]
    },
    {
      "cell_type": "markdown",
      "metadata": {
        "id": "8qnlw3Q6UtZe"
      },
      "source": [
        "문제297. 아래의 리스트를 가지고 아래와 같이 출력하시오!  \r\n",
        "```\r\n",
        "a = ['name':'홍길동','age:17','major:경영학','nation:한국']\r\n",
        "\r\n",
        "결과:\r\n",
        "    name ---> 홍길동\r\n",
        "    age ----> 17\r\n",
        "    .\r\n",
        "    .\r\n",
        "```    \r\n",
        "감도 안오는데..?"
      ]
    },
    {
      "cell_type": "code",
      "metadata": {
        "colab": {
          "base_uri": "https://localhost:8080/"
        },
        "id": "DNvj2qVAUwLk",
        "outputId": "919a7fe5-ae94-44e7-9128-fd95537c150e"
      },
      "source": [
        "a = ['name:홍길동','age:17','major:경영학','nation:한국']\r\n",
        "for i in a:\r\n",
        "    print(i.replace(':', ' ------> '))\r\n"
      ],
      "execution_count": 48,
      "outputs": [
        {
          "output_type": "stream",
          "text": [
            "name ------> 홍길동\n",
            "age ------> 17\n",
            "major ------> 경영학\n",
            "nation ------> 한국\n"
          ],
          "name": "stdout"
        }
      ]
    },
    {
      "cell_type": "markdown",
      "metadata": {
        "id": "Fw4x9tHAZnDq"
      },
      "source": [
        "와 미쳤다. dictionary형도 replace가 되나?  \r\n",
        "-> type을 봤더니 list형이다 속았다. \r\n",
        "\r\n"
      ]
    },
    {
      "cell_type": "markdown",
      "metadata": {
        "id": "MU2SoL_sZzTc"
      },
      "source": [
        "# 94. 문자열을 바이트 객체로 바꾸기(encode)  \r\n",
        "\r\n",
        "file = open('c:\\\\datga\\\\\r\n",
        "\r\n",
        "인코딩이란?  \r\n",
        "\r\n",
        "인코딩이란 사람이 인지할 수 있는 형태의 데이터를 약속된 규칙에 의해 컴퓨터가 사용하는 0과 1로 변환하는 과정을 말합니다. 컴퓨터의 발명, 발전이 미국의 학계와 기업을 중심으로 이루어지다 보니 문자 집합(컴퓨터에서 문자를 담는 저장소)도 미국을 기준으로 제정되었습니다. 미국에서 제정된 ASCII(미국 정보 교환 표준부호)는 1960년대에 제정된 문자집합으로 이후 개발된 문자 집합의 토대를 이루고 있습니다. ASCII는 7비트 만을 이용해서 음이 아닌 수(0~127)의 문자집합 내의 문자 할당 약속입니다.  \r\n",
        "\r\n",
        "예제: A 는 숫자 65입니다. a는 숫자 97입니다.  \r\n",
        "구글에서 아스키 코드표를 검색해보세요 ~~  \r\n",
        "\r\n",
        "예제: chr 함수를 이용해서 숫자 65부터 127까지가 어떤 문자인지 출력하시오.  \r\n",
        "\r\n"
      ]
    },
    {
      "cell_type": "code",
      "metadata": {
        "colab": {
          "base_uri": "https://localhost:8080/"
        },
        "id": "u-SXNV7ybPbt",
        "outputId": "0dbdebc3-9735-47d1-e002-5f7dd4a57871"
      },
      "source": [
        "for i in range(65,128):\r\n",
        "    print(i,' ----> ',chr(i)) # 컴퓨터가 알고있는 숫자가 문자로 무엇인지"
      ],
      "execution_count": 52,
      "outputs": [
        {
          "output_type": "stream",
          "text": [
            "65  ---->  A\n",
            "66  ---->  B\n",
            "67  ---->  C\n",
            "68  ---->  D\n",
            "69  ---->  E\n",
            "70  ---->  F\n",
            "71  ---->  G\n",
            "72  ---->  H\n",
            "73  ---->  I\n",
            "74  ---->  J\n",
            "75  ---->  K\n",
            "76  ---->  L\n",
            "77  ---->  M\n",
            "78  ---->  N\n",
            "79  ---->  O\n",
            "80  ---->  P\n",
            "81  ---->  Q\n",
            "82  ---->  R\n",
            "83  ---->  S\n",
            "84  ---->  T\n",
            "85  ---->  U\n",
            "86  ---->  V\n",
            "87  ---->  W\n",
            "88  ---->  X\n",
            "89  ---->  Y\n",
            "90  ---->  Z\n",
            "91  ---->  [\n",
            "92  ---->  \\\n",
            "93  ---->  ]\n",
            "94  ---->  ^\n",
            "95  ---->  _\n",
            "96  ---->  `\n",
            "97  ---->  a\n",
            "98  ---->  b\n",
            "99  ---->  c\n",
            "100  ---->  d\n",
            "101  ---->  e\n",
            "102  ---->  f\n",
            "103  ---->  g\n",
            "104  ---->  h\n",
            "105  ---->  i\n",
            "106  ---->  j\n",
            "107  ---->  k\n",
            "108  ---->  l\n",
            "109  ---->  m\n",
            "110  ---->  n\n",
            "111  ---->  o\n",
            "112  ---->  p\n",
            "113  ---->  q\n",
            "114  ---->  r\n",
            "115  ---->  s\n",
            "116  ---->  t\n",
            "117  ---->  u\n",
            "118  ---->  v\n",
            "119  ---->  w\n",
            "120  ---->  x\n",
            "121  ---->  y\n",
            "122  ---->  z\n",
            "123  ---->  {\n",
            "124  ---->  |\n",
            "125  ---->  }\n",
            "126  ---->  ~\n",
            "127  ---->  \n"
          ],
          "name": "stdout"
        }
      ]
    },
    {
      "cell_type": "markdown",
      "metadata": {
        "id": "wrRYq2iIbrbN"
      },
      "source": [
        "이 아스키 코드표로 미국 엔지니어들은 행복하게 살아가고 있었지만 다른 나라 사람들은 그러지 못했습니다.  \r\n",
        "\r\n",
        "1. 서유럽 국가  \r\n",
        "독일어의 움라우트, 스페인어의 물결표, 터키어의 시딜러, 프랑스어의 악센트는 7비트로는 표현 못합니다.  \r\n",
        "\r\n",
        "2. 아시아  \r\n",
        "아시아에서는 한자, 일본어, 한글이 7비트에 들어맞지가 않았습니다. 더 큰 문자셋이 필요했는데 16비트로 된 문자집합을 제공해서 해결했습니다. 그 문자 집합셋이 바로 CP949, EUC-KR입니다.  \r\n",
        "\r\n",
        "포스코 더 샾 아파트가 생기면서 CP949로는 샾을 표현할 수 없었다... 주소를 컴퓨터에 입력할 때 CP949로는 '포스코 더 ? 아파트'로 나왔다.  \r\n",
        "그래서 해결한게 바로 유니코드 문자 집합셋입니다.  \r\n",
        "바로 그게 UTF-8, UTF-16입니다.\r\n",
        "  \r\n",
        "파이썬에서 한글이 ??로 출력이 되면 UTF-8로 인코딩하면 됩니다.  \r\n",
        "\r\n",
        "문제298.(점심시간 문제) 우리반 데이터에서 이름을 출력하는데 아래와 같이 나이도 같이 출력되게 하시오!  \r\n",
        "```\r\n",
        "구윤모(26), ~~~\r\n",
        "```"
      ]
    },
    {
      "cell_type": "code",
      "metadata": {
        "colab": {
          "base_uri": "https://localhost:8080/"
        },
        "id": "SrY3Gv1oeIef",
        "outputId": "1ebc9acc-1ca4-47b8-a28c-75d29e050e99"
      },
      "source": [
        "import csv\r\n",
        "#file = files.upload()\r\n",
        "emp = open('emp123.csv')\r\n",
        "emp = csv.reader(emp)\r\n",
        "a = []\r\n",
        "bond = ', '\r\n",
        "next(emp)  # 헤드를 날려준다\r\n",
        "for i in emp:\r\n",
        "    a.append(i[1]+'('+i[2]+')')\r\n",
        "result = bond.join(a)\r\n",
        "print(result)"
      ],
      "execution_count": 88,
      "outputs": [
        {
          "output_type": "stream",
          "text": [
            "("개인정보")\n"
          ],
          "name": "stdout"
        }
      ]
    },
    {
      "cell_type": "markdown",
      "metadata": {
        "id": "BnLTwdyIz95R"
      },
      "source": [
        "# 95. 바이트 객체를 문자열로 바꾸기(decode)  \r\n",
        "\r\n",
        "file = open('emp.csv',encoding='UTF-8'  \r\n",
        "```\r\n",
        "인코딩(encoding)?\r\n",
        "사람이 알아볼 수 있는 언어 ----> 컴퓨터가 알아볼 수 있는 언어(숫자)\r\n",
        "\r\n",
        "디코딩(decoding)?\r\n",
        "컴퓨터가 알아볼 수 있는 언어(숫자) ----> 사람이 알아볼 수 있는 언어\r\n",
        "```\r\n",
        "\r\n",
        "예제:"
      ]
    },
    {
      "cell_type": "code",
      "metadata": {
        "colab": {
          "base_uri": "https://localhost:8080/"
        },
        "id": "85TwSXc-0qs2",
        "outputId": "2c441566-ca1a-4472-b51e-93012e3ef9c0"
      },
      "source": [
        "txt = 'A'\r\n",
        "b_txt = txt.encode() # txt 변수에 들어있는 대문자 A를 인코딩한다.\r\n",
        "print(b_txt) # b'A' --> binary 'A' 라는 뜻 binary는 2진 --> 0과 1로 표현하는 데이터\r\n",
        "             # 컴퓨터가 알아볼 수 있는 바이너리 데이터\r\n",
        "\r\n",
        "print(txt) # 사람이 알아볼 수 있는 언어인 알파벳 A\r\n",
        "c_txt = b_txt.decode() # 컴퓨터가 알아볼 수 있는 언어 --> 사람이 알아볼 수 있는 언어로 변경\r\n",
        "print(c_txt)"
      ],
      "execution_count": 80,
      "outputs": [
        {
          "output_type": "stream",
          "text": [
            "b'A'\n",
            "A\n",
            "A\n"
          ],
          "name": "stdout"
        }
      ]
    },
    {
      "cell_type": "markdown",
      "metadata": {
        "id": "A4vmBkkT2BLr"
      },
      "source": [
        "설명: emp1222.csv를 파이썬으로 로드하는데 파이썬으로 load 하려면 컴퓨터가 알아볼 수 있는 언어로 변경해야 합니다. 이 떄 문자집합셋을 유니코드 문자집합셋인 UTF8을 이용해서 인코딩 하겠다는 것"
      ]
    },
    {
      "cell_type": "markdown",
      "metadata": {
        "id": "aavlxYGW27TE"
      },
      "source": [
        "# 96. 순차적인 정수 리스트 만들기 (range)\r\n",
        "\r\n",
        "[0,1,2,3] 이나 [100,101,102,103]과 같이 순차적인 정수 리스트를 만드는 가장 간단한 방법은 파이썬 내장함수인 range()를 이용하는 것입니다.  \r\n",
        "\r\n",
        "예제:"
      ]
    },
    {
      "cell_type": "code",
      "metadata": {
        "colab": {
          "base_uri": "https://localhost:8080/"
        },
        "id": "2A4w5nIp3H2G",
        "outputId": "71df44b2-b4ca-4eed-ca64-9f96e5b95da9"
      },
      "source": [
        "print(range(1,11))\r\n",
        "print(list(range(1,11)))  # list를 붙여줘야한다."
      ],
      "execution_count": 91,
      "outputs": [
        {
          "output_type": "stream",
          "text": [
            "range(1, 11)\n",
            "[1, 2, 3, 4, 5, 6, 7, 8, 9, 10]\n"
          ],
          "name": "stdout"
        }
      ]
    },
    {
      "cell_type": "markdown",
      "metadata": {
        "id": "KobDUQIn3nrV"
      },
      "source": [
        "문제299. 아래와 같이 주사위의 눈을 담은 리스트를 만드시오\r\n",
        "```\r\n",
        "print(dice)\r\n",
        "결과 : [1,2,3,4,5,6]\r\n",
        "```"
      ]
    },
    {
      "cell_type": "code",
      "metadata": {
        "colab": {
          "base_uri": "https://localhost:8080/"
        },
        "id": "cSaJnTPu3swl",
        "outputId": "af80e6d7-5c15-4375-bab0-dc04007ec5b9"
      },
      "source": [
        "dice = list(range(1,7))\r\n",
        "print(dice)"
      ],
      "execution_count": 95,
      "outputs": [
        {
          "output_type": "stream",
          "text": [
            "[1, 2, 3, 4, 5, 6]\n"
          ],
          "name": "stdout"
        }
      ]
    },
    {
      "cell_type": "markdown",
      "metadata": {
        "id": "oMq1wUDH4QpV"
      },
      "source": [
        "문제300. 주사위 2개를 만들고 주사위 2개를 동시에 던져서 두 주사위의 눈의 합이 10이 나오는 확률을 구하시오.  주사위 2개를 동시에 10000번 던지세요."
      ]
    },
    {
      "cell_type": "code",
      "metadata": {
        "colab": {
          "base_uri": "https://localhost:8080/"
        },
        "id": "W1WxrSx44WSf",
        "outputId": "f9d95e54-15d6-42b4-c631-57f16f00db9e"
      },
      "source": [
        "dice = list(range(1,7))\r\n",
        "import numpy as np\r\n",
        "cnt = 0\r\n",
        "for i in range(1,10001):\r\n",
        "    if np.random.choice(dice)+np.random.choice(dice) == 10:\r\n",
        "        cnt += 1\r\n",
        "print(cnt)"
      ],
      "execution_count": 105,
      "outputs": [
        {
          "output_type": "stream",
          "text": [
            "780\n"
          ],
          "name": "stdout"
        }
      ]
    },
    {
      "cell_type": "markdown",
      "metadata": {
        "id": "29_4pieD5S3N"
      },
      "source": [
        "문제301. 아래의 결과를 출력하시오!  \r\n",
        "[2,4,6,8,10,12,14,16,18]"
      ]
    },
    {
      "cell_type": "code",
      "metadata": {
        "colab": {
          "base_uri": "https://localhost:8080/"
        },
        "id": "5ynd8y-X5Yli",
        "outputId": "efef8e46-97ef-4a2c-9c8d-ad6c794f1cc2"
      },
      "source": [
        "a = list(range(2,20,2))\r\n",
        "a"
      ],
      "execution_count": 106,
      "outputs": [
        {
          "output_type": "execute_result",
          "data": {
            "text/plain": [
              "[2, 4, 6, 8, 10, 12, 14, 16, 18]"
            ]
          },
          "metadata": {
            "tags": []
          },
          "execution_count": 106
        }
      ]
    },
    {
      "cell_type": "markdown",
      "metadata": {
        "id": "Za10YjjP6ETF"
      },
      "source": [
        "# 97. 리스트에서 특정 위치의 요소 얻기\r\n",
        "\r\n",
        "리시트의 특정 위치에 있는 요소값을 구하려면 인덱싱을 이용합니다. 인덱스는 0부터 시작합니다.  \r\n"
      ]
    },
    {
      "cell_type": "code",
      "metadata": {
        "colab": {
          "base_uri": "https://localhost:8080/"
        },
        "id": "WgLJ9aCy6fd2",
        "outputId": "f17e6c19-3db5-472b-8339-0706dd4a8a77"
      },
      "source": [
        "a = [1,2,'a','b','c',[4,5,6]]\r\n",
        "print(a)\r\n",
        "print(a[1])"
      ],
      "execution_count": 110,
      "outputs": [
        {
          "output_type": "stream",
          "text": [
            "[1, 2, 'a', 'b', 'c', [4, 5, 6]]\n",
            "2\n"
          ],
          "name": "stdout"
        }
      ]
    },
    {
      "cell_type": "markdown",
      "metadata": {
        "id": "7ElU81LB62Ck"
      },
      "source": [
        "예제2. 위의 리스트 a에서 숫자 4를 출력하시오!"
      ]
    },
    {
      "cell_type": "code",
      "metadata": {
        "colab": {
          "base_uri": "https://localhost:8080/"
        },
        "id": "CdWwqgBS61gK",
        "outputId": "fcd59062-a2bc-4966-ad28-bf05c3d66800"
      },
      "source": [
        "print(a[5][0]) # 리스트의 5번째를 뽑는데 그 리스트에서 0번째 거를 뽑음"
      ],
      "execution_count": 112,
      "outputs": [
        {
          "output_type": "stream",
          "text": [
            "4\n"
          ],
          "name": "stdout"
        }
      ]
    },
    {
      "cell_type": "markdown",
      "metadata": {
        "id": "RUly7XZD7hcD"
      },
      "source": [
        "문제302. 아래의 리스트에서 숫자 7을 출력하시오."
      ]
    },
    {
      "cell_type": "code",
      "metadata": {
        "colab": {
          "base_uri": "https://localhost:8080/"
        },
        "id": "PseWuPHE7mjP",
        "outputId": "7040482a-e0b6-4b2f-acfe-55011755fd8c"
      },
      "source": [
        "b = [2,3,4,[5,6],[7,8],9]\r\n",
        "print(b[4][0])"
      ],
      "execution_count": 113,
      "outputs": [
        {
          "output_type": "stream",
          "text": [
            "7\n"
          ],
          "name": "stdout"
        }
      ]
    },
    {
      "cell_type": "markdown",
      "metadata": {
        "id": "BVg0VER68FE3"
      },
      "source": [
        "# 98. 리스트에서 특정 요소의 위치 구하기(index)  \r\n",
        "\r\n",
        "리스트 객체의 index() 메소드는 리스트에서 요소의 값을 알고 있을 때 그 요소가 최초로 나타나는 위치의 인덱스를 리턴합니다.  \r\n",
        "\r\n",
        "예제:"
      ]
    },
    {
      "cell_type": "code",
      "metadata": {
        "colab": {
          "base_uri": "https://localhost:8080/"
        },
        "id": "IODeRt9P8SP4",
        "outputId": "5ac7c50a-0a13-410b-d43e-191bbf8680f9"
      },
      "source": [
        "a = [1,2,'a','b','c',[1,2,3]]\r\n",
        "print(a.index(2))   # 1\r\n",
        "print(a.index('a')) # 2"
      ],
      "execution_count": 117,
      "outputs": [
        {
          "output_type": "stream",
          "text": [
            "1\n",
            "2\n"
          ],
          "name": "stdout"
        }
      ]
    },
    {
      "cell_type": "markdown",
      "metadata": {
        "id": "BFlucci_87Rs"
      },
      "source": [
        "문제303. 아래의 리스트에서 숫자 4의 인덱스 번호를 출력하시오."
      ]
    },
    {
      "cell_type": "code",
      "metadata": {
        "colab": {
          "base_uri": "https://localhost:8080/",
          "height": 190
        },
        "id": "Hw66GFdC860N",
        "outputId": "2c3498e8-3599-4247-bb60-c88acea2b29e"
      },
      "source": [
        "a = [1,2,'a','b','c',[4,5,6]]\r\n",
        "print(a.index(4)) # 리스트 안에 있는 거는 못읽음"
      ],
      "execution_count": 119,
      "outputs": [
        {
          "output_type": "error",
          "ename": "ValueError",
          "evalue": "ignored",
          "traceback": [
            "\u001b[0;31m---------------------------------------------------------------------------\u001b[0m",
            "\u001b[0;31mValueError\u001b[0m                                Traceback (most recent call last)",
            "\u001b[0;32m<ipython-input-119-4340957d2241>\u001b[0m in \u001b[0;36m<module>\u001b[0;34m()\u001b[0m\n\u001b[1;32m      1\u001b[0m \u001b[0ma\u001b[0m \u001b[0;34m=\u001b[0m \u001b[0;34m[\u001b[0m\u001b[0;36m1\u001b[0m\u001b[0;34m,\u001b[0m\u001b[0;36m2\u001b[0m\u001b[0;34m,\u001b[0m\u001b[0;34m'a'\u001b[0m\u001b[0;34m,\u001b[0m\u001b[0;34m'b'\u001b[0m\u001b[0;34m,\u001b[0m\u001b[0;34m'c'\u001b[0m\u001b[0;34m,\u001b[0m\u001b[0;34m[\u001b[0m\u001b[0;36m4\u001b[0m\u001b[0;34m,\u001b[0m\u001b[0;36m5\u001b[0m\u001b[0;34m,\u001b[0m\u001b[0;36m6\u001b[0m\u001b[0;34m]\u001b[0m\u001b[0;34m]\u001b[0m\u001b[0;34m\u001b[0m\u001b[0;34m\u001b[0m\u001b[0m\n\u001b[0;32m----> 2\u001b[0;31m \u001b[0mprint\u001b[0m\u001b[0;34m(\u001b[0m\u001b[0ma\u001b[0m\u001b[0;34m.\u001b[0m\u001b[0mindex\u001b[0m\u001b[0;34m(\u001b[0m\u001b[0;36m4\u001b[0m\u001b[0;34m)\u001b[0m\u001b[0;34m)\u001b[0m\u001b[0;34m\u001b[0m\u001b[0;34m\u001b[0m\u001b[0m\n\u001b[0m",
            "\u001b[0;31mValueError\u001b[0m: 4 is not in list"
          ]
        }
      ]
    },
    {
      "cell_type": "markdown",
      "metadata": {
        "id": "078id1BS9WdP"
      },
      "source": [
        "# 99. 리스트에서 특정 위치의 요소를 변경하기  \r\n",
        "\r\n",
        "list_a = ['a'"
      ]
    },
    {
      "cell_type": "code",
      "metadata": {
        "colab": {
          "base_uri": "https://localhost:8080/"
        },
        "id": "G8bQuGiX9ffE",
        "outputId": "38f9afd5-d073-4a00-8136-6332f8c28845"
      },
      "source": [
        "list_a = ['a','b','c','d','e','f','g']\r\n",
        "print(list_a[0]) # a\r\n",
        "list_a[0] = 'z'  # 0 자리를 z로 바꿔줌\r\n",
        "print(list_a)"
      ],
      "execution_count": 121,
      "outputs": [
        {
          "output_type": "stream",
          "text": [
            "a\n",
            "['z', 'b', 'c', 'd', 'e', 'f', 'g']\n"
          ],
          "name": "stdout"
        }
      ]
    },
    {
      "cell_type": "markdown",
      "metadata": {
        "id": "SMxTEqX394mn"
      },
      "source": [
        "문제304. list_a의 알파벳 d를 k로 변경하시오!"
      ]
    },
    {
      "cell_type": "code",
      "metadata": {
        "colab": {
          "base_uri": "https://localhost:8080/"
        },
        "id": "XVmYcjYL94Nh",
        "outputId": "11ccb37e-c49a-4cae-a10a-066308b67ad6"
      },
      "source": [
        "list_a = ['a','b','c','d','e','f','g']\r\n",
        "list_a[list_a.index('d')] = 'k'\r\n",
        "list_a\r\n"
      ],
      "execution_count": 123,
      "outputs": [
        {
          "output_type": "execute_result",
          "data": {
            "text/plain": [
              "['a', 'b', 'c', 'k', 'e', 'f', 'g']"
            ]
          },
          "metadata": {
            "tags": []
          },
          "execution_count": 123
        }
      ]
    },
    {
      "cell_type": "markdown",
      "metadata": {
        "id": "uAvY2qBACioT"
      },
      "source": [
        "# 100. 리스트에서 특정 구간에 있는 요소 추출하기  \r\n",
        "\r\n",
        "리스트에서 특정 구간에 있는 요소를 추출하여 새로운 리스트를 만들려면 슬라이싱을 이용하면 됩니다.  \r\n",
        "\r\n",
        "예제:"
      ]
    },
    {
      "cell_type": "code",
      "metadata": {
        "colab": {
          "base_uri": "https://localhost:8080/"
        },
        "id": "s3LMzLiPCwNY",
        "outputId": "3b231467-c7a8-402f-f08a-e2f1446238c2"
      },
      "source": [
        "list_a = ['a','b','c','d','e','f','g']\r\n",
        "print(list_a[0:4])\r\n",
        "print(list_a[2:])\r\n",
        "print(list_a[:3])"
      ],
      "execution_count": 128,
      "outputs": [
        {
          "output_type": "stream",
          "text": [
            "['a', 'b', 'c', 'd']\n",
            "['c', 'd', 'e', 'f', 'g']\n",
            "['a', 'b', 'c']\n"
          ],
          "name": "stdout"
        }
      ]
    },
    {
      "cell_type": "markdown",
      "metadata": {
        "id": "-0hubUxRDlIR"
      },
      "source": [
        "문제305. 위에는 알파벳 a부터 g까지 담은 리스트를 만들었는데 이번에는 알파벳 a부터 z까지를 담는 리스트를 list_a로 생성하시오."
      ]
    },
    {
      "cell_type": "code",
      "metadata": {
        "colab": {
          "base_uri": "https://localhost:8080/"
        },
        "id": "PwKwXBFbD0ml",
        "outputId": "de13a213-dcea-4c90-b5b3-b48d425d70d7"
      },
      "source": [
        "import string\r\n",
        "print(string.ascii_lowercase) # string 모듈 안에 알파벳이 들어있는 것\r\n",
        "list_a = list(string.ascii_lowercase)\r\n",
        "list_a\r\n"
      ],
      "execution_count": 148,
      "outputs": [
        {
          "output_type": "stream",
          "text": [
            "abcdefghijklmnopqrstuvwxyz\n"
          ],
          "name": "stdout"
        },
        {
          "output_type": "execute_result",
          "data": {
            "text/plain": [
              "['a',\n",
              " 'b',\n",
              " 'c',\n",
              " 'd',\n",
              " 'e',\n",
              " 'f',\n",
              " 'g',\n",
              " 'h',\n",
              " 'i',\n",
              " 'j',\n",
              " 'k',\n",
              " 'l',\n",
              " 'm',\n",
              " 'n',\n",
              " 'o',\n",
              " 'p',\n",
              " 'q',\n",
              " 'r',\n",
              " 's',\n",
              " 't',\n",
              " 'u',\n",
              " 'v',\n",
              " 'w',\n",
              " 'x',\n",
              " 'y',\n",
              " 'z']"
            ]
          },
          "metadata": {
            "tags": []
          },
          "execution_count": 148
        }
      ]
    },
    {
      "cell_type": "code",
      "metadata": {
        "colab": {
          "base_uri": "https://localhost:8080/"
        },
        "id": "p_kF4SopEcU9",
        "outputId": "6a305417-4123-4f8b-c6b1-1c3ca26e44a8"
      },
      "source": [
        "a = []\r\n",
        "for i in range(97,123):\r\n",
        "    a.append(chr(i))\r\n",
        "a"
      ],
      "execution_count": 143,
      "outputs": [
        {
          "output_type": "execute_result",
          "data": {
            "text/plain": [
              "['a',\n",
              " 'b',\n",
              " 'c',\n",
              " 'd',\n",
              " 'e',\n",
              " 'f',\n",
              " 'g',\n",
              " 'h',\n",
              " 'i',\n",
              " 'j',\n",
              " 'k',\n",
              " 'l',\n",
              " 'm',\n",
              " 'n',\n",
              " 'o',\n",
              " 'p',\n",
              " 'q',\n",
              " 'r',\n",
              " 's',\n",
              " 't',\n",
              " 'u',\n",
              " 'v',\n",
              " 'w',\n",
              " 'x',\n",
              " 'y',\n",
              " 'z']"
            ]
          },
          "metadata": {
            "tags": []
          },
          "execution_count": 143
        }
      ]
    },
    {
      "cell_type": "markdown",
      "metadata": {
        "id": "BKWmU5NfD0Jl"
      },
      "source": [
        "문제306. 위에서 만든 list_a에서 요소를 검색하는데 맨 끝에 알파벳 z 빼고 모든 요소를 다 출력하시오!"
      ]
    },
    {
      "cell_type": "code",
      "metadata": {
        "colab": {
          "base_uri": "https://localhost:8080/"
        },
        "id": "bQQc0ob4FG_d",
        "outputId": "461f74c3-5e08-40c1-9492-19329bb27191"
      },
      "source": [
        "import string\r\n",
        "list_a = list(string.ascii_lowercase)\r\n",
        "print(list_a[:len(list_a)-1])\r\n",
        "print(list_a[0:list_a.index('z')])\r\n"
      ],
      "execution_count": 153,
      "outputs": [
        {
          "output_type": "stream",
          "text": [
            "['a', 'b', 'c', 'd', 'e', 'f', 'g', 'h', 'i', 'j', 'k', 'l', 'm', 'n', 'o', 'p', 'q', 'r', 's', 't', 'u', 'v', 'w', 'x', 'y']\n",
            "['a', 'b', 'c', 'd', 'e', 'f', 'g', 'h', 'i', 'j', 'k', 'l', 'm', 'n', 'o', 'p', 'q', 'r', 's', 't', 'u', 'v', 'w', 'x', 'y']\n"
          ],
          "name": "stdout"
        }
      ]
    },
    {
      "cell_type": "markdown",
      "metadata": {
        "id": "9aWdWp69E_gh"
      },
      "source": [
        "# 101. 리스트에서 짝수 번째 요소만 추출하기\r\n",
        "\r\n",
        "리스트에서 짝수번째 요소를 추출하는 방법은 두번째 요소부터 끝까지 스텝2로 슬라이싱 하면 됩니다."
      ]
    },
    {
      "cell_type": "code",
      "metadata": {
        "colab": {
          "base_uri": "https://localhost:8080/"
        },
        "id": "zOCMPb53GIdI",
        "outputId": "c97d3423-4f41-49d5-b8a4-5bf371a0b416"
      },
      "source": [
        "list_a = ['a', 'b', 'c', 'd', 'e', 'f', 'g', 'h']\r\n",
        "list_a[1::2]"
      ],
      "execution_count": 157,
      "outputs": [
        {
          "output_type": "execute_result",
          "data": {
            "text/plain": [
              "['b', 'd', 'f', 'h']"
            ]
          },
          "metadata": {
            "tags": []
          },
          "execution_count": 157
        }
      ]
    },
    {
      "cell_type": "markdown",
      "metadata": {
        "id": "Zkv8vTBqGpXd"
      },
      "source": [
        "문제307.1부터 100까지의 숫자 중에 짝수만 아래의 list_a 담아서 출력하시오."
      ]
    },
    {
      "cell_type": "code",
      "metadata": {
        "colab": {
          "base_uri": "https://localhost:8080/"
        },
        "id": "vECuxvbLGsAV",
        "outputId": "35f0cd37-e978-461b-9e71-00fce59a257f"
      },
      "source": [
        "list_a = list(range(2,101,2))\r\n",
        "print(list_a)"
      ],
      "execution_count": 172,
      "outputs": [
        {
          "output_type": "stream",
          "text": [
            "[2, 4, 6, 8, 10, 12, 14, 16, 18, 20, 22, 24, 26, 28, 30, 32, 34, 36, 38, 40, 42, 44, 46, 48, 50, 52, 54, 56, 58, 60, 62, 64, 66, 68, 70, 72, 74, 76, 78, 80, 82, 84, 86, 88, 90, 92, 94, 96, 98, 100]\n"
          ],
          "name": "stdout"
        }
      ]
    },
    {
      "cell_type": "markdown",
      "metadata": {
        "id": "RhFPMovaHzbf"
      },
      "source": [
        "# 102. 리스트 요소 순서를 역순으로 만들기 1 (reverse)\r\n",
        "\r\n",
        "리스트를 역순으로 만듭니다.  \r\n",
        "예제:"
      ]
    },
    {
      "cell_type": "code",
      "metadata": {
        "colab": {
          "base_uri": "https://localhost:8080/"
        },
        "id": "kZ9ncx8QH4so",
        "outputId": "34b35b26-9db3-4ec6-d93e-003bb0a26185"
      },
      "source": [
        "list_a = ['a', 'b', 'c', 'd', 'e', 'f', 'g', 'h']\r\n",
        "list_a.reverse()\r\n",
        "print(list_a) # 거꾸로 나온다."
      ],
      "execution_count": 177,
      "outputs": [
        {
          "output_type": "stream",
          "text": [
            "['h', 'g', 'f', 'e', 'd', 'c', 'b', 'a']\n"
          ],
          "name": "stdout"
        }
      ]
    },
    {
      "cell_type": "markdown",
      "metadata": {
        "id": "frTac4lJINDz"
      },
      "source": [
        "문제308. 우리반 테이블에서 이름을 출력하는데 ㅎ 부터 ㄱ까지 출력될 수 있도록 하시오."
      ]
    },
    {
      "cell_type": "code",
      "metadata": {
        "colab": {
          "base_uri": "https://localhost:8080/"
        },
        "id": "8px5FaJqIQco",
        "outputId": "0148f2be-09e2-4822-e8af-ba7c89dba4fe"
      },
      "source": [
        "emp = open('emp123.csv')\r\n",
        "emp = csv.reader(emp)\r\n",
        "a = []\r\n",
        "for i in emp:\r\n",
        "    a.append(i[1])\r\n",
        "a.sort()            # a 리스트 안의 요소를 정렬을 합니다.\r\n",
        "a.reverse()\r\n",
        "bond = ','\r\n",
        "result = bond.join(a)\r\n",
        "\r\n",
        "print(result)\r\n"
      ],
      "execution_count": 204,
      "outputs": [
        {
          "output_type": "stream",
          "text": [
            "개인정보,ENAME\n"
          ],
          "name": "stdout"
        }
      ]
    },
    {
      "cell_type": "markdown",
      "metadata": {
        "id": "cAhPu6SlJoYy"
      },
      "source": [
        "문제310. 위의 데이터 중 월급을 비어있는 리스트인 a 리스트에 담으시오."
      ]
    },
    {
      "cell_type": "code",
      "metadata": {
        "colab": {
          "base_uri": "https://localhost:8080/"
        },
        "id": "obeOsdh1If4F",
        "outputId": "8cc68ed1-065a-48e6-acaa-f9681c94866c"
      },
      "source": [
        "emp = open('emp3.csv')\r\n",
        "emp = csv.reader(emp)\r\n",
        "a = []\r\n",
        "for i in emp:\r\n",
        "    a.append(i[6])\r\n",
        "a"
      ],
      "execution_count": 209,
      "outputs": [
        {
          "output_type": "execute_result",
          "data": {
            "text/plain": [
              "['sal',\n",
              " '5000',\n",
              " '2850',\n",
              " '2450',\n",
              " '2975',\n",
              " '1250',\n",
              " '1600',\n",
              " '1500',\n",
              " '950',\n",
              " '1250',\n",
              " '3000',\n",
              " '800',\n",
              " '3000',\n",
              " '1100',\n",
              " '1300']"
            ]
          },
          "metadata": {
            "tags": []
          },
          "execution_count": 209
        }
      ]
    },
    {
      "cell_type": "markdown",
      "metadata": {
        "id": "o6YeC0C3J0Ri"
      },
      "source": [
        "문제311. 위의 a 리스트에 있는 월급이 높은 순서대로 정렬해서 a 리스트에 들어있게 하고 a 리스트를 출력하시오"
      ]
    },
    {
      "cell_type": "code",
      "metadata": {
        "colab": {
          "base_uri": "https://localhost:8080/"
        },
        "id": "0R8uKfTuKAgb",
        "outputId": "c5458881-f2d4-42d9-e040-1fc7fb5e4463"
      },
      "source": [
        "emp = open('emp3.csv')\r\n",
        "emp = csv.reader(emp)\r\n",
        "a = []\r\n",
        "next(emp)\r\n",
        "for i in emp:\r\n",
        "    a.append(int(i[6]))\r\n",
        "a.sort()                # 먼저 낮은값에서 높은 값 순으로 정렬하고\r\n",
        "a.reverse()             # 다시 역순으로 만듭니다.(정렬 아니고 역순으로 만들어버림)\r\n",
        "a"
      ],
      "execution_count": 218,
      "outputs": [
        {
          "output_type": "execute_result",
          "data": {
            "text/plain": [
              "[5000,\n",
              " 3000,\n",
              " 3000,\n",
              " 2975,\n",
              " 2850,\n",
              " 2450,\n",
              " 1600,\n",
              " 1500,\n",
              " 1300,\n",
              " 1250,\n",
              " 1250,\n",
              " 1100,\n",
              " 950,\n",
              " 800]"
            ]
          },
          "metadata": {
            "tags": []
          },
          "execution_count": 218
        }
      ]
    },
    {
      "cell_type": "markdown",
      "metadata": {
        "id": "M42jEKaYK87E"
      },
      "source": [
        "# 103. 리스트 요소 순서를 역순으로 만들기 2 (reversed)\r\n",
        "\r\n",
        "리스트 요소 순서를 역순으로 만드는 또 다른 방법은 파이썬 내장 함수인 reversed()를 이용하는 방법입니다.  \r\n",
        "reverse()는 인자로 입력된 시퀀스 자료형의 요소 순서를 역순으로 새로운 시퀀스 자료형을 만들어 리턴합니다.  \r\n",
        "```\r\n",
        "reverse() 함수  : 원본 데이터를 역순으로 만읍니다.\r\n",
        "reversed() 함수 : 역순으로 만들지만 원본 데이터를 역순으로 만들지 않습니다.\r\n",
        "```\r\n",
        "\r\n",
        "예제:"
      ]
    },
    {
      "cell_type": "code",
      "metadata": {
        "colab": {
          "base_uri": "https://localhost:8080/"
        },
        "id": "_tW_BzA3LJ4F",
        "outputId": "92689085-9f18-430e-9471-4116221e4eff"
      },
      "source": [
        "list_a = ['a', 'b', 'c', 'd', 'e']\r\n",
        "list_a.reverse()\r\n",
        "print(list_a)"
      ],
      "execution_count": 222,
      "outputs": [
        {
          "output_type": "stream",
          "text": [
            "['e', 'd', 'c', 'b', 'a']\n"
          ],
          "name": "stdout"
        }
      ]
    },
    {
      "cell_type": "code",
      "metadata": {
        "colab": {
          "base_uri": "https://localhost:8080/"
        },
        "id": "fPKWtvJBLlAC",
        "outputId": "729b48f2-5fd8-4b78-828d-de3055bccb2e"
      },
      "source": [
        "list_b = ['a', 'b', 'c', 'd', 'e']\r\n",
        "result = reversed(list_b)\r\n",
        "print(list(result))       # list에 씌워줘야 한다.\r\n",
        "print(list_b)"
      ],
      "execution_count": 226,
      "outputs": [
        {
          "output_type": "stream",
          "text": [
            "['e', 'd', 'c', 'b', 'a']\n",
            "['a', 'b', 'c', 'd', 'e']\n"
          ],
          "name": "stdout"
        }
      ]
    },
    {
      "cell_type": "markdown",
      "metadata": {
        "id": "Z5xEticaJ_jH"
      },
      "source": [
        "# 104. 리스트 합치기()\r\n",
        "\r\n",
        "두개의 리스트를 연결하여 새로운 리스트를 만드는 방법은 + 연산자를 이용해 두개의 리스트를 더하면 됩니다.  \r\n",
        "\r\n",
        "예제:"
      ]
    },
    {
      "cell_type": "code",
      "metadata": {
        "colab": {
          "base_uri": "https://localhost:8080/"
        },
        "id": "EuZ-WObVQvxC",
        "outputId": "1a9ca198-a7d9-4739-98b4-d0be4ccd217c"
      },
      "source": [
        "listdata1 = ['a','b','c','d']\r\n",
        "listdata2 = ['f','g','h','i']\r\n",
        "listdata3 = listdata1 + listdata2\r\n",
        "listdata3"
      ],
      "execution_count": 228,
      "outputs": [
        {
          "output_type": "execute_result",
          "data": {
            "text/plain": [
              "['a', 'b', 'c', 'd', 'f', 'g', 'h', 'i']"
            ]
          },
          "metadata": {
            "tags": []
          },
          "execution_count": 228
        }
      ]
    },
    {
      "cell_type": "markdown",
      "metadata": {
        "id": "ijs18iKYRCIy"
      },
      "source": [
        "문제312. 아래와 같이 엄마와 아기가 함께하는 수영교실 나이 리스트를 생성하시오.  \r\n",
        "[34, 34 .. 10개, 2, 2, ... 10개 ]  \r\n",
        "숫자를 쓰지 말고 파이썬 코드로 간단하게 하시오."
      ]
    },
    {
      "cell_type": "code",
      "metadata": {
        "colab": {
          "base_uri": "https://localhost:8080/"
        },
        "id": "oJ3hmR_VRFuo",
        "outputId": "7111af44-287e-46ea-b629-a97c9541aa1d"
      },
      "source": [
        "a = []\r\n",
        "for i in range(10):\r\n",
        "    a.append(34)\r\n",
        "print(a)     # 이거 구린 방법\r\n",
        "\r\n",
        "listdata1 = [34]\r\n",
        "listdata2 = [2]\r\n",
        "print(listdata1*10 + listdata2*10) # 와! 된다!"
      ],
      "execution_count": 238,
      "outputs": [
        {
          "output_type": "stream",
          "text": [
            "[34, 34, 34, 34, 34, 34, 34, 34, 34, 34]\n",
            "[34, 34, 34, 34, 34, 34, 34, 34, 34, 34, 2, 2, 2, 2, 2, 2, 2, 2, 2, 2]\n"
          ],
          "name": "stdout"
        }
      ]
    },
    {
      "cell_type": "markdown",
      "metadata": {
        "id": "DJJB6NYtR6Hd"
      },
      "source": [
        "# 105. 리스트 반복하기(*)\r\n",
        "\r\n",
        "list * n은 리스트를 n번 반복해서 새로운 리스트를 만듭니다.  \r\n",
        "예를 들어, list*2는 list+list와 동일한 결과가 출력됩니다.  \r\n",
        "예제:"
      ]
    },
    {
      "cell_type": "code",
      "metadata": {
        "colab": {
          "base_uri": "https://localhost:8080/"
        },
        "id": "6lrQO50MSWew",
        "outputId": "e24f4a94-a426-40cd-fd56-2dfbb3a46e99"
      },
      "source": [
        "listdata = list(range(0,3))\r\n",
        "result = listdata*3\r\n",
        "result"
      ],
      "execution_count": 239,
      "outputs": [
        {
          "output_type": "execute_result",
          "data": {
            "text/plain": [
              "[0, 1, 2, 0, 1, 2, 0, 1, 2]"
            ]
          },
          "metadata": {
            "tags": []
          },
          "execution_count": 239
        }
      ]
    },
    {
      "cell_type": "markdown",
      "metadata": {
        "id": "AS6M_mxUSlga"
      },
      "source": [
        "문제313. 아래의 엄마와 아기가 함께하는 수영교실의 나이의 평균값을 출력하시오."
      ]
    },
    {
      "cell_type": "code",
      "metadata": {
        "colab": {
          "base_uri": "https://localhost:8080/"
        },
        "id": "g2WiXvyESrdT",
        "outputId": "04e760a7-4c77-4429-a8d1-bc63a7e4b550"
      },
      "source": [
        "import numpy as np\r\n",
        "swim_age = [34, 34, 34, 34, 34, 34, 34, 34, 34, 34, 2, 2, 2, 2, 2, 2, 2, 2, 2, 2]\r\n",
        "a = np.array(swim_age).mean() # numpy array(배열)로 만들어준다. array로 해줘서 mean이 가능하다.\r\n",
        "a"
      ],
      "execution_count": 259,
      "outputs": [
        {
          "output_type": "execute_result",
          "data": {
            "text/plain": [
              "18.0"
            ]
          },
          "metadata": {
            "tags": []
          },
          "execution_count": 259
        }
      ]
    },
    {
      "cell_type": "markdown",
      "metadata": {
        "id": "oi396nyKSq3r"
      },
      "source": [
        "문제314. 아래의 엄마와 아기의 수영교실의 중앙값을 출력하시오."
      ]
    },
    {
      "cell_type": "code",
      "metadata": {
        "colab": {
          "base_uri": "https://localhost:8080/"
        },
        "id": "-K_QRZydTg6T",
        "outputId": "9701e461-f3fa-4794-fc92-a796f320f034"
      },
      "source": [
        "import numpy as np\r\n",
        "swim_age = [34, 34, 34, 34, 34, 34, 34, 34, 34, 34, 2, 2, 2, 2, 2, 2, 2, 2, 2, 2]\r\n",
        "a = np.median(swim_age)  # median은 괄호 안에 자료르 넣어줘야한다.\r\n",
        "a"
      ],
      "execution_count": 260,
      "outputs": [
        {
          "output_type": "execute_result",
          "data": {
            "text/plain": [
              "18.0"
            ]
          },
          "metadata": {
            "tags": []
          },
          "execution_count": 260
        }
      ]
    },
    {
      "cell_type": "markdown",
      "metadata": {
        "id": "Vj5jAupRU2ee"
      },
      "source": [
        "mean()은 내장함수 median은 np함수  \r\n",
        "\r\n",
        "문제315. 엄마와 아기가 함께하는 수영교실 나이 데이터의 최빈값을 출력하시오."
      ]
    },
    {
      "cell_type": "code",
      "metadata": {
        "colab": {
          "base_uri": "https://localhost:8080/"
        },
        "id": "Sdf-X_P-U-JG",
        "outputId": "ac0b0d41-4931-413b-ab35-fefc8f7686ef"
      },
      "source": [
        "from scipy import stats\r\n",
        "swim_age = [34, 34, 34, 34, 34, 34, 34, 34, 34, 34, 2, 2, 2, 2, 2, 2, 2, 2, 2, 2]\r\n",
        "a = np.array(swim_age)\r\n",
        "a = stats.mode(a)  # median은 괄호 안에 자료르 넣어줘야한다.\r\n",
        "print(a) # 2가 10개 있다고 세어줬다."
      ],
      "execution_count": 270,
      "outputs": [
        {
          "output_type": "stream",
          "text": [
            "ModeResult(mode=array([2]), count=array([10]))\n"
          ],
          "name": "stdout"
        }
      ]
    },
    {
      "cell_type": "markdown",
      "metadata": {
        "id": "Y-cm7JprVoyQ"
      },
      "source": [
        "문제316. 우리반 나이 데이터를 비어있는 리스트 a에 담으시오.\r\n",
        "emp1222.csv를 읽으세요"
      ]
    },
    {
      "cell_type": "code",
      "metadata": {
        "colab": {
          "base_uri": "https://localhost:8080/"
        },
        "id": "ovLVnrl2VtH5",
        "outputId": "c860e7da-83fd-4b62-be61-101dc6c4239b"
      },
      "source": [
        "#file = files.upload()\r\n",
        "emp = open('emp123.csv')\r\n",
        "emp = csv.reader(emp)\r\n",
        "next(emp)\r\n",
        "a =[]\r\n",
        "for i in emp:\r\n",
        "    a.append(i[2])\r\n",
        "print(a)"
      ],
      "execution_count": 281,
      "outputs": [
        {
          "output_type": "stream",
          "text": [
            "['29', '31', '35', '29', '28', '28', '25', '28', '27', '27', '27', '26', '33', '30', '27', '27', '25', '28', '29', '24', '24', '29', '36', '26', '26', '26', '44', '28', '29', '28']\n"
          ],
          "name": "stdout"
        }
      ]
    },
    {
      "cell_type": "markdown",
      "metadata": {
        "id": "kUTLyyceWMxn"
      },
      "source": [
        "문제317. 우리반 나이 데이터의 평균값과 중앙값과 최빈값을 출력하시오!"
      ]
    },
    {
      "cell_type": "code",
      "metadata": {
        "colab": {
          "base_uri": "https://localhost:8080/"
        },
        "id": "9HWDYuUmWUT3",
        "outputId": "76d62ee7-b399-489b-9777-e1f70acdbbb6"
      },
      "source": [
        "import numpy as np\r\n",
        "from scipy import stats\r\n",
        "emp = open('emp123.csv')\r\n",
        "emp = csv.reader(emp)\r\n",
        "next(emp)\r\n",
        "a = []\r\n",
        "for i in emp:\r\n",
        "    a.append(int(i[2]))\r\n",
        "b = np.array(a)\r\n",
        "print(np.mean(b))\r\n",
        "print(np.median(b))\r\n",
        "print(stats.mode(b))"
      ],
      "execution_count": 313,
      "outputs": [
        {
          "output_type": "stream",
          "text": [
            "28.633333333333333\n",
            "28.0\n",
            "ModeResult(mode=array([28]), count=array([6]))\n"
          ],
          "name": "stdout"
        }
      ]
    },
    {
      "cell_type": "markdown",
      "metadata": {
        "id": "-9a_sqNYYMun"
      },
      "source": [
        "# 106. 리스트에 요소 추가하기(append)  \r\n",
        "```\r\n",
        "파이썬 자료형 5가지\r\n",
        "1. 문자형(관련 함수)\r\n",
        "2. 숫자형(관련 함수)\r\n",
        "3. 리스트형(관련 함수)\r\n",
        "4. 튜플형\r\n",
        "5. 사전형\r\n",
        "```\r\n",
        "\r\n",
        "리스트 객체의 append() 메소드는 인자로 입력된 값을 리스트의 맨 마지막 요소로 추가합니다.  \r\n",
        "\r\n",
        "예제:\r\n",
        "\r\n"
      ]
    },
    {
      "cell_type": "code",
      "metadata": {
        "colab": {
          "base_uri": "https://localhost:8080/"
        },
        "id": "44IPm-xUYu3g",
        "outputId": "f06d8f04-5185-496f-d4b4-7d89f7596f69"
      },
      "source": [
        "listdata = []\r\n",
        "listdata.append('a')\r\n",
        "listdata.append('b')\r\n",
        "print(listdata)"
      ],
      "execution_count": 314,
      "outputs": [
        {
          "output_type": "stream",
          "text": [
            "['a', 'b']\n"
          ],
          "name": "stdout"
        }
      ]
    },
    {
      "cell_type": "markdown",
      "metadata": {
        "id": "oasGAXDYZAqx"
      },
      "source": [
        "# 파이썬으로 히스토그램 그래프 그리기  \r\n",
        "\r\n",
        "히스토그램 그래프는 계급을 가로축에 도수를 세로축에 나타낸 뒤 각 계급의 크기를 가로의 길이로 하고 도수를 세로의 길이로 하는 직사각형을 차례대로 그려서 나타낸 그래프  \r\n",
        "\r\n",
        "예제:  \r\n",
        "1. 평균이 150이고 표준편차가 5인 초등학생 10만명의 키를 생성한다."
      ]
    },
    {
      "cell_type": "code",
      "metadata": {
        "colab": {
          "base_uri": "https://localhost:8080/"
        },
        "id": "ncQQpNsbZgF8",
        "outputId": "ea53c9cf-4d75-4e45-9565-e2c9a0fe182a"
      },
      "source": [
        "import numpy as np\r\n",
        "height = np.random.randn(100000)*5 +150 # 표준편차가 5이고 평균이 150인 초등학생 키가 만들어진다. randn은 표준정규분포를 만드는건가봉가\r\n",
        "height"
      ],
      "execution_count": 393,
      "outputs": [
        {
          "output_type": "execute_result",
          "data": {
            "text/plain": [
              "numpy.ndarray"
            ]
          },
          "metadata": {
            "tags": []
          },
          "execution_count": 393
        }
      ]
    },
    {
      "cell_type": "markdown",
      "metadata": {
        "id": "IS3UJ-AtZzaP"
      },
      "source": [
        ""
      ]
    },
    {
      "cell_type": "markdown",
      "metadata": {
        "id": "_Ufxj0fjZ9cL"
      },
      "source": [
        "2. 계급의 크기를 나타내는 가로의 길이를 설정  \r\n"
      ]
    },
    {
      "cell_type": "code",
      "metadata": {
        "colab": {
          "base_uri": "https://localhost:8080/"
        },
        "id": "CYKkT5kqaGq0",
        "outputId": "aee8f5ba-a6c9-4600-aa1f-b5345bc5f31b"
      },
      "source": [
        "bins = list(range(142,162,2))\r\n",
        "bins"
      ],
      "execution_count": 317,
      "outputs": [
        {
          "output_type": "execute_result",
          "data": {
            "text/plain": [
              "[142, 144, 146, 148, 150, 152, 154, 156, 158, 160]"
            ]
          },
          "metadata": {
            "tags": []
          },
          "execution_count": 317
        }
      ]
    },
    {
      "cell_type": "markdown",
      "metadata": {
        "id": "c3PTwgTzaNo1"
      },
      "source": [
        "3. 히스토그램 그래프의 세로축에 해당하는 도수(건수)를 구하는 코드"
      ]
    },
    {
      "cell_type": "code",
      "metadata": {
        "colab": {
          "base_uri": "https://localhost:8080/"
        },
        "id": "IDcnVu8saWU1",
        "outputId": "95ad30e0-e30b-4186-ca0c-ab3c9eef1398"
      },
      "source": [
        "hist, bins = np.histogram(height,bins)\r\n",
        "print(hist,bins)"
      ],
      "execution_count": 324,
      "outputs": [
        {
          "output_type": "stream",
          "text": [
            "[ 6036  9786 13254 15523 15631 13058  9708  6027  3177] [142 144 146 148 150 152 154 156 158 160]\n"
          ],
          "name": "stdout"
        }
      ]
    },
    {
      "cell_type": "markdown",
      "metadata": {
        "id": "j6vYeGC_a_In"
      },
      "source": [
        "```\r\n",
        "142 ~ 144미만 : 6036 명\r\n",
        "144 ~ 146 : 9786 명\r\n",
        ".\r\n",
        ".\r\n",
        "158 ~ 160 : 3177 명\r\n",
        "```"
      ]
    },
    {
      "cell_type": "markdown",
      "metadata": {
        "id": "D48cwdrPbVl8"
      },
      "source": [
        "4. 위의 데이터를 가지고 히스토그램 그래프를 그린다."
      ]
    },
    {
      "cell_type": "code",
      "metadata": {
        "colab": {
          "base_uri": "https://localhost:8080/",
          "height": 644
        },
        "id": "wiICdRwYbar2",
        "outputId": "259006b9-fae3-4ae1-a230-a83c5f67dffa"
      },
      "source": [
        "import matplotlib.pyplot as plt\r\n",
        "plt.grid() # 격자모양이 생김\r\n",
        "plt.figure(figsize=(10, 5))  # 그림 크게 만들기\r\n",
        "plt.hist(height,bins,rwidth = 0.9, alpha = 0.7, color = 'red') # alpha = 색의 진함도 rwidth 그래프 폭"
      ],
      "execution_count": 344,
      "outputs": [
        {
          "output_type": "execute_result",
          "data": {
            "text/plain": [
              "(array([ 6036.,  9786., 13254., 15523., 15631., 13058.,  9708.,  6027.,\n",
              "         3177.]),\n",
              " array([142, 144, 146, 148, 150, 152, 154, 156, 158, 160]),\n",
              " <a list of 9 Patch objects>)"
            ]
          },
          "metadata": {
            "tags": []
          },
          "execution_count": 344
        },
        {
          "output_type": "display_data",
          "data": {
            "image/png": "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\n",
            "text/plain": [
              "<Figure size 432x288 with 1 Axes>"
            ]
          },
          "metadata": {
            "tags": [],
            "needs_background": "light"
          }
        },
        {
          "output_type": "display_data",
          "data": {
            "image/png": "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\n",
            "text/plain": [
              "<Figure size 720x360 with 1 Axes>"
            ]
          },
          "metadata": {
            "tags": [],
            "needs_background": "light"
          }
        }
      ]
    },
    {
      "cell_type": "markdown",
      "metadata": {
        "id": "NFVP0NoCbaEO"
      },
      "source": [
        "히스토그램에 쓰는건 초등학생 키 10만명 데이터와 계급 bins데이터"
      ]
    },
    {
      "cell_type": "markdown",
      "metadata": {
        "id": "LSUjVuKNdOuZ"
      },
      "source": [
        "문제318. (오늘의 마지막 문제) 우리반 나이 데이터를 가지고 히스토그램 그래프를 그리시오. 계급(간격)은 2살 간격"
      ]
    },
    {
      "cell_type": "code",
      "metadata": {
        "colab": {
          "base_uri": "https://localhost:8080/",
          "height": 319
        },
        "id": "9UX8OcAycoKf",
        "outputId": "430c8776-e3f3-41d6-ddb9-1621268e56ee"
      },
      "source": [
        "import csv\r\n",
        "import numpy as np\r\n",
        "import matplotlib.pyplot as plt\r\n",
        "\r\n",
        "emp12 = open('emp123.csv')\r\n",
        "emp12 = csv.reader(emp12)\r\n",
        "next(emp12)               # 컬럼명 날리기\r\n",
        "a=[]\r\n",
        "for i in emp12:\r\n",
        "    a.append(int(i[2]))\r\n",
        "x_val = list(range(int(min(a)),int(max(a))+1,2))\r\n",
        "a = np.array(a)\r\n",
        "\r\n",
        "plt.xticks(x_val)         # x축 눈금 조절. 검색해서 찾았습니다.\r\n",
        "plt.yticks(range(0,12))   # y축 눈금 조절.\r\n",
        "plt.hist(a,x_val,rwidth = 0.8,)\r\n"
      ],
      "execution_count": 440,
      "outputs": [
        {
          "output_type": "execute_result",
          "data": {
            "text/plain": [
              "(array([ 4.,  9., 11.,  2.,  1.,  1.,  1.,  0.,  0.,  1.]),\n",
              " array([24, 26, 28, 30, 32, 34, 36, 38, 40, 42, 44]),\n",
              " <a list of 10 Patch objects>)"
            ]
          },
          "metadata": {
            "tags": []
          },
          "execution_count": 440
        },
        {
          "output_type": "display_data",
          "data": {
            "image/png": "iVBORw0KGgoAAAANSUhEUgAAAXAAAAD4CAYAAAD1jb0+AAAABHNCSVQICAgIfAhkiAAAAAlwSFlzAAALEgAACxIB0t1+/AAAADh0RVh0U29mdHdhcmUAbWF0cGxvdGxpYiB2ZXJzaW9uMy4yLjIsIGh0dHA6Ly9tYXRwbG90bGliLm9yZy+WH4yJAAAPvklEQVR4nO3de6xlZXnH8e/PARWUigpaFKZDqlINqWgpValEQRtuEWs0hURDvU2KN6CmFv2jRlOTaTVW27Q1VFGsCCKX1IAi1KJIqoMzA9SBUUQ7KojOEKWKrSLw9I+90HE45+xz9lprDy/5fpKT2XutNft5zsyb31ln3d5UFZKk9jxkVzcgSZqNAS5JjTLAJalRBrgkNcoAl6RG7TbPYvvss0+tWbNmniUlqXkbN268var23Xn5XAN8zZo1bNiwYZ4lJal5Sb690HIPoUhSowxwSWqUAS5JjTLAJalRBrgkNcoAl6RGTQ3wJGcl2ZZk8w7LXpbkhiT3Jjl03BYlSQtZzh74R4Cjd1q2GXgJcNXQDUmSlmfqjTxVdVWSNTst2wKQZJyuJElTjX4nZpK1wFqA1atXj13uQWfNGZeOXmPruuNGryFpeKOfxKyqM6vq0Ko6dN9973crvyRpRl6FIkmNMsAlqVHLuYzwXOBLwEFJbkny6iR/nOQW4NnApUk+O3ajkqRft5yrUE5aZNXFA/ciSVoBD6FIUqMMcElqlAEuSY0ywCWpUQa4JDXKAJekRhngktQoA1ySGmWAS1KjZp2R5zFJrkjyje7PR4/bpiRpZ7POyHMG8LmqejLwue69JGmOpgZ4VV0F/HCnxScAZ3evzwZePHBfkqQpZj0G/viquq17/X3g8QP1I0lapt4nMauqgFpsfZK1STYk2bB9+/a+5SRJnVkD/AdJ9gPo/ty22IZOqSZJ45g1wD8FnNy9Phn4t2HakSQt10wz8gDrgBcm+Qbwgu69JGmO+szIc9TAvUiSVsA7MSWpUQa4JDXKAJekRhngktQoA1ySGmWAS1KjDHBJapQBLkmNMsAlqVEGuCQ1qleAJzk1yeYkNyQ5baimJEnTzRzgSQ4GXgscBjwdOD7Jk4ZqTJK0tD574E8F1lfV/1bV3cAXgJcM05YkaZqpTyNcwmbgXUkeC/wfcCywYeeNkqwF1gKsXr26R7ldZ80Zl45eY+u640avIenBZeY98KraAvwNcDlwGXAdcM8C2zkjjySNoNdJzKr6UFX9XlUdAfwIuGmYtiRJ0/Q5hEKSx1XVtiSrmRz/ftYwbUmSpukV4MCF3THwXwCvr6o7BuhJkrQMvQK8qp47VCOSpJXxTkxJapQBLkmNMsAlqVEGuCQ1ygCXpEYZ4JLUKANckhplgEtSowxwSWqUAS5Jjeo7pdrp3XRqm5Ocm+ThQzUmSVpanynVngi8CTi0qg4GVgEnDtWYJGlpfQ+h7AbskWQ3YE/ge/1bkiQtR58ZeW4F3gN8B7gN+J+qunzn7ZKsTbIhyYbt27fP3qkk6df0OYTyaOAE4EDgCcAjkrx85+2cUk2SxtHnEMoLgP+uqu1V9QvgIuA5w7QlSZqmT4B/B3hWkj2TBDgK2DJMW5KkafocA18PXABsAr7afdaZA/UlSZqi75RqbwfePlAvkqQV8E5MSWqUAS5JjTLAJalRBrgkNcoAl6RGGeCS1CgDXJIaZYBLUqMMcElqlAEuSY3q8zjZg5Jct8PXj5OcNmRzkqTFzfwslKr6OnAIQJJVwK3AxQP1JUmaYqhDKEcB36yqbw/0eZKkKYYK8BOBcxda4ZRqkjSO3gGe5KHAi4BPLrTeKdUkaRxD7IEfA2yqqh8M8FmSpGUaIsBPYpHDJ5Kk8fQK8CSPAF7IZEJjSdIc9Z1S7afAYwfqRZK0At6JKUmNMsAlqVEGuCQ1ygCXpEYZ4JLUKANckhplgEtSowxwSWqUAS5JjTLAJalRfZ+FsneSC5J8LcmWJM8eqjFJ0tJ6PQsFeD9wWVW9tHsu+J4D9CRJWoaZAzzJo4AjgD8FqKq7gLuGaUuSNE2fQygHAtuBDye5NskHu8fL/hqnVJOkcfQJ8N2AZwL/XFXPAH4KnLHzRk6pJknj6BPgtwC3VNX67v0FTAJdkjQHMwd4VX0f+G6Sg7pFRwE3DtKVJGmqvlehvBE4p7sC5VvAK/u3JElajr5Tql0HHDpQL5KkFfBOTElqlAEuSY0ywCWpUQa4JDXKAJekRhngktQoA1ySGmWAS1KjDHBJapQBLkmN6nUrfZKtwE+Ae4C7q8rb6iVpTvo+zArg+VV1+wCfI0laAQ+hSFKj+gZ4AZcn2Zhk7UIbOKWaJI2jb4D/YVU9EzgGeH2SI3bewCnVJGkcvQK8qm7t/twGXAwcNkRTkqTpZg7wJI9Istd9r4E/AjYP1ZgkaWl9rkJ5PHBxkvs+5+NVddkgXUmSppo5wKvqW8DTB+xFkrQCXkYoSY0ywCWpUQa4JDXKAJekRhngktQoA1ySGmWAS1KjDHBJapQBLkmN6h3gSVYluTbJJUM0JElaniH2wE8FtgzwOZKkFegV4En2B44DPjhMO5Kk5eo7J+b7gLcAey22QTdTz1qA1atXz1xozRmXzvx3l2vruuNGryFJQ+nzPPDjgW1VtXGp7ZyRR5LG0ecQyuHAi5JsBc4DjkzysUG6kiRNNXOAV9Vbq2r/qloDnAj8R1W9fLDOJElL8jpwSWpU35OYAFTV54HPD/FZkqTlcQ9ckhplgEtSowxwSWqUAS5JjTLAJalRBrgkNcoAl6RGGeCS1CgDXJIaZYBLUqP6PE724UmuSXJ9khuSvGPIxiRJS+vzLJSfA0dW1Z1JdgeuTvKZqvryQL1JkpYwc4BXVQF3dm93775qiKYkSdP1nRNzVZLrgG3AFVW1foFt1ibZkGTD9u3b+5STJO2gV4BX1T1VdQiwP3BYkoMX2MYp1SRpBINchVJVdwBXAkcP8XmSpOn6XIWyb5K9u9d7AC8EvjZUY5KkpfW5CmU/4Owkq5j8IDi/qi4Zpi1J0jR9rkL5L+AZA/YiSVoB78SUpEYZ4JLUKANckhplgEtSowxwSWqUAS5JjTLAJalRBrgkNcoAl6RGGeCS1Kg+D7M6IMmVSW7splQ7dcjGJElL6/Mwq7uBN1fVpiR7ARuTXFFVNw7UmyRpCTPvgVfVbVW1qXv9E2AL8MShGpMkLa3PHvgvJVnD5MmEC06pBqwFWL169RDlNCdrzrh09Bpb1x03eg3pwar3ScwkjwQuBE6rqh/vvN4p1SRpHH0nNd6dSXifU1UXDdOSJGk5+lyFEuBDwJaqeu9wLUmSlqPPHvjhwCuAI5Nc130dO1BfkqQp+kypdjWQAXuRJK2Ad2JKUqMMcElqlAEuSY0ywCWpUQa4JDXKAJekRhngktQoA1ySGmWAS1KjDHBJalTfpxGelWRbks1DNSRJWp6+e+AfAY4eoA9J0gr1CvCqugr44UC9SJJWYJAp1ZbilGqaxa6czm1XTyU3dn2nsbu/Xf1/PqvRT2I6pZokjcOrUCSpUQa4JDWq72WE5wJfAg5KckuSVw/TliRpml4nMavqpKEakSStjIdQJKlRBrgkNcoAl6RGGeCS1CgDXJIaZYBLUqMMcElqlAEuSY0ywCWpUQa4JDWq77NQjk7y9SQ3JzljqKYkSdPNHOBJVgH/CBwDPA04KcnThmpMkrS0PnvghwE3V9W3quou4DzghGHakiRNk6qa7S8mLwWOrqrXdO9fAfxBVb1hp+1+OaUacBDw9RWU2Qe4faYG+7O2ta394K7fUu3fqqr7TWk2+pyYVXUmcOYsfzfJhqo6dOCWrG1taz8Aau/q+g+G2n0OodwKHLDD+/27ZZKkOegT4F8BnpzkwCQPBU4EPjVMW5KkaWY+hFJVdyd5A/BZYBVwVlXdMFhnEzMderG2ta3dRO1dXb/52jOfxJQk7VreiSlJjTLAJalRD4gAT3JAkiuT3JjkhiSn7rT+zUkqyT7zrJ3kjUm+1i3/26FrL1U/ySFJvpzkuiQbkhw2Qu2HJ7kmyfVd7Xd0yw9Msr57RMInupPU86p9Tvd4hs1Jzkqy+7xq77D+75PcOXTdpWpn4l1JbkqyJcmb5lj7qCSburF2dZInDV17hx5WJbk2ySXd+9HH2hK1Rx9ri9XeYXm/sVZVu/wL2A94Zvd6L+Am4Gnd+wOYnCj9NrDPvGoDzwf+HXhYt+5x8/zegcuBY7rlxwKfH6F2gEd2r3cH1gPPAs4HTuyWfwA4ZY61j+3WBTh3nrW794cC/wrcOdL/92Lf9yuBjwIPGWu8LVH7JuCp3fLXAR8Z43vvPv/PgY8Dl3TvRx9rS9QefawtVnuosfaA2AOvqtuqalP3+ifAFuCJ3eq/A94CjHK2dYnapwDrqurn3bptc65fwG90mz0K+N4Itauq7vvpv3v3VcCRwAXd8rOBF8+rdlV9ultXwDVM7i+YS+3u+T7vZjLeRrHEv/kpwDur6t5uu8HH2xK1Rx9rAEn2B44DPti9D3MYawvVBpjHWFus9lBj7QER4DtKsgZ4BrA+yQnArVV1/bxrA08Bntv9eveFJL8/5/qnAe9O8l3gPcBbR6q5Ksl1wDbgCuCbwB1VdXe3yS386ofpqLWrav0O63YHXgFcNsfabwA+VVW3jVFzSu3fBv6kO1z2mSRPnmPt1wCfTnILk3/zdWPUBt7HJLDu7d4/ljmNtQVq/9LYY22R2oOMtQdUgCd5JHAhk/C6G3gb8Ffzrl1VP2ZyjfxjmPyK+RfA+d0ew7zqnwKcXlUHAKcDHxqjblXdU1WHMNn7OAz4nTHqLKd2koN3WP1PwFVV9cU51T4CeBnwD2PUm1L7YOBhwM9qcnv1vwBnzbH26cCxVbU/8GHgvUPXTXI8sK2qNg792QPUHm2sLVQ7yRMYaKw9YAK8+yl4IXBOVV3EZI/kQOD6JFuZDLhNSX5zDrVhsjdwUfcb1jVMfnoOfhJ1ifonA/e9/iSTcB1NVd0BXAk8G9g7yX03eY3+iIQdah8NkOTtwL5MjhuOaofazweeBNzcjbc9k9w8p9pH0423btXFwO/OqfYxwNN3+O3nE8BzRih5OPCi7t/2PCaHTt7PfMba/Won+RjMZawt9H3fwFBjre/B+SG+mJxE+CjwviW22co4JzEXrA38GZNjkjA5nPJduhuf5lR/C/C87vVRwMYRau8L7N293gP4InA8kx8YO55Yet0ca78G+E9gjxHH24K1d9pmrJOYi33f64BXdcufB3xljrVvB57SLX81cOFY//Y7fH/3nUgcfawtUXv0sbZY7aHG2uhPI1ymw5kcg/pqd3wO4G1V9eldVZvJr7BnJdkM3AWcXN2/9pzqvxZ4f7d38jN+9UjeIe0HnN2dUHkIcH5VXZLkRuC8JH8NXMs4h28Wq303kyuOvtQdsbqoqt45j9oD11hR7SRXA+ckOR24k0m4zKv2a4ELk9wL/Ah41Qi1F/OXjD/WFvMBxh9ro/JWeklq1APmGLgkaWUMcElqlAEuSY0ywCWpUQa4JDXKAJekRhngktSo/wcBHrUlsS839AAAAABJRU5ErkJggg==\n",
            "text/plain": [
              "<Figure size 432x288 with 1 Axes>"
            ]
          },
          "metadata": {
            "tags": [],
            "needs_background": "light"
          }
        }
      ]
    }
  ]
}
