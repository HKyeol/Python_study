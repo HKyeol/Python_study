{
  "nbformat": 4,
  "nbformat_minor": 0,
  "metadata": {
    "colab": {
      "name": "201210리스트.ipynb",
      "provenance": [],
      "collapsed_sections": [],
      "toc_visible": true,
      "authorship_tag": "ABX9TyNWit0heBzKqyQwovCG5rEO",
      "include_colab_link": true
    },
    "kernelspec": {
      "name": "python3",
      "display_name": "Python 3"
    }
  },
  "cells": [
    {
      "cell_type": "markdown",
      "metadata": {
        "id": "view-in-github",
        "colab_type": "text"
      },
      "source": [
        "<a href=\"https://colab.research.google.com/github/HKyeol/Python_study/blob/master/201210%EB%A6%AC%EC%8A%A4%ED%8A%B8.ipynb\" target=\"_parent\"><img src=\"https://colab.research.google.com/assets/colab-badge.svg\" alt=\"Open In Colab\"/></a>"
      ]
    },
    {
      "cell_type": "markdown",
      "metadata": {
        "id": "yanrJTr7KhK2"
      },
      "source": [
        "# 107. 리스트의 특정 위치에 요소 삽입하기(insert)  \r\n",
        "\r\n",
        "리스트 객체의 insert() 메소드는 리스트의 특정 위치의 새로운 요소를 입력합니다.  \r\n",
        "\r\n",
        "예제:"
      ]
    },
    {
      "cell_type": "code",
      "metadata": {
        "colab": {
          "base_uri": "https://localhost:8080/"
        },
        "id": "r1C1h1PaGRQY",
        "outputId": "556c9bda-ceb8-4deb-a47f-4b3feb710172"
      },
      "source": [
        "list_a = ['a','b','c','d','e']\r\n",
        "list_a.append('f') # append 메소드는 무조건 맨 뒤쪽에 요소를 추가한다.\r\n",
        "print(list_a)\r\n",
        "\r\n",
        "list_a.insert(3,'k')\r\n",
        "list_a # 오! 3번 자리(4번째)에 k가 들어갔다!"
      ],
      "execution_count": 9,
      "outputs": [
        {
          "output_type": "stream",
          "text": [
            "['a', 'b', 'c', 'd', 'e', 'f']\n"
          ],
          "name": "stdout"
        },
        {
          "output_type": "execute_result",
          "data": {
            "text/plain": [
              "['a', 'b', 'c', 'k', 'd', 'e', 'f']"
            ]
          },
          "metadata": {
            "tags": []
          },
          "execution_count": 9
        }
      ]
    },
    {
      "cell_type": "markdown",
      "metadata": {
        "id": "hbRdSwUYLjKx"
      },
      "source": [
        "설명: list_a.insert(3,'k')는 list_a 리스트의 인덱스번호 3번으로 k를 구성해라  \r\n",
        "\r\n",
        "문제319. 아래의 a 리스트의 요소 화성 다음에 소행성을 요소로 입력하시오!"
      ]
    },
    {
      "cell_type": "code",
      "metadata": {
        "colab": {
          "base_uri": "https://localhost:8080/"
        },
        "id": "WlRVTSFKMJ1Y",
        "outputId": "7611f75f-bf7a-4a38-d7ce-7fdfaa30e00b"
      },
      "source": [
        "list_a = ['태양','수성','금성','지구','화성','목성','토성','천왕성','해왕성']\r\n",
        "list_a.insert(list_a.index('화성')+1,'소행성')\r\n",
        "list_a"
      ],
      "execution_count": 14,
      "outputs": [
        {
          "output_type": "execute_result",
          "data": {
            "text/plain": [
              "['태양', '수성', '금성', '지구', '화성', '소행성', '목성', '토성', '천왕성', '해왕성']"
            ]
          },
          "metadata": {
            "tags": []
          },
          "execution_count": 14
        }
      ]
    },
    {
      "cell_type": "markdown",
      "metadata": {
        "id": "nv7NlESxNHHd"
      },
      "source": [
        "# 108. 리스트의 특정 위치의 요소 제거하기(del)  \r\n",
        "\r\n",
        "* 파이썬의 자료형(자료구조) 5가지와 if문와 loop문\r\n",
        "1. 문자형   : count, index, ...\r\n",
        "2. 숫자형   : int(), float(), round() ...\r\n",
        "3. 리스트형 : count, append, index, insert ...\r\n",
        "4. 튜플형\r\n",
        "5. 사전형  \r\n",
        "' + if문과 loop문\r\n",
        "\r\n",
        "※ del 메소드와 remove 메소드의 차이?  \r\n",
        "\r\n",
        "둘 다 리스트 안의 요소를 삭제하는 것인데 remove는 요소명으로 삭제하는 것이고 del은 리스트의 인덱스번호로 삭제하는 것입니다."
      ]
    },
    {
      "cell_type": "code",
      "metadata": {
        "colab": {
          "base_uri": "https://localhost:8080/"
        },
        "id": "oA60VBtqOk3R",
        "outputId": "b58f8cdf-858c-4836-ab39-8ceafface929"
      },
      "source": [
        "a = ['태양','수성','금성','지구','화성','목성','토성','천왕성','해왕성']\r\n",
        "del(a[4])\r\n",
        "a"
      ],
      "execution_count": 16,
      "outputs": [
        {
          "output_type": "execute_result",
          "data": {
            "text/plain": [
              "['태양', '수성', '금성', '지구', '목성', '토성', '천왕성', '해왕성']"
            ]
          },
          "metadata": {
            "tags": []
          },
          "execution_count": 16
        }
      ]
    },
    {
      "cell_type": "code",
      "metadata": {
        "colab": {
          "base_uri": "https://localhost:8080/"
        },
        "id": "ZT1WoRLnOsRv",
        "outputId": "42d23b31-f3f8-4c6e-b6d4-7890acae8e95"
      },
      "source": [
        "a = ['태양','수성','금성','지구','화성','목성','토성','천왕성','해왕성']\r\n",
        "a.remove('화성')\r\n",
        "a"
      ],
      "execution_count": 21,
      "outputs": [
        {
          "output_type": "execute_result",
          "data": {
            "text/plain": [
              "['태양', '수성', '금성', '지구', '목성', '토성', '천왕성', '해왕성']"
            ]
          },
          "metadata": {
            "tags": []
          },
          "execution_count": 21
        }
      ]
    },
    {
      "cell_type": "markdown",
      "metadata": {
        "id": "2Y4nw7DfPCE4"
      },
      "source": [
        "문제320. 아래의 a 리스트에서 목성을 지우시오."
      ]
    },
    {
      "cell_type": "code",
      "metadata": {
        "colab": {
          "base_uri": "https://localhost:8080/"
        },
        "id": "YTTFxxwUPFhw",
        "outputId": "927635a2-9452-4275-a5e8-f543811e6d53"
      },
      "source": [
        "a = ['태양','수성','금성','지구','화성','목성','토성','천왕성','해왕성']\r\n",
        "del(a[a.index('목성')]) # 이럴거면 remove 쓰겠는데?\r\n",
        "a"
      ],
      "execution_count": 23,
      "outputs": [
        {
          "output_type": "execute_result",
          "data": {
            "text/plain": [
              "['태양', '수성', '금성', '지구', '화성', '토성', '천왕성', '해왕성']"
            ]
          },
          "metadata": {
            "tags": []
          },
          "execution_count": 23
        }
      ]
    },
    {
      "cell_type": "code",
      "metadata": {
        "colab": {
          "base_uri": "https://localhost:8080/"
        },
        "id": "gWYMOh_iPOls",
        "outputId": "d79b6d03-bb3f-476b-d772-89cbdc6285e4"
      },
      "source": [
        "a = ['태양','수성','금성','지구','화성','목성','토성','천왕성','해왕성']\r\n",
        "a.remove('목성')\r\n",
        "a"
      ],
      "execution_count": 24,
      "outputs": [
        {
          "output_type": "execute_result",
          "data": {
            "text/plain": [
              "['태양', '수성', '금성', '지구', '화성', '토성', '천왕성', '해왕성']"
            ]
          },
          "metadata": {
            "tags": []
          },
          "execution_count": 24
        }
      ]
    },
    {
      "cell_type": "markdown",
      "metadata": {
        "id": "ZRo-WFo6PmwD"
      },
      "source": [
        "# 109. 리스트에서 특정 요소 제거하기(remove)  \r\n",
        "\r\n",
        "리스트에서 특정 요소의 값을 알고 있을 때 그 요소를 제거하는 방법은 리스트 객체의 remove() 메소드를 이용하면 됩니다.  \r\n",
        "\r\n",
        "예제: 아래의 a 리스트에서 목성을 지우시오!"
      ]
    },
    {
      "cell_type": "code",
      "metadata": {
        "colab": {
          "base_uri": "https://localhost:8080/"
        },
        "id": "tQoPObSDQRY2",
        "outputId": "b220afff-6f84-42eb-a0f6-3cd60ed25e9f"
      },
      "source": [
        "a = ['태양','수성','금성','지구','화성','목성','토성','천왕성','해왕성']\r\n",
        "a.remove('목성')\r\n",
        "a"
      ],
      "execution_count": 25,
      "outputs": [
        {
          "output_type": "execute_result",
          "data": {
            "text/plain": [
              "['태양', '수성', '금성', '지구', '화성', '토성', '천왕성', '해왕성']"
            ]
          },
          "metadata": {
            "tags": []
          },
          "execution_count": 25
        }
      ]
    },
    {
      "cell_type": "markdown",
      "metadata": {
        "id": "sDxrEVl6QRPI"
      },
      "source": [
        "문제321. 아래의 빨간공 2개와 파란공 3개가 들어있는 주머니에서 공을 하나 랜덤으로 빼면 그 공이 주머니에서 지워지게 하시오!"
      ]
    },
    {
      "cell_type": "code",
      "metadata": {
        "colab": {
          "base_uri": "https://localhost:8080/"
        },
        "id": "bmB-_bHwQXX5",
        "outputId": "2dc23e03-1802-4884-9f83-a0692722ca59"
      },
      "source": [
        "import numpy as np\r\n",
        "box = ['red','blue','red','blue','blue']\r\n",
        "box.remove(np.random.choice(box,1))\r\n",
        "box"
      ],
      "execution_count": 73,
      "outputs": [
        {
          "output_type": "execute_result",
          "data": {
            "text/plain": [
              "['blue', 'red', 'blue', 'blue']"
            ]
          },
          "metadata": {
            "tags": []
          },
          "execution_count": 73
        }
      ]
    },
    {
      "cell_type": "markdown",
      "metadata": {
        "id": "wURpshnAVFgm"
      },
      "source": [
        "문제322. 아래의 주머니에서 임의로 하나의 공을 뽑았을 때 그 공이 파란색일 확률은 어떻게 되는가?(복원추출) 공을 뽑는 작업을 10000번 수행하시오."
      ]
    },
    {
      "cell_type": "code",
      "metadata": {
        "colab": {
          "base_uri": "https://localhost:8080/"
        },
        "id": "-vbvKIhoVMD0",
        "outputId": "4f819b17-d9b0-46ef-a123-80c578103a78"
      },
      "source": [
        "import numpy as np\r\n",
        "box = ['red','blue','red','blue','blue']\r\n",
        "print(box.count('blue')/len(box)) # 확률. 이제 추출로 해보자\r\n",
        "cnt = 0\r\n",
        "for i in range(1,10001):\r\n",
        "    if np.random.choice(box) == 'blue':\r\n",
        "        cnt += 1\r\n",
        "cnt/10000"
      ],
      "execution_count": 74,
      "outputs": [
        {
          "output_type": "stream",
          "text": [
            "0.6\n"
          ],
          "name": "stdout"
        },
        {
          "output_type": "execute_result",
          "data": {
            "text/plain": [
              "0.5984"
            ]
          },
          "metadata": {
            "tags": []
          },
          "execution_count": 74
        }
      ]
    },
    {
      "cell_type": "markdown",
      "metadata": {
        "id": "ZhwHxMbzWtq_"
      },
      "source": [
        "문제323. 파란공 70개와 빨간공 30개가 들어있는 주머니를 만드시오."
      ]
    },
    {
      "cell_type": "code",
      "metadata": {
        "colab": {
          "base_uri": "https://localhost:8080/"
        },
        "id": "OaUqvX4cWxAF",
        "outputId": "a555453e-a063-4204-aec1-86467f05510f"
      },
      "source": [
        "blue = ['blue']*70\r\n",
        "red = ['red']*30\r\n",
        "box = blue + red\r\n",
        "print(box)\r\n",
        "len(box)"
      ],
      "execution_count": 59,
      "outputs": [
        {
          "output_type": "stream",
          "text": [
            "['blue', 'blue', 'blue', 'blue', 'blue', 'blue', 'blue', 'blue', 'blue', 'blue', 'blue', 'blue', 'blue', 'blue', 'blue', 'blue', 'blue', 'blue', 'blue', 'blue', 'blue', 'blue', 'blue', 'blue', 'blue', 'blue', 'blue', 'blue', 'blue', 'blue', 'blue', 'blue', 'blue', 'blue', 'blue', 'blue', 'blue', 'blue', 'blue', 'blue', 'blue', 'blue', 'blue', 'blue', 'blue', 'blue', 'blue', 'blue', 'blue', 'blue', 'blue', 'blue', 'blue', 'blue', 'blue', 'blue', 'blue', 'blue', 'blue', 'blue', 'blue', 'blue', 'blue', 'blue', 'blue', 'blue', 'blue', 'blue', 'blue', 'blue', 'red', 'red', 'red', 'red', 'red', 'red', 'red', 'red', 'red', 'red', 'red', 'red', 'red', 'red', 'red', 'red', 'red', 'red', 'red', 'red', 'red', 'red', 'red', 'red', 'red', 'red', 'red', 'red', 'red', 'red']\n"
          ],
          "name": "stdout"
        },
        {
          "output_type": "execute_result",
          "data": {
            "text/plain": [
              "100"
            ]
          },
          "metadata": {
            "tags": []
          },
          "execution_count": 59
        }
      ]
    },
    {
      "cell_type": "markdown",
      "metadata": {
        "id": "AFS7MEr4Xj8C"
      },
      "source": [
        "문제325. 위의 box에 있는 요소들을 무작위로 섞으시오.  \r\n",
        "```\r\n",
        "랜덤 패키지에서 셔플을 불러옴\r\n",
        "from random import shuffle\r\n",
        "```"
      ]
    },
    {
      "cell_type": "code",
      "metadata": {
        "colab": {
          "base_uri": "https://localhost:8080/"
        },
        "id": "bxDubajRXjZ6",
        "outputId": "e00d9cd1-aa29-4431-fef5-f335d983ed5f"
      },
      "source": [
        "from random import shuffle\r\n",
        "blue = ['blue']*70\r\n",
        "red = ['red']*30\r\n",
        "box = blue + red\r\n",
        "print(box)\r\n",
        "shuffle(box)\r\n",
        "print(box)"
      ],
      "execution_count": 66,
      "outputs": [
        {
          "output_type": "stream",
          "text": [
            "['blue', 'blue', 'blue', 'blue', 'blue', 'blue', 'blue', 'blue', 'blue', 'blue', 'blue', 'blue', 'blue', 'blue', 'blue', 'blue', 'blue', 'blue', 'blue', 'blue', 'blue', 'blue', 'blue', 'blue', 'blue', 'blue', 'blue', 'blue', 'blue', 'blue', 'blue', 'blue', 'blue', 'blue', 'blue', 'blue', 'blue', 'blue', 'blue', 'blue', 'blue', 'blue', 'blue', 'blue', 'blue', 'blue', 'blue', 'blue', 'blue', 'blue', 'blue', 'blue', 'blue', 'blue', 'blue', 'blue', 'blue', 'blue', 'blue', 'blue', 'blue', 'blue', 'blue', 'blue', 'blue', 'blue', 'blue', 'blue', 'blue', 'blue', 'red', 'red', 'red', 'red', 'red', 'red', 'red', 'red', 'red', 'red', 'red', 'red', 'red', 'red', 'red', 'red', 'red', 'red', 'red', 'red', 'red', 'red', 'red', 'red', 'red', 'red', 'red', 'red', 'red', 'red']\n",
            "['red', 'blue', 'blue', 'blue', 'red', 'blue', 'blue', 'blue', 'red', 'blue', 'blue', 'red', 'red', 'blue', 'red', 'blue', 'blue', 'blue', 'blue', 'blue', 'red', 'red', 'blue', 'blue', 'blue', 'blue', 'blue', 'red', 'red', 'blue', 'blue', 'blue', 'red', 'red', 'blue', 'red', 'red', 'blue', 'blue', 'red', 'blue', 'blue', 'red', 'red', 'blue', 'blue', 'blue', 'blue', 'blue', 'blue', 'blue', 'blue', 'blue', 'red', 'red', 'blue', 'blue', 'red', 'blue', 'blue', 'blue', 'blue', 'blue', 'blue', 'blue', 'blue', 'red', 'blue', 'blue', 'red', 'blue', 'blue', 'blue', 'blue', 'red', 'red', 'blue', 'blue', 'blue', 'blue', 'red', 'blue', 'red', 'red', 'red', 'blue', 'blue', 'blue', 'blue', 'blue', 'blue', 'blue', 'blue', 'blue', 'red', 'blue', 'blue', 'blue', 'red', 'blue']\n"
          ],
          "name": "stdout"
        }
      ]
    },
    {
      "cell_type": "markdown",
      "metadata": {
        "id": "G43nuYMHX-O3"
      },
      "source": [
        "문제326. 위의 box에서 공 3개를 추출했을 떄 그 공 3개가 다 파란색일 확률은 어떻게 되는가(복원추출) 공을 뽑는 작업을 10000번 수행하라"
      ]
    },
    {
      "cell_type": "code",
      "metadata": {
        "colab": {
          "base_uri": "https://localhost:8080/"
        },
        "id": "TbrHpDixYgpV",
        "outputId": "3cd6ec38-43bc-44f0-cfb3-ddea68166565"
      },
      "source": [
        "import random as r\r\n",
        "blue = ['blue']*70\r\n",
        "red = ['red']*30\r\n",
        "box = blue + red\r\n",
        "cnt = 0\r\n",
        "print(0.7**3)\r\n",
        "for i in range(1,10001):\r\n",
        "    a = []\r\n",
        "    for k in range(3):\r\n",
        "        a.append(r.choice(box))\r\n",
        "    if 'red' not in a:\r\n",
        "        cnt += 1\r\n",
        "cnt/10000"
      ],
      "execution_count": 80,
      "outputs": [
        {
          "output_type": "stream",
          "text": [
            "0.3429999999999999\n"
          ],
          "name": "stdout"
        },
        {
          "output_type": "execute_result",
          "data": {
            "text/plain": [
              "0.3463"
            ]
          },
          "metadata": {
            "tags": []
          },
          "execution_count": 80
        }
      ]
    },
    {
      "cell_type": "code",
      "metadata": {
        "colab": {
          "base_uri": "https://localhost:8080/"
        },
        "id": "Wr3s635iaSmA",
        "outputId": "f75d9f44-7ef7-4816-97d1-641f6182ef2d"
      },
      "source": [
        "import random as r\r\n",
        "blue = ['blue']*70\r\n",
        "red = ['red']*30\r\n",
        "box = blue + red\r\n",
        "cnt = 0\r\n",
        "for i in range(1,10001):\r\n",
        "    result = r.sample(box,3)  # 박스에서 공 3개씩 뽑는다!\r\n",
        "    if 'red' not in result:\r\n",
        "        cnt += 1\r\n",
        "print(cnt/10000)"
      ],
      "execution_count": 90,
      "outputs": [
        {
          "output_type": "stream",
          "text": [
            "0.3379\n"
          ],
          "name": "stdout"
        }
      ]
    },
    {
      "cell_type": "markdown",
      "metadata": {
        "id": "cZL1IVg-afjK"
      },
      "source": [
        "random.sample(box,3)    # sample은 비복원 추출이다.  \r\n",
        "문제327. 이번에는 위의 box에서 공을 3개를 뽑았을 때 그중 2개가 blue일 확률을 출력하시오!(복원 추출, 공을 뽑는 작업을 10000번 수행하세요~)"
      ]
    },
    {
      "cell_type": "code",
      "metadata": {
        "colab": {
          "base_uri": "https://localhost:8080/"
        },
        "id": "uKZdZnGHb3pp",
        "outputId": "714ef240-6802-4988-8d7b-5bb0b71d873c"
      },
      "source": [
        "import random as r\r\n",
        "blue = ['blue']*70\r\n",
        "red = ['red']*30\r\n",
        "box = blue + red\r\n",
        "cnt = 0\r\n",
        "for i in range(1,10001):\r\n",
        "    result = r.sample(box,3)  # 박스에서 공 3개씩 뽑는다!\r\n",
        "    if result.count('blue') == 3:\r\n",
        "        cnt += 1\r\n",
        "print(cnt/10000)"
      ],
      "execution_count": 107,
      "outputs": [
        {
          "output_type": "stream",
          "text": [
            "0.3358\n"
          ],
          "name": "stdout"
        }
      ]
    },
    {
      "cell_type": "markdown",
      "metadata": {
        "id": "vK-jdA1hd-hz"
      },
      "source": [
        "문제328. 위의 문제를 복원추출로 수행하시오"
      ]
    },
    {
      "cell_type": "code",
      "metadata": {
        "colab": {
          "base_uri": "https://localhost:8080/"
        },
        "id": "JEwVUfiheH_D",
        "outputId": "fb850c9f-15f7-49f1-e381-598cc6fb4ade"
      },
      "source": [
        "import random as r\r\n",
        "blue = ['blue']*70\r\n",
        "red = ['red']*30\r\n",
        "box = blue + red\r\n",
        "cnt = 0\r\n",
        "for i in range(1,10001):\r\n",
        "    a = []\r\n",
        "    for k in range(3):\r\n",
        "        a.append(r.choice(box))\r\n",
        "    if a.count('red') == 1:\r\n",
        "        cnt += 1\r\n",
        "print(cnt/10000)"
      ],
      "execution_count": 110,
      "outputs": [
        {
          "output_type": "stream",
          "text": [
            "0.4459\n"
          ],
          "name": "stdout"
        }
      ]
    },
    {
      "cell_type": "markdown",
      "metadata": {
        "id": "c_HX_y05i7lr"
      },
      "source": [
        "정답"
      ]
    },
    {
      "cell_type": "code",
      "metadata": {
        "colab": {
          "base_uri": "https://localhost:8080/"
        },
        "id": "_FnzNZe3i8Sx",
        "outputId": "55e00cfe-42d3-4190-dd2b-4e1d5e55c3a4"
      },
      "source": [
        "# 넘파이의 랜덤 초이스는 복원 추출합니다.\r\n",
        "import numpy as np\r\n",
        "\r\n",
        "box = []\r\n",
        "a = ['blue']*70\r\n",
        "b = ['red']*30\r\n",
        "box = a+b\r\n",
        "\r\n",
        "cnt = 0\r\n",
        "cnts = 0\r\n",
        "\r\n",
        "for i in range(1000):\r\n",
        "    result = list(np.random.choice(box,3,replace = True)) # True면 복원 False면 비복원\r\n",
        "    cnts += 1\r\n",
        "    if result.count('blue')==2:\r\n",
        "        cnt += 1\r\n",
        "\r\n",
        "print(cnt/cnts)"
      ],
      "execution_count": 114,
      "outputs": [
        {
          "output_type": "stream",
          "text": [
            "0.43\n"
          ],
          "name": "stdout"
        }
      ]
    },
    {
      "cell_type": "markdown",
      "metadata": {
        "id": "rxYTtDStjd7M"
      },
      "source": [
        "문제329. 세원이형이 올린 코드를 참조해서 아래의 문제를 해결하시오.  \r\n",
        "\r\n",
        "6개의 제품이 들어있는 상자가 있는데 그 중에 2개가 불량품이라고 했을 때 제품 검사를 위해 3개를 추출했을 때 1개가 불량품일 확률을 출력하시오!(복원추출로 하세요~)"
      ]
    },
    {
      "cell_type": "code",
      "metadata": {
        "colab": {
          "base_uri": "https://localhost:8080/"
        },
        "id": "OWie68iFkPR1",
        "outputId": "ef2009b3-d856-4eff-cbfd-34383c48cc6b"
      },
      "source": [
        "box = ['정상','불량품','정상','정상','불량품','정상']\r\n",
        "import numpy as np\r\n",
        "\r\n",
        "cnts = 0\r\n",
        "cnt = 0\r\n",
        "for i in range(10001):\r\n",
        "    result = list(np.random.choice(box,3,replace = False)) # True면 복원 False면 비복원\r\n",
        "    cnts += 1\r\n",
        "    if result.count('불량품') == 1:\r\n",
        "        cnt += 1\r\n",
        "\r\n",
        "print(cnt/cnts)"
      ],
      "execution_count": 120,
      "outputs": [
        {
          "output_type": "stream",
          "text": [
            "0.6075392460753924\n"
          ],
          "name": "stdout"
        }
      ]
    },
    {
      "cell_type": "markdown",
      "metadata": {
        "id": "OWUuT_cmk-7h"
      },
      "source": [
        "# 110. 리스트에서 특정 구간에 있는 모든 요소 제거하기  \r\n",
        "\r\n",
        "리스트 객체에서 특정 구간에 있는 요소들을 제거하려면 del과 슬라이싱을 이용하면 됩니다.  \r\n",
        "\r\n",
        "예제:"
      ]
    },
    {
      "cell_type": "code",
      "metadata": {
        "colab": {
          "base_uri": "https://localhost:8080/"
        },
        "id": "jRllroYIlcrE",
        "outputId": "2ce88714-60d7-45b1-9929-48c0e5509271"
      },
      "source": [
        "a = a = ['태양','수성','금성','지구','화성','목성','토성','천왕성','해왕성']\r\n",
        "del(a[2:6]) # 인덱스 번호 2번부터 6번 미만까지 지움\r\n",
        "a"
      ],
      "execution_count": 124,
      "outputs": [
        {
          "output_type": "execute_result",
          "data": {
            "text/plain": [
              "['태양', '수성', '토성', '천왕성', '해왕성']"
            ]
          },
          "metadata": {
            "tags": []
          },
          "execution_count": 124
        }
      ]
    },
    {
      "cell_type": "markdown",
      "metadata": {
        "id": "3UVa--hglqDI"
      },
      "source": [
        "문제330. 위의 a 리스트의 요소를 다 지우시오."
      ]
    },
    {
      "cell_type": "code",
      "metadata": {
        "colab": {
          "base_uri": "https://localhost:8080/"
        },
        "id": "M-ZKGSkZlsTS",
        "outputId": "84be81d3-5f86-45b7-c39f-25f70d18f948"
      },
      "source": [
        "a = ['태양','수성','금성','지구','화성','목성','토성','천왕성','해왕성']\r\n",
        "del(a[:]) # del(a)를 해버리면 리스트까지 삭제해버린다!\r\n",
        "a"
      ],
      "execution_count": 130,
      "outputs": [
        {
          "output_type": "execute_result",
          "data": {
            "text/plain": [
              "[]"
            ]
          },
          "metadata": {
            "tags": []
          },
          "execution_count": 130
        }
      ]
    },
    {
      "cell_type": "markdown",
      "metadata": {
        "id": "aOMhYJArmOuK"
      },
      "source": [
        "문제331. (점심시간 문제) 초등학생 10만명의 체중 데이터를 가지고 히스토그램 그래프를 그리시오~~  \r\n",
        "초등학생 10만명의 평균 체중은 45kg이고 표준편차는 5입니다.\r\n",
        "```\r\n",
        "30 ~ 60kg까지 간격 2kg\r\n",
        "30 ~ 32\r\n",
        "32 ~ 34\r\n",
        ".\r\n",
        ".\r\n",
        "58 ~ 60\r\n",
        "```"
      ]
    },
    {
      "cell_type": "code",
      "metadata": {
        "colab": {
          "base_uri": "https://localhost:8080/",
          "height": 373
        },
        "id": "6rwNRNCzmnXQ",
        "outputId": "6d5185f6-6619-455e-ba70-85f49a0c497a"
      },
      "source": [
        "import numpy as np\r\n",
        "import matplotlib.pyplot as plt\r\n",
        "\r\n",
        "avg = 45\r\n",
        "std = 5\r\n",
        "\r\n",
        "a_list= np.random.randn(100000)*std + avg\r\n",
        "\r\n",
        "x_value = list(range(30,62,2))\r\n",
        "x_value\r\n",
        "print(type(x_value))\r\n",
        "print(type(a_list))\r\n",
        "\r\n",
        "plt.xticks(x_value)\r\n",
        "plt.grid()\r\n",
        "plt.hist(a_list,x_value,rwidth = 0.8)"
      ],
      "execution_count": 150,
      "outputs": [
        {
          "output_type": "stream",
          "text": [
            "<class 'list'>\n",
            "<class 'numpy.ndarray'>\n"
          ],
          "name": "stdout"
        },
        {
          "output_type": "execute_result",
          "data": {
            "text/plain": [
              "(array([  310.,   971.,  2143.,  4483.,  7787., 11869., 14527., 15849.,\n",
              "        14650., 11363.,  7815.,  4504.,  2151.,   951.,   336.]),\n",
              " array([30, 32, 34, 36, 38, 40, 42, 44, 46, 48, 50, 52, 54, 56, 58, 60]),\n",
              " <a list of 15 Patch objects>)"
            ]
          },
          "metadata": {
            "tags": []
          },
          "execution_count": 150
        },
        {
          "output_type": "display_data",
          "data": {
            "image/png": "[encoded data removed]",
            "text/plain": [
              "<Figure size 432x288 with 1 Axes>"
            ]
          },
          "metadata": {
            "tags": [],
            "needs_background": "light"
          }
        }
      ]
    },
    {
      "cell_type": "markdown",
      "metadata": {
        "id": "6BETF5Jo9bng"
      },
      "source": [
        "# 111. 리스트에 있는 요소 개수 구하기(len)\r\n",
        "\r\n",
        "파이썬 내장함수인 len()은 시퀀스 자료형의 크기를 구하는 함수입니다. len()을 리스트에 적용하면 리스트의 모든 요소의 개수를 리턴합니다."
      ]
    },
    {
      "cell_type": "code",
      "metadata": {
        "id": "3OIpcdxY-G3F"
      },
      "source": [
        "a = ['태양','수성','금성','지구','화성','목성','토성','천왕성','해왕성']\r\n",
        "len(a)"
      ],
      "execution_count": null,
      "outputs": []
    },
    {
      "cell_type": "markdown",
      "metadata": {
        "id": "BJ9BBGxw-RkI"
      },
      "source": [
        "문제332. 점심시간에 만들었던 초등학생 10만명의 체중 데이터를 모수로 보고 10만명의 체중 데이터에서 100명을 샘플링하여 평균을 구하시오."
      ]
    },
    {
      "cell_type": "code",
      "metadata": {
        "colab": {
          "base_uri": "https://localhost:8080/"
        },
        "id": "blk5S4cU-RIi",
        "outputId": "3ab9bc99-d7e2-4c9d-bb1e-4591c277b838"
      },
      "source": [
        "import numpy as np\r\n",
        "import random\r\n",
        "a = np.random.choice(a_list,10000,replace = False)\r\n",
        "print(a.mean())"
      ],
      "execution_count": 172,
      "outputs": [
        {
          "output_type": "stream",
          "text": [
            "44.93040498436585\n"
          ],
          "name": "stdout"
        }
      ]
    },
    {
      "cell_type": "markdown",
      "metadata": {
        "id": "VPZ4c1t-_i4P"
      },
      "source": [
        "문제333. 위의 모집단에서 표본 100명을 추출하여 표본평균을 구하는 작업을 1000번 수행해서 1000개의 표본평균을 a라는 비어있는 리스트에 넣으시오."
      ]
    },
    {
      "cell_type": "code",
      "metadata": {
        "colab": {
          "base_uri": "https://localhost:8080/"
        },
        "id": "hCbsRG8s_qA2",
        "outputId": "f5b8fba3-61b6-465a-bf45-1ad0b2864920"
      },
      "source": [
        "import numpy as np\r\n",
        "import matplotlib.pyplot as plt\r\n",
        "\r\n",
        "avg = 45\r\n",
        "std = 5\r\n",
        "\r\n",
        "a_list= np.random.randn(100000)*std + avg\r\n",
        "a = []\r\n",
        "for i in range(1,1001):\r\n",
        "    result = np.random.choice(a_list,100,replace = False).mean()\r\n",
        "    a.append(result)\r\n",
        "print(a)\r\n"
      ],
      "execution_count": 178,
      "outputs": [
        {
          "output_type": "stream",
          "text": [
            "[45.854387976184526, 44.53076866189962, 45.50195533141889, 45.11242247739895, 45.34376519319889, 44.82638904713774, 45.54758814785021, 45.46984097047366, 45.33580827676509, 44.89456036845418, 44.19648250321289, 44.64568787610537, 44.60911057140519, 46.08523976740533, 44.85667245359416, 44.0724398361349, 44.47405555045611, 44.14295740634099, 45.01269525249479, 45.47907823959762, 44.81260785104834, 45.20507033100487, 46.33696820142768, 45.20379894379659, 45.64140681904029, 45.23320953627174, 45.421215670836645, 44.197753304135695, 45.061164836981064, 44.634257419732485, 44.815792277120885, 44.955089338003525, 44.677459318781395, 44.817270461007745, 45.62972076343408, 44.91383329934775, 46.7278387878243, 45.044664617059446, 45.158465892537976, 45.96533502948972, 44.3017641221663, 44.78631755016835, 45.0498726824765, 45.412576978910884, 45.78530748056001, 45.433512126359155, 44.93092948571835, 44.37005523851491, 44.39154449516295, 45.05333599675861, 44.71027590777644, 45.07537912704168, 44.75637053753624, 44.49704581505574, 45.42964153092417, 45.43836480759706, 44.45019586662384, 44.692173525714225, 44.262538345450736, 44.81868369240626, 44.887332498971915, 45.62426440248937, 45.08109154632858, 44.48882427578028, 45.22781036684088, 44.96021526085361, 45.50823989141444, 45.99180179786228, 45.21853583910718, 44.81285900646233, 45.79814149676319, 44.69081129710812, 45.53835182739055, 44.797204989050904, 44.589850350983745, 44.59093346429272, 44.70679242282855, 44.720149912841755, 44.03184176819731, 45.094894579263325, 44.61595392043402, 45.73347414549004, 45.17173028674285, 45.87136993693807, 45.2364725268564, 45.10091675673388, 44.98601300402723, 45.012458608890114, 45.54820227484848, 44.48162269529316, 45.805548245531455, 45.79348457481604, 44.44329039400596, 44.50270045048991, 45.05167618667397, 44.99809932455196, 45.47897012877741, 44.409427252591556, 44.95100807664254, 45.484292503075224, 45.726197243758094, 44.22989879057079, 45.32624521907328, 45.296501581946075, 44.588281712618944, 45.31941786017539, 45.48822179292807, 45.66742263124395, 44.53083530962206, 45.81328965312225, 44.585923917399676, 43.89194767144385, 45.095990396706995, 43.75519960686828, 45.03280799541313, 44.94815948338701, 44.819723123401076, 44.65470407430131, 45.653279556276864, 45.60930981637127, 44.93911885089532, 44.58355154723991, 45.3234480979749, 45.23760497648963, 45.25604729120724, 44.91583085465136, 44.64293263031382, 44.70619188927165, 45.73394819962029, 45.25411604552228, 44.600360030560424, 44.47961099731496, 43.841366015617126, 44.64362379511789, 45.86959526741148, 44.9598877210093, 45.401277529490905, 45.20722769694817, 44.98874598413369, 44.30014761020019, 45.67951368179667, 45.10813510202703, 44.81882528542383, 45.112667245798164, 43.847798652213534, 44.213526043799156, 44.47019646983039, 44.39459761445126, 44.98454408237325, 45.441094363424305, 45.01779121873617, 44.452732427860035, 44.755671163577844, 45.32425391482495, 45.15533506476343, 43.686107747709904, 44.26135261508115, 45.24350025605215, 44.440090588266074, 44.49421064252463, 45.265675965648654, 44.511532744270255, 45.338314065587056, 45.15907528869889, 45.095068274615244, 45.4978981918502, 43.62545319736221, 43.694118250168614, 43.80974443140895, 45.55223042303171, 45.3989109086303, 45.438287722311095, 45.09342048632619, 45.0760158701995, 44.66456384086115, 45.41807970544137, 45.951655090959356, 45.36718102737189, 45.87085105454454, 45.649409771072314, 44.464578883121895, 43.764161572631316, 45.13273353481844, 44.23629599290751, 44.49977990184928, 44.735919009745814, 44.80562613821994, 44.85584647410827, 44.58637316204928, 44.652763682715275, 44.1952329064642, 45.689976584082785, 44.57340345220701, 45.14456491407689, 44.872573648765, 45.02670035584329, 45.64876247036913, 45.006442259991964, 45.02327411878748, 45.09640371526685, 44.97212133423629, 44.83948442707271, 46.008044062745476, 44.80265185819981, 45.05749447135248, 45.488266963793066, 44.74500396378522, 45.669555269351484, 44.88757183283698, 45.07457817585894, 45.01430747007666, 44.06168748106094, 44.9440820060555, 45.22829213601965, 44.95707965841689, 45.183478540772384, 44.65221516914464, 45.26127482526222, 45.77135255591292, 45.3435514928303, 45.75682102259777, 45.93722444492798, 45.10679917189347, 45.20890341428179, 44.66980833848833, 44.89361564288772, 44.7632016323877, 44.87658462726523, 45.1961203832501, 45.10839344981568, 44.80451351152188, 44.74864903074405, 44.95810391348353, 44.46279423253811, 44.64764470845462, 45.42004867846578, 44.391393508161535, 45.27873486480601, 44.96969603171566, 45.4446122709268, 44.450149973077345, 45.1870655680667, 45.90867132931795, 44.1265164304067, 45.212267101218174, 45.443656607169736, 45.27376492963931, 44.69915957981304, 45.395581461153945, 46.040634031602394, 45.12884651727353, 44.87759901819927, 45.08561961478469, 44.59870717239064, 44.95318904381783, 45.35126380392624, 45.526082982841764, 45.82610439016571, 45.64441378911922, 46.55467940286384, 44.318580367952855, 45.22962286550086, 44.79753514853893, 45.763310598489234, 45.17978792762418, 44.35283265802806, 44.98679566319161, 43.99446118487699, 45.497345999537366, 44.5063023711667, 45.65456252277464, 46.069692839360954, 44.41995651350153, 45.26703269151643, 45.94701424476832, 44.79492356570654, 44.880016506542844, 44.551370411606094, 45.43826166653469, 44.437781017360905, 44.9427503920401, 45.496513953598004, 44.90756042345315, 45.286184540881386, 45.49234191433559, 44.579129123411555, 45.07169074801016, 44.34372762488435, 44.674020643038475, 44.963541571539366, 44.706505108050486, 44.54580111489792, 45.73071676764025, 44.48105188166996, 44.62146482479783, 45.50363157750472, 45.26523254973469, 44.91342885785246, 44.85887033167878, 45.522332525250434, 45.28627972611478, 45.040250190219595, 44.89135888826381, 44.96210973713488, 45.18409804464304, 44.654895321126666, 44.93524870226894, 44.2492191900081, 45.119929983156396, 44.98565801949466, 44.34944428556187, 44.29899533458328, 44.58912948045492, 44.64780576298914, 44.636744611996725, 44.56012348028759, 46.28799931105895, 44.441363864811144, 45.10700636125622, 45.49883339529521, 45.38178465273333, 45.85417169720763, 44.74098334423108, 44.59187020939038, 44.686162801173005, 45.052011867179026, 45.69309680474309, 46.19369934926495, 45.35244271093198, 44.29364192075534, 44.44142993451043, 45.056398065776335, 45.32228223827227, 45.202076889952096, 44.23789921201812, 44.69294554297988, 44.87577644389957, 44.86783881860833, 44.5871915408717, 45.36097419248885, 45.367935222038696, 44.681913540422926, 45.6880744046787, 44.87351966874369, 44.6466106257668, 44.68831991267338, 44.70441427213622, 45.854439445416304, 44.18655252088356, 45.197114372782146, 45.19210186190627, 44.84518774177573, 44.775816547701, 45.00911060387998, 44.91226308090104, 45.419326768891494, 43.481518862946885, 45.55472028441603, 43.98722075840432, 46.225596461582725, 44.65180266857537, 44.69427443679972, 45.71314932042222, 44.948754446060995, 45.29801386888876, 44.61630292446823, 44.861804810086376, 44.50096854795431, 45.334085095470094, 45.57597759675802, 44.8651014187629, 44.9187195086743, 45.13049165533316, 45.40681015784283, 44.49255091615101, 44.889159538428096, 44.427871320723746, 45.39492338901973, 45.9716926923957, 45.59955585181775, 45.420223653341175, 45.49438056229624, 45.14409019610109, 44.40610698946644, 45.908985235801, 45.033750924888835, 44.292624216984784, 44.3570566286919, 44.82179207533921, 44.785124696373124, 45.11640318730426, 44.56159274465764, 46.01642082691197, 44.26580289101231, 45.13802150093809, 44.33341878386839, 46.0878304115943, 45.03204825962156, 45.776283903155246, 44.66067286442576, 44.550652237967235, 43.49594533882793, 44.79074873126497, 44.65561702906825, 44.52204910694305, 45.12252787480046, 46.19796261362406, 44.63435489638534, 44.75804538206996, 45.97746295176214, 45.11803696103078, 43.95412957073884, 44.57554759538059, 45.744894437551004, 44.32112201001087, 44.36633398454656, 44.57460426441198, 44.70044161227045, 45.6891746422987, 45.369120256730646, 45.27859917819552, 45.28461799868612, 45.44902498990798, 44.785382235862514, 44.35287235963213, 45.67034690717551, 45.78137646329859, 44.92102141422219, 45.67532915391691, 45.38535581742433, 45.455285977219084, 44.14329615064049, 44.839212445448084, 44.555028105108796, 44.83403666105842, 44.47049991789465, 45.509645407582674, 45.12912894192798, 44.270251594296454, 45.79721230899048, 45.56214555731676, 45.40698494215968, 44.54707474344849, 45.28868854936065, 44.21162940419131, 43.90100496076182, 44.57647979397457, 45.56943666670788, 45.08688874518891, 45.80899295927598, 44.227918793289746, 45.44388690588306, 44.11934126476902, 44.73309048039323, 44.742737917497045, 44.08143843603594, 45.56235645338793, 44.54562564708141, 45.560270371699616, 44.31911710624814, 44.865653194030756, 43.99731927083681, 45.29361151567005, 44.5903073635139, 44.47985828536591, 44.77729093176828, 44.99616612876253, 45.27153539001333, 45.849178018086576, 44.65077738183558, 44.854925353872396, 44.90856713804903, 44.45660667405698, 45.45478705513369, 45.12397882341266, 45.11042393672008, 44.67437117842864, 45.90747342105367, 45.965082243713894, 45.356358545973265, 44.71757292126693, 45.17975040813876, 45.37891508444114, 45.718202197036675, 45.428471531294846, 45.38352113779921, 44.797074193066095, 44.71461872041666, 45.1118153625985, 44.28236849707203, 45.381826573304224, 45.335057087943014, 45.2764247065087, 43.773516744477256, 44.378387283310666, 44.21235807829911, 45.469931639407335, 45.133439479138, 44.08555564478097, 45.43513957029626, 44.84959346664792, 44.791108601225645, 44.310055209887416, 44.09040262534276, 45.26992686228372, 44.61556053718147, 45.05760517494642, 45.163066969336725, 45.12691912213845, 46.01399944172966, 45.122222883790045, 44.208820142112856, 44.522463615658324, 45.229802965087785, 44.48603032159687, 45.12886275527393, 45.28044214012946, 44.598953798218055, 44.80928994134852, 45.12129004083832, 45.10636253896275, 44.38380092774443, 45.42271895092135, 45.189102097022605, 44.62526654916252, 45.1512950292055, 44.75332047493837, 44.78014849614037, 44.88064314828568, 44.77811480039149, 44.271984485340525, 44.990757921232714, 44.851583447991835, 45.05008413189727, 44.53006359847603, 45.85480900082035, 44.42606608991852, 45.86168571567921, 44.293160629833544, 44.94378305283161, 46.012498619627685, 45.62934279066134, 44.94487948754678, 44.67870892333073, 45.15341013146885, 45.639987676827786, 45.212223696639064, 44.51708218591618, 45.431063632678814, 44.84716116317945, 45.38812356358657, 45.43764219318342, 44.76275748633534, 45.54541702263139, 44.95258831085475, 44.409503971081975, 44.370176548128846, 44.87385678284516, 45.85576905323782, 44.838629985562896, 44.34355602536318, 44.51753774205844, 45.30931106201453, 45.495515751210604, 45.06654859845963, 44.72340087513345, 45.7875237855841, 45.06869179430915, 45.27644928680941, 45.30564459476551, 46.22207572223479, 44.97451111440982, 45.052260605734546, 44.75874616161177, 44.54208424843165, 44.66918300950498, 45.37806830299526, 45.47475258346318, 44.464333214698044, 44.92516937964173, 45.11523240605363, 44.807988081148984, 43.7098670536219, 45.2344798624832, 45.365750888960065, 45.138521099542075, 44.55302313505578, 46.23524673929469, 45.647552586813866, 45.09192103396666, 44.899951071964544, 44.90927379798187, 45.703136383011206, 45.04896220858759, 45.750635988927996, 44.858632824843305, 45.291071842032196, 45.45548645681911, 45.60595779653092, 44.64445929542726, 44.70401361280132, 45.56341341193905, 45.05357870062964, 44.50836605150142, 44.61721354145568, 44.94417346795231, 44.87864801387419, 45.292377524331116, 45.59909659490322, 43.657947683479634, 45.18211860528703, 45.38589817671647, 45.02801715865867, 45.214614225553845, 44.99547318208081, 45.23594291131084, 45.3674899066381, 44.26816416660321, 45.46743491920971, 45.14936466582107, 45.49086122371386, 44.4106998023665, 45.00876528706448, 44.84498430149197, 44.49627598466752, 44.9547105676518, 44.97463104890468, 45.26694253641388, 44.81988949163108, 44.80399138218993, 44.959607840649475, 44.61465258234323, 44.72570697405068, 45.134514494103726, 44.20986025895725, 45.193459969474254, 45.475158070500235, 45.63756619063734, 44.83726693342931, 44.94528121871236, 44.7832717948343, 45.45604565309852, 44.74068402393172, 44.32371171677486, 44.521225879404874, 45.19692517027229, 44.71417133643991, 44.2103122296679, 44.97506879274004, 45.449732182970735, 45.75782483875046, 45.33766988940906, 45.85086278328571, 45.687081982602976, 45.536042173337044, 43.772625387047626, 45.232609437619175, 44.83007713383082, 45.30559804416085, 45.02135768539979, 44.97659998151104, 45.01605135598925, 45.10185022736614, 44.76715049954023, 45.46448966295332, 45.20645865830812, 44.92986579498809, 44.51584178445303, 45.7232281164962, 44.84672545140734, 44.95621600263052, 45.57251308283069, 44.86426265440018, 44.38042998198012, 43.73099690104099, 44.60742167372903, 44.31898750455977, 44.764708908529, 45.05838094459358, 44.93344628360682, 45.71709618829852, 45.18001361911218, 44.793307564990165, 44.512451748342336, 44.65612052328709, 43.657965988957095, 44.1980451720619, 45.05221281688684, 45.01611863462907, 45.417957249104795, 44.444844521120196, 45.01855803194946, 45.13557293728855, 45.46498736524778, 44.51241978515366, 45.24616665025432, 45.04405672773853, 45.548565180799024, 44.85128151850668, 45.36570110963203, 45.01488308249583, 44.767910806585824, 44.17081478691436, 45.41082571814331, 45.04917568860574, 45.572255365384564, 44.661689949818786, 45.171429406657246, 44.79441832359781, 45.72201287171558, 45.226972441519614, 45.60984211610084, 45.48554950891445, 45.64436162110056, 44.87180131040769, 44.30105892440693, 44.9836971929925, 44.65973748009088, 44.89950392485248, 45.315985319246764, 45.09696022155436, 44.80044983195511, 44.16050777590462, 45.0651497995579, 45.05631779453905, 44.524149878287346, 44.93281851762276, 44.425948582412985, 44.60722779016156, 44.373125580365596, 45.39499231957243, 45.08111032021161, 44.24323721549952, 45.31977229458614, 44.56014050260274, 44.973646072772425, 45.76745309930894, 45.04148393979485, 44.70567134053369, 44.4815888834679, 45.13162683030161, 44.63506861402299, 44.52141750120797, 44.569025157521956, 45.755704923384634, 44.86177028559622, 45.233862304352336, 45.81486968401779, 44.54702720493118, 45.45935768418252, 44.52654699824873, 45.12164170914174, 45.347446577039406, 45.28669954394418, 45.17302848241216, 45.78272346750376, 45.014706428583395, 45.682292842019876, 45.128990401746194, 44.519331653793806, 44.873449698591656, 44.768714326312285, 45.13099813763107, 44.459761755695496, 44.61212977004198, 44.8819600378004, 44.63908826187737, 44.55075399297763, 44.4802472936547, 44.33372741797035, 44.343222070482206, 45.32430051725376, 46.350082422253394, 44.844320354430586, 45.19567515453708, 45.36630293348788, 45.19495805686072, 44.67497307851159, 45.253922982069, 45.17192760817562, 44.97779011781902, 45.19237611292729, 44.28403187507343, 45.14723136566792, 45.15344710016597, 45.54326284991626, 45.26590785472631, 44.76095127508893, 44.7723216229825, 44.736039137932266, 44.32303147510185, 45.04962577348696, 44.45446647786138, 44.756444533759876, 44.58145946175061, 45.02404814566879, 45.043196818627756, 44.522013521752136, 44.800630308346584, 46.1440052951882, 45.12966463318113, 44.55978043120801, 44.845266252659236, 44.86343219523362, 45.13095376137238, 43.88732793244789, 45.1305194864813, 44.89682684652601, 44.02098678010294, 44.26798845974361, 45.3682354881616, 45.474934556769405, 45.70367758907021, 45.32280909587602, 44.8458317919805, 44.09927298646464, 44.37518053929057, 44.69521245690663, 44.68841838351159, 44.62466207009262, 45.13862854321403, 45.48539133105719, 44.69145950385552, 44.40870270700375, 45.62907191500362, 44.81303379303122, 44.7175077886667, 45.20042112891516, 44.64421441144693, 45.25122187377085, 44.51073853341584, 45.266873550810345, 45.31980317507518, 45.65073048873355, 44.822932164130336, 45.47073121949712, 44.88174302524839, 44.338961937682036, 44.28232955907035, 45.7099523966755, 44.93737697554909, 45.75778042449136, 45.309055742018806, 44.83765467055321, 44.13718151123363, 44.395684421174934, 45.646994871306234, 44.99545677598199, 43.964213356527715, 44.800709786241356, 45.25933146169375, 45.38837196730291, 44.8405821816185, 45.35302990340616, 44.729259054982464, 44.97675632513029, 44.288011390286584, 45.248685727566546, 44.037670144822066, 46.05384637685445, 45.42669193997741, 45.01672043808211, 45.04217090026999, 44.71155150624466, 45.79755298024267, 44.51126556193528, 45.37192812460971, 44.59680300502315, 45.33476159287476, 45.20130005593094, 44.57645496552172, 44.38991744894233, 44.99442127341463, 44.42870408156152, 44.44138871387244, 45.63512493039364, 45.36910382073161, 44.8129832570234, 44.506697967628845, 44.8828801232306, 44.706182767870466, 45.31709271996789, 45.16460919075907, 45.059376142844705, 45.74614337347153, 44.643836110448945, 45.31000163394285, 45.20697853860302, 44.67763178762434, 44.00364062945054, 45.2165381835154, 44.96643664186694, 45.81703207491381, 45.27917558590327, 45.55597296596304, 44.58434803323146, 45.928998699909016, 45.23285632399395, 44.23771751630485, 45.62800113240619, 43.77161524577487, 44.9359488539884, 45.60277623680947, 44.750475500503754, 45.85783920905604, 45.503746784639404, 45.13178729301273, 45.531327266638165, 44.279103535593634, 45.04030449911563, 45.76578517793386, 44.2582575041023, 45.683340790488366, 44.23664456952483, 45.77564729660361, 45.90628470843093, 45.40442811206239, 45.091498639943005, 44.659924854672326, 44.60484345153019, 45.48712013417341, 44.520959530642, 45.26697532337709, 45.10674136967871, 45.08635961135315, 45.851823840780796, 45.04629794332457, 45.541883543700806, 44.80488176629638, 44.68458337604622, 45.78940736277712, 45.51983814773357, 44.77549306948636, 45.505546171017606, 45.186494303825846, 44.381940977609375, 46.08252029074843, 44.797949888449004, 44.17765654341205, 44.8726203397903, 44.36392753359028, 45.011455112814474, 44.43272531484305, 44.589728309473614, 45.27732842922305, 45.127876092025474, 45.04836601232065, 44.85825905906228, 45.487156000037345, 45.183224957166516, 45.06877030423298, 45.07594269968761, 44.90917553774257, 45.76443313646182, 45.33031263480559, 45.665128066835706, 45.22456227886428, 44.978093623487176, 43.72341586834916, 44.802096632683245, 45.174733237449615, 45.68344619459556, 45.1828789618833, 44.82481055919252, 45.501476347154124, 44.479365678007035, 45.17760436732076, 44.40677337077185, 45.336120818251175, 45.35431424190555, 44.40361659938887, 45.496986993482885, 44.816122185001184, 44.250177980419714, 45.07560391234295, 45.308958221530155, 45.327714273436726, 44.45577601336633, 44.421816148598836, 44.96792473178744, 44.28973212960699, 45.33232372590069, 44.828080545840045, 43.763758659157055, 45.12497865325566, 44.60886601194101, 44.95820954437398, 44.792678472498736, 44.985680256398716, 44.29002922469311, 44.49448708806166, 45.71694289736278, 45.487464418992666, 45.14933634541146, 44.87715166196921, 44.88670033470533, 45.19957222651666, 44.88024056574289, 44.94443043616365, 44.97211378175045]\n"
          ],
          "name": "stdout"
        }
      ]
    },
    {
      "cell_type": "markdown",
      "metadata": {
        "id": "zz9TzuhvAXqb"
      },
      "source": [
        "문제334. 위의 a 리스트의 요소의 갯수를 출력하시오."
      ]
    },
    {
      "cell_type": "code",
      "metadata": {
        "colab": {
          "base_uri": "https://localhost:8080/"
        },
        "id": "5h3d4-vnAXeA",
        "outputId": "a2776ce1-289f-44fb-8bbf-903668048a4f"
      },
      "source": [
        "len(a)"
      ],
      "execution_count": 179,
      "outputs": [
        {
          "output_type": "execute_result",
          "data": {
            "text/plain": [
              "1000"
            ]
          },
          "metadata": {
            "tags": []
          },
          "execution_count": 179
        }
      ]
    },
    {
      "cell_type": "markdown",
      "metadata": {
        "id": "jgNF6tTkA0cj"
      },
      "source": [
        "문제335. 위의 표본평균 1000개를 가지고 히스토그램 그래프를 그리시오.  \r\n"
      ]
    },
    {
      "cell_type": "code",
      "metadata": {
        "colab": {
          "base_uri": "https://localhost:8080/",
          "height": 409
        },
        "id": "WL6W8NxNA4US",
        "outputId": "5dcba337-e661-4a80-9c4a-0171e965df46"
      },
      "source": [
        "import matplotlib.pyplot as plt\r\n",
        "x_val = []\r\n",
        "for i in range(40):\r\n",
        "    x_val.append(43+i*0.1)  # 1단위로 잡으면 폭이 너무 커져서 작게 잡음\r\n",
        "\r\n",
        "plt.hist(a,x_val,rwidth=0.8)"
      ],
      "execution_count": 196,
      "outputs": [
        {
          "output_type": "execute_result",
          "data": {
            "text/plain": [
              "(array([ 0.,  0.,  0.,  0.,  2.,  0.,  5.,  9.,  5.,  6., 10., 13., 34.,\n",
              "        35., 49., 62., 62., 60., 85., 68., 72., 81., 64., 59., 62., 32.,\n",
              "        36., 36., 19., 13., 10.,  3.,  4.,  2.,  0.,  1.,  0.,  1.,  0.]),\n",
              " array([43. , 43.1, 43.2, 43.3, 43.4, 43.5, 43.6, 43.7, 43.8, 43.9, 44. ,\n",
              "        44.1, 44.2, 44.3, 44.4, 44.5, 44.6, 44.7, 44.8, 44.9, 45. , 45.1,\n",
              "        45.2, 45.3, 45.4, 45.5, 45.6, 45.7, 45.8, 45.9, 46. , 46.1, 46.2,\n",
              "        46.3, 46.4, 46.5, 46.6, 46.7, 46.8, 46.9]),\n",
              " <a list of 39 Patch objects>)"
            ]
          },
          "metadata": {
            "tags": []
          },
          "execution_count": 196
        },
        {
          "output_type": "display_data",
          "data": {
            "image/png": "[encoded data removed]",
            "text/plain": [
              "<Figure size 432x288 with 1 Axes>"
            ]
          },
          "metadata": {
            "tags": [],
            "needs_background": "light"
          }
        }
      ]
    },
    {
      "cell_type": "markdown",
      "metadata": {
        "id": "o66CG4l2CcAG"
      },
      "source": [
        "# 112. 리스트에서 특정 요소 개수 구하기(count)  \r\n",
        "\r\n",
        "리스트.count('요소')는 객체 리스트에서 '요소'의 갯수를 구하는 메소드입니다."
      ]
    },
    {
      "cell_type": "code",
      "metadata": {
        "colab": {
          "base_uri": "https://localhost:8080/"
        },
        "id": "eVxQhUKbCxDa",
        "outputId": "e9856467-80df-4a5d-c9f0-6b9f4f3cfd3f"
      },
      "source": [
        "box = ['yellow','yellow','red','red','red']\r\n",
        "print(box.count('red'))"
      ],
      "execution_count": 197,
      "outputs": [
        {
          "output_type": "stream",
          "text": [
            "3\n"
          ],
          "name": "stdout"
        }
      ]
    },
    {
      "cell_type": "markdown",
      "metadata": {
        "id": "CR5blVk3DEO4"
      },
      "source": [
        "문제336. 우리반 데이터의 나이를 비어있는 리스트 a에 입력하고 나서 우리반 나이 데이터중에서 27살이 몇명 있는지 출력하시오!"
      ]
    },
    {
      "cell_type": "code",
      "metadata": {
        "colab": {
          "resources": {
            "http://localhost:8080/nbextensions/google.colab/files.js": {
              "data": "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",
              "ok": true,
              "headers": [
                [
                  "content-type",
                  "application/javascript"
                ]
              ],
              "status": 200,
              "status_text": ""
            }
          },
          "base_uri": "https://localhost:8080/",
          "height": 76
        },
        "id": "Er18uh4CBBoX",
        "outputId": "ee9c979c-bfcc-48e1-eb31-6e36a39f8a01"
      },
      "source": [
        "from google.colab import files\r\n",
        "file = files.upload()"
      ],
      "execution_count": 198,
      "outputs": [
        {
          "output_type": "display_data",
          "data": {
            "text/html": [
              "\n",
              "     <input type=\"file\" id=\"files-663e56f8-51c2-4394-92c3-17bf7ad3d4f9\" name=\"files[]\" multiple disabled\n",
              "        style=\"border:none\" />\n",
              "     <output id=\"result-663e56f8-51c2-4394-92c3-17bf7ad3d4f9\">\n",
              "      Upload widget is only available when the cell has been executed in the\n",
              "      current browser session. Please rerun this cell to enable.\n",
              "      </output>\n",
              "      <script src=\"/nbextensions/google.colab/files.js\"></script> "
            ],
            "text/plain": [
              "<IPython.core.display.HTML object>"
            ]
          },
          "metadata": {
            "tags": []
          }
        },
        {
          "output_type": "stream",
          "text": [
            "Saving emp123.csv to emp123.csv\n"
          ],
          "name": "stdout"
        }
      ]
    },
    {
      "cell_type": "code",
      "metadata": {
        "colab": {
          "base_uri": "https://localhost:8080/"
        },
        "id": "6pXmX7iyDSwA",
        "outputId": "7e19f078-6b85-4377-b543-a797cc32452e"
      },
      "source": [
        "import csv\r\n",
        "emp = open('emp123.csv')\r\n",
        "emp = csv.reader(emp)\r\n",
        "next(emp)\r\n",
        "a=[]\r\n",
        "for i in emp:\r\n",
        "    a.append(i[2])\r\n",
        "print(a.count('27'))"
      ],
      "execution_count": 210,
      "outputs": [
        {
          "output_type": "stream",
          "text": [
            "5\n"
          ],
          "name": "stdout"
        }
      ]
    },
    {
      "cell_type": "code",
      "metadata": {
        "id": "YLchqBDOD3_4"
      },
      "source": [
        "import pandas as pd\r\n",
        "emp = pd.read_csv('emp123.csv')\r\n"
      ],
      "execution_count": null,
      "outputs": []
    },
    {
      "cell_type": "markdown",
      "metadata": {
        "id": "yTdnOuhzEMsE"
      },
      "source": [
        "# 113. 리스트 제거하기(del)  \r\n",
        "\r\n",
        "리스트 자체를 메모리에서 제거하려면 다음과 같이 del 명령어를 수행합니다.  \r\n",
        "\r\n",
        "예제:"
      ]
    },
    {
      "cell_type": "code",
      "metadata": {
        "colab": {
          "base_uri": "https://localhost:8080/",
          "height": 208
        },
        "id": "Dwmpdj_jER0T",
        "outputId": "5ad19fc6-ea71-43fb-aece-830455b95043"
      },
      "source": [
        "a = [1,2,3,3,3,4]\r\n",
        "del(a)\r\n",
        "print(a) # a 없어진다."
      ],
      "execution_count": 221,
      "outputs": [
        {
          "output_type": "error",
          "ename": "NameError",
          "evalue": "ignored",
          "traceback": [
            "\u001b[0;31m---------------------------------------------------------------------------\u001b[0m",
            "\u001b[0;31mNameError\u001b[0m                                 Traceback (most recent call last)",
            "\u001b[0;32m<ipython-input-221-ab33de3b6667>\u001b[0m in \u001b[0;36m<module>\u001b[0;34m()\u001b[0m\n\u001b[1;32m      1\u001b[0m \u001b[0ma\u001b[0m \u001b[0;34m=\u001b[0m \u001b[0;34m[\u001b[0m\u001b[0;36m1\u001b[0m\u001b[0;34m,\u001b[0m\u001b[0;36m2\u001b[0m\u001b[0;34m,\u001b[0m\u001b[0;36m3\u001b[0m\u001b[0;34m,\u001b[0m\u001b[0;36m3\u001b[0m\u001b[0;34m,\u001b[0m\u001b[0;36m3\u001b[0m\u001b[0;34m,\u001b[0m\u001b[0;36m4\u001b[0m\u001b[0;34m]\u001b[0m\u001b[0;34m\u001b[0m\u001b[0;34m\u001b[0m\u001b[0m\n\u001b[1;32m      2\u001b[0m \u001b[0;32mdel\u001b[0m\u001b[0;34m(\u001b[0m\u001b[0ma\u001b[0m\u001b[0;34m)\u001b[0m\u001b[0;34m\u001b[0m\u001b[0;34m\u001b[0m\u001b[0m\n\u001b[0;32m----> 3\u001b[0;31m \u001b[0mprint\u001b[0m\u001b[0;34m(\u001b[0m\u001b[0ma\u001b[0m\u001b[0;34m)\u001b[0m\u001b[0;34m\u001b[0m\u001b[0;34m\u001b[0m\u001b[0m\n\u001b[0m",
            "\u001b[0;31mNameError\u001b[0m: name 'a' is not defined"
          ]
        }
      ]
    },
    {
      "cell_type": "markdown",
      "metadata": {
        "id": "YuMamY2vFAoC"
      },
      "source": [
        "문제337. 파이썬에서 정의된 모든 변수들을 확인하시오!\r\n"
      ]
    },
    {
      "cell_type": "code",
      "metadata": {
        "id": "LeI7LStQFEwC"
      },
      "source": [
        "a = [1,2,3,4,5]\r\n",
        "b = 'scott'\r\n",
        "c = 30\r\n",
        "print(dir()) # 변수확인"
      ],
      "execution_count": null,
      "outputs": []
    },
    {
      "cell_type": "markdown",
      "metadata": {
        "id": "w8RU3Mn5GWYe"
      },
      "source": [
        "#114. 리스트 요소 정렬하기 1 (sort) \r\n",
        "\r\n",
        "list.sort()는 리스트 객체 list의 모든 요소를 정렬합니다.  \r\n",
        "\r\n",
        "예:"
      ]
    },
    {
      "cell_type": "code",
      "metadata": {
        "colab": {
          "base_uri": "https://localhost:8080/"
        },
        "id": "IwsgM4gPGcjT",
        "outputId": "b8d84f4d-03eb-42ae-c703-83ef2abb44a8"
      },
      "source": [
        "a = [2,4,1,3,5]\r\n",
        "a.sort()\r\n",
        "print(a) "
      ],
      "execution_count": 227,
      "outputs": [
        {
          "output_type": "stream",
          "text": [
            "[1, 2, 3, 4, 5]\n"
          ],
          "name": "stdout"
        }
      ]
    },
    {
      "cell_type": "markdown",
      "metadata": {
        "id": "hkM1j_-iGhE1"
      },
      "source": [
        "역순으로 정렬하고 싶다면."
      ]
    },
    {
      "cell_type": "code",
      "metadata": {
        "colab": {
          "base_uri": "https://localhost:8080/"
        },
        "id": "Tn46gIe2Gr2c",
        "outputId": "6abf67c2-fc00-4045-d3d2-da8577ea4e10"
      },
      "source": [
        "a = [2,4,1,3,5]\r\n",
        "a.sort()\r\n",
        "a.reverse()\r\n",
        "print(a) "
      ],
      "execution_count": 233,
      "outputs": [
        {
          "output_type": "stream",
          "text": [
            "[5, 4, 3, 2, 1]\n"
          ],
          "name": "stdout"
        }
      ]
    },
    {
      "cell_type": "code",
      "metadata": {
        "colab": {
          "base_uri": "https://localhost:8080/"
        },
        "id": "ZcBkP_m3GiOf",
        "outputId": "34e76132-e6df-4c92-8103-1361be7c6a69"
      },
      "source": [
        "a = [2,4,1,3,5]\r\n",
        "a.sort(reverse=True) # 오\r\n",
        "print(a) "
      ],
      "execution_count": 235,
      "outputs": [
        {
          "output_type": "stream",
          "text": [
            "[5, 4, 3, 2, 1]\n"
          ],
          "name": "stdout"
        }
      ]
    },
    {
      "cell_type": "markdown",
      "metadata": {
        "id": "zrA4ncLRHC5T"
      },
      "source": [
        "문제338. emp3.csv에서 월급을 비어있는 리스트인 a에 담고 월급을 역순으로 정렬해서 리스트의 요소로 구성하시오!"
      ]
    },
    {
      "cell_type": "code",
      "metadata": {
        "colab": {
          "resources": {
            "http://localhost:8080/nbextensions/google.colab/files.js": {
              "data": "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",
              "ok": true,
              "headers": [
                [
                  "content-type",
                  "application/javascript"
                ]
              ],
              "status": 200,
              "status_text": ""
            }
          },
          "base_uri": "https://localhost:8080/",
          "height": 76
        },
        "id": "Jlry65p4HHFb",
        "outputId": "4df186d4-faed-4e25-f6c2-fc99225bca58"
      },
      "source": [
        "file = files.upload()"
      ],
      "execution_count": 236,
      "outputs": [
        {
          "output_type": "display_data",
          "data": {
            "text/html": [
              "\n",
              "     <input type=\"file\" id=\"files-d815f42b-a289-494a-abd9-bae68ea731c9\" name=\"files[]\" multiple disabled\n",
              "        style=\"border:none\" />\n",
              "     <output id=\"result-d815f42b-a289-494a-abd9-bae68ea731c9\">\n",
              "      Upload widget is only available when the cell has been executed in the\n",
              "      current browser session. Please rerun this cell to enable.\n",
              "      </output>\n",
              "      <script src=\"/nbextensions/google.colab/files.js\"></script> "
            ],
            "text/plain": [
              "<IPython.core.display.HTML object>"
            ]
          },
          "metadata": {
            "tags": []
          }
        },
        {
          "output_type": "stream",
          "text": [
            "Saving emp3.csv to emp3.csv\n"
          ],
          "name": "stdout"
        }
      ]
    },
    {
      "cell_type": "code",
      "metadata": {
        "colab": {
          "base_uri": "https://localhost:8080/"
        },
        "id": "_PdlAGzVHCiN",
        "outputId": "03ce3df6-298c-41a4-973f-ba05de8f9586"
      },
      "source": [
        "emp = open('emp3.csv')\r\n",
        "emp = csv.reader(emp)\r\n",
        "a =[]\r\n",
        "next(emp)\r\n",
        "for i in emp:\r\n",
        "    a.append(int(i[6]))\r\n",
        "a.sort(reverse = True)\r\n",
        "a"
      ],
      "execution_count": 241,
      "outputs": [
        {
          "output_type": "execute_result",
          "data": {
            "text/plain": [
              "[5000,\n",
              " 3000,\n",
              " 3000,\n",
              " 2975,\n",
              " 2850,\n",
              " 2450,\n",
              " 1600,\n",
              " 1500,\n",
              " 1300,\n",
              " 1250,\n",
              " 1250,\n",
              " 1100,\n",
              " 950,\n",
              " 800]"
            ]
          },
          "metadata": {
            "tags": []
          },
          "execution_count": 241
        }
      ]
    },
    {
      "cell_type": "markdown",
      "metadata": {
        "id": "llUr_kV7L9XG"
      },
      "source": [
        "# 115. 리스트의 요소 정렬하기 2 (sorted)\r\n",
        "\r\n",
        "파이썬 내장함수 sorted()를 이용하여 리스트를 정렬할 수도 있습니다. 리스트 객체의 sort() 메소드와 다른점은 리스트 객체의 sort()는 원본 리스트를 정렬한 형태로 변경하지만 sorted()는 원본 리스트는 그대로 두고 정렬한 결과 리스트만 리턴합니다.  \r\n",
        "\r\n",
        "예제:\r\n"
      ]
    },
    {
      "cell_type": "code",
      "metadata": {
        "colab": {
          "base_uri": "https://localhost:8080/"
        },
        "id": "kwBtvynbMLPX",
        "outputId": "cbee9cc4-4243-454d-d0c5-c9ccab7d8efe"
      },
      "source": [
        "a = [2,1,3,5,4]\r\n",
        "a.sort()\r\n",
        "a"
      ],
      "execution_count": 244,
      "outputs": [
        {
          "output_type": "execute_result",
          "data": {
            "text/plain": [
              "[1, 2, 3, 4, 5]"
            ]
          },
          "metadata": {
            "tags": []
          },
          "execution_count": 244
        }
      ]
    },
    {
      "cell_type": "code",
      "metadata": {
        "colab": {
          "base_uri": "https://localhost:8080/"
        },
        "id": "P017n8UIMVGZ",
        "outputId": "3b52d912-fd7c-4568-d568-2ec066995d3a"
      },
      "source": [
        "a = [2,1,3,5,4]\r\n",
        "b = sorted(a)\r\n",
        "print(a)\r\n",
        "print(b)"
      ],
      "execution_count": 249,
      "outputs": [
        {
          "output_type": "stream",
          "text": [
            "[2, 1, 3, 5, 4]\n",
            "[1, 2, 3, 4, 5]\n"
          ],
          "name": "stdout"
        }
      ]
    },
    {
      "cell_type": "markdown",
      "metadata": {
        "id": "SpxJu_T0M6fX"
      },
      "source": [
        "# 116. 리스트 요소 무작위로 섞기(shuffle)  \r\n",
        "\r\n",
        "파이썬 기본 모듈인 random은 난수를 발생하는 모듈입니다.  \r\n",
        "이 모듈이 제공하는 shuffle은 리스트의 요소를 무작위로 섞는 데 활용됩니다.  \r\n",
        "\r\n",
        "예제:"
      ]
    },
    {
      "cell_type": "code",
      "metadata": {
        "colab": {
          "base_uri": "https://localhost:8080/"
        },
        "id": "xwSa5t-uNVFm",
        "outputId": "35c4c6be-513c-4512-9992-06944d6a1c0a"
      },
      "source": [
        "from random import shuffle\r\n",
        "a = [1,2,3,4,5,6,7,8,9,10]\r\n",
        "shuffle(a)\r\n",
        "a"
      ],
      "execution_count": 254,
      "outputs": [
        {
          "output_type": "execute_result",
          "data": {
            "text/plain": [
              "[4, 5, 8, 10, 9, 3, 2, 7, 6, 1]"
            ]
          },
          "metadata": {
            "tags": []
          },
          "execution_count": 254
        }
      ]
    },
    {
      "cell_type": "markdown",
      "metadata": {
        "id": "A-Ngqz9jNrtE"
      },
      "source": [
        "문제339. 아래의 artist라는 리스트에 가수이름들을 추가하고 music 리스트에 음악 리스트를 추가하시오."
      ]
    },
    {
      "cell_type": "code",
      "metadata": {
        "id": "1uXVqfU5NrS9"
      },
      "source": [
        "artist = ['비틀즈','비틀즈','아이유','아이유','마이클 잭슨','마이클 잭슨']\r\n",
        "music = ['yesterday','imagine','너랑나','마쉬멜로우','beat it','smooth criminal']"
      ],
      "execution_count": 274,
      "outputs": []
    },
    {
      "cell_type": "markdown",
      "metadata": {
        "id": "wPYUNQRxPBUj"
      },
      "source": [
        "문제340. 위에 artist를 키로 하고 music을 값으로 해서 딕셔너리를 구성하시오.\r\n",
        "```\r\n",
        "{'비틀즈':['yesterday','imagine'], ~~\r\n",
        "```"
      ]
    },
    {
      "cell_type": "code",
      "metadata": {
        "id": "4AZs2zxKPOxa"
      },
      "source": [
        "gini = {}\r\n",
        "gini['비틀즈'] = 'yesterday'\r\n"
      ],
      "execution_count": 283,
      "outputs": []
    },
    {
      "cell_type": "markdown",
      "metadata": {
        "id": "9NGi8_cMRVCZ"
      },
      "source": [
        "문제341. 일일이 노가다 하지말고 for문과 zip을 이용해서 한번에 gini 딕셔너리를 구성하시오."
      ]
    },
    {
      "cell_type": "code",
      "metadata": {
        "colab": {
          "base_uri": "https://localhost:8080/"
        },
        "id": "zevc1n7fRcHW",
        "outputId": "22c3a8ff-c736-4d4a-934b-c32c5c1b43b5"
      },
      "source": [
        "artist = ['비틀즈','비틀즈','아이유','아이유','마이클 잭슨','마이클 잭슨']\r\n",
        "music = ['yesterday','imagine','너랑나','마쉬멜로우','beat it','smooth criminal']\r\n",
        "gini = {}\r\n",
        "for i,k in zip(artist,music): # 아 전혀 모르겠다. 어렵다.\r\n",
        "    gini[i] = k # 아직 전부 나오지는 않는다.\r\n",
        "gini"
      ],
      "execution_count": 307,
      "outputs": [
        {
          "output_type": "execute_result",
          "data": {
            "text/plain": [
              "{'마이클 잭슨': 'smooth criminal', '비틀즈': 'imagine', '아이유': '마쉬멜로우'}"
            ]
          },
          "metadata": {
            "tags": []
          },
          "execution_count": 307
        }
      ]
    },
    {
      "cell_type": "markdown",
      "metadata": {
        "id": "BoIPk3c1TCpL"
      },
      "source": [
        "# 117. 리스트의 모든 요소를 인덱스와 쌍으로 추출하기(enumerate)\r\n",
        "\r\n",
        "파이썬 내장함수 enumerate()는 시퀀스 자료형을 인자로 받아 각 요소를 인덱스와 함께 쌍으로 추출할 수 있는 반복가능한 자료인 enumerate 객체를 리턴합니다. enumerate 객체는 주로 for문과 함께 자주 사용되고 list()를 이용해서 리스트 객체를 변환할 수 있습니다.  \r\n",
        "\r\n",
        "예제:"
      ]
    },
    {
      "cell_type": "code",
      "metadata": {
        "colab": {
          "base_uri": "https://localhost:8080/"
        },
        "id": "wSe6zwp0TY-y",
        "outputId": "b9f3beab-0ad3-4a15-e1f5-74e80230978c"
      },
      "source": [
        "emp12 = ['김wo','김at','김gq','권td']\r\n",
        "result = list(enumerate(emp12))\r\n",
        "print(result)"
      ],
      "execution_count": 309,
      "outputs": [
        {
          "output_type": "stream",
          "text": [
            "[(0, '김wo'), (1, '김at'), (2, '김gq'), (3, '권td')]\n"
          ],
          "name": "stdout"
        }
      ]
    },
    {
      "cell_type": "markdown",
      "metadata": {
        "id": "y4P7dxp6UE_P"
      },
      "source": [
        "예제2."
      ]
    },
    {
      "cell_type": "code",
      "metadata": {
        "colab": {
          "base_uri": "https://localhost:8080/"
        },
        "id": "7W_21yQCUErI",
        "outputId": "c35c688e-b482-4bad-f9bd-b5ae8cd0a05a"
      },
      "source": [
        "emp12 = ['김wo','김at','김gq','권td']\r\n",
        "for i, k in enumerate(emp12):\r\n",
        "    print(i,k)"
      ],
      "execution_count": 310,
      "outputs": [
        {
          "output_type": "stream",
          "text": [
            "0 김wo\n",
            "1 김at\n",
            "2 김gq\n",
            "3 권td\n"
          ],
          "name": "stdout"
        }
      ]
    },
    {
      "cell_type": "markdown",
      "metadata": {
        "id": "KTL5DfxwUwk1"
      },
      "source": [
        "문제342. 아래의 music 리스트에서 요소를 하나씩 빼내는데 앞에 인덱스 번호도 같이 출력되게 하시오!"
      ]
    },
    {
      "cell_type": "code",
      "metadata": {
        "id": "SlEuMK2CTlTi"
      },
      "source": [
        "artist = ['비틀즈','비틀즈','아이유','아이유','마이클 잭슨','마이클 잭슨']\r\n",
        "music = ['yesterday','imagine','너랑나','마쉬멜로우','beat it','smooth criminal']"
      ],
      "execution_count": null,
      "outputs": []
    },
    {
      "cell_type": "code",
      "metadata": {
        "colab": {
          "base_uri": "https://localhost:8080/"
        },
        "id": "UvVMOfJAVIQZ",
        "outputId": "45e6c8ad-722e-4cae-872c-1e39572e145b"
      },
      "source": [
        "for i, q in enumerate(music):\r\n",
        "    print(i,q)"
      ],
      "execution_count": 318,
      "outputs": [
        {
          "output_type": "stream",
          "text": [
            "0 yesterday\n",
            "1 imagine\n",
            "2 너랑나\n",
            "3 마쉬멜로우\n",
            "4 beat it\n",
            "5 smooth criminal\n"
          ],
          "name": "stdout"
        }
      ]
    },
    {
      "cell_type": "markdown",
      "metadata": {
        "id": "FN8LgTblaB9W"
      },
      "source": [
        "문제343. artist 리스트를 가지고 아래와 같이 결과를 출력하시오.\r\n",
        "```\r\n",
        "비틀즈 0\r\n",
        "비틀즈 1\r\n",
        ".\r\n",
        ".\r\n",
        "```"
      ]
    },
    {
      "cell_type": "code",
      "metadata": {
        "colab": {
          "base_uri": "https://localhost:8080/"
        },
        "id": "98T8hpeHaYoc",
        "outputId": "a67f3a51-658d-43e5-c836-070709ec8ef6"
      },
      "source": [
        "for i, k in enumerate(artist):\r\n",
        "    print(k,i)"
      ],
      "execution_count": 320,
      "outputs": [
        {
          "output_type": "stream",
          "text": [
            "비틀즈 0\n",
            "비틀즈 1\n",
            "아이유 2\n",
            "아이유 3\n",
            "마이클 잭슨 4\n",
            "마이클 잭슨 5\n"
          ],
          "name": "stdout"
        }
      ]
    },
    {
      "cell_type": "code",
      "metadata": {
        "colab": {
          "base_uri": "https://localhost:8080/"
        },
        "id": "ytnVGt7TbzwD",
        "outputId": "2e197444-f62a-4b6e-aa7a-7f3a88b7acf6"
      },
      "source": [
        "artist = ['비틀즈','비틀즈','아이유','아이유','마이클 잭슨','마이클 잭슨']\r\n",
        "music = ['yesterday','imagine','너랑나','마쉬멜로우','beat it','smooth criminal']\r\n",
        "for i, k in enumerate(artist):\r\n",
        "    print(k, music[i])"
      ],
      "execution_count": 348,
      "outputs": [
        {
          "output_type": "stream",
          "text": [
            "비틀즈 yesterday\n",
            "비틀즈 imagine\n",
            "아이유 너랑나\n",
            "아이유 마쉬멜로우\n",
            "마이클 잭슨 beat it\n",
            "마이클 잭슨 smooth criminal\n"
          ],
          "name": "stdout"
        }
      ]
    },
    {
      "cell_type": "markdown",
      "metadata": {
        "id": "cwSl-QQVcUCO"
      },
      "source": [
        "최종:  \r\n",
        "```\r\n",
        "{키 : 값\r\n",
        "{'비틀즈':['yesterday','imagine'], ...\r\n",
        "```\r\n",
        "위와 같이 딕셔너리를 구성하려면 그냥 딕셔너리인 중괄호{ } 하나로 비어있는 딕셔너리를 만들면 안되고 defaultdict를 이용해야 합니다."
      ]
    },
    {
      "cell_type": "code",
      "metadata": {
        "id": "lj-LQAZ8a8Tt"
      },
      "source": [
        "artist = ['비틀즈','비틀즈','아이유','아이유','마이클 잭슨','마이클 잭슨']\r\n",
        "music = ['yesterday','imagine','너랑나','마쉬멜로우','beat it','smooth criminal']\r\n",
        "gini = {,} # 만들때부터 고쳐야한다.\r\n"
      ],
      "execution_count": 334,
      "outputs": []
    },
    {
      "cell_type": "code",
      "metadata": {
        "colab": {
          "base_uri": "https://localhost:8080/"
        },
        "id": "0aeskpMPcvPz",
        "outputId": "abe785f8-2a0f-45ab-b71a-9b874be6ff3a"
      },
      "source": [
        "from collections import defaultdict\r\n",
        "gini = defaultdict(list)\r\n",
        "gini['비틀즈'].append('yesterday')\r\n",
        "print(gini)\r\n",
        "gini['비틀즈'].append('imagine')\r\n",
        "print(gini)"
      ],
      "execution_count": 339,
      "outputs": [
        {
          "output_type": "stream",
          "text": [
            "defaultdict(<class 'list'>, {'비틀즈': ['yesterday']})\n",
            "defaultdict(<class 'list'>, {'비틀즈': ['yesterday', 'imagine']})\n"
          ],
          "name": "stdout"
        }
      ]
    },
    {
      "cell_type": "markdown",
      "metadata": {
        "id": "XS5V8xoEd8cA"
      },
      "source": [
        "문제345. 그럼 위에서 만든 default 딕셔너리에 아이유를 키로 하고 너랑나, 마쉬멜로우를 값으로 해서 추가하시오!"
      ]
    },
    {
      "cell_type": "code",
      "metadata": {
        "colab": {
          "base_uri": "https://localhost:8080/"
        },
        "id": "7pujgxIqeMyt",
        "outputId": "9b9fcd4c-3181-4a92-f1ef-024483afc94e"
      },
      "source": [
        "from collections import defaultdict\r\n",
        "gini = defaultdict(list)\r\n",
        "artist = ['비틀즈','비틀즈','아이유','아이유','마이클 잭슨','마이클 잭슨']\r\n",
        "music = ['yesterday','imagine','너랑나','마쉬멜로우','beat it','smooth criminal']\r\n",
        "for i, k in enumerate(artist):\r\n",
        "    gini[k].append(music[i])\r\n",
        "print(gini)"
      ],
      "execution_count": 346,
      "outputs": [
        {
          "output_type": "stream",
          "text": [
            "defaultdict(<class 'list'>, {'비틀즈': ['yesterday', 'imagine'], '아이유': ['너랑나', '마쉬멜로우'], '마이클 잭슨': ['beat it', 'smooth criminal']})\n"
          ],
          "name": "stdout"
        }
      ]
    },
    {
      "cell_type": "markdown",
      "metadata": {
        "id": "q7lZzL44g08E"
      },
      "source": [
        "문제347. 위의 gini 딕셔너리에서 음악만 추출하시오(딕셔너리의 값만 추출)\r\n",
        "```\r\n",
        "딕셔너리에서 키값을 추출할 때는 : 딕셔너리이름.keys()\r\n",
        "딕셔너리에서 값만 추출할 때는   : 딕셔너리이름.values()\r\n",
        "```\r\n",
        "\r\n"
      ]
    },
    {
      "cell_type": "code",
      "metadata": {
        "colab": {
          "base_uri": "https://localhost:8080/"
        },
        "id": "iToHJqauhIpz",
        "outputId": "103fdf60-48a8-489c-963d-22bbc1af937d"
      },
      "source": [
        "for i in gini.values():\r\n",
        "    print(i)\r\n",
        "print(' ')\r\n",
        "for i in gini.values():\r\n",
        "    for k in i:\r\n",
        "        print(k)"
      ],
      "execution_count": 358,
      "outputs": [
        {
          "output_type": "stream",
          "text": [
            "['yesterday', 'imagine']\n",
            "['너랑나', '마쉬멜로우']\n",
            "['beat it', 'smooth criminal']\n",
            " \n",
            "yesterday\n",
            "imagine\n",
            "너랑나\n",
            "마쉬멜로우\n",
            "beat it\n",
            "smooth criminal\n"
          ],
          "name": "stdout"
        }
      ]
    },
    {
      "cell_type": "markdown",
      "metadata": {
        "id": "ohJFscf3h3hA"
      },
      "source": [
        "문제348. 위의 코드 음악들을 비어있는 리스트인 a에 담으시오."
      ]
    },
    {
      "cell_type": "code",
      "metadata": {
        "colab": {
          "base_uri": "https://localhost:8080/"
        },
        "id": "Q6kl-mf8iIch",
        "outputId": "a6a32014-98cb-4ec7-f76d-a26b04bf16c2"
      },
      "source": [
        "a=[]\r\n",
        "for i in gini.values():\r\n",
        "    for k in i:\r\n",
        "        a.append(k)\r\n",
        "a"
      ],
      "execution_count": 355,
      "outputs": [
        {
          "output_type": "execute_result",
          "data": {
            "text/plain": [
              "['yesterday', 'imagine', '너랑나', '마쉬멜로우', 'beat it', 'smooth criminal']"
            ]
          },
          "metadata": {
            "tags": []
          },
          "execution_count": 355
        }
      ]
    },
    {
      "cell_type": "code",
      "metadata": {
        "id": "VlZCIe8pmyne"
      },
      "source": [
        "문제349. 아래의 코드를 수행해서 gini.values()의 요소들을 프린트해보시오"
      ],
      "execution_count": null,
      "outputs": []
    },
    {
      "cell_type": "code",
      "metadata": {
        "colab": {
          "base_uri": "https://localhost:8080/"
        },
        "id": "p8qqXNuwm2wT",
        "outputId": "909f6113-1d26-4465-e147-e28c657724ad"
      },
      "source": [
        "from collections import defaultdict\r\n",
        "gini = defaultdict(list)\r\n",
        "artist = ['비틀즈','비틀즈','아이유','아이유','마이클 잭슨','마이클 잭슨']\r\n",
        "music = ['yesterday','imagine','너랑나','마쉬멜로우','beat it','smooth criminal']\r\n",
        "for i, k in enumerate(artist):\r\n",
        "    gini[k].append(music[i])\r\n",
        "\r\n",
        "for j in gini.values():\r\n",
        "    #print(j)        #여기서 앞에 곡 3개만 나오게 하고 싶으면\r\n",
        "    print(j[0])"
      ],
      "execution_count": 363,
      "outputs": [
        {
          "output_type": "stream",
          "text": [
            "yesterday\n",
            "너랑나\n",
            "beat it\n"
          ],
          "name": "stdout"
        }
      ]
    },
    {
      "cell_type": "markdown",
      "metadata": {
        "id": "uJEi-FqynXzu"
      },
      "source": [
        "문제350. 아래와 같이 결과를 출력하시오!\r\n",
        "```\r\n",
        "yesterday, 너랑나, beat it, imagine, 마쉬멜로우, smooth criminal\r\n",
        "```"
      ]
    },
    {
      "cell_type": "code",
      "metadata": {
        "colab": {
          "base_uri": "https://localhost:8080/",
          "height": 35
        },
        "id": "St2XB1G4ngm0",
        "outputId": "f766c4b5-33d7-46ac-c47d-0364b493a219"
      },
      "source": [
        "from collections import defaultdict\r\n",
        "gini = defaultdict(list)\r\n",
        "artist = ['비틀즈','비틀즈','아이유','아이유','마이클 잭슨','마이클 잭슨']\r\n",
        "music = ['yesterday','imagine','너랑나','마쉬멜로우','beat it','smooth criminal']\r\n",
        "a = []\r\n",
        "for i, k in enumerate(artist):\r\n",
        "    gini[k].append(music[i])\r\n",
        "\r\n",
        "for q in range(2):\r\n",
        "    for j in gini.values():\r\n",
        "        a.append(j[q])\r\n",
        "', '.join(a)"
      ],
      "execution_count": 407,
      "outputs": [
        {
          "output_type": "execute_result",
          "data": {
            "application/vnd.google.colaboratory.intrinsic+json": {
              "type": "string"
            },
            "text/plain": [
              "'yesterday, 너랑나, beat it, imagine, 마쉬멜로우, smooth criminal'"
            ]
          },
          "metadata": {
            "tags": []
          },
          "execution_count": 407
        }
      ]
    },
    {
      "cell_type": "code",
      "metadata": {
        "colab": {
          "base_uri": "https://localhost:8080/"
        },
        "id": "nBe34bUdowXe",
        "outputId": "aa8105f3-df81-4d23-d965-71b0430ef96a"
      },
      "source": [
        "\r\n",
        "from collections import defaultdict\r\n",
        "gini = defaultdict(list)\r\n",
        "music = ['yesterday','imagine','너랑나','마시멜로우','beat it','smooth criminal']\r\n",
        "artist = ['비틀즈','비틀즈','아이유','아이유','마이클잭슨','마이클잭슨']\r\n",
        "a=[]\r\n",
        "b=[]\r\n",
        "c=[]\r\n",
        "bond=','\r\n",
        "for i, k in enumerate(artist):\r\n",
        "    gini[k].append(music[i])\r\n",
        "for j in gini.values():\r\n",
        "        b.append(j[0])\r\n",
        "        c.append(j[1])\r\n",
        "result = bond.join(b+c)\r\n",
        "print(result)"
      ],
      "execution_count": 405,
      "outputs": [
        {
          "output_type": "stream",
          "text": [
            "yesterday,너랑나,beat it,imagine,마시멜로우,smooth criminal\n"
          ],
          "name": "stdout"
        }
      ]
    },
    {
      "cell_type": "code",
      "metadata": {
        "colab": {
          "base_uri": "https://localhost:8080/"
        },
        "id": "n3XenS8MpbhE",
        "outputId": "87acf556-4302-477a-9353-d7c3e3a04a4b"
      },
      "source": [
        "from collections import defaultdict\r\n",
        "\r\n",
        "gini = defaultdict(list)\r\n",
        "\r\n",
        "artist = ['비틀즈','비틀즈','아이유','아이유','마이클 잭슨','마이클 잭슨']\r\n",
        "\r\n",
        "music = ['yesterday','imagine','너랑나','마쉬멜로우','beat it','smooth criminal']\r\n",
        "\r\n",
        "a = []\r\n",
        "\r\n",
        "for i, k in enumerate(artist):\r\n",
        "\r\n",
        "    gini[k].append(music[i])\r\n",
        "\r\n",
        "\r\n",
        "\r\n",
        "for q in range(2):\r\n",
        "\r\n",
        "    for j in gini.values():\r\n",
        "\r\n",
        "        a.append(j[q])\r\n",
        "\r\n",
        "print(', '.join(a))"
      ],
      "execution_count": 408,
      "outputs": [
        {
          "output_type": "stream",
          "text": [
            "yesterday, 너랑나, beat it, imagine, 마쉬멜로우, smooth criminal\n"
          ],
          "name": "stdout"
        }
      ]
    }
  ]
}