{
  "nbformat": 4,
  "nbformat_minor": 0,
  "metadata": {
    "colab": {
      "name": "201224LRU자카드유사도collection.ipynb",
      "provenance": [],
      "authorship_tag": "ABX9TyMC0/n/FxmwOakXzEGLalTd",
      "include_colab_link": true
    },
    "kernelspec": {
      "name": "python3",
      "display_name": "Python 3"
    }
  },
  "cells": [
    {
      "cell_type": "markdown",
      "metadata": {
        "id": "view-in-github",
        "colab_type": "text"
      },
      "source": [
        "<a href=\"https://colab.research.google.com/github/HKyeol/Python_study/blob/master/201224LRU%EC%9E%90%EC%B9%B4%EB%93%9C%EC%9C%A0%EC%82%AC%EB%8F%84collection.ipynb\" target=\"_parent\"><img src=\"https://colab.research.google.com/assets/colab-badge.svg\" alt=\"Open In Colab\"/></a>"
      ]
    },
    {
      "cell_type": "markdown",
      "metadata": {
        "id": "rjnDDXk1ADUO"
      },
      "source": [
        "# LRU 알고리즘\r\n",
        "```\r\n",
        "out   메모리     in\r\n",
        "    ㅁㅁㅁㅁㅁ <- a\r\n",
        "    ㅁㅁㅁㅁ a <- b c\r\n",
        "    ㅁㅁ a b c <- d b e f\r\n",
        "a <- c d b e f            # b는 갱신\r\n",
        "```\r\n",
        "LRU 알고리즘이란 Oracle DATABASE의 메모리 관리를 효율적으로 하기 위해 고안된 대표적인 알고리즘으로 최신 데이터를 메모리에 유지시키고 오래된 데이터는 메모리에서 내보내게 하는 알고리즘\r\n",
        "\r\n",
        "메모리에서 데이터를 조회하는 것(1초) --> cache hit\r\n",
        "메모리에 없어서 디스크에서 조회하는 것(5초) --> cache miss\r\n",
        "\r\n",
        "한번 디스크에서 읽은 데이터를 메모리에 올려놓고 메모리에서 빠르게 데이터를 조회할 수 있도록 LRU 알고리즘을 구현해서 만든 소프트웨어 입니다. 그런데 이 메모리 공간이 한정된 공간이다 보니 무한히 데이터를 올릴 수 없어서 오래된 데이터는 메모리에서 빠져나가게 되고 최신 데이터가 그 빠져나간 자리에 올라가게 됩니다.\r\n",
        "최근에 내가 검색한 데이터는 다시 검색할 확률이 높은 데이터 이므로 메모리에 오래 두도록 하고 예전에 검색한 데이터는 메모리에서 빠져나가게 합니다."
      ]
    },
    {
      "cell_type": "markdown",
      "metadata": {
        "id": "dFgk1611PiXj"
      },
      "source": [
        "# 알고리즘 문제를 해결하는 순서\r\n",
        "\r\n",
        "1. 문제를 정확하게 이해를 해야한다.(문제를 2번은 반복해서 정독을 해서 이해를 해야함)  \r\n",
        "2. 해결방법을 노트(메모장)에 번호순서대로 글로 적습니다.\r\n",
        "3. 번호 순서대로 글로 적은 내용을 코딩으로 번역하면 됩니다. (한글 ---> 파이썬)\r\n",
        "\r\n",
        "큰 문제를 작은 문제들로 쪼개서 작은 문제들을 하나씩 해결해가면서 큰 문제를 해결하는 방법으로 코딩을 해야합니다.  \r\n",
        "\r\n",
        "파이썬 문법을 150개 학습 --> 파이썬 문법을 활용하는 알고리즘 문제 (함수를 만들어라~)  \r\n",
        "\r\n",
        "* LRU 알고리즘 문제를 파이썬으로 구현하는 순서  \r\n",
        "\r\n",
        "1. 문제를 2번 정독한다.\r\n",
        "    1. LRU 알고리즘에 대한 이해가 있어야 합니다.\r\n",
        "    2. 함수를 생성해야 하는데 입력값이 2개입니다. (도시이름, 캐쉬사이즈)\r\n",
        "    3. 함수의 출력값은 총 실행시간(초) 입니다.\r\n",
        "2. 번호 순서대로 해결 방법을 기술한다.\r\n",
        "    1. 메모리(cache)를 만들어야 한다.(입력숫자만큼 cache 사이즈가 구성)\r\n",
        "    2. 메모리에 데이터를 올린다(cache miss니까 5초가 걸려야 한다.)\r\n",
        "    3. 메모리에서 데이터를 찾으면 cache hit니까 1초가 걸려야 한다.\r\n",
        "3. 번호 순서대로 기술한 한글로 적은 해결방법을 파이썬으로 번역한다."
      ]
    },
    {
      "cell_type": "markdown",
      "metadata": {
        "id": "fJ91YuE0S-4J"
      },
      "source": [
        "MRU는 가장 최근에 사용한거  \r\n",
        "LRU는 거의 최근에 사용한거  \r\n",
        "out  LRU <-------- MRU  in  \r\n",
        "메모리에 있으면 거의 바로 엑세스 가능  \r\n",
        "처음 올릴때는 MRU쪽에 올리고 점점 LRU로 감"
      ]
    },
    {
      "cell_type": "markdown",
      "metadata": {
        "id": "HV6OEIaEbDDi"
      },
      "source": [
        "하고자 하는게 무엇인지 질문을 명확하게 한다.  \r\n",
        "질문: print(cacheProcess(도시이름, 캐시사이즈))  \r\n",
        "결과: 수행시간  \r\n",
        "```\r\n",
        "cities = ['Jeju', 'Pangyo', 'New York','new york']\r\n",
        "print(cacheSize(cities,4))\r\n",
        "결과:16\r\n",
        "```\r\n",
        "\r\n",
        "2.1 도시이름은 대소문자를 구분하지 않게 만든다.  \r\n",
        "2.2 메모리(cache)를 만들어야 한다.(입력 숫자만큼 cache 사이즈가 구성)  \r\n",
        "2.3 메모리에 데이터를 올린다(cache miss니까 5초가 걸린다.)  \r\n",
        "2.4 메모리에서 데이터를 찾으면 cache hit니까 1초가 걸린다.)"
      ]
    },
    {
      "cell_type": "code",
      "metadata": {
        "colab": {
          "base_uri": "https://localhost:8080/"
        },
        "id": "dNBSy8M8bhT_",
        "outputId": "4076fcb3-1886-49d1-bb74-d9e05e8e3288"
      },
      "source": [
        "# 2.1 도시이름을 모두 소문자로 만들자\r\n",
        "cities = ['Jeju', 'Pangyo', 'New York','new york']\r\n",
        "for i in range(len(cities)):\r\n",
        "    cities[i] = cities[i].lower()\r\n",
        "print(cities)"
      ],
      "execution_count": 34,
      "outputs": [
        {
          "output_type": "execute_result",
          "data": {
            "text/plain": [
              "['jeju', 'pangyo', 'new york', 'new york']"
            ]
          },
          "metadata": {
            "tags": []
          },
          "execution_count": 34
        }
      ]
    },
    {
      "cell_type": "code",
      "metadata": {
        "colab": {
          "base_uri": "https://localhost:8080/"
        },
        "id": "ViVNVb6VdbSL",
        "outputId": "fe2ab32d-bc86-4cbc-e1e8-9228100a035a"
      },
      "source": [
        "# 혹은\r\n",
        "cities = ['Jeju', 'Pangyo', 'New York','new york']\r\n",
        "city = []\r\n",
        "for i in cities:\r\n",
        "    city.append(i.lower())\r\n",
        "city"
      ],
      "execution_count": 35,
      "outputs": [
        {
          "output_type": "execute_result",
          "data": {
            "text/plain": [
              "['jeju', 'pangyo', 'new york', 'new york']"
            ]
          },
          "metadata": {
            "tags": []
          },
          "execution_count": 35
        }
      ]
    },
    {
      "cell_type": "markdown",
      "metadata": {
        "id": "HaTgY8l-di7Q"
      },
      "source": [
        "위의 코드를 comprehension을 사용해서 간단하게 수행하시오."
      ]
    },
    {
      "cell_type": "code",
      "metadata": {
        "id": "FfcuD50LdhIY"
      },
      "source": [
        "# 정답\r\n",
        "cities = ['Jeju', 'Pangyo', 'New York','new york']\r\n",
        "cities = [i.lower() for i in cities]"
      ],
      "execution_count": 50,
      "outputs": []
    },
    {
      "cell_type": "markdown",
      "metadata": {
        "id": "X69johw3eK9v"
      },
      "source": [
        "설명: 위의 코드는 comprehension 코드로 위의 5줄 코드를 2줄로 간소화한 코드입니다.  \r\n",
        "\r\n",
        "문법: \r\n",
        "```\r\n",
        "[출력 표현식 for 요소 in 입력시퀀스 if 조건식]\r\n",
        "```\r\n",
        "예:"
      ]
    },
    {
      "cell_type": "code",
      "metadata": {
        "colab": {
          "base_uri": "https://localhost:8080/"
        },
        "id": "7wzbzQsUeTDQ",
        "outputId": "95de4c2a-2a7e-400a-c8c7-6a45e1cad83e"
      },
      "source": [
        "a = [i for i in range(1,21) if i%2 == 1]\r\n",
        "print(a)"
      ],
      "execution_count": 49,
      "outputs": [
        {
          "output_type": "stream",
          "text": [
            "[1, 3, 5, 7, 9, 11, 13, 15, 17, 19]\n"
          ],
          "name": "stdout"
        }
      ]
    },
    {
      "cell_type": "markdown",
      "metadata": {
        "id": "n3NZw7sofGzT"
      },
      "source": [
        "comprehension 안 쓴 코드"
      ]
    },
    {
      "cell_type": "code",
      "metadata": {
        "colab": {
          "base_uri": "https://localhost:8080/"
        },
        "id": "uvPOD5PbfGSc",
        "outputId": "d109afe4-495c-424f-fd55-1f2cc547b002"
      },
      "source": [
        "a = []\r\n",
        "for i in range(1,21,2):\r\n",
        "    a.append(i)\r\n",
        "a"
      ],
      "execution_count": 46,
      "outputs": [
        {
          "output_type": "execute_result",
          "data": {
            "text/plain": [
              "[1, 3, 5, 7, 9, 11, 13, 15, 17, 19]"
            ]
          },
          "metadata": {
            "tags": []
          },
          "execution_count": 46
        }
      ]
    },
    {
      "cell_type": "markdown",
      "metadata": {
        "id": "zWw5txc6gR3R"
      },
      "source": [
        "2.2 메모리(cache)를 만들어야 한다.  \r\n",
        "코딩예제: 아래의 리스트를 생성하시오!(None 으로 4개 채워진 리스트)"
      ]
    },
    {
      "cell_type": "code",
      "metadata": {
        "colab": {
          "base_uri": "https://localhost:8080/"
        },
        "id": "w9N_gynHgPj8",
        "outputId": "a0c68624-04f6-47bb-e3a6-d58974d76451"
      },
      "source": [
        "cache = [None for i in range(4)]\r\n",
        "cache"
      ],
      "execution_count": 52,
      "outputs": [
        {
          "output_type": "execute_result",
          "data": {
            "text/plain": [
              "[None, None, None, None]"
            ]
          },
          "metadata": {
            "tags": []
          },
          "execution_count": 52
        }
      ]
    },
    {
      "cell_type": "markdown",
      "metadata": {
        "id": "_jAr7Td8hPw_"
      },
      "source": [
        "2.3 메모리에 데이터를 올린다.  \r\n",
        "\r\n",
        "코딩예제1: 아래와 같이 cache에 데이터를 올리시오.  \r\n",
        "결과: [None, None, None, 'jeju']"
      ]
    },
    {
      "cell_type": "code",
      "metadata": {
        "colab": {
          "base_uri": "https://localhost:8080/"
        },
        "id": "dHYQZsPvhWVl",
        "outputId": "07653819-44c5-4fe6-c06f-e6c04a39fbb8"
      },
      "source": [
        "cities = ['Jeju', 'Pangyo', 'New York','new york']\r\n",
        "cities = [i.lower() for i in cities]\r\n",
        "\r\n",
        "cache = [None for i in range(4)]\r\n",
        "cache.append('jeju')\r\n",
        "del cache[0]\r\n",
        "print(cache)\r\n",
        "# 혹은\r\n",
        "cache[-1] = cities[0]\r\n",
        "cache"
      ],
      "execution_count": 57,
      "outputs": [
        {
          "output_type": "stream",
          "text": [
            "[None, None, None, 'jeju']\n"
          ],
          "name": "stdout"
        },
        {
          "output_type": "execute_result",
          "data": {
            "text/plain": [
              "[None, None, None, 'jeju']"
            ]
          },
          "metadata": {
            "tags": []
          },
          "execution_count": 57
        }
      ]
    },
    {
      "cell_type": "markdown",
      "metadata": {
        "id": "LG1Yi6yFhVx9"
      },
      "source": [
        "코딩예제2. 아래와 같이 cache에 데이터를 하나 더 올리시오."
      ]
    },
    {
      "cell_type": "code",
      "metadata": {
        "colab": {
          "base_uri": "https://localhost:8080/"
        },
        "id": "QbKStfsAiKJt",
        "outputId": "0854f0bb-f08c-4a24-dfb3-bd405c2fcd3f"
      },
      "source": [
        "cities = ['Jeju', 'Pangyo', 'New York','new york']\r\n",
        "cities = [i.lower() for i in cities]\r\n",
        "\r\n",
        "cache = [None for i in range(4)]\r\n",
        "cache.append('jeju')\r\n",
        "del cache[0]\r\n",
        "cache.append('Pangyo')\r\n",
        "del cache[0]\r\n",
        "cache\r\n",
        "# 이게 훨씬 편하네 하나씩 앞으로 보내는것보다."
      ],
      "execution_count": 66,
      "outputs": [
        {
          "output_type": "execute_result",
          "data": {
            "text/plain": [
              "[None, None, 'jeju', 'Pangyo']"
            ]
          },
          "metadata": {
            "tags": []
          },
          "execution_count": 66
        }
      ]
    },
    {
      "cell_type": "markdown",
      "metadata": {
        "id": "1x7JLFbcizy7"
      },
      "source": [
        "코딩예제3. 위에서 만든 코드를 가지고 아래의 함수를 생성하시오.\r\n",
        "```\r\n",
        "def cacheProcess(cities,cacheSize)"
      ]
    },
    {
      "cell_type": "code",
      "metadata": {
        "colab": {
          "base_uri": "https://localhost:8080/"
        },
        "id": "YvUxmXxUi3F2",
        "outputId": "8ff64409-f037-4e01-d9f2-4513befeadb0"
      },
      "source": [
        "cities = ['Jeju', 'Pangyo', 'New York','new york']\r\n",
        "\r\n",
        "def cacheProcess(cities,cacheSize):\r\n",
        "    cities = [i.lower() for i in cities]\r\n",
        "    cache = [None for i in range(cacheSize)]\r\n",
        "\r\n",
        "#    for i in cities:\r\n",
        "#        cache.append(i)\r\n",
        "#        del cache[0]\r\n",
        "#    return cache\r\n",
        "\r\n",
        "# 같은 내용이 있을 경우 거기만 빼줘야 하니까 range가 더 나을 것 같다.\r\n",
        "    for i in range(len(cities)):\r\n",
        "        del cache[0]\r\n",
        "        cache.append(cities[i])\r\n",
        "    return cache\r\n",
        "\r\n",
        "cacheProcess(cities,3)"
      ],
      "execution_count": 81,
      "outputs": [
        {
          "output_type": "execute_result",
          "data": {
            "text/plain": [
              "['pangyo', 'new york', 'new york']"
            ]
          },
          "metadata": {
            "tags": []
          },
          "execution_count": 81
        }
      ]
    },
    {
      "cell_type": "markdown",
      "metadata": {
        "id": "2bsMmtgylYF1"
      },
      "source": [
        "코딩예제4. 위의 함수의 결과가 cache의 결과가 아니라 수행시간이 되게 하시오!"
      ]
    },
    {
      "cell_type": "code",
      "metadata": {
        "colab": {
          "base_uri": "https://localhost:8080/"
        },
        "id": "FHkbG0DXlgEp",
        "outputId": "3e1bbd5c-34a9-4899-8dca-63a0c75ce8cb"
      },
      "source": [
        "cities = ['Jeju', 'Pangyo', 'New York','new york']\r\n",
        "\r\n",
        "def cacheProcess(cities,cacheSize):\r\n",
        "    cities = [i.lower() for i in cities]\r\n",
        "    cache = [None for i in range(cacheSize)]\r\n",
        "    cnt = 0\r\n",
        "    for i in range(len(cities)):\r\n",
        "        if cities[i] in cache:\r\n",
        "            cnt += 1\r\n",
        "        else:\r\n",
        "            cnt += 5\r\n",
        "        del cache[0]\r\n",
        "        cache.append(cities[i])\r\n",
        "    return cnt\r\n",
        "\r\n",
        "cacheProcess(cities,3)"
      ],
      "execution_count": 91,
      "outputs": [
        {
          "output_type": "execute_result",
          "data": {
            "text/plain": [
              "16"
            ]
          },
          "metadata": {
            "tags": []
          },
          "execution_count": 91
        }
      ]
    },
    {
      "cell_type": "markdown",
      "metadata": {
        "id": "cvKubWwWnssO"
      },
      "source": [
        "된다!!!!"
      ]
    },
    {
      "cell_type": "code",
      "metadata": {
        "colab": {
          "base_uri": "https://localhost:8080/"
        },
        "id": "kkZJlqYyl1cx",
        "outputId": "9e0e6758-9c71-41d3-fe6f-d8fd9e540bca"
      },
      "source": [
        "cities = ['Jeju', 'Pangyo', 'New York','new york','Pangyo']\r\n",
        "\r\n",
        "def cacheProcess(cities,cacheSize):\r\n",
        "    cities = [i.lower() for i in cities]\r\n",
        "    cache = [None for i in range(cacheSize)]\r\n",
        "            \r\n",
        "    cnt = 0\r\n",
        "    for i in range(len(cities)):\r\n",
        "        if cities[i] in cache:\r\n",
        "            cache.append(cities[i])     # del을 캐시보다 먼저쓰면 0에서 오류난다. if문이 추가된다.\r\n",
        "            del cache[cache.index(cities[i])] # 좌표값은 리스트.index(찾을거) 이다.\r\n",
        "                                        # 캐시에 있으면 좌표찍어서 제거해준다.\r\n",
        "            cnt += 1\r\n",
        "        else:\r\n",
        "            cache.append(cities[i])\r\n",
        "            cnt += 5\r\n",
        "            del cache[0]\r\n",
        "    return cnt\r\n",
        "\r\n",
        "cacheProcess(cities,3)"
      ],
      "execution_count": 144,
      "outputs": [
        {
          "output_type": "execute_result",
          "data": {
            "text/plain": [
              "17"
            ]
          },
          "metadata": {
            "tags": []
          },
          "execution_count": 144
        }
      ]
    },
    {
      "cell_type": "code",
      "metadata": {
        "colab": {
          "base_uri": "https://localhost:8080/"
        },
        "id": "8ZzN37H0oQGL",
        "outputId": "ea602612-637a-40b7-d67b-56a25672cc76"
      },
      "source": [
        "check = []\r\n",
        "a = cacheProcess([\"Jeju\", \"Pangyo\", \"Seoul\", \"NewYork\", \"LA\", \"Jeju\", \"Pangyo\", \"Seoul\", \"NewYork\", \"LA\"],3)\r\n",
        "check.append(a)\r\n",
        "a = cacheProcess([\"Jeju\", \"Pangyo\", \"Seoul\", \"Jeju\", \"Pangyo\", \"Seoul\", \"Jeju\", \"Pangyo\", \"Seoul\"],3)\r\n",
        "check.append(a)\r\n",
        "a = cacheProcess([\"Jeju\",\"Pangyo\",\"Seoul\",\"NewYork\",\"LA\",\"SanFrancisco\",\"Seoul\",\"Rome\",\"Paris\",\"Jeju\",\"NewYork\",\"Rome\"],2)\r\n",
        "check.append(a)\r\n",
        "a = cacheProcess([\"Jeju\",\"Pangyo\",\"Seoul\",\"NewYork\",\"LA\",\"SanFrancisco\",\"Seoul\",\"Rome\",\"Paris\",\"Jeju\",\"NewYork\",\"Rome\"],5)\r\n",
        "check.append(a)\r\n",
        "a = cacheProcess([\"Jeju\",\"Pangyo\",'NewYork','newyork'],2)\r\n",
        "check.append(a)\r\n",
        "a = cacheProcess([\"Jeju\",\"Pangyo\",\"Seoul\",\"NewYork\",\"LA\"],0)\r\n",
        "check.append(a)\r\n",
        "a = cacheProcess(['Jeju', 'Jeju','Jeju'],3)\r\n",
        "check.append(a)\r\n",
        "\r\n",
        "print(check)\r\n",
        "correct = [50,21,60,52,16,25,7]\r\n",
        "for i in range(len(check)) :\r\n",
        "    if check[i] != correct[i] :\r\n",
        "        print(\"%i번째 경우가 틀립니다.\"%i)"
      ],
      "execution_count": 146,
      "outputs": [
        {
          "output_type": "stream",
          "text": [
            "[50, 21, 60, 52, 16, 25, 7]\n"
          ],
          "name": "stdout"
        }
      ]
    },
    {
      "cell_type": "markdown",
      "metadata": {
        "id": "immdxWKdqA4g"
      },
      "source": [
        "혼자 머리썼는데 진짜 이렇게 하니까 엄청 차이난다...  \r\n"
      ]
    },
    {
      "cell_type": "code",
      "metadata": {
        "colab": {
          "base_uri": "https://localhost:8080/"
        },
        "id": "CE6czkymwpmF",
        "outputId": "a85e3c9f-fba3-4c94-830b-e1b39b0a804a"
      },
      "source": [
        "def cacheProcess(cities, cachesize):\r\n",
        "    cnt = 0\r\n",
        "    city = [i.lower() for i in cities]\r\n",
        "    cache = [ None for i in range(1,cachesize+1)]    \r\n",
        "    for i in city:\r\n",
        "        if i in cache:\r\n",
        "            cnt = cnt + 1\r\n",
        "        else:\r\n",
        "            cnt = cnt + 5\r\n",
        "            cache.append(i)\r\n",
        "            del cache[0]\r\n",
        "    return cnt\r\n",
        "\r\n",
        "\r\n",
        "check = []\r\n",
        "\r\n",
        "a = cacheProcess([\"Jeju\", \"Pangyo\", \"Seoul\", \"NewYork\", \"LA\", \"Jeju\", \"Pangyo\", \"Seoul\", \"NewYork\", \"LA\"],3)\r\n",
        "check.append(a)\r\n",
        "\r\n",
        "a = cacheProcess([\"Jeju\", \"Pangyo\", \"Seoul\", \"Jeju\", \"Pangyo\", \"Seoul\", \"Jeju\", \"Pangyo\", \"Seoul\"],3)\r\n",
        "check.append(a)\r\n",
        "\r\n",
        "a = cacheProcess([\"Jeju\",\"Pangyo\",\"Seoul\",\"NewYork\",\"LA\",\"SanFrancisco\",\"Seoul\",\"Rome\",\"Paris\",\"Jeju\",\"NewYork\",\"Rome\"],2)\r\n",
        "check.append(a)\r\n",
        "\r\n",
        "a = cacheProcess([\"Jeju\",\"Pangyo\",\"Seoul\",\"NewYork\",\"LA\",\"SanFrancisco\",\"Seoul\",\"Rome\",\"Paris\",\"Jeju\",\"NewYork\",\"Rome\"],5)\r\n",
        "check.append(a)\r\n",
        "\r\n",
        "a = cacheProcess([\"Jeju\",\"Pangyo\",'NewYork','newyork'],2)\r\n",
        "check.append(a)\r\n",
        "\r\n",
        "a = cacheProcess([\"Jeju\",\"Pangyo\",\"Seoul\",\"NewYork\",\"LA\"],0)\r\n",
        "check.append(a)\r\n",
        "\r\n",
        "a = cacheProcess(['Jeju', 'Jeju','Jeju'],3)\r\n",
        "check.append(a)\r\n",
        "\r\n",
        "correct = [50,21,60,52,16,25,7]\r\n",
        "\r\n",
        "print(check)\r\n",
        "\r\n",
        "for i in range(len(check)) :\r\n",
        "    if check[i] != correct[i] :\r\n",
        "        print(\"%i번째 경우가 틀립니다.\"%i)"
      ],
      "execution_count": 147,
      "outputs": [
        {
          "output_type": "stream",
          "text": [
            "[50, 21, 60, 52, 16, 25, 7]\n"
          ],
          "name": "stdout"
        }
      ]
    },
    {
      "cell_type": "markdown",
      "metadata": {
        "id": "G4v6SPMiEMuV"
      },
      "source": [
        "# 158. 필수 알고리즘7 (자카드 유사도 알고리즘)  \r\n",
        "\r\n",
        "```\r\n",
        "|A 교집합 B|          |A 교집합 B|\r\n",
        "------------- = -----------------------\r\n",
        "|A 합집합 B|    |A| + |B| - |A 교집합 B|\r\n",
        "\r\n",
        "```\r\n",
        "자카드 유사도는 두 문장을 각각의 집합으로 만든 뒤 두 집합을 통해 유사도를 측정하는 알고리즘입니다.  \r\n",
        "논문 표절 등 체크\r\n"
      ]
    },
    {
      "cell_type": "code",
      "metadata": {
        "colab": {
          "base_uri": "https://localhost:8080/",
          "height": 330
        },
        "id": "BvePZXpVFM3M",
        "outputId": "217d15d0-d646-467f-810c-0a7e23fad1b9"
      },
      "source": [
        "from IPython.display import Image\r\n",
        "Image('111.PNG')"
      ],
      "execution_count": 153,
      "outputs": [
        {
          "output_type": "execute_result",
          "data": {
            "image/png": "[encoded data removed]",
            "text/plain": [
              "<IPython.core.display.Image object>"
            ]
          },
          "metadata": {
            "tags": []
          },
          "execution_count": 153
        }
      ]
    },
    {
      "cell_type": "code",
      "metadata": {
        "colab": {
          "base_uri": "https://localhost:8080/",
          "height": 118
        },
        "id": "Qzl6oz4dGAsj",
        "outputId": "e4220c30-7886-4fa3-b3f0-e24d26a86fb9"
      },
      "source": [
        "Image('222.png')"
      ],
      "execution_count": 152,
      "outputs": [
        {
          "output_type": "execute_result",
          "data": {
            "image/png": "[encoded data removed]",
            "text/plain": [
              "<IPython.core.display.Image object>"
            ]
          },
          "metadata": {
            "tags": []
          },
          "execution_count": 152
        }
      ]
    },
    {
      "cell_type": "markdown",
      "metadata": {
        "id": "miAQ3-0mGFMJ"
      },
      "source": [
        "예제1. 다음 A집합과 B집합의 자카드 유사도를 구하시오!\r\n",
        "```\r\n",
        "A = {1,2,3}\r\n",
        "B = {2,3,4}\r\n",
        "J(A,B) = 'A 교 B' = {2,3}\r\n",
        "'A 합 B' = {1,2,3,4}\r\n",
        "J(A,B) = 2/4 = 0.5\r\n",
        "```"
      ]
    },
    {
      "cell_type": "markdown",
      "metadata": {
        "id": "eXso4vU_Gljg"
      },
      "source": [
        "예제2. FRANCE, FRENCH가 주어졌을 때 자카드 유사도는?"
      ]
    },
    {
      "cell_type": "code",
      "metadata": {
        "id": "ijBRsGA4GIcq"
      },
      "source": [
        "A = {FR,RA,AN,NC,CE}\r\n",
        "B = {FR,RE,EN.NC,CH}\r\n",
        "J(A,B) = ?\r\n",
        "\r\n",
        "A교B = {FR,NC}\r\n",
        "A합B = {FR,RA,AN,NC,CE,RE,EN,CH}\r\n",
        "J(A,B) = 2/8"
      ],
      "execution_count": null,
      "outputs": []
    },
    {
      "cell_type": "markdown",
      "metadata": {
        "id": "szv4mS0nIAVA"
      },
      "source": [
        "# 파이썬으로 합집합과 교집합 구현하기  \r\n"
      ]
    },
    {
      "cell_type": "code",
      "metadata": {
        "colab": {
          "base_uri": "https://localhost:8080/"
        },
        "id": "3hwIOMcdICj9",
        "outputId": "784a57d2-d1d1-4a9a-8e1c-d80666d7b5e7"
      },
      "source": [
        "a = {1,2,3,4}\r\n",
        "b = {2,4,5}\r\n",
        "print(type(a)) # 집합 자료구조 set"
      ],
      "execution_count": 179,
      "outputs": [
        {
          "output_type": "stream",
          "text": [
            "<class 'set'>\n"
          ],
          "name": "stdout"
        }
      ]
    },
    {
      "cell_type": "markdown",
      "metadata": {
        "id": "Q7I0vKRXIrAT"
      },
      "source": [
        "1. a와 b의 합집합 구하기"
      ]
    },
    {
      "cell_type": "code",
      "metadata": {
        "colab": {
          "base_uri": "https://localhost:8080/"
        },
        "id": "PYmQbxHDIirc",
        "outputId": "6cc95b23-1ada-434d-e7c9-db2b8270a13c"
      },
      "source": [
        "result1 = a.union(b) # 합집합\r\n",
        "print(result1)"
      ],
      "execution_count": 166,
      "outputs": [
        {
          "output_type": "stream",
          "text": [
            "{1, 2, 3, 4, 5}\n"
          ],
          "name": "stdout"
        }
      ]
    },
    {
      "cell_type": "markdown",
      "metadata": {
        "id": "3A8fHkG8ItVx"
      },
      "source": [
        "2. a와 b의 교집합 구하기"
      ]
    },
    {
      "cell_type": "code",
      "metadata": {
        "colab": {
          "base_uri": "https://localhost:8080/"
        },
        "id": "Z0_hf8xNIvbq",
        "outputId": "cd90c483-0350-4932-b6c1-b7055115d4bb"
      },
      "source": [
        "result2 = a.intersection(b)\r\n",
        "print( result2 )"
      ],
      "execution_count": 182,
      "outputs": [
        {
          "output_type": "stream",
          "text": [
            "{2, 4}\n"
          ],
          "name": "stdout"
        }
      ]
    },
    {
      "cell_type": "code",
      "metadata": {
        "colab": {
          "base_uri": "https://localhost:8080/"
        },
        "id": "-Rj_eRfkHKml",
        "outputId": "503a24f2-1986-46ab-ef8c-aae5a45a1394"
      },
      "source": [
        "print(a&b) # 교집합, a와 b를 둘 중 전부를(and)충족 \r\n",
        "print(a|b) # 합집합, a혹은 b 둘 중 하나만(or) 충족"
      ],
      "execution_count": 180,
      "outputs": [
        {
          "output_type": "stream",
          "text": [
            "{2, 4}\n",
            "{1, 2, 3, 4, 5}\n"
          ],
          "name": "stdout"
        }
      ]
    },
    {
      "cell_type": "markdown",
      "metadata": {
        "id": "ljt5ATIyJAIh"
      },
      "source": [
        "3. a와 b의 자카드 유사도 구하기"
      ]
    },
    {
      "cell_type": "code",
      "metadata": {
        "colab": {
          "base_uri": "https://localhost:8080/"
        },
        "id": "tpQ-JQSmJBr3",
        "outputId": "16783d33-eee2-4d44-f135-60fc113f2c42"
      },
      "source": [
        "len(a&b)/len(a|b)"
      ],
      "execution_count": 170,
      "outputs": [
        {
          "output_type": "execute_result",
          "data": {
            "text/plain": [
              "0.4"
            ]
          },
          "metadata": {
            "tags": []
          },
          "execution_count": 170
        }
      ]
    },
    {
      "cell_type": "markdown",
      "metadata": {
        "id": "bPDGgaEXJzv-"
      },
      "source": [
        "# 리스트로 합집합과 교집합 구하기"
      ]
    },
    {
      "cell_type": "code",
      "metadata": {
        "id": "h068PQsDJ1re"
      },
      "source": [
        "a = [1,2,3,4]\r\n",
        "b = [2,4,5]"
      ],
      "execution_count": 172,
      "outputs": []
    },
    {
      "cell_type": "markdown",
      "metadata": {
        "id": "vLwdyl1FJ4mX"
      },
      "source": [
        "1. a와 b의 합집합 구하기"
      ]
    },
    {
      "cell_type": "code",
      "metadata": {
        "colab": {
          "base_uri": "https://localhost:8080/"
        },
        "id": "kSDJ5eGfJ4Vn",
        "outputId": "9d43408e-808c-484a-b9fb-fd19917a2567"
      },
      "source": [
        "result1 = set(a+b)\r\n",
        "print(result1)"
      ],
      "execution_count": 173,
      "outputs": [
        {
          "output_type": "stream",
          "text": [
            "{1, 2, 3, 4, 5}\n"
          ],
          "name": "stdout"
        }
      ]
    },
    {
      "cell_type": "markdown",
      "metadata": {
        "id": "ErWiaRvBKCaf"
      },
      "source": [
        "2. a와 b의 교집합 구하기( 얘는 없다.)"
      ]
    },
    {
      "cell_type": "code",
      "metadata": {
        "colab": {
          "base_uri": "https://localhost:8080/"
        },
        "id": "vhT0Sb8tJ3q-",
        "outputId": "fb89fbfc-5e84-4a32-d8f6-61dd8c540fb8"
      },
      "source": [
        "result2 = []\r\n",
        "for i in a:\r\n",
        "    if i in b:\r\n",
        "        result2.append(i)\r\n",
        "result2"
      ],
      "execution_count": 177,
      "outputs": [
        {
          "output_type": "execute_result",
          "data": {
            "text/plain": [
              "[2, 4]"
            ]
          },
          "metadata": {
            "tags": []
          },
          "execution_count": 177
        }
      ]
    },
    {
      "cell_type": "markdown",
      "metadata": {
        "id": "16CKkh6GKms2"
      },
      "source": [
        "# 자카드 유사도 알고리즘 문제를 파이썬으로 구현하는 방법 순서  \r\n",
        "\r\n",
        "1. 문제를 2번 읽으면서 문제를 정확하게 파악한다.(특히 질문을 명확하게 제시해줘야 합니다.)  \r\n",
        "   \r\n",
        "질문: FRANCE, FRENCH의 두 단어의 자카드 유사도는?  \r\n",
        "관련 알고리즘(자카드 유사도)의 정확한 이해가 있어야 합니다.  \r\n",
        "\r\n",
        "2. 문제를 해결하기 위해서 순서별로 해결방법을 기술한다.  \r\n",
        "    2.1 두 문장을 받아서 두개의 철자로 분리하여 리스트에 저장한다.(영문자로 된 글자 쌍만 유효하고)  \r\n",
        "    2.2 a와 b 두개의 합집합을 구함  \r\n",
        "    2.3 a와 b 두개의 교집합을 구함\r\n",
        "    2.4 a와 b의 자카드 유사도를 구합니다.(결과에 65536곱)\r\n",
        "    2.5 a와 b가 모두 공집합일 경우에는 J(A,B) = 1로 정의\r\n",
        "3. 순서별로 정한 해결방법을 파이썬 코드로 구현한다.(한글 --> 파이썬)"
      ]
    },
    {
      "cell_type": "code",
      "metadata": {
        "colab": {
          "base_uri": "https://localhost:8080/"
        },
        "id": "PDLTs5n0SIVO",
        "outputId": "e43a5439-043a-4ffb-d6b2-433a44a9080c"
      },
      "source": [
        "# 2.1 두 문장을 받자\r\n",
        "str1 = input('문자열을 입력하세요').upper()\r\n",
        "str2 = input('문자열을 입력하세요').upper()\r\n",
        "\r\n",
        "def str_split(string):\r\n",
        "    string = string.upper()\r\n",
        "    res = []\r\n",
        "    for i in range(len(string)-1):\r\n",
        "        if string[i].isalpha() and string[i+1].isalpha(): # 문자라면,\r\n",
        "            res.append(string[i:i+2])\r\n",
        "    return res\r\n",
        "print(str_split(str1))\r\n",
        "print(str_split(str2))"
      ],
      "execution_count": 256,
      "outputs": [
        {
          "output_type": "stream",
          "text": [
            "문자열을 입력하세요france\n",
            "문자열을 입력하세요frfran\n",
            "['FR', 'RA', 'AN', 'NC', 'CE']\n",
            "['FR', 'RF', 'FR', 'RA', 'AN']\n"
          ],
          "name": "stdout"
        }
      ]
    },
    {
      "cell_type": "markdown",
      "metadata": {
        "id": "CNS0v5OYOpe9"
      },
      "source": [
        "2.2 교집합을 구하자\r\n"
      ]
    },
    {
      "cell_type": "code",
      "metadata": {
        "colab": {
          "base_uri": "https://localhost:8080/"
        },
        "id": "Wrz0WM7gV34N",
        "outputId": "a7bb9a9b-4d3a-464a-e60a-a8d7e7ae501a"
      },
      "source": [
        "str1 = 'France'\r\n",
        "str2 = 'french'\r\n",
        "a = set(str_split(str1)) # set으로 set class를 만들어준다. 그런데 얘는 중복은 날려버린다. 그래서 안된다. \r\n",
        "b = set(str_split(str2)) # french 대신에 frfran를 해보면 알 수 있다.\r\n",
        "a&b"
      ],
      "execution_count": 238,
      "outputs": [
        {
          "output_type": "execute_result",
          "data": {
            "text/plain": [
              "{'FR', 'NC'}"
            ]
          },
          "metadata": {
            "tags": []
          },
          "execution_count": 238
        }
      ]
    },
    {
      "cell_type": "code",
      "metadata": {
        "colab": {
          "base_uri": "https://localhost:8080/"
        },
        "id": "Cdn7-OCXXGhb",
        "outputId": "009a9f1f-723a-467c-f3ea-cce693fd5834"
      },
      "source": [
        "a|b"
      ],
      "execution_count": 235,
      "outputs": [
        {
          "output_type": "execute_result",
          "data": {
            "text/plain": [
              "{'AN', 'CE', 'CH', 'EN', 'FR', 'NC', 'RA', 'RE'}"
            ]
          },
          "metadata": {
            "tags": []
          },
          "execution_count": 235
        }
      ]
    },
    {
      "cell_type": "code",
      "metadata": {
        "colab": {
          "base_uri": "https://localhost:8080/"
        },
        "id": "-0-OHEqhXExL",
        "outputId": "822aac84-a0a6-4468-e446-95351fce4cae"
      },
      "source": [
        "len(a&b)/len(a|b)# 중복은 날려버린다. 그래서 안된다. "
      ],
      "execution_count": 236,
      "outputs": [
        {
          "output_type": "execute_result",
          "data": {
            "text/plain": [
              "0.25"
            ]
          },
          "metadata": {
            "tags": []
          },
          "execution_count": 236
        }
      ]
    },
    {
      "cell_type": "markdown",
      "metadata": {
        "id": "WimfbJnvY1SU"
      },
      "source": [
        "다시 교집합을 구하자"
      ]
    },
    {
      "cell_type": "code",
      "metadata": {
        "id": "xkAJd5P9Xlru"
      },
      "source": [
        "intersection = []\r\n",
        "for i in str_split(str1):\r\n",
        "    if i in str_split(str2):\r\n",
        "        intersection.append(i)\r\n",
        "intersection"
      ],
      "execution_count": 306,
      "outputs": []
    },
    {
      "cell_type": "markdown",
      "metadata": {
        "id": "ZUHQMU1HajoE"
      },
      "source": [
        "['FR', 'RA', 'AN', 'NC', 'CE']  \r\n",
        "['FR', 'RF', 'FR', 'RA', 'AN']"
      ]
    },
    {
      "cell_type": "markdown",
      "metadata": {
        "id": "BxOCmpXJXFFp"
      },
      "source": [
        "2.3 합집합을 구하자"
      ]
    },
    {
      "cell_type": "code",
      "metadata": {
        "colab": {
          "base_uri": "https://localhost:8080/"
        },
        "id": "SDF99MftY33v",
        "outputId": "4da8ead6-b0d2-4e90-e777-c9069b52bd1d"
      },
      "source": [
        "union = str_split(str1) + str_split(str2)\r\n",
        "print(union)\r\n",
        "for i in intersection:\r\n",
        "    if i in union:\r\n",
        "        del union[union.index(i)]\r\n",
        "print(union)"
      ],
      "execution_count": 261,
      "outputs": [
        {
          "output_type": "stream",
          "text": [
            "['FR', 'RA', 'AN', 'NC', 'CE', 'FR', 'RF', 'FR', 'RA', 'AN']\n",
            "['NC', 'CE', 'FR', 'RF', 'FR', 'RA', 'AN']\n"
          ],
          "name": "stdout"
        }
      ]
    },
    {
      "cell_type": "markdown",
      "metadata": {
        "id": "eEd6-7YeXJ6f"
      },
      "source": [
        "자카드 유사도를 구하자"
      ]
    },
    {
      "cell_type": "code",
      "metadata": {
        "colab": {
          "base_uri": "https://localhost:8080/"
        },
        "id": "sae0e9LoYM8A",
        "outputId": "4fd7bdd2-430d-4f93-c8b1-fd573fc894d8"
      },
      "source": [
        "len(intersection)/len(union) * 65536"
      ],
      "execution_count": 265,
      "outputs": [
        {
          "output_type": "execute_result",
          "data": {
            "text/plain": [
              "28086.85714285714"
            ]
          },
          "metadata": {
            "tags": []
          },
          "execution_count": 265
        }
      ]
    },
    {
      "cell_type": "code",
      "metadata": {
        "id": "-OMQjKiEdIRU"
      },
      "source": [
        "#str1 = input('문자열을 입력하세요').upper()\r\n",
        "#str2 = input('문자열을 입력하세요').upper()\r\n",
        "import math\r\n",
        "def str_split(string):\r\n",
        "    string = string.upper()\r\n",
        "    res = []\r\n",
        "    for i in range(len(string)-1):\r\n",
        "        if string[i].isalpha() and string[i+1].isalpha(): # 문자라면,\r\n",
        "            res.append(string[i:i+2])\r\n",
        "    return res\r\n",
        "def Jaccard(str1,str2):\r\n",
        "    intersection = []\r\n",
        "    result = collections.Counter(str_split(str1))&collections.Counter(str_split(str2))\r\n",
        "    intersection = list(result.elements())\r\n",
        "#    intersection = []\r\n",
        "#    for i in str_split(str1):\r\n",
        "#        if i in str_split(str2):\r\n",
        "#            intersection.append(i)\r\n",
        "#    intersection\r\n",
        "\r\n",
        "    union = str_split(str1) + str_split(str2)\r\n",
        "    for i in intersection:\r\n",
        "        del union[union.index(i)]\r\n",
        "\r\n",
        "    if len(union) != 0:\r\n",
        "        return math.trunc(len(intersection)/len(union) * 65536)\r\n",
        "    else:\r\n",
        "        return 65536\r\n"
      ],
      "execution_count": 332,
      "outputs": []
    },
    {
      "cell_type": "code",
      "metadata": {
        "colab": {
          "base_uri": "https://localhost:8080/"
        },
        "id": "b8FIqi1Sdmg-",
        "outputId": "0d20af37-4643-4fe9-e699-093522b0f449"
      },
      "source": [
        "print(Jaccard('FRANCE','french'))\r\n",
        "print(Jaccard('handshake','shake hands'))\r\n",
        "print(Jaccard('aa1+aa2','AAAA12'))\r\n",
        "print(Jaccard('E=M*C^2','e=m*c^2'))"
      ],
      "execution_count": 333,
      "outputs": [
        {
          "output_type": "stream",
          "text": [
            "16384\n",
            "65536\n",
            "43690\n",
            "65536\n"
          ],
          "name": "stdout"
        }
      ]
    },
    {
      "cell_type": "markdown",
      "metadata": {
        "id": "U116GXLLXO4H"
      },
      "source": [
        "a와 b가 공집합일 경우에는 1로 만든다."
      ]
    },
    {
      "cell_type": "code",
      "metadata": {
        "id": "dPet3D56YNuA"
      },
      "source": [
        "len_u = len(union)\r\n",
        "print(math.trunc(len_i/len_u))"
      ],
      "execution_count": null,
      "outputs": []
    },
    {
      "cell_type": "markdown",
      "metadata": {
        "id": "xT1Fkzv1YLQq"
      },
      "source": [
        "문제521. 지금까지의 코드를 함수로 만들어서 아래와 같이 실행되게 하시오.\r\n",
        "```\r\n",
        "print(Jaccard(str1,str2))\r\n",
        "문자열을 입력해주세요. : FRANCE\r\n",
        "문자열을 입력해주세요. : french\r\n",
        "\r\n",
        "16384\r\n",
        "```"
      ]
    },
    {
      "cell_type": "markdown",
      "metadata": {
        "id": "h30LdI8Qak0d"
      },
      "source": [
        "문제522. 지금까지 만든 Jaccard 함수에는 공집합이 없으니까 1로 만들것 (위에 적용됨) "
      ]
    },
    {
      "cell_type": "code",
      "metadata": {
        "id": "c_rnDRq5YmQt"
      },
      "source": [
        ""
      ],
      "execution_count": null,
      "outputs": []
    },
    {
      "cell_type": "code",
      "metadata": {
        "colab": {
          "base_uri": "https://localhost:8080/"
        },
        "id": "megT0d1bcjOz",
        "outputId": "10161b56-e193-4b32-8c3f-fef1e754b921"
      },
      "source": [
        "a = [2,2,3,1]\r\n",
        "b = [1,2,2,4,5]\r\n",
        "a_b_inter = [i for i in a if i in b]\r\n",
        "a_b_union = list(set(a+b))\r\n",
        "\r\n",
        "print(a_b_inter)\r\n",
        "a_b_union"
      ],
      "execution_count": 264,
      "outputs": [
        {
          "output_type": "stream",
          "text": [
            "[2, 2, 1]\n"
          ],
          "name": "stdout"
        },
        {
          "output_type": "execute_result",
          "data": {
            "text/plain": [
              "[1, 2, 3, 4, 5]"
            ]
          },
          "metadata": {
            "tags": []
          },
          "execution_count": 264
        }
      ]
    },
    {
      "cell_type": "code",
      "metadata": {
        "colab": {
          "base_uri": "https://localhost:8080/"
        },
        "id": "bQdxd3AiftVj",
        "outputId": "1d972cf7-0258-4517-b2a7-b242928ba8a6"
      },
      "source": [
        "import collections\r\n",
        "a = [1,1,1,2,2,3]\r\n",
        "b = [1,1,2,2,4,5]\r\n",
        "\r\n",
        "intersection = []\r\n",
        "result = collections.Counter(a) & collections.Counter(b) # 교집합\r\n",
        "intersection = list(result.elements()) # 요소만 리스트로 빼내오기\r\n",
        "\r\n",
        "result2 = collections.Counter(a) | collections.Counter(b) # 합집합\r\n",
        "union = list(result2.elements())       # 요소만 리스트로 빼내오기\r\n",
        "\r\n",
        "print(intersection)\r\n",
        "print(union)"
      ],
      "execution_count": 364,
      "outputs": [
        {
          "output_type": "stream",
          "text": [
            "[1, 1, 2, 2]\n",
            "[1, 1, 1, 2, 2, 3, 4, 5]\n"
          ],
          "name": "stdout"
        }
      ]
    },
    {
      "cell_type": "markdown",
      "metadata": {
        "id": "romBzS_Cl1En"
      },
      "source": [
        "문제523. set을 사용하지 말고 아래의 a와 b로 합집합\r\n",
        "```\r\n",
        "a = [1,1,1,2,2,3]\r\n",
        "b = [1,1,2,2,4,5]\r\n",
        "```"
      ]
    },
    {
      "cell_type": "markdown",
      "metadata": {
        "id": "G-dk_jyGmjG2"
      },
      "source": [
        "완성본"
      ]
    },
    {
      "cell_type": "code",
      "metadata": {
        "id": "nPnLEIG5mTFk"
      },
      "source": [
        ""
      ],
      "execution_count": null,
      "outputs": []
    },
    {
      "cell_type": "code",
      "metadata": {
        "colab": {
          "base_uri": "https://localhost:8080/"
        },
        "id": "uCxI7NzlmS7r",
        "outputId": "0db69a51-9294-47f1-d793-95eefbdfd88f"
      },
      "source": [
        "import math\r\n",
        "import collections    # intersection 용\r\n",
        "\r\n",
        "def str_split(string):\r\n",
        "    string = string.upper()\r\n",
        "    res = []\r\n",
        "\r\n",
        "    for i in range(len(string)-1):\r\n",
        "        if string[i].isalpha() and string[i+1].isalpha(): # 문자라면,\r\n",
        "            res.append(string[i:i+2])\r\n",
        "    return res\r\n",
        "\r\n",
        "def Jaccard(str1,str2):\r\n",
        "\r\n",
        "    # intersection 수정했습니다.\r\n",
        "    intersection = []\r\n",
        "    result = collections.Counter(str_split(str1)) & collections.Counter(str_split(str2))\r\n",
        "    intersection = list(result.elements())       # 교집합 &\r\n",
        "\r\n",
        "    # union 합집합 수정했습니다.\r\n",
        "    result2 = collections.Counter(str_split(str1)) | collections.Counter(str_split(str2))\r\n",
        "    union = list(result2.elements())             # 합집합 |\r\n",
        "\r\n",
        "    if len(union) != 0:\r\n",
        "        return math.trunc(len(intersection)/len(union) * 65536)\r\n",
        "    else:\r\n",
        "        return 65536\r\n",
        "\r\n",
        "print(Jaccard('FRANCE','french'))\r\n",
        "print(Jaccard('handshake','shake hands'))\r\n",
        "print(Jaccard('aa1+aa2','AAAA12'))\r\n",
        "print(Jaccard('E=M*C^2','e=m*c^2'))"
      ],
      "execution_count": 359,
      "outputs": [
        {
          "output_type": "stream",
          "text": [
            "16384\n",
            "65536\n",
            "43690\n",
            "65536\n"
          ],
          "name": "stdout"
        }
      ]
    },
    {
      "cell_type": "markdown",
      "metadata": {
        "id": "YhMY4zV6tqsd"
      },
      "source": [
        "문제524. (오늘의 마지막 문제) collections를 이용해서 자카드 유사도를 구현하세요."
      ]
    },
    {
      "cell_type": "code",
      "metadata": {
        "colab": {
          "base_uri": "https://localhost:8080/"
        },
        "id": "paPgNbwDvKUc",
        "outputId": "5e35bfde-ea72-47a0-dbaa-7971e1b7edfc"
      },
      "source": [
        "import math\r\n",
        "import collections    # intersection 용\r\n",
        "\r\n",
        "def str_split(string):\r\n",
        "    string = string.upper()\r\n",
        "    res = []\r\n",
        "\r\n",
        "    for i in range(len(string)-1):\r\n",
        "        if string[i].isalpha() and string[i+1].isalpha(): # 문자라면,\r\n",
        "            res.append(string[i:i+2])\r\n",
        "    return res\r\n",
        "\r\n",
        "def Jaccard(str1,str2):\r\n",
        "    a = str_split(str1)\r\n",
        "    b = str_split(str2)\r\n",
        "\r\n",
        "    # intersection 수정했습니다.\r\n",
        "    intersection = []\r\n",
        "    result = collections.Counter(a) & collections.Counter(b)\r\n",
        "    intersection = list(result.elements())       # 교집합 &\r\n",
        "\r\n",
        "    # union 합집합 수정했습니다.\r\n",
        "    union = []\r\n",
        "    result2 = collections.Counter(a) | collections.Counter(b)\r\n",
        "    union = list(result2.elements())             # 합집합 |\r\n",
        "\r\n",
        "    if len(union) != 0:\r\n",
        "        return math.trunc(len(intersection)/len(union) * 65536)\r\n",
        "    else:\r\n",
        "        return 65536\r\n",
        "\r\n",
        "print(Jaccard('FRANCE','french'))\r\n",
        "print(Jaccard('handshake','shake hands'))\r\n",
        "print(Jaccard('aa1+aa2','AAAA12'))\r\n",
        "print(Jaccard('E=M*C^2','e=m*c^2'))"
      ],
      "execution_count": 367,
      "outputs": [
        {
          "output_type": "stream",
          "text": [
            "16384\n",
            "65536\n",
            "43690\n",
            "65536\n"
          ],
          "name": "stdout"
        }
      ]
    },
    {
      "cell_type": "markdown",
      "metadata": {
        "id": "5qFMxyqbvJ3D"
      },
      "source": [
        ""
      ]
    }
  ]
}