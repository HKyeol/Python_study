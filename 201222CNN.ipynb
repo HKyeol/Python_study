{
  "nbformat": 4,
  "nbformat_minor": 0,
  "metadata": {
    "colab": {
      "name": "201222CNN.ipynb",
      "provenance": [],
      "toc_visible": true,
      "authorship_tag": "ABX9TyN+kzPRI8AD47tmYYhxQaf/",
      "include_colab_link": true
    },
    "kernelspec": {
      "name": "python3",
      "display_name": "Python 3"
    }
  },
  "cells": [
    {
      "cell_type": "markdown",
      "metadata": {
        "id": "view-in-github",
        "colab_type": "text"
      },
      "source": [
        "<a href=\"https://colab.research.google.com/github/HKyeol/Python_study/blob/master/201222CNN.ipynb\" target=\"_parent\"><img src=\"https://colab.research.google.com/assets/colab-badge.svg\" alt=\"Open In Colab\"/></a>"
      ]
    },
    {
      "cell_type": "markdown",
      "metadata": {
        "id": "GGQa3PzO9hhG"
      },
      "source": [
        "# 150. 이미지를 숫자로 변환하는 방법 ( 폐사진 )\r\n",
        "\r\n",
        "딥러닝 수업을 할 때 이미지를 인공 신경망에 넣어서 학습을 시키는데 인공 신경망에 사진을 넣을 때 숫자로 변환을 해서 넣어야 합니다.  \r\n",
        "\r\n",
        "c 드라이브 밑에 images 라는 폴더에 폐사진 20장을 가져다 두세요~  \r\n",
        "```\r\n",
        "사진 ------------------> 인공 신경망 ------------------> 폐결절\r\n",
        "                               정상폐\r\n",
        "                                 폐암 \r\n",
        "                                   :\r\n",
        "                              7~10가지 분류 판정\r\n",
        "```\r\n",
        "공항 검색대에 입국할 때 위반되는 물건을 반입하려고 하면 못하게 막기위해 사람이 모니터링을 하는데 … 딥러닝 기술으로 컴퓨터가 알아내도록 하려는 기술을 구현  \r\n",
        "\r\n",
        "c 드라이브 밑에 images 라는 폴더에 폐사진 20장이 있어야 합니다.  \r\n",
        "\r\n",
        "예제1. c 드라이브 밑에 images 폴더에 있는 사진들의 이름을 불러오는 함수를 행성합니다."
      ]
    },
    {
      "cell_type": "code",
      "metadata": {
        "id": "VTMH7itRH0-y"
      },
      "source": [
        " "
      ],
      "execution_count": null,
      "outputs": []
    },
    {
      "cell_type": "code",
      "metadata": {
        "id": "W2M9a78O9rET"
      },
      "source": [
        "import os\r\n",
        "test_image = 'c:\\\\images'\r\n",
        "\r\n",
        "def image_load(path):\r\n",
        "    file_list = os.listdir(path) # 해당 디렉토리의 파일명을 추출한다.\r\n",
        "    return file_list\r\n",
        "print(image_load(test_image))"
      ],
      "execution_count": null,
      "outputs": []
    },
    {
      "cell_type": "markdown",
      "metadata": {
        "id": "SD2rRQtM-K7e"
      },
      "source": [
        "예제2. 위의 결과에서 숫자만 나오게 함수의 코드를 수정하시오."
      ]
    },
    {
      "cell_type": "code",
      "metadata": {
        "id": "CPAQQ2YE-i4S"
      },
      "source": [
        "import os\r\n",
        "import re # 데이터 정제전문 모듈\r\n",
        "test_image = 'c:\\\\images'\r\n",
        "file_name = []\r\n",
        "def image_load(path):\r\n",
        "    file_list = os.listdir(path) # 해당 디렉토리의 파일명을 추출한다.\r\n",
        "    for i in file_list:\r\n",
        "        a= re.sub('[^0-9]','',i) # i의 값 중에서 숫자가 아닌 것들은 싱글 두개를 붙인('') null로 변경해라\r\n",
        "        file_name.append(a)      # ^ 꺾쇠는 ~ not을 의미함 아니면 '' 맞으면 i\r\n",
        "    return file_name\r\n",
        "print(image_load(test_image))"
      ],
      "execution_count": null,
      "outputs": []
    },
    {
      "cell_type": "markdown",
      "metadata": {
        "id": "U3A83LnB_3tC"
      },
      "source": [
        "문제476. 위에서 출력되는 리스트 안의 요소들은 문자입니다. 그런데 문자가 아니라 숫자로 되게 하시오"
      ]
    },
    {
      "cell_type": "code",
      "metadata": {
        "id": "Fys8JLtNAK3C"
      },
      "source": [
        "file_name.append(int(a)) # 를 넣어줌"
      ],
      "execution_count": null,
      "outputs": []
    },
    {
      "cell_type": "markdown",
      "metadata": {
        "id": "lPdbbDp0AMXl"
      },
      "source": [
        "문제477. 위의 리스트의 요소가 ascending하게 정렬되게 하시오."
      ]
    },
    {
      "cell_type": "code",
      "metadata": {
        "id": "p3Htg6TLAd21"
      },
      "source": [
        "file_name.append(int(a))\r\n",
        "file_name.sort() # 를 붙여줌"
      ],
      "execution_count": null,
      "outputs": []
    },
    {
      "cell_type": "markdown",
      "metadata": {
        "id": "r4AXyfMSAl1O"
      },
      "source": [
        "문제478. 위의 함수의 코드를 추가해서 아래와 같이 출력되게 하시오.\r\n",
        "```\r\n",
        "['1.png', '2.png', ... ]\r\n",
        "```"
      ]
    },
    {
      "cell_type": "code",
      "metadata": {
        "id": "K8zpW82dBMhw"
      },
      "source": [
        "import os\r\n",
        "import re # 데이터 정제전문 모듈\r\n",
        "test_image = 'c:\\\\images'\r\n",
        "file_name = []\r\n",
        "def image_load(path):\r\n",
        "    file_list = os.listdir(path) # 해당 디렉토리의 파일명을 추출한다.\r\n",
        "    for i in file_list:\r\n",
        "        a= re.sub('[^0-9]','',i)\r\n",
        "        file_name.append(int(a))\r\n",
        "    file_name.sort()\r\n",
        "    file_res=[]\r\n",
        "    for k in file_name:\r\n",
        "        file_res.append(str(k)+'.png')\r\n",
        "    return file_res\r\n",
        "print(image_load(test_image))\r\n"
      ],
      "execution_count": null,
      "outputs": []
    },
    {
      "cell_type": "markdown",
      "metadata": {
        "id": "ocu-fgxeCNZ_"
      },
      "source": [
        "인공신경망에 넣으려면 경로를 다 써줘야한다.  \r\n",
        "\r\n",
        "문제479. 위의 함수의 코드를 수정해서 아래와 같이 이름 앞에 절대경로가 붙게 하시오.\r\n",
        "```\r\n",
        "['c:\\\\images\\\\1.png, ... ]\r\n",
        "```\r\n"
      ]
    },
    {
      "cell_type": "code",
      "metadata": {
        "id": "oGwO9ESrCwU6"
      },
      "source": [
        "    for k in file_name:\r\n",
        "        file_res.append(test_image+'\\\\'+str(k)+'.png')  # 바꿔준다.\r\n",
        "    return file_res"
      ],
      "execution_count": null,
      "outputs": []
    },
    {
      "cell_type": "markdown",
      "metadata": {
        "id": "mqSOJKykDker"
      },
      "source": [
        "인공신경망에 넣으려면 숫자로 변환해야 한다.  \r\n",
        "\r\n",
        "예제3. 폐사진 이미지를 숫자로 변환하기 위하여 필요한 파이썬 모듈을 install 하시오.  \r\n",
        "\r\n",
        "아나콘다 프롬프트 창을 엽니다.\r\n",
        "```\r\n",
        "conda install opencv\r\n",
        "```\r\n",
        "위의 명령어가 에러가 나면 아래와 같이 하시오.\r\n",
        "```\r\n",
        "pip install opencv-python\r\n",
        "```\r\n",
        "설명: opencv 모듈은 이미지를 파이썬에서 숫자로 변환하고 다양한 이미지처리를 할 수 있게 해주는 기술을 제공해주는 함수  \r\n",
        "\r\n",
        "예: 구글지도나 카카오 지도, 네이버 지도에 보면 street view가 있는데 거기에 사람얼굴이나 자동차 번호판을 모자이크 처리를 해줘야 합니다.  \r\n",
        "\r\n",
        "예제4. 위에서 설치한 opencv 모듈을 이용해서 폐사진을 숫자로 변환한다."
      ]
    },
    {
      "cell_type": "code",
      "metadata": {
        "id": "KMF26g2yI57B"
      },
      "source": [
        "import cv2 # opencv 모듈을 임포트 하겠다."
      ],
      "execution_count": 5,
      "outputs": []
    },
    {
      "cell_type": "code",
      "metadata": {
        "id": "QLadL3OGJ52S"
      },
      "source": [
        "import cv2 # opencv 모듈을 임포트 하겠다.\r\n",
        "import os\r\n",
        "import re # 데이터 정제전문 모듈\r\n",
        "test_image = 'c:\\\\images'\r\n",
        "file_name = []\r\n",
        "def image_load(path):\r\n",
        "    file_list = os.listdir(path) # 해당 디렉토리의 파일명을 추출한다.\r\n",
        "    for i in file_list:\r\n",
        "        a= re.sub('[^0-9]','',i)\r\n",
        "        file_name.append(int(a))\r\n",
        "    file_name.sort()\r\n",
        "    file_res=[]\r\n",
        "    for k in file_name:\r\n",
        "        file_res.append(test_image+'\\\\'+str(k)+'.png')\r\n",
        "    image = []\r\n",
        "    for h in file_res:\r\n",
        "        img = cv2.imread(h)\r\n",
        "        image.append(img)\r\n",
        "    return image\r\n",
        "print(image_load(test_image))"
      ],
      "execution_count": null,
      "outputs": []
    },
    {
      "cell_type": "markdown",
      "metadata": {
        "id": "xy3hEy0pKaV-"
      },
      "source": [
        "예제5. 위의 숫자로 변환한 리스트를 인공 신경망에 넣기 위해서는 numpy 모듈의 array 형태로 제공을 해줘야 합니다. 위의 리스트를 numpy array로 변환합니다."
      ]
    },
    {
      "cell_type": "code",
      "metadata": {
        "id": "w866nv4IKpD6"
      },
      "source": [
        "import numpy as np # 행렬연산을 쉽고 빠르게 할 수 있게 해주는 모듈\r\n",
        "\r\n",
        "    return np.array(image)  # 어레이를 둘러줬다."
      ],
      "execution_count": null,
      "outputs": []
    },
    {
      "cell_type": "markdown",
      "metadata": {
        "id": "KbyHwb70NcdV"
      },
      "source": [
        "# 151. 이미지를 숫자로 변환하는 방법 (개와 고양이)  \r\n",
        "개와 고양이 사진을 분류하는 인공신경망을 만들려면\r\n",
        "개와 고양이 사진을 각각 2000장씩 내려받아서 숫자로 변환하는 작업을 해줘야합니다.  \r\n",
        "\r\n",
        "예제1. 머신러닝 데이터 분석의 세계대회인 캐글에서 개와 고양이 사진을 내려받습니다.  \r\n",
        "\r\n",
        "kaggle 검색에서 cat and dog  \r\n",
        "\r\n",
        "CCU - 상업적으로 써도 무방  \r\n",
        "\r\n",
        "예제2. 개사진 30장만 c드라이브 밑에 images2 라는 폴더에 넣으세요  \r\n",
        "\r\n",
        "예제3. c드라이브 밑에 images2 라는 폴더에 있는 이미지 이름을 가져오는 함수를 image_load2 라는 함수로 생성하시오!"
      ]
    },
    {
      "cell_type": "code",
      "metadata": {
        "id": "CaZwyVVdR7fQ"
      },
      "source": [
        "import os\r\n",
        "path = 'c:\\\\images2'\r\n",
        "def image_load2(path):\r\n",
        "    file_list=os.listdir(path)\r\n",
        "    return file_list\r\n",
        "print(image_load2(path))"
      ],
      "execution_count": null,
      "outputs": []
    },
    {
      "cell_type": "markdown",
      "metadata": {
        "id": "WmIfJNcrWW9m"
      },
      "source": [
        "예제4. 위의 개사진 이름에서 숫자만 출력하시오!  \r\n",
        "예제5. file_name 리스트 안의 숫자를 정렬해서 출력되게 하시오!"
      ]
    },
    {
      "cell_type": "code",
      "metadata": {
        "id": "QPOcxyuCW6eY"
      },
      "source": [
        "import os\r\n",
        "path = 'c:\\\\images2'\r\n",
        "def image_load2(path):\r\n",
        "    file_list=os.listdir(path)\r\n",
        "    file_name = []\r\n",
        "    for i in file_list:\r\n",
        "        a = re.sub('[^0-9]','',i)\r\n",
        "        file_name.append(int(a))\r\n",
        "    file_name.sort()\r\n",
        "    return file_name\r\n",
        "print(image_load2(path))"
      ],
      "execution_count": null,
      "outputs": []
    },
    {
      "cell_type": "markdown",
      "metadata": {
        "id": "Kbylvq4sXKLI"
      },
      "source": [
        "예제6. 아래와 같이 절대경로와 확장자가 붙어서 출력되게 하시오!\r\n",
        "```\r\n",
        "[c:\\\\images2\\\\dog1.jpg, ...]\r\n",
        "```"
      ]
    },
    {
      "cell_type": "code",
      "metadata": {
        "id": "XSWjfHsqXNKH"
      },
      "source": [
        "    file_name.sort()\r\n",
        "    file_res = []       # 추가함\r\n",
        "    for k in file_name:\r\n",
        "        file_res.append(path+'\\\\dog.'+str(k)+'.jpg')\r\n",
        "    return file_res"
      ],
      "execution_count": null,
      "outputs": []
    },
    {
      "cell_type": "markdown",
      "metadata": {
        "id": "7gtvJ1TvXM2n"
      },
      "source": [
        "예제7. 위의 개사진 이미지들을 opencv와 numpy를 이용해서 숫자로 변환하고 numpy array로 반환되게 하시오."
      ]
    },
    {
      "cell_type": "code",
      "metadata": {
        "id": "wwOdcrovaEfN"
      },
      "source": [
        "import numpy as np\r\n",
        "import cv2\r\n",
        "import os\r\n",
        "path = 'c:\\\\images2'\r\n",
        "def image_load2(path):\r\n",
        "    file_list=os.listdir(path)\r\n",
        "    file_name = []\r\n",
        "    for i in file_list:\r\n",
        "        a = re.sub('[^0-9]','',i)\r\n",
        "        file_name.append(int(a))\r\n",
        "    file_name.sort()\r\n",
        "    file_res = []\r\n",
        "    for k in file_name:\r\n",
        "        file_res.append(path+'\\\\dog.'+str(k)+'.jpg')\r\n",
        "    image = []\r\n",
        "    for h in file_res:\r\n",
        "        img = cv2.imread(h)\r\n",
        "        image.append(img)\r\n",
        "    return np.array(image)\r\n",
        "\r\n",
        "print(image_load2(path))"
      ],
      "execution_count": null,
      "outputs": []
    },
    {
      "cell_type": "markdown",
      "metadata": {
        "id": "s-qb5udMaF6c"
      },
      "source": [
        "문제480. (점심시간 문제) 지난번에 직접 스크롤링한 사진 20장을 c드라이브 밑 images3 폴더에 넣고 숫자로 변환하는 함수를 image_load3로 생성하시오.  \r\n",
        "\r\n",
        "전 기수의 예: 스킨스쿠버 취미인 학생  \r\n",
        "바다속에 자연보호를 위해서 비닐사진과 해파리 사진을 다운받아 비닐사진과 해파리 사진을 분류하는 인공신경망을 생성하는 포트폴리오를 생성  \r\n",
        "\r\n"
      ]
    },
    {
      "cell_type": "code",
      "metadata": {
        "id": "joHuaa9acPvX"
      },
      "source": [
        "import numpy as np\r\n",
        "import re\r\n",
        "import cv2\r\n",
        "import os\r\n",
        "path = 'c:\\\\images3'\r\n",
        "def image_load3(path):\r\n",
        "    file_list = os.listdir(path)\r\n",
        "    file_name = []\r\n",
        "    for i in file_list:\r\n",
        "        a = re.sub('[^0-9]','',i)\r\n",
        "        file_name.append(int(a))\r\n",
        "    file_name.sort()\r\n",
        "    file_res = []\r\n",
        "    for k in file_name:\r\n",
        "        file_res.append(path+'\\\\'+str(k)+'_google.jpg')\r\n",
        "    image = []\r\n",
        "    for h in file_res:\r\n",
        "        img = cv2.imread(h)\r\n",
        "        image.append(img)\r\n",
        "    return np.array(image,dtype=object))\r\n",
        "print(image_load3(path))"
      ],
      "execution_count": null,
      "outputs": []
    },
    {
      "cell_type": "markdown",
      "metadata": {
        "id": "nFeqGc57wzGW"
      },
      "source": [
        "# 152. 필수 알고리즘1 (합성곱 연산)  \r\n",
        "\r\n",
        "알고리즘 문제를 풀어야 하는 이유?  \r\n",
        "\r\n",
        "1. 지금까지 배운 파이썬 문법을 완성하는 단계 - 알고리즘 문제 해결  \r\n",
        "2. 구글, 네이버, 카카오와 같이 큰 대기업으로 지원하고자 한다면 알고리즘 문제를 많이 풀어봐야 합니다.  \r\n",
        "프로그래머스 사이트에 여러 알고리즘 문제들이 올라와 있음  \r\n",
        "하루에 하나씩 꾸준히 풀면서 실력을 천천히 쌓아 올리면 됩니다.\r\n",
        "\r\n",
        "* 합성곱 연산 알고리즘?  \r\n",
        "\r\n",
        "딥러닝의 필수 알고리즘(퍼셉트론, 합성곱 연산 알고리즘)  \r\n",
        "이미지의 형상을 무시하지 않고 이미지를 그대로 인공신경망이 학습할 수 있게 해준 수학 행렬 연산입니다.  \r\n",
        "합성곱에서 원본 이미지는 학습해야할 데이터(사진) 이고 필터(filter)는 원본이미지에서 특징을 잡아내는데 사용되는 행렬입니다. 특징을 잡아서 feature map을 생성하여 원본 이미지의 형태를 이해하는 것을 합성곱 연산이라고 합니다.  \r\n",
        "\r\n",
        "문제481. 아래의 두 행렬을 만들고 덧셈 연산을 하시오.\r\n",
        "```\r\n",
        "1 2 3     2 0 1\r\n",
        "0 1 2  +  0 1 2\r\n",
        "3 0 1     1 0 2\r\n",
        "```"
      ]
    },
    {
      "cell_type": "code",
      "metadata": {
        "colab": {
          "base_uri": "https://localhost:8080/"
        },
        "id": "7ZQqljuJxhk4",
        "outputId": "c56568bc-a9d3-4509-b79f-39fe25763f6d"
      },
      "source": [
        "import numpy as np\r\n",
        "a = [[1,2,3],[0,1,2],[3,0,1]]\r\n",
        "b = [[2,0,1],[0,1,2],[1,0,2]]\r\n",
        "a2 = np.array(a)\r\n",
        "b2 = np.array(b)\r\n",
        "print(a2)\r\n",
        "print(b2)\r\n",
        "a2+b2"
      ],
      "execution_count": 9,
      "outputs": [
        {
          "output_type": "stream",
          "text": [
            "[[1 2 3]\n",
            " [0 1 2]\n",
            " [3 0 1]]\n",
            "[[2 0 1]\n",
            " [0 1 2]\n",
            " [1 0 2]]\n"
          ],
          "name": "stdout"
        },
        {
          "output_type": "execute_result",
          "data": {
            "text/plain": [
              "array([[3, 2, 4],\n",
              "       [0, 2, 4],\n",
              "       [4, 0, 3]])"
            ]
          },
          "metadata": {
            "tags": []
          },
          "execution_count": 9
        }
      ]
    },
    {
      "cell_type": "markdown",
      "metadata": {
        "id": "zCPA9Vp51Z1b"
      },
      "source": [
        "문제482. 아래의 두 행렬을 만들고 두 행렬의 곱을 구하시오.\r\n",
        "```\r\n",
        "a = [[1,2,3],[0,1,2],[3,0,1]]\r\n",
        "b = [[2,0,1],[0,1,2],[1,0,2]]\r\n",
        "```"
      ]
    },
    {
      "cell_type": "code",
      "metadata": {
        "colab": {
          "base_uri": "https://localhost:8080/"
        },
        "id": "NyyEsrNM1ov6",
        "outputId": "5648b62f-99dd-46e7-ecc4-ac8e54f3f0c0"
      },
      "source": [
        "np.dot(a2,b2)"
      ],
      "execution_count": 12,
      "outputs": [
        {
          "output_type": "execute_result",
          "data": {
            "text/plain": [
              "array([[ 5,  2, 11],\n",
              "       [ 2,  1,  6],\n",
              "       [ 7,  0,  5]])"
            ]
          },
          "metadata": {
            "tags": []
          },
          "execution_count": 12
        }
      ]
    },
    {
      "cell_type": "markdown",
      "metadata": {
        "id": "kURCFh7O19av"
      },
      "source": [
        "문제483. 위에서 출력된 결과의 요소들을 모두 다 더하시오."
      ]
    },
    {
      "cell_type": "code",
      "metadata": {
        "colab": {
          "base_uri": "https://localhost:8080/"
        },
        "id": "w8RZSaPf2Fmf",
        "outputId": "ce341e78-e6ba-4a4f-9741-b2dcf06e09f9"
      },
      "source": [
        "result = np.dot(a2,b2)\r\n",
        "print(result.sum()) # 행렬 안 원소들의 합을 출력"
      ],
      "execution_count": 13,
      "outputs": [
        {
          "output_type": "stream",
          "text": [
            "39\n"
          ],
          "name": "stdout"
        }
      ]
    },
    {
      "cell_type": "markdown",
      "metadata": {
        "id": "IAZCdLxD3CBU"
      },
      "source": [
        "설명: numpy란 python 언어에서 기본적으로 지원하지 않는 배열(array) 혹은 행렬(matrix)의 계산을 쉽게 해주는 라이브러리입니다. 머신러닝에서 많이 사용하는 선형대수학에 관련된 수식들을 python에서 쉽게 프로그래밍 할 수 있게 해줍니다.  \r\n",
        "\r\n",
        "문제484. 아래의 4x4 행렬을 만드시오.\r\n",
        "```\r\n",
        "1 2 3 0\r\n",
        "0 1 2 3\r\n",
        "3 0 1 2\r\n",
        "2 3 0 1\r\n",
        "```"
      ]
    },
    {
      "cell_type": "code",
      "metadata": {
        "colab": {
          "base_uri": "https://localhost:8080/"
        },
        "id": "C8PPEE543vOX",
        "outputId": "e5bf0f68-4cbc-4dca-ce50-d28d12a0ce35"
      },
      "source": [
        "a = [[1,2,3,0],[0,1,2,3],[3,0,1,2],[2,3,0,1]]\r\n",
        "np.array(a)"
      ],
      "execution_count": 15,
      "outputs": [
        {
          "output_type": "execute_result",
          "data": {
            "text/plain": [
              "array([[1, 2, 3, 0],\n",
              "       [0, 1, 2, 3],\n",
              "       [3, 0, 1, 2],\n",
              "       [2, 3, 0, 1]])"
            ]
          },
          "metadata": {
            "tags": []
          },
          "execution_count": 15
        }
      ]
    },
    {
      "cell_type": "markdown",
      "metadata": {
        "id": "GvXJxVQF4OO8"
      },
      "source": [
        "문제485. 아래의 4x4 행렬에서 빨간색으로 지정한 영역(좌상단3x3)의 숫자들만 출력하시오."
      ]
    },
    {
      "cell_type": "code",
      "metadata": {
        "colab": {
          "base_uri": "https://localhost:8080/"
        },
        "id": "zaJkkVLr4Ved",
        "outputId": "55815153-1c38-4eca-d85f-82716c1d361b"
      },
      "source": [
        "a = [[1,2,3,0],[0,1,2,3],[3,0,1,2],[2,3,0,1]]\r\n",
        "a2 = np.array(a)\r\n",
        "print(a2[0:3,0:3]) # 행을 0 이상에서 3 미만까지, 열을 0 이상에서 3 미만까지"
      ],
      "execution_count": 35,
      "outputs": [
        {
          "output_type": "stream",
          "text": [
            "[[1 2 3]\n",
            " [0 1 2]\n",
            " [3 0 1]]\n"
          ],
          "name": "stdout"
        }
      ]
    },
    {
      "cell_type": "markdown",
      "metadata": {
        "id": "9lA1g_6e5SGZ"
      },
      "source": [
        "문제486. 아래의 4x4 행렬에서 빨간색으로 지정한 영역의 숫자들만 출력하시오.(우상단 3x3)"
      ]
    },
    {
      "cell_type": "code",
      "metadata": {
        "colab": {
          "base_uri": "https://localhost:8080/"
        },
        "id": "fGvd7V205Xxn",
        "outputId": "99d0bb90-f9c2-4ebc-87f7-2e9254c45942"
      },
      "source": [
        "a = [[1,2,3,0],[0,1,2,3],[3,0,1,2],[2,3,0,1]]\r\n",
        "a2 = np.array(a)\r\n",
        "print(a2[0:3,1:4])\r\n",
        "        # 행 열"
      ],
      "execution_count": 43,
      "outputs": [
        {
          "output_type": "stream",
          "text": [
            "[[2 3 0]\n",
            " [1 2 3]\n",
            " [0 1 2]]\n"
          ],
          "name": "stdout"
        }
      ]
    },
    {
      "cell_type": "markdown",
      "metadata": {
        "id": "mqEA3HK76FKP"
      },
      "source": [
        "문제487. 아래의 4x4 행렬에서 빨간색으로 지정한 영역의 숫자들만 출력하시오(좌하단 3x3)"
      ]
    },
    {
      "cell_type": "code",
      "metadata": {
        "colab": {
          "base_uri": "https://localhost:8080/"
        },
        "id": "OW-QRBhL6V4k",
        "outputId": "b27b0b64-8716-4b39-a847-bc250f8badf7"
      },
      "source": [
        "a = [[1,2,3,0],[0,1,2,3],[3,0,1,2],[2,3,0,1]]\r\n",
        "a2 = np.array(a)\r\n",
        "print(a2[1:4,0:3])"
      ],
      "execution_count": 52,
      "outputs": [
        {
          "output_type": "stream",
          "text": [
            "[[0 1 2]\n",
            " [3 0 1]\n",
            " [2 3 0]]\n"
          ],
          "name": "stdout"
        }
      ]
    },
    {
      "cell_type": "markdown",
      "metadata": {
        "id": "jpFrytTC6qVt"
      },
      "source": [
        "문제488.아래의 4x4 행렬에서 우하단 3x3을 출력"
      ]
    },
    {
      "cell_type": "code",
      "metadata": {
        "colab": {
          "base_uri": "https://localhost:8080/"
        },
        "id": "JqQTwKvO60js",
        "outputId": "6b2c85bc-c4e8-47bf-f6f7-f1059df79ad2"
      },
      "source": [
        "a = [[1,2,3,0],[0,1,2,3],[3,0,1,2],[2,3,0,1]]\r\n",
        "a2 = np.array(a)\r\n",
        "print(a2[1:4,1:4])"
      ],
      "execution_count": 53,
      "outputs": [
        {
          "output_type": "stream",
          "text": [
            "[[1 2 3]\n",
            " [0 1 2]\n",
            " [3 0 1]]\n"
          ],
          "name": "stdout"
        }
      ]
    },
    {
      "cell_type": "markdown",
      "metadata": {
        "id": "5piG8k7l7OLV"
      },
      "source": [
        "문제489. 아래의 4x4 행렬에서 위에서 빨간색으로 지정된 4개의 영역의 숫자들을(좌상 우상 좌하 우하) for loop 문을 이용해서 모두 출력하시오."
      ]
    },
    {
      "cell_type": "code",
      "metadata": {
        "colab": {
          "base_uri": "https://localhost:8080/"
        },
        "id": "LF_pmtMn7T2j",
        "outputId": "563841df-ab53-4aa8-d531-449abf83d5dd"
      },
      "source": [
        "a = [[1,2,3,0],[0,1,2,3],[3,0,1,2],[2,3,0,1]]\r\n",
        "a2 = np.array(a)\r\n",
        "for i in range(2):\r\n",
        "    for k in range(2):\r\n",
        "        print(a2[i:i+3,k:k+3])"
      ],
      "execution_count": 58,
      "outputs": [
        {
          "output_type": "stream",
          "text": [
            "[[1 2 3]\n",
            " [0 1 2]\n",
            " [3 0 1]]\n",
            "[[2 3 0]\n",
            " [1 2 3]\n",
            " [0 1 2]]\n",
            "[[0 1 2]\n",
            " [3 0 1]\n",
            " [2 3 0]]\n",
            "[[1 2 3]\n",
            " [0 1 2]\n",
            " [3 0 1]]\n"
          ],
          "name": "stdout"
        }
      ]
    },
    {
      "cell_type": "markdown",
      "metadata": {
        "id": "bYwoKsTDEGhU"
      },
      "source": [
        "문제490. 위에서 선택한 4개의 행렬(3x3)과 아래의 filter 행렬 (3x3)과의 원소의 곱을 출력하시오.\r\n",
        "```\r\n",
        "filter = [[2,3,4],[1,2,3],[2,0,1]]\r\n",
        "```"
      ]
    },
    {
      "cell_type": "code",
      "metadata": {
        "colab": {
          "base_uri": "https://localhost:8080/"
        },
        "id": "kQBi1uR_EMbo",
        "outputId": "e9623976-79af-4d56-b6f5-3ac2cc3f12d6"
      },
      "source": [
        "a = [[1,2,3,0],[0,1,2,3],[3,0,1,2],[2,3,0,1]]\r\n",
        "a2 = np.array(a)\r\n",
        "f = [[2,3,4],[1,2,3],[2,0,1]]\r\n",
        "filter = np.array(f)\r\n",
        "\r\n",
        "for i in range(2):\r\n",
        "    for k in range(2):\r\n",
        "        print(np.dot(a2[i:i+3,k:k+3],filter))\r\n",
        "\r\n"
      ],
      "execution_count": 63,
      "outputs": [
        {
          "output_type": "stream",
          "text": [
            "[[10  7 13]\n",
            " [ 5  2  5]\n",
            " [ 8  9 13]]\n",
            "[[ 7 12 17]\n",
            " [10  7 13]\n",
            " [ 5  2  5]]\n",
            "[[ 5  2  5]\n",
            " [ 8  9 13]\n",
            " [ 7 12 17]]\n",
            "[[10  7 13]\n",
            " [ 5  2  5]\n",
            " [ 8  9 13]]\n"
          ],
          "name": "stdout"
        }
      ]
    },
    {
      "cell_type": "markdown",
      "metadata": {
        "id": "N72d3lkfGnYN"
      },
      "source": [
        "문제491. 원소의 합을 구하시오."
      ]
    },
    {
      "cell_type": "code",
      "metadata": {
        "colab": {
          "base_uri": "https://localhost:8080/"
        },
        "id": "DxnUMFV2GvZs",
        "outputId": "0c54867c-5728-4ec2-96c2-9e6b2c464ec1"
      },
      "source": [
        "a = [[1,2,3,0],[0,1,2,3],[3,0,1,2],[2,3,0,1]]\r\n",
        "a2 = np.array(a)\r\n",
        "f = [[2,3,4],[1,2,3],[2,0,1]]\r\n",
        "filter = np.array(f)\r\n",
        "\r\n",
        "for i in range(2):\r\n",
        "    for k in range(2):\r\n",
        "        print(np.dot(a2[i:i+3,k:k+3],filter).sum())"
      ],
      "execution_count": 64,
      "outputs": [
        {
          "output_type": "stream",
          "text": [
            "72\n",
            "78\n",
            "78\n",
            "72\n"
          ],
          "name": "stdout"
        }
      ]
    },
    {
      "cell_type": "markdown",
      "metadata": {
        "id": "eM18W0iXGpIT"
      },
      "source": [
        "문제492. 위에서 출력된 4개의 숫자로 2x2 행렬을 만드시오\r\n",
        "# 2x2행렬 만들기"
      ]
    },
    {
      "cell_type": "code",
      "metadata": {
        "colab": {
          "base_uri": "https://localhost:8080/"
        },
        "id": "lnjSuDukG98_",
        "outputId": "abc31c14-a7f8-4f52-8803-4d7791343b9e"
      },
      "source": [
        "a = [[1,2,3,0],[0,1,2,3],[3,0,1,2],[2,3,0,1]]\r\n",
        "a2 = np.array(a)\r\n",
        "f = [[2,3,4],[1,2,3],[2,0,1]]\r\n",
        "filter = np.array(f)\r\n",
        "result = []\r\n",
        "for i in range(2):\r\n",
        "    for k in range(2):\r\n",
        "        result.append(np.dot(a2[i:i+3,k:k+3],filter).sum())\r\n",
        "result2 = np.array(result).reshape(2,2) # 2x2행렬로 변경\r\n",
        "result2"
      ],
      "execution_count": 67,
      "outputs": [
        {
          "output_type": "execute_result",
          "data": {
            "text/plain": [
              "array([[72, 78],\n",
              "       [78, 72]])"
            ]
          },
          "metadata": {
            "tags": []
          },
          "execution_count": 67
        }
      ]
    },
    {
      "cell_type": "markdown",
      "metadata": {
        "id": "DfVfeNgmGw0b"
      },
      "source": [
        "설명: a2라는 원본이미지(개사진)에 filter(랜덤으로 생성한 이미지)를 가지고 원본 이미지를 스트라이드(양옆위아래로 스캔)하면서 특징을 잡아내어  \r\n",
        "\r\n",
        "문제493. 아래의 원본 이미지 행렬(5x5) 행렬에서 필터행렬(4x4)로 스트라이딩해서 합성곱해서 특징(2x2)을 추출하시오.  \r\n",
        "```\r\n",
        "4x4 --> 3x3 --> 2x2\r\n",
        "5x5 --> 4x4 --> 2x2\r\n",
        "```"
      ]
    },
    {
      "cell_type": "code",
      "metadata": {
        "colab": {
          "base_uri": "https://localhost:8080/"
        },
        "id": "0h7Lk3KLMl5Q",
        "outputId": "b475c85b-b97e-4618-fced-5f319c129d52"
      },
      "source": [
        "a = [ [2,3,1,4,7],[3,1,6,4,3],[2,1,5,3,1],[6,2,4,1,2],[7,3,1,2,3]]\r\n",
        "a2 = np.array(a)\r\n",
        "f = [ [3,1,4,1],[2,3,3,4],[5,1,2,1],[6,1,3,4]]\r\n",
        "filter = np.array(f)\r\n",
        "result=[]\r\n",
        "for i in range(2):\r\n",
        "    for k in range(2):\r\n",
        "        result.append(np.sum(a2[i:i+4,k:k+4]*filter))\r\n",
        "result2 = np.array(result).reshape(2,2)\r\n",
        "print(result2)"
      ],
      "execution_count": 89,
      "outputs": [
        {
          "output_type": "stream",
          "text": [
            "[[138 121]\n",
            " [169 113]]\n"
          ],
          "name": "stdout"
        }
      ]
    },
    {
      "cell_type": "markdown",
      "metadata": {
        "id": "puKnWqtLRfBj"
      },
      "source": [
        "# 153. 필수 알고리즘2 (이진 탐색)\r\n",
        "문제494. 아래의 리스트에서 숫자 3이 있는지 순차 탐색으로 구현하시오. 있으면 숫자 3이 있습니다. 라는 메세지가 출력되게 하시오.\r\n",
        "```\r\n",
        "a = [14,11,1,3,8]\r\n",
        "```"
      ]
    },
    {
      "cell_type": "code",
      "metadata": {
        "colab": {
          "base_uri": "https://localhost:8080/"
        },
        "id": "L4QsD-gJRwp8",
        "outputId": "94d6e52b-eefd-4313-a18e-3dd77004c7bd"
      },
      "source": [
        "a = [14,11,1,3,8]\r\n",
        "for i in a:\r\n",
        "    if 3 == i:\r\n",
        "        print('숫자 3이 있습니다.')\r\n",
        "        break"
      ],
      "execution_count": 93,
      "outputs": [
        {
          "output_type": "stream",
          "text": [
            "숫자 3이 있습니다.\n"
          ],
          "name": "stdout"
        }
      ]
    },
    {
      "cell_type": "markdown",
      "metadata": {
        "id": "fMplN8tnSAGr"
      },
      "source": [
        "설명: 순차탐색이란? 주어진 데이터를 처음부터 차례대로 비교하면서 찾는 방법"
      ]
    },
    {
      "cell_type": "markdown",
      "metadata": {
        "id": "hyXejp2tTpKr"
      },
      "source": [
        "문제495. 위의 코드를 수정해서 숫자를 물어보게 하고 숫자를 입력하면 해당 숫자가 존재하는지 존재하지 않는지 출력되게 하시오.  \r\n",
        "\r\n",
        "검색할 숫자를 입력하세요 ~ 3  \r\n",
        "숫자 3은 있습니다.  \r\n",
        "숫자 3은 없습니다."
      ]
    },
    {
      "cell_type": "code",
      "metadata": {
        "colab": {
          "base_uri": "https://localhost:8080/"
        },
        "id": "52woc-XoT2tU",
        "outputId": "9b075b99-d17b-45f0-9ce5-0d6286c80996"
      },
      "source": [
        "a = [15,11,1,3,8]\r\n",
        "\r\n",
        "b = input('검색할 숫자를 입력하세요 ~ ')\r\n",
        "d = ''\r\n",
        "\r\n",
        "if int(b[-1]) in [1,3,6,7,8,0]:\r\n",
        "    d = '이'\r\n",
        "else:\r\n",
        "    d = '가'\r\n",
        "    \r\n",
        "for i in a:\r\n",
        "    if int(b) == i:\r\n",
        "        print(f'숫자 {b}{d} 있습니다.')\r\n",
        "        break\r\n",
        "else:\r\n",
        "    print(f'숫자 {b}{d} 없습니다.')"
      ],
      "execution_count": 106,
      "outputs": [
        {
          "output_type": "stream",
          "text": [
            "검색할 숫자를 입력하세요 ~ 2\n",
            "숫자 2가 없습니다.\n"
          ],
          "name": "stdout"
        }
      ]
    },
    {
      "cell_type": "markdown",
      "metadata": {
        "id": "byR31hPiU-7z"
      },
      "source": [
        "이진탐색, 데이터가 순서대로 정렬되어 있으면 정 가운데부터 찾음 up down으로 비교.  \r\n",
        "\r\n",
        "* 이진탐색 ? 정렬된 데이터를 좌우 둘로 나눠서 원하는 값의 탐색범위를 좁혀가며 찾는 방법  \r\n",
        "\r\n",
        "문제496. 아래의 a 리스트에서 중앙값을 찾으시오!"
      ]
    },
    {
      "cell_type": "code",
      "metadata": {
        "colab": {
          "base_uri": "https://localhost:8080/"
        },
        "id": "egFWsfXzV74v",
        "outputId": "004e703d-21e3-4d95-839f-a462a28cd3b4"
      },
      "source": [
        "a = [1,7,11,12,14,23,33,47,51,64,67,77,139,672,871]\r\n",
        "import numpy as np\r\n",
        "a_n = np.array(a)\r\n",
        "print(np.median(a_n))"
      ],
      "execution_count": 109,
      "outputs": [
        {
          "output_type": "stream",
          "text": [
            "47.0\n"
          ],
          "name": "stdout"
        }
      ]
    },
    {
      "cell_type": "markdown",
      "metadata": {
        "id": "q3z6D02bWmcm"
      },
      "source": [
        "문제497. a 리스트에서 첫번째 숫자 부터 중앙값에 해당하는 숫자까지만 검색하시오 ~  \r\n",
        "\r\n",
        "힌트: a.index(요소명)"
      ]
    },
    {
      "cell_type": "code",
      "metadata": {
        "colab": {
          "base_uri": "https://localhost:8080/"
        },
        "id": "lS23t5dYWsO0",
        "outputId": "de3d5f6b-df7c-4141-c3b3-6a1a10b52160"
      },
      "source": [
        "a = [1,7,11,12,14,23,33,47,51,64,67,77,139,672,871]\r\n",
        "import numpy as np\r\n",
        "a_n = np.array(a)\r\n",
        "a_m = np.median(a_n)\r\n",
        "print(a[ :a.index(a_m)+1])"
      ],
      "execution_count": 117,
      "outputs": [
        {
          "output_type": "stream",
          "text": [
            "[1, 7, 11, 12, 14, 23, 33, 47]\n"
          ],
          "name": "stdout"
        }
      ]
    },
    {
      "cell_type": "markdown",
      "metadata": {
        "id": "HOCrPFmyaXZt"
      },
      "source": [
        "문제498. 위의 a 리스트에서 문제497번에서 선택된 숫자들을 중앙값까지 포함해서 다 지우고 아래의 결과만 출력되게 하시오."
      ]
    },
    {
      "cell_type": "code",
      "metadata": {
        "colab": {
          "base_uri": "https://localhost:8080/"
        },
        "id": "wXu8fePHaeW5",
        "outputId": "fc5c4870-6990-43a3-a7f5-09c54d66df7f"
      },
      "source": [
        "a = [1,7,11,12,14,23,33,47,51,64,67,77,139,672,871]\r\n",
        "import numpy as np\r\n",
        "a_n = np.array(a)\r\n",
        "a_m = np.median(a_n)\r\n",
        "del(a[ :a.index(a_m)+1]) # 지운다.\r\n",
        "a"
      ],
      "execution_count": 121,
      "outputs": [
        {
          "output_type": "execute_result",
          "data": {
            "text/plain": [
              "[51, 64, 67, 77, 139, 672, 871]"
            ]
          },
          "metadata": {
            "tags": []
          },
          "execution_count": 121
        }
      ]
    },
    {
      "cell_type": "markdown",
      "metadata": {
        "id": "Vj1M7X--a5yp"
      },
      "source": [
        "문제499. 위의 결과로 출력된 아래의 리스트에서 중앙값을 출력하시오.\r\n",
        "```\r\n",
        "[51, 64, 67, 77, 139, 672, 871]\r\n",
        "```"
      ]
    },
    {
      "cell_type": "code",
      "metadata": {
        "colab": {
          "base_uri": "https://localhost:8080/"
        },
        "id": "h713fB8Fa-LR",
        "outputId": "7bb8e5a2-3218-44c8-8e95-e9888ccc6cf5"
      },
      "source": [
        "a = [51, 64, 67, 77, 139, 672, 871]\r\n",
        "a_n = np.array(a)\r\n",
        "a_m = np.median(a_n)\r\n",
        "a_m"
      ],
      "execution_count": 129,
      "outputs": [
        {
          "output_type": "execute_result",
          "data": {
            "text/plain": [
              "77.0"
            ]
          },
          "metadata": {
            "tags": []
          },
          "execution_count": 129
        }
      ]
    },
    {
      "cell_type": "markdown",
      "metadata": {
        "id": "Ok-TIsYWba7I"
      },
      "source": [
        "문제500. 지금 위에서 출력한 중앙값 77이 내가 검색하고자 하는 67보다 크다면 아래의 결과 리스트만 출력되게 하시오."
      ]
    },
    {
      "cell_type": "code",
      "metadata": {
        "colab": {
          "base_uri": "https://localhost:8080/"
        },
        "id": "In-52sJUblNA",
        "outputId": "4da90b4b-91f4-4ec9-e652-79728ce151a0"
      },
      "source": [
        "if a_m > 67:\r\n",
        "    del(a[:a.index(a_m)+1])\r\n",
        "else:\r\n",
        "    del(a[a.index(a_m)+1:])\r\n",
        "a"
      ],
      "execution_count": 130,
      "outputs": [
        {
          "output_type": "execute_result",
          "data": {
            "text/plain": [
              "[139, 672, 871]"
            ]
          },
          "metadata": {
            "tags": []
          },
          "execution_count": 130
        }
      ]
    },
    {
      "cell_type": "markdown",
      "metadata": {
        "id": "-3ATlqyEctIN"
      },
      "source": [
        "문제501. 오늘의 마지막 문제) EBS에 나온 영상대로 이진탐색을 구현하시오. (필수 알고리즘 2번 문제)\r\n",
        "```\r\n",
        "a = [1,7,11,12,14,23,33,47,51,64,67,77,139,672,871]\r\n",
        "a 리스트에서 검색할 숫자를 입력하세요 ~ 67\r\n",
        "67은 이진탐색 3번만에 검색되었습니다.\r\n",
        "a 리스트에서 검색할 숫자를 입력하세요 ~ 68\r\n",
        "68\r\n",
        "```"
      ]
    },
    {
      "cell_type": "code",
      "metadata": {
        "colab": {
          "base_uri": "https://localhost:8080/"
        },
        "id": "coFK08nIcyG6",
        "outputId": "b35f7763-3778-4363-aaac-6c53dab52f90"
      },
      "source": [
        "import numpy as np\r\n",
        "a = [1,7,11,12,14,23,33,47,51,64,67,77,139,672,871]\r\n",
        "b = (input('a 리스트에서 검색할 숫자를 입력하세요 ~ '))\r\n",
        "cnt = 1\r\n",
        "finish=0\r\n",
        "\r\n",
        "if int(b[-1]) in [1,3,6,7,8,0]: # 은/는 불편해서 만듦\r\n",
        "    d = '은'\r\n",
        "else:\r\n",
        "    d = '는'\r\n",
        "b = int(b)\r\n",
        "\r\n",
        "while True:\r\n",
        "    a_m = round((len(a)-1)/2)\r\n",
        "\r\n",
        "    if b == a[a_m]:\r\n",
        "        print(f'{b}{d} 이진탐색 {cnt}번만에 검색되었습니다.')\r\n",
        "        break\r\n",
        "    elif b > a[a_m]:\r\n",
        "        cnt +=1\r\n",
        "        del(a[:a_m+1])\r\n",
        "    else:\r\n",
        "        cnt +=1\r\n",
        "        del(a[a_m:])\r\n",
        "    if len(a) == 0:\r\n",
        "        print(f'{b}{d} 검색되지 않았습니다.')\r\n",
        "        break"
      ],
      "execution_count": 220,
      "outputs": [
        {
          "output_type": "stream",
          "text": [
            "a 리스트에서 검색할 숫자를 입력하세요 ~ 1\n",
            "1은 이진탐색 4번만에 검색되었습니다.\n"
          ],
          "name": "stdout"
        }
      ]
    }
  ]
}