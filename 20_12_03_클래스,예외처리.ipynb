{
  "nbformat": 4,
  "nbformat_minor": 0,
  "metadata": {
    "colab": {
      "name": "20-12-03 클래스, 예외처리.ipynb",
      "provenance": [],
      "collapsed_sections": [],
      "toc_visible": true,
      "authorship_tag": "ABX9TyNJgMWhuL6AWeyToIHv2SY5",
      "include_colab_link": true
    },
    "kernelspec": {
      "name": "python3",
      "display_name": "Python 3"
    }
  },
  "cells": [
    {
      "cell_type": "markdown",
      "metadata": {
        "id": "view-in-github",
        "colab_type": "text"
      },
      "source": [
        "<a href=\"https://colab.research.google.com/github/HKyeol/Python_study/blob/master/20_12_03_%ED%81%B4%EB%9E%98%EC%8A%A4%2C%EC%98%88%EC%99%B8%EC%B2%98%EB%A6%AC.ipynb\" target=\"_parent\"><img src=\"https://colab.research.google.com/assets/colab-badge.svg\" alt=\"Open In Colab\"/></a>"
      ]
    },
    {
      "cell_type": "markdown",
      "metadata": {
        "id": "y7bKx4fEB0_5"
      },
      "source": [
        "# 복습\n",
        "\n",
        "* 클래스를 사용해서 파이썬 코딩을 해야하는 이유?  \n",
        "\n",
        "객체 지향 언어의 장점인 상속을 활용할 수 있기 때문입니다.  \n",
        "객체 지향 언어의 장점이 프로그램할 때 너무 유용하기 때문에 객체를 만드는 것을 지향(선호)하는 프로그램 언어입니다.  \n",
        "\n",
        "신용카드 발급 및 사용 프로그램을 구축하고 싶다면?  \n",
        "```\n",
        "팀장님 ---> 카드의 중요 기본 기능을 담는 설계도(클래스)를 생성  \n",
        "            클래스 이름 : Card\n",
        "  ↓\n",
        "팀원1(나)                       팀원2(동료)\n",
        "(영화 할인 카드 클래스 생성)  (주유 할인 카드 클래스 생성)\n",
        "\n",
        "상속 코드: class Movie_Card( Card ):\n",
        "```\n",
        "면접 문제: 객체 지향언어의 장점이 무엇입니까?  \n",
        "답: 상속입니다. 협업에 유리.  \n",
        "\n",
        "만약에 내가 팀장님이 만든 카드의 중요기능(메소드)을 담은 클래스(Card)를 상속받기만 하면 나는 팀장님이 코딩한 카드의 주요기능을 코딩하지 않아도 되고 나는 단순히 영화할인에만 집중해서 코드를 구현하면 된다.\n",
        "```\n",
        "gun1  =  Gun()\n",
        "제품     설계도\n",
        "객체     클래스\n",
        "```\n",
        "  \n",
        "다른 제품(객체)를 생성하고 싶다면?  \n",
        "```\n",
        "gun2 = Gun()\n",
        "gun2.charge(100)\n",
        "gun2.shoot(3)\n",
        "```\n",
        "\n",
        "※ 파이썬 클래스에서 사용하는 키워드인 self가 무엇입니까?  \n",
        "\n",
        "\n"
      ]
    },
    {
      "cell_type": "code",
      "metadata": {
        "colab": {
          "base_uri": "https://localhost:8080/"
        },
        "id": "EZpjsoRQ-d0c",
        "outputId": "56963622-a26e-4ad6-fd8b-a8d4d959fdfb"
      },
      "source": [
        "class Card(): # 클래스 이름은 첫번째 철자는 대문자 나머지는 소문자로 구성한다.\n",
        "  def __init__(self): # 설계도를 가지고 제품을 처음 만들 때 자동으로 작동되는 기능\n",
        "    self.cash = 0 # 만들때만 작동하고 그 다음엔 작동안함\n",
        "    print('카드가 만들어졌습니다', self.cash, '원이 충전 되었습니다.')\n",
        "  def charge(self,num): # 총알을 충전하는 함수\n",
        "    self.cash = num\n",
        "    print(num,'원이 충전되었습니다')\n",
        "\n",
        "이준혁_card = Card()\n",
        "양건준_card = Card()\n",
        "이준혁_card.charge(100000) # 준혁이가 준혁이 카드를 10만원 충전했습니다.\n",
        "양건준_card.charge(5000000) # 건준이가 건준이 카드에 500만원 충전했습니다."
      ],
      "execution_count": 11,
      "outputs": [
        {
          "output_type": "stream",
          "text": [
            "카드가 만들어졌습니다 0 원이 충전 되었습니다.\n",
            "카드가 만들어졌습니다 0 원이 충전 되었습니다.\n",
            "100000 원이 충전되었습니다\n"
          ],
          "name": "stdout"
        }
      ]
    },
    {
      "cell_type": "markdown",
      "metadata": {
        "id": "BPgaH__2KHF8"
      },
      "source": [
        "설명: 여기서 5000000은 num 변수에 들어가고 양건준_card 객체 이름은 self 매개변수에 들어가서 양건준_card에 5000000 충전했다는 것을 나타내는 것입니다."
      ]
    },
    {
      "cell_type": "code",
      "metadata": {
        "colab": {
          "base_uri": "https://localhost:8080/"
        },
        "id": "BrQmjBySJrIQ",
        "outputId": "60dfb1e8-05c4-473c-f957-997073fb5f31"
      },
      "source": [
        ""
      ],
      "execution_count": 9,
      "outputs": [
        {
          "output_type": "stream",
          "text": [
            "카드가 만들어졌습니다 0 원이 충전 되었습니다.\n",
            "카드가 만들어졌습니다 0 원이 충전 되었습니다.\n",
            "카드가 만들어졌습니다 0 원이 충전 되었습니다.\n",
            "100000 원이 충전되었습니다\n"
          ],
          "name": "stdout"
        }
      ]
    },
    {
      "cell_type": "markdown",
      "metadata": {
        "id": "DmE401e6IrZc"
      },
      "source": [
        "# 52. 클래스 생성자 이해하기\n",
        "\n",
        "- 클래스의 인스턴스 객체가 생성될 때 자동적으로 호출되는 메소드가 클래스 생성자\n",
        "- 클래스 생성자는 `__init__(self): `입니다.\n",
        "\n",
        "카드의 기능\n",
        "0. 카드가 처음 만들어질때 0원으로 충전되게끔 하는 메세지\n",
        "1. 충전\n",
        "2. 소비"
      ]
    },
    {
      "cell_type": "code",
      "metadata": {
        "id": "9c60K5X2Nl_f"
      },
      "source": [
        "# 예제\n",
        "class Card():\n",
        "    def __init__(self):  # Class 생성자 메소드\n",
        "        self.cash = 0\n",
        "        print('카드가 발급되었습니다.', self.cash,'가 충전되어 있습니다.')\n",
        "\n",
        "ljh_card=Card()  # 객체(제품)를 생성하는 명령어"
      ],
      "execution_count": null,
      "outputs": []
    },
    {
      "cell_type": "markdown",
      "metadata": {
        "id": "uIRRetHdMDgX"
      },
      "source": [
        "예제:  \n",
        "\n",
        "문제167. 총 클래스를 생성하는데 총 클래스로 아래와 같이 총(제품)을 생성하면 \"총이 만들어졌습니다. 총알은 0발 장전되었습니다.'라는 메세지가 출력되게 총 클래스를 만드시오."
      ]
    },
    {
      "cell_type": "code",
      "metadata": {
        "colab": {
          "base_uri": "https://localhost:8080/"
        },
        "id": "Mw0vGaRSMXvX",
        "outputId": "b778be29-1341-47cc-af2a-af05c25bc748"
      },
      "source": [
        "class Gun():\n",
        "  def __init__(self):\n",
        "    self.bullet = 0\n",
        "    print('총이 만들어졌습니다. 총알은 ',self.bullet,'발 장전되었습니다.')\n",
        "\n",
        "yys_gun1 = Gun()"
      ],
      "execution_count": 19,
      "outputs": [
        {
          "output_type": "stream",
          "text": [
            "총이 만들어졌습니다. 총알은  0 발 장전되었습니다.\n"
          ],
          "name": "stdout"
        }
      ]
    },
    {
      "cell_type": "markdown",
      "metadata": {
        "id": "tcMnGd6_NK_N"
      },
      "source": [
        "콤마로 구분하면 0 발 이렇게 자연스럽지 못하다. 문자로 %d하면 자연스러워진다.  \n",
        "\n",
        "문제168. 문자열 포멧을 이용해서 위의 메세지를 더 자연스럽게 출력되게 하시오!"
      ]
    },
    {
      "cell_type": "code",
      "metadata": {
        "colab": {
          "base_uri": "https://localhost:8080/"
        },
        "id": "pHjakxMIR1Zi",
        "outputId": "efed38af-a002-4580-bec5-e0def1817985"
      },
      "source": [
        "class Gun():\n",
        "  def __init__(self):\n",
        "    self.bullet = 0\n",
        "    print('총이 만들어졌습니다. 총알은 %d발 장전되었습니다.'%self.bullet)\n",
        "\n",
        "yys_gun1 = Gun()"
      ],
      "execution_count": 20,
      "outputs": [
        {
          "output_type": "stream",
          "text": [
            "총이 만들어졌습니다. 총알은 0발 장전되었습니다.\n"
          ],
          "name": "stdout"
        }
      ]
    },
    {
      "cell_type": "markdown",
      "metadata": {
        "id": "a9YbJ9HAR6Rc"
      },
      "source": [
        "# 53. 클래스 소멸자 이해하기  \n",
        "\n",
        "객체가 사라질 때 자동으로 호출되는 함수를 소멸자(__del__) 이라고 합니다.  \n",
        "\n",
        "예: 총 클래스로 yys_gun1 이라는 총을 만들고 총을 사용하다가 이제 총을 폐기하고 싶으면 del 명령어로 총을 폐기하면 되는데 이 때 자동으로 작동되는 메소드(함수)가 소멸자 함수입니다.  \n",
        "\n",
        "예제:"
      ]
    },
    {
      "cell_type": "code",
      "metadata": {
        "colab": {
          "base_uri": "https://localhost:8080/"
        },
        "id": "qaIxVSvdSa6i",
        "outputId": "25461e56-44e9-4b42-b90c-0d184edd7c81"
      },
      "source": [
        "class Gun():\n",
        "  def __init__(self):\n",
        "    self.bullet = 0\n",
        "    print('총 한정이 생성되었습니다.')\n",
        "    \n",
        "  def __del__(self):\n",
        "    print('총이 폐기 되었습니다.')\n",
        "\n",
        "yys_gun1 = Gun()\n",
        "del yys_gun1"
      ],
      "execution_count": 21,
      "outputs": [
        {
          "output_type": "stream",
          "text": [
            "총 한정이 생성되었습니다.\n",
            "총이 폐기 되었습니다.\n"
          ],
          "name": "stdout"
        }
      ]
    },
    {
      "cell_type": "markdown",
      "metadata": {
        "id": "-2oKn24QTPQ-"
      },
      "source": [
        "# 54. 클래스 상속 이해하기\n",
        "\n",
        "클래스는 상속이라는 특성을 가지고 있는 이름 공간입니다.  \n",
        "클래스에서 상속이란 어떤 클래스가 가지고 있는 멤버(변수)나 메소드(함수)를 상속받는 클래스가 모두 사용할 수 있도록 해주는 것 입니다.  \n",
        "상속을 해주는 클래스를 부모 클래스 또는 슈퍼 클래스라고 하고 상속을 받는 클래스를 자식 클래스 또는 서브 클래스라고 합니다.  \n",
        "부모 클래스로부터 상속을 받아 자식 클래스를 정의하는 방법은 다음과 같습니다.  \n",
        "\n",
        "예제:\n",
        "```\n",
        "class 자식클래스이름(부모클래스이름):  \n",
        "```\n",
        "설명: 자식 클래스는 부모 클래스에서 정의된 모든 멤버와 메소드를 그대로 상속 받습니다.  \n",
        "\n",
        "1. 팀장님이 카드의 주요 기능을 담고 있는 Card() 클래스를 생성한다.  \n",
        "\n",
        "2. 팀원인 나는 영화할인 카드 클래스를 만들것인데 팀장님이 구현한 카드의 주요기능을 Card() 클래스로부터 다 상속받고 나는 팀장님이 구현한 코드는 구현하지 않습니다. 나는 그냥 영화할인에 집중해서 메소드를 만들면 됩니다.  \n",
        "\n",
        "예제: 팀장님이 만든 카드 class(카드 설계도) 부모클래스\n",
        "1. 카드가 발급되었을 때 0원이 충전되게 하는 기능 : __init__(self)\n",
        "2. 카드를 충전하는 기능 : charge(self, num)\n",
        "3. 카드를 쓰는 기능 : consume(self, num)"
      ]
    },
    {
      "cell_type": "code",
      "metadata": {
        "colab": {
          "base_uri": "https://localhost:8080/"
        },
        "id": "1YbVABhbUiZR",
        "outputId": "53d9be22-92e6-4a2c-c3c4-c899fa1d7054"
      },
      "source": [
        "class Card(): # 부모 클래스\n",
        "  def __init__(self):\n",
        "    self.cash = 0\n",
        "    print('카드가 발급되었습니다.')\n",
        "\n",
        "  def charge(self, num):\n",
        "    self.cash += num\n",
        "    print('%s원이 충전되었습니다'%num)\n",
        "\n",
        "  def consume(self, num):\n",
        "    if self.cash >= num:\n",
        "      self.cash -= num\n",
        "      print('%s원이 사용되었습니다.'%num)\n",
        "    else:\n",
        "      print('잔액이 부족합니다.')\n",
        "\n",
        "yys_card1 = Card()\n",
        "yys_card1.charge(10000)\n",
        "yys_card1.consume(8000)"
      ],
      "execution_count": 42,
      "outputs": [
        {
          "output_type": "stream",
          "text": [
            "카드가 발급되었습니다.\n",
            "10000원이 충전되었습니다\n",
            "8000원이 사용되었습니다.\n"
          ],
          "name": "stdout"
        }
      ]
    },
    {
      "cell_type": "markdown",
      "metadata": {
        "id": "jqa05ID3XKFy"
      },
      "source": [
        "문제169. 충전한 금액보다 더 많은 금액을 소비하면 어떻게 되는지 테스트하시오!"
      ]
    },
    {
      "cell_type": "code",
      "metadata": {
        "colab": {
          "base_uri": "https://localhost:8080/"
        },
        "id": "9tUfcfrlXOYC",
        "outputId": "bf6feb5a-53c0-4ec2-a0e8-5ea89809993a"
      },
      "source": [
        "yys_card1.consume(8000)"
      ],
      "execution_count": 45,
      "outputs": [
        {
          "output_type": "stream",
          "text": [
            "잔액이 부족합니다.\n"
          ],
          "name": "stdout"
        }
      ]
    },
    {
      "cell_type": "markdown",
      "metadata": {
        "id": "GQiGIdMkX8Zr"
      },
      "source": [
        "문제170. 팀장님이 만든 Card() 클래스를 상속받아 영화할인 카드를 생성하시오! (영화할인 카드 클래스: Movie_Card())"
      ]
    },
    {
      "cell_type": "code",
      "metadata": {
        "id": "TFWFMHp0YEsZ"
      },
      "source": [
        "class Movie_Card( Card ):\n",
        " pass # 일단 넘어가겠다."
      ],
      "execution_count": 48,
      "outputs": []
    },
    {
      "cell_type": "code",
      "metadata": {
        "colab": {
          "base_uri": "https://localhost:8080/"
        },
        "id": "eI4mXT3OYTYM",
        "outputId": "e55912ba-4ffa-456d-e7c2-55ee4bc2d9c3"
      },
      "source": [
        "m_card1 = Movie_Card()\n",
        "m_card1.charge(100000)\n",
        "m_card1.consume(8000)"
      ],
      "execution_count": 65,
      "outputs": [
        {
          "output_type": "stream",
          "text": [
            "카드가 발급되었습니다.\n",
            "100000원이 충전되었습니다\n",
            "8000원이 사용되었습니다.\n"
          ],
          "name": "stdout"
        }
      ]
    },
    {
      "cell_type": "markdown",
      "metadata": {
        "id": "kgTNkcRWaEWy"
      },
      "source": [
        "문제171. 이번에는 제대로 영화관에서 사용하면 할인이 될 수 있도록 영화 클래스를 생성하시오!"
      ]
    },
    {
      "cell_type": "code",
      "metadata": {
        "colab": {
          "base_uri": "https://localhost:8080/"
        },
        "id": "M5K9AvS5cGDE",
        "outputId": "8c85ed1d-bc6d-471e-bf91-3267db422430"
      },
      "source": [
        "class  Movie_Card( Card ):\n",
        "    def  consume(self, num, place):  # 덮어쓰기 개념\n",
        "        if  place=='영화관':\n",
        "            num = 0.8 * num\n",
        "            if  self.cash >= num:\n",
        "                self.cash -= num\n",
        "                print( place, '에서 ', num, '원이 사용되었습니다.')\n",
        "            else:\n",
        "                print('잔액이 부족합니다')\n",
        "        else:\n",
        "            if  self.cash >= num:\n",
        "                self.cash -= num\n",
        "                print ( place, '에서', num, '원이 사용되었습니다.')\n",
        "            else:\n",
        "                print('잔액이 부족합니다')\n",
        "\n",
        "m_card1 = Movie_Card()\n",
        "m_card1.charge(20000)\n",
        "m_card1.consume(12000,'영화관')\n",
        "m_card1.consume(2000,'편의점') "
      ],
      "execution_count": 67,
      "outputs": [
        {
          "output_type": "stream",
          "text": [
            "카드가 발급되었습니다.\n",
            "20000원이 충전되었습니다\n",
            "영화관 에서  9600.0 원이 사용되었습니다.\n",
            "편의점 에서 2000 원이 사용되었습니다.\n"
          ],
          "name": "stdout"
        }
      ]
    },
    {
      "cell_type": "code",
      "metadata": {
        "colab": {
          "base_uri": "https://localhost:8080/"
        },
        "id": "rGhggriwaK3N",
        "outputId": "91c1ea03-05af-4a4e-8683-105152525bc8"
      },
      "source": [
        "class Movie_Card(Card):\n",
        "  def consume(self, num, place):\n",
        "    if place == '영화관':\n",
        "      num = 0.8 * num\n",
        "      Card.consume(self,num) # place 개념이 없기 때문에 부모클래스 Card에 place 개념을 넣어줘야 한다.\n",
        "    else:\n",
        "      Card.consume(self,num)\n",
        "\n",
        "m_card1 = Movie_Card()\n",
        "m_card1.charge(10000)\n",
        "m_card1.consume(8000,'영화관')\n",
        "m_card1.consume(4000,'편의점') "
      ],
      "execution_count": 78,
      "outputs": [
        {
          "output_type": "stream",
          "text": [
            "카드가 발급되었습니다.\n",
            "10000원이 충전되었습니다\n",
            "6400.0원이 사용되었습니다.\n",
            "잔액이 부족합니다.\n"
          ],
          "name": "stdout"
        }
      ]
    },
    {
      "cell_type": "markdown",
      "metadata": {
        "id": "hapmFxOOd8Di"
      },
      "source": [
        "처음부터 고쳐보자"
      ]
    },
    {
      "cell_type": "code",
      "metadata": {
        "colab": {
          "base_uri": "https://localhost:8080/"
        },
        "id": "3-6ky8vjd9YR",
        "outputId": "d1560608-98a5-41a2-e1f8-82dda7204d61"
      },
      "source": [
        "class  Card(): # 부모 클래스\n",
        "    def  __init__(self):\n",
        "       self.cash = 0\n",
        "       print  ('카드가 발급되었습니다.')\n",
        "    \n",
        "    def  charge(self, num):\n",
        "        self.cash += num\n",
        "        print ( f'{num}원이 충전되었습니다.')\n",
        "\n",
        "    def  consume(self, num, place):\n",
        "        if  self.cash >= num:  # 잔액이 소비하는 돈보다 커야지만 쓸 수있게\n",
        "            self.cash -= num\n",
        "            if place != '':\n",
        "              print (f'{place}에서 {int(num)}원이 사용되었습니다.')\n",
        "            else:\n",
        "              print (f'{int(num)}원이 사용되었습니다.')\n",
        "        else:\n",
        "            print ('잔액이 부족합니다')\n",
        "            \n",
        "\n",
        "class  Movie_Card( Card ):          # 부모에게 __init__, charge, consume를 상속받았다.\n",
        "    def  consume(self, num, place): # 부모에게 받은 consume는 내가 만든 consume로 덮어쓰기(over riding)됩니다.\n",
        "        if  place=='영화관':\n",
        "            num = 0.8 * num\n",
        "            Card.consume(self,num,place)\n",
        "        else:\n",
        "            Card.consume(self,num,place)\n",
        "\n",
        "m_card1 = Movie_Card()\n",
        "m_card1.charge(12000)\n",
        "m_card1.consume(12000,'영화관')\n",
        "m_card1.consume(2000,'편의점') \n",
        "m_card1.consume(2000,'교통카드') "
      ],
      "execution_count": 123,
      "outputs": [
        {
          "output_type": "stream",
          "text": [
            "카드가 발급되었습니다.\n",
            "12000원이 충전되었습니다.\n",
            "영화관에서 9600원이 사용되었습니다.\n",
            "편의점에서 2000원이 사용되었습니다.\n",
            "잔액이 부족합니다\n"
          ],
          "name": "stdout"
        }
      ]
    },
    {
      "cell_type": "markdown",
      "metadata": {
        "id": "OhtG_uEmhoqN"
      },
      "source": [
        "문제172. 위의 영화할인 카드에 할인 장소를 추가해서 주유소에서도 20% 할인될 수 있도록 코드를 수정하시오!"
      ]
    },
    {
      "cell_type": "code",
      "metadata": {
        "colab": {
          "base_uri": "https://localhost:8080/"
        },
        "id": "jGqr1DSJhuGE",
        "outputId": "daa384b3-6dd8-4ae5-ef7b-d22063e7413d"
      },
      "source": [
        "class  Movie_Card( Card ):          # 부모에게 __init__, charge, consume를 상속받았다.\n",
        "    def  consume(self, num, place): # 부모에게 받은 consume는 내가 만든 consume로 덮어쓰기(over riding)됩니다.\n",
        "        if  place in ('영화관','주유소'):\n",
        "            num *= 0.8\n",
        "            Card.consume(self,num,place)\n",
        "        else:\n",
        "            Card.consume(self,num,place)\n",
        "\n",
        "m_card1 = Movie_Card()\n",
        "m_card1.charge(50000)\n",
        "m_card1.consume(12000,'영화관')\n",
        "m_card1.consume(2000,'편의점') \n",
        "m_card1.consume(30000,'주유소') "
      ],
      "execution_count": 95,
      "outputs": [
        {
          "output_type": "stream",
          "text": [
            "카드가 발급되었습니다.\n",
            "50000 원이 충전되었습니다.\n",
            "영화관 에서  9600.0 원이 사용되었습니다.\n",
            "편의점 에서  2000 원이 사용되었습니다.\n",
            "주유소 에서  24000.0 원이 사용되었습니다.\n"
          ],
          "name": "stdout"
        }
      ]
    },
    {
      "cell_type": "markdown",
      "metadata": {
        "id": "uRvarSIri3Ke"
      },
      "source": [
        "문제173. (점심시간 문제) 영화관과 주유소에서는 20% 할인되게 하고 스타벅스에서는 10% 할인되게 코드를 수정하시오."
      ]
    },
    {
      "cell_type": "code",
      "metadata": {
        "colab": {
          "base_uri": "https://localhost:8080/"
        },
        "id": "T1rNE_7qi7zU",
        "outputId": "ba1fee41-78ca-42ed-f59a-307f54ff3ba3"
      },
      "source": [
        "class  Movie_Card( Card ):\n",
        "    def  consume(self, num, place):\n",
        "        if  place in ('영화관','주유소'):\n",
        "            num *= 0.8\n",
        "            Card.consume(self,num,place)\n",
        "        elif place == '스타벅스':\n",
        "            num *= 0.9\n",
        "            Card.consume(self,num,place)\n",
        "        else:\n",
        "            Card.consume(self,num,place)\n",
        "\n",
        "m_card1 = Movie_Card()\n",
        "m_card1.charge(100000)\n",
        "m_card1.consume(12000,'영화관')\n",
        "m_card1.consume(30000,'주유소')\n",
        "m_card1.consume(6000,'스타벅스') \n",
        "m_card1.consume(2000,'편의점')  "
      ],
      "execution_count": 100,
      "outputs": [
        {
          "output_type": "stream",
          "text": [
            "카드가 발급되었습니다.\n",
            "100000 원이 충전되었습니다.\n",
            "영화관 에서  9600.0 원이 사용되었습니다.\n",
            "주유소 에서  24000.0 원이 사용되었습니다.\n",
            "스타벅스 에서  5400.0 원이 사용되었습니다.\n",
            "편의점 에서  2000 원이 사용되었습니다.\n"
          ],
          "name": "stdout"
        }
      ]
    },
    {
      "cell_type": "markdown",
      "metadata": {
        "id": "RryyCQTpvD_y"
      },
      "source": [
        "세원이형 답변보고 수정함 Card.consume을 마지막을 옮김"
      ]
    },
    {
      "cell_type": "code",
      "metadata": {
        "colab": {
          "base_uri": "https://localhost:8080/"
        },
        "id": "CJAj0fMitfOu",
        "outputId": "27abbcda-dd6c-4867-a31b-c9399d777a66"
      },
      "source": [
        "\n",
        "class Movie_Card(Card): \n",
        "    def  consume(self, num, place):\n",
        "        if  place in ('영화관','주유소'):\n",
        "            num *= 0.8\n",
        "        elif place == '스타벅스':\n",
        "            num *= 0.9\n",
        "        else:\n",
        "            pass\n",
        "        Card.consume(self,num,place)\n",
        "\n",
        "m_card1 = Movie_Card()\n",
        "m_card1.charge(100000)\n",
        "m_card1.consume(12000,'영화관')\n",
        "m_card1.consume(30000,'주유소')\n",
        "m_card1.consume(6000,'스타벅스') \n",
        "m_card1.consume(2000,'편의점')  "
      ],
      "execution_count": 126,
      "outputs": [
        {
          "output_type": "stream",
          "text": [
            "카드가 발급되었습니다.\n",
            "100000원이 충전되었습니다.\n",
            "영화관에서 9600원이 사용되었습니다.\n",
            "주유소에서 24000원이 사용되었습니다.\n",
            "스타벅스에서 5400원이 사용되었습니다.\n",
            "편의점에서 2000원이 사용되었습니다.\n"
          ],
          "name": "stdout"
        }
      ]
    },
    {
      "cell_type": "code",
      "metadata": {
        "colab": {
          "base_uri": "https://localhost:8080/"
        },
        "id": "oNzRWxYfxt6i",
        "outputId": "69edd16b-7b4f-4d22-89d3-2afcb15768d5"
      },
      "source": [
        "\n",
        "class Movie_Card(Card): \n",
        "    def  consume(self, num, place =''): # 장소에 에러처리\n",
        "        if  place in ('영화관','주유소'):\n",
        "            num *= 0.8\n",
        "        elif place == '스타벅스':\n",
        "            num *= 0.9\n",
        "        else:\n",
        "            pass\n",
        "        Card.consume(self,num,place)\n",
        "\n",
        "m_card1 = Movie_Card()\n",
        "m_card1.charge(100000)\n",
        "m_card1.consume(12000,'영화관')\n",
        "m_card1.consume(30000,'주유소')\n",
        "m_card1.consume(6000,'스타벅스') \n",
        "m_card1.consume(2000,'편의점')  "
      ],
      "execution_count": 125,
      "outputs": [
        {
          "output_type": "stream",
          "text": [
            "카드가 발급되었습니다.\n",
            "100000원이 충전되었습니다.\n",
            "12000원이 사용되었습니다.\n",
            "주유소에서 24000원이 사용되었습니다.\n",
            "스타벅스에서 5400원이 사용되었습니다.\n",
            "편의점에서 2000원이 사용되었습니다.\n"
          ],
          "name": "stdout"
        }
      ]
    },
    {
      "cell_type": "markdown",
      "metadata": {
        "id": "MjMUp6ln6jZm"
      },
      "source": [
        "# 50. 클래스 멤버와 인스턴스 멤버 이해하기  \n",
        "\n",
        "클래스에서 선언된 변수는 클래스 멤버(변수)와 인스턴스 멤버(변수)가 있습니다. 클래스 멤버는 클래스 메소드 바깥에서 선언되고 인스턴스 멤버는 클래스 메소드 안에서 self와 함께 선언되는 변수입니다.  \n",
        "\n",
        "예제: 사원이 입사한 사원에 대한 이메일을 자동으로 생성하고 이름을 출력하는 함수와 월급을 인상하는 함수를 담는 클래스를 생성\n",
        "메모장에 저장된 내용을 붙여넣어봅시다.\n",
        "\n"
      ]
    },
    {
      "cell_type": "code",
      "metadata": {
        "colab": {
          "base_uri": "https://localhost:8080/"
        },
        "id": "aLZvCOzx7RRU",
        "outputId": "ec45daf9-b92e-447b-ee8e-70c9bef945bf"
      },
      "source": [
        "\n",
        "class  Employees:  # 옆에 괄호()를 따로 안 쓴 이유는 밑에 __init__함수에 입력매개변수가 여러개여서\n",
        "    raise_amount = 1.1  # 클래스 변수(클래스 멤버)\n",
        "    def __init__(self, first, last, pay): # 클래스(설계도)를 사용해서 객체가 만들어질때 바로 작동되는 함수\n",
        "        self.first = first\n",
        "        self.last  = last\n",
        "        self.pay   = pay\n",
        "        self.email = first.lower() + '.' + last.lower() + '@gmail.com'\n",
        "        self.raise_amount = 1.1  # 인스턴스 변수\n",
        "\n",
        "    def  full_name(self): #사원의 전체이름을 출력하는 함수\n",
        "        return  '{} {}'.format(self.first, self.last)\n",
        "\n",
        "    def  apply_raise(self): # 월급을 인상하는 함수\n",
        "        self.pay = int( self.pay * self.raise_amount)\n",
        "\n",
        "emp_chulsu = Employees('chulsu', 'kim', 5000000) #Gun이랑 다르게 객체를 생성할 때 입력값을 넣어주었다. init이 실행되니까\n",
        "print(emp_chulsu.pay)   # 5000000                 입력되면서 객체(제품)이 만들어 집니다.\n",
        "emp_chulsu.apply_raise()\n",
        "print(emp_chulsu.pay)  # 5500000\n",
        "\n",
        "emp_chulsu2 = Employees('chulsu2', 'kim', 5000000)\n",
        "emp_chulsu2.raise_amount = 1.2\n",
        "print(emp_chulsu2.pay)   # 5000000\n",
        "emp_chulsu2.apply_raise()\n",
        "print(emp_chulsu2.pay)  # 6000000\n",
        "\n",
        "\n",
        "class  Employees:\n",
        "    raise_amount = 1.1  # 클래스 변수\n",
        "    def __init__(self, first, last, pay): # 객체가 만들어질때\n",
        "        self.first = first               # 바로 작동되는 함수\n",
        "        self.last  = last\n",
        "        self.pay   = pay\n",
        "        self.email = first.lower() + '.' + last.lower() + '@gmail.com'\n",
        "        self.raise_amount = 1.1  # 인스턴스 변수\n",
        "\n",
        "    def  full_name(self): #사원의 전체이름을 출력하는 함수\n",
        "        return  '{} {}'.format(self.first, self.last)\n",
        "\n",
        "    def  apply_raise(self): # 월급을 인상하는 함수\n",
        "        self.pay = int( self.pay * Employees.raise_amount)  # 클래스 변수를 사용 \n",
        "# 차이점 여기!!                   아까는 여기가 self였는데 지금은 클래스 이름인 Employee가 있다.\n",
        "\n",
        "emp_chulsu2 = Employees('chulsu2', 'kim', 5000000)\n",
        "\n",
        "emp_chulsu2.raise_amount = 1.2   # 인스턴스 변수만 변경할 수 있고 클래스 변수는\n",
        "                                             # 변경할 수 없다. \n",
        "\n",
        "print(emp_chulsu2.pay)   # 5000000\n",
        "emp_chulsu2.apply_raise()\n",
        "print(emp_chulsu2.pay)  # 6000000\n",
        "\n"
      ],
      "execution_count": 11,
      "outputs": [
        {
          "output_type": "stream",
          "text": [
            "5000000\n",
            "5500000\n",
            "5000000\n",
            "6000000\n",
            "5000000\n",
            "5500000\n"
          ],
          "name": "stdout"
        }
      ]
    },
    {
      "cell_type": "markdown",
      "metadata": {
        "id": "K4PIOz2-ArMx"
      },
      "source": [
        "문제174. 위에서 생성한 객체 emp_chulsu의 email 변수에 있는 내용을 출력해보시오!"
      ]
    },
    {
      "cell_type": "code",
      "metadata": {
        "colab": {
          "base_uri": "https://localhost:8080/"
        },
        "id": "0W07OT8JA6-Y",
        "outputId": "3e159531-e23c-435c-9f34-14b3bf96c768"
      },
      "source": [
        "print(emp_chulsu.email)\n",
        "print(emp_chulsu.pay)"
      ],
      "execution_count": 9,
      "outputs": [
        {
          "output_type": "stream",
          "text": [
            "chulsu.kim@gmail.com\n",
            "6050000\n"
          ],
          "name": "stdout"
        }
      ]
    },
    {
      "cell_type": "markdown",
      "metadata": {
        "id": "kXgz22EUBQ6f"
      },
      "source": [
        "문제175. 철수의 월급을 회사규정에 따라 인상시키시오!\n"
      ]
    },
    {
      "cell_type": "code",
      "metadata": {
        "id": "5Ubk3ltmBHdQ"
      },
      "source": [
        "emp_chulsu.apply_raise()"
      ],
      "execution_count": 7,
      "outputs": []
    },
    {
      "cell_type": "markdown",
      "metadata": {
        "id": "wRxXULeSBn95"
      },
      "source": [
        "문제176. 이번에는 새로운 사원 철수2로 emp_chulsu2 객체를 생성하시오"
      ]
    },
    {
      "cell_type": "code",
      "metadata": {
        "id": "Qy7Y3IimBnvs"
      },
      "source": [
        "emp_chulsu2 = Employees('chulsu2','kim',5000000)"
      ],
      "execution_count": 10,
      "outputs": []
    },
    {
      "cell_type": "markdown",
      "metadata": {
        "id": "OGaTRuogCGHm"
      },
      "source": [
        "문제177. 철수2 사원이 월급을 인상시키기 위한 인스턴스 변수를 알아냈습니다. 자기는 월급을 10% 인상이 아니라 20% 인상시키고 싶어서 아래와 같이 emp_chulsu2 객체의 멤버인 raise_amount라는 변수에 1.2를 할당하고 월급을 인상시키는 apply_raise() 메소드를 실행을 했다."
      ]
    },
    {
      "cell_type": "code",
      "metadata": {
        "id": "yqPlWrxECxcS"
      },
      "source": [
        "emp_chulsu2 = Employees('chulsu2', 'kim', 5000000)\n",
        "emp_chulsu2.raise_amount = 1.2"
      ],
      "execution_count": null,
      "outputs": []
    },
    {
      "cell_type": "markdown",
      "metadata": {
        "id": "eMHCQOcUC_CB"
      },
      "source": [
        "문제178. 그래서 위와 같이 악용이 될 수 없도록 막는 방법이 무엇입니까?"
      ]
    },
    {
      "cell_type": "code",
      "metadata": {
        "id": "fzG6VBMtDDpb"
      },
      "source": [
        "\n",
        "    def  apply_raise(self): # 월급을 인상하는 함수\n",
        "        self.pay = int( self.pay * Employees.raise_amount) "
      ],
      "execution_count": null,
      "outputs": []
    },
    {
      "cell_type": "markdown",
      "metadata": {
        "id": "embIf6HTD1W1"
      },
      "source": [
        "클래스 변수를 쓰게 되면 클래스 객체 생기고 나서 바꾸려고 해도 바꿀 수 없다. 인스턴스 변수만 변경할 수 있고 클래스 변수 변경할 수 없다.  \n",
        "\n",
        "설명: 위와 같이 민감한 변수(멤버)들은 인스턴스 변수가 아니라 클래스 변수(멤버)를 사용해서 계산되게 코딩해야 합니다.  \n",
        "\n",
        "클래스 내의 변수는 2개가 있는데  \n",
        "\n",
        "1. 클래스 변수: 메소드 바깥의 변수. 객체 생성 이후에 안의 값을 변경할 수 없다.  \n",
        "\n",
        "2. 인스턴스 변수: 메소드 안의 변수. 객체 생성 이후에 안의 값을 변경할 수 있다.\n",
        "\n"
      ]
    },
    {
      "cell_type": "markdown",
      "metadata": {
        "id": "1zqrqvA5JHok"
      },
      "source": [
        "# 55. 예외처리 이해하기 1 (try ~ except)\n",
        "\n",
        "프로그램을 작성하다 보면 뜻하지 않은 오류가 발생하는 코드가 있을 수 있습니다. 프로그램이 실행되는 동안 오류가 발생하면 프로그램이 더이상 진행될 수 없는 상태가 도는데 이를 예외상황이라고 합니다. 프로그램에 예외가 발생하더라도 프로그램을 중단 시키지 않고 예외에 대한 적절한 처리를 하여 프로그램을 계속 진행시킬 수 있도록 하는 구문이 try ~ except 입니다.  \n",
        "\n",
        "예제:\n",
        "```\n",
        "try: \n",
        "    문제가 없을 경우 실행할 코드\n",
        "except:\n",
        "    문제가 생겼을 때 실행할 코드\n",
        "```\n",
        "\n",
        "예제1. try ~ except 를 사용해서 예외처리를 하지 않았을 때의 코드"
      ]
    },
    {
      "cell_type": "code",
      "metadata": {
        "id": "coDcvB-EJsMB"
      },
      "source": [
        "def my_divide():\n",
        "  x = input('분자의 숫자를 입력하세요')\n",
        "  y = input('분모의 숫자를 입력하세요')\n",
        "  return(int(x)/int(y))"
      ],
      "execution_count": 15,
      "outputs": []
    },
    {
      "cell_type": "markdown",
      "metadata": {
        "id": "7b2ZrZwyKqSU"
      },
      "source": [
        "실행해보자"
      ]
    },
    {
      "cell_type": "code",
      "metadata": {
        "colab": {
          "base_uri": "https://localhost:8080/"
        },
        "id": "M1lCOFAxKmJL",
        "outputId": "6d2d26b5-0a39-4267-c70d-da0477b380cc"
      },
      "source": [
        "print(my_divide())"
      ],
      "execution_count": 21,
      "outputs": [
        {
          "output_type": "stream",
          "text": [
            "분자의 숫자를 입력하세요10\n",
            "분모의 숫자를 입력하세요4\n",
            "2.5\n"
          ],
          "name": "stdout"
        }
      ]
    },
    {
      "cell_type": "markdown",
      "metadata": {
        "id": "ilguON4ZKrk4"
      },
      "source": [
        "잘 된다. 그런데 분모에 0 넣어보자"
      ]
    },
    {
      "cell_type": "code",
      "metadata": {
        "colab": {
          "base_uri": "https://localhost:8080/",
          "height": 298
        },
        "id": "KeW7J9CRKxD-",
        "outputId": "531fb496-83d6-4fcf-a3fe-fb2cb71278a7"
      },
      "source": [
        "print(my_divide())"
      ],
      "execution_count": 18,
      "outputs": [
        {
          "output_type": "stream",
          "text": [
            "분자의 숫자를 입력하세요10\n",
            "분모의 숫자를 입력하세요0\n"
          ],
          "name": "stdout"
        },
        {
          "output_type": "error",
          "ename": "ZeroDivisionError",
          "evalue": "ignored",
          "traceback": [
            "\u001b[0;31m---------------------------------------------------------------------------\u001b[0m",
            "\u001b[0;31mZeroDivisionError\u001b[0m                         Traceback (most recent call last)",
            "\u001b[0;32m<ipython-input-18-468ee8d2edc1>\u001b[0m in \u001b[0;36m<module>\u001b[0;34m()\u001b[0m\n\u001b[0;32m----> 1\u001b[0;31m \u001b[0mprint\u001b[0m\u001b[0;34m(\u001b[0m\u001b[0mmy_divide\u001b[0m\u001b[0;34m(\u001b[0m\u001b[0;34m)\u001b[0m\u001b[0;34m)\u001b[0m\u001b[0;34m\u001b[0m\u001b[0;34m\u001b[0m\u001b[0m\n\u001b[0m",
            "\u001b[0;32m<ipython-input-15-4956c15c3ee5>\u001b[0m in \u001b[0;36mmy_divide\u001b[0;34m()\u001b[0m\n\u001b[1;32m      2\u001b[0m   \u001b[0mx\u001b[0m \u001b[0;34m=\u001b[0m \u001b[0minput\u001b[0m\u001b[0;34m(\u001b[0m\u001b[0;34m'분자의 숫자를 입력하세요'\u001b[0m\u001b[0;34m)\u001b[0m\u001b[0;34m\u001b[0m\u001b[0;34m\u001b[0m\u001b[0m\n\u001b[1;32m      3\u001b[0m   \u001b[0my\u001b[0m \u001b[0;34m=\u001b[0m \u001b[0minput\u001b[0m\u001b[0;34m(\u001b[0m\u001b[0;34m'분모의 숫자를 입력하세요'\u001b[0m\u001b[0;34m)\u001b[0m\u001b[0;34m\u001b[0m\u001b[0;34m\u001b[0m\u001b[0m\n\u001b[0;32m----> 4\u001b[0;31m   \u001b[0;32mreturn\u001b[0m\u001b[0;34m(\u001b[0m\u001b[0mint\u001b[0m\u001b[0;34m(\u001b[0m\u001b[0mx\u001b[0m\u001b[0;34m)\u001b[0m\u001b[0;34m/\u001b[0m\u001b[0mint\u001b[0m\u001b[0;34m(\u001b[0m\u001b[0my\u001b[0m\u001b[0;34m)\u001b[0m\u001b[0;34m)\u001b[0m\u001b[0;34m\u001b[0m\u001b[0;34m\u001b[0m\u001b[0m\n\u001b[0m",
            "\u001b[0;31mZeroDivisionError\u001b[0m: division by zero"
          ]
        }
      ]
    },
    {
      "cell_type": "markdown",
      "metadata": {
        "id": "Hss-52fcKvGq"
      },
      "source": [
        "에러난다. 이 때 try except를 써준다.  \n",
        "수정해보자"
      ]
    },
    {
      "cell_type": "code",
      "metadata": {
        "id": "a0vKqzOzLW3q"
      },
      "source": [
        "def my_divide():\n",
        "  try:\n",
        "    x = input('분자의 숫자를 입력하세요')\n",
        "    y = input('분모의 숫자를 입력하세요')\n",
        "    return(int(x)/int(y))\n",
        "  except:\n",
        "    return('잘못된 값을 입력하셔서 나누기를 할 수 없습니다.')"
      ],
      "execution_count": 19,
      "outputs": []
    },
    {
      "cell_type": "markdown",
      "metadata": {
        "id": "w1mW31gHL4ym"
      },
      "source": [
        "설명: try와 except 사이에 코드가 잘 실행이 된다면 except 이후의 문장은 실행하지 않고 try와 except 사이에 코드가 실행이 안된다면 except 이후의 문장을 실행한다.  \n",
        "\n",
        "문제179. 판다스를 이용해서 emp3.csv에서 이름과 월급을 출력하시오."
      ]
    },
    {
      "cell_type": "code",
      "metadata": {
        "id": "zq4jvfYUMtYT"
      },
      "source": [
        "from google.colab import files         # 파일 직접 업로드\n",
        "myfile = files.upload()"
      ],
      "execution_count": null,
      "outputs": []
    },
    {
      "cell_type": "code",
      "metadata": {
        "colab": {
          "base_uri": "https://localhost:8080/"
        },
        "id": "5wkkU7_SOp0v",
        "outputId": "f5f7dd8a-eedf-44ff-c4b4-097f89622b8b"
      },
      "source": [
        "import pandas as pd\n",
        "\n",
        "emp = pd.read_csv('emp3.csv')\n",
        "print(emp[['ename','job']])"
      ],
      "execution_count": 37,
      "outputs": [
        {
          "output_type": "stream",
          "text": [
            "     ename        job\n",
            "0     KING  PRESIDENT\n",
            "1    BLAKE    MANAGER\n",
            "2    CLARK    MANAGER\n",
            "3    JONES    MANAGER\n",
            "4   MARTIN   SALESMAN\n",
            "5    ALLEN   SALESMAN\n",
            "6   TURNER   SALESMAN\n",
            "7    JAMES      CLERK\n",
            "8     WARD   SALESMAN\n",
            "9     FORD    ANALYST\n",
            "10   SMITH      CLERK\n",
            "11   SCOTT    ANALYST\n",
            "12   ADAMS      CLERK\n",
            "13  MILLER      CLERK\n"
          ],
          "name": "stdout"
        }
      ]
    },
    {
      "cell_type": "markdown",
      "metadata": {
        "id": "AVxkLQQtNnB0"
      },
      "source": [
        "문제180. scott의 이름과 월급이 출력되게 하시오"
      ]
    },
    {
      "cell_type": "code",
      "metadata": {
        "colab": {
          "base_uri": "https://localhost:8080/"
        },
        "id": "uO1vqP-1Nqqy",
        "outputId": "83e9df85-a39e-4810-fe8d-2349b34198d3"
      },
      "source": [
        "import pandas as pd\n",
        "\n",
        "emp = pd.read_csv('emp3.csv')\n",
        "print(emp[['ename','sal']][emp['ename']=='SCOTT'])"
      ],
      "execution_count": 40,
      "outputs": [
        {
          "output_type": "stream",
          "text": [
            "    ename   sal\n",
            "11  SCOTT  3000\n"
          ],
          "name": "stdout"
        }
      ]
    },
    {
      "cell_type": "markdown",
      "metadata": {
        "id": "wr7FMpZeNhdk"
      },
      "source": [
        "문제181. input 함수를 이용해서 이름을 물어보게 하고 이름을 입력하면 해당 사원의 이름과 월급이 출력되게 하시오."
      ]
    },
    {
      "cell_type": "code",
      "metadata": {
        "colab": {
          "base_uri": "https://localhost:8080/"
        },
        "id": "UFBx4sl4NrTc",
        "outputId": "2de11470-1624-4a3d-d233-3e592177b5f9"
      },
      "source": [
        "import pandas as pd\n",
        "name = input('찾을 사원의 이름은?')\n",
        "\n",
        "emp = pd.read_csv(\"emp3.csv\")\n",
        "print(emp[['ename','sal']][emp['ename']==name])"
      ],
      "execution_count": 41,
      "outputs": [
        {
          "output_type": "stream",
          "text": [
            "찾을 사원의 이름은?SCOTT\n",
            "    ename   sal\n",
            "11  SCOTT  3000\n"
          ],
          "name": "stdout"
        }
      ]
    },
    {
      "cell_type": "markdown",
      "metadata": {
        "id": "_GqijTv1O3wd"
      },
      "source": [
        "문제182. 이번에는 소문자로 이름이 입력되게 하시오."
      ]
    },
    {
      "cell_type": "code",
      "metadata": {
        "colab": {
          "base_uri": "https://localhost:8080/",
          "height": 352
        },
        "id": "dWMC1KgpPD8L",
        "outputId": "662251a4-8488-48f1-89e1-53d6b3e0858d"
      },
      "source": [
        "import pandas as pd\n",
        "name = input('찾을 사원의 이름은?')\n",
        "\n",
        "emp = pd.read_csv(\"emp3.csv\")\n",
        "print(emp[['ename','sal']][emp['ename']==name.upper()])"
      ],
      "execution_count": 61,
      "outputs": [
        {
          "output_type": "stream",
          "text": [
            "찾을 사원의 이름은?scott\n"
          ],
          "name": "stdout"
        },
        {
          "output_type": "error",
          "ename": "AttributeError",
          "evalue": "ignored",
          "traceback": [
            "\u001b[0;31m---------------------------------------------------------------------------\u001b[0m",
            "\u001b[0;31mAttributeError\u001b[0m                            Traceback (most recent call last)",
            "\u001b[0;32m<ipython-input-61-6cc68ecfd056>\u001b[0m in \u001b[0;36m<module>\u001b[0;34m()\u001b[0m\n\u001b[1;32m      3\u001b[0m \u001b[0;34m\u001b[0m\u001b[0m\n\u001b[1;32m      4\u001b[0m \u001b[0memp\u001b[0m \u001b[0;34m=\u001b[0m \u001b[0mpd\u001b[0m\u001b[0;34m.\u001b[0m\u001b[0mread_csv\u001b[0m\u001b[0;34m(\u001b[0m\u001b[0;34m\"emp3.csv\"\u001b[0m\u001b[0;34m)\u001b[0m\u001b[0;34m\u001b[0m\u001b[0;34m\u001b[0m\u001b[0m\n\u001b[0;32m----> 5\u001b[0;31m \u001b[0mprint\u001b[0m\u001b[0;34m(\u001b[0m\u001b[0;34m(\u001b[0m\u001b[0memp\u001b[0m\u001b[0;34m[\u001b[0m\u001b[0;34m[\u001b[0m\u001b[0;34m'ename'\u001b[0m\u001b[0;34m,\u001b[0m\u001b[0;34m'sal'\u001b[0m\u001b[0;34m]\u001b[0m\u001b[0;34m]\u001b[0m\u001b[0;34m)\u001b[0m\u001b[0;34m.\u001b[0m\u001b[0mlower\u001b[0m\u001b[0;34m(\u001b[0m\u001b[0;34m)\u001b[0m\u001b[0;34m[\u001b[0m\u001b[0memp\u001b[0m\u001b[0;34m[\u001b[0m\u001b[0;34m'ename'\u001b[0m\u001b[0;34m]\u001b[0m\u001b[0;34m==\u001b[0m\u001b[0mname\u001b[0m\u001b[0;34m.\u001b[0m\u001b[0mupper\u001b[0m\u001b[0;34m(\u001b[0m\u001b[0;34m)\u001b[0m\u001b[0;34m]\u001b[0m\u001b[0;34m)\u001b[0m\u001b[0;34m\u001b[0m\u001b[0;34m\u001b[0m\u001b[0m\n\u001b[0m",
            "\u001b[0;32m/usr/local/lib/python3.6/dist-packages/pandas/core/generic.py\u001b[0m in \u001b[0;36m__getattr__\u001b[0;34m(self, name)\u001b[0m\n\u001b[1;32m   5137\u001b[0m             \u001b[0;32mif\u001b[0m \u001b[0mself\u001b[0m\u001b[0;34m.\u001b[0m\u001b[0m_info_axis\u001b[0m\u001b[0;34m.\u001b[0m\u001b[0m_can_hold_identifiers_and_holds_name\u001b[0m\u001b[0;34m(\u001b[0m\u001b[0mname\u001b[0m\u001b[0;34m)\u001b[0m\u001b[0;34m:\u001b[0m\u001b[0;34m\u001b[0m\u001b[0;34m\u001b[0m\u001b[0m\n\u001b[1;32m   5138\u001b[0m                 \u001b[0;32mreturn\u001b[0m \u001b[0mself\u001b[0m\u001b[0;34m[\u001b[0m\u001b[0mname\u001b[0m\u001b[0;34m]\u001b[0m\u001b[0;34m\u001b[0m\u001b[0;34m\u001b[0m\u001b[0m\n\u001b[0;32m-> 5139\u001b[0;31m             \u001b[0;32mreturn\u001b[0m \u001b[0mobject\u001b[0m\u001b[0;34m.\u001b[0m\u001b[0m__getattribute__\u001b[0m\u001b[0;34m(\u001b[0m\u001b[0mself\u001b[0m\u001b[0;34m,\u001b[0m \u001b[0mname\u001b[0m\u001b[0;34m)\u001b[0m\u001b[0;34m\u001b[0m\u001b[0;34m\u001b[0m\u001b[0m\n\u001b[0m\u001b[1;32m   5140\u001b[0m \u001b[0;34m\u001b[0m\u001b[0m\n\u001b[1;32m   5141\u001b[0m     \u001b[0;32mdef\u001b[0m \u001b[0m__setattr__\u001b[0m\u001b[0;34m(\u001b[0m\u001b[0mself\u001b[0m\u001b[0;34m,\u001b[0m \u001b[0mname\u001b[0m\u001b[0;34m:\u001b[0m \u001b[0mstr\u001b[0m\u001b[0;34m,\u001b[0m \u001b[0mvalue\u001b[0m\u001b[0;34m)\u001b[0m \u001b[0;34m->\u001b[0m \u001b[0;32mNone\u001b[0m\u001b[0;34m:\u001b[0m\u001b[0;34m\u001b[0m\u001b[0;34m\u001b[0m\u001b[0m\n",
            "\u001b[0;31mAttributeError\u001b[0m: 'DataFrame' object has no attribute 'lower'"
          ]
        }
      ]
    },
    {
      "cell_type": "markdown",
      "metadata": {
        "id": "SAgt9W67PVUL"
      },
      "source": [
        "문제183. 그런데 이번에는 위의 코드를 실행하는데 없는 사원이름을 입력하시오!  \n",
        "이름을 입력하세요 ~ jack"
      ]
    },
    {
      "cell_type": "code",
      "metadata": {
        "colab": {
          "base_uri": "https://localhost:8080/"
        },
        "id": "ajV11ri8PbSy",
        "outputId": "4b54156e-3dc6-4336-c4ac-702b71a60e28"
      },
      "source": [
        "import pandas as pd\n",
        "name = input('이름을 입력하세요')\n",
        "\n",
        "emp = pd.read_csv(\"emp3.csv\")\n",
        "print(emp[['ename','sal']][emp['ename']==name.upper()])"
      ],
      "execution_count": 47,
      "outputs": [
        {
          "output_type": "stream",
          "text": [
            "찾을 사원의 이름은?jack\n",
            "Empty DataFrame\n",
            "Columns: [ename, sal]\n",
            "Index: []\n"
          ],
          "name": "stdout"
        }
      ]
    },
    {
      "cell_type": "markdown",
      "metadata": {
        "id": "A8MLgpcvPc9d"
      },
      "source": [
        "Empty DataFrame이라고 나온다. 없는 사원입니다 이렇게 나와야지 고객들은 모른다.  \n",
        "\n",
        "문제184. 위의 코드에 예외처리를 해서 없는 사원이름을 입력하면 입력하신 이름의 사원은 존재하지 않습니다. 라는 메세지가 출력되게 하시오!"
      ]
    },
    {
      "cell_type": "code",
      "metadata": {
        "colab": {
          "base_uri": "https://localhost:8080/"
        },
        "id": "pwLW1YMkP7Zx",
        "outputId": "15c85b75-d6eb-4d4b-e962-aa7468177fc7"
      },
      "source": [
        "import pandas as pd\n",
        "name = input('이름을 입력하세요')\n",
        "emp = pd.read_csv(\"emp3.csv\")\n",
        "\n",
        "print(emp[['ename','sal']][emp['ename']==name.upper()])\n"
      ],
      "execution_count": 52,
      "outputs": [
        {
          "output_type": "stream",
          "text": [
            "이름을 입력하세요2000\n",
            "Empty DataFrame\n",
            "Columns: [ename, sal]\n",
            "Index: []\n"
          ],
          "name": "stdout"
        }
      ]
    },
    {
      "cell_type": "markdown",
      "metadata": {
        "id": "Pv7ST0ZvQQUZ"
      },
      "source": [
        "이거는 에러가 아니라서 try except로 예외처리가 되지 않습니다.  \n",
        "\n",
        "문제185. 그러면 아래와 같이 문자가 아니라 숫자를 입력하면 잘못된 사원 이름을 입력하셨습니다. 라고 예외처리가 되게 하시오."
      ]
    },
    {
      "cell_type": "code",
      "metadata": {
        "id": "wGXDE4ikQcXP"
      },
      "source": [
        "import pandas as pd\n",
        "name = input('찾을 사원의 이름은?')\n",
        "emp = pd.read_csv(\"emp3.csv\")\n",
        "\n",
        "print(emp[['ename','sal']][emp['ename']==name.upper()])"
      ],
      "execution_count": null,
      "outputs": []
    },
    {
      "cell_type": "markdown",
      "metadata": {
        "id": "eCJm12l7Qxt_"
      },
      "source": [
        "문제185. 숫자를 입력하면 해당 숫자의 제곱값이 출력되는 코드를 구현하시오.  \n",
        "\n",
        "숫자를 입력하세요 ~ 2 \n",
        "4\n"
      ]
    },
    {
      "cell_type": "code",
      "metadata": {
        "colab": {
          "base_uri": "https://localhost:8080/"
        },
        "id": "ZskeLDs1Q2KM",
        "outputId": "6a6d3623-f294-4275-8808-7b3cacad1f1d"
      },
      "source": [
        "num = input('숫자를 입력하세요.')\n",
        "print(int(num)**2)\n"
      ],
      "execution_count": 57,
      "outputs": [
        {
          "output_type": "stream",
          "text": [
            "숫자를 입력하세요.2\n",
            "4\n"
          ],
          "name": "stdout"
        }
      ]
    },
    {
      "cell_type": "markdown",
      "metadata": {
        "id": "ItRT_GgvRiQF"
      },
      "source": [
        "문제186. try ~ except 예외처리를 이용해서 아래와 같이 문자를 입력하면 '잘못된 값을 입력하셨습니다'라는 메세지가 출력되게 하시오."
      ]
    },
    {
      "cell_type": "code",
      "metadata": {
        "colab": {
          "base_uri": "https://localhost:8080/"
        },
        "id": "G4Adr-imRrAw",
        "outputId": "9d30cbb3-30a2-4b8c-ea08-fbab83957376"
      },
      "source": [
        "try:\n",
        "  num = int(input('숫자를 입력하세요.'))\n",
        "  print(num**2)\n",
        "except:\n",
        "  print('잘못된 값을 입력하셨습니다')"
      ],
      "execution_count": 66,
      "outputs": [
        {
          "output_type": "stream",
          "text": [
            "숫자를 입력하세요.a\n",
            "잘못된 값을 입력하셨습니다\n"
          ],
          "name": "stdout"
        }
      ]
    },
    {
      "cell_type": "code",
      "metadata": {
        "colab": {
          "base_uri": "https://localhost:8080/"
        },
        "id": "XCCWVn_nR2Ro",
        "outputId": "773241d8-04a6-42a7-bf63-0d9651f5fb3e"
      },
      "source": [
        ""
      ],
      "execution_count": 69,
      "outputs": [
        {
          "output_type": "stream",
          "text": [
            "숫자를 입력하세요.2\n",
            "a\n"
          ],
          "name": "stdout"
        }
      ]
    },
    {
      "cell_type": "markdown",
      "metadata": {
        "id": "nW9V_zdTTFmi"
      },
      "source": [
        "설명: try와 except 사이에 있는 코드에서 에러가 나야지만 except 이후의 문장을 실행합니다.\n",
        "```\n",
        "num = int(input('숫자를 입력하세요.'))\n",
        "try:\n",
        "  print(num**2)\n",
        "```\n",
        "이거는 작동안함\n"
      ]
    },
    {
      "cell_type": "markdown",
      "metadata": {
        "id": "fiFwokffW2ob"
      },
      "source": [
        "# 56. 예외처리 이해하기 2 ( try ~ except ~ else)\n",
        "\n",
        "어떤 로직을 수행할 때 오류 상황이 아닐 경우에도 어떤 작업을 수행하는 코드를 작성해야할 때가 있다.  \n",
        "이런 경우에 try ~ except ~ else 구문을 활용합니다.  \n",
        "예제:\n",
        "```\n",
        "try:\n",
        "  실행할 코드 블럭\n",
        "except:\n",
        "  예외처리할 코드 블럭\n",
        "else:\n",
        "  except 절을 만나지 않았을 경우 실행하는 코드 블럭\n",
        "  ```\n"
      ]
    },
    {
      "cell_type": "code",
      "metadata": {
        "colab": {
          "base_uri": "https://localhost:8080/"
        },
        "id": "tJfHgsPNXkbP",
        "outputId": "88c73e3e-665a-4716-cb6c-2c2a3002b375"
      },
      "source": [
        "try:\n",
        "  num = int(input('숫자를 입력하세요.'))\n",
        "  print(num**2)\n",
        "except:\n",
        "  print('잘못된 값을 입력하셨습니다')\n",
        "else:\n",
        "  print('결과 출력에 성공했습니다.')"
      ],
      "execution_count": 75,
      "outputs": [
        {
          "output_type": "stream",
          "text": [
            "숫자를 입력하세요.2\n",
            "4\n",
            "결과 출력에 성공했습니다.\n"
          ],
          "name": "stdout"
        }
      ]
    },
    {
      "cell_type": "markdown",
      "metadata": {
        "id": "yIw5LEyBYLpZ"
      },
      "source": [
        "설명: try ~ except 사이의 코드에 에러가 안났다면 else: 이후의 문장을 실행합니다."
      ]
    },
    {
      "cell_type": "markdown",
      "metadata": {
        "id": "5SOwgbbNY7DQ"
      },
      "source": [
        "문제187. 아까 했던 나누기 프로그램을 수정해서 나누기가 성공하면 성공적으로 나누기를 하였습니다. 다른 메세지가 출력되게 하시오"
      ]
    },
    {
      "cell_type": "code",
      "metadata": {
        "id": "Ar3o12cRZDuU"
      },
      "source": [
        "def my_divide():\n",
        "  try:\n",
        "    x = input('분자의 숫자를 입력하세요')\n",
        "    y = input('분모의 숫자를 입력하세요')\n",
        "    print(int(x)/int(y))\n",
        "  except:\n",
        "    print('잘못된 값을 입력하셔서 나누기를 할 수 없습니다.')  \n",
        "  else:\n",
        "    print('성공적으로 나누기를 하였습니다.')"
      ],
      "execution_count": 80,
      "outputs": []
    },
    {
      "cell_type": "code",
      "metadata": {
        "colab": {
          "base_uri": "https://localhost:8080/"
        },
        "id": "PQY3TuuMZXAi",
        "outputId": "e0235e04-1845-4de8-9459-fbb8424d2bc7"
      },
      "source": [
        "my_divide()"
      ],
      "execution_count": 81,
      "outputs": [
        {
          "output_type": "stream",
          "text": [
            "분자의 숫자를 입력하세요2\n",
            "분모의 숫자를 입력하세요2\n",
            "1.0\n",
            "성공적으로 나누기를 하였습니다.\n"
          ],
          "name": "stdout"
        }
      ]
    },
    {
      "cell_type": "markdown",
      "metadata": {
        "id": "I3V1bTw6bYHA"
      },
      "source": [
        "return하니까 else가 안되어서 print로 바꿈\n",
        "\n",
        "# 57. 예외처리 이해하기 3 ( try ~ except ~ finally)\n",
        "\n",
        "오류 발생 유무와 상관없이 어떤 코드를 무조건 실행시키려면 try ~ except ~ finally 구문을 활용합니다.  \n",
        "무조건 실행시키는 코드는 finally 부분에 작성하면 됩니다.  \n",
        "\n",
        "예:  "
      ]
    },
    {
      "cell_type": "code",
      "metadata": {
        "colab": {
          "base_uri": "https://localhost:8080/"
        },
        "id": "JtWreaPkb1qH",
        "outputId": "589da3eb-61f8-4546-9745-796b256040ce"
      },
      "source": [
        "try:\n",
        "  print('안녕하세요')\n",
        "except:\n",
        "  print('예외가 발생했습니다')\n",
        "finally:\n",
        "  print('저는 무조건 실행됩니다.')"
      ],
      "execution_count": 96,
      "outputs": [
        {
          "output_type": "stream",
          "text": [
            "안녕하세요\n",
            "저는 무조건 실행됩니다.\n"
          ],
          "name": "stdout"
        }
      ]
    },
    {
      "cell_type": "markdown",
      "metadata": {
        "id": "4-6LpH84cPbe"
      },
      "source": [
        "문제188. 나누기하는 프로그램을 실행할 때 오류가 나던 오류가 나지 않던 무조건 아래의 메세지가 출력되게 하시오1\n",
        "\n",
        "분자를 입력하세요 ~ \n",
        "분모를 입력하세요 ~\n",
        "\n",
        "한결이 만든 프로그램입니다."
      ]
    },
    {
      "cell_type": "code",
      "metadata": {
        "colab": {
          "base_uri": "https://localhost:8080/"
        },
        "id": "gyEtkButcW_n",
        "outputId": "6aa6e540-4a81-497a-f80b-4a34e46e0225"
      },
      "source": [
        "def divide():\n",
        "  try:\n",
        "    x = int(input('분자를 입력하세요~'))\n",
        "    y = int(input('분모를 입력하세요~'))\n",
        "    print(x/y)\n",
        "  except:\n",
        "    print('값을 잘못 입력하셨습니다.')\n",
        "  finally:\n",
        "    print('한결이 만든 프로그램입니다.')\n",
        "\n",
        "divide()"
      ],
      "execution_count": 97,
      "outputs": [
        {
          "output_type": "stream",
          "text": [
            "값을 잘못 입력하셨습니다.\n",
            "한결이 만든 프로그램입니다.\n"
          ],
          "name": "stdout"
        }
      ]
    },
    {
      "cell_type": "markdown",
      "metadata": {
        "id": "PkUeOP4GdevV"
      },
      "source": [
        "문제189. 동전을 10번 던져서 앞면이 2번 나올 확률을 출력하시오.  \n",
        "동전을 10번 던지는 작업을 10000번 수행되게 하시오."
      ]
    },
    {
      "cell_type": "code",
      "metadata": {
        "colab": {
          "base_uri": "https://localhost:8080/"
        },
        "id": "sA3QXZExecWX",
        "outputId": "980a0bdc-4dd6-4d88-b26e-043cb6afb842"
      },
      "source": [
        "import numpy as np\n",
        "N = 10000\n",
        "coin = ['앞면','뒷면']\n",
        "for k in range(1,10001):\n",
        "  a =[]\n",
        "  for i in range(1,11):\n",
        "    result = np.random.choice(coin)\n",
        "    a.append(result)\n",
        "\n",
        "  cnt = 0\n",
        "  if a.count('앞면')==2:\n",
        "    cnt += 1\n",
        "print(cnt)"
      ],
      "execution_count": 142,
      "outputs": [
        {
          "output_type": "stream",
          "text": [
            "0\n"
          ],
          "name": "stdout"
        }
      ]
    },
    {
      "cell_type": "markdown",
      "metadata": {
        "id": "FVpkdVi-lft3"
      },
      "source": [
        "문제190. (오늘의 마지막 문제) 위의 코드를 함수로 생성하여 확률이 출력되게 하시오!\n",
        "```\n",
        "coin_prob(2) # 0.04314\n",
        "coin_prob(4) # 0.2065\n",
        "      앞면의 갯수\n",
        "```"
      ]
    },
    {
      "cell_type": "code",
      "metadata": {
        "colab": {
          "base_uri": "https://localhost:8080/"
        },
        "id": "_OuNeiHAlkKY",
        "outputId": "e86702ec-a233-4047-c2e2-652ab4db9175"
      },
      "source": [
        "def coin_prob(num):\n",
        "  import numpy as np\n",
        "  N = 10000\n",
        "  coin = ['앞면','뒷면']\n",
        "  cnt = 0\n",
        "    \n",
        "  for k in range(1,N+1):\n",
        "    a =[]\n",
        "    for i in range(1,11):\n",
        "      result = np.random.choice(coin)\n",
        "      a.append(result)\n",
        "\n",
        "    if a.count('앞면')== num:\n",
        "      cnt += 1\n",
        "  return cnt/N\n",
        "print(coin_prob(2))\n",
        "print(coin_prob(4))"
      ],
      "execution_count": 214,
      "outputs": [
        {
          "output_type": "stream",
          "text": [
            "0.0455\n",
            "0.2076\n"
          ],
          "name": "stdout"
        }
      ]
    },
    {
      "cell_type": "code",
      "metadata": {
        "colab": {
          "base_uri": "https://localhost:8080/"
        },
        "id": "XiYoByw3mp1R",
        "outputId": "dd1f2012-5f0d-4665-d0d2-6d619683bc73"
      },
      "source": [
        ""
      ],
      "execution_count": 208,
      "outputs": [
        {
          "output_type": "stream",
          "text": [
            "0.0456\n"
          ],
          "name": "stdout"
        }
      ]
    },
    {
      "cell_type": "code",
      "metadata": {
        "id": "jpYXUYC3dyWJ"
      },
      "source": [
        "def coin_prob(N,num1):\n",
        "  import numpy as np\n",
        "#  num1 = int(input('몇개가 뽑혔을 때의 확률을 알고싶나요?'))\n",
        "#  N = int(input('몇번 던지실 건가요?'))\n",
        "\n",
        "  N = 10\n",
        "  P = 0.5\n",
        "  Q = 1-P\n",
        "\n",
        "  if num1 > N:\n",
        "    print('던진 숫자보다 많이 뽑힐 수 없습니다.')\n",
        "  else:\n",
        "    cnt = 1\n",
        "    cnt2 = 1\n",
        "    cnt3 = 1\n",
        "\n",
        "    for i in range(N,0,-1):\n",
        "      cnt *= i\n",
        "      if i == num1:\n",
        "        for j in range(num1,0,-1):\n",
        "          cnt2 *= j\n",
        "      if i == N - num1:\n",
        "        for k in range(N-num1,0,-1):\n",
        "          cnt3 *= k\n",
        "\n",
        "    nCr = cnt/(cnt2*cnt3)\n",
        "    prob = P**num1*Q**(N-num1)\n",
        "    print(f'{nCr*prob*100}%')"
      ],
      "execution_count": 194,
      "outputs": []
    },
    {
      "cell_type": "code",
      "metadata": {
        "colab": {
          "base_uri": "https://localhost:8080/"
        },
        "id": "sGhjzU8tjqWl",
        "outputId": "d68450e0-af05-4ff6-f41c-85cb78e9a52b"
      },
      "source": [
        "Coin_prob(10,2)"
      ],
      "execution_count": 196,
      "outputs": [
        {
          "output_type": "stream",
          "text": [
            "4.39453125%\n"
          ],
          "name": "stdout"
        }
      ]
    }
  ]
}