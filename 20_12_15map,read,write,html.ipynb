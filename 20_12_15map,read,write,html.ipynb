{
  "nbformat": 4,
  "nbformat_minor": 0,
  "metadata": {
    "colab": {
      "name": "20-12-15map,read,write,html.ipynb",
      "provenance": [],
      "collapsed_sections": [],
      "authorship_tag": "ABX9TyNLsEz0CxBCYGm1NSdOtpmi",
      "include_colab_link": true
    },
    "kernelspec": {
      "name": "python3",
      "display_name": "Python 3"
    }
  },
  "cells": [
    {
      "cell_type": "markdown",
      "metadata": {
        "id": "view-in-github",
        "colab_type": "text"
      },
      "source": [
        "<a href=\"https://colab.research.google.com/github/HKyeol/Python_study/blob/master/20_12_15map%2Cread%2Cwrite%2Chtml.ipynb\" target=\"_parent\"><img src=\"https://colab.research.google.com/assets/colab-badge.svg\" alt=\"Open In Colab\"/></a>"
      ]
    },
    {
      "cell_type": "markdown",
      "metadata": {
        "id": "SQ1Z7Tnb3hNI"
      },
      "source": [
        "# 132. 인자를 만들어 함수를 반복 호출하여 결과값 얻기(map)\r\n",
        "\r\n",
        "파이썬 내장함수 map()은 리스트 A와 함수 f가 주어지면 리스트A의 요소를 함수 f에 입력해서 출력하는 결과를 간단하게 출력해줍니다.  \r\n",
        "\r\n",
        "문법: map(함수명, 함수에 제공할 매개변수 값들)  \r\n",
        "\r\n",
        "매개변수의 값들을 바꿔가면서 함수를 반복 실행할 때 유용하게 사용할 수 있습니다  \r\n",
        "\r\n",
        "예제:"
      ]
    },
    {
      "cell_type": "code",
      "metadata": {
        "colab": {
          "base_uri": "https://localhost:8080/"
        },
        "id": "s8vnpubL4Bfe",
        "outputId": "2fd98b06-9af0-4a11-e541-7e73752499ac"
      },
      "source": [
        "def gob(x):\r\n",
        "    return x*x\r\n",
        "\r\n",
        "a = [1,2,3,4,5]\r\n",
        "result = map(gob,a)\r\n",
        "print(type(result))\r\n",
        "#print(result)\r\n",
        "for i in result:\r\n",
        "    print(i,'   d')\r\n",
        "\r\n",
        "print(list(result))\r\n",
        "\r\n"
      ],
      "execution_count": 25,
      "outputs": [
        {
          "output_type": "stream",
          "text": [
            "<class 'map'>\n",
            "1    d\n",
            "4    d\n",
            "9    d\n",
            "16    d\n",
            "25    d\n",
            "[]\n"
          ],
          "name": "stdout"
        }
      ]
    },
    {
      "cell_type": "markdown",
      "metadata": {
        "id": "pBl9eXrW50nR"
      },
      "source": [
        "설명: map함수가 리턴해주는 결과를 보려면 리턴된 값을 변환해서 리스트 형태로 봐야합니다.\r\n",
        "\r\n",
        "설명: 리스트의 요소 하나하나를 함수에 입력값으로 입력한다(mapping)  \r\n",
        "\r\n",
        "문제391. 숫자를 입력해서 해당 숫자가 3000보다 크면 숫자 1을 리턴하게 하고 입력하는 숫자가 3000보다 작다면 0을 리턴하는 함수를 생성하시오!  \r\n",
        "```\r\n",
        "print(high_income(3500)\r\n",
        "결과 : 1\r\n",
        "```"
      ]
    },
    {
      "cell_type": "code",
      "metadata": {
        "colab": {
          "base_uri": "https://localhost:8080/"
        },
        "id": "FixR5E7J7Dvj",
        "outputId": "cdf9fe38-8317-4544-dc61-3dc8e1326870"
      },
      "source": [
        "def high_income(num):\r\n",
        "    if num >= 3000:\r\n",
        "        return 1\r\n",
        "    else:\r\n",
        "        return 0\r\n",
        "\r\n",
        "print(high_income(3500))"
      ],
      "execution_count": 20,
      "outputs": [
        {
          "output_type": "stream",
          "text": [
            "1\n"
          ],
          "name": "stdout"
        }
      ]
    },
    {
      "cell_type": "markdown",
      "metadata": {
        "id": "mD563R2N7TWm"
      },
      "source": [
        "문제392. 위에서 만든 함수를 map 함수에 적용해서 아래의 리스트의 요소를 high_income 함수의 입력 매개변수로 입력해서 아래의 결과가 출력되게 하시오!\r\n",
        "```\r\n",
        "a = [4000,5000,2000,3500,1000]\r\n",
        "결과 : [1,1,0,1,0]\r\n",
        "```"
      ]
    },
    {
      "cell_type": "code",
      "metadata": {
        "colab": {
          "base_uri": "https://localhost:8080/"
        },
        "id": "19xySVK27S2u",
        "outputId": "708043be-4cb3-4f68-df33-4c385e78ee58"
      },
      "source": [
        "a = [4000,5000,2000,3500,1000]\r\n",
        "result = list(map(high_income,a))\r\n",
        "print(result)"
      ],
      "execution_count": 23,
      "outputs": [
        {
          "output_type": "stream",
          "text": [
            "[1, 1, 0, 1, 0]\n"
          ],
          "name": "stdout"
        }
      ]
    },
    {
      "cell_type": "markdown",
      "metadata": {
        "id": "9qw_eGl37TA-"
      },
      "source": [
        "문제393. 동전을 1번 던져서 앞면이 나오는지 뒷면이 나오는지 출력하는 함수를 생성하시오!"
      ]
    },
    {
      "cell_type": "code",
      "metadata": {
        "colab": {
          "base_uri": "https://localhost:8080/"
        },
        "id": "g7PRa_MjzTep",
        "outputId": "b66b44ee-fe48-4de6-ef23-4b555a8436d8"
      },
      "source": [
        "def coin_cnt(num):\r\n",
        "    import numpy as np\r\n",
        "    coin = ['앞면','뒷면']\r\n",
        "    result = np.random.choice(coin,num)\r\n",
        "    return result\r\n",
        "\r\n",
        "\r\n",
        "print(coin_cnt(5))\r\n"
      ],
      "execution_count": 27,
      "outputs": [
        {
          "output_type": "stream",
          "text": [
            "['뒷면' '뒷면' '앞면' '뒷면' '앞면']\n"
          ],
          "name": "stdout"
        }
      ]
    },
    {
      "cell_type": "markdown",
      "metadata": {
        "id": "SGBslrej9l0j"
      },
      "source": [
        "문제394. 위의 함수를 수정해서 숫자를 입력하면 해당 숫자만큼 동전을 던져서 동전이 앞면이 나오는 확률을 출력하시오!"
      ]
    },
    {
      "cell_type": "code",
      "metadata": {
        "colab": {
          "base_uri": "https://localhost:8080/"
        },
        "id": "GvHQPrpE9qHG",
        "outputId": "2d295264-f1d5-438b-b0c1-244e3bb464bd"
      },
      "source": [
        "def coin_cnt(num):\r\n",
        "    import numpy as np\r\n",
        "    coin = ['앞면','뒷면']\r\n",
        "    result = list(np.random.choice(coin,num))\r\n",
        "    result = result.count('앞면')/num\r\n",
        "    return result\r\n",
        "\r\n",
        "print(coin_cnt(100))\r\n"
      ],
      "execution_count": 38,
      "outputs": [
        {
          "output_type": "stream",
          "text": [
            "0.53\n"
          ],
          "name": "stdout"
        }
      ]
    },
    {
      "cell_type": "markdown",
      "metadata": {
        "id": "aqw_v2-G-XBV"
      },
      "source": [
        "문제395. 위에서 만든 coin_cnt 함수에 아래의 a 리스트의 요소들을 적용해서 결과로 확률이 출력되게 하시오.\r\n",
        "```\r\n",
        "a = [10,100,1000,10000,100000]\r\n",
        "결과:[0.481,0.4939 ~~ 확률]\r\n",
        "```"
      ]
    },
    {
      "cell_type": "code",
      "metadata": {
        "colab": {
          "base_uri": "https://localhost:8080/"
        },
        "id": "IjtwQeVF-cPi",
        "outputId": "b295f8d9-7a14-4542-9028-775286c16737"
      },
      "source": [
        "a = [10,100,1000,10000,100000]\r\n",
        "result = list(map(coin_cnt,a))\r\n",
        "print(result)"
      ],
      "execution_count": 41,
      "outputs": [
        {
          "output_type": "stream",
          "text": [
            "[0.4, 0.42, 0.507, 0.5052, 0.50196]\n"
          ],
          "name": "stdout"
        },
        {
          "output_type": "execute_result",
          "data": {
            "text/plain": [
              "list"
            ]
          },
          "metadata": {
            "tags": []
          },
          "execution_count": 41
        }
      ]
    },
    {
      "cell_type": "markdown",
      "metadata": {
        "id": "kP7MjMAC_XbZ"
      },
      "source": [
        "문제396. 주사위를 던져서 주사위의 눈이 5가 나올 확률을 출력하는 함수를 만들고 아래의 a 리스트의 주사위를 던지는 횟수를 map함수로 적용해서 확률이 점점 1/6로 근사해지는지 실험하시오."
      ]
    },
    {
      "cell_type": "code",
      "metadata": {
        "colab": {
          "base_uri": "https://localhost:8080/"
        },
        "id": "RYi0eUaB_hXG",
        "outputId": "68513c1b-081d-41f2-e326-618de7d5dac9"
      },
      "source": [
        "def dice_cnt(num):\r\n",
        "    import numpy as np\r\n",
        "    dice = [1,2,3,4,5,6] \r\n",
        "    dice = list(range(1,7)) # 더 나은 방법\r\n",
        "    result = list(np.random.choice(dice,num))\r\n",
        "    result = result.count(5)/num\r\n",
        "    return result\r\n",
        "\r\n",
        "a = [10,100,1000,10000,100000]\r\n",
        "result = map(dice_cnt,a)\r\n",
        "print(list(result))"
      ],
      "execution_count": 48,
      "outputs": [
        {
          "output_type": "stream",
          "text": [
            "[0.0, 0.14, 0.167, 0.1702, 0.16762]\n"
          ],
          "name": "stdout"
        }
      ]
    },
    {
      "cell_type": "code",
      "metadata": {
        "id": "KAffJo31Awyf"
      },
      "source": [
        "def zic(num)\r\n",
        "    import numpy as np\r\n",
        "    dice = [1,2,3,4,5]\r\n",
        "    for k in range(num):    \r\n",
        "        for i in range(4):\r\n",
        "            result = list(np.random.choice(dice,25))\r\n",
        "            result = result.count(5)*5\r\n",
        "            print(result)\r\n"
      ],
      "execution_count": null,
      "outputs": []
    },
    {
      "cell_type": "markdown",
      "metadata": {
        "id": "GPwNS2pcBV1v"
      },
      "source": [
        "문제397. 아래의 불량품이 들어있는 박스에서 제품을 3개를 뽑았을 때 3개중에 2개가 불량품일 확률을 출력하는 함수를 만드시오. 함수를 실행할 때 3개를 뽑은 횟수를 입력 매개변수로 사용하세요\r\n"
      ]
    },
    {
      "cell_type": "code",
      "metadata": {
        "colab": {
          "base_uri": "https://localhost:8080/"
        },
        "id": "AEp0Jj1_Bbn6",
        "outputId": "b8398bff-4070-4e5b-afaa-cc94c2dbf864"
      },
      "source": [
        "def box_cnt(num):\r\n",
        "    import numpy as np\r\n",
        "    box = ['정상','정상','불량품','정상','불량품','정상','정상','불량품']\r\n",
        "    cnt = 0\r\n",
        "    for i in range(num):\r\n",
        "        result = list(np.random.choice(box,3,replace = True))\r\n",
        "        if result.count('불량품') ==2:\r\n",
        "            cnt += 1\r\n",
        "\r\n",
        "#        for k in range(3):                  #구린방식\r\n",
        "#            if result[k] == '불량품':\r\n",
        "#                cnt += 1\r\n",
        "#        if cnt == 2:\r\n",
        "#            cnt2 += 1\r\n",
        "    \r\n",
        "    return cnt/num\r\n",
        "\r\n",
        "\r\n",
        "print(box_cnt(100))"
      ],
      "execution_count": 63,
      "outputs": [
        {
          "output_type": "stream",
          "text": [
            "0.25\n"
          ],
          "name": "stdout"
        }
      ]
    },
    {
      "cell_type": "markdown",
      "metadata": {
        "id": "nCyQr6Y-GLvD"
      },
      "source": [
        "문제398. 위에서 만든 box_cnt 함수에 아래의 a 리스트의 횟수를 map 함수로 적용해서 확률이 출력되게 하시오."
      ]
    },
    {
      "cell_type": "code",
      "metadata": {
        "colab": {
          "base_uri": "https://localhost:8080/"
        },
        "id": "N2SdhBp0GTb4",
        "outputId": "452d288d-7646-4785-ca9b-0e2b384a3bce"
      },
      "source": [
        "a = [10,100,1000,10000,100000]\r\n",
        "result = map(box_cnt,a)\r\n",
        "print(list(result))"
      ],
      "execution_count": 64,
      "outputs": [
        {
          "output_type": "stream",
          "text": [
            "[0.3, 0.25, 0.254, 0.2551, 0.26293]\n"
          ],
          "name": "stdout"
        }
      ]
    },
    {
      "cell_type": "markdown",
      "metadata": {
        "id": "iy8u_o_9FmAg"
      },
      "source": [
        "# 133. 텍스트 파일을 읽고 출력하기(read)\r\n",
        "\r\n",
        "텍스트 파일을 읽고 그 내용을 화면에 출력하고자 하면 제일 먼저 텍스트 읽기 모드로 파일을 엽니다. 텍스트 파일을 오픈하면 텍스트 파일을 읽어 내용을 화면에 출력하면 됩니다.  \r\n",
        "\r\n",
        "예:"
      ]
    },
    {
      "cell_type": "code",
      "metadata": {
        "id": "DZHmiAK0BVov"
      },
      "source": [
        "f = open('jobs.txt') \r\n",
        "data = f.read() # 파일을 한번에 전부 읽어오는 함수 입니다.\r\n",
        "print(data)\r\n",
        "f.close()"
      ],
      "execution_count": null,
      "outputs": []
    },
    {
      "cell_type": "markdown",
      "metadata": {
        "id": "xgUk06mCIG2E"
      },
      "source": [
        "설명: 스티븐 잡스 연설문은 길지 않으니까 한번에 읽어와도 관계 없는데 텍스트 파일의 용량이 매우 클 경우 read()로 한꺼번에 파일의 내용을 읽어들이는 것은 메모리 문제를 야기시킬 수 있습니다.  \r\n",
        "\r\n",
        "웹에서 스크롤링한 데이터를 분석하고자 할 때 위와 같이 open 함수를 이용해서 파이썬으로 데이터를 불러옵니다.  \r\n",
        "\r\n",
        "문제399. 중앙일보에서 인공지능으로 검색한 기사인 mydata3.txt를 파이썬으로 불러서 출력하시오."
      ]
    },
    {
      "cell_type": "code",
      "metadata": {
        "id": "bR6yR1BpJoHz"
      },
      "source": [
        "f = open('mydata3.txt') \r\n",
        "data = f.read() # 파일을 한번에 전부 읽어오는 함수 입니다.\r\n",
        "print(data)\r\n",
        "f.close()       # 파일을 닫는다. 닫는 코드를 안쓰면 스파이더를 실행하고 있으면\r\n",
        "                # 계속 파일이 열려있게 됩니다."
      ],
      "execution_count": null,
      "outputs": []
    },
    {
      "cell_type": "markdown",
      "metadata": {
        "id": "vNxcLN8OKUVc"
      },
      "source": [
        "문제400. 위의 중앙일보 기사에서 빅데이터라는 단어가 몇 번 나오는지 count 하시오!"
      ]
    },
    {
      "cell_type": "code",
      "metadata": {
        "colab": {
          "base_uri": "https://localhost:8080/"
        },
        "id": "kTp08dOwKXOB",
        "outputId": "1704cf41-51e5-4802-87c0-c11a6d748de8"
      },
      "source": [
        "f = open('mydata3.txt') \r\n",
        "data = f.read() # 파일을 한번에 전부 읽어오는 함수 입니다.\r\n",
        "\r\n",
        "print(data.count('빅데이터'))\r\n",
        "print(data.count('빅 데이터'))\r\n",
        "print(data.count('인공지능'))\r\n",
        "f.close()       # 파일을 닫는다. 닫는 코드를 안쓰면 스파이더를 실행하고 있으면\r\n",
        "                # 계속 파일이 열려있게 됩니다."
      ],
      "execution_count": 72,
      "outputs": [
        {
          "output_type": "stream",
          "text": [
            "11\n",
            "3\n",
            "24\n"
          ],
          "name": "stdout"
        }
      ]
    },
    {
      "cell_type": "markdown",
      "metadata": {
        "id": "PXZQYXUmK9ID"
      },
      "source": [
        "# 134. 텍스트 파일을 한줄 씩 읽고 출력하기 1(readline)\r\n",
        "\r\n",
        "텍스트 파일의 용량이 매우 클 경우 read()로 한꺼번에 파일의 내용을 읽어들이는 것은 메모리 문제를 야기할 수 있습니다. 이 경우 텍스트 파일 내용을 한 줄 단위로 읽고 작업을 수행하면 됩니다. readline()은 텍스트 파일에서 한 줄을 읽습니다.  \r\n",
        "한 줄을 읽고 나면 파일을 읽기 시작하는 위치는 그 다음줄의 맨 처음이 됩니다.  \r\n",
        "\r\n",
        "예제:"
      ]
    },
    {
      "cell_type": "code",
      "metadata": {
        "colab": {
          "base_uri": "https://localhost:8080/"
        },
        "id": "M2s_0tYJLnin",
        "outputId": "d65067be-d0e4-4f71-9faf-2339c6bf898f"
      },
      "source": [
        "f = open('jobs.txt')\r\n",
        "data = f.readline()\r\n",
        "print(data) # steve jobs'2005 stanford commencement address\r\n",
        "f.close()"
      ],
      "execution_count": 73,
      "outputs": [
        {
          "output_type": "stream",
          "text": [
            "steve jobs'2005 stanford commencement address\n",
            "\n"
          ],
          "name": "stdout"
        }
      ]
    },
    {
      "cell_type": "markdown",
      "metadata": {
        "id": "L_jIz_fNL8UQ"
      },
      "source": [
        "설명: read() 함수는 텍스트 파일 전체를 읽어오는 반명 readline()은 텍스트 파일에서 한줄만 읽어옵니다.  \r\n",
        "loop문을 이용하면 전체를 읽어올 수 있다.  \r\n",
        "\r\n",
        "문제401. 위의 스티븐 잡스 연설문 데이터를 모두 읽어 오시오. readline()함수를 이용하세요."
      ]
    },
    {
      "cell_type": "code",
      "metadata": {
        "id": "ON2bv62GMUY0"
      },
      "source": [
        "f = open('jobs.txt')\r\n",
        "data = f.readline()\r\n",
        "while data:             # data 변수안에 data가 있으면 True 없으면 False입니다.\r\n",
        "    print(data)\r\n",
        "    data = f.readline() # 그 다음줄을 읽어서 data 변수에 입력합니다. 여러번 쓰면 다음거를 계속 읽어주네\r\n",
        "f.close"
      ],
      "execution_count": null,
      "outputs": []
    },
    {
      "cell_type": "markdown",
      "metadata": {
        "id": "3O18RA0UN8pY"
      },
      "source": [
        "설명: 맨 위에 data = f.readline() 코드는 처음에 딱 한번만 실행되고 그 다음에는 실행되지 않습니다. 그 다음부터는 while문 안에 있는 data = f.readline()가 작동되어서 반복적으로 스티븐 잡스의 연설문을 한줄 씩 읽어서 data 변수에 넣습니다. (like 펌프)  \r\n",
        "\r\n",
        "문제402. 위에서 한줄씩 읽은 데이터에서 인공지능이라는 단어가 나오면 count 하게 하시오!"
      ]
    },
    {
      "cell_type": "code",
      "metadata": {
        "id": "Jc-hSMICTF1_"
      },
      "source": [
        "f = open('mydata3.txt') \r\n",
        "data = f.readline() # 파일을 한번에 전부 읽어오는 함수 입니다.\r\n",
        "while data:\r\n",
        "    print(data.count('인공지능'))\r\n",
        "    data = f.readline()\r\n",
        "f.close()  \r\n"
      ],
      "execution_count": null,
      "outputs": []
    },
    {
      "cell_type": "markdown",
      "metadata": {
        "id": "VPOV-k__Tcux"
      },
      "source": [
        "문제403. 위의 count한 건수를 다 누적시켜서 출력하시오!"
      ]
    },
    {
      "cell_type": "code",
      "metadata": {
        "colab": {
          "base_uri": "https://localhost:8080/"
        },
        "id": "g8GWVUVfTfUn",
        "outputId": "e42e2ce9-44fc-4863-fa5d-a96c95fd0b17"
      },
      "source": [
        "f = open('mydata3.txt') \r\n",
        "data = f.readline() # 파일을 한번에 전부 읽어오는 함수 입니다.\r\n",
        "while data:\r\n",
        "    cnt += data.count('인공지능')\r\n",
        "    data = f.readline()\r\n",
        "f.close()  \r\n",
        "print(cnt)"
      ],
      "execution_count": 86,
      "outputs": [
        {
          "output_type": "stream",
          "text": [
            "24\n"
          ],
          "name": "stdout"
        }
      ]
    },
    {
      "cell_type": "markdown",
      "metadata": {
        "id": "t9q2GXOjUg4O"
      },
      "source": [
        "문제404. 위의 코드를 수정해서 단어를 물어보게하고 단어를 입력하면 해당 단어가 몇 건 나오는지 출력되게 하시오!\r\n",
        "```\r\n",
        "단어를 입력하세요 ~ 인공지능\r\n",
        "\r\n",
        "결과: 이 기사에서 인공지능 단어는 24번 나왔습니다.\r\n",
        "```"
      ]
    },
    {
      "cell_type": "code",
      "metadata": {
        "colab": {
          "base_uri": "https://localhost:8080/"
        },
        "id": "_QX4TlI2UoFi",
        "outputId": "ca21080e-1f16-46c0-f7b8-b813bd579391"
      },
      "source": [
        "find_t =input('단어를 입력하세요 ~ ')\r\n",
        "f = open('mydata3.txt')\r\n",
        "data = f.readline()\r\n",
        "cnt = 0\r\n",
        "while data:\r\n",
        "    cnt += data.count(find_t)\r\n",
        "    data = f.readline()\r\n",
        "print(f'이 기사에서 {find_t} 단어는 {cnt}번 나왔습니다.')"
      ],
      "execution_count": 88,
      "outputs": [
        {
          "output_type": "stream",
          "text": [
            "단어를 입력하세요 ~ 인공지능\n",
            "이 기사에서 인공지능 단어는 24번 나왔습니다.\n"
          ],
          "name": "stdout"
        }
      ]
    },
    {
      "cell_type": "markdown",
      "metadata": {
        "id": "Bg-55EbFTFKf"
      },
      "source": [
        "# 135. 화면에서 사용자 입력을 받고 파일로 쓰기(write)\r\n",
        "\r\n",
        "사용자로부터 입력받은 텍스트를 파일로 저장하려면 파일을 텍스트 쓰기 모드로 오픈하고 파일 객체의 write()를 이용해 데이터를 파일에 기록합니다.  \r\n",
        "\r\n",
        "예제:  "
      ]
    },
    {
      "cell_type": "code",
      "metadata": {
        "id": "5qfkhZFFWE-e"
      },
      "source": [
        "text1 = input('파일에 저장할 내용을 입력하세요 ~ ')\r\n",
        "f = open('c:\\\\data\\\\mydata.txt','w')         # w는 write의 약자.\r\n",
        "f.write(text)\r\n",
        "f.close"
      ],
      "execution_count": null,
      "outputs": []
    },
    {
      "cell_type": "markdown",
      "metadata": {
        "id": "UeBvZmpdWYGe"
      },
      "source": [
        "설명: 위에 w는 write의 약자입니다. c 드라이브 밑에 data 밑에 mydata.txt 파일로 쓰겠다는 뜻입니다.  \r\n",
        "```\r\n",
        "파일에 저장할 내용을 입력하세요 ~ \r\n",
        "나는 데이터 분석가로 일하게 됩니다.\r\n",
        "```\r\n",
        "\r\n",
        "설명: 위의 코드는 웹에서 스크롤링한 데이터를 파일로 저장할 때 응용되게 됩니다.  \r\n",
        "\r\n",
        "문제405. 아래의 파란색 공과 빨간색 공이 들어있는 박스에서 5개의 공을 뽑았을 때 그 중 2개가 파란색 공일 확률을 출력하는 함수를 만들고 공을 뽑는 횟수를 10,100,1000,10000,100000 했을 때의 확률을 map 함수를 이용해서 출력하시오.\r\n",
        "```\r\n",
        "a = [10,100,1000,10000,100000]\r\n",
        "파란색 공 : 24개 + 빨간색 공 26개\r\n",
        "```"
      ]
    },
    {
      "cell_type": "code",
      "metadata": {
        "colab": {
          "base_uri": "https://localhost:8080/"
        },
        "id": "s2VUCyeOXrC2",
        "outputId": "a1a35025-12f3-4198-9a1d-4e41fc89e00b"
      },
      "source": [
        "import numpy as np\r\n",
        "def box_c(num):     # num : 반복횟수\r\n",
        "    box = ['blue'] * 24 + ['red']*26 # 이걸 기억 못하냐 멍충아\r\n",
        "    cnt = 0\r\n",
        "\r\n",
        "    for i in range(num):\r\n",
        "        result = list(np.random.choice(box,5,replace = False))\r\n",
        "\r\n",
        "        if result.count('blue') == 2:\r\n",
        "            cnt += 1\r\n",
        "    return cnt/num\r\n",
        "a = [10,100,1000,10000,100000]\r\n",
        "\r\n",
        "result = map(box_c,a)\r\n",
        "print(list(result))"
      ],
      "execution_count": 130,
      "outputs": [
        {
          "output_type": "stream",
          "text": [
            "[0.4, 0.39, 0.322, 0.3356, 0.33858]\n"
          ],
          "name": "stdout"
        }
      ]
    },
    {
      "cell_type": "markdown",
      "metadata": {
        "id": "-FaPB5v6tQFL"
      },
      "source": [
        "# 136. 텍스트 파일에 한줄씩 쓰기(writelines)\r\n",
        "\r\n",
        "파일 객체의 writelines()는 텍스트 문자열이나 텍스트 문자열이 요소로 되어있는 리스트를 인자로 받아 파일에 한줄씩 기록합니다. 리스트가 인자인 경우 writelines()는 리스트의 요소를 하나의 문자열로 결합하여 파일을 한꺼번에 기록합니다.  \r\n",
        ".  \r\n",
        ".  \r\n",
        "※ writelines는 리스트 자료형도 파일에 저장할 수 있습니다.\r\n",
        ".  \r\n",
        ".  \r\n",
        "예제:"
      ]
    },
    {
      "cell_type": "code",
      "metadata": {
        "colab": {
          "base_uri": "https://localhost:8080/"
        },
        "id": "1Cw78b4Qtt0p",
        "outputId": "a9189386-2a83-4b34-ef6f-860a5373bac3"
      },
      "source": [
        "listdata = [2,2,1,3,8,5,7]\r\n",
        "result = sorted(listdata)\r\n",
        "print(result)               #[1, 2, 2, 3, 5, 7, 8]\r\n",
        "f = open(\"c:\\\\data\\\\mydata2.txt\",\"w\") # mydata2.txt를 생성하겠다.\r\n",
        "f.write(str(result))    # result에 있는 내용을 mydata2.txt로 생성한다.\r\n",
        "f.close                 # 문자로 변환해야한다."
      ],
      "execution_count": 132,
      "outputs": [
        {
          "output_type": "stream",
          "text": [
            "[1, 2, 2, 3, 5, 7, 8]\n"
          ],
          "name": "stdout"
        }
      ]
    },
    {
      "cell_type": "markdown",
      "metadata": {
        "id": "AERN6I23vD6l"
      },
      "source": [
        "문제406. 아래의 리스트를 mydata9.txt로 저장하시오\r\n",
        "```\r\n",
        "listdata2 = ['a','b','c','d','e','f','g']\r\n",
        "```"
      ]
    },
    {
      "cell_type": "code",
      "metadata": {
        "colab": {
          "base_uri": "https://localhost:8080/"
        },
        "id": "ofixeUE3vKdQ",
        "outputId": "6df247a3-852a-4aac-b37e-a0d696d8ca02"
      },
      "source": [
        "listdata2 = ['a','b','c','d','e','f','g']\r\n",
        "result = sorted(listdata2)\r\n",
        "print(result)               #[1, 2, 2, 3, 5, 7, 8]\r\n",
        "f = open(\"c:\\\\data\\\\mydata9.txt\",\"w\") # mydata2.txt를 생성하겠다.\r\n",
        "f.write(str(result))    # result에 있는 내용을 mydata2.txt로 생성한다.\r\n",
        "f.close                 # 문자로 변환해야한다.\r\n"
      ],
      "execution_count": 134,
      "outputs": [
        {
          "output_type": "stream",
          "text": [
            "['a', 'b', 'c', 'd', 'e', 'f', 'g']\n"
          ],
          "name": "stdout"
        },
        {
          "output_type": "execute_result",
          "data": {
            "text/plain": [
              "<function TextIOWrapper.close>"
            ]
          },
          "metadata": {
            "tags": []
          },
          "execution_count": 134
        }
      ]
    },
    {
      "cell_type": "markdown",
      "metadata": {
        "id": "hOANvnfvvqTA"
      },
      "source": [
        "writelines 예제:\r\n",
        "\r\n"
      ]
    },
    {
      "cell_type": "code",
      "metadata": {
        "id": "1tSBgxoiwwPb"
      },
      "source": [
        "data = []\r\n",
        "while True:\r\n",
        "    text = input('저장할 내용을 입력하세요 ')\r\n",
        "    if text =='':\r\n",
        "        break\r\n",
        "    data.append(text + '\\n')    # text가 엔터와 함께 data 리스트에 append 됩니다.\r\n",
        "f = open('c:\\\\data\\\\mydata99.txt','w')  # mydata99.txt를 생성하겠다.\r\n",
        "f.writelines(data)                      # data 리스트의 내용을 mydata99.txt에 저장하겠다.\r\n",
        "f.close"
      ],
      "execution_count": null,
      "outputs": []
    },
    {
      "cell_type": "code",
      "metadata": {
        "id": "Zua__1sm0Apb"
      },
      "source": [
        "data = []\r\n",
        "while True:\r\n",
        "    text = input('저장할 내용을 입력하세요 ')\r\n",
        "    if text =='':\r\n",
        "        break\r\n",
        "    data.append(text + '\\n')    # text가 엔터와 함께 data 리스트에 append 됩니다.\r\n",
        "f = open('c:\\\\data\\\\mydata99.txt','a')  # mydata99.txt를 생성하겠다.\r\n",
        "f.writelines(data)                      # data 리스트의 내용을 mydata99.txt에 저장하겠다.\r\n",
        "f.close"
      ],
      "execution_count": null,
      "outputs": []
    },
    {
      "cell_type": "markdown",
      "metadata": {
        "id": "fA9Xlh6byF9k"
      },
      "source": [
        "설명: open의 옵션중 w는 그냥 쓰기 이고, a는 추가입니다.  "
      ]
    },
    {
      "cell_type": "markdown",
      "metadata": {
        "id": "DF9sT_pt0iLy"
      },
      "source": [
        "# 137. 텍스트 파일 복사하기(read, write)\r\n",
        "\r\n",
        "텍스트 파일을 복사하는 방법을 파이썬으로 구현하려면 read와 write를 이용하면 됩니다. read()로 텍스트 파일을 읽고 write로 읽을 내용을 다른 파일이름으로 저장하면 됩니다.  \r\n",
        "\r\n",
        "예제:"
      ]
    },
    {
      "cell_type": "code",
      "metadata": {
        "id": "Q1aKwiS704Lv"
      },
      "source": [
        "f = open('c:\\\\data\\\\mydata.txt','r')      # r은 read입니다\r\n",
        "h = open('c:\\\\data\\\\mydata_copy.txt','w') # w는 write 입니다.\r\n",
        "data = f.read()\r\n",
        "h.write(data)\r\n",
        "f.close()\r\n",
        "h.close()"
      ],
      "execution_count": null,
      "outputs": []
    },
    {
      "cell_type": "markdown",
      "metadata": {
        "id": "mXPQiwvg1kRw"
      },
      "source": [
        "#138. 바이너리 파일 복사하기(read, write)\r\n",
        "\r\n",
        "이미지나 동영상도 파이썬으로 복사 붙여넣기를 할 수 있습니다. 이미지나 동영상을 복사 붙여넣기 할 때는 파일의 크기가 크므로 한번에 읽어들일 수는 없고 일부분만 일정한 크기로 읽으면서 복사 붙여넣기를 합니다.  \r\n",
        "\r\n",
        "예제:"
      ]
    },
    {
      "cell_type": "code",
      "metadata": {
        "id": "T8HM91Ax2PI2"
      },
      "source": [
        "bufsize = 1024 # 1kb 크기의 버퍼 사이즈를\r\n",
        "f = open('c:\\\\data\\\\lena.png','rb')      # rb는 read binary입니다\r\n",
        "h = open('c:\\\\data\\\\lena_copy.png','wb') # wb는 write binary의 약자.\r\n",
        "data = f.read(bufsize)      # 이미지를 1kb를 읽어서 data에 저장합니다.\r\n",
        "while data:                 # data에 data가 발견되는 동안에 루프문을 수행합니다.\r\n",
        "    h.write(data)           # lena_copy에 1kb의 데이터씩 write 합니다.\r\n",
        "    data = f.read(bufsize)  # lena.png에서 1kb의 데이터를 read합니다.\r\n",
        "f.close()\r\n",
        "h.close()"
      ],
      "execution_count": null,
      "outputs": []
    },
    {
      "cell_type": "markdown",
      "metadata": {
        "id": "ivLMHc6n3xP6"
      },
      "source": [
        "# 139. 파일을 열고 자동으로 닫기 (with ~ as)\r\n",
        "\r\n",
        "with ~ as 절을 사용하게 되면 f.close()를 명시하지 않아도 되므로 프로그래머가 실수로 f.close()를 작성하지 않아서 발생하는 메모리 부족 오류를 예방할 수 있습니다.  \r\n",
        "\r\n"
      ]
    },
    {
      "cell_type": "code",
      "metadata": {
        "id": "ZEFfFg2v8Y3s"
      },
      "source": [
        "f = open('c:\\\\data\\\\mydata.txt','r')      # r은 read입니다\r\n",
        "h = open('c:\\\\data\\\\mydata_copy.txt','w') # w는 write 입니다.\r\n",
        "data = f.read()\r\n",
        "h.write(data)\r\n",
        "f.close()\r\n",
        "h.close()"
      ],
      "execution_count": null,
      "outputs": []
    },
    {
      "cell_type": "markdown",
      "metadata": {
        "id": "RXChRZqg8hl2"
      },
      "source": [
        "그냥 한 경우"
      ]
    },
    {
      "cell_type": "code",
      "metadata": {
        "id": "gz05Uwv68bG5"
      },
      "source": [
        "with open('c:\\\\data\\\\mydata.txt','r') as f:\r\n",
        "    data = f.readlines()\r\n",
        "    print(data)"
      ],
      "execution_count": null,
      "outputs": []
    },
    {
      "cell_type": "markdown",
      "metadata": {
        "id": "b_7rLAoN8icz"
      },
      "source": [
        "with절을 사용한 경우.  \r\n",
        "\r\n",
        "설명: with ~ as 절을 사용하면 자동으로 파일 close를 해줍니다.  "
      ]
    },
    {
      "cell_type": "markdown",
      "metadata": {
        "id": "nGunBFcg8yJr"
      },
      "source": [
        "# 140. HTML 기본문법  \r\n",
        "\r\n",
        "데이터 분석 순서\r\n",
        "\r\n",
        "데이터 수집 --> 데이터 유형 및 속성 파악 --> 데이터 변환 --> 데이터 저장 --> 데이터 정제 --> 데이터 분석  \r\n",
        "\r\n",
        "* 데이터 수집 기술  \r\n",
        "1. 웹스크롤링\r\n",
        "\r\n",
        "* html 이란? Hyper text Markup Language의 약자이고 여러개의 태그(tag)를 연결해서 모아놓은 문서  \r\n",
        "\r\n",
        "예제1. 아주 간단한 html 문서를 만들어 봅니다. \r\n",
        "\r\n",
        "*&메모장&*을  열고 아래와 같이 코딩을 하세요 ~"
      ]
    },
    {
      "cell_type": "code",
      "metadata": {
        "id": "hxLtl7iS-fho"
      },
      "source": [
        "<html><head><title> 양건준님의 오늘 일정 </title></head>\r\n",
        "<body>\r\n",
        "<p class=\"title\"> 양건준님은 오늘 점심시간에 우육탕을 먹었습니다. </p>\r\n",
        "</body>\r\n",
        "</html>"
      ],
      "execution_count": null,
      "outputs": []
    },
    {
      "cell_type": "markdown",
      "metadata": {
        "id": "ZAriHLd7-4Pd"
      },
      "source": [
        "메모장의 파일 이름을 a.html로 바탕화면에 저장하세요 ~ 저장할 때 파일 형식은 모든파일로 합니다.  \r\n",
        "```\r\n",
        "<html>로 시작했으면 </html>로 종료해야하고,\r\n",
        "<body>로 시작했으면 </body>로 종료해야한다.\r\n",
        "```"
      ]
    },
    {
      "cell_type": "code",
      "metadata": {
        "id": "8Rcuum1sAu4G"
      },
      "source": [
        "<html><head><title> 양건준님의 오늘 일정 </title></head>\r\n",
        "<body>\r\n",
        "<p class=\"title\"><b><u> 양건준님은 오늘 점심시간에 우육탕을 먹었습니다. </b></u> </p>\r\n",
        "</body>\r\n",
        "</html>"
      ],
      "execution_count": null,
      "outputs": []
    },
    {
      "cell_type": "code",
      "metadata": {
        "id": "NFS9zYTHAwqb"
      },
      "source": [
        "예제2. <b> = bold를 말한다. 글씨가 진해진다. </b>로 마무리도 해 줘야 한다.\r\n",
        "예제3. <u> = underline 밑줄을 말한다.  \r\n",
        "페이지에서 우클릭하고 페이지 소스보기를 누르면 소스도 볼 수 있다.  \r\n",
        "\r\n",
        "설명: 밑줄을 사용하려면 태그 u를 사용합니다.  \r\n",
        "\r\n",
        "예제4: 위의 글씨를 이탤릭체로 변경하시오."
      ],
      "execution_count": null,
      "outputs": []
    },
    {
      "cell_type": "code",
      "metadata": {
        "id": "vIEJe1L9Bwww"
      },
      "source": [
        "<html><head><title> 양건준님의 오늘 일정 </title></head>\r\n",
        "<body>\r\n",
        "<p class=\"title\"><i> 양건준님은 오늘 점심시간에 우육탕을 먹었습니다. </i> </p>\r\n",
        "</body>\r\n",
        "</html>"
      ],
      "execution_count": null,
      "outputs": []
    },
    {
      "cell_type": "code",
      "metadata": {
        "id": "4UmAKlApDLFA"
      },
      "source": [
        "<html><head><title> 양건준님의 오늘 일정 </title></head>\r\n",
        "<body>\r\n",
        "<p class=\"title\"><b><u><i> 양건준님은 오늘 점심시간에 우육탕을 먹었습니다. </b></u></i> </p>\r\n",
        "<p class = \"contents\"> 양건준님은 오늘 점심에 지하식당으로 내려가서 반 친구들과 같이 우육탕을 먹었습니다. 코로나에 대한 걱정도 있었지만 용기내서 먹었습니다. </p>\r\n",
        "</body>\r\n",
        "</html>"
      ],
      "execution_count": null,
      "outputs": []
    },
    {
      "cell_type": "markdown",
      "metadata": {
        "id": "PwSVx2cFDL2i"
      },
      "source": [
        "설명: 제목은 class title에 적고 내용은 class content에 적습니다.  \r\n",
        "\r\n",
        "예제6. 위에서 만든 html 문서의 본문에 링크를 거시오!\r\n",
        "(링크는 우리반 카페주소로 하세요~)  \r\n"
      ]
    },
    {
      "cell_type": "code",
      "metadata": {
        "id": "9spu31e2EZYI"
      },
      "source": [
        "<html><head><title> 양건준님의 오늘 일정 </title></head>\r\n",
        "<body>\r\n",
        "<p class=\"title\"><b><u><i> 양건준님은 오늘 점심시간에 우육탕을 먹었습니다. </b></u></i> </p>\r\n",
        "<p class = \"contents\"> 양건준님은 오늘 점심에 지하식당으로 내려가서 반 친구들과 같이 우육탕을 먹었습니다. 코로나에 대한 걱정도 있었지만 용기내서 먹었습니다. \r\n",
        "<a href=\"http://cafe.daum.net/oracleoracle\" class=\"cafe1\" id=\"link1\"> 다음카페</a>\r\n",
        "</p>\r\n",
        "</body>\r\n",
        "</html>"
      ],
      "execution_count": null,
      "outputs": []
    },
    {
      "cell_type": "markdown",
      "metadata": {
        "id": "RluL9y0JEzak"
      },
      "source": [
        "문제407. 다음과 같이 내용과 링크를 수정하시오 ~   \r\n",
        "양건준님은 오늘 점심에 지하식당으로 내려가서 반 친구들과 같이 우육탕을 먹었습니다. 코로나에 대한 걱정도 있었지만 용기내서 먹었습니다. 우육탕집 식당 홈페이지는 바로가기를 누르세요. 바로가기 "
      ]
    },
    {
      "cell_type": "code",
      "metadata": {
        "id": "qKYTi09XE8hg"
      },
      "source": [
        "<html><head><title> 양건준님의 오늘 일정 </title></head>\r\n",
        "<body>\r\n",
        "<p class = \"title\"><b>양건준님은 오늘 점심에 지하식당으로 내려가서 반 친구들과 같이 우육탕을 먹었습니다.\r\n",
        "<p class = \"contents\">양건준님은 오늘 점심에 지하식당으로 내려가서 반 친구들과 같이 우육탕을 먹었습니다. 코로나에 대한 걱정도 있었지만 용기내서 먹었습니다. 우육탕집 식당 홈페이지는 바로가기를 누르세요. </b> </p>\r\n",
        "<a href = \"http://jeremie20.com/niabbs5/index.php\" class =\"cafe1\" id =\"link1\" > 바로가기</a>\r\n",
        "</p>\r\n",
        "</body>\r\n",
        "</html>"
      ],
      "execution_count": null,
      "outputs": []
    },
    {
      "cell_type": "markdown",
      "metadata": {
        "id": "yrP3KG4zFm81"
      },
      "source": [
        "설명: 워드 문서를 만들때도 그 문서내에 단원도 있고 세부 목차도 있듯이 class에 그 html 문서의 특정 단원이라고 보면 되고 id는 링크를 줄 때 부여하는 제목인데 id는 값이 unique합니다. 그러니까 그냥 제목이다."
      ]
    },
    {
      "cell_type": "markdown",
      "metadata": {
        "id": "qP1dOJG4J5oB"
      },
      "source": [
        "# 141. beautiful soup 모듈 배우기 \r\n",
        "\r\n",
        "* beautiful soup 모듈이란? 파이썬 코드를 복잡하게 작성하지 않아도 편하게 웹스크롤링을 할 수 있도록 여러 함수들을 제공하는 웹 스크롤링 전문 모듈  \r\n",
        "\r\n",
        "* 카페에서 ecologicalpyramid.html 문서를 내려받아 c드라이브 데이터에 저장하세요  \r\n",
        "\r\n",
        "예제1. ecologicalpyramid.html 코드를 beautiful soup 모듈에서 사용할 수 있도록 파싱을 하고 파싱된 내용 출력하시오!"
      ]
    },
    {
      "cell_type": "code",
      "metadata": {
        "colab": {
          "base_uri": "https://localhost:8080/"
        },
        "id": "l_Hffe1QLICi",
        "outputId": "08c8b91a-fd20-4f5e-949d-ce488d300dbb"
      },
      "source": [
        "from bs4 import BeautifulSoup\r\n",
        "f = open(\"ecologicalpyramid.html\")\r\n",
        "soup = BeautifulSoup(f,\"html.parser\")\r\n",
        "print(soup)"
      ],
      "execution_count": 137,
      "outputs": [
        {
          "output_type": "stream",
          "text": [
            "<html>\n",
            "<body>\n",
            "<div class=\"ecopyramid\">\n",
            "<ul id=\"producers\">\n",
            "<li class=\"producerlist\">\n",
            "<div class=\"name\">plants</div>\n",
            "<div class=\"number\">100000</div>\n",
            "</li>\n",
            "<li class=\"producerlist\">\n",
            "<div class=\"name\">algae</div>\n",
            "<div class=\"number\">100000</div>\n",
            "</li>\n",
            "</ul>\n",
            "<ul id=\"primaryconsumers\">\n",
            "<li class=\"primaryconsumerlist\">\n",
            "<div class=\"name\">deer</div>\n",
            "<div class=\"number\">1000</div>\n",
            "</li>\n",
            "<li class=\"primaryconsumerlist\">\n",
            "<div class=\"name\">rabbit</div>\n",
            "<div class=\"number\">2000</div>\n",
            "</li>\n",
            "</ul>\n",
            "<ul id=\"secondaryconsumers\">\n",
            "<li class=\"secondaryconsumerlist\">\n",
            "<div class=\"name\">fox</div>\n",
            "<div class=\"number\">100</div>\n",
            "</li>\n",
            "<li class=\"secondaryconsumerlist\">\n",
            "<div class=\"name\">bear</div>\n",
            "<div class=\"number\">100</div>\n",
            "</li>\n",
            "</ul>\n",
            "<ul id=\"tertiaryconsumers\">\n",
            "<li class=\"tertiaryconsumerlist\">\n",
            "<div class=\"name\">lion</div>\n",
            "<div class=\"number\">80</div>\n",
            "</li>\n",
            "<li class=\"tertiaryconsumerlist\">\n",
            "<div class=\"name\">tiger</div>\n",
            "<div class=\"number\">50</div>\n",
            "</li>\n",
            "</ul>\n",
            "</div></body>\n",
            "</html>\n"
          ],
          "name": "stdout"
        }
      ]
    },
    {
      "cell_type": "markdown",
      "metadata": {
        "id": "yjHTT-E6LHe9"
      },
      "source": [
        "클래스이름이 유니크 하지가 않다.  \r\n",
        "예제2. ecologicalpyramid.html 코드에서 class 이름 name에 접근해서 데이터를 긁어오시오!"
      ]
    },
    {
      "cell_type": "code",
      "metadata": {
        "colab": {
          "base_uri": "https://localhost:8080/"
        },
        "id": "6bWC6cfbMQfH",
        "outputId": "b37bbcda-20a4-48ed-eadd-89f8549aae7d"
      },
      "source": [
        "from bs4 import BeautifulSoup\r\n",
        "f = open(\"ecologicalpyramid.html\")\r\n",
        "soup = BeautifulSoup(f,\"html.parser\")\r\n",
        "result = soup.find_all(class_ =\"name\")\r\n",
        "print(result)"
      ],
      "execution_count": 142,
      "outputs": [
        {
          "output_type": "stream",
          "text": [
            "[<div class=\"name\">plants</div>, <div class=\"name\">algae</div>, <div class=\"name\">deer</div>, <div class=\"name\">rabbit</div>, <div class=\"name\">fox</div>, <div class=\"name\">bear</div>, <div class=\"name\">lion</div>, <div class=\"name\">tiger</div>]\n"
          ],
          "name": "stdout"
        }
      ]
    },
    {
      "cell_type": "markdown",
      "metadata": {
        "id": "prZz7lb8MPwK"
      },
      "source": [
        "클래스 name에 해당하는 부분만 다 가져온 것   \r\n",
        "\r\n",
        "예제3. 위에서 긁어온 데이터에서 html 코드 말고 text만 출력하시오.\r\n"
      ]
    },
    {
      "cell_type": "code",
      "metadata": {
        "colab": {
          "base_uri": "https://localhost:8080/"
        },
        "id": "Twp4IwBGNbg9",
        "outputId": "9df11729-c53d-41fa-f32f-126eefc0652e"
      },
      "source": [
        "from bs4 import BeautifulSoup\r\n",
        "f = open(\"ecologicalpyramid.html\")\r\n",
        "soup = BeautifulSoup(f,\"html.parser\")\r\n",
        "result = soup.find_all(class_ =\"name\")\r\n",
        "for i in result: # result 리스트 안의 요소를 하나씩  가져옵니다.\r\n",
        "    print(i.get_text())\r\n",
        "    print(i)"
      ],
      "execution_count": 145,
      "outputs": [
        {
          "output_type": "stream",
          "text": [
            "plants\n",
            "<div class=\"name\">plants</div>\n",
            "algae\n",
            "<div class=\"name\">algae</div>\n",
            "deer\n",
            "<div class=\"name\">deer</div>\n",
            "rabbit\n",
            "<div class=\"name\">rabbit</div>\n",
            "fox\n",
            "<div class=\"name\">fox</div>\n",
            "bear\n",
            "<div class=\"name\">bear</div>\n",
            "lion\n",
            "<div class=\"name\">lion</div>\n",
            "tiger\n",
            "<div class=\"name\">tiger</div>\n"
          ],
          "name": "stdout"
        }
      ]
    },
    {
      "cell_type": "markdown",
      "metadata": {
        "id": "8ThrnemUN15S"
      },
      "source": [
        ".get_text() 빼먹으면 안된다.  \r\n",
        "\r\n",
        "문제408. ecologicalpyramid.html 문서에서 숫자들만 가져와보자"
      ]
    },
    {
      "cell_type": "code",
      "metadata": {
        "colab": {
          "base_uri": "https://localhost:8080/"
        },
        "id": "0bjcmM_-OVLc",
        "outputId": "be69114c-b386-4e75-cbcf-582804deaabf"
      },
      "source": [
        "from bs4 import BeautifulSoup\r\n",
        "f = open(\"ecologicalpyramid.html\")\r\n",
        "soup = BeautifulSoup(f,\"html.parser\")\r\n",
        "result = soup.find_all(class_ =\"number\")\r\n",
        "for i in result: # result 리스트 안의 요소를 하나씩  가져옵니다.\r\n",
        "    print(i.get_text())"
      ],
      "execution_count": 152,
      "outputs": [
        {
          "output_type": "stream",
          "text": [
            "100000\n",
            "100000\n",
            "1000\n",
            "2000\n",
            "100\n",
            "100\n",
            "80\n",
            "50\n"
          ],
          "name": "stdout"
        }
      ]
    },
    {
      "cell_type": "markdown",
      "metadata": {
        "id": "-1Z1-pZgO6ri"
      },
      "source": [
        "문제409. 위에서 긁어온 숫자들을 a라는 비어있는 리스트에 저장한 후 a안의 요소들을 정렬하고 a 리스트를 출력하시오!"
      ]
    },
    {
      "cell_type": "code",
      "metadata": {
        "colab": {
          "base_uri": "https://localhost:8080/"
        },
        "id": "5KijYQZxPASG",
        "outputId": "4e8f0a33-8e65-4043-a1ff-1a8030a83413"
      },
      "source": [
        "a = []\r\n",
        "from bs4 import BeautifulSoup\r\n",
        "f = open(\"ecologicalpyramid.html\")\r\n",
        "soup = BeautifulSoup(f,\"html.parser\")\r\n",
        "result = soup.find_all(class_ =\"number\")\r\n",
        "for i in result: # result 리스트 안의 요소를 하나씩  가져옵니다.\r\n",
        "    a.append(int(i.get_text()))     #str 형식이라 int 씌워줘야 sorted가 정렬됨\r\n",
        "print(sorted(a))\r\n",
        "\r\n",
        "print(a.sort)"
      ],
      "execution_count": 165,
      "outputs": [
        {
          "output_type": "stream",
          "text": [
            "[50, 80, 100, 100, 1000, 2000, 100000, 100000]\n",
            "<built-in method sort of list object at 0x7fbbc5059c08>\n"
          ],
          "name": "stdout"
        }
      ]
    },
    {
      "cell_type": "markdown",
      "metadata": {
        "id": "w8XLy03sQbO_"
      },
      "source": [
        "문제410. 중앙일보사 홈페이지로 가서 신문기사 하나를 보시오.  \r\n",
        "ctrl + s로 html 문서를 aa77.html로 저장합니다.  \r\n",
        "\r\n",
        "문제411. aa77.html을 beautifulsoup 모듈의 함수를 쓸 수 있도록 파싱하고 출력하시오."
      ]
    },
    {
      "cell_type": "code",
      "metadata": {
        "id": "fC06yD3mQbIi"
      },
      "source": [
        "from bs4 import BeautifulSoup\r\n",
        "f = open(\"aa77.html\",encoding=\"UTF8\")\r\n",
        "soup = BeautifulSoup(f,\"html.parser\")\r\n",
        "print(soup)"
      ],
      "execution_count": null,
      "outputs": []
    },
    {
      "cell_type": "markdown",
      "metadata": {
        "id": "vLDHGY71R9pz"
      },
      "source": [
        "문제412. 위의 기사의 본문을 가져오기 위해서 기사 본문의 class 이름이 무엇인지 확인하세요 ~  \r\n",
        "\r\n",
        "크롬에서 F12 누르면 개발자 모드가 뜨는데 body class가 나온다. 좌상단 화살표를 누르면 본문에 드래그가 되는데 클릭하면 본문에 해당하는 클래스부분이 자동으로 나온다.  \r\n",
        "본문에 해당하는 클래스 이름은 \"article_body mg fs4\" 였다.  \r\n",
        "크롬의 개발자 모드 단축키인 F12를 누르면 옆에html코드창이 나오면서 개발자 모드 화면이 열립니다. 그러면 위쪽에 화살표를 클릭하고 기사 본문을 클릭하면 html 문서에 class 이름을 확인할 수 있는 html 문서쪽으로 바로 이동합니다.  \r\n",
        "\r\n",
        "문제413. 클래스이름 article_body mg fs4로 접근하여 text를 긁어오시오."
      ]
    },
    {
      "cell_type": "code",
      "metadata": {
        "colab": {
          "base_uri": "https://localhost:8080/"
        },
        "id": "Ngyz0P3YTVIC",
        "outputId": "0812697e-80c3-448a-bf3a-2e61aa1ceb1a"
      },
      "source": [
        "a = []\r\n",
        "from bs4 import BeautifulSoup\r\n",
        "f = open(\"aa77.html\",encoding=\"UTF8\")\r\n",
        "soup = BeautifulSoup(f,\"html.parser\")\r\n",
        "result = soup.find_all(class_ =\"article_body mg fs4\")\r\n",
        "for i in result: # result 리스트 안의 요소를 하나씩  가져옵니다.\r\n",
        "    a.append(i.get_text())\r\n",
        "print(a)"
      ],
      "execution_count": 181,
      "outputs": [
        {
          "output_type": "stream",
          "text": [
            "['\\n\\n\\n\\n인공지능(AI)이 질병을 미리 알려주고, 평균 신약 개발 기간을 10년에서 3년으로 줄여주는 세상. 생각보다 머지 않은 미래다. 국내에서도 의료 AI 기업들이 선전하고 있다. 저명한 학술지에 소개될 만큼 기술력도 인정받고 있다. 하지만 글로벌 수준의 대규모 투자 유치 소식은 아직이다. 왜일까.     \\xa0        의사와 AI가 함께 질환을 판독하는 시대 [사진 셔터스톡]    무슨 일이야   딥러닝 기반 국내 의료 AI 스타트업의 성장세가 가파르다. 눈에 띄는 곳은 \\'루닛\\'과 \\'뷰노\\'. 엑스레이·MRI·CT 영상 등을 보고 질환 신호를 읽어내는 AI를 만든다. 이들은 이달 초 보건복지부 인증 \\'30개 혁신형 의료기기 기업\\'에 나란히 꼽혔다.     · 루닛의 폐암·유방암 진단 AI는 서울대병원·아산병원 등 국내 상위 10개 대형병원 중 7개가 사용한다. 정확도는 97~99%. 김은경 용인세브란스병원 영상의학과 교수는 \"1년 전 루닛 AI를 도입한 뒤 판독 수준이 균일하게 상향 평준화됐다.\\xa0\\'경험 많은 베테랑 의사\\'급이다\"며 \"의사의 영상 판독 시간도 평균 10시간에서 8시간으로 20% 줄어 환자 상담 등에 쓸 수 있는 시간이 많아졌다\"고 말했다. 루닛이 유치한 누적 투자액은 600억원.     · 뷰노는 뼈 나이 판독 AI, 치매 진단 AI, 흉부·망막질환 진단 AI 등을 만든다. 자체 연구 결과 의사의 판독 시간을 40~50% 단축한다. 전국 의료기관 200여 곳이 뷰노의 AI를 쓴다. 누적 투자유치 250억원.     · 두 기업 모두 글로벌 기업에 기술을 공급하고 있다. 지난 6월 루닛은 세계 1위 영상장비업체 GE헬스케어와, 뷰노는 일본 최대 의료정보 플랫폼 M3와 솔루션 판권 계약을 맺었다. GE와 M3의 의료 장비에 루닛과 뷰노의 기술이 각각 탑재된다는 뜻.     · 의료 현장에서도 긍정적 평가가 나온다. 한부경 삼성서울병원 영상의학과 교수는 \"기존에 쓰던 캐드(CAD·20여년 전 나온 의료영상 분석 소프트웨어)는 정확하게 진단을 잘 못해 \\'양치기 소년\\' 취급을 받았는데, 요즘 AI는 정확도가 높아 의사들도 진지하게 참고한다\"고 말했다.     \\xa0        서범석 루닛 대표(왼쪽), 김현준 뷰노 대표 [사진 각 사]    산업·의료계는 뭐래     의료 AI에 대한 시장과 의료계 현장의 기대가 높아지고 있다. 글로벌 의료 AI 시장은 2020년 5조원에서 2026년 49조원 규모까지 커질 전망(시장조사업체 마켓앤마켓).      · 지난 1월 데이터3법 통과로 의료 데이터 활용이 쉬워졌다. 서범석 루닛 대표는 \"여러 기관 간 정보 연계가 가능해져 가명정보 활용이 수월해질 것으로 본다\"고 했다.     · AI에 대한 의사들의 관심도 부쩍 늘었다. 한부경 삼성서울병원 교수는 \"AI 관련 교육, AI만 다루는 심포지엄 등이 10년 전보다 10배 이상 늘었다\"고 말했다.     · 유리한 개발 환경도 장점. 김현준 뷰노 대표는 \"한국은 수도권과 지방 대형 병원에 환자가 몰리는 편이라, 대규모 환자 데이터를 구하기 좋은 환경\"이라며 \"IT 인프라도 뛰어나 의료 AI 강국이 될 좋은 조건을 갖고 있다\"고 말했다.     \\xa0     남은 과제는?     글로벌 시장은 크지만, 국내 시장의 성장 속도가 더디다.     · 2014년 이후 설립된 기업 중 누적 투자액 상위 100개 글로벌 디지털 헬스케어 스타트업에 국내 업체는 없다(삼정KPMG). 이에 대해 뷰노에 투자한 백인수 스마일게이트인베스트먼트 이사는 \"의료 AI 기업은 대개 본격적인 매출과 수익이 나기 전에 특례상장제도를 통해 상장을 한다. 한국 투자자들은 상장(IPO)을 통해 투자금을 회수하는 편이라, 공모가 기준 예측가능한 기업가치만큼만 투자하게 된다\"며 \"미국의 의료AI 스타트업들만큼 투자를 받긴 힘든 환경\"이라고 설명했다.     · 아직 건강보험 수가(진료비)를 적용받지 못한다는 것도 한계. 판독형 의료 AI는 병원이 자비로 도입해야 한다. 의료 스타트업 엑셀러레이터인 디지털헬스케어파트너스(DHP)의 김치원 공동창업자(서울와이즈요양병원 원장)은\\xa0\"수가에 반영되지 않은 기술은 병원에 확산되기 어렵다\"며 \"의료 AI 기업이 매출을 내려면 하드웨어 기업에 솔루션을 팔거나, 판독형 AI를 뛰어넘는 혁신적인 기술을 만들어내는 수밖에 없다. 지금 수준의 의료 AI가 수가를 못 받는 건 해외서도 비슷하다\"고 전했다.     · 완고한 의료계 리더십도 풀어야 할 과제다. 김은경 용인세브란스 교수는 \"대형 병원이나 학회들이 \\'AI는 의사를 도와주는 존재\\'라는 인식이 자리잡아야 하는데 아직은 보수적\"이라고 말했다.    \\xa0     해외에선 어때        구글의 폐암 진단 AI 모델 [사진 구글]         · 바둑 AI \\'알파고\\'로 유명한 구글 딥마인드는 지난해 AI 의료기기를 출시했다. 녹내장·당뇨망막증 등 심각한 안과 질환 50여 종을 30초 안에 판독하는 의료기기다. 유방암과 폐암, 전립선암 진단 보조 AI도 구글의 연구 분야다. 구글벤처스가 투자한 헬스케어 스타트업만 누적 300여개다.     · 의사의 판독을 돕는 AI를 넘어 질병을 예측하는 AI도 나오고 있다. 미국 기업 \\'하트플로우\\'의 AI는 관상동맥 CT를 보고 심근경색 등 심장 질환 가능성을 예견한다. 결과적으로 불필요한 수술을 줄일 수 있다. 하트플로우는 미국, 영국 등에서 수가를 인정받았다.     · 최근 AI는 신약 개발에서도 주목받고 있다. 캐나다 제약 AI 조사업체 \\'벤치사이\\'가 과학자 330명을 설문한 결과에 따르면, AI는 신약 개발 기간과 비용을 약 20%씩 줄일 수 있다. 일본제약공업협회는 더 나아가 50%까지 줄일 것으로 내다봤다. AI가 100만건의 논문 탐색, 1만건의 후보물질 검토를 빠르게 처리해 평균 10년의 개발 기간을 3~4년으로, 1조2000억원의 개발비를 6000억원으로 줄일 수 있다는 것. 신약의 평균 이익률이 2~5%임을 감안하면 유의미한 숫자로 평가된다.     \\xa0   관련기사[팩플] \\'건강 데이터\\' 쥔 자, 223조 헬스케어 시장도 쥔다이래서 의료 클라우드 겉돈다···\\'데이터댐 5000억\\' 정부 착각23년전 \\'개구리 암\\' 해부···구글·MS 누른 의료 AI 만들었다  김정민 기자 kim.jungmin4@joongang.co.kr     \\xa0                팩플레터 구독신청은 여기서 → https://url.kr/qmvPIX \\n\\n\\n\\n']\n"
          ],
          "name": "stdout"
        }
      ]
    },
    {
      "cell_type": "markdown",
      "metadata": {
        "id": "8j4QodwMUCxe"
      },
      "source": [
        "클래스 이름 알아내는거 비법이다."
      ]
    },
    {
      "cell_type": "markdown",
      "metadata": {
        "id": "YFoGWN45XR4g"
      },
      "source": [
        "문제414. 위에서 스크롤링한 중앙일보 기사를 c 드라이브 밑에 mytext23.txt로 저장하시오! ( 반드시 저장해야 기사를 워드 클라우드로 시각화를 할 수 있음)"
      ]
    },
    {
      "cell_type": "code",
      "metadata": {
        "id": "8Fr3z321Szdr"
      },
      "source": [
        "a = []\r\n",
        "from bs4 import BeautifulSoup\r\n",
        "f = open(\"aa77.html\",encoding=\"UTF8\")\r\n",
        "soup = BeautifulSoup(f,\"html.parser\")\r\n",
        "result = soup.find_all(class_ =\"article_body mg fs4\")\r\n",
        "for i in result: # result 리스트 안의 요소를 하나씩  가져옵니다.\r\n",
        "    a.append(i.get_text())\r\n",
        "a = str(a)\r\n",
        "\r\n",
        "h = open('c:\\\\data\\\\mytext23.txt','w') # w는 write 입니다.\r\n",
        "h.write(a)\r\n",
        "h.close()"
      ],
      "execution_count": 184,
      "outputs": []
    }
  ]
}