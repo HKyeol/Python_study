{
  "nbformat": 4,
  "nbformat_minor": 0,
  "metadata": {
    "colab": {
      "name": "201223버블,탐욕,재귀,LUR.ipynb",
      "provenance": [],
      "toc_visible": true,
      "authorship_tag": "ABX9TyNocF3OYeX1TO+ykQgJMtq3",
      "include_colab_link": true
    },
    "kernelspec": {
      "name": "python3",
      "display_name": "Python 3"
    }
  },
  "cells": [
    {
      "cell_type": "markdown",
      "metadata": {
        "id": "view-in-github",
        "colab_type": "text"
      },
      "source": [
        "<a href=\"https://colab.research.google.com/github/HKyeol/Python_study/blob/master/201223%EB%B2%84%EB%B8%94%2C%ED%83%90%EC%9A%95%2C%EC%9E%AC%EA%B7%80%2CLUR.ipynb\" target=\"_parent\"><img src=\"https://colab.research.google.com/assets/colab-badge.svg\" alt=\"Open In Colab\"/></a>"
      ]
    },
    {
      "cell_type": "markdown",
      "metadata": {
        "id": "LRv1w2qWHeyX"
      },
      "source": [
        "# 154. 필수 알고리즘3 (버블정렬)\r\n",
        "\r\n",
        "버블정렬이란?  \r\n",
        "서로 인접한 두 요소의 크기를 서로 비교하여 순서에 맞지 않는 요소를 인접한 요소와 서로 교환하여 정렬하는 정렬방법을 버블(bubble) 정렬이라고 합니다.  \r\n",
        "\r\n",
        "문제502. 아래의 리스트를 만들고 첫번째 요소와 두번째 요소의 순서를 변경하시오.\r\n",
        "```\r\n",
        "a=[10,5,20,9,8]\r\n",
        "결과 : [5,10,20,9,8]\r\n",
        "```"
      ]
    },
    {
      "cell_type": "code",
      "metadata": {
        "colab": {
          "base_uri": "https://localhost:8080/"
        },
        "id": "MfZp6w3THeAy",
        "outputId": "0f8bb38f-d81a-4583-a7d3-d8b67000e17b"
      },
      "source": [
        "a=[10,5,20,9,8]\r\n",
        "a[0],a[1] = a[1],a[0]\r\n",
        "a"
      ],
      "execution_count": 10,
      "outputs": [
        {
          "output_type": "execute_result",
          "data": {
            "text/plain": [
              "[5, 10, 20, 9, 8]"
            ]
          },
          "metadata": {
            "tags": []
          },
          "execution_count": 10
        }
      ]
    },
    {
      "cell_type": "markdown",
      "metadata": {
        "id": "1M-GWE5_Hd6W"
      },
      "source": [
        "문제503. 아래의 a 리스트의 첫번째 요소와 두번째 요소의 크기를 비교해서 첫번째 요소의 숫자가 두번째 요소의 숫자보다 크다면 두개를 바꿔치기해라\r\n",
        "```\r\n",
        "a=[10,5,20,9,8]\r\n",
        "결과 : [5,10,20,9,8]\r\n",
        "```"
      ]
    },
    {
      "cell_type": "code",
      "metadata": {
        "id": "Ki6A5q07B4Vz"
      },
      "source": [
        "a=[10,5,20,9,8]\r\n",
        "if a[0] > a[1]:\r\n",
        "    a[0],a[1] = a[1],a[0]\r\n",
        "a"
      ],
      "execution_count": null,
      "outputs": []
    },
    {
      "cell_type": "markdown",
      "metadata": {
        "id": "NB7jme_bLKUm"
      },
      "source": [
        "문제504. 문제503번 코드에 for loop문을 넣어서 버블정렬하시오!"
      ]
    },
    {
      "cell_type": "code",
      "metadata": {
        "colab": {
          "base_uri": "https://localhost:8080/"
        },
        "id": "6muLmwmWLNYs",
        "outputId": "b0942a81-9d00-4931-8edc-d2afde209c34"
      },
      "source": [
        "a=[5,4,3,2,1,8,7,10]\r\n",
        "for j in range(len(a)-1):\r\n",
        "    for i in range(len(a)-j-1):\r\n",
        "        if a[i] > a[i+1]:\r\n",
        "            a[i],a[i+1] = a[i+1],a[i]\r\n",
        "a"
      ],
      "execution_count": 30,
      "outputs": [
        {
          "output_type": "execute_result",
          "data": {
            "text/plain": [
              "[1, 2, 3, 4, 5, 7, 8, 10]"
            ]
          },
          "metadata": {
            "tags": []
          },
          "execution_count": 30
        }
      ]
    },
    {
      "cell_type": "code",
      "metadata": {
        "id": "b7KRY18TNTxQ"
      },
      "source": [
        "문제505. 필수알고리즘3)버블정렬을 하는 함수를 아래와 같이 생성하시오!\r\n",
        "```\r\n",
        "a=[5,4,3,2,1,8,7,10]\r\n",
        "print(bubble_sort(a))\r\n",
        "결과: [1, 2, 3, 4, 5, 7, 8, 10]\r\n",
        "```"
      ],
      "execution_count": null,
      "outputs": []
    },
    {
      "cell_type": "code",
      "metadata": {
        "colab": {
          "base_uri": "https://localhost:8080/"
        },
        "id": "apllE0oYNc2E",
        "outputId": "f3b768a6-c83d-49a7-d262-1e3f8eafb7e1"
      },
      "source": [
        "def bubble_sort(a):\r\n",
        "    cnt = 0\r\n",
        "    for j in range(len(a)-1):\r\n",
        "        for i in range(len(a)-j-1): # 과도한 계산을 막기 위해서 하나씩 빼줌 처음에 정렬된 제일 큰 수는 안봐도 되니까\r\n",
        "            if a[i] > a[i+1]:\r\n",
        "                a[i],a[i+1] = a[i+1],a[i]\r\n",
        "            print(a)\r\n",
        "            cnt += 1\r\n",
        "    print(cnt)\r\n",
        "    return a\r\n",
        "a=[5,4,3,2,1,8,7,10]\r\n",
        "\r\n",
        "print(bubble_sort(a))"
      ],
      "execution_count": 111,
      "outputs": [
        {
          "output_type": "stream",
          "text": [
            "[4, 5, 3, 2, 1, 8, 7, 10]\n",
            "[4, 3, 5, 2, 1, 8, 7, 10]\n",
            "[4, 3, 2, 5, 1, 8, 7, 10]\n",
            "[4, 3, 2, 1, 5, 8, 7, 10]\n",
            "[4, 3, 2, 1, 5, 8, 7, 10]\n",
            "[4, 3, 2, 1, 5, 7, 8, 10]\n",
            "[4, 3, 2, 1, 5, 7, 8, 10]\n",
            "[3, 4, 2, 1, 5, 7, 8, 10]\n",
            "[3, 2, 4, 1, 5, 7, 8, 10]\n",
            "[3, 2, 1, 4, 5, 7, 8, 10]\n",
            "[3, 2, 1, 4, 5, 7, 8, 10]\n",
            "[3, 2, 1, 4, 5, 7, 8, 10]\n",
            "[3, 2, 1, 4, 5, 7, 8, 10]\n",
            "[2, 3, 1, 4, 5, 7, 8, 10]\n",
            "[2, 1, 3, 4, 5, 7, 8, 10]\n",
            "[2, 1, 3, 4, 5, 7, 8, 10]\n",
            "[2, 1, 3, 4, 5, 7, 8, 10]\n",
            "[2, 1, 3, 4, 5, 7, 8, 10]\n",
            "[1, 2, 3, 4, 5, 7, 8, 10]\n",
            "[1, 2, 3, 4, 5, 7, 8, 10]\n",
            "[1, 2, 3, 4, 5, 7, 8, 10]\n",
            "[1, 2, 3, 4, 5, 7, 8, 10]\n",
            "[1, 2, 3, 4, 5, 7, 8, 10]\n",
            "[1, 2, 3, 4, 5, 7, 8, 10]\n",
            "[1, 2, 3, 4, 5, 7, 8, 10]\n",
            "[1, 2, 3, 4, 5, 7, 8, 10]\n",
            "[1, 2, 3, 4, 5, 7, 8, 10]\n",
            "[1, 2, 3, 4, 5, 7, 8, 10]\n",
            "28\n",
            "[1, 2, 3, 4, 5, 7, 8, 10]\n"
          ],
          "name": "stdout"
        }
      ]
    },
    {
      "cell_type": "code",
      "metadata": {
        "colab": {
          "base_uri": "https://localhost:8080/"
        },
        "id": "txhGWc3uN_7A",
        "outputId": "747dbac7-7b59-4559-9661-ec5b97b3af51"
      },
      "source": [
        "def bubble_sort(a):\r\n",
        "    j = -1\r\n",
        "    cnt = 0\r\n",
        "    temp = ''\r\n",
        "    b = 1 # 계산을 줄이기 위해서 추가함\r\n",
        "    while True:\r\n",
        "        n = 0\r\n",
        "        j += 1\r\n",
        "        for i in range(len(a)-j-b): # 과도한 계산을 막기 위해서 하나씩 빼줌 처음에 정렬된 제일 큰 수는 안봐도 되니까\r\n",
        "            temp = n\r\n",
        "            if a[i] > a[i+1]:\r\n",
        "                a[i],a[i+1] = a[i+1],a[i]\r\n",
        "                n += 1\r\n",
        "            print(a,n,temp,i, len(a)-j-b)\r\n",
        "            cnt += 1\r\n",
        "            if n == temp and i == len(a)-j-b-1:\r\n",
        "                b += 1\r\n",
        "        if n == 0:\r\n",
        "            break\r\n",
        "    print(cnt)   \r\n",
        "    return a\r\n",
        "a=[10,9,1,2,3,4,5,6,7,8]\r\n",
        "#a=[5,4,3,2,1,8,7,10]\r\n",
        "\r\n",
        "print(bubble_sort(a))"
      ],
      "execution_count": 112,
      "outputs": [
        {
          "output_type": "stream",
          "text": [
            "[9, 10, 1, 2, 3, 4, 5, 6, 7, 8] 1 0 0 9\n",
            "[9, 1, 10, 2, 3, 4, 5, 6, 7, 8] 2 1 1 9\n",
            "[9, 1, 2, 10, 3, 4, 5, 6, 7, 8] 3 2 2 9\n",
            "[9, 1, 2, 3, 10, 4, 5, 6, 7, 8] 4 3 3 9\n",
            "[9, 1, 2, 3, 4, 10, 5, 6, 7, 8] 5 4 4 9\n",
            "[9, 1, 2, 3, 4, 5, 10, 6, 7, 8] 6 5 5 9\n",
            "[9, 1, 2, 3, 4, 5, 6, 10, 7, 8] 7 6 6 9\n",
            "[9, 1, 2, 3, 4, 5, 6, 7, 10, 8] 8 7 7 9\n",
            "[9, 1, 2, 3, 4, 5, 6, 7, 8, 10] 9 8 8 9\n",
            "[1, 9, 2, 3, 4, 5, 6, 7, 8, 10] 1 0 0 8\n",
            "[1, 2, 9, 3, 4, 5, 6, 7, 8, 10] 2 1 1 8\n",
            "[1, 2, 3, 9, 4, 5, 6, 7, 8, 10] 3 2 2 8\n",
            "[1, 2, 3, 4, 9, 5, 6, 7, 8, 10] 4 3 3 8\n",
            "[1, 2, 3, 4, 5, 9, 6, 7, 8, 10] 5 4 4 8\n",
            "[1, 2, 3, 4, 5, 6, 9, 7, 8, 10] 6 5 5 8\n",
            "[1, 2, 3, 4, 5, 6, 7, 9, 8, 10] 7 6 6 8\n",
            "[1, 2, 3, 4, 5, 6, 7, 8, 9, 10] 8 7 7 8\n",
            "[1, 2, 3, 4, 5, 6, 7, 8, 9, 10] 0 0 0 7\n",
            "[1, 2, 3, 4, 5, 6, 7, 8, 9, 10] 0 0 1 7\n",
            "[1, 2, 3, 4, 5, 6, 7, 8, 9, 10] 0 0 2 7\n",
            "[1, 2, 3, 4, 5, 6, 7, 8, 9, 10] 0 0 3 7\n",
            "[1, 2, 3, 4, 5, 6, 7, 8, 9, 10] 0 0 4 7\n",
            "[1, 2, 3, 4, 5, 6, 7, 8, 9, 10] 0 0 5 7\n",
            "[1, 2, 3, 4, 5, 6, 7, 8, 9, 10] 0 0 6 7\n",
            "24\n",
            "[1, 2, 3, 4, 5, 6, 7, 8, 9, 10]\n"
          ],
          "name": "stdout"
        }
      ]
    },
    {
      "cell_type": "markdown",
      "metadata": {
        "id": "nLdgEFUQfOw_"
      },
      "source": [
        "# 155. 필수 알고리즘4 (탐욕 알고리즘)  \r\n",
        "\r\n",
        "머신러닝 배울 때 의사결정트리를 구현할 때 사용하는 알고리즘입니다.  \r\n",
        "\r\n",
        "탐욕 알고리즘이란? 탐욕 알고리즘은 매 순간마다 최선의 선택을 하는 것입니다. 선택할 때마다 가장 좋다고 생각되는 것을 선택해나가며 최종적인 해답을 구하는 알고리즘입니다.  \r\n",
        "이 알고리즘을 설계할 때 주의할 점은 전체를 고려하는게 아니라 문제를 부분적으로 나누어, 나누어진 문제에 대한 최적의 해답을 구하게끔 해야한다는 점입니다.  \r\n",
        "\r\n",
        "예: 14원의 잔돈을 줘야하는데 잔돈의 종류가 10원, 7원, 1원이 있으면 잔돈을 가장 빨리 줄 수 있는 방법은?  \r\n",
        "\r\n",
        "답: 7원짜리 2개를 주면 된다.  \r\n",
        "\r\n",
        "탐욕 알고리즘은 10원 1개, 7원 0개, 1원4개로 주는 것\r\n",
        "  \r\n",
        "\r\n",
        "문제506. 14를 10으로 나눈 몫을 출력하시오!\r\n"
      ]
    },
    {
      "cell_type": "code",
      "metadata": {
        "colab": {
          "base_uri": "https://localhost:8080/"
        },
        "id": "jh0XNBCZhVXb",
        "outputId": "ac3a8e7a-8eda-467c-8c62-5fd77a505ac4"
      },
      "source": [
        "import math\r\n",
        "print(math.trunc(14/10))\r\n",
        "int(14/10) # trunc보다 integer가 낫겠다."
      ],
      "execution_count": 98,
      "outputs": [
        {
          "output_type": "stream",
          "text": [
            "1\n"
          ],
          "name": "stdout"
        },
        {
          "output_type": "execute_result",
          "data": {
            "text/plain": [
              "1"
            ]
          },
          "metadata": {
            "tags": []
          },
          "execution_count": 98
        }
      ]
    },
    {
      "cell_type": "code",
      "metadata": {
        "colab": {
          "base_uri": "https://localhost:8080/"
        },
        "id": "y75FR4nphpEa",
        "outputId": "04de4a5d-ee3c-4cab-de8e-f03f0cc008c1"
      },
      "source": [
        "print(14//10) # // 슬래쉬 2개는 몫을 구하는 방법이다. 이게 best!"
      ],
      "execution_count": 99,
      "outputs": [
        {
          "output_type": "stream",
          "text": [
            "1\n"
          ],
          "name": "stdout"
        }
      ]
    },
    {
      "cell_type": "markdown",
      "metadata": {
        "id": "HJx4RohUhzNC"
      },
      "source": [
        "문제507. 14를 10으로 나눈 나머지값을 출력하시오!"
      ]
    },
    {
      "cell_type": "code",
      "metadata": {
        "colab": {
          "base_uri": "https://localhost:8080/"
        },
        "id": "Y8LjzbYXh1_a",
        "outputId": "f4800ef3-ccc0-46bc-a245-6cf7d9a16ab0"
      },
      "source": [
        "14%10"
      ],
      "execution_count": 100,
      "outputs": [
        {
          "output_type": "execute_result",
          "data": {
            "text/plain": [
              "4"
            ]
          },
          "metadata": {
            "tags": []
          },
          "execution_count": 100
        }
      ]
    },
    {
      "cell_type": "markdown",
      "metadata": {
        "id": "NzasNawxiIQK"
      },
      "source": [
        "문제508. 숫자를 물어보게하고 숫자를 10으로 나눈 몫과 숫자를 10으로 나눈 나머지값을 출력하게 하시오!  \r\n",
        "```\r\n",
        "숫자를 입력하세요 ~ 14\r\n",
        "몫은: 1\r\n",
        "나머지값은 : 4\r\n",
        "```"
      ]
    },
    {
      "cell_type": "code",
      "metadata": {
        "colab": {
          "base_uri": "https://localhost:8080/"
        },
        "id": "hhxVad19iO1X",
        "outputId": "7a90cd31-145b-4bb7-add2-7fa8bd89e76d"
      },
      "source": [
        "a = int(input('숫자를 입력하세요 ~ '))\r\n",
        "print(f'몫은 : {a//10}')\r\n",
        "print(f'나머지값은 : {a%10}')"
      ],
      "execution_count": 105,
      "outputs": [
        {
          "output_type": "stream",
          "text": [
            "숫자를 입력하세요 ~ 14\n",
            "몫은 : 1\n",
            "나머지값은 : 4\n"
          ],
          "name": "stdout"
        }
      ]
    },
    {
      "cell_type": "code",
      "metadata": {
        "id": "su7WQBnPmurB"
      },
      "source": [
        ""
      ],
      "execution_count": null,
      "outputs": []
    },
    {
      "cell_type": "markdown",
      "metadata": {
        "id": "I52r7MHTi8qh"
      },
      "source": [
        "문제509. 아래의 잔돈 리스트를 만들고 잔돈 리스트의 첫번째 요소로 나눈 몫과 나머지값이 출력되게 하시오\r\n",
        "```\r\n",
        "coin = [10,7.1]\r\n",
        "\r\n",
        "숫자를 입력하세요 ~ 14\r\n",
        "\r\n",
        "몫은: 1\r\n",
        "나머지값은: 4\r\n",
        "```"
      ]
    },
    {
      "cell_type": "code",
      "metadata": {
        "colab": {
          "base_uri": "https://localhost:8080/"
        },
        "id": "3xBp3sA2jHUN",
        "outputId": "4f735c32-aac8-4b1f-a0f7-79756f432712"
      },
      "source": [
        "coin = [10,7.1]\r\n",
        "a = int(input('숫자를 입력하세요 ~ '))\r\n",
        "print(f'몫은 : {a//coin[0]}')\r\n",
        "print(f'나머지값은 : {a%coin[0]}')"
      ],
      "execution_count": 110,
      "outputs": [
        {
          "output_type": "stream",
          "text": [
            "숫자를 입력하세요 ~ 14\n",
            "몫은 : 1\n",
            "나머지값은 : 4\n"
          ],
          "name": "stdout"
        }
      ]
    },
    {
      "cell_type": "markdown",
      "metadata": {
        "id": "tkv3bV8hjow9"
      },
      "source": [
        "문제510. 위의 코드를 함수로 만들어서 실행되게 하시오!"
      ]
    },
    {
      "cell_type": "code",
      "metadata": {
        "colab": {
          "base_uri": "https://localhost:8080/"
        },
        "id": "Z76eZMq0jqsf",
        "outputId": "60da82a3-78e1-4ed8-b009-c6a2db2a34a1"
      },
      "source": [
        "def greedy():\r\n",
        "    coin = [10,7,1]\r\n",
        "    a = int(input('숫자를 입력하세요 ~ '))\r\n",
        "    print(f'몫은 : {a//coin[0]}')\r\n",
        "    print(f'나머지값은 : {a%coin[0]}')\r\n",
        "greedy()"
      ],
      "execution_count": 119,
      "outputs": [
        {
          "output_type": "stream",
          "text": [
            "숫자를 입력하세요 ~ 14\n",
            "몫은 : 1\n",
            "나머지값은 : 4\n"
          ],
          "name": "stdout"
        }
      ]
    },
    {
      "cell_type": "markdown",
      "metadata": {
        "id": "O-BuxhPOkRMs"
      },
      "source": [
        "문제511. 필수 알고리즘 4번째) 탐욕 알고리즘을 파이썬으로 구현하시오(점심시간 문제)\r\n",
        "```\r\n",
        "잔돈을 입력하세요 ~ 14\r\n",
        "10원 동전 1개, 7원 동전 0개, 1원 동전 4개로 줍니다.\r\n",
        "```"
      ]
    },
    {
      "cell_type": "code",
      "metadata": {
        "colab": {
          "base_uri": "https://localhost:8080/"
        },
        "id": "yePadAiGkQwE",
        "outputId": "3c0f543c-0711-4e54-c1cd-855a2f7bb8d7"
      },
      "source": [
        "def greedy():\r\n",
        "    coin = [10,7,1]\r\n",
        "\r\n",
        "    a = int(input('잔돈을 입력하세요 ~ '))\r\n",
        "    b = []\r\n",
        "    for i in coin[:-1]:\r\n",
        "        print(f'{i}원 동전 {a//i}개, ',end = '')\r\n",
        "        a = a%i\r\n",
        "    print(f'{coin[-1]}원 동전 {a//coin[-1]}개로 줍니다.')\r\n",
        "greedy()"
      ],
      "execution_count": 140,
      "outputs": [
        {
          "output_type": "stream",
          "text": [
            "잔돈을 입력하세요 ~ 109\n",
            "10원 동전 10개, 7원 동전 1개, 1원 동전 2개로 줍니다.\n"
          ],
          "name": "stdout"
        }
      ]
    },
    {
      "cell_type": "markdown",
      "metadata": {
        "id": "iV4XtOlt6yUU"
      },
      "source": [
        "정렬을 추가해야 한다."
      ]
    },
    {
      "cell_type": "code",
      "metadata": {
        "colab": {
          "base_uri": "https://localhost:8080/"
        },
        "id": "rUFa6Ox-60Ps",
        "outputId": "de65aad0-9734-41ef-9094-f10da8fd208a"
      },
      "source": [
        "def greedy():\r\n",
        "    coin = [10,7,1]\r\n",
        "    coin = sorted(coin, reverse = True) # 큰값이 앞으로 오게 정렬\r\n",
        "    a = int(input('잔돈을 입력하세요 ~ '))\r\n",
        "    b = []\r\n",
        "    for i in coin[:-1]:\r\n",
        "        print(f'{i}원 동전 {a//i}개, ',end = '')\r\n",
        "        a = a%i\r\n",
        "    print(f'{coin[-1]}원 동전 {a//coin[-1]}개로 줍니다.')\r\n",
        "greedy()"
      ],
      "execution_count": 141,
      "outputs": [
        {
          "output_type": "stream",
          "text": [
            "잔돈을 입력하세요 ~ 117\n",
            "10원 동전 11개, 7원 동전 1개, 1원 동전 0개로 줍니다.\n"
          ],
          "name": "stdout"
        }
      ]
    },
    {
      "cell_type": "markdown",
      "metadata": {
        "id": "qGiaTuf-796p"
      },
      "source": [
        "# 156. 필수 알고리즘5 (재귀알고리즘)  \r\n",
        "\r\n",
        "재귀 알고리즘은 처음에는 이해하기가 어려운 알고리즘이지만 많이 연습해서 잘 알아두면 loop문을 최소화 하면서 코드를 간단하게 작성할 수 있는 알고리즘입니다.  \r\n",
        "\r\n",
        "1. 재귀함수란?  \r\n",
        "```\r\n",
        "반복문 + 스택구조가 결합된 함수입니다.\r\n",
        "             ↓\r\n",
        "        후입선출(나중에 들어간게 먼저 나오는 구조)\r\n",
        "             ↓\r\n",
        "        관련 동영상\r\n",
        "```\r\n",
        "2. 재귀함수의 특징\r\n",
        "재귀함수는 함수 내에서 다시 자기 자신을 호출한 후 그 함수가 끝날때까지 함수 호출 이후의 명령문을 수행하지 않습니다.  \r\n",
        "\r\n",
        "3. 함수 내에서 다른 함수를 호출하는 예제  \r\n"
      ]
    },
    {
      "cell_type": "code",
      "metadata": {
        "colab": {
          "base_uri": "https://localhost:8080/"
        },
        "id": "mGVoJZ8k-lbI",
        "outputId": "51dec62b-9d31-4f0b-d95b-5beac19a3aa7"
      },
      "source": [
        "def hap(a,b):\r\n",
        "    return (a+b)\r\n",
        "def gob(a,b):\r\n",
        "    return (a*b)\r\n",
        "def hap_gob(a,b):\r\n",
        "    k = hap(a,b)\r\n",
        "    m = gob(a,b)\r\n",
        "    return k+m\r\n",
        "print(hap_gob(2,3))"
      ],
      "execution_count": 146,
      "outputs": [
        {
          "output_type": "stream",
          "text": [
            "11\n"
          ],
          "name": "stdout"
        }
      ]
    },
    {
      "cell_type": "markdown",
      "metadata": {
        "id": "JusyKGK3_LTb"
      },
      "source": [
        "4. 숫자를 입력하면 1부터 해당 숫자까지의 합을 출력하는 함수를 생성하시오\r\n",
        "```\r\n",
        "print(add_func(5))\r\n",
        "결과 : 15\r\n",
        "```"
      ]
    },
    {
      "cell_type": "code",
      "metadata": {
        "colab": {
          "base_uri": "https://localhost:8080/"
        },
        "id": "0tVNOXXz_UzT",
        "outputId": "6a6cfd0c-9979-460d-e5d6-b85806413208"
      },
      "source": [
        "def add_func(num):\r\n",
        "    cnt = 0\r\n",
        "    for i in range(num+1):\r\n",
        "        cnt += i\r\n",
        "    return cnt\r\n",
        "add_func(5)\r\n"
      ],
      "execution_count": 149,
      "outputs": [
        {
          "output_type": "execute_result",
          "data": {
            "text/plain": [
              "15"
            ]
          },
          "metadata": {
            "tags": []
          },
          "execution_count": 149
        }
      ]
    },
    {
      "cell_type": "markdown",
      "metadata": {
        "id": "YT1g5RwgAAnO"
      },
      "source": [
        "5. 위의 add_func 함수를 재귀함수로 구현하시오!  \r\n",
        "(재귀함수를 사용하면 loop문을 사용하지 않아도 됩니다.)"
      ]
    },
    {
      "cell_type": "code",
      "metadata": {
        "colab": {
          "base_uri": "https://localhost:8080/"
        },
        "id": "lQubF09tANbU",
        "outputId": "a05b953d-e0ab-4b53-d9cb-41477b3de9ad"
      },
      "source": [
        "def add_func(n):\r\n",
        "    if n == 0:\r\n",
        "        return 0\r\n",
        "    else:\r\n",
        "        return n + add_func(n-1)\r\n",
        "add_func(2)"
      ],
      "execution_count": 155,
      "outputs": [
        {
          "output_type": "execute_result",
          "data": {
            "text/plain": [
              "3"
            ]
          },
          "metadata": {
            "tags": []
          },
          "execution_count": 155
        }
      ]
    },
    {
      "cell_type": "markdown",
      "metadata": {
        "id": "HeZRBkVpCImv"
      },
      "source": [
        "문제512. factorial 함수를 만드시오.\r\n",
        "```\r\n",
        "print(factorial(5))\r\n",
        "5x4x3x2x1 = 120\r\n",
        "```"
      ]
    },
    {
      "cell_type": "code",
      "metadata": {
        "colab": {
          "base_uri": "https://localhost:8080/"
        },
        "id": "IMs6h2yoCKx1",
        "outputId": "1fb21746-b0e0-4613-a6d3-98f4b5ab8fd1"
      },
      "source": [
        "def factorial(n):\r\n",
        "    if n == 1:\r\n",
        "        return 1\r\n",
        "    else:\r\n",
        "        return n * factorial(n-1)\r\n",
        "factorial(5)"
      ],
      "execution_count": 158,
      "outputs": [
        {
          "output_type": "execute_result",
          "data": {
            "text/plain": [
              "120"
            ]
          },
          "metadata": {
            "tags": []
          },
          "execution_count": 158
        }
      ]
    },
    {
      "cell_type": "markdown",
      "metadata": {
        "id": "itJVE4Q8Dwjb"
      },
      "source": [
        "문제513. 위의 factorial 함수를 재귀를 이용하지 말고 for loop문으로 구현하시오."
      ]
    },
    {
      "cell_type": "code",
      "metadata": {
        "colab": {
          "base_uri": "https://localhost:8080/"
        },
        "id": "1x44ky6hCyRW",
        "outputId": "14bc5ae8-1540-471b-97fd-a1e7913fa162"
      },
      "source": [
        "def factorial(n):\r\n",
        "    a = 1\r\n",
        "    for i in range(1,n+1):\r\n",
        "        a = a*i\r\n",
        "    return a\r\n",
        "factorial(5)"
      ],
      "execution_count": 163,
      "outputs": [
        {
          "output_type": "execute_result",
          "data": {
            "text/plain": [
              "120"
            ]
          },
          "metadata": {
            "tags": []
          },
          "execution_count": 163
        }
      ]
    },
    {
      "cell_type": "markdown",
      "metadata": {
        "id": "ECQGaZ2DJWgt"
      },
      "source": [
        "문제514. 오라클의 power 함수를 파이썬으로 구현하시오!\r\n",
        "```\r\n",
        "SQL>\r\n",
        "select power(2,3) from dual; # 8\r\n",
        "```"
      ]
    },
    {
      "cell_type": "code",
      "metadata": {
        "colab": {
          "base_uri": "https://localhost:8080/"
        },
        "id": "kzq69Q-VJcO4",
        "outputId": "77869f68-6065-43fd-9dc5-b720b82dcee2"
      },
      "source": [
        "def power(n1,n2):\r\n",
        "    result = 1\r\n",
        "    for i in range(n2):\r\n",
        "        result = result*n1\r\n",
        "    return result\r\n",
        "power(2,3)"
      ],
      "execution_count": 183,
      "outputs": [
        {
          "output_type": "execute_result",
          "data": {
            "text/plain": [
              "8"
            ]
          },
          "metadata": {
            "tags": []
          },
          "execution_count": 183
        }
      ]
    },
    {
      "cell_type": "markdown",
      "metadata": {
        "id": "Xc1h7PY5KweI"
      },
      "source": [
        "문제51. 위의 power 함수를 loop문을 쓰지말고 재귀함수로 구현하시오"
      ]
    },
    {
      "cell_type": "code",
      "metadata": {
        "colab": {
          "base_uri": "https://localhost:8080/"
        },
        "id": "W5aNmbeOKzeL",
        "outputId": "5a436fb1-97fd-412a-c27c-2055d80bc892"
      },
      "source": [
        "def power(n1,n2):\r\n",
        "    if n2 == 0:\r\n",
        "        return 1\r\n",
        "    else:\r\n",
        "        return n1 * power(n1,n2+ 1)\r\n",
        "power(4,3)"
      ],
      "execution_count": 192,
      "outputs": [
        {
          "output_type": "execute_result",
          "data": {
            "text/plain": [
              "64"
            ]
          },
          "metadata": {
            "tags": []
          },
          "execution_count": 192
        }
      ]
    },
    {
      "cell_type": "markdown",
      "metadata": {
        "id": "OdP-Eey_MslB"
      },
      "source": [
        "문제516. 구구단 2단을 아래와 같이 출력하는 함수를 만드시오. for loop문 사용\r\n",
        "```\r\n",
        "print(multi_table_2dan(8))\r\n",
        "2 x 1 = 2\r\n",
        "2 x 2 = 4\r\n",
        ".\r\n",
        ".\r\n",
        "2 x 8 = 16\r\n",
        "```"
      ]
    },
    {
      "cell_type": "code",
      "metadata": {
        "colab": {
          "base_uri": "https://localhost:8080/"
        },
        "id": "m1t3MkTBNASP",
        "outputId": "0e6ce43c-7e19-4815-bbd3-722d5d8262ea"
      },
      "source": [
        "def multi_table_2dan(n):\r\n",
        "    for i in range(1,n+1):\r\n",
        "        print(f'2 x {i} = {2*i}')\r\n",
        "multi_table_2dan(8)"
      ],
      "execution_count": 203,
      "outputs": [
        {
          "output_type": "stream",
          "text": [
            "2 x 1 = 2\n",
            "2 x 2 = 4\n",
            "2 x 3 = 6\n",
            "2 x 4 = 8\n",
            "2 x 5 = 10\n",
            "2 x 6 = 12\n",
            "2 x 7 = 14\n",
            "2 x 8 = 16\n"
          ],
          "name": "stdout"
        }
      ]
    },
    {
      "cell_type": "markdown",
      "metadata": {
        "id": "gttlMAp9ObPN"
      },
      "source": [
        "문제517. 두 숫자를 입력해서 함수를 실행하면 두 숫자의 최대공약수가 출력되는 함수를 생성하시오! (재귀함수 사용하지 않고 loop문 이용)"
      ]
    },
    {
      "cell_type": "code",
      "metadata": {
        "colab": {
          "base_uri": "https://localhost:8080/"
        },
        "id": "HORdv98dPOlE",
        "outputId": "9cf170f4-7857-48d9-af7a-adead6b4cc64"
      },
      "source": [
        "def gcd(n1,n2):\r\n",
        "    for i in range(min(n1,n2),1,-1):\r\n",
        "        if n1%i == 0 and n2%i == 0:\r\n",
        "            return i\r\n",
        "gcd(16,24)"
      ],
      "execution_count": 216,
      "outputs": [
        {
          "output_type": "execute_result",
          "data": {
            "text/plain": [
              "8"
            ]
          },
          "metadata": {
            "tags": []
          },
          "execution_count": 216
        }
      ]
    },
    {
      "cell_type": "markdown",
      "metadata": {
        "id": "oHl2LoqgQIZ6"
      },
      "source": [
        "문제518. 필수 알고리즘 5번쨰) 최대공약수를 출력하는 함수를 재귀함수로 구현하시오."
      ]
    },
    {
      "cell_type": "code",
      "metadata": {
        "colab": {
          "base_uri": "https://localhost:8080/"
        },
        "id": "OwoHTBx3QXgI",
        "outputId": "df59fcc7-0cd7-49a7-9608-23f939448f09"
      },
      "source": [
        "def gcd(n1,n2): \r\n",
        "    if n2 == 0:\r\n",
        "        return n1  #\r\n",
        "    else:\r\n",
        "        return gcd(n2, n1%n2)   # 너무 어렵다...\r\n",
        "print(gcd(16,24))    "
      ],
      "execution_count": 245,
      "outputs": [
        {
          "output_type": "execute_result",
          "data": {
            "text/plain": [
              "16"
            ]
          },
          "metadata": {
            "tags": []
          },
          "execution_count": 245
        }
      ]
    },
    {
      "cell_type": "code",
      "metadata": {
        "colab": {
          "base_uri": "https://localhost:8080/"
        },
        "id": "bqleB8HrmBSh",
        "outputId": "cdb8df51-d211-4d23-9592-f117746d0e38"
      },
      "source": [
        "def gcd(n1,n2): \r\n",
        "    if n2 == 0:\r\n",
        "        return n1  #\r\n",
        "    else:\r\n",
        "        return gcd(n2, n1%n2)   # 너무 어렵다...\r\n",
        "print(gcd(16,24))    "
      ],
      "execution_count": 273,
      "outputs": [
        {
          "output_type": "stream",
          "text": [
            "8\n"
          ],
          "name": "stdout"
        }
      ]
    },
    {
      "cell_type": "markdown",
      "metadata": {
        "id": "UWTzXBY_abFa"
      },
      "source": [
        "* 버블정렬을 재귀함수로 구현  \r\n",
        "\r\n",
        "문제519. 함수를 만들 때 아래와 같이 입력매개변수에 기본값을 지정해서 만들수가 있습니다. 다음과 같이 수행하세요."
      ]
    },
    {
      "cell_type": "code",
      "metadata": {
        "colab": {
          "base_uri": "https://localhost:8080/"
        },
        "id": "iSvZLDtcaqs0",
        "outputId": "ff23be05-e9e4-4a5e-ec61-e6922f5757de"
      },
      "source": [
        "def bubble_a(x,k=1):\r\n",
        "    return x + k\r\n",
        "a = [1,2,5,4,3]\r\n",
        "print(bubble_a(3))"
      ],
      "execution_count": 253,
      "outputs": [
        {
          "output_type": "stream",
          "text": [
            "4\n"
          ],
          "name": "stdout"
        }
      ]
    },
    {
      "cell_type": "markdown",
      "metadata": {
        "id": "2BjwZFc2bgYZ"
      },
      "source": [
        "문제520. 버블 정렬했던 a 리스트와 함수를 가져와 실행합니다."
      ]
    },
    {
      "cell_type": "code",
      "metadata": {
        "id": "tGsZMxWxbUD-"
      },
      "source": [
        "def bubble_sort(a):\r\n",
        "    j = -1\r\n",
        "    cnt = 0\r\n",
        "    temp = ''\r\n",
        "    b = 1 # 계산을 줄이기 위해서 추가함\r\n",
        "    while True:\r\n",
        "        n = 0\r\n",
        "        j += 1\r\n",
        "        for i in range(len(a)-j-b): # 과도한 계산을 막기 위해서 하나씩 빼줌 처음에 정렬된 제일 큰 수는 안봐도 되니까\r\n",
        "            temp = n\r\n",
        "            if a[i] > a[i+1]:\r\n",
        "                a[i],a[i+1] = a[i+1],a[i]\r\n",
        "                n += 1\r\n",
        "            print(a,n,temp,i, len(a)-j-b)\r\n",
        "            cnt += 1\r\n",
        "            if n == temp and i == len(a)-j-b-1:\r\n",
        "                b += 1\r\n",
        "        if n == 0:\r\n",
        "            break\r\n",
        "    print(cnt)   \r\n",
        "    return a\r\n",
        "a=[10,9,1,2,3,4,5,6,7,8]"
      ],
      "execution_count": null,
      "outputs": []
    },
    {
      "cell_type": "markdown",
      "metadata": {
        "id": "SHBPLyNpcUL2"
      },
      "source": [
        "# 157. 필수 알고리즘 (LUR 알고리즘)\r\n",
        "                          ↓\r\n",
        "                    Least Recent Used\r\n",
        "LRU 알고리즘이란 Oracle DATABASE의 메모리 관리를 효율적으로 하기 위해 고안된 대표적인 알고리즘으로 최신 데이터를 메모리에 유지시키고 오래된 데이터는 메모리에서 내보내게 하는 알고리즘\r\n",
        "\r\n",
        "메모리에서 데이터를 조회하는 것(1초) --> cache hit  \r\n",
        "메모리에 없어서 디스크에서 조회하는 것(5초) --> cache miss\r\n",
        "\r\n",
        "한번 디스크에서 읽은 데이터를 메모리에 올려놓고 메모리에서 빠르게 데이터를 조회할 수 있도록 LRU 알고리즘을 구현해서 만든 소프트웨어 입니다. 그런데 이 메모리 공간이 한정된 공간이다 보니 무한히 데이터를 올릴 수 없어서 오래된 데이터는 메모리에서 빠져나가게 되고 최신 데이터가 그 빠져나간 자리에 올라가게 됩니다.  \r\n",
        "최근에 내가 검색한 데이터는 다시 검색할 확률이 높은 데이터 이므로 메모리에 오래 두도록 하고 예전에 검색한 데이턴느 메모리에서 빠져나가게 합니다."
      ]
    },
    {
      "cell_type": "markdown",
      "metadata": {
        "id": "ZOh0o1_hj6FC"
      },
      "source": [
        "문제521. 오늘의 마지막 문제) 구구단 2단을 재귀함수로 출력하시오."
      ]
    },
    {
      "cell_type": "code",
      "metadata": {
        "colab": {
          "base_uri": "https://localhost:8080/"
        },
        "id": "Y29Pl9KIcWNs",
        "outputId": "3f1df8c1-6d6a-4f32-847b-4cfc508b84a7"
      },
      "source": [
        "def multi_table_2(n,k=1):\r\n",
        "    if n == 0:\r\n",
        "        return \r\n",
        "    else:\r\n",
        "        print(f'2 * {k} = {2*k}')\r\n",
        "        return multi_table_2(n-1,k+1)\r\n",
        "\r\n",
        "multi_table_2(9)"
      ],
      "execution_count": 271,
      "outputs": [
        {
          "output_type": "stream",
          "text": [
            "2 * 1 = 2\n",
            "2 * 2 = 4\n",
            "2 * 3 = 6\n",
            "2 * 4 = 8\n",
            "2 * 5 = 10\n",
            "2 * 6 = 12\n",
            "2 * 7 = 14\n",
            "2 * 8 = 16\n",
            "2 * 9 = 18\n"
          ],
          "name": "stdout"
        }
      ]
    }
  ]
}